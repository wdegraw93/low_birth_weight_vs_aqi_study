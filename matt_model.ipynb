{
 "cells": [
  {
   "cell_type": "markdown",
   "id": "f4a0788a-c9a3-4a31-a054-92f53f58ee42",
   "metadata": {},
   "source": [
    "# Modeling"
   ]
  },
  {
   "cell_type": "markdown",
   "id": "64a77e8b-6221-4ba9-b49f-ed6a6dbd2e6f",
   "metadata": {},
   "source": [
    "## Imports"
   ]
  },
  {
   "cell_type": "code",
   "execution_count": 1,
   "id": "b671fa12-4c0c-46a8-b520-b3f58634ea0e",
   "metadata": {
    "execution": {
     "iopub.execute_input": "2023-01-19T19:09:23.028580Z",
     "iopub.status.busy": "2023-01-19T19:09:23.028050Z",
     "iopub.status.idle": "2023-01-19T19:09:24.002396Z",
     "shell.execute_reply": "2023-01-19T19:09:24.002079Z",
     "shell.execute_reply.started": "2023-01-19T19:09:23.028548Z"
    },
    "tags": []
   },
   "outputs": [],
   "source": [
    "import pandas as pd\n",
    "import numpy as np\n",
    "\n",
    "# verify usage of all libraries below\n",
    "import matplotlib.pyplot as plt\n",
    "import seaborn as sns\n",
    "\n",
    "from sklearn.preprocessing import StandardScaler\n",
    "from sklearn.model_selection import train_test_split\n",
    "import matplotlib.pyplot as plt\n",
    "\n",
    "from tensorflow.keras.models import Sequential\n",
    "from tensorflow.keras.layers import Dense, Dropout\n",
    "from tensorflow.keras.utils import to_categorical\n",
    "from tensorflow.keras.metrics import RootMeanSquaredError\n",
    "from tensorflow.keras.regularizers import l2\n",
    "\n",
    "from tensorflow.keras.activations import elu"
   ]
  },
  {
   "cell_type": "markdown",
   "id": "71b06629-f415-40a4-a14e-480357555a7f",
   "metadata": {
    "tags": []
   },
   "source": [
    "## Read Cleaned Data\n",
    "\n",
    "From the data cleaning notebook, there are two different files:\n",
    "1. `annual_aqi_clean.csv` is annual summary data from the EPA's AirData system\n",
    "2. `aqs_by_county_clean.csv` is sensor data that was collected via the EPA's AQS API\n",
    "\n",
    "The annual summary data will contain more information on the number of days in various areas such as days with AQI measureed, good, moderate, unhealthy, very unhealthy, and hazardous air quality.  There are also columns concerning specific pollutant measurements like pm2.5, pm10, and ozone.\n",
    "\n",
    "The AQS data is also annual summary data, but on a measured pollutant basis.  So it contains values for measurements of specific pollutants in counties for the year."
   ]
  },
  {
   "cell_type": "code",
   "execution_count": 2,
   "id": "3be08807-c299-466b-9e5d-0a9d6da54984",
   "metadata": {
    "execution": {
     "iopub.execute_input": "2023-01-19T19:09:24.002985Z",
     "iopub.status.busy": "2023-01-19T19:09:24.002834Z",
     "iopub.status.idle": "2023-01-19T19:09:24.014389Z",
     "shell.execute_reply": "2023-01-19T19:09:24.014036Z",
     "shell.execute_reply.started": "2023-01-19T19:09:24.002975Z"
    },
    "tags": []
   },
   "outputs": [],
   "source": [
    "# Annual AQI summary data\n",
    "aqi = pd.read_csv('data/annual_aqi_clean.csv')\n",
    "\n",
    "# AQS sensor data collected via API\n",
    "aqs = pd.read_csv('data/aqs_by_county_clean.csv')"
   ]
  },
  {
   "cell_type": "code",
   "execution_count": 36,
   "id": "a8d62931-33df-4b0a-b1b8-d8f3216b4162",
   "metadata": {
    "execution": {
     "iopub.execute_input": "2023-01-19T19:09:28.610892Z",
     "iopub.status.busy": "2023-01-19T19:09:28.610647Z",
     "iopub.status.idle": "2023-01-19T19:09:28.614197Z",
     "shell.execute_reply": "2023-01-19T19:09:28.613813Z",
     "shell.execute_reply.started": "2023-01-19T19:09:28.610880Z"
    },
    "tags": []
   },
   "outputs": [
    {
     "data": {
      "text/plain": [
       "Index(['state', 'county', 'year', 'days_with_aqi', 'good_days', 'mod_days',\n",
       "       'uh_sens_days', 'uh_days', 'v_uh_days', 'haz_days', 'max_aqi',\n",
       "       '90_per_aqi', 'median_aqi', 'days_co', 'days_no2', 'days_ozone',\n",
       "       'days_pm2.5', 'days_pm10', 'births_low', 'avg_weight_low',\n",
       "       'avg_ges_age_low', 'births_all', 'avg_weight_all', 'avg_ges_age_all',\n",
       "       'pct_low', 'high_rate'],\n",
       "      dtype='object')"
      ]
     },
     "execution_count": 36,
     "metadata": {},
     "output_type": "execute_result"
    }
   ],
   "source": [
    "aqi.columns"
   ]
  },
  {
   "cell_type": "markdown",
   "id": "f3ca6efa-92e7-456e-b64f-76d91114ed9b",
   "metadata": {},
   "source": [
    "### Filter Data\n",
    "\n",
    "The EPA generally uses 75% as a number of observations to ensure relevancy.  So we'll filter the aqi data to only look at records where `days_with_aqi` is greater than 75% of the days in a year."
   ]
  },
  {
   "cell_type": "code",
   "execution_count": 8,
   "id": "c917e653-dcb8-4e22-be95-d0e9bda0ef0f",
   "metadata": {
    "execution": {
     "iopub.execute_input": "2023-01-19T19:09:24.042022Z",
     "iopub.status.busy": "2023-01-19T19:09:24.041871Z",
     "iopub.status.idle": "2023-01-19T19:09:24.044940Z",
     "shell.execute_reply": "2023-01-19T19:09:24.044595Z",
     "shell.execute_reply.started": "2023-01-19T19:09:24.042013Z"
    },
    "tags": []
   },
   "outputs": [],
   "source": [
    "aqi = aqi[aqi['days_with_aqi'] > (365 * .75)]"
   ]
  },
  {
   "cell_type": "code",
   "execution_count": 37,
   "id": "bcabe112-e4d8-4200-ae1f-7310bdc741e2",
   "metadata": {
    "execution": {
     "iopub.execute_input": "2023-01-19T19:09:28.615360Z",
     "iopub.status.busy": "2023-01-19T19:09:28.615047Z",
     "iopub.status.idle": "2023-01-19T19:09:28.618511Z",
     "shell.execute_reply": "2023-01-19T19:09:28.618010Z",
     "shell.execute_reply.started": "2023-01-19T19:09:28.615342Z"
    },
    "tags": []
   },
   "outputs": [],
   "source": [
    "X = aqi[['days_with_aqi', 'good_days', 'mod_days',\n",
    "       'uh_sens_days', 'uh_days', 'v_uh_days', 'haz_days', 'max_aqi',\n",
    "       '90_per_aqi', 'median_aqi', 'days_co', 'days_no2', 'days_ozone',\n",
    "       'days_pm2.5', 'days_pm10']]\n",
    "\n",
    "y = aqi['high_rate']"
   ]
  },
  {
   "cell_type": "code",
   "execution_count": 38,
   "id": "47efc53c-a22a-401d-8c57-6f257b9fa129",
   "metadata": {
    "execution": {
     "iopub.execute_input": "2023-01-19T19:09:28.619110Z",
     "iopub.status.busy": "2023-01-19T19:09:28.619005Z",
     "iopub.status.idle": "2023-01-19T19:09:28.625307Z",
     "shell.execute_reply": "2023-01-19T19:09:28.624864Z",
     "shell.execute_reply.started": "2023-01-19T19:09:28.619100Z"
    },
    "tags": []
   },
   "outputs": [
    {
     "data": {
      "text/plain": [
       "((3242, 15), (811, 15), (3242,), (811,))"
      ]
     },
     "execution_count": 38,
     "metadata": {},
     "output_type": "execute_result"
    }
   ],
   "source": [
    "X_train, X_test, y_train, y_test = train_test_split(X,y,\n",
    "                                                    test_size=.2,\n",
    "                                                    stratify=y,\n",
    "                                                    random_state=5)\n",
    "X_train.shape, X_test.shape, y_train.shape, y_test.shape"
   ]
  },
  {
   "cell_type": "code",
   "execution_count": 39,
   "id": "08c2378f-42ce-4c1e-95ed-e6d4f7ee3566",
   "metadata": {
    "execution": {
     "iopub.execute_input": "2023-01-19T19:09:28.626251Z",
     "iopub.status.busy": "2023-01-19T19:09:28.626107Z",
     "iopub.status.idle": "2023-01-19T19:09:28.631765Z",
     "shell.execute_reply": "2023-01-19T19:09:28.631431Z",
     "shell.execute_reply.started": "2023-01-19T19:09:28.626241Z"
    },
    "tags": []
   },
   "outputs": [
    {
     "data": {
      "text/plain": [
       "(0.9019123997532388, 0.9025893958076449)"
      ]
     },
     "execution_count": 39,
     "metadata": {},
     "output_type": "execute_result"
    }
   ],
   "source": [
    "train_baseline = pd.DataFrame(y_train).value_counts(normalize=True).iloc[0]\n",
    "test_baseline = pd.DataFrame(y_test).value_counts(normalize=True).iloc[0]\n",
    "train_baseline, test_baseline"
   ]
  },
  {
   "cell_type": "code",
   "execution_count": 40,
   "id": "b560a89b-6bc3-4ab2-872b-e5f702935f9b",
   "metadata": {
    "execution": {
     "iopub.execute_input": "2023-01-19T19:09:28.637183Z",
     "iopub.status.busy": "2023-01-19T19:09:28.637038Z",
     "iopub.status.idle": "2023-01-19T19:09:28.641699Z",
     "shell.execute_reply": "2023-01-19T19:09:28.641176Z",
     "shell.execute_reply.started": "2023-01-19T19:09:28.637173Z"
    },
    "tags": []
   },
   "outputs": [],
   "source": [
    "ss = StandardScaler()\n",
    "X_train_ss = ss.fit_transform(X_train)\n",
    "X_test_ss = ss.transform(X_test)"
   ]
  },
  {
   "cell_type": "code",
   "execution_count": 41,
   "id": "35399566-e1a2-403e-945e-147015657a6e",
   "metadata": {
    "execution": {
     "iopub.execute_input": "2023-01-19T19:09:28.642490Z",
     "iopub.status.busy": "2023-01-19T19:09:28.642334Z",
     "iopub.status.idle": "2023-01-19T19:09:28.645307Z",
     "shell.execute_reply": "2023-01-19T19:09:28.644841Z",
     "shell.execute_reply.started": "2023-01-19T19:09:28.642474Z"
    }
   },
   "outputs": [],
   "source": [
    "custom_elu = lambda x: elu(x, alpha=1e-3)"
   ]
  },
  {
   "cell_type": "code",
   "execution_count": 42,
   "id": "61e8f791-d2ff-40c1-a7e9-9939466a2372",
   "metadata": {
    "execution": {
     "iopub.execute_input": "2023-01-19T19:09:28.645907Z",
     "iopub.status.busy": "2023-01-19T19:09:28.645807Z",
     "iopub.status.idle": "2023-01-19T19:09:35.204830Z",
     "shell.execute_reply": "2023-01-19T19:09:35.204494Z",
     "shell.execute_reply.started": "2023-01-19T19:09:28.645898Z"
    },
    "tags": []
   },
   "outputs": [
    {
     "name": "stdout",
     "output_type": "stream",
     "text": [
      "Epoch 1/50\n"
     ]
    },
    {
     "name": "stderr",
     "output_type": "stream",
     "text": [
      "2023-01-19 11:09:28.818568: W tensorflow/tsl/platform/profile_utils/cpu_utils.cc:128] Failed to get CPU frequency: 0 Hz\n"
     ]
    },
    {
     "name": "stdout",
     "output_type": "stream",
     "text": [
      "102/102 [==============================] - 1s 2ms/step - loss: 0.3597 - accuracy: 0.9001 - val_loss: 0.3272 - val_accuracy: 0.9026\n",
      "Epoch 2/50\n",
      "102/102 [==============================] - 0s 1ms/step - loss: 0.3180 - accuracy: 0.9019 - val_loss: 0.3183 - val_accuracy: 0.9026\n",
      "Epoch 3/50\n",
      "102/102 [==============================] - 0s 1ms/step - loss: 0.3157 - accuracy: 0.9019 - val_loss: 0.3134 - val_accuracy: 0.9026\n",
      "Epoch 4/50\n",
      "102/102 [==============================] - 0s 1ms/step - loss: 0.3111 - accuracy: 0.9019 - val_loss: 0.3091 - val_accuracy: 0.9026\n",
      "Epoch 5/50\n",
      "102/102 [==============================] - 0s 1ms/step - loss: 0.3073 - accuracy: 0.9019 - val_loss: 0.3086 - val_accuracy: 0.9026\n",
      "Epoch 6/50\n",
      "102/102 [==============================] - 0s 1ms/step - loss: 0.3015 - accuracy: 0.9019 - val_loss: 0.3132 - val_accuracy: 0.9026\n",
      "Epoch 7/50\n",
      "102/102 [==============================] - 0s 1ms/step - loss: 0.2982 - accuracy: 0.9022 - val_loss: 0.3067 - val_accuracy: 0.9026\n",
      "Epoch 8/50\n",
      "102/102 [==============================] - 0s 1ms/step - loss: 0.2981 - accuracy: 0.9013 - val_loss: 0.3043 - val_accuracy: 0.9026\n",
      "Epoch 9/50\n",
      "102/102 [==============================] - 0s 1ms/step - loss: 0.2952 - accuracy: 0.9031 - val_loss: 0.3072 - val_accuracy: 0.9026\n",
      "Epoch 10/50\n",
      "102/102 [==============================] - 0s 1ms/step - loss: 0.2933 - accuracy: 0.9025 - val_loss: 0.3099 - val_accuracy: 0.9026\n",
      "Epoch 11/50\n",
      "102/102 [==============================] - 0s 1ms/step - loss: 0.2925 - accuracy: 0.9031 - val_loss: 0.2986 - val_accuracy: 0.9026\n",
      "Epoch 12/50\n",
      "102/102 [==============================] - 0s 1ms/step - loss: 0.2884 - accuracy: 0.9028 - val_loss: 0.3007 - val_accuracy: 0.9026\n",
      "Epoch 13/50\n",
      "102/102 [==============================] - 0s 1ms/step - loss: 0.2855 - accuracy: 0.9025 - val_loss: 0.3011 - val_accuracy: 0.9026\n",
      "Epoch 14/50\n",
      "102/102 [==============================] - 0s 1ms/step - loss: 0.2842 - accuracy: 0.9038 - val_loss: 0.3031 - val_accuracy: 0.9026\n",
      "Epoch 15/50\n",
      "102/102 [==============================] - 0s 1ms/step - loss: 0.2800 - accuracy: 0.9038 - val_loss: 0.3015 - val_accuracy: 0.9026\n",
      "Epoch 16/50\n",
      "102/102 [==============================] - 0s 1ms/step - loss: 0.2832 - accuracy: 0.9044 - val_loss: 0.2972 - val_accuracy: 0.9014\n",
      "Epoch 17/50\n",
      "102/102 [==============================] - 0s 1ms/step - loss: 0.2833 - accuracy: 0.9031 - val_loss: 0.2973 - val_accuracy: 0.9014\n",
      "Epoch 18/50\n",
      "102/102 [==============================] - 0s 1ms/step - loss: 0.2775 - accuracy: 0.9050 - val_loss: 0.3112 - val_accuracy: 0.9026\n",
      "Epoch 19/50\n",
      "102/102 [==============================] - 0s 1ms/step - loss: 0.2799 - accuracy: 0.9035 - val_loss: 0.2974 - val_accuracy: 0.9014\n",
      "Epoch 20/50\n",
      "102/102 [==============================] - 0s 1ms/step - loss: 0.2756 - accuracy: 0.9047 - val_loss: 0.3024 - val_accuracy: 0.9026\n",
      "Epoch 21/50\n",
      "102/102 [==============================] - 0s 1ms/step - loss: 0.2749 - accuracy: 0.9047 - val_loss: 0.3007 - val_accuracy: 0.9026\n",
      "Epoch 22/50\n",
      "102/102 [==============================] - 0s 1ms/step - loss: 0.2767 - accuracy: 0.9065 - val_loss: 0.3037 - val_accuracy: 0.9026\n",
      "Epoch 23/50\n",
      "102/102 [==============================] - 0s 1ms/step - loss: 0.2750 - accuracy: 0.9050 - val_loss: 0.3031 - val_accuracy: 0.9026\n",
      "Epoch 24/50\n",
      "102/102 [==============================] - 0s 1ms/step - loss: 0.2749 - accuracy: 0.9062 - val_loss: 0.2999 - val_accuracy: 0.9001\n",
      "Epoch 25/50\n",
      "102/102 [==============================] - 0s 1ms/step - loss: 0.2767 - accuracy: 0.9053 - val_loss: 0.2971 - val_accuracy: 0.9014\n",
      "Epoch 26/50\n",
      "102/102 [==============================] - 0s 1ms/step - loss: 0.2721 - accuracy: 0.9072 - val_loss: 0.3052 - val_accuracy: 0.9001\n",
      "Epoch 27/50\n",
      "102/102 [==============================] - 0s 1ms/step - loss: 0.2692 - accuracy: 0.9078 - val_loss: 0.3005 - val_accuracy: 0.9014\n",
      "Epoch 28/50\n",
      "102/102 [==============================] - 0s 1ms/step - loss: 0.2686 - accuracy: 0.9068 - val_loss: 0.3019 - val_accuracy: 0.8977\n",
      "Epoch 29/50\n",
      "102/102 [==============================] - 0s 1ms/step - loss: 0.2684 - accuracy: 0.9065 - val_loss: 0.3084 - val_accuracy: 0.8989\n",
      "Epoch 30/50\n",
      "102/102 [==============================] - 0s 1ms/step - loss: 0.2692 - accuracy: 0.9062 - val_loss: 0.3011 - val_accuracy: 0.9014\n",
      "Epoch 31/50\n",
      "102/102 [==============================] - 0s 1ms/step - loss: 0.2697 - accuracy: 0.9059 - val_loss: 0.2981 - val_accuracy: 0.8977\n",
      "Epoch 32/50\n",
      "102/102 [==============================] - 0s 1ms/step - loss: 0.2676 - accuracy: 0.9056 - val_loss: 0.3034 - val_accuracy: 0.8964\n",
      "Epoch 33/50\n",
      "102/102 [==============================] - 0s 996us/step - loss: 0.2657 - accuracy: 0.9072 - val_loss: 0.2998 - val_accuracy: 0.8989\n",
      "Epoch 34/50\n",
      "102/102 [==============================] - 0s 1ms/step - loss: 0.2662 - accuracy: 0.9109 - val_loss: 0.3069 - val_accuracy: 0.9014\n",
      "Epoch 35/50\n",
      "102/102 [==============================] - 0s 1ms/step - loss: 0.2672 - accuracy: 0.9090 - val_loss: 0.3089 - val_accuracy: 0.9001\n",
      "Epoch 36/50\n",
      "102/102 [==============================] - 0s 1ms/step - loss: 0.2668 - accuracy: 0.9096 - val_loss: 0.3011 - val_accuracy: 0.9038\n",
      "Epoch 37/50\n",
      "102/102 [==============================] - 0s 1ms/step - loss: 0.2655 - accuracy: 0.9075 - val_loss: 0.2975 - val_accuracy: 0.8952\n",
      "Epoch 38/50\n",
      "102/102 [==============================] - 0s 1ms/step - loss: 0.2678 - accuracy: 0.9044 - val_loss: 0.3024 - val_accuracy: 0.8952\n",
      "Epoch 39/50\n",
      "102/102 [==============================] - 0s 1ms/step - loss: 0.2624 - accuracy: 0.9081 - val_loss: 0.3036 - val_accuracy: 0.8903\n",
      "Epoch 40/50\n",
      "102/102 [==============================] - 0s 1ms/step - loss: 0.2632 - accuracy: 0.9102 - val_loss: 0.2930 - val_accuracy: 0.9026\n",
      "Epoch 41/50\n",
      "102/102 [==============================] - 0s 1ms/step - loss: 0.2683 - accuracy: 0.9081 - val_loss: 0.3055 - val_accuracy: 0.8989\n",
      "Epoch 42/50\n",
      "102/102 [==============================] - 0s 1ms/step - loss: 0.2597 - accuracy: 0.9105 - val_loss: 0.3007 - val_accuracy: 0.8952\n",
      "Epoch 43/50\n",
      "102/102 [==============================] - 0s 1ms/step - loss: 0.2622 - accuracy: 0.9072 - val_loss: 0.2983 - val_accuracy: 0.8952\n",
      "Epoch 44/50\n",
      "102/102 [==============================] - 0s 1ms/step - loss: 0.2636 - accuracy: 0.9105 - val_loss: 0.2952 - val_accuracy: 0.8977\n",
      "Epoch 45/50\n",
      "102/102 [==============================] - 0s 1ms/step - loss: 0.2607 - accuracy: 0.9078 - val_loss: 0.3013 - val_accuracy: 0.9038\n",
      "Epoch 46/50\n",
      "102/102 [==============================] - 0s 1ms/step - loss: 0.2611 - accuracy: 0.9081 - val_loss: 0.2930 - val_accuracy: 0.9026\n",
      "Epoch 47/50\n",
      "102/102 [==============================] - 0s 1ms/step - loss: 0.2621 - accuracy: 0.9096 - val_loss: 0.2959 - val_accuracy: 0.9001\n",
      "Epoch 48/50\n",
      "102/102 [==============================] - 0s 1ms/step - loss: 0.2563 - accuracy: 0.9105 - val_loss: 0.2993 - val_accuracy: 0.8977\n",
      "Epoch 49/50\n",
      "102/102 [==============================] - 0s 1ms/step - loss: 0.2620 - accuracy: 0.9093 - val_loss: 0.2926 - val_accuracy: 0.9014\n",
      "Epoch 50/50\n",
      "102/102 [==============================] - 0s 1ms/step - loss: 0.2552 - accuracy: 0.9087 - val_loss: 0.2960 - val_accuracy: 0.8890\n"
     ]
    }
   ],
   "source": [
    "model = Sequential()\n",
    "model.add(Dense(16, input_dim=X_train_ss.shape[1], activation=custom_elu,\n",
    "               kernel_regularizer=l2(0.001)))\n",
    "# model.add(Dense(300, activation='relu'))\n",
    "# model.add(Dense(100, activation='relu'))\n",
    "model.add(Dropout(0.1))\n",
    "model.add(Dense(60, activation=custom_elu))\n",
    "model.add(Dropout(0.1))\n",
    "model.add(Dense(120, activation=custom_elu))\n",
    "model.add(Dropout(0.1))\n",
    "model.add(Dense(60, activation=custom_elu))\n",
    "model.add(Dense(1, activation='sigmoid'))\n",
    "\n",
    "model.compile(optimizer='adam', \n",
    "              loss='bce', \n",
    "              metrics=['accuracy'])\n",
    "\n",
    "history = model.fit(X_train_ss, y_train,\n",
    "                    batch_size=32, epochs=50,\n",
    "                    validation_data=(X_test_ss, y_test))"
   ]
  },
  {
   "cell_type": "code",
   "execution_count": 43,
   "id": "5196f683-2dd9-4695-9365-0bdb48475402",
   "metadata": {
    "execution": {
     "iopub.execute_input": "2023-01-19T19:09:35.205517Z",
     "iopub.status.busy": "2023-01-19T19:09:35.205388Z",
     "iopub.status.idle": "2023-01-19T19:09:35.277549Z",
     "shell.execute_reply": "2023-01-19T19:09:35.276963Z",
     "shell.execute_reply.started": "2023-01-19T19:09:35.205506Z"
    },
    "tags": []
   },
   "outputs": [
    {
     "data": {
      "image/png": "[encoded data removed]",
      "text/plain": [
       "<Figure size 640x480 with 1 Axes>"
      ]
     },
     "metadata": {},
     "output_type": "display_data"
    }
   ],
   "source": [
    "plt.plot(history.history['accuracy'], label='Train Accuracy')\n",
    "plt.plot(history.history['val_accuracy'], label='Validation Accuracy')\n",
    "plt.ylabel('Accuracy')\n",
    "plt.xlabel('Epochs')\n",
    "plt.legend();"
   ]
  },
  {
   "cell_type": "code",
   "execution_count": 44,
   "id": "43a42560-480c-45a0-a734-93729cdef908",
   "metadata": {
    "execution": {
     "iopub.execute_input": "2023-01-19T19:09:35.278580Z",
     "iopub.status.busy": "2023-01-19T19:09:35.278447Z",
     "iopub.status.idle": "2023-01-19T19:09:35.346013Z",
     "shell.execute_reply": "2023-01-19T19:09:35.345652Z",
     "shell.execute_reply.started": "2023-01-19T19:09:35.278570Z"
    },
    "tags": []
   },
   "outputs": [
    {
     "data": {
      "image/png": "[encoded data removed]",
      "text/plain": [
       "<Figure size 640x480 with 1 Axes>"
      ]
     },
     "metadata": {},
     "output_type": "display_data"
    }
   ],
   "source": [
    "# plt.figure(figsize=(8,8))\n",
    "plt.plot(history.history['loss'], label='Train')\n",
    "plt.plot(history.history['val_loss'], label='Test')\n",
    "plt.xlabel('Epoch')\n",
    "plt.ylabel('Loss')\n",
    "plt.ylim([0,1])\n",
    "plt.legend();"
   ]
  },
  {
   "cell_type": "code",
   "execution_count": null,
   "id": "69c364f5-d0e9-4758-9bc5-0e78d2ba4df9",
   "metadata": {},
   "outputs": [],
   "source": []
  },
  {
   "cell_type": "markdown",
   "id": "56ad4fb7-f85a-4c10-b5ed-ccabfb00fc6f",
   "metadata": {},
   "source": [
    "### Random Forest Classifier"
   ]
  },
  {
   "cell_type": "code",
   "execution_count": 45,
   "id": "d98e2cd1-f73f-467e-8ae3-f41ee47c6917",
   "metadata": {
    "execution": {
     "iopub.execute_input": "2023-01-19T19:09:35.346798Z",
     "iopub.status.busy": "2023-01-19T19:09:35.346693Z",
     "iopub.status.idle": "2023-01-19T19:09:35.456296Z",
     "shell.execute_reply": "2023-01-19T19:09:35.455938Z",
     "shell.execute_reply.started": "2023-01-19T19:09:35.346789Z"
    }
   },
   "outputs": [],
   "source": [
    "from sklearn.ensemble import ExtraTreesClassifier, RandomForestClassifier\n",
    "from sklearn.metrics import ConfusionMatrixDisplay\n",
    "from sklearn.model_selection import (cross_val_score, GridSearchCV, \n",
    "                                     train_test_split)\n",
    "from sklearn.pipeline import Pipeline"
   ]
  },
  {
   "cell_type": "markdown",
   "id": "8cf69656-85e2-4d0c-bf9a-279bf50706a0",
   "metadata": {},
   "source": [
    "#### AQI Data"
   ]
  },
  {
   "cell_type": "code",
   "execution_count": 54,
   "id": "5d894172-7959-46a0-99d7-05292fd05f84",
   "metadata": {
    "execution": {
     "iopub.execute_input": "2023-01-19T19:12:09.689855Z",
     "iopub.status.busy": "2023-01-19T19:12:09.688939Z",
     "iopub.status.idle": "2023-01-19T19:12:09.700937Z",
     "shell.execute_reply": "2023-01-19T19:12:09.699566Z",
     "shell.execute_reply.started": "2023-01-19T19:12:09.689809Z"
    }
   },
   "outputs": [],
   "source": [
    "rand_forest = RandomForestClassifier()"
   ]
  },
  {
   "cell_type": "code",
   "execution_count": 55,
   "id": "c240db37-8c72-4dba-a27f-25326fa911e5",
   "metadata": {
    "execution": {
     "iopub.execute_input": "2023-01-19T19:12:20.743751Z",
     "iopub.status.busy": "2023-01-19T19:12:20.741267Z",
     "iopub.status.idle": "2023-01-19T19:12:21.034630Z",
     "shell.execute_reply": "2023-01-19T19:12:21.034361Z",
     "shell.execute_reply.started": "2023-01-19T19:12:20.743356Z"
    }
   },
   "outputs": [
    {
     "data": {
      "text/html": [
       "<style>#sk-container-id-1 {color: black;background-color: white;}#sk-container-id-1 pre{padding: 0;}#sk-container-id-1 div.sk-toggleable {background-color: white;}#sk-container-id-1 label.sk-toggleable__label {cursor: pointer;display: block;width: 100%;margin-bottom: 0;padding: 0.3em;box-sizing: border-box;text-align: center;}#sk-container-id-1 label.sk-toggleable__label-arrow:before {content: \"▸\";float: left;margin-right: 0.25em;color: #696969;}#sk-container-id-1 label.sk-toggleable__label-arrow:hover:before {color: black;}#sk-container-id-1 div.sk-estimator:hover label.sk-toggleable__label-arrow:before {color: black;}#sk-container-id-1 div.sk-toggleable__content {max-height: 0;max-width: 0;overflow: hidden;text-align: left;background-color: #f0f8ff;}#sk-container-id-1 div.sk-toggleable__content pre {margin: 0.2em;color: black;border-radius: 0.25em;background-color: #f0f8ff;}#sk-container-id-1 input.sk-toggleable__control:checked~div.sk-toggleable__content {max-height: 200px;max-width: 100%;overflow: auto;}#sk-container-id-1 input.sk-toggleable__control:checked~label.sk-toggleable__label-arrow:before {content: \"▾\";}#sk-container-id-1 div.sk-estimator input.sk-toggleable__control:checked~label.sk-toggleable__label {background-color: #d4ebff;}#sk-container-id-1 div.sk-label input.sk-toggleable__control:checked~label.sk-toggleable__label {background-color: #d4ebff;}#sk-container-id-1 input.sk-hidden--visually {border: 0;clip: rect(1px 1px 1px 1px);clip: rect(1px, 1px, 1px, 1px);height: 1px;margin: -1px;overflow: hidden;padding: 0;position: absolute;width: 1px;}#sk-container-id-1 div.sk-estimator {font-family: monospace;background-color: #f0f8ff;border: 1px dotted black;border-radius: 0.25em;box-sizing: border-box;margin-bottom: 0.5em;}#sk-container-id-1 div.sk-estimator:hover {background-color: #d4ebff;}#sk-container-id-1 div.sk-parallel-item::after {content: \"\";width: 100%;border-bottom: 1px solid gray;flex-grow: 1;}#sk-container-id-1 div.sk-label:hover label.sk-toggleable__label {background-color: #d4ebff;}#sk-container-id-1 div.sk-serial::before {content: \"\";position: absolute;border-left: 1px solid gray;box-sizing: border-box;top: 0;bottom: 0;left: 50%;z-index: 0;}#sk-container-id-1 div.sk-serial {display: flex;flex-direction: column;align-items: center;background-color: white;padding-right: 0.2em;padding-left: 0.2em;position: relative;}#sk-container-id-1 div.sk-item {position: relative;z-index: 1;}#sk-container-id-1 div.sk-parallel {display: flex;align-items: stretch;justify-content: center;background-color: white;position: relative;}#sk-container-id-1 div.sk-item::before, #sk-container-id-1 div.sk-parallel-item::before {content: \"\";position: absolute;border-left: 1px solid gray;box-sizing: border-box;top: 0;bottom: 0;left: 50%;z-index: -1;}#sk-container-id-1 div.sk-parallel-item {display: flex;flex-direction: column;z-index: 1;position: relative;background-color: white;}#sk-container-id-1 div.sk-parallel-item:first-child::after {align-self: flex-end;width: 50%;}#sk-container-id-1 div.sk-parallel-item:last-child::after {align-self: flex-start;width: 50%;}#sk-container-id-1 div.sk-parallel-item:only-child::after {width: 0;}#sk-container-id-1 div.sk-dashed-wrapped {border: 1px dashed gray;margin: 0 0.4em 0.5em 0.4em;box-sizing: border-box;padding-bottom: 0.4em;background-color: white;}#sk-container-id-1 div.sk-label label {font-family: monospace;font-weight: bold;display: inline-block;line-height: 1.2em;}#sk-container-id-1 div.sk-label-container {text-align: center;}#sk-container-id-1 div.sk-container {/* jupyter's `normalize.less` sets `[hidden] { display: none; }` but bootstrap.min.css set `[hidden] { display: none !important; }` so we also need the `!important` here to be able to override the default hidden behavior on the sphinx rendered scikit-learn.org. See: https://github.com/scikit-learn/scikit-learn/issues/21755 */display: inline-block !important;position: relative;}#sk-container-id-1 div.sk-text-repr-fallback {display: none;}</style><div id=\"sk-container-id-1\" class=\"sk-top-container\"><div class=\"sk-text-repr-fallback\"><pre>RandomForestClassifier()</pre><b>In a Jupyter environment, please rerun this cell to show the HTML representation or trust the notebook. <br />On GitHub, the HTML representation is unable to render, please try loading this page with nbviewer.org.</b></div><div class=\"sk-container\" hidden><div class=\"sk-item\"><div class=\"sk-estimator sk-toggleable\"><input class=\"sk-toggleable__control sk-hidden--visually\" id=\"sk-estimator-id-1\" type=\"checkbox\" checked><label for=\"sk-estimator-id-1\" class=\"sk-toggleable__label sk-toggleable__label-arrow\">RandomForestClassifier</label><div class=\"sk-toggleable__content\"><pre>RandomForestClassifier()</pre></div></div></div></div></div>"
      ],
      "text/plain": [
       "RandomForestClassifier()"
      ]
     },
     "execution_count": 55,
     "metadata": {},
     "output_type": "execute_result"
    }
   ],
   "source": [
    "rand_forest.fit(X_train, y_train)"
   ]
  },
  {
   "cell_type": "code",
   "execution_count": 56,
   "id": "2b46fab1-20ba-49bf-a1b3-aa1e01d310af",
   "metadata": {
    "execution": {
     "iopub.execute_input": "2023-01-19T19:12:43.123829Z",
     "iopub.status.busy": "2023-01-19T19:12:43.122625Z",
     "iopub.status.idle": "2023-01-19T19:12:44.180686Z",
     "shell.execute_reply": "2023-01-19T19:12:44.180303Z",
     "shell.execute_reply.started": "2023-01-19T19:12:43.123759Z"
    }
   },
   "outputs": [
    {
     "data": {
      "text/plain": [
       "0.9056140501055754"
      ]
     },
     "execution_count": 56,
     "metadata": {},
     "output_type": "execute_result"
    }
   ],
   "source": [
    "cross_val_score(rand_forest, X_train, y_train).mean()"
   ]
  },
  {
   "cell_type": "code",
   "execution_count": 64,
   "id": "ce5310f7-5342-488b-b30c-892414cac1cf",
   "metadata": {
    "execution": {
     "iopub.execute_input": "2023-01-19T19:21:02.885045Z",
     "iopub.status.busy": "2023-01-19T19:21:02.883868Z",
     "iopub.status.idle": "2023-01-19T19:21:02.955224Z",
     "shell.execute_reply": "2023-01-19T19:21:02.954801Z",
     "shell.execute_reply.started": "2023-01-19T19:21:02.885010Z"
    },
    "tags": []
   },
   "outputs": [
    {
     "data": {
      "text/plain": [
       "(1.0, 0.8976572133168927)"
      ]
     },
     "execution_count": 64,
     "metadata": {},
     "output_type": "execute_result"
    }
   ],
   "source": [
    "# score with defaults\n",
    "rand_forest.score(X_train, y_train), rand_forest.score(X_test, y_test)"
   ]
  },
  {
   "cell_type": "code",
   "execution_count": 80,
   "id": "f8174861-0fce-4b0f-b79f-ecebad86c252",
   "metadata": {
    "execution": {
     "iopub.execute_input": "2023-01-19T19:57:58.371133Z",
     "iopub.status.busy": "2023-01-19T19:57:58.369000Z",
     "iopub.status.idle": "2023-01-19T19:57:58.400478Z",
     "shell.execute_reply": "2023-01-19T19:57:58.399752Z",
     "shell.execute_reply.started": "2023-01-19T19:57:58.371067Z"
    },
    "tags": []
   },
   "outputs": [],
   "source": [
    "# configure pipeline\n",
    "rf_pipe = Pipeline([\n",
    "    ('rf', RandomForestClassifier())\n",
    "])\n",
    "\n",
    "# min_samples_leaf\n",
    "# criterion\n",
    "\n",
    "rf_params = {\n",
    "    'rf__n_estimators': [100, 125, 150],\n",
    "    'rf__max_depth': [5, 15, 25],\n",
    "    'rf__min_samples_leaf': [3, 5, 6, 7],\n",
    "    'rf__bootstrap': [False],\n",
    "    'rf__warm_start': [True, False],\n",
    "    'rf__max_features': ['sqrt', 3, 6, 8, 9]\n",
    "}\n",
    "\n",
    "\n",
    "# attempt 6 \n",
    "# rf_params = {\n",
    "#     'rf__n_estimators': [100, 125, 150],\n",
    "#     'rf__max_depth': [5, 15, 25],\n",
    "#     'rf__min_samples_leaf': [3, 5, 6, 7],\n",
    "#     'rf__bootstrap': [False],\n",
    "#     'rf__warm_start': [True, False],\n",
    "#     'rf__max_features': ['sqrt', 3, 6, 8, 9]\n",
    "# }\n",
    "\n",
    "# attempt 5 - first parameters with leaf instead of split\n",
    "# rf_params = {\n",
    "#     'rf__n_estimators': [10, 50, 100],\n",
    "#     'rf__max_depth': [5, 10, 15],\n",
    "#     'rf__min_samples_leaf': [2, 3, 4, 5],\n",
    "#     'rf__bootstrap': [True, False],\n",
    "#     'rf__warm_start': [True, False],\n",
    "#     'rf__max_features': ['sqrt', 3, 4, 5, 6]\n",
    "# }\n",
    "\n",
    "# attempt 4\n",
    "# rf_params = {\n",
    "#     'rf__n_estimators': [100, 125, 150, 200],\n",
    "#     'rf__max_depth': [10, 15, 20, 25, 100],\n",
    "#     'rf__min_samples_leaf': [4, 5, 6, 7],\n",
    "#     'rf__bootstrap': [False],\n",
    "#     'rf__warm_start': [True, False],\n",
    "#     'rf__max_features': ['sqrt', 4, 5, 6, 7]\n",
    "# }\n",
    "\n",
    "# attempt 3\n",
    "# rf_params = {\n",
    "#     'rf__n_estimators': [100, 125, 150, 200],\n",
    "#     'rf__max_depth': [10, 15, 20, 25],\n",
    "#     'rf__min_samples_split': [4, 5, 6, 7],\n",
    "#     'rf__bootstrap': [False],\n",
    "#     'rf__warm_start': [True, False],\n",
    "#     'rf__max_features': ['sqrt', 4, 5, 6, 7]\n",
    "# }\n",
    "\n",
    "# attempt 2\n",
    "# rf_params = {\n",
    "#     'rf__n_estimators': [50, 100, 150],\n",
    "#     'rf__max_depth': [10, 20, 50],\n",
    "#     'rf__min_samples_split': [5, 10, 25],\n",
    "#     'rf__bootstrap': [True, False],\n",
    "#     'rf__warm_start': [True, False],\n",
    "#     'rf__max_features': ['sqrt', 5, 10, 25]\n",
    "# }\n",
    "\n",
    "# attempt 1\n",
    "# rf_params = {\n",
    "#     'rf__n_estimators': [10, 50, 100],\n",
    "#     'rf__max_depth': [5, 10, 15],\n",
    "#     'rf__min_samples_split': [2, 3, 4, 5],\n",
    "#     'rf__bootstrap': [True, False],\n",
    "#     'rf__warm_start': [True, False],\n",
    "#     'rf__max_features': ['sqrt', 3, 4, 5, 6]\n",
    "# }"
   ]
  },
  {
   "cell_type": "code",
   "execution_count": 81,
   "id": "9ee762f1-c53c-4e49-b776-100a55054aca",
   "metadata": {
    "execution": {
     "iopub.execute_input": "2023-01-19T19:58:13.598895Z",
     "iopub.status.busy": "2023-01-19T19:58:13.598398Z",
     "iopub.status.idle": "2023-01-19T19:59:55.838254Z",
     "shell.execute_reply": "2023-01-19T19:59:55.837646Z",
     "shell.execute_reply.started": "2023-01-19T19:58:13.598800Z"
    },
    "tags": []
   },
   "outputs": [
    {
     "name": "stdout",
     "output_type": "stream",
     "text": [
      "Fitting 5 folds for each of 360 candidates, totalling 1800 fits\n"
     ]
    },
    {
     "data": {
      "text/plain": [
       "{'rf__bootstrap': False,\n",
       " 'rf__max_depth': 15,\n",
       " 'rf__max_features': 'sqrt',\n",
       " 'rf__min_samples_leaf': 3,\n",
       " 'rf__n_estimators': 125,\n",
       " 'rf__warm_start': False}"
      ]
     },
     "execution_count": 81,
     "metadata": {},
     "output_type": "execute_result"
    }
   ],
   "source": [
    "gs = GridSearchCV(rf_pipe, rf_params, n_jobs=-1, verbose=1)\n",
    "gs.fit(X_train, y_train)\n",
    "gs.best_params_\n",
    "\n",
    "# attempt 6 (0.9580505860579889, 0.8988902589395807)\n",
    "# {'rf__bootstrap': False,\n",
    "#  'rf__max_depth': 15,\n",
    "#  'rf__max_features': 'sqrt',\n",
    "#  'rf__min_samples_leaf': 3,\n",
    "#  'rf__n_estimators': 125,\n",
    "#  'rf__warm_start': False}\n",
    "\n",
    "# attempt 5 (0.9558914250462678, 0.9001233045622689)\n",
    "# {'rf__bootstrap': False,\n",
    "#  'rf__max_depth': 15,\n",
    "#  'rf__max_features': 'sqrt',\n",
    "#  'rf__min_samples_leaf': 3,\n",
    "#  'rf__n_estimators': 100,\n",
    "#  'rf__warm_start': False}\n",
    "\n",
    "# attempt 4 (0.9487970388648982, 0.8976572133168927)\n",
    "# {'rf__bootstrap': False,\n",
    "#  'rf__max_depth': 15,\n",
    "#  'rf__max_features': 6,\n",
    "#  'rf__min_samples_leaf': 5,\n",
    "#  'rf__n_estimators': 100,\n",
    "#  'rf__warm_start': False}\n",
    "\n",
    "# attempt 3 (0.9932140653917335, 0.9001233045622689)\n",
    "# {'rf__bootstrap': False,\n",
    "#  'rf__max_depth': 15,\n",
    "#  'rf__max_features': 4,\n",
    "#  'rf__min_samples_split': 5,\n",
    "#  'rf__n_estimators': 100,\n",
    "#  'rf__warm_start': False}\n",
    "\n",
    "# attempt 2 (1.0, 0.8976572133168927)\n",
    "# {'rf__bootstrap': False,\n",
    "#  'rf__max_depth': 20,\n",
    "#  'rf__max_features': 'sqrt',\n",
    "#  'rf__min_samples_split': 5,\n",
    "#  'rf__n_estimators': 150,\n",
    "#  'rf__warm_start': True}\n",
    "\n",
    "# attempt 1 (0.9401603948180136, 0.903822441430333)\n",
    "# {'rf__bootstrap': False,\n",
    "#  'rf__max_depth': 10,\n",
    "#  'rf__max_features': 6,\n",
    "#  'rf__min_samples_split': 5,\n",
    "#  'rf__n_estimators': 100,\n",
    "#  'rf__warm_start': False}"
   ]
  },
  {
   "cell_type": "code",
   "execution_count": 82,
   "id": "dbe46b2f-e9b4-4eef-98ee-8158b322f9c1",
   "metadata": {
    "execution": {
     "iopub.execute_input": "2023-01-19T20:00:02.721623Z",
     "iopub.status.busy": "2023-01-19T20:00:02.720553Z",
     "iopub.status.idle": "2023-01-19T20:00:02.815987Z",
     "shell.execute_reply": "2023-01-19T20:00:02.815583Z",
     "shell.execute_reply.started": "2023-01-19T20:00:02.721590Z"
    },
    "tags": []
   },
   "outputs": [
    {
     "data": {
      "text/plain": [
       "(0.9580505860579889, 0.8988902589395807)"
      ]
     },
     "execution_count": 82,
     "metadata": {},
     "output_type": "execute_result"
    }
   ],
   "source": [
    "# score with best params\n",
    "gs.score(X_train, y_train), gs.score(X_test, y_test)"
   ]
  },
  {
   "cell_type": "code",
   "execution_count": 65,
   "id": "50593f35-d108-4618-b784-8159a5fe6c5f",
   "metadata": {
    "execution": {
     "iopub.execute_input": "2023-01-19T19:21:32.561950Z",
     "iopub.status.busy": "2023-01-19T19:21:32.561327Z",
     "iopub.status.idle": "2023-01-19T19:21:32.598333Z",
     "shell.execute_reply": "2023-01-19T19:21:32.597562Z",
     "shell.execute_reply.started": "2023-01-19T19:21:32.561905Z"
    },
    "tags": []
   },
   "outputs": [
    {
     "data": {
      "text/plain": [
       "0    0.902048\n",
       "1    0.097952\n",
       "Name: high_rate, dtype: float64"
      ]
     },
     "execution_count": 66,
     "metadata": {},
     "output_type": "execute_result"
    }
   ],
   "source": [
    "aqi['high_rate'].value_counts(normalize=Tr)"
   ]
  },
  {
   "cell_type": "markdown",
   "id": "54c6cc93-dc0a-4227-be61-17ebc48891c9",
   "metadata": {},
   "source": [
    "#### AQS Data"
   ]
  },
  {
   "cell_type": "code",
   "execution_count": 99,
   "id": "67970e02-fe3e-4e08-8abf-941a1a87c2c8",
   "metadata": {
    "execution": {
     "iopub.execute_input": "2023-01-19T22:19:00.191972Z",
     "iopub.status.busy": "2023-01-19T22:19:00.189710Z",
     "iopub.status.idle": "2023-01-19T22:19:00.214687Z",
     "shell.execute_reply": "2023-01-19T22:19:00.213883Z",
     "shell.execute_reply.started": "2023-01-19T22:19:00.191894Z"
    },
    "tags": []
   },
   "outputs": [],
   "source": [
    "aqs_rf = RandomForestClassifier()"
   ]
  },
  {
   "cell_type": "code",
   "execution_count": 100,
   "id": "d83484ea-3f49-433b-a41f-22c7166b25a9",
   "metadata": {
    "execution": {
     "iopub.execute_input": "2023-01-19T22:19:01.059049Z",
     "iopub.status.busy": "2023-01-19T22:19:01.058641Z",
     "iopub.status.idle": "2023-01-19T22:19:01.207928Z",
     "shell.execute_reply": "2023-01-19T22:19:01.207596Z",
     "shell.execute_reply.started": "2023-01-19T22:19:01.059024Z"
    },
    "tags": []
   },
   "outputs": [
    {
     "data": {
      "text/html": [
       "<style>#sk-container-id-5 {color: black;background-color: white;}#sk-container-id-5 pre{padding: 0;}#sk-container-id-5 div.sk-toggleable {background-color: white;}#sk-container-id-5 label.sk-toggleable__label {cursor: pointer;display: block;width: 100%;margin-bottom: 0;padding: 0.3em;box-sizing: border-box;text-align: center;}#sk-container-id-5 label.sk-toggleable__label-arrow:before {content: \"▸\";float: left;margin-right: 0.25em;color: #696969;}#sk-container-id-5 label.sk-toggleable__label-arrow:hover:before {color: black;}#sk-container-id-5 div.sk-estimator:hover label.sk-toggleable__label-arrow:before {color: black;}#sk-container-id-5 div.sk-toggleable__content {max-height: 0;max-width: 0;overflow: hidden;text-align: left;background-color: #f0f8ff;}#sk-container-id-5 div.sk-toggleable__content pre {margin: 0.2em;color: black;border-radius: 0.25em;background-color: #f0f8ff;}#sk-container-id-5 input.sk-toggleable__control:checked~div.sk-toggleable__content {max-height: 200px;max-width: 100%;overflow: auto;}#sk-container-id-5 input.sk-toggleable__control:checked~label.sk-toggleable__label-arrow:before {content: \"▾\";}#sk-container-id-5 div.sk-estimator input.sk-toggleable__control:checked~label.sk-toggleable__label {background-color: #d4ebff;}#sk-container-id-5 div.sk-label input.sk-toggleable__control:checked~label.sk-toggleable__label {background-color: #d4ebff;}#sk-container-id-5 input.sk-hidden--visually {border: 0;clip: rect(1px 1px 1px 1px);clip: rect(1px, 1px, 1px, 1px);height: 1px;margin: -1px;overflow: hidden;padding: 0;position: absolute;width: 1px;}#sk-container-id-5 div.sk-estimator {font-family: monospace;background-color: #f0f8ff;border: 1px dotted black;border-radius: 0.25em;box-sizing: border-box;margin-bottom: 0.5em;}#sk-container-id-5 div.sk-estimator:hover {background-color: #d4ebff;}#sk-container-id-5 div.sk-parallel-item::after {content: \"\";width: 100%;border-bottom: 1px solid gray;flex-grow: 1;}#sk-container-id-5 div.sk-label:hover label.sk-toggleable__label {background-color: #d4ebff;}#sk-container-id-5 div.sk-serial::before {content: \"\";position: absolute;border-left: 1px solid gray;box-sizing: border-box;top: 0;bottom: 0;left: 50%;z-index: 0;}#sk-container-id-5 div.sk-serial {display: flex;flex-direction: column;align-items: center;background-color: white;padding-right: 0.2em;padding-left: 0.2em;position: relative;}#sk-container-id-5 div.sk-item {position: relative;z-index: 1;}#sk-container-id-5 div.sk-parallel {display: flex;align-items: stretch;justify-content: center;background-color: white;position: relative;}#sk-container-id-5 div.sk-item::before, #sk-container-id-5 div.sk-parallel-item::before {content: \"\";position: absolute;border-left: 1px solid gray;box-sizing: border-box;top: 0;bottom: 0;left: 50%;z-index: -1;}#sk-container-id-5 div.sk-parallel-item {display: flex;flex-direction: column;z-index: 1;position: relative;background-color: white;}#sk-container-id-5 div.sk-parallel-item:first-child::after {align-self: flex-end;width: 50%;}#sk-container-id-5 div.sk-parallel-item:last-child::after {align-self: flex-start;width: 50%;}#sk-container-id-5 div.sk-parallel-item:only-child::after {width: 0;}#sk-container-id-5 div.sk-dashed-wrapped {border: 1px dashed gray;margin: 0 0.4em 0.5em 0.4em;box-sizing: border-box;padding-bottom: 0.4em;background-color: white;}#sk-container-id-5 div.sk-label label {font-family: monospace;font-weight: bold;display: inline-block;line-height: 1.2em;}#sk-container-id-5 div.sk-label-container {text-align: center;}#sk-container-id-5 div.sk-container {/* jupyter's `normalize.less` sets `[hidden] { display: none; }` but bootstrap.min.css set `[hidden] { display: none !important; }` so we also need the `!important` here to be able to override the default hidden behavior on the sphinx rendered scikit-learn.org. See: https://github.com/scikit-learn/scikit-learn/issues/21755 */display: inline-block !important;position: relative;}#sk-container-id-5 div.sk-text-repr-fallback {display: none;}</style><div id=\"sk-container-id-5\" class=\"sk-top-container\"><div class=\"sk-text-repr-fallback\"><pre>RandomForestClassifier()</pre><b>In a Jupyter environment, please rerun this cell to show the HTML representation or trust the notebook. <br />On GitHub, the HTML representation is unable to render, please try loading this page with nbviewer.org.</b></div><div class=\"sk-container\" hidden><div class=\"sk-item\"><div class=\"sk-estimator sk-toggleable\"><input class=\"sk-toggleable__control sk-hidden--visually\" id=\"sk-estimator-id-5\" type=\"checkbox\" checked><label for=\"sk-estimator-id-5\" class=\"sk-toggleable__label sk-toggleable__label-arrow\">RandomForestClassifier</label><div class=\"sk-toggleable__content\"><pre>RandomForestClassifier()</pre></div></div></div></div></div>"
      ],
      "text/plain": [
       "RandomForestClassifier()"
      ]
     },
     "execution_count": 100,
     "metadata": {},
     "output_type": "execute_result"
    }
   ],
   "source": [
    "aqs_rf.fit(X_train_aqs, y_train_aqs)"
   ]
  },
  {
   "cell_type": "code",
   "execution_count": 101,
   "id": "ddc9113e-cdf1-4442-b301-31207e68c106",
   "metadata": {
    "execution": {
     "iopub.execute_input": "2023-01-19T22:19:24.265949Z",
     "iopub.status.busy": "2023-01-19T22:19:24.265727Z",
     "iopub.status.idle": "2023-01-19T22:19:24.723414Z",
     "shell.execute_reply": "2023-01-19T22:19:24.723065Z",
     "shell.execute_reply.started": "2023-01-19T22:19:24.265934Z"
    },
    "tags": []
   },
   "outputs": [
    {
     "data": {
      "text/plain": [
       "0.8714362395521815"
      ]
     },
     "execution_count": 101,
     "metadata": {},
     "output_type": "execute_result"
    }
   ],
   "source": [
    "cross_val_score(aqs_rf, X_train_aqs, y_train_aqs).mean()"
   ]
  },
  {
   "cell_type": "code",
   "execution_count": 104,
   "id": "2e8227dc-aac0-4058-8a88-53e75c6438db",
   "metadata": {
    "execution": {
     "iopub.execute_input": "2023-01-19T22:22:08.124322Z",
     "iopub.status.busy": "2023-01-19T22:22:08.123610Z",
     "iopub.status.idle": "2023-01-19T22:22:08.165323Z",
     "shell.execute_reply": "2023-01-19T22:22:08.164678Z",
     "shell.execute_reply.started": "2023-01-19T22:22:08.124289Z"
    },
    "tags": []
   },
   "outputs": [
    {
     "data": {
      "text/plain": [
       "(1.0, 0.8866995073891626)"
      ]
     },
     "execution_count": 104,
     "metadata": {},
     "output_type": "execute_result"
    }
   ],
   "source": [
    "# score with defaults\n",
    "aqs_rf.score(X_train_aqs, y_train_aqs), aqs_rf.score(X_test_aqs, y_test_aqs)"
   ]
  },
  {
   "cell_type": "code",
   "execution_count": 116,
   "id": "d2fc66c3-81fd-44cd-904d-de6ea3d51149",
   "metadata": {
    "execution": {
     "iopub.execute_input": "2023-01-19T22:59:54.561346Z",
     "iopub.status.busy": "2023-01-19T22:59:54.560703Z",
     "iopub.status.idle": "2023-01-19T22:59:54.592393Z",
     "shell.execute_reply": "2023-01-19T22:59:54.591631Z",
     "shell.execute_reply.started": "2023-01-19T22:59:54.561304Z"
    },
    "tags": []
   },
   "outputs": [],
   "source": [
    "# configure pipeline\n",
    "aqs_rf_pipe = Pipeline([\n",
    "    ('rf', RandomForestClassifier())\n",
    "])\n",
    "\n",
    "# min_samples_leaf\n",
    "# criterion\n",
    "\n",
    "aqs_rf_params = {\n",
    "    'rf__n_estimators': np.arange(25, 300, 50),\n",
    "    'rf__criterion' : [\"gini\", \"entropy\", \"log_loss\"],\n",
    "    'rf__max_depth': np.arange(5, 100, 10),\n",
    "    'rf__min_samples_leaf': np.arange(3, 11),\n",
    "    'rf__bootstrap': [False, True],\n",
    "    'rf__warm_start': [True, False],\n",
    "    'rf__max_features': np.arange(1, 6)\n",
    "}\n",
    "\n",
    "\n",
    "# attempt 3\n",
    "# aqs_rf_params = {\n",
    "#     'rf__n_estimators': [25, 100, 150, 200],\n",
    "#     'rf__max_depth': [3, 5, 25, 50],\n",
    "#     'rf__min_samples_leaf': [3, 5, 6, 7, 20],\n",
    "#     'rf__bootstrap': [False, True],\n",
    "#     'rf__warm_start': [True, False],\n",
    "#     'rf__max_features': ['sqrt', None, 3, 6, 8, 15]\n",
    "# }\n",
    "\n",
    "# attempt 2\n",
    "# aqs_rf_params = {\n",
    "#     'rf__n_estimators': [100, 125, 150],\n",
    "#     'rf__max_depth': [5, 15, 25],\n",
    "#     'rf__min_samples_leaf': [3, 5, 6, 7],\n",
    "#     'rf__bootstrap': [False, True],\n",
    "#     'rf__warm_start': [True, False],\n",
    "#     'rf__max_features': ['sqrt', 3, 6, 8, 9]\n",
    "# }\n",
    "\n",
    "\n",
    "# attempt 1\n",
    "# aqs_rf_params = {\n",
    "#     'rf__n_estimators': [10, 50, 100],\n",
    "#     'rf__max_depth': [5, 10, 15],\n",
    "#     'rf__min_samples_split': [2, 3, 4, 5],\n",
    "#     'rf__bootstrap': [True, False],\n",
    "#     'rf__warm_start': [True, False],\n",
    "#     'rf__max_features': ['sqrt', 3, 4, 5, 6]\n",
    "# }"
   ]
  },
  {
   "cell_type": "code",
   "execution_count": 117,
   "id": "1a42d126-98de-475d-9e34-7934c3a05913",
   "metadata": {
    "execution": {
     "iopub.execute_input": "2023-01-19T23:00:00.976707Z",
     "iopub.status.busy": "2023-01-19T23:00:00.976152Z",
     "iopub.status.idle": "2023-01-19T23:51:25.022641Z",
     "shell.execute_reply": "2023-01-19T23:51:25.022127Z",
     "shell.execute_reply.started": "2023-01-19T23:00:00.976681Z"
    },
    "tags": []
   },
   "outputs": [
    {
     "name": "stdout",
     "output_type": "stream",
     "text": [
      "Fitting 5 folds for each of 28800 candidates, totalling 144000 fits\n"
     ]
    },
    {
     "data": {
      "text/plain": [
       "{'rf__bootstrap': False,\n",
       " 'rf__criterion': 'gini',\n",
       " 'rf__max_depth': 55,\n",
       " 'rf__max_features': 2,\n",
       " 'rf__min_samples_leaf': 8,\n",
       " 'rf__n_estimators': 25,\n",
       " 'rf__warm_start': False}"
      ]
     },
     "execution_count": 117,
     "metadata": {},
     "output_type": "execute_result"
    }
   ],
   "source": [
    "aqs_gs = GridSearchCV(aqs_rf_pipe, aqs_rf_params, n_jobs=-1, verbose=1)\n",
    "aqs_gs.fit(X_train_aqs, y_train_aqs)\n",
    "aqs_gs.best_params_\n",
    "\n",
    "\n",
    "# attempt 4 (0.9245982694684796, 0.8768472906403941)\n",
    "# {'rf__bootstrap': False,\n",
    "#  'rf__criterion': 'gini',\n",
    "#  'rf__max_depth': 55,\n",
    "#  'rf__max_features': 2,\n",
    "#  'rf__min_samples_leaf': 8,\n",
    "#  'rf__n_estimators': 25,\n",
    "#  'rf__warm_start': False}\n",
    "\n",
    "\n",
    "# attempt 3 (0.9542645241038319, 0.8719211822660099)\n",
    "# {'rf__bootstrap': True,\n",
    "#  'rf__max_depth': 50,\n",
    "#  'rf__max_features': None,\n",
    "#  'rf__min_samples_leaf': 3,\n",
    "#  'rf__n_estimators': 25,\n",
    "#  'rf__warm_start': False}\n",
    "\n",
    "\n",
    "# attempt 2 (0.8800988875154512, 0.8768472906403941)\n",
    "# {'rf__bootstrap': False,\n",
    "#  'rf__max_depth': 5,\n",
    "#  'rf__max_features': 3,\n",
    "#  'rf__min_samples_leaf': 3,\n",
    "#  'rf__n_estimators': 125,\n",
    "#  'rf__warm_start': False}\n",
    "\n",
    "# attempt 1 (0.8825710754017305, 0.8768472906403941)\n",
    "# {'rf__bootstrap': True,\n",
    "#  'rf__max_depth': 5,\n",
    "#  'rf__max_features': 'sqrt',\n",
    "#  'rf__min_samples_split': 4,\n",
    "#  'rf__n_estimators': 10,\n",
    "#  'rf__warm_start': True}"
   ]
  },
  {
   "cell_type": "code",
   "execution_count": 119,
   "id": "634bfc4a-0a5a-41cd-b644-c42fb62e8db8",
   "metadata": {
    "execution": {
     "iopub.execute_input": "2023-01-19T23:55:58.527329Z",
     "iopub.status.busy": "2023-01-19T23:55:58.523597Z",
     "iopub.status.idle": "2023-01-19T23:55:58.562345Z",
     "shell.execute_reply": "2023-01-19T23:55:58.561777Z",
     "shell.execute_reply.started": "2023-01-19T23:55:58.527295Z"
    },
    "tags": []
   },
   "outputs": [
    {
     "data": {
      "text/plain": [
       "(0.9245982694684796, 0.8768472906403941)"
      ]
     },
     "execution_count": 119,
     "metadata": {},
     "output_type": "execute_result"
    }
   ],
   "source": [
    "# score with best_params\n",
    "aqs_gs.score(X_train_aqs, y_train_aqs), aqs_gs.score(X_test_aqs, y_test_aqs)"
   ]
  },
  {
   "cell_type": "markdown",
   "id": "39acb69f-b25f-414a-9115-5c8a5a7f1766",
   "metadata": {},
   "source": [
    "### Logistic Regression Classifer"
   ]
  },
  {
   "cell_type": "markdown",
   "id": "a1ec578b-9fa2-4823-a07d-a61beb6940f9",
   "metadata": {},
   "source": [
    "#### Annual AQI Data"
   ]
  },
  {
   "cell_type": "code",
   "execution_count": 83,
   "id": "166cdc79-e712-4785-8893-c85ebe11774d",
   "metadata": {
    "execution": {
     "iopub.execute_input": "2023-01-19T21:04:38.879903Z",
     "iopub.status.busy": "2023-01-19T21:04:38.879314Z",
     "iopub.status.idle": "2023-01-19T21:04:38.906663Z",
     "shell.execute_reply": "2023-01-19T21:04:38.906000Z",
     "shell.execute_reply.started": "2023-01-19T21:04:38.879877Z"
    }
   },
   "outputs": [],
   "source": [
    "from sklearn.linear_model import LogisticRegression"
   ]
  },
  {
   "cell_type": "code",
   "execution_count": 87,
   "id": "a075ae8f-2e31-4376-8f61-753db5876669",
   "metadata": {
    "execution": {
     "iopub.execute_input": "2023-01-19T21:06:01.651389Z",
     "iopub.status.busy": "2023-01-19T21:06:01.650737Z",
     "iopub.status.idle": "2023-01-19T21:06:01.659637Z",
     "shell.execute_reply": "2023-01-19T21:06:01.657597Z",
     "shell.execute_reply.started": "2023-01-19T21:06:01.651319Z"
    },
    "tags": []
   },
   "outputs": [],
   "source": [
    "lr = LogisticRegression(max_iter=10_000)"
   ]
  },
  {
   "cell_type": "code",
   "execution_count": 98,
   "id": "327beb5a-2093-490f-8634-095dfc22c52e",
   "metadata": {
    "execution": {
     "iopub.execute_input": "2023-01-19T22:12:15.909104Z",
     "iopub.status.busy": "2023-01-19T22:12:15.908412Z",
     "iopub.status.idle": "2023-01-19T22:12:15.939257Z",
     "shell.execute_reply": "2023-01-19T22:12:15.938428Z",
     "shell.execute_reply.started": "2023-01-19T22:12:15.909072Z"
    }
   },
   "outputs": [
    {
     "data": {
      "text/plain": [
       "(0    0.901912\n",
       " 1    0.098088\n",
       " Name: high_rate, dtype: float64,\n",
       " 0    0.902589\n",
       " 1    0.097411\n",
       " Name: high_rate, dtype: float64)"
      ]
     },
     "execution_count": 98,
     "metadata": {},
     "output_type": "execute_result"
    }
   ],
   "source": [
    "y_train.value_counts(normalize=True), y_test.value_counts(normalize=True)"
   ]
  },
  {
   "cell_type": "code",
   "execution_count": 88,
   "id": "285bc588-eed4-4b4c-94f4-39284498a251",
   "metadata": {
    "execution": {
     "iopub.execute_input": "2023-01-19T21:06:05.923713Z",
     "iopub.status.busy": "2023-01-19T21:06:05.923131Z",
     "iopub.status.idle": "2023-01-19T21:06:07.797502Z",
     "shell.execute_reply": "2023-01-19T21:06:07.797204Z",
     "shell.execute_reply.started": "2023-01-19T21:06:05.923684Z"
    },
    "tags": []
   },
   "outputs": [
    {
     "data": {
      "text/html": [
       "<style>#sk-container-id-3 {color: black;background-color: white;}#sk-container-id-3 pre{padding: 0;}#sk-container-id-3 div.sk-toggleable {background-color: white;}#sk-container-id-3 label.sk-toggleable__label {cursor: pointer;display: block;width: 100%;margin-bottom: 0;padding: 0.3em;box-sizing: border-box;text-align: center;}#sk-container-id-3 label.sk-toggleable__label-arrow:before {content: \"▸\";float: left;margin-right: 0.25em;color: #696969;}#sk-container-id-3 label.sk-toggleable__label-arrow:hover:before {color: black;}#sk-container-id-3 div.sk-estimator:hover label.sk-toggleable__label-arrow:before {color: black;}#sk-container-id-3 div.sk-toggleable__content {max-height: 0;max-width: 0;overflow: hidden;text-align: left;background-color: #f0f8ff;}#sk-container-id-3 div.sk-toggleable__content pre {margin: 0.2em;color: black;border-radius: 0.25em;background-color: #f0f8ff;}#sk-container-id-3 input.sk-toggleable__control:checked~div.sk-toggleable__content {max-height: 200px;max-width: 100%;overflow: auto;}#sk-container-id-3 input.sk-toggleable__control:checked~label.sk-toggleable__label-arrow:before {content: \"▾\";}#sk-container-id-3 div.sk-estimator input.sk-toggleable__control:checked~label.sk-toggleable__label {background-color: #d4ebff;}#sk-container-id-3 div.sk-label input.sk-toggleable__control:checked~label.sk-toggleable__label {background-color: #d4ebff;}#sk-container-id-3 input.sk-hidden--visually {border: 0;clip: rect(1px 1px 1px 1px);clip: rect(1px, 1px, 1px, 1px);height: 1px;margin: -1px;overflow: hidden;padding: 0;position: absolute;width: 1px;}#sk-container-id-3 div.sk-estimator {font-family: monospace;background-color: #f0f8ff;border: 1px dotted black;border-radius: 0.25em;box-sizing: border-box;margin-bottom: 0.5em;}#sk-container-id-3 div.sk-estimator:hover {background-color: #d4ebff;}#sk-container-id-3 div.sk-parallel-item::after {content: \"\";width: 100%;border-bottom: 1px solid gray;flex-grow: 1;}#sk-container-id-3 div.sk-label:hover label.sk-toggleable__label {background-color: #d4ebff;}#sk-container-id-3 div.sk-serial::before {content: \"\";position: absolute;border-left: 1px solid gray;box-sizing: border-box;top: 0;bottom: 0;left: 50%;z-index: 0;}#sk-container-id-3 div.sk-serial {display: flex;flex-direction: column;align-items: center;background-color: white;padding-right: 0.2em;padding-left: 0.2em;position: relative;}#sk-container-id-3 div.sk-item {position: relative;z-index: 1;}#sk-container-id-3 div.sk-parallel {display: flex;align-items: stretch;justify-content: center;background-color: white;position: relative;}#sk-container-id-3 div.sk-item::before, #sk-container-id-3 div.sk-parallel-item::before {content: \"\";position: absolute;border-left: 1px solid gray;box-sizing: border-box;top: 0;bottom: 0;left: 50%;z-index: -1;}#sk-container-id-3 div.sk-parallel-item {display: flex;flex-direction: column;z-index: 1;position: relative;background-color: white;}#sk-container-id-3 div.sk-parallel-item:first-child::after {align-self: flex-end;width: 50%;}#sk-container-id-3 div.sk-parallel-item:last-child::after {align-self: flex-start;width: 50%;}#sk-container-id-3 div.sk-parallel-item:only-child::after {width: 0;}#sk-container-id-3 div.sk-dashed-wrapped {border: 1px dashed gray;margin: 0 0.4em 0.5em 0.4em;box-sizing: border-box;padding-bottom: 0.4em;background-color: white;}#sk-container-id-3 div.sk-label label {font-family: monospace;font-weight: bold;display: inline-block;line-height: 1.2em;}#sk-container-id-3 div.sk-label-container {text-align: center;}#sk-container-id-3 div.sk-container {/* jupyter's `normalize.less` sets `[hidden] { display: none; }` but bootstrap.min.css set `[hidden] { display: none !important; }` so we also need the `!important` here to be able to override the default hidden behavior on the sphinx rendered scikit-learn.org. See: https://github.com/scikit-learn/scikit-learn/issues/21755 */display: inline-block !important;position: relative;}#sk-container-id-3 div.sk-text-repr-fallback {display: none;}</style><div id=\"sk-container-id-3\" class=\"sk-top-container\"><div class=\"sk-text-repr-fallback\"><pre>LogisticRegression(max_iter=10000)</pre><b>In a Jupyter environment, please rerun this cell to show the HTML representation or trust the notebook. <br />On GitHub, the HTML representation is unable to render, please try loading this page with nbviewer.org.</b></div><div class=\"sk-container\" hidden><div class=\"sk-item\"><div class=\"sk-estimator sk-toggleable\"><input class=\"sk-toggleable__control sk-hidden--visually\" id=\"sk-estimator-id-3\" type=\"checkbox\" checked><label for=\"sk-estimator-id-3\" class=\"sk-toggleable__label sk-toggleable__label-arrow\">LogisticRegression</label><div class=\"sk-toggleable__content\"><pre>LogisticRegression(max_iter=10000)</pre></div></div></div></div></div>"
      ],
      "text/plain": [
       "LogisticRegression(max_iter=10000)"
      ]
     },
     "execution_count": 88,
     "metadata": {},
     "output_type": "execute_result"
    }
   ],
   "source": [
    "lr.fit(X_train, y_train)"
   ]
  },
  {
   "cell_type": "code",
   "execution_count": 89,
   "id": "86ecd756-9e5f-4867-86a7-4ec6fd9d5d71",
   "metadata": {
    "execution": {
     "iopub.execute_input": "2023-01-19T21:07:03.462658Z",
     "iopub.status.busy": "2023-01-19T21:07:03.461794Z",
     "iopub.status.idle": "2023-01-19T21:07:03.488318Z",
     "shell.execute_reply": "2023-01-19T21:07:03.487777Z",
     "shell.execute_reply.started": "2023-01-19T21:07:03.462572Z"
    }
   },
   "outputs": [
    {
     "data": {
      "text/plain": [
       "(0.9009870450339297, 0.9025893958076449)"
      ]
     },
     "execution_count": 89,
     "metadata": {},
     "output_type": "execute_result"
    }
   ],
   "source": [
    "lr.score(X_train, y_train), lr.score(X_test, y_test)"
   ]
  },
  {
   "cell_type": "markdown",
   "id": "9a7d56bd-95c4-4828-90aa-f35b4815aaf4",
   "metadata": {},
   "source": [
    "#### AQS Data"
   ]
  },
  {
   "cell_type": "code",
   "execution_count": 90,
   "id": "e56f03e1-ceaf-4fdb-8484-1eba22e377cf",
   "metadata": {
    "execution": {
     "iopub.execute_input": "2023-01-19T22:03:07.270814Z",
     "iopub.status.busy": "2023-01-19T22:03:07.269366Z",
     "iopub.status.idle": "2023-01-19T22:03:07.307465Z",
     "shell.execute_reply": "2023-01-19T22:03:07.306976Z",
     "shell.execute_reply.started": "2023-01-19T22:03:07.270778Z"
    }
   },
   "outputs": [
    {
     "data": {
      "text/plain": [
       "Index(['state', 'county', 'year', 'Carbon monoxide', 'Nitrogen dioxide (NO2)',\n",
       "       'Ozone', 'PM10 Total 0-10um STP', 'PM2.5 - Local Conditions',\n",
       "       'births_low', 'avg_weight_low', 'avg_ges_age_low', 'births_all',\n",
       "       'avg_weight_all', 'avg_ges_age_all', 'pct_low', 'high_rate'],\n",
       "      dtype='object')"
      ]
     },
     "execution_count": 90,
     "metadata": {},
     "output_type": "execute_result"
    }
   ],
   "source": [
    "aqs.columns"
   ]
  },
  {
   "cell_type": "code",
   "execution_count": 91,
   "id": "b692ab25-fc50-450b-8135-795c84bad12d",
   "metadata": {
    "execution": {
     "iopub.execute_input": "2023-01-19T22:05:00.783565Z",
     "iopub.status.busy": "2023-01-19T22:05:00.781775Z",
     "iopub.status.idle": "2023-01-19T22:05:00.852640Z",
     "shell.execute_reply": "2023-01-19T22:05:00.851986Z",
     "shell.execute_reply.started": "2023-01-19T22:05:00.783503Z"
    }
   },
   "outputs": [],
   "source": [
    "X_aqs = aqs[['Carbon monoxide', 'Nitrogen dioxide (NO2)',\n",
    "       'Ozone', 'PM10 Total 0-10um STP', 'PM2.5 - Local Conditions']]\n",
    "\n",
    "y_aqs = aqs['high_rate']"
   ]
  },
  {
   "cell_type": "code",
   "execution_count": 92,
   "id": "50a40a3f-de98-4bb3-9da5-59072cfd3ad2",
   "metadata": {
    "execution": {
     "iopub.execute_input": "2023-01-19T22:08:07.014006Z",
     "iopub.status.busy": "2023-01-19T22:08:07.013119Z",
     "iopub.status.idle": "2023-01-19T22:08:07.055827Z",
     "shell.execute_reply": "2023-01-19T22:08:07.055411Z",
     "shell.execute_reply.started": "2023-01-19T22:08:07.013949Z"
    }
   },
   "outputs": [],
   "source": [
    "X_train_aqs, X_test_aqs, y_train_aqs, y_test_aqs = train_test_split(X_aqs,\\\n",
    "                                                                   y_aqs,\n",
    "                                                                   random_state=5,\n",
    "                                                                    test_size=.2,                                                                \n",
    "                                                                   stratify=y_aqs)"
   ]
  },
  {
   "cell_type": "code",
   "execution_count": 93,
   "id": "141bd14d-f3a2-4315-8fc3-90df3378afbf",
   "metadata": {
    "execution": {
     "iopub.execute_input": "2023-01-19T22:08:21.543431Z",
     "iopub.status.busy": "2023-01-19T22:08:21.541233Z",
     "iopub.status.idle": "2023-01-19T22:08:21.564689Z",
     "shell.execute_reply": "2023-01-19T22:08:21.564156Z",
     "shell.execute_reply.started": "2023-01-19T22:08:21.543229Z"
    }
   },
   "outputs": [
    {
     "data": {
      "text/plain": [
       "((809, 5), (203, 5), (809,), (203,))"
      ]
     },
     "execution_count": 93,
     "metadata": {},
     "output_type": "execute_result"
    }
   ],
   "source": [
    "X_train_aqs.shape, X_test_aqs.shape, y_train_aqs.shape, y_test_aqs.shape"
   ]
  },
  {
   "cell_type": "code",
   "execution_count": 97,
   "id": "1e99de08-f31d-428f-bf9d-acef6dbb0165",
   "metadata": {
    "execution": {
     "iopub.execute_input": "2023-01-19T22:11:31.025675Z",
     "iopub.status.busy": "2023-01-19T22:11:31.025142Z",
     "iopub.status.idle": "2023-01-19T22:11:31.052843Z",
     "shell.execute_reply": "2023-01-19T22:11:31.052434Z",
     "shell.execute_reply.started": "2023-01-19T22:11:31.025634Z"
    }
   },
   "outputs": [
    {
     "data": {
      "text/plain": [
       "(0    0.878863\n",
       " 1    0.121137\n",
       " Name: high_rate, dtype: float64,\n",
       " 0    0.876847\n",
       " 1    0.123153\n",
       " Name: high_rate, dtype: float64)"
      ]
     },
     "execution_count": 97,
     "metadata": {},
     "output_type": "execute_result"
    }
   ],
   "source": [
    "y_train_aqs.value_counts(normalize=True), y_test_aqs.value_counts(normalize=True)"
   ]
  },
  {
   "cell_type": "code",
   "execution_count": 94,
   "id": "495ef7ce-27a1-4e32-945b-d946a9d278cf",
   "metadata": {
    "execution": {
     "iopub.execute_input": "2023-01-19T22:09:00.059002Z",
     "iopub.status.busy": "2023-01-19T22:09:00.058497Z",
     "iopub.status.idle": "2023-01-19T22:09:00.123606Z",
     "shell.execute_reply": "2023-01-19T22:09:00.123149Z",
     "shell.execute_reply.started": "2023-01-19T22:09:00.058969Z"
    }
   },
   "outputs": [
    {
     "data": {
      "text/html": [
       "<style>#sk-container-id-4 {color: black;background-color: white;}#sk-container-id-4 pre{padding: 0;}#sk-container-id-4 div.sk-toggleable {background-color: white;}#sk-container-id-4 label.sk-toggleable__label {cursor: pointer;display: block;width: 100%;margin-bottom: 0;padding: 0.3em;box-sizing: border-box;text-align: center;}#sk-container-id-4 label.sk-toggleable__label-arrow:before {content: \"▸\";float: left;margin-right: 0.25em;color: #696969;}#sk-container-id-4 label.sk-toggleable__label-arrow:hover:before {color: black;}#sk-container-id-4 div.sk-estimator:hover label.sk-toggleable__label-arrow:before {color: black;}#sk-container-id-4 div.sk-toggleable__content {max-height: 0;max-width: 0;overflow: hidden;text-align: left;background-color: #f0f8ff;}#sk-container-id-4 div.sk-toggleable__content pre {margin: 0.2em;color: black;border-radius: 0.25em;background-color: #f0f8ff;}#sk-container-id-4 input.sk-toggleable__control:checked~div.sk-toggleable__content {max-height: 200px;max-width: 100%;overflow: auto;}#sk-container-id-4 input.sk-toggleable__control:checked~label.sk-toggleable__label-arrow:before {content: \"▾\";}#sk-container-id-4 div.sk-estimator input.sk-toggleable__control:checked~label.sk-toggleable__label {background-color: #d4ebff;}#sk-container-id-4 div.sk-label input.sk-toggleable__control:checked~label.sk-toggleable__label {background-color: #d4ebff;}#sk-container-id-4 input.sk-hidden--visually {border: 0;clip: rect(1px 1px 1px 1px);clip: rect(1px, 1px, 1px, 1px);height: 1px;margin: -1px;overflow: hidden;padding: 0;position: absolute;width: 1px;}#sk-container-id-4 div.sk-estimator {font-family: monospace;background-color: #f0f8ff;border: 1px dotted black;border-radius: 0.25em;box-sizing: border-box;margin-bottom: 0.5em;}#sk-container-id-4 div.sk-estimator:hover {background-color: #d4ebff;}#sk-container-id-4 div.sk-parallel-item::after {content: \"\";width: 100%;border-bottom: 1px solid gray;flex-grow: 1;}#sk-container-id-4 div.sk-label:hover label.sk-toggleable__label {background-color: #d4ebff;}#sk-container-id-4 div.sk-serial::before {content: \"\";position: absolute;border-left: 1px solid gray;box-sizing: border-box;top: 0;bottom: 0;left: 50%;z-index: 0;}#sk-container-id-4 div.sk-serial {display: flex;flex-direction: column;align-items: center;background-color: white;padding-right: 0.2em;padding-left: 0.2em;position: relative;}#sk-container-id-4 div.sk-item {position: relative;z-index: 1;}#sk-container-id-4 div.sk-parallel {display: flex;align-items: stretch;justify-content: center;background-color: white;position: relative;}#sk-container-id-4 div.sk-item::before, #sk-container-id-4 div.sk-parallel-item::before {content: \"\";position: absolute;border-left: 1px solid gray;box-sizing: border-box;top: 0;bottom: 0;left: 50%;z-index: -1;}#sk-container-id-4 div.sk-parallel-item {display: flex;flex-direction: column;z-index: 1;position: relative;background-color: white;}#sk-container-id-4 div.sk-parallel-item:first-child::after {align-self: flex-end;width: 50%;}#sk-container-id-4 div.sk-parallel-item:last-child::after {align-self: flex-start;width: 50%;}#sk-container-id-4 div.sk-parallel-item:only-child::after {width: 0;}#sk-container-id-4 div.sk-dashed-wrapped {border: 1px dashed gray;margin: 0 0.4em 0.5em 0.4em;box-sizing: border-box;padding-bottom: 0.4em;background-color: white;}#sk-container-id-4 div.sk-label label {font-family: monospace;font-weight: bold;display: inline-block;line-height: 1.2em;}#sk-container-id-4 div.sk-label-container {text-align: center;}#sk-container-id-4 div.sk-container {/* jupyter's `normalize.less` sets `[hidden] { display: none; }` but bootstrap.min.css set `[hidden] { display: none !important; }` so we also need the `!important` here to be able to override the default hidden behavior on the sphinx rendered scikit-learn.org. See: https://github.com/scikit-learn/scikit-learn/issues/21755 */display: inline-block !important;position: relative;}#sk-container-id-4 div.sk-text-repr-fallback {display: none;}</style><div id=\"sk-container-id-4\" class=\"sk-top-container\"><div class=\"sk-text-repr-fallback\"><pre>LogisticRegression(max_iter=10000)</pre><b>In a Jupyter environment, please rerun this cell to show the HTML representation or trust the notebook. <br />On GitHub, the HTML representation is unable to render, please try loading this page with nbviewer.org.</b></div><div class=\"sk-container\" hidden><div class=\"sk-item\"><div class=\"sk-estimator sk-toggleable\"><input class=\"sk-toggleable__control sk-hidden--visually\" id=\"sk-estimator-id-4\" type=\"checkbox\" checked><label for=\"sk-estimator-id-4\" class=\"sk-toggleable__label sk-toggleable__label-arrow\">LogisticRegression</label><div class=\"sk-toggleable__content\"><pre>LogisticRegression(max_iter=10000)</pre></div></div></div></div></div>"
      ],
      "text/plain": [
       "LogisticRegression(max_iter=10000)"
      ]
     },
     "execution_count": 94,
     "metadata": {},
     "output_type": "execute_result"
    }
   ],
   "source": [
    "lr.fit(X_train_aqs, y_train_aqs)"
   ]
  },
  {
   "cell_type": "code",
   "execution_count": 96,
   "id": "b4bb6ef3-8695-4de9-97f7-decdfb2b00eb",
   "metadata": {
    "execution": {
     "iopub.execute_input": "2023-01-19T22:09:30.589564Z",
     "iopub.status.busy": "2023-01-19T22:09:30.589062Z",
     "iopub.status.idle": "2023-01-19T22:09:30.632069Z",
     "shell.execute_reply": "2023-01-19T22:09:30.631568Z",
     "shell.execute_reply.started": "2023-01-19T22:09:30.589517Z"
    },
    "tags": []
   },
   "outputs": [
    {
     "data": {
      "text/plain": [
       "(0.8788627935723115, 0.8768472906403941)"
      ]
     },
     "execution_count": 96,
     "metadata": {},
     "output_type": "execute_result"
    }
   ],
   "source": [
    "lr.score(X_train_aqs, y_train_aqs), lr.score(X_test_aqs, y_test_aqs)"
   ]
  },
  {
   "cell_type": "markdown",
   "id": "dd51be69-aaf9-416c-96a6-b1481e993ba9",
   "metadata": {},
   "source": [
    "Regression"
   ]
  },
  {
   "cell_type": "code",
   "execution_count": 46,
   "id": "38c0a3de-ecd4-4e88-9811-7d3c6ccbb6c1",
   "metadata": {
    "execution": {
     "iopub.execute_input": "2023-01-19T19:09:35.456883Z",
     "iopub.status.busy": "2023-01-19T19:09:35.456780Z",
     "iopub.status.idle": "2023-01-19T19:09:35.459115Z",
     "shell.execute_reply": "2023-01-19T19:09:35.458713Z",
     "shell.execute_reply.started": "2023-01-19T19:09:35.456873Z"
    },
    "tags": []
   },
   "outputs": [],
   "source": [
    "# X = aqi[['days_with_aqi', 'good_days', 'mod_days',\n",
    "#        'uh_sens_days', 'uh_days', 'v_uh_days', 'haz_days', 'max_aqi',\n",
    "#        '90_per_aqi', 'median_aqi', 'days_co', 'days_no2', 'days_ozone',\n",
    "#        'days_pm2.5', 'days_pm10']]\n",
    "\n",
    "# y = aqi['pct_low']"
   ]
  },
  {
   "cell_type": "code",
   "execution_count": 47,
   "id": "e05643e1-641a-48ed-8d42-3d31204e7a41",
   "metadata": {
    "execution": {
     "iopub.execute_input": "2023-01-19T19:09:35.459666Z",
     "iopub.status.busy": "2023-01-19T19:09:35.459572Z",
     "iopub.status.idle": "2023-01-19T19:09:35.461191Z",
     "shell.execute_reply": "2023-01-19T19:09:35.460919Z",
     "shell.execute_reply.started": "2023-01-19T19:09:35.459657Z"
    },
    "tags": []
   },
   "outputs": [],
   "source": [
    "# X_train, X_test, y_train, y_test = train_test_split(X,y,\n",
    "#                                                     test_size=.2,\n",
    "#                                                     random_state=5)\n",
    "# X_train.shape, X_test.shape, y_train.shape, y_test.shape"
   ]
  },
  {
   "cell_type": "code",
   "execution_count": 48,
   "id": "b4aea665-3b87-48db-8d50-52ec9426a8e1",
   "metadata": {
    "execution": {
     "iopub.execute_input": "2023-01-19T19:09:35.461926Z",
     "iopub.status.busy": "2023-01-19T19:09:35.461799Z",
     "iopub.status.idle": "2023-01-19T19:09:35.463975Z",
     "shell.execute_reply": "2023-01-19T19:09:35.463525Z",
     "shell.execute_reply.started": "2023-01-19T19:09:35.461914Z"
    },
    "tags": []
   },
   "outputs": [],
   "source": [
    "# ss = StandardScaler()\n",
    "# X_train_ss = ss.fit_transform(X_train)\n",
    "# X_test_ss = ss.transform(X_test)"
   ]
  },
  {
   "cell_type": "code",
   "execution_count": null,
   "id": "5fa5686c-71b6-4511-9cae-ecd90de7671b",
   "metadata": {},
   "outputs": [],
   "source": []
  },
  {
   "cell_type": "code",
   "execution_count": 49,
   "id": "bd410513-df7c-4c48-a591-758fbf39ddb0",
   "metadata": {
    "execution": {
     "iopub.execute_input": "2023-01-19T19:09:35.464595Z",
     "iopub.status.busy": "2023-01-19T19:09:35.464499Z",
     "iopub.status.idle": "2023-01-19T19:09:35.466908Z",
     "shell.execute_reply": "2023-01-19T19:09:35.466490Z",
     "shell.execute_reply.started": "2023-01-19T19:09:35.464586Z"
    },
    "tags": []
   },
   "outputs": [],
   "source": [
    "# model = Sequential()\n",
    "# model.add(Dense(15, input_dim=X_train_ss.shape[1], activation='relu',\n",
    "#                kernel_regularizer=l2(0.001)))\n",
    "# # model.add(Dense(300, activation='relu'))\n",
    "# # model.add(Dense(100, activation='relu'))\n",
    "# model.add(Dropout(0.1))\n",
    "# model.add(Dense(60, activation='relu'))\n",
    "# model.add(Dropout(0.1))\n",
    "# model.add(Dense(120, activation='relu'))\n",
    "# model.add(Dropout(0.1))\n",
    "# model.add(Dense(60, activation='relu'))\n",
    "# model.add(Dense(1, activation=None))\n",
    "\n",
    "# model.compile(optimizer='adam', \n",
    "#               loss='mse', \n",
    "#               metrics=RootMeanSquaredError())\n",
    "\n",
    "# history = model.fit(X_train_ss, y_train,\n",
    "#                     batch_size=32, epochs=100,\n",
    "#                     validation_data=(X_test_ss, y_test),\n",
    "#                     validation_split=0.25)"
   ]
  },
  {
   "cell_type": "code",
   "execution_count": 50,
   "id": "e6a2336f-6802-4ea7-b2a1-3faa264068df",
   "metadata": {
    "execution": {
     "iopub.execute_input": "2023-01-19T19:09:35.467730Z",
     "iopub.status.busy": "2023-01-19T19:09:35.467576Z",
     "iopub.status.idle": "2023-01-19T19:09:35.543488Z",
     "shell.execute_reply": "2023-01-19T19:09:35.543132Z",
     "shell.execute_reply.started": "2023-01-19T19:09:35.467719Z"
    },
    "jupyter": {
     "source_hidden": true
    },
    "tags": []
   },
   "outputs": [
    {
     "data": {
      "image/png": "[encoded data removed]",
      "text/plain": [
       "<Figure size 640x480 with 1 Axes>"
      ]
     },
     "metadata": {},
     "output_type": "display_data"
    }
   ],
   "source": [
    "plt.plot(history.history['accuracy'], label='Train Accuracy')\n",
    "plt.plot(history.history['val_accuracy'], label='Validation Accuracy')\n",
    "plt.ylabel('Accuracy')\n",
    "plt.xlabel('Epochs')\n",
    "plt.legend();"
   ]
  },
  {
   "cell_type": "code",
   "execution_count": 51,
   "id": "87dbb2c7-0bb0-4d66-891d-9a57229ed40e",
   "metadata": {
    "execution": {
     "iopub.execute_input": "2023-01-19T19:09:35.544202Z",
     "iopub.status.busy": "2023-01-19T19:09:35.544103Z",
     "iopub.status.idle": "2023-01-19T19:09:35.546364Z",
     "shell.execute_reply": "2023-01-19T19:09:35.546032Z",
     "shell.execute_reply.started": "2023-01-19T19:09:35.544193Z"
    },
    "tags": []
   },
   "outputs": [],
   "source": [
    "# # plt.figure(figsize=(8,8))\n",
    "# plt.plot(history.history['loss'], label='Train')\n",
    "# plt.plot(history.history['val_loss'], label='Test')\n",
    "# plt.xlabel('Epoch')\n",
    "# plt.ylabel('Loss')\n",
    "# plt.ylim([0,1])\n",
    "# plt.legend();"
   ]
  },
  {
   "cell_type": "code",
   "execution_count": 52,
   "id": "374530f0-e5b0-43c7-b47a-f2a3f71b2d8c",
   "metadata": {
    "execution": {
     "iopub.execute_input": "2023-01-19T19:09:35.546819Z",
     "iopub.status.busy": "2023-01-19T19:09:35.546710Z",
     "iopub.status.idle": "2023-01-19T19:09:35.548806Z",
     "shell.execute_reply": "2023-01-19T19:09:35.548476Z",
     "shell.execute_reply.started": "2023-01-19T19:09:35.546806Z"
    },
    "tags": []
   },
   "outputs": [],
   "source": [
    "# y_pred = model.predict(X_test_ss)"
   ]
  },
  {
   "cell_type": "code",
   "execution_count": 53,
   "id": "e4a20539-dd27-4c48-b13d-33fd8929e1a3",
   "metadata": {
    "execution": {
     "iopub.execute_input": "2023-01-19T19:09:35.549348Z",
     "iopub.status.busy": "2023-01-19T19:09:35.549267Z",
     "iopub.status.idle": "2023-01-19T19:09:35.551262Z",
     "shell.execute_reply": "2023-01-19T19:09:35.550865Z",
     "shell.execute_reply.started": "2023-01-19T19:09:35.549340Z"
    },
    "tags": []
   },
   "outputs": [],
   "source": [
    "# plt.scatter(y_test, y_pred, alpha=.6)"
   ]
  },
  {
   "cell_type": "code",
   "execution_count": null,
   "id": "718704bb-30de-42e8-9756-39e83d71c54d",
   "metadata": {},
   "outputs": [],
   "source": []
  }
 ],
 "metadata": {
  "kernelspec": {
   "display_name": "Python 3 (ipykernel)",
   "language": "python",
   "name": "python3"
  },
  "language_info": {
   "codemirror_mode": {
    "name": "ipython",
    "version": 3
   },
   "file_extension": ".py",
   "mimetype": "text/x-python",
   "name": "python",
   "nbconvert_exporter": "python",
   "pygments_lexer": "ipython3",
   "version": "3.9.15"
  }
 },
 "nbformat": 4,
 "nbformat_minor": 5
}
