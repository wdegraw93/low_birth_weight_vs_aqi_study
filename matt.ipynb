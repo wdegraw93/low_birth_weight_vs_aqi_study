{
 "cells": [
  {
   "cell_type": "markdown",
   "id": "bb87ac76-6e5a-4bb9-b4c4-5ef88304c3c7",
   "metadata": {},
   "source": [
    "# Data Collection and Cleaning"
   ]
  },
  {
   "cell_type": "markdown",
   "id": "eeeea78f-9b61-4564-b6b1-6e5132edf148",
   "metadata": {},
   "source": [
    "Data has been collected from both the EPA for Air Quality Index data and from the CDC for birth data relating to weight.  "
   ]
  },
  {
   "cell_type": "markdown",
   "id": "ddde48d8-8b2c-4ccf-ac47-16333269d8ac",
   "metadata": {},
   "source": [
    "## Imports"
   ]
  },
  {
   "cell_type": "code",
   "execution_count": 464,
   "id": "b78cde8d-490d-4f0a-8843-b65070799d81",
   "metadata": {
    "execution": {
     "iopub.execute_input": "2023-01-18T08:06:00.924443Z",
     "iopub.status.busy": "2023-01-18T08:06:00.923045Z",
     "iopub.status.idle": "2023-01-18T08:06:00.939537Z",
     "shell.execute_reply": "2023-01-18T08:06:00.936163Z",
     "shell.execute_reply.started": "2023-01-18T08:06:00.924382Z"
    },
    "tags": []
   },
   "outputs": [],
   "source": [
    "import pandas as pd\n",
    "import numpy as np\n",
    "import matplotlib.pyplot as plt\n",
    "import seaborn as sns\n",
    "\n",
    "from pathlib import Path"
   ]
  },
  {
   "cell_type": "markdown",
   "id": "3fb70775-2797-4998-aff2-54b85c1e471c",
   "metadata": {},
   "source": [
    "## Data"
   ]
  },
  {
   "cell_type": "markdown",
   "id": "38dc7b5b-6af5-4cb6-adda-b35c38f224d2",
   "metadata": {},
   "source": [
    "### EPA AQI Data\n",
    "\n",
    "Data is in individual CSV files that need to be read in and concatenated"
   ]
  },
  {
   "cell_type": "code",
   "execution_count": 465,
   "id": "b05af9ce-2096-43df-a7ca-50df73686e2a",
   "metadata": {
    "execution": {
     "iopub.execute_input": "2023-01-18T08:06:00.941681Z",
     "iopub.status.busy": "2023-01-18T08:06:00.941325Z",
     "iopub.status.idle": "2023-01-18T08:06:01.417887Z",
     "shell.execute_reply": "2023-01-18T08:06:01.417463Z",
     "shell.execute_reply.started": "2023-01-18T08:06:00.941664Z"
    },
    "tags": []
   },
   "outputs": [],
   "source": [
    "data_path = Path('data/')\n",
    "\n",
    "# create a list of all the AQI csv files\n",
    "aqs_dfs = [\n",
    "    pd.read_csv(file) for file in data_path.glob('AQS_county*') if file.is_file()\n",
    "]\n",
    "\n",
    "# concatenate the dataframes\n",
    "aqs = pd.concat(aqs_dfs)"
   ]
  },
  {
   "cell_type": "markdown",
   "id": "19b9f0e2-904c-4fe2-86e4-a837336af32d",
   "metadata": {},
   "source": [
    "#### Important note: use validity indicator to drop unusable rows\n",
    "\n",
    "After spending time with the data dictionary and other various resources from AirData on the aspects of the data we were collecting we decided to filter out certain values.  So here we only want data that has been indicated as valid."
   ]
  },
  {
   "cell_type": "code",
   "execution_count": 466,
   "id": "ed7c5fef-4ea0-42d4-8dce-cecab94dfe90",
   "metadata": {
    "execution": {
     "iopub.execute_input": "2023-01-18T08:06:01.418437Z",
     "iopub.status.busy": "2023-01-18T08:06:01.418352Z",
     "iopub.status.idle": "2023-01-18T08:06:01.488680Z",
     "shell.execute_reply": "2023-01-18T08:06:01.488339Z",
     "shell.execute_reply.started": "2023-01-18T08:06:01.418428Z"
    },
    "tags": []
   },
   "outputs": [],
   "source": [
    "aqs = aqs[aqs['validity_indicator']=='Y']"
   ]
  },
  {
   "cell_type": "code",
   "execution_count": 467,
   "id": "58785dfe-69be-41cb-9e77-0e2c2caf52b0",
   "metadata": {
    "execution": {
     "iopub.execute_input": "2023-01-18T08:06:01.489314Z",
     "iopub.status.busy": "2023-01-18T08:06:01.489176Z",
     "iopub.status.idle": "2023-01-18T08:06:01.492216Z",
     "shell.execute_reply": "2023-01-18T08:06:01.491899Z",
     "shell.execute_reply.started": "2023-01-18T08:06:01.489304Z"
    },
    "tags": []
   },
   "outputs": [
    {
     "data": {
      "text/plain": [
       "(78089, 57)"
      ]
     },
     "execution_count": 467,
     "metadata": {},
     "output_type": "execute_result"
    }
   ],
   "source": [
    "aqs.shape"
   ]
  },
  {
   "cell_type": "markdown",
   "id": "36915124-e247-4fc1-be8f-50fafc678a02",
   "metadata": {},
   "source": [
    "#### Borrow EPA standard and only take measurements where `valid_day_count` > 75% of days in year\n",
    "\n",
    "The EPA generally uses 75% as the cutoff for aggregation measures, so we will follow that here.\n",
    "* [Source](https://aqs.epa.gov/aqsweb/documents/about_aqs_data.html#data-aggregation-summarization)"
   ]
  },
  {
   "cell_type": "code",
   "execution_count": 468,
   "id": "d617972e-b986-4c3f-adc0-3d752042ada9",
   "metadata": {
    "execution": {
     "iopub.execute_input": "2023-01-18T08:06:01.493693Z",
     "iopub.status.busy": "2023-01-18T08:06:01.493551Z",
     "iopub.status.idle": "2023-01-18T08:06:01.496384Z",
     "shell.execute_reply": "2023-01-18T08:06:01.496033Z",
     "shell.execute_reply.started": "2023-01-18T08:06:01.493679Z"
    },
    "tags": []
   },
   "outputs": [
    {
     "data": {
      "text/plain": [
       "273.75"
      ]
     },
     "execution_count": 468,
     "metadata": {},
     "output_type": "execute_result"
    }
   ],
   "source": [
    ".75*365"
   ]
  },
  {
   "cell_type": "code",
   "execution_count": 469,
   "id": "eede4c5d-4254-4e86-9cd0-affe8b032303",
   "metadata": {
    "execution": {
     "iopub.execute_input": "2023-01-18T08:06:01.497070Z",
     "iopub.status.busy": "2023-01-18T08:06:01.496937Z",
     "iopub.status.idle": "2023-01-18T08:06:01.509996Z",
     "shell.execute_reply": "2023-01-18T08:06:01.509614Z",
     "shell.execute_reply.started": "2023-01-18T08:06:01.497061Z"
    },
    "tags": []
   },
   "outputs": [],
   "source": [
    "aqs = aqs[aqs['valid_day_count'] > .75*365]"
   ]
  },
  {
   "cell_type": "code",
   "execution_count": 470,
   "id": "b9768e83-5086-4005-8493-8fac03ef9f43",
   "metadata": {
    "execution": {
     "iopub.execute_input": "2023-01-18T08:06:01.510570Z",
     "iopub.status.busy": "2023-01-18T08:06:01.510483Z",
     "iopub.status.idle": "2023-01-18T08:06:01.512900Z",
     "shell.execute_reply": "2023-01-18T08:06:01.512597Z",
     "shell.execute_reply.started": "2023-01-18T08:06:01.510562Z"
    },
    "tags": []
   },
   "outputs": [
    {
     "data": {
      "text/plain": [
       "(37855, 57)"
      ]
     },
     "execution_count": 470,
     "metadata": {},
     "output_type": "execute_result"
    }
   ],
   "source": [
    "aqs.shape"
   ]
  },
  {
   "cell_type": "markdown",
   "id": "4b93ef25-7724-4942-a6f9-79328da3ca2b",
   "metadata": {},
   "source": [
    "#### Columns to Drop\n",
    "\n",
    "As we went through the various stages of looking at all the data that was coming from the API collection, and considering what parameters and data we were focusing on for this project, we collected a list of the columns from the data to drop:"
   ]
  },
  {
   "cell_type": "code",
   "execution_count": 471,
   "id": "61416b23-bded-46be-bd3e-699a74443cac",
   "metadata": {
    "execution": {
     "iopub.execute_input": "2023-01-18T08:06:01.513494Z",
     "iopub.status.busy": "2023-01-18T08:06:01.513376Z",
     "iopub.status.idle": "2023-01-18T08:06:01.516857Z",
     "shell.execute_reply": "2023-01-18T08:06:01.516481Z",
     "shell.execute_reply.started": "2023-01-18T08:06:01.513485Z"
    },
    "tags": []
   },
   "outputs": [],
   "source": [
    "drop = ['state_code',\n",
    " 'county_code',\n",
    " 'site_number',\n",
    " 'parameter_code',\n",
    " 'poc',\n",
    " 'latitude',\n",
    " 'longitude',\n",
    " 'city', 'cbsa_code', 'cbsa', 'date_of_last_change',\n",
    " 'first_max_value',\n",
    "  'first_max_datetime',\n",
    "  'second_max_value',\n",
    "  'second_max_datetime',\n",
    "  'third_max_value',\n",
    "  'third_max_datetime',\n",
    "  'fourth_max_value',\n",
    "  'fourth_max_datetime',\n",
    "  'first_max_nonoverlap_value',\n",
    "  'first_max_n_o_datetime',\n",
    "  'second_max_nonoverlap_value',\n",
    "  'second_max_n_o_datetime',\n",
    "  'ninety_ninth_percentile',\n",
    "  'ninety_eighth_percentile',\n",
    "  'ninety_fifth_percentile',\n",
    "  'ninetieth_percentile',\n",
    "  'seventy_fifth_percentile',\n",
    "  'fiftieth_percentile',\n",
    "  'tenth_percentile',\n",
    "  'local_site_name',\n",
    "  'site_address',\n",
    " 'datum',\n",
    " 'units_of_measure',\n",
    " 'sample_duration',\n",
    " 'secondary_exceedance_count',\n",
    " 'pollutant_standard',\n",
    " 'metric_used',\n",
    " 'method',\n",
    " 'event_type',\n",
    " 'observation_count',\n",
    " 'observation_percent',\n",
    " 'required_day_count',\n",
    " 'exceptional_data_count',\n",
    " 'null_observation_count']"
   ]
  },
  {
   "cell_type": "code",
   "execution_count": 472,
   "id": "aac319d5-c3ff-4e64-83b8-1bf7cfd620d6",
   "metadata": {
    "execution": {
     "iopub.execute_input": "2023-01-18T08:06:01.517802Z",
     "iopub.status.busy": "2023-01-18T08:06:01.517600Z",
     "iopub.status.idle": "2023-01-18T08:06:01.523756Z",
     "shell.execute_reply": "2023-01-18T08:06:01.523458Z",
     "shell.execute_reply.started": "2023-01-18T08:06:01.517788Z"
    },
    "tags": []
   },
   "outputs": [],
   "source": [
    "aqs.drop(columns=drop, inplace=True)"
   ]
  },
  {
   "cell_type": "code",
   "execution_count": 473,
   "id": "c2f4626e-ffb8-4e6f-b892-6c86a7f27362",
   "metadata": {
    "execution": {
     "iopub.execute_input": "2023-01-18T08:06:01.524535Z",
     "iopub.status.busy": "2023-01-18T08:06:01.524386Z",
     "iopub.status.idle": "2023-01-18T08:06:01.532022Z",
     "shell.execute_reply": "2023-01-18T08:06:01.531627Z",
     "shell.execute_reply.started": "2023-01-18T08:06:01.524523Z"
    },
    "tags": []
   },
   "outputs": [
    {
     "data": {
      "text/html": [
       "<div>\n",
       "<style scoped>\n",
       "    .dataframe tbody tr th:only-of-type {\n",
       "        vertical-align: middle;\n",
       "    }\n",
       "\n",
       "    .dataframe tbody tr th {\n",
       "        vertical-align: top;\n",
       "    }\n",
       "\n",
       "    .dataframe thead th {\n",
       "        text-align: right;\n",
       "    }\n",
       "</style>\n",
       "<table border=\"1\" class=\"dataframe\">\n",
       "  <thead>\n",
       "    <tr style=\"text-align: right;\">\n",
       "      <th></th>\n",
       "      <th>parameter</th>\n",
       "      <th>sample_duration_code</th>\n",
       "      <th>year</th>\n",
       "      <th>validity_indicator</th>\n",
       "      <th>valid_day_count</th>\n",
       "      <th>primary_exceedance_count</th>\n",
       "      <th>certification_indicator</th>\n",
       "      <th>arithmetic_mean</th>\n",
       "      <th>standard_deviation</th>\n",
       "      <th>state</th>\n",
       "      <th>county</th>\n",
       "      <th>Unnamed: 0</th>\n",
       "    </tr>\n",
       "  </thead>\n",
       "  <tbody>\n",
       "    <tr>\n",
       "      <th>0</th>\n",
       "      <td>Carbon monoxide</td>\n",
       "      <td>1</td>\n",
       "      <td>2006</td>\n",
       "      <td>Y</td>\n",
       "      <td>357</td>\n",
       "      <td>0.0</td>\n",
       "      <td>Certified</td>\n",
       "      <td>0.606517</td>\n",
       "      <td>0.325145</td>\n",
       "      <td>Indiana</td>\n",
       "      <td>Allen</td>\n",
       "      <td>NaN</td>\n",
       "    </tr>\n",
       "    <tr>\n",
       "      <th>1</th>\n",
       "      <td>Carbon monoxide</td>\n",
       "      <td>Z</td>\n",
       "      <td>2006</td>\n",
       "      <td>Y</td>\n",
       "      <td>357</td>\n",
       "      <td>0.0</td>\n",
       "      <td>Certified</td>\n",
       "      <td>0.610952</td>\n",
       "      <td>0.299519</td>\n",
       "      <td>Indiana</td>\n",
       "      <td>Allen</td>\n",
       "      <td>NaN</td>\n",
       "    </tr>\n",
       "    <tr>\n",
       "      <th>54</th>\n",
       "      <td>Sulfur dioxide</td>\n",
       "      <td>1</td>\n",
       "      <td>2006</td>\n",
       "      <td>Y</td>\n",
       "      <td>342</td>\n",
       "      <td>NaN</td>\n",
       "      <td>Uncertified (past due)</td>\n",
       "      <td>6.141494</td>\n",
       "      <td>12.101983</td>\n",
       "      <td>Indiana</td>\n",
       "      <td>Daviess</td>\n",
       "      <td>NaN</td>\n",
       "    </tr>\n",
       "    <tr>\n",
       "      <th>55</th>\n",
       "      <td>Sulfur dioxide</td>\n",
       "      <td>1</td>\n",
       "      <td>2006</td>\n",
       "      <td>Y</td>\n",
       "      <td>342</td>\n",
       "      <td>27.0</td>\n",
       "      <td>Uncertified (past due)</td>\n",
       "      <td>23.324561</td>\n",
       "      <td>30.901080</td>\n",
       "      <td>Indiana</td>\n",
       "      <td>Daviess</td>\n",
       "      <td>NaN</td>\n",
       "    </tr>\n",
       "    <tr>\n",
       "      <th>56</th>\n",
       "      <td>Sulfur dioxide</td>\n",
       "      <td>X</td>\n",
       "      <td>2006</td>\n",
       "      <td>Y</td>\n",
       "      <td>342</td>\n",
       "      <td>0.0</td>\n",
       "      <td>Uncertified (past due)</td>\n",
       "      <td>6.179240</td>\n",
       "      <td>6.938465</td>\n",
       "      <td>Indiana</td>\n",
       "      <td>Daviess</td>\n",
       "      <td>NaN</td>\n",
       "    </tr>\n",
       "  </tbody>\n",
       "</table>\n",
       "</div>"
      ],
      "text/plain": [
       "          parameter sample_duration_code  year validity_indicator  \\\n",
       "0   Carbon monoxide                    1  2006                  Y   \n",
       "1   Carbon monoxide                    Z  2006                  Y   \n",
       "54   Sulfur dioxide                    1  2006                  Y   \n",
       "55   Sulfur dioxide                    1  2006                  Y   \n",
       "56   Sulfur dioxide                    X  2006                  Y   \n",
       "\n",
       "    valid_day_count  primary_exceedance_count certification_indicator  \\\n",
       "0               357                       0.0               Certified   \n",
       "1               357                       0.0               Certified   \n",
       "54              342                       NaN  Uncertified (past due)   \n",
       "55              342                      27.0  Uncertified (past due)   \n",
       "56              342                       0.0  Uncertified (past due)   \n",
       "\n",
       "    arithmetic_mean  standard_deviation    state   county  Unnamed: 0  \n",
       "0          0.606517            0.325145  Indiana    Allen         NaN  \n",
       "1          0.610952            0.299519  Indiana    Allen         NaN  \n",
       "54         6.141494           12.101983  Indiana  Daviess         NaN  \n",
       "55        23.324561           30.901080  Indiana  Daviess         NaN  \n",
       "56         6.179240            6.938465  Indiana  Daviess         NaN  "
      ]
     },
     "execution_count": 473,
     "metadata": {},
     "output_type": "execute_result"
    }
   ],
   "source": [
    "aqs.head()"
   ]
  },
  {
   "cell_type": "code",
   "execution_count": 474,
   "id": "3dc7f760-3086-45e2-8239-7fbcf45308c6",
   "metadata": {
    "execution": {
     "iopub.execute_input": "2023-01-18T08:06:01.532784Z",
     "iopub.status.busy": "2023-01-18T08:06:01.532583Z",
     "iopub.status.idle": "2023-01-18T08:06:01.535996Z",
     "shell.execute_reply": "2023-01-18T08:06:01.535660Z",
     "shell.execute_reply.started": "2023-01-18T08:06:01.532768Z"
    }
   },
   "outputs": [
    {
     "data": {
      "text/plain": [
       "Index(['parameter', 'sample_duration_code', 'year', 'validity_indicator',\n",
       "       'valid_day_count', 'primary_exceedance_count',\n",
       "       'certification_indicator', 'arithmetic_mean', 'standard_deviation',\n",
       "       'state', 'county', 'Unnamed: 0'],\n",
       "      dtype='object')"
      ]
     },
     "execution_count": 474,
     "metadata": {},
     "output_type": "execute_result"
    }
   ],
   "source": [
    "aqs.columns"
   ]
  },
  {
   "cell_type": "markdown",
   "id": "82ff519a-c220-40e5-b856-f10bfb17860c",
   "metadata": {},
   "source": [
    "#### Check County and State Information\n",
    "\n",
    "Mainly looking for outliers or any text in the names that might be cause for further investigation, especially since we will be merging this data with the CDC data based on year, state, and county."
   ]
  },
  {
   "cell_type": "code",
   "execution_count": 475,
   "id": "f2d69047-ca0e-4e8e-a0fa-a09d5e4578d4",
   "metadata": {
    "execution": {
     "iopub.execute_input": "2023-01-18T08:06:01.536488Z",
     "iopub.status.busy": "2023-01-18T08:06:01.536392Z",
     "iopub.status.idle": "2023-01-18T08:06:01.538187Z",
     "shell.execute_reply": "2023-01-18T08:06:01.537911Z",
     "shell.execute_reply.started": "2023-01-18T08:06:01.536478Z"
    },
    "tags": []
   },
   "outputs": [],
   "source": [
    "# aqs['county'].unique()"
   ]
  },
  {
   "cell_type": "code",
   "execution_count": 476,
   "id": "adb850a5-6072-444a-bcf6-8550f222541a",
   "metadata": {
    "execution": {
     "iopub.execute_input": "2023-01-18T08:06:01.538608Z",
     "iopub.status.busy": "2023-01-18T08:06:01.538525Z",
     "iopub.status.idle": "2023-01-18T08:06:01.542532Z",
     "shell.execute_reply": "2023-01-18T08:06:01.542282Z",
     "shell.execute_reply.started": "2023-01-18T08:06:01.538600Z"
    },
    "tags": []
   },
   "outputs": [
    {
     "data": {
      "text/plain": [
       "array(['Indiana', 'Arkansas', 'Alabama', 'Alaska', 'Arizona',\n",
       "       'California', 'Colorado', 'Connecticut', 'Delaware',\n",
       "       'District Of Columbia', 'Florida', 'Georgia', 'Hawaii', 'Idaho',\n",
       "       'Illinois', 'Iowa', 'Kansas', 'Kentucky', 'Louisiana', 'Maine',\n",
       "       'Maryland', 'Massachusetts', 'Michigan', 'Minnesota',\n",
       "       'Mississippi', 'Missouri', 'Montana', 'Nebraska', 'Nevada',\n",
       "       'New Hampshire', 'New Jersey', 'New Mexico', 'New York',\n",
       "       'North Carolina', 'North Dakota', 'Ohio', 'Oklahoma', 'Oregon',\n",
       "       'Pennsylvania', 'Rhode Island', 'South Carolina', 'South Dakota',\n",
       "       'Tennessee', 'Texas', 'Utah', 'Vermont', 'Virginia', 'Washington',\n",
       "       'West Virginia', 'Wisconsin', 'Wyoming', 'Puerto Rico'],\n",
       "      dtype=object)"
      ]
     },
     "execution_count": 476,
     "metadata": {},
     "output_type": "execute_result"
    }
   ],
   "source": [
    "aqs['state'].unique()"
   ]
  },
  {
   "cell_type": "markdown",
   "id": "dcbb4d61-26a3-4443-ac0f-673f5136857a",
   "metadata": {},
   "source": [
    "May want to drop locations such as:\n",
    "* Puerto Rico"
   ]
  },
  {
   "cell_type": "markdown",
   "id": "2cac8766-f49b-44ea-a48c-b68e32f72fd0",
   "metadata": {},
   "source": [
    "#### Transform Data\n",
    "\n",
    "The data came in as individual rows, but we need to transform/reshape the data so that the AQI pollutants are columns and the values match with the year/state/county they are reported in so that we can have a complete dataset for modeling."
   ]
  },
  {
   "cell_type": "code",
   "execution_count": 477,
   "id": "d655e2e8-63bc-49eb-9788-b08238aca35d",
   "metadata": {
    "execution": {
     "iopub.execute_input": "2023-01-18T08:06:01.545505Z",
     "iopub.status.busy": "2023-01-18T08:06:01.545296Z",
     "iopub.status.idle": "2023-01-18T08:06:01.561368Z",
     "shell.execute_reply": "2023-01-18T08:06:01.561055Z",
     "shell.execute_reply.started": "2023-01-18T08:06:01.545495Z"
    },
    "tags": []
   },
   "outputs": [],
   "source": [
    "county_aqs = aqs.groupby(['state', 'county', 'year', 'parameter'])['arithmetic_mean'].mean().unstack().reset_index()"
   ]
  },
  {
   "cell_type": "code",
   "execution_count": 478,
   "id": "de21b944-ed1a-4628-9fa6-5328c90ceb4a",
   "metadata": {
    "execution": {
     "iopub.execute_input": "2023-01-18T08:06:01.561903Z",
     "iopub.status.busy": "2023-01-18T08:06:01.561801Z",
     "iopub.status.idle": "2023-01-18T08:06:01.569173Z",
     "shell.execute_reply": "2023-01-18T08:06:01.568689Z",
     "shell.execute_reply.started": "2023-01-18T08:06:01.561893Z"
    },
    "tags": []
   },
   "outputs": [
    {
     "data": {
      "text/html": [
       "<div>\n",
       "<style scoped>\n",
       "    .dataframe tbody tr th:only-of-type {\n",
       "        vertical-align: middle;\n",
       "    }\n",
       "\n",
       "    .dataframe tbody tr th {\n",
       "        vertical-align: top;\n",
       "    }\n",
       "\n",
       "    .dataframe thead th {\n",
       "        text-align: right;\n",
       "    }\n",
       "</style>\n",
       "<table border=\"1\" class=\"dataframe\">\n",
       "  <thead>\n",
       "    <tr style=\"text-align: right;\">\n",
       "      <th>parameter</th>\n",
       "      <th>state</th>\n",
       "      <th>county</th>\n",
       "      <th>year</th>\n",
       "      <th>Carbon monoxide</th>\n",
       "      <th>Lead (TSP) LC</th>\n",
       "      <th>Nitrogen dioxide (NO2)</th>\n",
       "      <th>Ozone</th>\n",
       "      <th>PM10 Total 0-10um STP</th>\n",
       "      <th>PM2.5 - Local Conditions</th>\n",
       "      <th>Sulfur dioxide</th>\n",
       "    </tr>\n",
       "  </thead>\n",
       "  <tbody>\n",
       "    <tr>\n",
       "      <th>0</th>\n",
       "      <td>Alabama</td>\n",
       "      <td>Colbert</td>\n",
       "      <td>2006</td>\n",
       "      <td>NaN</td>\n",
       "      <td>NaN</td>\n",
       "      <td>NaN</td>\n",
       "      <td>NaN</td>\n",
       "      <td>NaN</td>\n",
       "      <td>NaN</td>\n",
       "      <td>3.467840</td>\n",
       "    </tr>\n",
       "    <tr>\n",
       "      <th>1</th>\n",
       "      <td>Alabama</td>\n",
       "      <td>Colbert</td>\n",
       "      <td>2010</td>\n",
       "      <td>NaN</td>\n",
       "      <td>NaN</td>\n",
       "      <td>NaN</td>\n",
       "      <td>NaN</td>\n",
       "      <td>NaN</td>\n",
       "      <td>11.107902</td>\n",
       "      <td>NaN</td>\n",
       "    </tr>\n",
       "    <tr>\n",
       "      <th>2</th>\n",
       "      <td>Alabama</td>\n",
       "      <td>Etowah</td>\n",
       "      <td>2008</td>\n",
       "      <td>NaN</td>\n",
       "      <td>NaN</td>\n",
       "      <td>NaN</td>\n",
       "      <td>NaN</td>\n",
       "      <td>NaN</td>\n",
       "      <td>12.375394</td>\n",
       "      <td>NaN</td>\n",
       "    </tr>\n",
       "    <tr>\n",
       "      <th>3</th>\n",
       "      <td>Alabama</td>\n",
       "      <td>Etowah</td>\n",
       "      <td>2009</td>\n",
       "      <td>NaN</td>\n",
       "      <td>NaN</td>\n",
       "      <td>NaN</td>\n",
       "      <td>NaN</td>\n",
       "      <td>NaN</td>\n",
       "      <td>10.200000</td>\n",
       "      <td>NaN</td>\n",
       "    </tr>\n",
       "    <tr>\n",
       "      <th>4</th>\n",
       "      <td>Alabama</td>\n",
       "      <td>Etowah</td>\n",
       "      <td>2010</td>\n",
       "      <td>NaN</td>\n",
       "      <td>NaN</td>\n",
       "      <td>NaN</td>\n",
       "      <td>NaN</td>\n",
       "      <td>NaN</td>\n",
       "      <td>14.086238</td>\n",
       "      <td>NaN</td>\n",
       "    </tr>\n",
       "    <tr>\n",
       "      <th>5</th>\n",
       "      <td>Alabama</td>\n",
       "      <td>Houston</td>\n",
       "      <td>2010</td>\n",
       "      <td>NaN</td>\n",
       "      <td>NaN</td>\n",
       "      <td>NaN</td>\n",
       "      <td>NaN</td>\n",
       "      <td>NaN</td>\n",
       "      <td>12.826765</td>\n",
       "      <td>NaN</td>\n",
       "    </tr>\n",
       "    <tr>\n",
       "      <th>6</th>\n",
       "      <td>Alabama</td>\n",
       "      <td>Jackson</td>\n",
       "      <td>2006</td>\n",
       "      <td>NaN</td>\n",
       "      <td>NaN</td>\n",
       "      <td>NaN</td>\n",
       "      <td>NaN</td>\n",
       "      <td>NaN</td>\n",
       "      <td>NaN</td>\n",
       "      <td>4.273782</td>\n",
       "    </tr>\n",
       "    <tr>\n",
       "      <th>7</th>\n",
       "      <td>Alabama</td>\n",
       "      <td>Jefferson</td>\n",
       "      <td>2006</td>\n",
       "      <td>0.731167</td>\n",
       "      <td>NaN</td>\n",
       "      <td>NaN</td>\n",
       "      <td>NaN</td>\n",
       "      <td>34.578422</td>\n",
       "      <td>18.233563</td>\n",
       "      <td>4.851470</td>\n",
       "    </tr>\n",
       "    <tr>\n",
       "      <th>8</th>\n",
       "      <td>Alabama</td>\n",
       "      <td>Jefferson</td>\n",
       "      <td>2007</td>\n",
       "      <td>0.623493</td>\n",
       "      <td>NaN</td>\n",
       "      <td>NaN</td>\n",
       "      <td>NaN</td>\n",
       "      <td>38.069028</td>\n",
       "      <td>17.421237</td>\n",
       "      <td>5.019928</td>\n",
       "    </tr>\n",
       "    <tr>\n",
       "      <th>9</th>\n",
       "      <td>Alabama</td>\n",
       "      <td>Jefferson</td>\n",
       "      <td>2008</td>\n",
       "      <td>0.640578</td>\n",
       "      <td>NaN</td>\n",
       "      <td>NaN</td>\n",
       "      <td>NaN</td>\n",
       "      <td>30.835490</td>\n",
       "      <td>14.951876</td>\n",
       "      <td>4.779135</td>\n",
       "    </tr>\n",
       "    <tr>\n",
       "      <th>10</th>\n",
       "      <td>Alabama</td>\n",
       "      <td>Jefferson</td>\n",
       "      <td>2009</td>\n",
       "      <td>0.533404</td>\n",
       "      <td>NaN</td>\n",
       "      <td>NaN</td>\n",
       "      <td>NaN</td>\n",
       "      <td>23.141359</td>\n",
       "      <td>11.496186</td>\n",
       "      <td>2.617892</td>\n",
       "    </tr>\n",
       "    <tr>\n",
       "      <th>11</th>\n",
       "      <td>Alabama</td>\n",
       "      <td>Jefferson</td>\n",
       "      <td>2010</td>\n",
       "      <td>0.366005</td>\n",
       "      <td>NaN</td>\n",
       "      <td>NaN</td>\n",
       "      <td>NaN</td>\n",
       "      <td>26.178966</td>\n",
       "      <td>13.128304</td>\n",
       "      <td>2.712198</td>\n",
       "    </tr>\n",
       "    <tr>\n",
       "      <th>12</th>\n",
       "      <td>Alabama</td>\n",
       "      <td>Jefferson</td>\n",
       "      <td>2011</td>\n",
       "      <td>0.339893</td>\n",
       "      <td>NaN</td>\n",
       "      <td>NaN</td>\n",
       "      <td>NaN</td>\n",
       "      <td>24.650289</td>\n",
       "      <td>12.820760</td>\n",
       "      <td>2.822248</td>\n",
       "    </tr>\n",
       "    <tr>\n",
       "      <th>13</th>\n",
       "      <td>Alabama</td>\n",
       "      <td>Jefferson</td>\n",
       "      <td>2012</td>\n",
       "      <td>0.354826</td>\n",
       "      <td>NaN</td>\n",
       "      <td>NaN</td>\n",
       "      <td>NaN</td>\n",
       "      <td>18.732864</td>\n",
       "      <td>NaN</td>\n",
       "      <td>2.419637</td>\n",
       "    </tr>\n",
       "    <tr>\n",
       "      <th>14</th>\n",
       "      <td>Alabama</td>\n",
       "      <td>Jefferson</td>\n",
       "      <td>2013</td>\n",
       "      <td>0.273550</td>\n",
       "      <td>NaN</td>\n",
       "      <td>NaN</td>\n",
       "      <td>NaN</td>\n",
       "      <td>18.009145</td>\n",
       "      <td>NaN</td>\n",
       "      <td>2.041100</td>\n",
       "    </tr>\n",
       "    <tr>\n",
       "      <th>15</th>\n",
       "      <td>Alabama</td>\n",
       "      <td>Jefferson</td>\n",
       "      <td>2014</td>\n",
       "      <td>0.364551</td>\n",
       "      <td>NaN</td>\n",
       "      <td>17.283023</td>\n",
       "      <td>NaN</td>\n",
       "      <td>20.324802</td>\n",
       "      <td>11.659570</td>\n",
       "      <td>2.113725</td>\n",
       "    </tr>\n",
       "    <tr>\n",
       "      <th>16</th>\n",
       "      <td>Alabama</td>\n",
       "      <td>Jefferson</td>\n",
       "      <td>2015</td>\n",
       "      <td>0.382271</td>\n",
       "      <td>NaN</td>\n",
       "      <td>14.852636</td>\n",
       "      <td>NaN</td>\n",
       "      <td>19.045818</td>\n",
       "      <td>11.623259</td>\n",
       "      <td>1.443488</td>\n",
       "    </tr>\n",
       "    <tr>\n",
       "      <th>17</th>\n",
       "      <td>Alabama</td>\n",
       "      <td>Jefferson</td>\n",
       "      <td>2016</td>\n",
       "      <td>0.333729</td>\n",
       "      <td>NaN</td>\n",
       "      <td>17.242060</td>\n",
       "      <td>NaN</td>\n",
       "      <td>19.540222</td>\n",
       "      <td>10.488658</td>\n",
       "      <td>1.936249</td>\n",
       "    </tr>\n",
       "    <tr>\n",
       "      <th>18</th>\n",
       "      <td>Alabama</td>\n",
       "      <td>Madison</td>\n",
       "      <td>2008</td>\n",
       "      <td>NaN</td>\n",
       "      <td>NaN</td>\n",
       "      <td>NaN</td>\n",
       "      <td>NaN</td>\n",
       "      <td>NaN</td>\n",
       "      <td>12.232941</td>\n",
       "      <td>NaN</td>\n",
       "    </tr>\n",
       "    <tr>\n",
       "      <th>19</th>\n",
       "      <td>Alabama</td>\n",
       "      <td>Mobile</td>\n",
       "      <td>2006</td>\n",
       "      <td>NaN</td>\n",
       "      <td>NaN</td>\n",
       "      <td>NaN</td>\n",
       "      <td>NaN</td>\n",
       "      <td>22.062511</td>\n",
       "      <td>NaN</td>\n",
       "      <td>NaN</td>\n",
       "    </tr>\n",
       "  </tbody>\n",
       "</table>\n",
       "</div>"
      ],
      "text/plain": [
       "parameter    state     county  year  Carbon monoxide  Lead (TSP) LC  \\\n",
       "0          Alabama    Colbert  2006              NaN            NaN   \n",
       "1          Alabama    Colbert  2010              NaN            NaN   \n",
       "2          Alabama     Etowah  2008              NaN            NaN   \n",
       "3          Alabama     Etowah  2009              NaN            NaN   \n",
       "4          Alabama     Etowah  2010              NaN            NaN   \n",
       "5          Alabama    Houston  2010              NaN            NaN   \n",
       "6          Alabama    Jackson  2006              NaN            NaN   \n",
       "7          Alabama  Jefferson  2006         0.731167            NaN   \n",
       "8          Alabama  Jefferson  2007         0.623493            NaN   \n",
       "9          Alabama  Jefferson  2008         0.640578            NaN   \n",
       "10         Alabama  Jefferson  2009         0.533404            NaN   \n",
       "11         Alabama  Jefferson  2010         0.366005            NaN   \n",
       "12         Alabama  Jefferson  2011         0.339893            NaN   \n",
       "13         Alabama  Jefferson  2012         0.354826            NaN   \n",
       "14         Alabama  Jefferson  2013         0.273550            NaN   \n",
       "15         Alabama  Jefferson  2014         0.364551            NaN   \n",
       "16         Alabama  Jefferson  2015         0.382271            NaN   \n",
       "17         Alabama  Jefferson  2016         0.333729            NaN   \n",
       "18         Alabama    Madison  2008              NaN            NaN   \n",
       "19         Alabama     Mobile  2006              NaN            NaN   \n",
       "\n",
       "parameter  Nitrogen dioxide (NO2)  Ozone  PM10 Total 0-10um STP  \\\n",
       "0                             NaN    NaN                    NaN   \n",
       "1                             NaN    NaN                    NaN   \n",
       "2                             NaN    NaN                    NaN   \n",
       "3                             NaN    NaN                    NaN   \n",
       "4                             NaN    NaN                    NaN   \n",
       "5                             NaN    NaN                    NaN   \n",
       "6                             NaN    NaN                    NaN   \n",
       "7                             NaN    NaN              34.578422   \n",
       "8                             NaN    NaN              38.069028   \n",
       "9                             NaN    NaN              30.835490   \n",
       "10                            NaN    NaN              23.141359   \n",
       "11                            NaN    NaN              26.178966   \n",
       "12                            NaN    NaN              24.650289   \n",
       "13                            NaN    NaN              18.732864   \n",
       "14                            NaN    NaN              18.009145   \n",
       "15                      17.283023    NaN              20.324802   \n",
       "16                      14.852636    NaN              19.045818   \n",
       "17                      17.242060    NaN              19.540222   \n",
       "18                            NaN    NaN                    NaN   \n",
       "19                            NaN    NaN              22.062511   \n",
       "\n",
       "parameter  PM2.5 - Local Conditions  Sulfur dioxide  \n",
       "0                               NaN        3.467840  \n",
       "1                         11.107902             NaN  \n",
       "2                         12.375394             NaN  \n",
       "3                         10.200000             NaN  \n",
       "4                         14.086238             NaN  \n",
       "5                         12.826765             NaN  \n",
       "6                               NaN        4.273782  \n",
       "7                         18.233563        4.851470  \n",
       "8                         17.421237        5.019928  \n",
       "9                         14.951876        4.779135  \n",
       "10                        11.496186        2.617892  \n",
       "11                        13.128304        2.712198  \n",
       "12                        12.820760        2.822248  \n",
       "13                              NaN        2.419637  \n",
       "14                              NaN        2.041100  \n",
       "15                        11.659570        2.113725  \n",
       "16                        11.623259        1.443488  \n",
       "17                        10.488658        1.936249  \n",
       "18                        12.232941             NaN  \n",
       "19                              NaN             NaN  "
      ]
     },
     "execution_count": 478,
     "metadata": {},
     "output_type": "execute_result"
    }
   ],
   "source": [
    "county_aqs.head(20)"
   ]
  },
  {
   "cell_type": "markdown",
   "id": "1efe7575-79e5-4de5-80c2-4c8955e5b119",
   "metadata": {},
   "source": [
    "# QUESTIONS\n",
    "* Should we impute data or how should we deal with NaNs?\n",
    "    * Should we filter on counties that have all the readings?\n",
    "* Do we need to try and get the other data into this format?  Like 'valid_day_count', 'primary_exceedance_count' or standard deviation\n",
    "* Rename the columns now so they are easier to reference later on\n",
    "* Drop the parameter index column"
   ]
  },
  {
   "cell_type": "markdown",
   "id": "244fe0a9-fbc1-48be-a77f-fe3d3a361eab",
   "metadata": {},
   "source": [
    "### CDC Data"
   ]
  },
  {
   "cell_type": "markdown",
   "id": "38d268be-a908-45fd-8a02-41d4f1ea4e5f",
   "metadata": {},
   "source": [
    "Want to import the CDC data and compare the counties.\n",
    "\n",
    "We are using the WONDER tool from the CDC to export the files that we are importing to this notebook. For both files, we filtered out any births with maternal risk factors so we they are not influencing birth weight.  There are some years that have no or suppressed data, which are omitted from the CDC export and are not present.We filtered out any births with maternal risk factors so we they are not influencing birth weight.  There are some years that have no or suppressed data, which are omitted from the CDC export and are not present. \n",
    "\n",
    "There are two main files:\n",
    "1. `Natality_low_2007-2021` which represents all the births below 2500 grams by year and county. \n",
    "1. `Natality_all_2007-2021` which represents all the births by year and county."
   ]
  },
  {
   "cell_type": "markdown",
   "id": "08a3e145-37ac-401d-b872-3c73fa839e6a",
   "metadata": {},
   "source": [
    "#### Import Data"
   ]
  },
  {
   "cell_type": "code",
   "execution_count": 479,
   "id": "22b86d34-dae1-4753-833b-08ad467d7bbb",
   "metadata": {
    "execution": {
     "iopub.execute_input": "2023-01-18T08:06:01.570270Z",
     "iopub.status.busy": "2023-01-18T08:06:01.570039Z",
     "iopub.status.idle": "2023-01-18T08:06:01.584582Z",
     "shell.execute_reply": "2023-01-18T08:06:01.584263Z",
     "shell.execute_reply.started": "2023-01-18T08:06:01.570253Z"
    },
    "tags": []
   },
   "outputs": [],
   "source": [
    "cdc_low = pd.read_csv('data/Natality_low_2007-2021.txt', sep='\\t')\n",
    "cdc_all = pd.read_csv('data/Natality_all_2007-2021.txt', sep='\\t')"
   ]
  },
  {
   "cell_type": "markdown",
   "id": "438ac040-0416-4028-8129-94fd6d428d6a",
   "metadata": {},
   "source": [
    "#### General Look and Cleanup"
   ]
  },
  {
   "cell_type": "code",
   "execution_count": 480,
   "id": "76a5f011-9dca-48c4-9428-6807c3be2196",
   "metadata": {
    "execution": {
     "iopub.execute_input": "2023-01-18T08:06:01.585347Z",
     "iopub.status.busy": "2023-01-18T08:06:01.585071Z",
     "iopub.status.idle": "2023-01-18T08:06:01.591339Z",
     "shell.execute_reply": "2023-01-18T08:06:01.591037Z",
     "shell.execute_reply.started": "2023-01-18T08:06:01.585326Z"
    },
    "tags": []
   },
   "outputs": [
    {
     "data": {
      "text/html": [
       "<div>\n",
       "<style scoped>\n",
       "    .dataframe tbody tr th:only-of-type {\n",
       "        vertical-align: middle;\n",
       "    }\n",
       "\n",
       "    .dataframe tbody tr th {\n",
       "        vertical-align: top;\n",
       "    }\n",
       "\n",
       "    .dataframe thead th {\n",
       "        text-align: right;\n",
       "    }\n",
       "</style>\n",
       "<table border=\"1\" class=\"dataframe\">\n",
       "  <thead>\n",
       "    <tr style=\"text-align: right;\">\n",
       "      <th></th>\n",
       "      <th>Notes</th>\n",
       "      <th>State</th>\n",
       "      <th>State Code</th>\n",
       "      <th>County</th>\n",
       "      <th>County Code</th>\n",
       "      <th>Year</th>\n",
       "      <th>Year Code</th>\n",
       "      <th>Births</th>\n",
       "      <th>Average Birth Weight</th>\n",
       "      <th>Average LMP Gestational Age</th>\n",
       "      <th>Average OE Gestational Age</th>\n",
       "    </tr>\n",
       "  </thead>\n",
       "  <tbody>\n",
       "    <tr>\n",
       "      <th>0</th>\n",
       "      <td>NaN</td>\n",
       "      <td>Alabama</td>\n",
       "      <td>1.0</td>\n",
       "      <td>Baldwin County, AL</td>\n",
       "      <td>1003.0</td>\n",
       "      <td>2014.0</td>\n",
       "      <td>2014.0</td>\n",
       "      <td>137.0</td>\n",
       "      <td>1995.255</td>\n",
       "      <td>34.241</td>\n",
       "      <td>34.051</td>\n",
       "    </tr>\n",
       "    <tr>\n",
       "      <th>1</th>\n",
       "      <td>NaN</td>\n",
       "      <td>Alabama</td>\n",
       "      <td>1.0</td>\n",
       "      <td>Baldwin County, AL</td>\n",
       "      <td>1003.0</td>\n",
       "      <td>2015.0</td>\n",
       "      <td>2015.0</td>\n",
       "      <td>141.0</td>\n",
       "      <td>1832.837</td>\n",
       "      <td>32.965</td>\n",
       "      <td>32.922</td>\n",
       "    </tr>\n",
       "    <tr>\n",
       "      <th>2</th>\n",
       "      <td>NaN</td>\n",
       "      <td>Alabama</td>\n",
       "      <td>1.0</td>\n",
       "      <td>Baldwin County, AL</td>\n",
       "      <td>1003.0</td>\n",
       "      <td>2016.0</td>\n",
       "      <td>2016.0</td>\n",
       "      <td>120.0</td>\n",
       "      <td>2008.358</td>\n",
       "      <td>34.467</td>\n",
       "      <td>34.058</td>\n",
       "    </tr>\n",
       "    <tr>\n",
       "      <th>3</th>\n",
       "      <td>NaN</td>\n",
       "      <td>Alabama</td>\n",
       "      <td>1.0</td>\n",
       "      <td>Baldwin County, AL</td>\n",
       "      <td>1003.0</td>\n",
       "      <td>2017.0</td>\n",
       "      <td>2017.0</td>\n",
       "      <td>100.0</td>\n",
       "      <td>2082.830</td>\n",
       "      <td>34.550</td>\n",
       "      <td>34.380</td>\n",
       "    </tr>\n",
       "    <tr>\n",
       "      <th>4</th>\n",
       "      <td>NaN</td>\n",
       "      <td>Alabama</td>\n",
       "      <td>1.0</td>\n",
       "      <td>Baldwin County, AL</td>\n",
       "      <td>1003.0</td>\n",
       "      <td>2018.0</td>\n",
       "      <td>2018.0</td>\n",
       "      <td>122.0</td>\n",
       "      <td>1942.303</td>\n",
       "      <td>33.762</td>\n",
       "      <td>33.508</td>\n",
       "    </tr>\n",
       "  </tbody>\n",
       "</table>\n",
       "</div>"
      ],
      "text/plain": [
       "  Notes    State  State Code              County  County Code    Year  \\\n",
       "0   NaN  Alabama         1.0  Baldwin County, AL       1003.0  2014.0   \n",
       "1   NaN  Alabama         1.0  Baldwin County, AL       1003.0  2015.0   \n",
       "2   NaN  Alabama         1.0  Baldwin County, AL       1003.0  2016.0   \n",
       "3   NaN  Alabama         1.0  Baldwin County, AL       1003.0  2017.0   \n",
       "4   NaN  Alabama         1.0  Baldwin County, AL       1003.0  2018.0   \n",
       "\n",
       "   Year Code  Births  Average Birth Weight  Average LMP Gestational Age  \\\n",
       "0     2014.0   137.0              1995.255                       34.241   \n",
       "1     2015.0   141.0              1832.837                       32.965   \n",
       "2     2016.0   120.0              2008.358                       34.467   \n",
       "3     2017.0   100.0              2082.830                       34.550   \n",
       "4     2018.0   122.0              1942.303                       33.762   \n",
       "\n",
       "   Average OE Gestational Age  \n",
       "0                      34.051  \n",
       "1                      32.922  \n",
       "2                      34.058  \n",
       "3                      34.380  \n",
       "4                      33.508  "
      ]
     },
     "execution_count": 480,
     "metadata": {},
     "output_type": "execute_result"
    }
   ],
   "source": [
    "cdc_low.head()"
   ]
  },
  {
   "cell_type": "code",
   "execution_count": 481,
   "id": "d4d39e68-086c-46ba-a560-5f34a7702cfb",
   "metadata": {
    "execution": {
     "iopub.execute_input": "2023-01-18T08:06:01.592024Z",
     "iopub.status.busy": "2023-01-18T08:06:01.591883Z",
     "iopub.status.idle": "2023-01-18T08:06:01.598583Z",
     "shell.execute_reply": "2023-01-18T08:06:01.598212Z",
     "shell.execute_reply.started": "2023-01-18T08:06:01.592009Z"
    },
    "tags": []
   },
   "outputs": [
    {
     "data": {
      "text/html": [
       "<div>\n",
       "<style scoped>\n",
       "    .dataframe tbody tr th:only-of-type {\n",
       "        vertical-align: middle;\n",
       "    }\n",
       "\n",
       "    .dataframe tbody tr th {\n",
       "        vertical-align: top;\n",
       "    }\n",
       "\n",
       "    .dataframe thead th {\n",
       "        text-align: right;\n",
       "    }\n",
       "</style>\n",
       "<table border=\"1\" class=\"dataframe\">\n",
       "  <thead>\n",
       "    <tr style=\"text-align: right;\">\n",
       "      <th></th>\n",
       "      <th>Notes</th>\n",
       "      <th>State</th>\n",
       "      <th>State Code</th>\n",
       "      <th>County</th>\n",
       "      <th>County Code</th>\n",
       "      <th>Year</th>\n",
       "      <th>Year Code</th>\n",
       "      <th>Births</th>\n",
       "      <th>Average Birth Weight</th>\n",
       "      <th>Average LMP Gestational Age</th>\n",
       "      <th>Average OE Gestational Age</th>\n",
       "    </tr>\n",
       "  </thead>\n",
       "  <tbody>\n",
       "    <tr>\n",
       "      <th>0</th>\n",
       "      <td>NaN</td>\n",
       "      <td>Alabama</td>\n",
       "      <td>1.0</td>\n",
       "      <td>Baldwin County, AL</td>\n",
       "      <td>1003.0</td>\n",
       "      <td>2014.0</td>\n",
       "      <td>2014.0</td>\n",
       "      <td>1724.0</td>\n",
       "      <td>3296.472</td>\n",
       "      <td>38.595</td>\n",
       "      <td>38.489</td>\n",
       "    </tr>\n",
       "    <tr>\n",
       "      <th>1</th>\n",
       "      <td>NaN</td>\n",
       "      <td>Alabama</td>\n",
       "      <td>1.0</td>\n",
       "      <td>Baldwin County, AL</td>\n",
       "      <td>1003.0</td>\n",
       "      <td>2015.0</td>\n",
       "      <td>2015.0</td>\n",
       "      <td>1857.0</td>\n",
       "      <td>3290.811</td>\n",
       "      <td>38.487</td>\n",
       "      <td>38.347</td>\n",
       "    </tr>\n",
       "    <tr>\n",
       "      <th>2</th>\n",
       "      <td>NaN</td>\n",
       "      <td>Alabama</td>\n",
       "      <td>1.0</td>\n",
       "      <td>Baldwin County, AL</td>\n",
       "      <td>1003.0</td>\n",
       "      <td>2016.0</td>\n",
       "      <td>2016.0</td>\n",
       "      <td>1722.0</td>\n",
       "      <td>3315.387</td>\n",
       "      <td>38.690</td>\n",
       "      <td>38.497</td>\n",
       "    </tr>\n",
       "    <tr>\n",
       "      <th>3</th>\n",
       "      <td>NaN</td>\n",
       "      <td>Alabama</td>\n",
       "      <td>1.0</td>\n",
       "      <td>Baldwin County, AL</td>\n",
       "      <td>1003.0</td>\n",
       "      <td>2017.0</td>\n",
       "      <td>2017.0</td>\n",
       "      <td>1782.0</td>\n",
       "      <td>3346.588</td>\n",
       "      <td>38.713</td>\n",
       "      <td>38.572</td>\n",
       "    </tr>\n",
       "    <tr>\n",
       "      <th>4</th>\n",
       "      <td>NaN</td>\n",
       "      <td>Alabama</td>\n",
       "      <td>1.0</td>\n",
       "      <td>Baldwin County, AL</td>\n",
       "      <td>1003.0</td>\n",
       "      <td>2018.0</td>\n",
       "      <td>2018.0</td>\n",
       "      <td>1770.0</td>\n",
       "      <td>3301.324</td>\n",
       "      <td>38.580</td>\n",
       "      <td>38.423</td>\n",
       "    </tr>\n",
       "  </tbody>\n",
       "</table>\n",
       "</div>"
      ],
      "text/plain": [
       "  Notes    State  State Code              County  County Code    Year  \\\n",
       "0   NaN  Alabama         1.0  Baldwin County, AL       1003.0  2014.0   \n",
       "1   NaN  Alabama         1.0  Baldwin County, AL       1003.0  2015.0   \n",
       "2   NaN  Alabama         1.0  Baldwin County, AL       1003.0  2016.0   \n",
       "3   NaN  Alabama         1.0  Baldwin County, AL       1003.0  2017.0   \n",
       "4   NaN  Alabama         1.0  Baldwin County, AL       1003.0  2018.0   \n",
       "\n",
       "   Year Code  Births  Average Birth Weight  Average LMP Gestational Age  \\\n",
       "0     2014.0  1724.0              3296.472                       38.595   \n",
       "1     2015.0  1857.0              3290.811                       38.487   \n",
       "2     2016.0  1722.0              3315.387                       38.690   \n",
       "3     2017.0  1782.0              3346.588                       38.713   \n",
       "4     2018.0  1770.0              3301.324                       38.580   \n",
       "\n",
       "   Average OE Gestational Age  \n",
       "0                      38.489  \n",
       "1                      38.347  \n",
       "2                      38.497  \n",
       "3                      38.572  \n",
       "4                      38.423  "
      ]
     },
     "execution_count": 481,
     "metadata": {},
     "output_type": "execute_result"
    }
   ],
   "source": [
    "cdc_all.head()"
   ]
  },
  {
   "cell_type": "code",
   "execution_count": 482,
   "id": "893ba8c9-ca9c-4789-9ee7-732048db9c15",
   "metadata": {
    "execution": {
     "iopub.execute_input": "2023-01-18T08:06:01.599515Z",
     "iopub.status.busy": "2023-01-18T08:06:01.599295Z",
     "iopub.status.idle": "2023-01-18T08:06:01.603569Z",
     "shell.execute_reply": "2023-01-18T08:06:01.603229Z",
     "shell.execute_reply.started": "2023-01-18T08:06:01.599499Z"
    },
    "tags": []
   },
   "outputs": [
    {
     "data": {
      "text/plain": [
       "Notes                           object\n",
       "State                           object\n",
       "State Code                     float64\n",
       "County                          object\n",
       "County Code                    float64\n",
       "Year                           float64\n",
       "Year Code                      float64\n",
       "Births                         float64\n",
       "Average Birth Weight           float64\n",
       "Average LMP Gestational Age    float64\n",
       "Average OE Gestational Age     float64\n",
       "dtype: object"
      ]
     },
     "execution_count": 482,
     "metadata": {},
     "output_type": "execute_result"
    }
   ],
   "source": [
    "cdc_low.dtypes"
   ]
  },
  {
   "cell_type": "code",
   "execution_count": 483,
   "id": "2d452b1f-ce66-43f7-ac46-956d321eb350",
   "metadata": {
    "execution": {
     "iopub.execute_input": "2023-01-18T08:06:01.604525Z",
     "iopub.status.busy": "2023-01-18T08:06:01.604382Z",
     "iopub.status.idle": "2023-01-18T08:06:01.607864Z",
     "shell.execute_reply": "2023-01-18T08:06:01.607546Z",
     "shell.execute_reply.started": "2023-01-18T08:06:01.604515Z"
    },
    "tags": []
   },
   "outputs": [
    {
     "data": {
      "text/plain": [
       "Notes                           object\n",
       "State                           object\n",
       "State Code                     float64\n",
       "County                          object\n",
       "County Code                    float64\n",
       "Year                           float64\n",
       "Year Code                      float64\n",
       "Births                         float64\n",
       "Average Birth Weight           float64\n",
       "Average LMP Gestational Age    float64\n",
       "Average OE Gestational Age     float64\n",
       "dtype: object"
      ]
     },
     "execution_count": 483,
     "metadata": {},
     "output_type": "execute_result"
    }
   ],
   "source": [
    "cdc_all.dtypes"
   ]
  },
  {
   "cell_type": "code",
   "execution_count": 484,
   "id": "38e53632-6a98-4f40-956d-20d1fb29fbde",
   "metadata": {
    "execution": {
     "iopub.execute_input": "2023-01-18T08:06:01.608481Z",
     "iopub.status.busy": "2023-01-18T08:06:01.608379Z",
     "iopub.status.idle": "2023-01-18T08:06:01.611081Z",
     "shell.execute_reply": "2023-01-18T08:06:01.610761Z",
     "shell.execute_reply.started": "2023-01-18T08:06:01.608471Z"
    },
    "tags": []
   },
   "outputs": [
    {
     "data": {
      "text/plain": [
       "(6712, 11)"
      ]
     },
     "execution_count": 484,
     "metadata": {},
     "output_type": "execute_result"
    }
   ],
   "source": [
    "cdc_low.shape"
   ]
  },
  {
   "cell_type": "code",
   "execution_count": 485,
   "id": "64ebac01-500a-4ec9-a9f7-d48a52e70dbf",
   "metadata": {
    "execution": {
     "iopub.execute_input": "2023-01-18T08:06:01.611881Z",
     "iopub.status.busy": "2023-01-18T08:06:01.611734Z",
     "iopub.status.idle": "2023-01-18T08:06:01.614297Z",
     "shell.execute_reply": "2023-01-18T08:06:01.613985Z",
     "shell.execute_reply.started": "2023-01-18T08:06:01.611870Z"
    },
    "tags": []
   },
   "outputs": [
    {
     "data": {
      "text/plain": [
       "(6715, 11)"
      ]
     },
     "execution_count": 485,
     "metadata": {},
     "output_type": "execute_result"
    }
   ],
   "source": [
    "cdc_all.shape"
   ]
  },
  {
   "cell_type": "code",
   "execution_count": 486,
   "id": "eee0e85f-fb0a-41f6-9e76-5b3207f80820",
   "metadata": {
    "execution": {
     "iopub.execute_input": "2023-01-18T08:06:01.615146Z",
     "iopub.status.busy": "2023-01-18T08:06:01.615009Z",
     "iopub.status.idle": "2023-01-18T08:06:01.618357Z",
     "shell.execute_reply": "2023-01-18T08:06:01.617921Z",
     "shell.execute_reply.started": "2023-01-18T08:06:01.615136Z"
    },
    "tags": []
   },
   "outputs": [
    {
     "data": {
      "text/plain": [
       "(Index(['Notes', 'State', 'State Code', 'County', 'County Code', 'Year',\n",
       "        'Year Code', 'Births', 'Average Birth Weight',\n",
       "        'Average LMP Gestational Age', 'Average OE Gestational Age'],\n",
       "       dtype='object'),\n",
       " Index(['Notes', 'State', 'State Code', 'County', 'County Code', 'Year',\n",
       "        'Year Code', 'Births', 'Average Birth Weight',\n",
       "        'Average LMP Gestational Age', 'Average OE Gestational Age'],\n",
       "       dtype='object'))"
      ]
     },
     "execution_count": 486,
     "metadata": {},
     "output_type": "execute_result"
    }
   ],
   "source": [
    "cdc_low.columns, cdc_all.columns"
   ]
  },
  {
   "cell_type": "code",
   "execution_count": 487,
   "id": "285aa42c-a73b-4ffa-b8d5-fab90df86c8b",
   "metadata": {
    "execution": {
     "iopub.execute_input": "2023-01-18T08:06:01.619067Z",
     "iopub.status.busy": "2023-01-18T08:06:01.618970Z",
     "iopub.status.idle": "2023-01-18T08:06:01.621632Z",
     "shell.execute_reply": "2023-01-18T08:06:01.621338Z",
     "shell.execute_reply.started": "2023-01-18T08:06:01.619057Z"
    },
    "tags": []
   },
   "outputs": [],
   "source": [
    "cdc_low.columns = [col.lower().replace(' ', '_') for col in cdc_low.columns]\n",
    "cdc_all.columns = [col.lower().replace(' ', '_') for col in cdc_all.columns]"
   ]
  },
  {
   "cell_type": "markdown",
   "id": "6571d5a4-1bc1-4fe1-a238-f60e7674db0c",
   "metadata": {},
   "source": [
    "Renaming the % of births column, and if we want different names for other columns, we can do it at this step"
   ]
  },
  {
   "cell_type": "code",
   "execution_count": 488,
   "id": "57b10cd7-e4c3-40db-b0b0-d4828881eae4",
   "metadata": {
    "execution": {
     "iopub.execute_input": "2023-01-18T08:06:01.622413Z",
     "iopub.status.busy": "2023-01-18T08:06:01.622258Z",
     "iopub.status.idle": "2023-01-18T08:06:01.624781Z",
     "shell.execute_reply": "2023-01-18T08:06:01.624476Z",
     "shell.execute_reply.started": "2023-01-18T08:06:01.622397Z"
    },
    "tags": []
   },
   "outputs": [
    {
     "data": {
      "text/plain": [
       "Index(['notes', 'state', 'state_code', 'county', 'county_code', 'year',\n",
       "       'year_code', 'births', 'average_birth_weight',\n",
       "       'average_lmp_gestational_age', 'average_oe_gestational_age'],\n",
       "      dtype='object')"
      ]
     },
     "execution_count": 488,
     "metadata": {},
     "output_type": "execute_result"
    }
   ],
   "source": [
    "cdc_low.columns"
   ]
  },
  {
   "cell_type": "code",
   "execution_count": 489,
   "id": "4d99885e-7308-487a-9d71-b7fcfc8bdb84",
   "metadata": {
    "execution": {
     "iopub.execute_input": "2023-01-18T08:06:01.625474Z",
     "iopub.status.busy": "2023-01-18T08:06:01.625352Z",
     "iopub.status.idle": "2023-01-18T08:06:01.629176Z",
     "shell.execute_reply": "2023-01-18T08:06:01.628858Z",
     "shell.execute_reply.started": "2023-01-18T08:06:01.625465Z"
    },
    "tags": []
   },
   "outputs": [
    {
     "data": {
      "text/plain": [
       "(91, 87)"
      ]
     },
     "execution_count": 489,
     "metadata": {},
     "output_type": "execute_result"
    }
   ],
   "source": [
    "cdc_low['notes'].nunique(), cdc_all['notes'].nunique()"
   ]
  },
  {
   "cell_type": "code",
   "execution_count": 490,
   "id": "d2a673ca-6ece-4267-afa0-27db9852c213",
   "metadata": {
    "execution": {
     "iopub.execute_input": "2023-01-18T08:06:01.629997Z",
     "iopub.status.busy": "2023-01-18T08:06:01.629819Z",
     "iopub.status.idle": "2023-01-18T08:06:01.632351Z",
     "shell.execute_reply": "2023-01-18T08:06:01.631836Z",
     "shell.execute_reply.started": "2023-01-18T08:06:01.629982Z"
    },
    "tags": []
   },
   "outputs": [],
   "source": [
    "# cdc_all['notes'].unique()"
   ]
  },
  {
   "cell_type": "markdown",
   "id": "afcb8ebd-dc1e-48e4-971d-b07d4b4212d4",
   "metadata": {},
   "source": [
    "All the notes look like they are what shows up at the bottom of the file and isn't data that we're looking for.  Dropping the notes column"
   ]
  },
  {
   "cell_type": "code",
   "execution_count": 491,
   "id": "181e9e67-4495-4898-96a8-becd881394f1",
   "metadata": {
    "execution": {
     "iopub.execute_input": "2023-01-18T08:06:01.633076Z",
     "iopub.status.busy": "2023-01-18T08:06:01.632916Z",
     "iopub.status.idle": "2023-01-18T08:06:01.637122Z",
     "shell.execute_reply": "2023-01-18T08:06:01.636505Z",
     "shell.execute_reply.started": "2023-01-18T08:06:01.633065Z"
    },
    "tags": []
   },
   "outputs": [],
   "source": [
    "cdc_low.drop(['notes'], axis=1, inplace=True)\n",
    "cdc_all.drop(['notes'], axis=1, inplace=True)"
   ]
  },
  {
   "cell_type": "code",
   "execution_count": 492,
   "id": "290b3183-ec24-448b-8ac7-fce70d82ba2f",
   "metadata": {
    "execution": {
     "iopub.execute_input": "2023-01-18T08:06:01.637894Z",
     "iopub.status.busy": "2023-01-18T08:06:01.637767Z",
     "iopub.status.idle": "2023-01-18T08:06:01.644368Z",
     "shell.execute_reply": "2023-01-18T08:06:01.644101Z",
     "shell.execute_reply.started": "2023-01-18T08:06:01.637882Z"
    },
    "tags": []
   },
   "outputs": [
    {
     "data": {
      "text/plain": [
       "state                          96\n",
       "state_code                     96\n",
       "county                         96\n",
       "county_code                    96\n",
       "year                           96\n",
       "year_code                      96\n",
       "births                         96\n",
       "average_birth_weight           96\n",
       "average_lmp_gestational_age    96\n",
       "average_oe_gestational_age     96\n",
       "dtype: int64"
      ]
     },
     "execution_count": 492,
     "metadata": {},
     "output_type": "execute_result"
    }
   ],
   "source": [
    "cdc_low.isna().sum()[cdc_low.isna().sum() > 0]"
   ]
  },
  {
   "cell_type": "code",
   "execution_count": 493,
   "id": "10ac5bd2-2cab-4a91-8c63-3db1386e4db5",
   "metadata": {
    "execution": {
     "iopub.execute_input": "2023-01-18T08:06:01.645078Z",
     "iopub.status.busy": "2023-01-18T08:06:01.644878Z",
     "iopub.status.idle": "2023-01-18T08:06:01.651189Z",
     "shell.execute_reply": "2023-01-18T08:06:01.650869Z",
     "shell.execute_reply.started": "2023-01-18T08:06:01.645060Z"
    },
    "tags": []
   },
   "outputs": [
    {
     "data": {
      "text/plain": [
       "state                          92\n",
       "state_code                     92\n",
       "county                         92\n",
       "county_code                    92\n",
       "year                           92\n",
       "year_code                      92\n",
       "births                         92\n",
       "average_birth_weight           92\n",
       "average_lmp_gestational_age    92\n",
       "average_oe_gestational_age     92\n",
       "dtype: int64"
      ]
     },
     "execution_count": 493,
     "metadata": {},
     "output_type": "execute_result"
    }
   ],
   "source": [
    "cdc_all.isna().sum()[cdc_all.isna().sum() > 0]"
   ]
  },
  {
   "cell_type": "code",
   "execution_count": 494,
   "id": "b9c98e59-b574-4022-96da-68a93252a94d",
   "metadata": {
    "execution": {
     "iopub.execute_input": "2023-01-18T08:06:01.651910Z",
     "iopub.status.busy": "2023-01-18T08:06:01.651771Z",
     "iopub.status.idle": "2023-01-18T08:06:01.656400Z",
     "shell.execute_reply": "2023-01-18T08:06:01.656079Z",
     "shell.execute_reply.started": "2023-01-18T08:06:01.651900Z"
    },
    "tags": []
   },
   "outputs": [
    {
     "data": {
      "text/html": [
       "<div>\n",
       "<style scoped>\n",
       "    .dataframe tbody tr th:only-of-type {\n",
       "        vertical-align: middle;\n",
       "    }\n",
       "\n",
       "    .dataframe tbody tr th {\n",
       "        vertical-align: top;\n",
       "    }\n",
       "\n",
       "    .dataframe thead th {\n",
       "        text-align: right;\n",
       "    }\n",
       "</style>\n",
       "<table border=\"1\" class=\"dataframe\">\n",
       "  <thead>\n",
       "    <tr style=\"text-align: right;\">\n",
       "      <th></th>\n",
       "      <th>state</th>\n",
       "      <th>state_code</th>\n",
       "      <th>county</th>\n",
       "      <th>county_code</th>\n",
       "      <th>year</th>\n",
       "      <th>year_code</th>\n",
       "      <th>births</th>\n",
       "      <th>average_birth_weight</th>\n",
       "      <th>average_lmp_gestational_age</th>\n",
       "      <th>average_oe_gestational_age</th>\n",
       "    </tr>\n",
       "  </thead>\n",
       "  <tbody>\n",
       "    <tr>\n",
       "      <th>6709</th>\n",
       "      <td>NaN</td>\n",
       "      <td>NaN</td>\n",
       "      <td>NaN</td>\n",
       "      <td>NaN</td>\n",
       "      <td>NaN</td>\n",
       "      <td>NaN</td>\n",
       "      <td>NaN</td>\n",
       "      <td>NaN</td>\n",
       "      <td>NaN</td>\n",
       "      <td>NaN</td>\n",
       "    </tr>\n",
       "    <tr>\n",
       "      <th>6710</th>\n",
       "      <td>NaN</td>\n",
       "      <td>NaN</td>\n",
       "      <td>NaN</td>\n",
       "      <td>NaN</td>\n",
       "      <td>NaN</td>\n",
       "      <td>NaN</td>\n",
       "      <td>NaN</td>\n",
       "      <td>NaN</td>\n",
       "      <td>NaN</td>\n",
       "      <td>NaN</td>\n",
       "    </tr>\n",
       "    <tr>\n",
       "      <th>6711</th>\n",
       "      <td>NaN</td>\n",
       "      <td>NaN</td>\n",
       "      <td>NaN</td>\n",
       "      <td>NaN</td>\n",
       "      <td>NaN</td>\n",
       "      <td>NaN</td>\n",
       "      <td>NaN</td>\n",
       "      <td>NaN</td>\n",
       "      <td>NaN</td>\n",
       "      <td>NaN</td>\n",
       "    </tr>\n",
       "  </tbody>\n",
       "</table>\n",
       "</div>"
      ],
      "text/plain": [
       "     state  state_code county  county_code  year  year_code  births  \\\n",
       "6709   NaN         NaN    NaN          NaN   NaN        NaN     NaN   \n",
       "6710   NaN         NaN    NaN          NaN   NaN        NaN     NaN   \n",
       "6711   NaN         NaN    NaN          NaN   NaN        NaN     NaN   \n",
       "\n",
       "      average_birth_weight  average_lmp_gestational_age  \\\n",
       "6709                   NaN                          NaN   \n",
       "6710                   NaN                          NaN   \n",
       "6711                   NaN                          NaN   \n",
       "\n",
       "      average_oe_gestational_age  \n",
       "6709                         NaN  \n",
       "6710                         NaN  \n",
       "6711                         NaN  "
      ]
     },
     "execution_count": 494,
     "metadata": {},
     "output_type": "execute_result"
    }
   ],
   "source": [
    "cdc_low.tail(3)"
   ]
  },
  {
   "cell_type": "code",
   "execution_count": 495,
   "id": "72ad4628-d2b6-4173-9105-aeb926174d6f",
   "metadata": {
    "execution": {
     "iopub.execute_input": "2023-01-18T08:06:01.657132Z",
     "iopub.status.busy": "2023-01-18T08:06:01.656975Z",
     "iopub.status.idle": "2023-01-18T08:06:01.661692Z",
     "shell.execute_reply": "2023-01-18T08:06:01.661375Z",
     "shell.execute_reply.started": "2023-01-18T08:06:01.657115Z"
    },
    "tags": []
   },
   "outputs": [
    {
     "data": {
      "text/html": [
       "<div>\n",
       "<style scoped>\n",
       "    .dataframe tbody tr th:only-of-type {\n",
       "        vertical-align: middle;\n",
       "    }\n",
       "\n",
       "    .dataframe tbody tr th {\n",
       "        vertical-align: top;\n",
       "    }\n",
       "\n",
       "    .dataframe thead th {\n",
       "        text-align: right;\n",
       "    }\n",
       "</style>\n",
       "<table border=\"1\" class=\"dataframe\">\n",
       "  <thead>\n",
       "    <tr style=\"text-align: right;\">\n",
       "      <th></th>\n",
       "      <th>state</th>\n",
       "      <th>state_code</th>\n",
       "      <th>county</th>\n",
       "      <th>county_code</th>\n",
       "      <th>year</th>\n",
       "      <th>year_code</th>\n",
       "      <th>births</th>\n",
       "      <th>average_birth_weight</th>\n",
       "      <th>average_lmp_gestational_age</th>\n",
       "      <th>average_oe_gestational_age</th>\n",
       "    </tr>\n",
       "  </thead>\n",
       "  <tbody>\n",
       "    <tr>\n",
       "      <th>6712</th>\n",
       "      <td>NaN</td>\n",
       "      <td>NaN</td>\n",
       "      <td>NaN</td>\n",
       "      <td>NaN</td>\n",
       "      <td>NaN</td>\n",
       "      <td>NaN</td>\n",
       "      <td>NaN</td>\n",
       "      <td>NaN</td>\n",
       "      <td>NaN</td>\n",
       "      <td>NaN</td>\n",
       "    </tr>\n",
       "    <tr>\n",
       "      <th>6713</th>\n",
       "      <td>NaN</td>\n",
       "      <td>NaN</td>\n",
       "      <td>NaN</td>\n",
       "      <td>NaN</td>\n",
       "      <td>NaN</td>\n",
       "      <td>NaN</td>\n",
       "      <td>NaN</td>\n",
       "      <td>NaN</td>\n",
       "      <td>NaN</td>\n",
       "      <td>NaN</td>\n",
       "    </tr>\n",
       "    <tr>\n",
       "      <th>6714</th>\n",
       "      <td>NaN</td>\n",
       "      <td>NaN</td>\n",
       "      <td>NaN</td>\n",
       "      <td>NaN</td>\n",
       "      <td>NaN</td>\n",
       "      <td>NaN</td>\n",
       "      <td>NaN</td>\n",
       "      <td>NaN</td>\n",
       "      <td>NaN</td>\n",
       "      <td>NaN</td>\n",
       "    </tr>\n",
       "  </tbody>\n",
       "</table>\n",
       "</div>"
      ],
      "text/plain": [
       "     state  state_code county  county_code  year  year_code  births  \\\n",
       "6712   NaN         NaN    NaN          NaN   NaN        NaN     NaN   \n",
       "6713   NaN         NaN    NaN          NaN   NaN        NaN     NaN   \n",
       "6714   NaN         NaN    NaN          NaN   NaN        NaN     NaN   \n",
       "\n",
       "      average_birth_weight  average_lmp_gestational_age  \\\n",
       "6712                   NaN                          NaN   \n",
       "6713                   NaN                          NaN   \n",
       "6714                   NaN                          NaN   \n",
       "\n",
       "      average_oe_gestational_age  \n",
       "6712                         NaN  \n",
       "6713                         NaN  \n",
       "6714                         NaN  "
      ]
     },
     "execution_count": 495,
     "metadata": {},
     "output_type": "execute_result"
    }
   ],
   "source": [
    "cdc_all.tail(3)"
   ]
  },
  {
   "cell_type": "markdown",
   "id": "1261ec53-5e9c-43d2-b2b3-c5c43cd65411",
   "metadata": {},
   "source": [
    "We need state and county information for this project,and it looks like all these null values belong, possibly to rows that were holding that notes data.  Dropping these rows to see if that clears up all the nulls."
   ]
  },
  {
   "cell_type": "markdown",
   "id": "2b2bdee1-f508-4113-a03d-2be862a8257a",
   "metadata": {},
   "source": [
    "Drop the rows that have the footnotes in them"
   ]
  },
  {
   "cell_type": "code",
   "execution_count": 496,
   "id": "15eb1c08-6ee8-44da-a472-b1cb2388a5b9",
   "metadata": {
    "execution": {
     "iopub.execute_input": "2023-01-18T08:06:01.662591Z",
     "iopub.status.busy": "2023-01-18T08:06:01.662288Z",
     "iopub.status.idle": "2023-01-18T08:06:01.668264Z",
     "shell.execute_reply": "2023-01-18T08:06:01.667943Z",
     "shell.execute_reply.started": "2023-01-18T08:06:01.662576Z"
    },
    "tags": []
   },
   "outputs": [],
   "source": [
    "cdc_low.dropna(subset=['state'], inplace=True)\n",
    "cdc_all.dropna(subset=['state'], inplace=True)"
   ]
  },
  {
   "cell_type": "code",
   "execution_count": 497,
   "id": "1322a50b-032f-4891-a317-f28618475f18",
   "metadata": {
    "execution": {
     "iopub.execute_input": "2023-01-18T08:06:01.668977Z",
     "iopub.status.busy": "2023-01-18T08:06:01.668858Z",
     "iopub.status.idle": "2023-01-18T08:06:01.674159Z",
     "shell.execute_reply": "2023-01-18T08:06:01.673887Z",
     "shell.execute_reply.started": "2023-01-18T08:06:01.668967Z"
    },
    "tags": []
   },
   "outputs": [
    {
     "data": {
      "text/plain": [
       "Series([], dtype: int64)"
      ]
     },
     "execution_count": 497,
     "metadata": {},
     "output_type": "execute_result"
    }
   ],
   "source": [
    "cdc_low.isna().sum()[cdc_low.isna().sum() > 0]"
   ]
  },
  {
   "cell_type": "code",
   "execution_count": 498,
   "id": "1b73ab8c-3a59-4800-bc84-16519486a00e",
   "metadata": {
    "execution": {
     "iopub.execute_input": "2023-01-18T08:06:01.674760Z",
     "iopub.status.busy": "2023-01-18T08:06:01.674636Z",
     "iopub.status.idle": "2023-01-18T08:06:01.680436Z",
     "shell.execute_reply": "2023-01-18T08:06:01.680028Z",
     "shell.execute_reply.started": "2023-01-18T08:06:01.674751Z"
    },
    "tags": []
   },
   "outputs": [
    {
     "data": {
      "text/plain": [
       "Series([], dtype: int64)"
      ]
     },
     "execution_count": 498,
     "metadata": {},
     "output_type": "execute_result"
    }
   ],
   "source": [
    "cdc_all.isna().sum()[cdc_all.isna().sum() > 0]"
   ]
  },
  {
   "cell_type": "markdown",
   "id": "f4ec0f62-6d53-4f42-9391-4d52d0a0baeb",
   "metadata": {},
   "source": [
    "That did resolve all the null values."
   ]
  },
  {
   "cell_type": "code",
   "execution_count": 499,
   "id": "cdfa7304-4354-4d75-8063-ce81884e077f",
   "metadata": {
    "execution": {
     "iopub.execute_input": "2023-01-18T08:06:01.681069Z",
     "iopub.status.busy": "2023-01-18T08:06:01.680977Z",
     "iopub.status.idle": "2023-01-18T08:06:01.683635Z",
     "shell.execute_reply": "2023-01-18T08:06:01.683362Z",
     "shell.execute_reply.started": "2023-01-18T08:06:01.681060Z"
    },
    "tags": []
   },
   "outputs": [
    {
     "data": {
      "text/plain": [
       "((6616, 10), (6623, 10))"
      ]
     },
     "execution_count": 499,
     "metadata": {},
     "output_type": "execute_result"
    }
   ],
   "source": [
    "cdc_low.shape, cdc_all.shape"
   ]
  },
  {
   "cell_type": "code",
   "execution_count": 500,
   "id": "9b841a0b-7c28-4bf4-b756-f7d0b967552a",
   "metadata": {
    "execution": {
     "iopub.execute_input": "2023-01-18T08:06:01.684438Z",
     "iopub.status.busy": "2023-01-18T08:06:01.684119Z",
     "iopub.status.idle": "2023-01-18T08:06:01.690026Z",
     "shell.execute_reply": "2023-01-18T08:06:01.689710Z",
     "shell.execute_reply.started": "2023-01-18T08:06:01.684419Z"
    },
    "tags": []
   },
   "outputs": [
    {
     "data": {
      "text/html": [
       "<div>\n",
       "<style scoped>\n",
       "    .dataframe tbody tr th:only-of-type {\n",
       "        vertical-align: middle;\n",
       "    }\n",
       "\n",
       "    .dataframe tbody tr th {\n",
       "        vertical-align: top;\n",
       "    }\n",
       "\n",
       "    .dataframe thead th {\n",
       "        text-align: right;\n",
       "    }\n",
       "</style>\n",
       "<table border=\"1\" class=\"dataframe\">\n",
       "  <thead>\n",
       "    <tr style=\"text-align: right;\">\n",
       "      <th></th>\n",
       "      <th>state</th>\n",
       "      <th>state_code</th>\n",
       "      <th>county</th>\n",
       "      <th>county_code</th>\n",
       "      <th>year</th>\n",
       "      <th>year_code</th>\n",
       "      <th>births</th>\n",
       "      <th>average_birth_weight</th>\n",
       "      <th>average_lmp_gestational_age</th>\n",
       "      <th>average_oe_gestational_age</th>\n",
       "    </tr>\n",
       "  </thead>\n",
       "  <tbody>\n",
       "    <tr>\n",
       "      <th>6613</th>\n",
       "      <td>Wyoming</td>\n",
       "      <td>56.0</td>\n",
       "      <td>Unidentified Counties, WY</td>\n",
       "      <td>56999.0</td>\n",
       "      <td>2019.0</td>\n",
       "      <td>2019.0</td>\n",
       "      <td>335.0</td>\n",
       "      <td>2062.824</td>\n",
       "      <td>35.051</td>\n",
       "      <td>34.919</td>\n",
       "    </tr>\n",
       "    <tr>\n",
       "      <th>6614</th>\n",
       "      <td>Wyoming</td>\n",
       "      <td>56.0</td>\n",
       "      <td>Unidentified Counties, WY</td>\n",
       "      <td>56999.0</td>\n",
       "      <td>2020.0</td>\n",
       "      <td>2020.0</td>\n",
       "      <td>307.0</td>\n",
       "      <td>2088.586</td>\n",
       "      <td>35.365</td>\n",
       "      <td>34.987</td>\n",
       "    </tr>\n",
       "    <tr>\n",
       "      <th>6615</th>\n",
       "      <td>Wyoming</td>\n",
       "      <td>56.0</td>\n",
       "      <td>Unidentified Counties, WY</td>\n",
       "      <td>56999.0</td>\n",
       "      <td>2021.0</td>\n",
       "      <td>2021.0</td>\n",
       "      <td>319.0</td>\n",
       "      <td>2063.197</td>\n",
       "      <td>34.821</td>\n",
       "      <td>34.862</td>\n",
       "    </tr>\n",
       "  </tbody>\n",
       "</table>\n",
       "</div>"
      ],
      "text/plain": [
       "        state  state_code                     county  county_code    year  \\\n",
       "6613  Wyoming        56.0  Unidentified Counties, WY      56999.0  2019.0   \n",
       "6614  Wyoming        56.0  Unidentified Counties, WY      56999.0  2020.0   \n",
       "6615  Wyoming        56.0  Unidentified Counties, WY      56999.0  2021.0   \n",
       "\n",
       "      year_code  births  average_birth_weight  average_lmp_gestational_age  \\\n",
       "6613     2019.0   335.0              2062.824                       35.051   \n",
       "6614     2020.0   307.0              2088.586                       35.365   \n",
       "6615     2021.0   319.0              2063.197                       34.821   \n",
       "\n",
       "      average_oe_gestational_age  \n",
       "6613                      34.919  \n",
       "6614                      34.987  \n",
       "6615                      34.862  "
      ]
     },
     "execution_count": 500,
     "metadata": {},
     "output_type": "execute_result"
    }
   ],
   "source": [
    "cdc_low.tail(3)"
   ]
  },
  {
   "cell_type": "code",
   "execution_count": 501,
   "id": "545490fb-b1f6-402f-91b1-cede9f313ace",
   "metadata": {
    "execution": {
     "iopub.execute_input": "2023-01-18T08:06:01.690763Z",
     "iopub.status.busy": "2023-01-18T08:06:01.690622Z",
     "iopub.status.idle": "2023-01-18T08:06:01.695669Z",
     "shell.execute_reply": "2023-01-18T08:06:01.695343Z",
     "shell.execute_reply.started": "2023-01-18T08:06:01.690748Z"
    },
    "tags": []
   },
   "outputs": [
    {
     "data": {
      "text/html": [
       "<div>\n",
       "<style scoped>\n",
       "    .dataframe tbody tr th:only-of-type {\n",
       "        vertical-align: middle;\n",
       "    }\n",
       "\n",
       "    .dataframe tbody tr th {\n",
       "        vertical-align: top;\n",
       "    }\n",
       "\n",
       "    .dataframe thead th {\n",
       "        text-align: right;\n",
       "    }\n",
       "</style>\n",
       "<table border=\"1\" class=\"dataframe\">\n",
       "  <thead>\n",
       "    <tr style=\"text-align: right;\">\n",
       "      <th></th>\n",
       "      <th>state</th>\n",
       "      <th>state_code</th>\n",
       "      <th>county</th>\n",
       "      <th>county_code</th>\n",
       "      <th>year</th>\n",
       "      <th>year_code</th>\n",
       "      <th>births</th>\n",
       "      <th>average_birth_weight</th>\n",
       "      <th>average_lmp_gestational_age</th>\n",
       "      <th>average_oe_gestational_age</th>\n",
       "    </tr>\n",
       "  </thead>\n",
       "  <tbody>\n",
       "    <tr>\n",
       "      <th>6620</th>\n",
       "      <td>Wyoming</td>\n",
       "      <td>56.0</td>\n",
       "      <td>Unidentified Counties, WY</td>\n",
       "      <td>56999.0</td>\n",
       "      <td>2019.0</td>\n",
       "      <td>2019.0</td>\n",
       "      <td>4592.0</td>\n",
       "      <td>3218.040</td>\n",
       "      <td>38.709</td>\n",
       "      <td>38.636</td>\n",
       "    </tr>\n",
       "    <tr>\n",
       "      <th>6621</th>\n",
       "      <td>Wyoming</td>\n",
       "      <td>56.0</td>\n",
       "      <td>Unidentified Counties, WY</td>\n",
       "      <td>56999.0</td>\n",
       "      <td>2020.0</td>\n",
       "      <td>2020.0</td>\n",
       "      <td>4285.0</td>\n",
       "      <td>3228.561</td>\n",
       "      <td>38.733</td>\n",
       "      <td>38.641</td>\n",
       "    </tr>\n",
       "    <tr>\n",
       "      <th>6622</th>\n",
       "      <td>Wyoming</td>\n",
       "      <td>56.0</td>\n",
       "      <td>Unidentified Counties, WY</td>\n",
       "      <td>56999.0</td>\n",
       "      <td>2021.0</td>\n",
       "      <td>2021.0</td>\n",
       "      <td>4379.0</td>\n",
       "      <td>3227.242</td>\n",
       "      <td>38.608</td>\n",
       "      <td>38.551</td>\n",
       "    </tr>\n",
       "  </tbody>\n",
       "</table>\n",
       "</div>"
      ],
      "text/plain": [
       "        state  state_code                     county  county_code    year  \\\n",
       "6620  Wyoming        56.0  Unidentified Counties, WY      56999.0  2019.0   \n",
       "6621  Wyoming        56.0  Unidentified Counties, WY      56999.0  2020.0   \n",
       "6622  Wyoming        56.0  Unidentified Counties, WY      56999.0  2021.0   \n",
       "\n",
       "      year_code  births  average_birth_weight  average_lmp_gestational_age  \\\n",
       "6620     2019.0  4592.0              3218.040                       38.709   \n",
       "6621     2020.0  4285.0              3228.561                       38.733   \n",
       "6622     2021.0  4379.0              3227.242                       38.608   \n",
       "\n",
       "      average_oe_gestational_age  \n",
       "6620                      38.636  \n",
       "6621                      38.641  \n",
       "6622                      38.551  "
      ]
     },
     "execution_count": 501,
     "metadata": {},
     "output_type": "execute_result"
    }
   ],
   "source": [
    "cdc_all.tail(3)"
   ]
  },
  {
   "cell_type": "markdown",
   "id": "07d32c3f-3079-4ce3-9bfe-7eb004b9ef4e",
   "metadata": {},
   "source": [
    "It looks like year and year_code might contain the same data"
   ]
  },
  {
   "cell_type": "code",
   "execution_count": 502,
   "id": "aaffda9f-b596-451c-a69e-69b9a81b27d9",
   "metadata": {
    "execution": {
     "iopub.execute_input": "2023-01-18T08:06:01.696196Z",
     "iopub.status.busy": "2023-01-18T08:06:01.696090Z",
     "iopub.status.idle": "2023-01-18T08:06:01.699962Z",
     "shell.execute_reply": "2023-01-18T08:06:01.699571Z",
     "shell.execute_reply.started": "2023-01-18T08:06:01.696187Z"
    },
    "tags": []
   },
   "outputs": [
    {
     "data": {
      "text/plain": [
       "True"
      ]
     },
     "execution_count": 502,
     "metadata": {},
     "output_type": "execute_result"
    }
   ],
   "source": [
    "(cdc_low['year'] == cdc_low['year_code']).sum() == cdc_low.shape[0]"
   ]
  },
  {
   "cell_type": "markdown",
   "id": "26b2a7cb-401c-4b9a-908d-43b821e210d7",
   "metadata": {
    "execution": {
     "iopub.execute_input": "2023-01-15T22:28:01.189549Z",
     "iopub.status.busy": "2023-01-15T22:28:01.188421Z",
     "iopub.status.idle": "2023-01-15T22:28:01.215164Z",
     "shell.execute_reply": "2023-01-15T22:28:01.214651Z",
     "shell.execute_reply.started": "2023-01-15T22:28:01.189519Z"
    }
   },
   "source": [
    "`year` and `year_code` appear to be the same.  We also don't have state or county codes in the EPA data, so dropping those as well."
   ]
  },
  {
   "cell_type": "code",
   "execution_count": 503,
   "id": "0c250d1b-64e2-4f0f-8d6e-6154b44be533",
   "metadata": {
    "execution": {
     "iopub.execute_input": "2023-01-18T08:06:01.700733Z",
     "iopub.status.busy": "2023-01-18T08:06:01.700599Z",
     "iopub.status.idle": "2023-01-18T08:06:01.704176Z",
     "shell.execute_reply": "2023-01-18T08:06:01.703660Z",
     "shell.execute_reply.started": "2023-01-18T08:06:01.700722Z"
    },
    "tags": []
   },
   "outputs": [],
   "source": [
    "cdc_low.drop(['year_code', 'county_code', 'state_code'], axis=1, inplace=True)\n",
    "cdc_all.drop(['year_code', 'county_code', 'state_code'], axis=1, inplace=True)"
   ]
  },
  {
   "cell_type": "markdown",
   "id": "586af386-017c-4086-bb56-5e61667bfa51",
   "metadata": {},
   "source": [
    "Also want the year as an int not a float"
   ]
  },
  {
   "cell_type": "code",
   "execution_count": 504,
   "id": "9f10d448-c34d-4caf-94f7-2ec626610daa",
   "metadata": {
    "execution": {
     "iopub.execute_input": "2023-01-18T08:06:01.709176Z",
     "iopub.status.busy": "2023-01-18T08:06:01.709036Z",
     "iopub.status.idle": "2023-01-18T08:06:01.711993Z",
     "shell.execute_reply": "2023-01-18T08:06:01.711695Z",
     "shell.execute_reply.started": "2023-01-18T08:06:01.709167Z"
    },
    "tags": []
   },
   "outputs": [],
   "source": [
    "cdc_low['year'] = cdc_low['year'].astype(int)\n",
    "cdc_all['year'] = cdc_all['year'].astype(int)"
   ]
  },
  {
   "cell_type": "code",
   "execution_count": 505,
   "id": "59d76224-41e5-42c4-9b98-f8d42940d625",
   "metadata": {
    "execution": {
     "iopub.execute_input": "2023-01-18T08:06:01.712761Z",
     "iopub.status.busy": "2023-01-18T08:06:01.712612Z",
     "iopub.status.idle": "2023-01-18T08:06:01.715670Z",
     "shell.execute_reply": "2023-01-18T08:06:01.715310Z",
     "shell.execute_reply.started": "2023-01-18T08:06:01.712751Z"
    },
    "tags": []
   },
   "outputs": [
    {
     "data": {
      "text/plain": [
       "Index(['state', 'county', 'year', 'births', 'average_birth_weight',\n",
       "       'average_lmp_gestational_age', 'average_oe_gestational_age'],\n",
       "      dtype='object')"
      ]
     },
     "execution_count": 505,
     "metadata": {},
     "output_type": "execute_result"
    }
   ],
   "source": [
    "cdc_low.columns"
   ]
  },
  {
   "cell_type": "markdown",
   "id": "bd3ce33c-1d6b-4a1a-8b09-676aab9a3861",
   "metadata": {},
   "source": [
    "#### Gestational Age at Birth\n",
    "Beginning in 2014 NCHS changed the standard for gestational period from the Last Menstrual Period (LMP) based gestational age to the Obstetric/clinical Estimate (OE) based gestational age. Obstetric/clinical Estimate (OE) based gestational age groups are available for years 2007 and later in WONDER since February 2016. Refer to [Measuring Gestational Age in Vital Statistics Data: Transitioning to the Obstetric Estimate](http://www.cdc.gov/nchs/data/nvsr/nvsr64/nvsr64_05.pdf) for more information.\n",
    "\n",
    "I believe this means this means we should drop the LMP column and keep the OE column."
   ]
  },
  {
   "cell_type": "code",
   "execution_count": 506,
   "id": "27d5beb6-6e91-4d0f-a890-da302a0858fc",
   "metadata": {
    "execution": {
     "iopub.execute_input": "2023-01-18T08:06:01.716406Z",
     "iopub.status.busy": "2023-01-18T08:06:01.716247Z",
     "iopub.status.idle": "2023-01-18T08:06:01.720122Z",
     "shell.execute_reply": "2023-01-18T08:06:01.719694Z",
     "shell.execute_reply.started": "2023-01-18T08:06:01.716389Z"
    },
    "tags": []
   },
   "outputs": [],
   "source": [
    "cdc_low.drop(['average_lmp_gestational_age'], axis=1, inplace=True)\n",
    "cdc_all.drop(['average_lmp_gestational_age'], axis=1, inplace=True)"
   ]
  },
  {
   "cell_type": "code",
   "execution_count": 507,
   "id": "9425c5e2-76cc-44d7-a24b-5340b5c320b2",
   "metadata": {
    "execution": {
     "iopub.execute_input": "2023-01-18T08:06:01.720763Z",
     "iopub.status.busy": "2023-01-18T08:06:01.720667Z",
     "iopub.status.idle": "2023-01-18T08:06:01.723358Z",
     "shell.execute_reply": "2023-01-18T08:06:01.723079Z",
     "shell.execute_reply.started": "2023-01-18T08:06:01.720754Z"
    },
    "tags": []
   },
   "outputs": [
    {
     "data": {
      "text/plain": [
       "Index(['state', 'county', 'year', 'births', 'average_birth_weight',\n",
       "       'average_oe_gestational_age'],\n",
       "      dtype='object')"
      ]
     },
     "execution_count": 507,
     "metadata": {},
     "output_type": "execute_result"
    }
   ],
   "source": [
    "cdc_low.columns"
   ]
  },
  {
   "cell_type": "markdown",
   "id": "6e1391d3-d049-46b2-b505-2989618cb394",
   "metadata": {
    "tags": []
   },
   "source": [
    "#### Rename Columns\n",
    "\n",
    "To prepare for merging this data, giving the columns specific names to indicate which dataframe they came from."
   ]
  },
  {
   "cell_type": "code",
   "execution_count": 508,
   "id": "b586e196-b304-4114-9c81-1579170ee157",
   "metadata": {
    "execution": {
     "iopub.execute_input": "2023-01-18T08:06:01.724033Z",
     "iopub.status.busy": "2023-01-18T08:06:01.723889Z",
     "iopub.status.idle": "2023-01-18T08:06:01.726688Z",
     "shell.execute_reply": "2023-01-18T08:06:01.726350Z",
     "shell.execute_reply.started": "2023-01-18T08:06:01.724023Z"
    },
    "tags": []
   },
   "outputs": [],
   "source": [
    "cdc_low.rename(columns={\n",
    "    'births': 'births_low',\n",
    "    'average_birth_weight': 'avg_weight_low',\n",
    "    'average_oe_gestational_age': 'avg_ges_age_low'\n",
    "    }, inplace=True)\n",
    "\n",
    "cdc_all.rename(columns={\n",
    "    'births': 'births_all',\n",
    "    'average_birth_weight': 'avg_weight_all',\n",
    "    'average_oe_gestational_age': 'avg_ges_age_all'\n",
    "    }, inplace=True)"
   ]
  },
  {
   "cell_type": "code",
   "execution_count": 509,
   "id": "9e4be595-2478-4178-aeea-fdf9f8d0c310",
   "metadata": {
    "execution": {
     "iopub.execute_input": "2023-01-18T08:06:01.727428Z",
     "iopub.status.busy": "2023-01-18T08:06:01.727325Z",
     "iopub.status.idle": "2023-01-18T08:06:01.732410Z",
     "shell.execute_reply": "2023-01-18T08:06:01.732049Z",
     "shell.execute_reply.started": "2023-01-18T08:06:01.727418Z"
    },
    "tags": []
   },
   "outputs": [
    {
     "data": {
      "text/html": [
       "<div>\n",
       "<style scoped>\n",
       "    .dataframe tbody tr th:only-of-type {\n",
       "        vertical-align: middle;\n",
       "    }\n",
       "\n",
       "    .dataframe tbody tr th {\n",
       "        vertical-align: top;\n",
       "    }\n",
       "\n",
       "    .dataframe thead th {\n",
       "        text-align: right;\n",
       "    }\n",
       "</style>\n",
       "<table border=\"1\" class=\"dataframe\">\n",
       "  <thead>\n",
       "    <tr style=\"text-align: right;\">\n",
       "      <th></th>\n",
       "      <th>state</th>\n",
       "      <th>county</th>\n",
       "      <th>year</th>\n",
       "      <th>births_low</th>\n",
       "      <th>avg_weight_low</th>\n",
       "      <th>avg_ges_age_low</th>\n",
       "    </tr>\n",
       "  </thead>\n",
       "  <tbody>\n",
       "    <tr>\n",
       "      <th>0</th>\n",
       "      <td>Alabama</td>\n",
       "      <td>Baldwin County, AL</td>\n",
       "      <td>2014</td>\n",
       "      <td>137.0</td>\n",
       "      <td>1995.255</td>\n",
       "      <td>34.051</td>\n",
       "    </tr>\n",
       "    <tr>\n",
       "      <th>1</th>\n",
       "      <td>Alabama</td>\n",
       "      <td>Baldwin County, AL</td>\n",
       "      <td>2015</td>\n",
       "      <td>141.0</td>\n",
       "      <td>1832.837</td>\n",
       "      <td>32.922</td>\n",
       "    </tr>\n",
       "    <tr>\n",
       "      <th>2</th>\n",
       "      <td>Alabama</td>\n",
       "      <td>Baldwin County, AL</td>\n",
       "      <td>2016</td>\n",
       "      <td>120.0</td>\n",
       "      <td>2008.358</td>\n",
       "      <td>34.058</td>\n",
       "    </tr>\n",
       "  </tbody>\n",
       "</table>\n",
       "</div>"
      ],
      "text/plain": [
       "     state              county  year  births_low  avg_weight_low  \\\n",
       "0  Alabama  Baldwin County, AL  2014       137.0        1995.255   \n",
       "1  Alabama  Baldwin County, AL  2015       141.0        1832.837   \n",
       "2  Alabama  Baldwin County, AL  2016       120.0        2008.358   \n",
       "\n",
       "   avg_ges_age_low  \n",
       "0           34.051  \n",
       "1           32.922  \n",
       "2           34.058  "
      ]
     },
     "execution_count": 509,
     "metadata": {},
     "output_type": "execute_result"
    }
   ],
   "source": [
    "cdc_low.head(3)"
   ]
  },
  {
   "cell_type": "code",
   "execution_count": 510,
   "id": "ddb357c6-bf0f-4615-a132-299d2227b358",
   "metadata": {
    "execution": {
     "iopub.execute_input": "2023-01-18T08:06:01.733049Z",
     "iopub.status.busy": "2023-01-18T08:06:01.732924Z",
     "iopub.status.idle": "2023-01-18T08:06:01.738212Z",
     "shell.execute_reply": "2023-01-18T08:06:01.737722Z",
     "shell.execute_reply.started": "2023-01-18T08:06:01.733040Z"
    },
    "tags": []
   },
   "outputs": [
    {
     "data": {
      "text/html": [
       "<div>\n",
       "<style scoped>\n",
       "    .dataframe tbody tr th:only-of-type {\n",
       "        vertical-align: middle;\n",
       "    }\n",
       "\n",
       "    .dataframe tbody tr th {\n",
       "        vertical-align: top;\n",
       "    }\n",
       "\n",
       "    .dataframe thead th {\n",
       "        text-align: right;\n",
       "    }\n",
       "</style>\n",
       "<table border=\"1\" class=\"dataframe\">\n",
       "  <thead>\n",
       "    <tr style=\"text-align: right;\">\n",
       "      <th></th>\n",
       "      <th>state</th>\n",
       "      <th>county</th>\n",
       "      <th>year</th>\n",
       "      <th>births_all</th>\n",
       "      <th>avg_weight_all</th>\n",
       "      <th>avg_ges_age_all</th>\n",
       "    </tr>\n",
       "  </thead>\n",
       "  <tbody>\n",
       "    <tr>\n",
       "      <th>0</th>\n",
       "      <td>Alabama</td>\n",
       "      <td>Baldwin County, AL</td>\n",
       "      <td>2014</td>\n",
       "      <td>1724.0</td>\n",
       "      <td>3296.472</td>\n",
       "      <td>38.489</td>\n",
       "    </tr>\n",
       "    <tr>\n",
       "      <th>1</th>\n",
       "      <td>Alabama</td>\n",
       "      <td>Baldwin County, AL</td>\n",
       "      <td>2015</td>\n",
       "      <td>1857.0</td>\n",
       "      <td>3290.811</td>\n",
       "      <td>38.347</td>\n",
       "    </tr>\n",
       "    <tr>\n",
       "      <th>2</th>\n",
       "      <td>Alabama</td>\n",
       "      <td>Baldwin County, AL</td>\n",
       "      <td>2016</td>\n",
       "      <td>1722.0</td>\n",
       "      <td>3315.387</td>\n",
       "      <td>38.497</td>\n",
       "    </tr>\n",
       "  </tbody>\n",
       "</table>\n",
       "</div>"
      ],
      "text/plain": [
       "     state              county  year  births_all  avg_weight_all  \\\n",
       "0  Alabama  Baldwin County, AL  2014      1724.0        3296.472   \n",
       "1  Alabama  Baldwin County, AL  2015      1857.0        3290.811   \n",
       "2  Alabama  Baldwin County, AL  2016      1722.0        3315.387   \n",
       "\n",
       "   avg_ges_age_all  \n",
       "0           38.489  \n",
       "1           38.347  \n",
       "2           38.497  "
      ]
     },
     "execution_count": 510,
     "metadata": {},
     "output_type": "execute_result"
    }
   ],
   "source": [
    "cdc_all.head(3)"
   ]
  },
  {
   "cell_type": "markdown",
   "id": "eb573a45-18a4-4269-a589-10352646f6cf",
   "metadata": {},
   "source": [
    "#### Merge CDC Data\n",
    "\n",
    "Before further cleaning, the dataframes will be merged.  The low birthweight dataframe `cdc_low` is the main data and we will supplement that with the all birthweight data `cdc_all` so we should end up with a single dataframe that contains 1 entry for each year/county combination that has both the low birthweight and all birthweight data."
   ]
  },
  {
   "cell_type": "code",
   "execution_count": 511,
   "id": "1dcfc03e-d22e-4f5d-a237-1ff656ab682b",
   "metadata": {
    "execution": {
     "iopub.execute_input": "2023-01-18T08:06:56.244170Z",
     "iopub.status.busy": "2023-01-18T08:06:56.243478Z",
     "iopub.status.idle": "2023-01-18T08:06:56.265903Z",
     "shell.execute_reply": "2023-01-18T08:06:56.265377Z",
     "shell.execute_reply.started": "2023-01-18T08:06:56.244121Z"
    },
    "tags": []
   },
   "outputs": [],
   "source": [
    "cdc = pd.merge(cdc_low, cdc_all, how='left', on=['state', 'county', 'year'])"
   ]
  },
  {
   "cell_type": "code",
   "execution_count": 512,
   "id": "3fff8e71-53bd-4f47-9533-9dcecedc3e25",
   "metadata": {
    "execution": {
     "iopub.execute_input": "2023-01-18T08:06:56.721386Z",
     "iopub.status.busy": "2023-01-18T08:06:56.721002Z",
     "iopub.status.idle": "2023-01-18T08:06:56.750600Z",
     "shell.execute_reply": "2023-01-18T08:06:56.741790Z",
     "shell.execute_reply.started": "2023-01-18T08:06:56.721361Z"
    },
    "tags": []
   },
   "outputs": [
    {
     "data": {
      "text/html": [
       "<div>\n",
       "<style scoped>\n",
       "    .dataframe tbody tr th:only-of-type {\n",
       "        vertical-align: middle;\n",
       "    }\n",
       "\n",
       "    .dataframe tbody tr th {\n",
       "        vertical-align: top;\n",
       "    }\n",
       "\n",
       "    .dataframe thead th {\n",
       "        text-align: right;\n",
       "    }\n",
       "</style>\n",
       "<table border=\"1\" class=\"dataframe\">\n",
       "  <thead>\n",
       "    <tr style=\"text-align: right;\">\n",
       "      <th></th>\n",
       "      <th>state</th>\n",
       "      <th>county</th>\n",
       "      <th>year</th>\n",
       "      <th>births_low</th>\n",
       "      <th>avg_weight_low</th>\n",
       "      <th>avg_ges_age_low</th>\n",
       "      <th>births_all</th>\n",
       "      <th>avg_weight_all</th>\n",
       "      <th>avg_ges_age_all</th>\n",
       "    </tr>\n",
       "  </thead>\n",
       "  <tbody>\n",
       "    <tr>\n",
       "      <th>0</th>\n",
       "      <td>Alabama</td>\n",
       "      <td>Baldwin County, AL</td>\n",
       "      <td>2014</td>\n",
       "      <td>137.0</td>\n",
       "      <td>1995.255</td>\n",
       "      <td>34.051</td>\n",
       "      <td>1724.0</td>\n",
       "      <td>3296.472</td>\n",
       "      <td>38.489</td>\n",
       "    </tr>\n",
       "    <tr>\n",
       "      <th>1</th>\n",
       "      <td>Alabama</td>\n",
       "      <td>Baldwin County, AL</td>\n",
       "      <td>2015</td>\n",
       "      <td>141.0</td>\n",
       "      <td>1832.837</td>\n",
       "      <td>32.922</td>\n",
       "      <td>1857.0</td>\n",
       "      <td>3290.811</td>\n",
       "      <td>38.347</td>\n",
       "    </tr>\n",
       "    <tr>\n",
       "      <th>2</th>\n",
       "      <td>Alabama</td>\n",
       "      <td>Baldwin County, AL</td>\n",
       "      <td>2016</td>\n",
       "      <td>120.0</td>\n",
       "      <td>2008.358</td>\n",
       "      <td>34.058</td>\n",
       "      <td>1722.0</td>\n",
       "      <td>3315.387</td>\n",
       "      <td>38.497</td>\n",
       "    </tr>\n",
       "    <tr>\n",
       "      <th>3</th>\n",
       "      <td>Alabama</td>\n",
       "      <td>Baldwin County, AL</td>\n",
       "      <td>2017</td>\n",
       "      <td>100.0</td>\n",
       "      <td>2082.830</td>\n",
       "      <td>34.380</td>\n",
       "      <td>1782.0</td>\n",
       "      <td>3346.588</td>\n",
       "      <td>38.572</td>\n",
       "    </tr>\n",
       "    <tr>\n",
       "      <th>4</th>\n",
       "      <td>Alabama</td>\n",
       "      <td>Baldwin County, AL</td>\n",
       "      <td>2018</td>\n",
       "      <td>122.0</td>\n",
       "      <td>1942.303</td>\n",
       "      <td>33.508</td>\n",
       "      <td>1770.0</td>\n",
       "      <td>3301.324</td>\n",
       "      <td>38.423</td>\n",
       "    </tr>\n",
       "  </tbody>\n",
       "</table>\n",
       "</div>"
      ],
      "text/plain": [
       "     state              county  year  births_low  avg_weight_low  \\\n",
       "0  Alabama  Baldwin County, AL  2014       137.0        1995.255   \n",
       "1  Alabama  Baldwin County, AL  2015       141.0        1832.837   \n",
       "2  Alabama  Baldwin County, AL  2016       120.0        2008.358   \n",
       "3  Alabama  Baldwin County, AL  2017       100.0        2082.830   \n",
       "4  Alabama  Baldwin County, AL  2018       122.0        1942.303   \n",
       "\n",
       "   avg_ges_age_low  births_all  avg_weight_all  avg_ges_age_all  \n",
       "0           34.051      1724.0        3296.472           38.489  \n",
       "1           32.922      1857.0        3290.811           38.347  \n",
       "2           34.058      1722.0        3315.387           38.497  \n",
       "3           34.380      1782.0        3346.588           38.572  \n",
       "4           33.508      1770.0        3301.324           38.423  "
      ]
     },
     "execution_count": 512,
     "metadata": {},
     "output_type": "execute_result"
    }
   ],
   "source": [
    "cdc.head()"
   ]
  },
  {
   "cell_type": "markdown",
   "id": "c010eb6e-a4e8-483e-9979-a7754d023628",
   "metadata": {},
   "source": [
    "#### County Names"
   ]
  },
  {
   "cell_type": "code",
   "execution_count": 513,
   "id": "3b540dbc-37e7-4abd-a969-78d6c1f7e59f",
   "metadata": {
    "execution": {
     "iopub.execute_input": "2023-01-18T08:06:58.373750Z",
     "iopub.status.busy": "2023-01-18T08:06:58.372543Z",
     "iopub.status.idle": "2023-01-18T08:06:58.389359Z",
     "shell.execute_reply": "2023-01-18T08:06:58.388910Z",
     "shell.execute_reply.started": "2023-01-18T08:06:58.373704Z"
    },
    "tags": []
   },
   "outputs": [
    {
     "data": {
      "text/plain": [
       "986           Hartford County, CT\n",
       "968     Unidentified Counties, CO\n",
       "5830           Midland County, TX\n",
       "1617             Henry County, GA\n",
       "16              Etowah County, AL\n",
       "5513          Brazoria County, TX\n",
       "1047        New Castle County, DE\n",
       "2942         Middlesex County, MA\n",
       "2068         Hendricks County, IN\n",
       "6095             Weber County, UT\n",
       "Name: county, dtype: object"
      ]
     },
     "execution_count": 513,
     "metadata": {},
     "output_type": "execute_result"
    }
   ],
   "source": [
    "cdc['county'].sample(10)"
   ]
  },
  {
   "cell_type": "markdown",
   "id": "ac0a9819-c58b-4a41-97d0-748bd1afca29",
   "metadata": {},
   "source": [
    "I ran the sample code above multiple times to see some of the data in the county column.  Looks like they are including the state abbreviation in the County name, so will remove that.  There were also some places that didn't say \"County\" and said \"Counties\" (i.e. Unidentified Counties, WY) and also there were some locations that were parishes (in LA) or other unique monikers like Borough.  So I'm splitting on both the \" Count\" to capture County and Counties as well as \",\" to get both cases.\n",
    "\n",
    "We should look at what the AQI data has and decide whether we need to treat the remaining unique naming cases that remain after this clean up."
   ]
  },
  {
   "cell_type": "code",
   "execution_count": 514,
   "id": "d91e0df7-2f5c-4b8a-84c6-992b6ded4c57",
   "metadata": {
    "execution": {
     "iopub.execute_input": "2023-01-18T08:07:01.953063Z",
     "iopub.status.busy": "2023-01-18T08:07:01.951723Z",
     "iopub.status.idle": "2023-01-18T08:07:01.972183Z",
     "shell.execute_reply": "2023-01-18T08:07:01.971698Z",
     "shell.execute_reply.started": "2023-01-18T08:07:01.953002Z"
    },
    "tags": []
   },
   "outputs": [],
   "source": [
    "cdc['county'] = cdc['county'\n",
    "                   ].apply(lambda x: x.split(' Count')[0].split(',')[0].title())"
   ]
  },
  {
   "cell_type": "code",
   "execution_count": 515,
   "id": "041736ed-1a55-42bc-86dd-40c8ef9d980a",
   "metadata": {
    "execution": {
     "iopub.execute_input": "2023-01-18T08:07:02.721540Z",
     "iopub.status.busy": "2023-01-18T08:07:02.720567Z",
     "iopub.status.idle": "2023-01-18T08:07:02.743930Z",
     "shell.execute_reply": "2023-01-18T08:07:02.743189Z",
     "shell.execute_reply.started": "2023-01-18T08:07:02.721492Z"
    },
    "tags": []
   },
   "outputs": [
    {
     "data": {
      "text/plain": [
       "state      50\n",
       "county    466\n",
       "dtype: int64"
      ]
     },
     "execution_count": 515,
     "metadata": {},
     "output_type": "execute_result"
    }
   ],
   "source": [
    "cdc[['state', 'county']].nunique()"
   ]
  },
  {
   "cell_type": "code",
   "execution_count": 516,
   "id": "84ee3281-bac9-4f67-9c2d-271f5457e1c3",
   "metadata": {
    "execution": {
     "iopub.execute_input": "2023-01-18T08:07:03.469244Z",
     "iopub.status.busy": "2023-01-18T08:07:03.468166Z",
     "iopub.status.idle": "2023-01-18T08:07:03.485830Z",
     "shell.execute_reply": "2023-01-18T08:07:03.483805Z",
     "shell.execute_reply.started": "2023-01-18T08:07:03.469189Z"
    },
    "tags": []
   },
   "outputs": [
    {
     "data": {
      "text/plain": [
       "4288      Cumberland\n",
       "234        Sebastian\n",
       "1498        Cherokee\n",
       "3219       St. Louis\n",
       "2382         Johnson\n",
       "2904         Bristol\n",
       "4251        Buncombe\n",
       "3695       Middlesex\n",
       "1463          Bartow\n",
       "2510    Unidentified\n",
       "Name: county, dtype: object"
      ]
     },
     "execution_count": 516,
     "metadata": {},
     "output_type": "execute_result"
    }
   ],
   "source": [
    "cdc['county'].sample(10)"
   ]
  },
  {
   "cell_type": "markdown",
   "id": "3766351c-bfe0-4d1d-9076-4275a157eae9",
   "metadata": {},
   "source": [
    "This looks more like what I would expect where it is just the name of the county.  Since we also saw that there were unidentified counties, and they are all just listed as Unidentified now, we should drop that data since we are trying to investigate county air quality and county birth weights, so without a specific county, the data is not valuable to us."
   ]
  },
  {
   "cell_type": "code",
   "execution_count": 517,
   "id": "32057c89-ade6-42a3-b88b-245fa6dbe7d2",
   "metadata": {
    "execution": {
     "iopub.execute_input": "2023-01-18T08:07:06.116872Z",
     "iopub.status.busy": "2023-01-18T08:07:06.115588Z",
     "iopub.status.idle": "2023-01-18T08:07:06.125722Z",
     "shell.execute_reply": "2023-01-18T08:07:06.124073Z",
     "shell.execute_reply.started": "2023-01-18T08:07:06.116809Z"
    },
    "tags": []
   },
   "outputs": [],
   "source": [
    "# looking through all the unique values for anything else interesting\n",
    "# cdc['county'].unique()"
   ]
  },
  {
   "cell_type": "markdown",
   "id": "cfae153f-0ccf-457b-b980-348e85243626",
   "metadata": {},
   "source": [
    "I'm also seeing many counties that end in lower case 'city' so investigating some of those, like:\n",
    "* St. Louis city\n",
    "* Chesapeake city\n",
    "* Norfolk city\n",
    "* Portsmouth city\n",
    "\n",
    "St. Louis is interesting, since it sounds like the city is a county, but there is also a St. Louis county that surrounds the city according to https://www.stlouis-mo.gov/government/about/city-government-structure.cfm\n",
    "\n",
    "Chesapeake, Virginia is also an independent city and not part of a county https://en.wikipedia.org/wiki/Chesapeake,_Virginia\n",
    "\n",
    "Given this information and the information above about seeing some \"parish\" listings in Louisiana, we checked against the AQI county listings and found that in the AQI data:\n",
    "* the word Parish does not appear, but the name of the Parish does--like 'East Baton Rouge', so we should drop 'Parish' from the CDC county names.\n",
    "* The word City does appear in the AQI data, but it is capitalized, so we should title case the CDC data or make all of them lower case when we go to match them up (this has been incorporated into earlier cleaning steps and is no longer a concern)"
   ]
  },
  {
   "cell_type": "code",
   "execution_count": 518,
   "id": "e566f333-9dcb-4474-911e-10181619eb0e",
   "metadata": {
    "execution": {
     "iopub.execute_input": "2023-01-18T08:07:07.042061Z",
     "iopub.status.busy": "2023-01-18T08:07:07.041051Z",
     "iopub.status.idle": "2023-01-18T08:07:07.058043Z",
     "shell.execute_reply": "2023-01-18T08:07:07.056899Z",
     "shell.execute_reply.started": "2023-01-18T08:07:07.042003Z"
    },
    "tags": []
   },
   "outputs": [],
   "source": [
    "# drop parish\n",
    "cdc['county'] = cdc['county'\n",
    "                   ].apply(lambda x: x.split(' Parish')[0])"
   ]
  },
  {
   "cell_type": "code",
   "execution_count": 519,
   "id": "cc541b45-63bc-4d8c-a1fd-2c1794a81533",
   "metadata": {
    "execution": {
     "iopub.execute_input": "2023-01-18T08:07:07.519604Z",
     "iopub.status.busy": "2023-01-18T08:07:07.518774Z",
     "iopub.status.idle": "2023-01-18T08:07:07.527772Z",
     "shell.execute_reply": "2023-01-18T08:07:07.527237Z",
     "shell.execute_reply.started": "2023-01-18T08:07:07.519565Z"
    },
    "tags": []
   },
   "outputs": [
    {
     "data": {
      "text/plain": [
       "(6616, 9)"
      ]
     },
     "execution_count": 519,
     "metadata": {},
     "output_type": "execute_result"
    }
   ],
   "source": [
    "cdc.shape"
   ]
  },
  {
   "cell_type": "code",
   "execution_count": 520,
   "id": "e9d19723-d5b1-4ea2-b258-f5f9e9a55b66",
   "metadata": {
    "execution": {
     "iopub.execute_input": "2023-01-18T08:07:08.005673Z",
     "iopub.status.busy": "2023-01-18T08:07:08.004823Z",
     "iopub.status.idle": "2023-01-18T08:07:08.028453Z",
     "shell.execute_reply": "2023-01-18T08:07:08.027467Z",
     "shell.execute_reply.started": "2023-01-18T08:07:08.005627Z"
    },
    "tags": []
   },
   "outputs": [],
   "source": [
    "cdc.drop(cdc[cdc['county'] == 'Unidentified'].index, inplace=True)"
   ]
  },
  {
   "cell_type": "code",
   "execution_count": 521,
   "id": "cafd0f5d-ac08-4626-94e4-17c62c400a4e",
   "metadata": {
    "execution": {
     "iopub.execute_input": "2023-01-18T08:07:08.122919Z",
     "iopub.status.busy": "2023-01-18T08:07:08.122234Z",
     "iopub.status.idle": "2023-01-18T08:07:08.135827Z",
     "shell.execute_reply": "2023-01-18T08:07:08.133062Z",
     "shell.execute_reply.started": "2023-01-18T08:07:08.122869Z"
    },
    "tags": []
   },
   "outputs": [
    {
     "data": {
      "text/plain": [
       "(6094, 9)"
      ]
     },
     "execution_count": 521,
     "metadata": {},
     "output_type": "execute_result"
    }
   ],
   "source": [
    "cdc.shape"
   ]
  },
  {
   "cell_type": "code",
   "execution_count": 522,
   "id": "25073c83-d890-4306-99af-b1ebbc20c3df",
   "metadata": {
    "execution": {
     "iopub.execute_input": "2023-01-18T08:07:08.291832Z",
     "iopub.status.busy": "2023-01-18T08:07:08.291112Z",
     "iopub.status.idle": "2023-01-18T08:07:08.304465Z",
     "shell.execute_reply": "2023-01-18T08:07:08.303716Z",
     "shell.execute_reply.started": "2023-01-18T08:07:08.291783Z"
    },
    "tags": []
   },
   "outputs": [
    {
     "data": {
      "text/plain": [
       "state               object\n",
       "county              object\n",
       "year                 int64\n",
       "births_low         float64\n",
       "avg_weight_low     float64\n",
       "avg_ges_age_low    float64\n",
       "births_all         float64\n",
       "avg_weight_all     float64\n",
       "avg_ges_age_all    float64\n",
       "dtype: object"
      ]
     },
     "execution_count": 522,
     "metadata": {},
     "output_type": "execute_result"
    }
   ],
   "source": [
    "cdc.dtypes"
   ]
  },
  {
   "cell_type": "markdown",
   "id": "6339ba20-2376-4ff1-95d3-9c5beb4aacfd",
   "metadata": {},
   "source": [
    "#### Calculate Percent of Low Birthweight\n",
    "\n",
    "We have the total births and the low birthweight births, so let's create a percentage of low birthrate births before exporting the cleaned data.\n",
    "\n",
    "The current national average is 8.24% (.0824), so we'll create a boolean feature as well to indicate if the observation is above the national average"
   ]
  },
  {
   "cell_type": "code",
   "execution_count": 523,
   "id": "44f3df93-5fad-4b19-980d-618f908c9640",
   "metadata": {
    "execution": {
     "iopub.execute_input": "2023-01-18T08:07:10.541710Z",
     "iopub.status.busy": "2023-01-18T08:07:10.541203Z",
     "iopub.status.idle": "2023-01-18T08:07:10.552974Z",
     "shell.execute_reply": "2023-01-18T08:07:10.550892Z",
     "shell.execute_reply.started": "2023-01-18T08:07:10.541682Z"
    },
    "tags": []
   },
   "outputs": [],
   "source": [
    "cdc['pct_low'] = (cdc['births_low'] / cdc['births_all']).round(3)"
   ]
  },
  {
   "cell_type": "code",
   "execution_count": 524,
   "id": "cc0009c6-29f6-49ca-aaa1-3b2f7d1205ac",
   "metadata": {
    "execution": {
     "iopub.execute_input": "2023-01-18T08:07:11.104231Z",
     "iopub.status.busy": "2023-01-18T08:07:11.103540Z",
     "iopub.status.idle": "2023-01-18T08:07:11.119254Z",
     "shell.execute_reply": "2023-01-18T08:07:11.118511Z",
     "shell.execute_reply.started": "2023-01-18T08:07:11.104181Z"
    },
    "tags": []
   },
   "outputs": [],
   "source": [
    "cdc['high_rate'] = cdc['pct_low'].apply(lambda x: 1 if x > .0824 else 0)"
   ]
  },
  {
   "cell_type": "code",
   "execution_count": 525,
   "id": "43ed4b5f-5ea4-455f-9e44-a2542700d348",
   "metadata": {
    "execution": {
     "iopub.execute_input": "2023-01-18T08:07:11.542299Z",
     "iopub.status.busy": "2023-01-18T08:07:11.541609Z",
     "iopub.status.idle": "2023-01-18T08:07:11.561639Z",
     "shell.execute_reply": "2023-01-18T08:07:11.561136Z",
     "shell.execute_reply.started": "2023-01-18T08:07:11.542250Z"
    },
    "tags": []
   },
   "outputs": [
    {
     "data": {
      "text/html": [
       "<div>\n",
       "<style scoped>\n",
       "    .dataframe tbody tr th:only-of-type {\n",
       "        vertical-align: middle;\n",
       "    }\n",
       "\n",
       "    .dataframe tbody tr th {\n",
       "        vertical-align: top;\n",
       "    }\n",
       "\n",
       "    .dataframe thead th {\n",
       "        text-align: right;\n",
       "    }\n",
       "</style>\n",
       "<table border=\"1\" class=\"dataframe\">\n",
       "  <thead>\n",
       "    <tr style=\"text-align: right;\">\n",
       "      <th></th>\n",
       "      <th>state</th>\n",
       "      <th>county</th>\n",
       "      <th>year</th>\n",
       "      <th>births_low</th>\n",
       "      <th>avg_weight_low</th>\n",
       "      <th>avg_ges_age_low</th>\n",
       "      <th>births_all</th>\n",
       "      <th>avg_weight_all</th>\n",
       "      <th>avg_ges_age_all</th>\n",
       "      <th>pct_low</th>\n",
       "      <th>high_rate</th>\n",
       "    </tr>\n",
       "  </thead>\n",
       "  <tbody>\n",
       "    <tr>\n",
       "      <th>0</th>\n",
       "      <td>Alabama</td>\n",
       "      <td>Baldwin</td>\n",
       "      <td>2014</td>\n",
       "      <td>137.0</td>\n",
       "      <td>1995.255</td>\n",
       "      <td>34.051</td>\n",
       "      <td>1724.0</td>\n",
       "      <td>3296.472</td>\n",
       "      <td>38.489</td>\n",
       "      <td>0.079</td>\n",
       "      <td>0</td>\n",
       "    </tr>\n",
       "    <tr>\n",
       "      <th>1</th>\n",
       "      <td>Alabama</td>\n",
       "      <td>Baldwin</td>\n",
       "      <td>2015</td>\n",
       "      <td>141.0</td>\n",
       "      <td>1832.837</td>\n",
       "      <td>32.922</td>\n",
       "      <td>1857.0</td>\n",
       "      <td>3290.811</td>\n",
       "      <td>38.347</td>\n",
       "      <td>0.076</td>\n",
       "      <td>0</td>\n",
       "    </tr>\n",
       "    <tr>\n",
       "      <th>2</th>\n",
       "      <td>Alabama</td>\n",
       "      <td>Baldwin</td>\n",
       "      <td>2016</td>\n",
       "      <td>120.0</td>\n",
       "      <td>2008.358</td>\n",
       "      <td>34.058</td>\n",
       "      <td>1722.0</td>\n",
       "      <td>3315.387</td>\n",
       "      <td>38.497</td>\n",
       "      <td>0.070</td>\n",
       "      <td>0</td>\n",
       "    </tr>\n",
       "    <tr>\n",
       "      <th>3</th>\n",
       "      <td>Alabama</td>\n",
       "      <td>Baldwin</td>\n",
       "      <td>2017</td>\n",
       "      <td>100.0</td>\n",
       "      <td>2082.830</td>\n",
       "      <td>34.380</td>\n",
       "      <td>1782.0</td>\n",
       "      <td>3346.588</td>\n",
       "      <td>38.572</td>\n",
       "      <td>0.056</td>\n",
       "      <td>0</td>\n",
       "    </tr>\n",
       "    <tr>\n",
       "      <th>4</th>\n",
       "      <td>Alabama</td>\n",
       "      <td>Baldwin</td>\n",
       "      <td>2018</td>\n",
       "      <td>122.0</td>\n",
       "      <td>1942.303</td>\n",
       "      <td>33.508</td>\n",
       "      <td>1770.0</td>\n",
       "      <td>3301.324</td>\n",
       "      <td>38.423</td>\n",
       "      <td>0.069</td>\n",
       "      <td>0</td>\n",
       "    </tr>\n",
       "    <tr>\n",
       "      <th>5</th>\n",
       "      <td>Alabama</td>\n",
       "      <td>Baldwin</td>\n",
       "      <td>2019</td>\n",
       "      <td>99.0</td>\n",
       "      <td>2060.768</td>\n",
       "      <td>34.919</td>\n",
       "      <td>1845.0</td>\n",
       "      <td>3327.293</td>\n",
       "      <td>38.521</td>\n",
       "      <td>0.054</td>\n",
       "      <td>0</td>\n",
       "    </tr>\n",
       "    <tr>\n",
       "      <th>6</th>\n",
       "      <td>Alabama</td>\n",
       "      <td>Baldwin</td>\n",
       "      <td>2020</td>\n",
       "      <td>113.0</td>\n",
       "      <td>2025.478</td>\n",
       "      <td>34.982</td>\n",
       "      <td>1763.0</td>\n",
       "      <td>3305.012</td>\n",
       "      <td>38.529</td>\n",
       "      <td>0.064</td>\n",
       "      <td>0</td>\n",
       "    </tr>\n",
       "    <tr>\n",
       "      <th>7</th>\n",
       "      <td>Alabama</td>\n",
       "      <td>Baldwin</td>\n",
       "      <td>2021</td>\n",
       "      <td>120.0</td>\n",
       "      <td>1969.508</td>\n",
       "      <td>34.269</td>\n",
       "      <td>1969.0</td>\n",
       "      <td>3293.984</td>\n",
       "      <td>38.394</td>\n",
       "      <td>0.061</td>\n",
       "      <td>0</td>\n",
       "    </tr>\n",
       "    <tr>\n",
       "      <th>8</th>\n",
       "      <td>Alabama</td>\n",
       "      <td>Calhoun</td>\n",
       "      <td>2014</td>\n",
       "      <td>59.0</td>\n",
       "      <td>1972.661</td>\n",
       "      <td>34.475</td>\n",
       "      <td>948.0</td>\n",
       "      <td>3275.708</td>\n",
       "      <td>38.668</td>\n",
       "      <td>0.062</td>\n",
       "      <td>0</td>\n",
       "    </tr>\n",
       "    <tr>\n",
       "      <th>9</th>\n",
       "      <td>Alabama</td>\n",
       "      <td>Calhoun</td>\n",
       "      <td>2015</td>\n",
       "      <td>65.0</td>\n",
       "      <td>1909.708</td>\n",
       "      <td>33.892</td>\n",
       "      <td>983.0</td>\n",
       "      <td>3267.121</td>\n",
       "      <td>38.590</td>\n",
       "      <td>0.066</td>\n",
       "      <td>0</td>\n",
       "    </tr>\n",
       "  </tbody>\n",
       "</table>\n",
       "</div>"
      ],
      "text/plain": [
       "     state   county  year  births_low  avg_weight_low  avg_ges_age_low  \\\n",
       "0  Alabama  Baldwin  2014       137.0        1995.255           34.051   \n",
       "1  Alabama  Baldwin  2015       141.0        1832.837           32.922   \n",
       "2  Alabama  Baldwin  2016       120.0        2008.358           34.058   \n",
       "3  Alabama  Baldwin  2017       100.0        2082.830           34.380   \n",
       "4  Alabama  Baldwin  2018       122.0        1942.303           33.508   \n",
       "5  Alabama  Baldwin  2019        99.0        2060.768           34.919   \n",
       "6  Alabama  Baldwin  2020       113.0        2025.478           34.982   \n",
       "7  Alabama  Baldwin  2021       120.0        1969.508           34.269   \n",
       "8  Alabama  Calhoun  2014        59.0        1972.661           34.475   \n",
       "9  Alabama  Calhoun  2015        65.0        1909.708           33.892   \n",
       "\n",
       "   births_all  avg_weight_all  avg_ges_age_all  pct_low  high_rate  \n",
       "0      1724.0        3296.472           38.489    0.079          0  \n",
       "1      1857.0        3290.811           38.347    0.076          0  \n",
       "2      1722.0        3315.387           38.497    0.070          0  \n",
       "3      1782.0        3346.588           38.572    0.056          0  \n",
       "4      1770.0        3301.324           38.423    0.069          0  \n",
       "5      1845.0        3327.293           38.521    0.054          0  \n",
       "6      1763.0        3305.012           38.529    0.064          0  \n",
       "7      1969.0        3293.984           38.394    0.061          0  \n",
       "8       948.0        3275.708           38.668    0.062          0  \n",
       "9       983.0        3267.121           38.590    0.066          0  "
      ]
     },
     "execution_count": 525,
     "metadata": {},
     "output_type": "execute_result"
    }
   ],
   "source": [
    "cdc.head(10)"
   ]
  },
  {
   "cell_type": "code",
   "execution_count": 526,
   "id": "524665eb-4e41-44b5-8f75-3a4105153e68",
   "metadata": {
    "execution": {
     "iopub.execute_input": "2023-01-18T08:07:14.689431Z",
     "iopub.status.busy": "2023-01-18T08:07:14.688620Z",
     "iopub.status.idle": "2023-01-18T08:07:14.709152Z",
     "shell.execute_reply": "2023-01-18T08:07:14.708607Z",
     "shell.execute_reply.started": "2023-01-18T08:07:14.689385Z"
    },
    "tags": []
   },
   "outputs": [
    {
     "data": {
      "text/plain": [
       "0    0.910896\n",
       "1    0.089104\n",
       "Name: high_rate, dtype: float64"
      ]
     },
     "execution_count": 526,
     "metadata": {},
     "output_type": "execute_result"
    }
   ],
   "source": [
    "cdc['high_rate'].value_counts(normalize=True)"
   ]
  },
  {
   "cell_type": "markdown",
   "id": "3b7cdf4d-b319-4025-89ff-4c86bf761c0b",
   "metadata": {},
   "source": [
    "### Merge CDC and EPA Data"
   ]
  },
  {
   "cell_type": "code",
   "execution_count": 529,
   "id": "23ea2103-ec1a-493c-b643-5bc12ba146f3",
   "metadata": {
    "execution": {
     "iopub.execute_input": "2023-01-18T08:07:45.499679Z",
     "iopub.status.busy": "2023-01-18T08:07:45.499186Z",
     "iopub.status.idle": "2023-01-18T08:07:45.531562Z",
     "shell.execute_reply": "2023-01-18T08:07:45.531058Z",
     "shell.execute_reply.started": "2023-01-18T08:07:45.499646Z"
    },
    "tags": []
   },
   "outputs": [
    {
     "data": {
      "text/html": [
       "<div>\n",
       "<style scoped>\n",
       "    .dataframe tbody tr th:only-of-type {\n",
       "        vertical-align: middle;\n",
       "    }\n",
       "\n",
       "    .dataframe tbody tr th {\n",
       "        vertical-align: top;\n",
       "    }\n",
       "\n",
       "    .dataframe thead th {\n",
       "        text-align: right;\n",
       "    }\n",
       "</style>\n",
       "<table border=\"1\" class=\"dataframe\">\n",
       "  <thead>\n",
       "    <tr style=\"text-align: right;\">\n",
       "      <th>parameter</th>\n",
       "      <th>state</th>\n",
       "      <th>county</th>\n",
       "      <th>year</th>\n",
       "      <th>Carbon monoxide</th>\n",
       "      <th>Lead (TSP) LC</th>\n",
       "      <th>Nitrogen dioxide (NO2)</th>\n",
       "      <th>Ozone</th>\n",
       "      <th>PM10 Total 0-10um STP</th>\n",
       "      <th>PM2.5 - Local Conditions</th>\n",
       "      <th>Sulfur dioxide</th>\n",
       "    </tr>\n",
       "  </thead>\n",
       "  <tbody>\n",
       "    <tr>\n",
       "      <th>0</th>\n",
       "      <td>Alabama</td>\n",
       "      <td>Colbert</td>\n",
       "      <td>2006</td>\n",
       "      <td>NaN</td>\n",
       "      <td>NaN</td>\n",
       "      <td>NaN</td>\n",
       "      <td>NaN</td>\n",
       "      <td>NaN</td>\n",
       "      <td>NaN</td>\n",
       "      <td>3.46784</td>\n",
       "    </tr>\n",
       "    <tr>\n",
       "      <th>1</th>\n",
       "      <td>Alabama</td>\n",
       "      <td>Colbert</td>\n",
       "      <td>2010</td>\n",
       "      <td>NaN</td>\n",
       "      <td>NaN</td>\n",
       "      <td>NaN</td>\n",
       "      <td>NaN</td>\n",
       "      <td>NaN</td>\n",
       "      <td>11.107902</td>\n",
       "      <td>NaN</td>\n",
       "    </tr>\n",
       "    <tr>\n",
       "      <th>2</th>\n",
       "      <td>Alabama</td>\n",
       "      <td>Etowah</td>\n",
       "      <td>2008</td>\n",
       "      <td>NaN</td>\n",
       "      <td>NaN</td>\n",
       "      <td>NaN</td>\n",
       "      <td>NaN</td>\n",
       "      <td>NaN</td>\n",
       "      <td>12.375394</td>\n",
       "      <td>NaN</td>\n",
       "    </tr>\n",
       "  </tbody>\n",
       "</table>\n",
       "</div>"
      ],
      "text/plain": [
       "parameter    state   county  year  Carbon monoxide  Lead (TSP) LC  \\\n",
       "0          Alabama  Colbert  2006              NaN            NaN   \n",
       "1          Alabama  Colbert  2010              NaN            NaN   \n",
       "2          Alabama   Etowah  2008              NaN            NaN   \n",
       "\n",
       "parameter  Nitrogen dioxide (NO2)  Ozone  PM10 Total 0-10um STP  \\\n",
       "0                             NaN    NaN                    NaN   \n",
       "1                             NaN    NaN                    NaN   \n",
       "2                             NaN    NaN                    NaN   \n",
       "\n",
       "parameter  PM2.5 - Local Conditions  Sulfur dioxide  \n",
       "0                               NaN         3.46784  \n",
       "1                         11.107902             NaN  \n",
       "2                         12.375394             NaN  "
      ]
     },
     "execution_count": 529,
     "metadata": {},
     "output_type": "execute_result"
    }
   ],
   "source": [
    "county_aqs.head(3)"
   ]
  },
  {
   "cell_type": "code",
   "execution_count": 530,
   "id": "8133f20f-d144-4eea-83e8-d7a57f31453a",
   "metadata": {
    "execution": {
     "iopub.execute_input": "2023-01-18T08:07:56.669425Z",
     "iopub.status.busy": "2023-01-18T08:07:56.668963Z",
     "iopub.status.idle": "2023-01-18T08:07:56.677819Z",
     "shell.execute_reply": "2023-01-18T08:07:56.676920Z",
     "shell.execute_reply.started": "2023-01-18T08:07:56.669395Z"
    },
    "tags": []
   },
   "outputs": [],
   "source": [
    "cdc['year_for_merge'] = cdc['year'] -1"
   ]
  },
  {
   "cell_type": "code",
   "execution_count": 531,
   "id": "e3be2b0e-6374-4646-9583-73e3709dba2d",
   "metadata": {
    "execution": {
     "iopub.execute_input": "2023-01-18T08:07:56.859914Z",
     "iopub.status.busy": "2023-01-18T08:07:56.858870Z",
     "iopub.status.idle": "2023-01-18T08:07:56.879707Z",
     "shell.execute_reply": "2023-01-18T08:07:56.878879Z",
     "shell.execute_reply.started": "2023-01-18T08:07:56.859860Z"
    },
    "tags": []
   },
   "outputs": [
    {
     "data": {
      "text/html": [
       "<div>\n",
       "<style scoped>\n",
       "    .dataframe tbody tr th:only-of-type {\n",
       "        vertical-align: middle;\n",
       "    }\n",
       "\n",
       "    .dataframe tbody tr th {\n",
       "        vertical-align: top;\n",
       "    }\n",
       "\n",
       "    .dataframe thead th {\n",
       "        text-align: right;\n",
       "    }\n",
       "</style>\n",
       "<table border=\"1\" class=\"dataframe\">\n",
       "  <thead>\n",
       "    <tr style=\"text-align: right;\">\n",
       "      <th></th>\n",
       "      <th>state</th>\n",
       "      <th>county</th>\n",
       "      <th>year</th>\n",
       "      <th>births_low</th>\n",
       "      <th>avg_weight_low</th>\n",
       "      <th>avg_ges_age_low</th>\n",
       "      <th>births_all</th>\n",
       "      <th>avg_weight_all</th>\n",
       "      <th>avg_ges_age_all</th>\n",
       "      <th>pct_low</th>\n",
       "      <th>high_rate</th>\n",
       "      <th>year_for_merge</th>\n",
       "    </tr>\n",
       "  </thead>\n",
       "  <tbody>\n",
       "    <tr>\n",
       "      <th>0</th>\n",
       "      <td>Alabama</td>\n",
       "      <td>Baldwin</td>\n",
       "      <td>2014</td>\n",
       "      <td>137.0</td>\n",
       "      <td>1995.255</td>\n",
       "      <td>34.051</td>\n",
       "      <td>1724.0</td>\n",
       "      <td>3296.472</td>\n",
       "      <td>38.489</td>\n",
       "      <td>0.079</td>\n",
       "      <td>0</td>\n",
       "      <td>2013</td>\n",
       "    </tr>\n",
       "    <tr>\n",
       "      <th>1</th>\n",
       "      <td>Alabama</td>\n",
       "      <td>Baldwin</td>\n",
       "      <td>2015</td>\n",
       "      <td>141.0</td>\n",
       "      <td>1832.837</td>\n",
       "      <td>32.922</td>\n",
       "      <td>1857.0</td>\n",
       "      <td>3290.811</td>\n",
       "      <td>38.347</td>\n",
       "      <td>0.076</td>\n",
       "      <td>0</td>\n",
       "      <td>2014</td>\n",
       "    </tr>\n",
       "    <tr>\n",
       "      <th>2</th>\n",
       "      <td>Alabama</td>\n",
       "      <td>Baldwin</td>\n",
       "      <td>2016</td>\n",
       "      <td>120.0</td>\n",
       "      <td>2008.358</td>\n",
       "      <td>34.058</td>\n",
       "      <td>1722.0</td>\n",
       "      <td>3315.387</td>\n",
       "      <td>38.497</td>\n",
       "      <td>0.070</td>\n",
       "      <td>0</td>\n",
       "      <td>2015</td>\n",
       "    </tr>\n",
       "  </tbody>\n",
       "</table>\n",
       "</div>"
      ],
      "text/plain": [
       "     state   county  year  births_low  avg_weight_low  avg_ges_age_low  \\\n",
       "0  Alabama  Baldwin  2014       137.0        1995.255           34.051   \n",
       "1  Alabama  Baldwin  2015       141.0        1832.837           32.922   \n",
       "2  Alabama  Baldwin  2016       120.0        2008.358           34.058   \n",
       "\n",
       "   births_all  avg_weight_all  avg_ges_age_all  pct_low  high_rate  \\\n",
       "0      1724.0        3296.472           38.489    0.079          0   \n",
       "1      1857.0        3290.811           38.347    0.076          0   \n",
       "2      1722.0        3315.387           38.497    0.070          0   \n",
       "\n",
       "   year_for_merge  \n",
       "0            2013  \n",
       "1            2014  \n",
       "2            2015  "
      ]
     },
     "execution_count": 531,
     "metadata": {},
     "output_type": "execute_result"
    }
   ],
   "source": [
    "cdc.head(3)"
   ]
  },
  {
   "cell_type": "code",
   "execution_count": 532,
   "id": "33ae3999-85ad-411d-8cde-23b8799b00e5",
   "metadata": {
    "execution": {
     "iopub.execute_input": "2023-01-18T08:08:16.999984Z",
     "iopub.status.busy": "2023-01-18T08:08:16.999460Z",
     "iopub.status.idle": "2023-01-18T08:08:17.017545Z",
     "shell.execute_reply": "2023-01-18T08:08:17.016730Z",
     "shell.execute_reply.started": "2023-01-18T08:08:16.999951Z"
    },
    "tags": []
   },
   "outputs": [],
   "source": [
    "merged = pd.merge(county_aqs, cdc, how='inner', \n",
    "                  left_on=['state', 'county', 'year'],\n",
    "                  right_on=['state', 'county', 'year_for_merge'])"
   ]
  },
  {
   "cell_type": "code",
   "execution_count": 533,
   "id": "52f6d2d6-9473-4ae2-9b1b-bcdb80a06adc",
   "metadata": {
    "execution": {
     "iopub.execute_input": "2023-01-18T08:08:18.406783Z",
     "iopub.status.busy": "2023-01-18T08:08:18.406187Z",
     "iopub.status.idle": "2023-01-18T08:08:18.428117Z",
     "shell.execute_reply": "2023-01-18T08:08:18.427622Z",
     "shell.execute_reply.started": "2023-01-18T08:08:18.406752Z"
    },
    "tags": []
   },
   "outputs": [
    {
     "data": {
      "text/html": [
       "<div>\n",
       "<style scoped>\n",
       "    .dataframe tbody tr th:only-of-type {\n",
       "        vertical-align: middle;\n",
       "    }\n",
       "\n",
       "    .dataframe tbody tr th {\n",
       "        vertical-align: top;\n",
       "    }\n",
       "\n",
       "    .dataframe thead th {\n",
       "        text-align: right;\n",
       "    }\n",
       "</style>\n",
       "<table border=\"1\" class=\"dataframe\">\n",
       "  <thead>\n",
       "    <tr style=\"text-align: right;\">\n",
       "      <th></th>\n",
       "      <th>state</th>\n",
       "      <th>county</th>\n",
       "      <th>year_x</th>\n",
       "      <th>Carbon monoxide</th>\n",
       "      <th>Lead (TSP) LC</th>\n",
       "      <th>Nitrogen dioxide (NO2)</th>\n",
       "      <th>Ozone</th>\n",
       "      <th>PM10 Total 0-10um STP</th>\n",
       "      <th>PM2.5 - Local Conditions</th>\n",
       "      <th>Sulfur dioxide</th>\n",
       "      <th>year_y</th>\n",
       "      <th>births_low</th>\n",
       "      <th>avg_weight_low</th>\n",
       "      <th>avg_ges_age_low</th>\n",
       "      <th>births_all</th>\n",
       "      <th>avg_weight_all</th>\n",
       "      <th>avg_ges_age_all</th>\n",
       "      <th>pct_low</th>\n",
       "      <th>high_rate</th>\n",
       "      <th>year_for_merge</th>\n",
       "    </tr>\n",
       "  </thead>\n",
       "  <tbody>\n",
       "    <tr>\n",
       "      <th>0</th>\n",
       "      <td>Alabama</td>\n",
       "      <td>Jefferson</td>\n",
       "      <td>2013</td>\n",
       "      <td>0.273550</td>\n",
       "      <td>NaN</td>\n",
       "      <td>NaN</td>\n",
       "      <td>NaN</td>\n",
       "      <td>18.009145</td>\n",
       "      <td>NaN</td>\n",
       "      <td>2.041100</td>\n",
       "      <td>2014</td>\n",
       "      <td>679.0</td>\n",
       "      <td>1949.872</td>\n",
       "      <td>34.156</td>\n",
       "      <td>7349.0</td>\n",
       "      <td>3219.178</td>\n",
       "      <td>38.505</td>\n",
       "      <td>0.092</td>\n",
       "      <td>1</td>\n",
       "      <td>2013</td>\n",
       "    </tr>\n",
       "    <tr>\n",
       "      <th>1</th>\n",
       "      <td>Alabama</td>\n",
       "      <td>Jefferson</td>\n",
       "      <td>2014</td>\n",
       "      <td>0.364551</td>\n",
       "      <td>NaN</td>\n",
       "      <td>17.283023</td>\n",
       "      <td>NaN</td>\n",
       "      <td>20.324802</td>\n",
       "      <td>11.659570</td>\n",
       "      <td>2.113725</td>\n",
       "      <td>2015</td>\n",
       "      <td>687.0</td>\n",
       "      <td>1940.866</td>\n",
       "      <td>34.068</td>\n",
       "      <td>7376.0</td>\n",
       "      <td>3216.859</td>\n",
       "      <td>38.508</td>\n",
       "      <td>0.093</td>\n",
       "      <td>1</td>\n",
       "      <td>2014</td>\n",
       "    </tr>\n",
       "    <tr>\n",
       "      <th>2</th>\n",
       "      <td>Alabama</td>\n",
       "      <td>Jefferson</td>\n",
       "      <td>2015</td>\n",
       "      <td>0.382271</td>\n",
       "      <td>NaN</td>\n",
       "      <td>14.852636</td>\n",
       "      <td>NaN</td>\n",
       "      <td>19.045818</td>\n",
       "      <td>11.623259</td>\n",
       "      <td>1.443488</td>\n",
       "      <td>2016</td>\n",
       "      <td>681.0</td>\n",
       "      <td>1903.761</td>\n",
       "      <td>33.633</td>\n",
       "      <td>7032.0</td>\n",
       "      <td>3210.182</td>\n",
       "      <td>38.434</td>\n",
       "      <td>0.097</td>\n",
       "      <td>1</td>\n",
       "      <td>2015</td>\n",
       "    </tr>\n",
       "    <tr>\n",
       "      <th>3</th>\n",
       "      <td>Alabama</td>\n",
       "      <td>Jefferson</td>\n",
       "      <td>2016</td>\n",
       "      <td>0.333729</td>\n",
       "      <td>NaN</td>\n",
       "      <td>17.242060</td>\n",
       "      <td>NaN</td>\n",
       "      <td>19.540222</td>\n",
       "      <td>10.488658</td>\n",
       "      <td>1.936249</td>\n",
       "      <td>2017</td>\n",
       "      <td>709.0</td>\n",
       "      <td>1947.176</td>\n",
       "      <td>34.059</td>\n",
       "      <td>7061.0</td>\n",
       "      <td>3188.066</td>\n",
       "      <td>38.456</td>\n",
       "      <td>0.100</td>\n",
       "      <td>1</td>\n",
       "      <td>2016</td>\n",
       "    </tr>\n",
       "    <tr>\n",
       "      <th>4</th>\n",
       "      <td>Alabama</td>\n",
       "      <td>Mobile</td>\n",
       "      <td>2016</td>\n",
       "      <td>NaN</td>\n",
       "      <td>NaN</td>\n",
       "      <td>NaN</td>\n",
       "      <td>NaN</td>\n",
       "      <td>NaN</td>\n",
       "      <td>NaN</td>\n",
       "      <td>1.082937</td>\n",
       "      <td>2017</td>\n",
       "      <td>394.0</td>\n",
       "      <td>1987.409</td>\n",
       "      <td>34.162</td>\n",
       "      <td>4445.0</td>\n",
       "      <td>3198.137</td>\n",
       "      <td>38.310</td>\n",
       "      <td>0.089</td>\n",
       "      <td>1</td>\n",
       "      <td>2016</td>\n",
       "    </tr>\n",
       "  </tbody>\n",
       "</table>\n",
       "</div>"
      ],
      "text/plain": [
       "     state     county  year_x  Carbon monoxide  Lead (TSP) LC  \\\n",
       "0  Alabama  Jefferson    2013         0.273550            NaN   \n",
       "1  Alabama  Jefferson    2014         0.364551            NaN   \n",
       "2  Alabama  Jefferson    2015         0.382271            NaN   \n",
       "3  Alabama  Jefferson    2016         0.333729            NaN   \n",
       "4  Alabama     Mobile    2016              NaN            NaN   \n",
       "\n",
       "   Nitrogen dioxide (NO2)  Ozone  PM10 Total 0-10um STP  \\\n",
       "0                     NaN    NaN              18.009145   \n",
       "1               17.283023    NaN              20.324802   \n",
       "2               14.852636    NaN              19.045818   \n",
       "3               17.242060    NaN              19.540222   \n",
       "4                     NaN    NaN                    NaN   \n",
       "\n",
       "   PM2.5 - Local Conditions  Sulfur dioxide  year_y  births_low  \\\n",
       "0                       NaN        2.041100    2014       679.0   \n",
       "1                 11.659570        2.113725    2015       687.0   \n",
       "2                 11.623259        1.443488    2016       681.0   \n",
       "3                 10.488658        1.936249    2017       709.0   \n",
       "4                       NaN        1.082937    2017       394.0   \n",
       "\n",
       "   avg_weight_low  avg_ges_age_low  births_all  avg_weight_all  \\\n",
       "0        1949.872           34.156      7349.0        3219.178   \n",
       "1        1940.866           34.068      7376.0        3216.859   \n",
       "2        1903.761           33.633      7032.0        3210.182   \n",
       "3        1947.176           34.059      7061.0        3188.066   \n",
       "4        1987.409           34.162      4445.0        3198.137   \n",
       "\n",
       "   avg_ges_age_all  pct_low  high_rate  year_for_merge  \n",
       "0           38.505    0.092          1            2013  \n",
       "1           38.508    0.093          1            2014  \n",
       "2           38.434    0.097          1            2015  \n",
       "3           38.456    0.100          1            2016  \n",
       "4           38.310    0.089          1            2016  "
      ]
     },
     "execution_count": 533,
     "metadata": {},
     "output_type": "execute_result"
    }
   ],
   "source": [
    "merged.head()"
   ]
  },
  {
   "cell_type": "code",
   "execution_count": 534,
   "id": "c16e551d-2716-421b-955b-fe0e38fe5aa5",
   "metadata": {
    "execution": {
     "iopub.execute_input": "2023-01-18T08:08:32.774980Z",
     "iopub.status.busy": "2023-01-18T08:08:32.773410Z",
     "iopub.status.idle": "2023-01-18T08:08:32.787926Z",
     "shell.execute_reply": "2023-01-18T08:08:32.786722Z",
     "shell.execute_reply.started": "2023-01-18T08:08:32.774927Z"
    },
    "tags": []
   },
   "outputs": [
    {
     "data": {
      "text/plain": [
       "(988, 20)"
      ]
     },
     "execution_count": 534,
     "metadata": {},
     "output_type": "execute_result"
    }
   ],
   "source": [
    "merged.shape"
   ]
  },
  {
   "cell_type": "code",
   "execution_count": 535,
   "id": "f3a1fde4-9069-4b41-88fa-4e5f7f54592a",
   "metadata": {
    "execution": {
     "iopub.execute_input": "2023-01-18T08:08:54.019454Z",
     "iopub.status.busy": "2023-01-18T08:08:54.018813Z",
     "iopub.status.idle": "2023-01-18T08:08:54.032794Z",
     "shell.execute_reply": "2023-01-18T08:08:54.031039Z",
     "shell.execute_reply.started": "2023-01-18T08:08:54.019405Z"
    },
    "tags": []
   },
   "outputs": [
    {
     "data": {
      "text/plain": [
       "Index(['state', 'county', 'year_x', 'Carbon monoxide', 'Lead (TSP) LC',\n",
       "       'Nitrogen dioxide (NO2)', 'Ozone', 'PM10 Total 0-10um STP',\n",
       "       'PM2.5 - Local Conditions', 'Sulfur dioxide', 'year_y', 'births_low',\n",
       "       'avg_weight_low', 'avg_ges_age_low', 'births_all', 'avg_weight_all',\n",
       "       'avg_ges_age_all', 'pct_low', 'high_rate', 'year_for_merge'],\n",
       "      dtype='object')"
      ]
     },
     "execution_count": 535,
     "metadata": {},
     "output_type": "execute_result"
    }
   ],
   "source": [
    "merged.columns"
   ]
  },
  {
   "cell_type": "code",
   "execution_count": 536,
   "id": "beaf4aef-84b9-46f2-ac99-4d1f22c01fe3",
   "metadata": {
    "execution": {
     "iopub.execute_input": "2023-01-18T08:09:07.709069Z",
     "iopub.status.busy": "2023-01-18T08:09:07.708119Z",
     "iopub.status.idle": "2023-01-18T08:09:07.723626Z",
     "shell.execute_reply": "2023-01-18T08:09:07.722690Z",
     "shell.execute_reply.started": "2023-01-18T08:09:07.708990Z"
    },
    "tags": []
   },
   "outputs": [],
   "source": [
    "merged.drop(['year_y', 'year_for_merge'],\n",
    "            axis=1, \n",
    "            inplace=True)\n",
    "\n",
    "merged.rename(columns={'year_x': 'year'}, inplace=True)"
   ]
  },
  {
   "cell_type": "code",
   "execution_count": 537,
   "id": "4e0f146b-88e8-41bb-a9af-fcb8d7702cf8",
   "metadata": {
    "execution": {
     "iopub.execute_input": "2023-01-18T08:09:17.541536Z",
     "iopub.status.busy": "2023-01-18T08:09:17.540865Z",
     "iopub.status.idle": "2023-01-18T08:09:17.565533Z",
     "shell.execute_reply": "2023-01-18T08:09:17.565085Z",
     "shell.execute_reply.started": "2023-01-18T08:09:17.541486Z"
    },
    "tags": []
   },
   "outputs": [
    {
     "data": {
      "text/html": [
       "<div>\n",
       "<style scoped>\n",
       "    .dataframe tbody tr th:only-of-type {\n",
       "        vertical-align: middle;\n",
       "    }\n",
       "\n",
       "    .dataframe tbody tr th {\n",
       "        vertical-align: top;\n",
       "    }\n",
       "\n",
       "    .dataframe thead th {\n",
       "        text-align: right;\n",
       "    }\n",
       "</style>\n",
       "<table border=\"1\" class=\"dataframe\">\n",
       "  <thead>\n",
       "    <tr style=\"text-align: right;\">\n",
       "      <th></th>\n",
       "      <th>state</th>\n",
       "      <th>county</th>\n",
       "      <th>year</th>\n",
       "      <th>Carbon monoxide</th>\n",
       "      <th>Lead (TSP) LC</th>\n",
       "      <th>Nitrogen dioxide (NO2)</th>\n",
       "      <th>Ozone</th>\n",
       "      <th>PM10 Total 0-10um STP</th>\n",
       "      <th>PM2.5 - Local Conditions</th>\n",
       "      <th>Sulfur dioxide</th>\n",
       "      <th>births_low</th>\n",
       "      <th>avg_weight_low</th>\n",
       "      <th>avg_ges_age_low</th>\n",
       "      <th>births_all</th>\n",
       "      <th>avg_weight_all</th>\n",
       "      <th>avg_ges_age_all</th>\n",
       "      <th>pct_low</th>\n",
       "      <th>high_rate</th>\n",
       "    </tr>\n",
       "  </thead>\n",
       "  <tbody>\n",
       "    <tr>\n",
       "      <th>0</th>\n",
       "      <td>Alabama</td>\n",
       "      <td>Jefferson</td>\n",
       "      <td>2013</td>\n",
       "      <td>0.273550</td>\n",
       "      <td>NaN</td>\n",
       "      <td>NaN</td>\n",
       "      <td>NaN</td>\n",
       "      <td>18.009145</td>\n",
       "      <td>NaN</td>\n",
       "      <td>2.041100</td>\n",
       "      <td>679.0</td>\n",
       "      <td>1949.872</td>\n",
       "      <td>34.156</td>\n",
       "      <td>7349.0</td>\n",
       "      <td>3219.178</td>\n",
       "      <td>38.505</td>\n",
       "      <td>0.092</td>\n",
       "      <td>1</td>\n",
       "    </tr>\n",
       "    <tr>\n",
       "      <th>1</th>\n",
       "      <td>Alabama</td>\n",
       "      <td>Jefferson</td>\n",
       "      <td>2014</td>\n",
       "      <td>0.364551</td>\n",
       "      <td>NaN</td>\n",
       "      <td>17.283023</td>\n",
       "      <td>NaN</td>\n",
       "      <td>20.324802</td>\n",
       "      <td>11.659570</td>\n",
       "      <td>2.113725</td>\n",
       "      <td>687.0</td>\n",
       "      <td>1940.866</td>\n",
       "      <td>34.068</td>\n",
       "      <td>7376.0</td>\n",
       "      <td>3216.859</td>\n",
       "      <td>38.508</td>\n",
       "      <td>0.093</td>\n",
       "      <td>1</td>\n",
       "    </tr>\n",
       "    <tr>\n",
       "      <th>2</th>\n",
       "      <td>Alabama</td>\n",
       "      <td>Jefferson</td>\n",
       "      <td>2015</td>\n",
       "      <td>0.382271</td>\n",
       "      <td>NaN</td>\n",
       "      <td>14.852636</td>\n",
       "      <td>NaN</td>\n",
       "      <td>19.045818</td>\n",
       "      <td>11.623259</td>\n",
       "      <td>1.443488</td>\n",
       "      <td>681.0</td>\n",
       "      <td>1903.761</td>\n",
       "      <td>33.633</td>\n",
       "      <td>7032.0</td>\n",
       "      <td>3210.182</td>\n",
       "      <td>38.434</td>\n",
       "      <td>0.097</td>\n",
       "      <td>1</td>\n",
       "    </tr>\n",
       "  </tbody>\n",
       "</table>\n",
       "</div>"
      ],
      "text/plain": [
       "     state     county  year  Carbon monoxide  Lead (TSP) LC  \\\n",
       "0  Alabama  Jefferson  2013         0.273550            NaN   \n",
       "1  Alabama  Jefferson  2014         0.364551            NaN   \n",
       "2  Alabama  Jefferson  2015         0.382271            NaN   \n",
       "\n",
       "   Nitrogen dioxide (NO2)  Ozone  PM10 Total 0-10um STP  \\\n",
       "0                     NaN    NaN              18.009145   \n",
       "1               17.283023    NaN              20.324802   \n",
       "2               14.852636    NaN              19.045818   \n",
       "\n",
       "   PM2.5 - Local Conditions  Sulfur dioxide  births_low  avg_weight_low  \\\n",
       "0                       NaN        2.041100       679.0        1949.872   \n",
       "1                 11.659570        2.113725       687.0        1940.866   \n",
       "2                 11.623259        1.443488       681.0        1903.761   \n",
       "\n",
       "   avg_ges_age_low  births_all  avg_weight_all  avg_ges_age_all  pct_low  \\\n",
       "0           34.156      7349.0        3219.178           38.505    0.092   \n",
       "1           34.068      7376.0        3216.859           38.508    0.093   \n",
       "2           33.633      7032.0        3210.182           38.434    0.097   \n",
       "\n",
       "   high_rate  \n",
       "0          1  \n",
       "1          1  \n",
       "2          1  "
      ]
     },
     "execution_count": 537,
     "metadata": {},
     "output_type": "execute_result"
    }
   ],
   "source": [
    "merged.head(3)"
   ]
  },
  {
   "cell_type": "code",
   "execution_count": 538,
   "id": "5c8e12c2-a9f4-4f5d-b4c2-acd7c57a64a5",
   "metadata": {
    "execution": {
     "iopub.execute_input": "2023-01-18T08:09:27.316618Z",
     "iopub.status.busy": "2023-01-18T08:09:27.316017Z",
     "iopub.status.idle": "2023-01-18T08:09:27.335720Z",
     "shell.execute_reply": "2023-01-18T08:09:27.334593Z",
     "shell.execute_reply.started": "2023-01-18T08:09:27.316586Z"
    },
    "tags": []
   },
   "outputs": [
    {
     "data": {
      "text/plain": [
       "state      46\n",
       "county    285\n",
       "dtype: int64"
      ]
     },
     "execution_count": 538,
     "metadata": {},
     "output_type": "execute_result"
    }
   ],
   "source": [
    "merged[['state', 'county']].nunique()"
   ]
  },
  {
   "cell_type": "code",
   "execution_count": 187,
   "id": "39c57c00-3441-4d65-9932-83fcf65ad2d4",
   "metadata": {
    "execution": {
     "iopub.execute_input": "2023-01-17T06:24:57.474177Z",
     "iopub.status.busy": "2023-01-17T06:24:57.473460Z",
     "iopub.status.idle": "2023-01-17T06:24:57.488702Z",
     "shell.execute_reply": "2023-01-17T06:24:57.485392Z",
     "shell.execute_reply.started": "2023-01-17T06:24:57.474126Z"
    },
    "tags": []
   },
   "outputs": [],
   "source": [
    "# merged['state'].value_counts()"
   ]
  },
  {
   "cell_type": "markdown",
   "id": "9bbe1aa3-47f7-452b-b979-440c60aac82a",
   "metadata": {},
   "source": [
    "### Export Data"
   ]
  },
  {
   "cell_type": "code",
   "execution_count": 188,
   "id": "18cd569f-e8fe-4a98-bae8-cfb15da8613c",
   "metadata": {
    "execution": {
     "iopub.execute_input": "2023-01-17T06:25:00.362229Z",
     "iopub.status.busy": "2023-01-17T06:25:00.361386Z",
     "iopub.status.idle": "2023-01-17T06:25:00.395682Z",
     "shell.execute_reply": "2023-01-17T06:25:00.395342Z",
     "shell.execute_reply.started": "2023-01-17T06:25:00.362177Z"
    },
    "tags": []
   },
   "outputs": [],
   "source": [
    "# cdc.to_csv('data/cdc_cleaned.csv', index=False)\n",
    "merged.to_csv('data/combined_clean.csv', index=False)"
   ]
  },
  {
   "cell_type": "markdown",
   "id": "db1510e5-1a90-4a90-a8fd-624acc1f21b5",
   "metadata": {},
   "source": [
    "# EDA"
   ]
  },
  {
   "cell_type": "markdown",
   "id": "72982d77-b1c3-4e33-867d-82f759b3a483",
   "metadata": {
    "tags": []
   },
   "source": [
    "## Read Cleaned Data"
   ]
  },
  {
   "cell_type": "code",
   "execution_count": 189,
   "id": "6b3d1864-1e5a-4572-b75f-8110b7121157",
   "metadata": {
    "execution": {
     "iopub.execute_input": "2023-01-17T06:25:02.234570Z",
     "iopub.status.busy": "2023-01-17T06:25:02.234395Z",
     "iopub.status.idle": "2023-01-17T06:25:02.244509Z",
     "shell.execute_reply": "2023-01-17T06:25:02.244190Z",
     "shell.execute_reply.started": "2023-01-17T06:25:02.234557Z"
    },
    "tags": []
   },
   "outputs": [],
   "source": [
    "df = pd.read_csv('data/combined_clean.csv')"
   ]
  },
  {
   "cell_type": "code",
   "execution_count": 190,
   "id": "efcc8c95-356a-4faa-af2d-84191de5c782",
   "metadata": {
    "execution": {
     "iopub.execute_input": "2023-01-17T06:25:02.850440Z",
     "iopub.status.busy": "2023-01-17T06:25:02.849909Z",
     "iopub.status.idle": "2023-01-17T06:25:02.878377Z",
     "shell.execute_reply": "2023-01-17T06:25:02.877958Z",
     "shell.execute_reply.started": "2023-01-17T06:25:02.850412Z"
    },
    "tags": []
   },
   "outputs": [
    {
     "data": {
      "text/html": [
       "<div>\n",
       "<style scoped>\n",
       "    .dataframe tbody tr th:only-of-type {\n",
       "        vertical-align: middle;\n",
       "    }\n",
       "\n",
       "    .dataframe tbody tr th {\n",
       "        vertical-align: top;\n",
       "    }\n",
       "\n",
       "    .dataframe thead th {\n",
       "        text-align: right;\n",
       "    }\n",
       "</style>\n",
       "<table border=\"1\" class=\"dataframe\">\n",
       "  <thead>\n",
       "    <tr style=\"text-align: right;\">\n",
       "      <th></th>\n",
       "      <th>state</th>\n",
       "      <th>county</th>\n",
       "      <th>year</th>\n",
       "      <th>days_with_aqi</th>\n",
       "      <th>good_days</th>\n",
       "      <th>mod_days</th>\n",
       "      <th>uh_sens_days</th>\n",
       "      <th>uh_days</th>\n",
       "      <th>v_uh_days</th>\n",
       "      <th>haz_days</th>\n",
       "      <th>...</th>\n",
       "      <th>days_ozone</th>\n",
       "      <th>days_pm2.5</th>\n",
       "      <th>days_pm10</th>\n",
       "      <th>births_low</th>\n",
       "      <th>avg_weight_low</th>\n",
       "      <th>avg_ges_age_low</th>\n",
       "      <th>births_all</th>\n",
       "      <th>avg_weight_all</th>\n",
       "      <th>avg_ges_age_all</th>\n",
       "      <th>pct_low</th>\n",
       "    </tr>\n",
       "  </thead>\n",
       "  <tbody>\n",
       "    <tr>\n",
       "      <th>0</th>\n",
       "      <td>California</td>\n",
       "      <td>Alameda</td>\n",
       "      <td>2009</td>\n",
       "      <td>365</td>\n",
       "      <td>190</td>\n",
       "      <td>162</td>\n",
       "      <td>12</td>\n",
       "      <td>1</td>\n",
       "      <td>0</td>\n",
       "      <td>0</td>\n",
       "      <td>...</td>\n",
       "      <td>110</td>\n",
       "      <td>234</td>\n",
       "      <td>0</td>\n",
       "      <td>1136.0</td>\n",
       "      <td>1980.992</td>\n",
       "      <td>34.260</td>\n",
       "      <td>17700.0</td>\n",
       "      <td>3314.900</td>\n",
       "      <td>38.817</td>\n",
       "      <td>0.064</td>\n",
       "    </tr>\n",
       "    <tr>\n",
       "      <th>1</th>\n",
       "      <td>California</td>\n",
       "      <td>Butte</td>\n",
       "      <td>2009</td>\n",
       "      <td>365</td>\n",
       "      <td>185</td>\n",
       "      <td>148</td>\n",
       "      <td>31</td>\n",
       "      <td>1</td>\n",
       "      <td>0</td>\n",
       "      <td>0</td>\n",
       "      <td>...</td>\n",
       "      <td>263</td>\n",
       "      <td>101</td>\n",
       "      <td>0</td>\n",
       "      <td>90.0</td>\n",
       "      <td>1963.467</td>\n",
       "      <td>33.809</td>\n",
       "      <td>1907.0</td>\n",
       "      <td>3390.433</td>\n",
       "      <td>38.850</td>\n",
       "      <td>0.047</td>\n",
       "    </tr>\n",
       "    <tr>\n",
       "      <th>2</th>\n",
       "      <td>California</td>\n",
       "      <td>Contra Costa</td>\n",
       "      <td>2009</td>\n",
       "      <td>365</td>\n",
       "      <td>274</td>\n",
       "      <td>84</td>\n",
       "      <td>6</td>\n",
       "      <td>1</td>\n",
       "      <td>0</td>\n",
       "      <td>0</td>\n",
       "      <td>...</td>\n",
       "      <td>276</td>\n",
       "      <td>78</td>\n",
       "      <td>0</td>\n",
       "      <td>669.0</td>\n",
       "      <td>2002.323</td>\n",
       "      <td>34.283</td>\n",
       "      <td>10976.0</td>\n",
       "      <td>3330.618</td>\n",
       "      <td>38.823</td>\n",
       "      <td>0.061</td>\n",
       "    </tr>\n",
       "    <tr>\n",
       "      <th>3</th>\n",
       "      <td>California</td>\n",
       "      <td>El Dorado</td>\n",
       "      <td>2009</td>\n",
       "      <td>362</td>\n",
       "      <td>240</td>\n",
       "      <td>82</td>\n",
       "      <td>33</td>\n",
       "      <td>7</td>\n",
       "      <td>0</td>\n",
       "      <td>0</td>\n",
       "      <td>...</td>\n",
       "      <td>359</td>\n",
       "      <td>2</td>\n",
       "      <td>1</td>\n",
       "      <td>88.0</td>\n",
       "      <td>1981.477</td>\n",
       "      <td>34.511</td>\n",
       "      <td>1410.0</td>\n",
       "      <td>3330.952</td>\n",
       "      <td>38.821</td>\n",
       "      <td>0.062</td>\n",
       "    </tr>\n",
       "    <tr>\n",
       "      <th>4</th>\n",
       "      <td>California</td>\n",
       "      <td>Fresno</td>\n",
       "      <td>2009</td>\n",
       "      <td>365</td>\n",
       "      <td>109</td>\n",
       "      <td>140</td>\n",
       "      <td>80</td>\n",
       "      <td>36</td>\n",
       "      <td>0</td>\n",
       "      <td>0</td>\n",
       "      <td>...</td>\n",
       "      <td>228</td>\n",
       "      <td>129</td>\n",
       "      <td>0</td>\n",
       "      <td>1068.0</td>\n",
       "      <td>1959.166</td>\n",
       "      <td>33.788</td>\n",
       "      <td>14117.0</td>\n",
       "      <td>3271.289</td>\n",
       "      <td>38.489</td>\n",
       "      <td>0.076</td>\n",
       "    </tr>\n",
       "  </tbody>\n",
       "</table>\n",
       "<p>5 rows × 25 columns</p>\n",
       "</div>"
      ],
      "text/plain": [
       "        state        county  year  days_with_aqi  good_days  mod_days  \\\n",
       "0  California       Alameda  2009            365        190       162   \n",
       "1  California         Butte  2009            365        185       148   \n",
       "2  California  Contra Costa  2009            365        274        84   \n",
       "3  California     El Dorado  2009            362        240        82   \n",
       "4  California        Fresno  2009            365        109       140   \n",
       "\n",
       "   uh_sens_days  uh_days  v_uh_days  haz_days  ...  days_ozone  days_pm2.5  \\\n",
       "0            12        1          0         0  ...         110         234   \n",
       "1            31        1          0         0  ...         263         101   \n",
       "2             6        1          0         0  ...         276          78   \n",
       "3            33        7          0         0  ...         359           2   \n",
       "4            80       36          0         0  ...         228         129   \n",
       "\n",
       "   days_pm10  births_low  avg_weight_low  avg_ges_age_low  births_all  \\\n",
       "0          0      1136.0        1980.992           34.260     17700.0   \n",
       "1          0        90.0        1963.467           33.809      1907.0   \n",
       "2          0       669.0        2002.323           34.283     10976.0   \n",
       "3          1        88.0        1981.477           34.511      1410.0   \n",
       "4          0      1068.0        1959.166           33.788     14117.0   \n",
       "\n",
       "   avg_weight_all  avg_ges_age_all  pct_low  \n",
       "0        3314.900           38.817    0.064  \n",
       "1        3390.433           38.850    0.047  \n",
       "2        3330.618           38.823    0.061  \n",
       "3        3330.952           38.821    0.062  \n",
       "4        3271.289           38.489    0.076  \n",
       "\n",
       "[5 rows x 25 columns]"
      ]
     },
     "execution_count": 190,
     "metadata": {},
     "output_type": "execute_result"
    }
   ],
   "source": [
    "df.head()"
   ]
  },
  {
   "cell_type": "code",
   "execution_count": 199,
   "id": "ff2107d5-775e-4ab3-8c93-864b3edf9c03",
   "metadata": {
    "execution": {
     "iopub.execute_input": "2023-01-17T07:18:39.357742Z",
     "iopub.status.busy": "2023-01-17T07:18:39.356420Z",
     "iopub.status.idle": "2023-01-17T07:18:39.403649Z",
     "shell.execute_reply": "2023-01-17T07:18:39.403326Z",
     "shell.execute_reply.started": "2023-01-17T07:18:39.357679Z"
    }
   },
   "outputs": [
    {
     "data": {
      "text/html": [
       "<div>\n",
       "<style scoped>\n",
       "    .dataframe tbody tr th:only-of-type {\n",
       "        vertical-align: middle;\n",
       "    }\n",
       "\n",
       "    .dataframe tbody tr th {\n",
       "        vertical-align: top;\n",
       "    }\n",
       "\n",
       "    .dataframe thead th {\n",
       "        text-align: right;\n",
       "    }\n",
       "</style>\n",
       "<table border=\"1\" class=\"dataframe\">\n",
       "  <thead>\n",
       "    <tr style=\"text-align: right;\">\n",
       "      <th></th>\n",
       "      <th>year</th>\n",
       "      <th>days_with_aqi</th>\n",
       "      <th>good_days</th>\n",
       "      <th>mod_days</th>\n",
       "      <th>uh_sens_days</th>\n",
       "      <th>uh_days</th>\n",
       "      <th>v_uh_days</th>\n",
       "      <th>haz_days</th>\n",
       "      <th>max_aqi</th>\n",
       "      <th>90_per_aqi</th>\n",
       "      <th>...</th>\n",
       "      <th>days_ozone</th>\n",
       "      <th>days_pm2.5</th>\n",
       "      <th>days_pm10</th>\n",
       "      <th>births_low</th>\n",
       "      <th>avg_weight_low</th>\n",
       "      <th>avg_ges_age_low</th>\n",
       "      <th>births_all</th>\n",
       "      <th>avg_weight_all</th>\n",
       "      <th>avg_ges_age_all</th>\n",
       "      <th>pct_low</th>\n",
       "    </tr>\n",
       "  </thead>\n",
       "  <tbody>\n",
       "    <tr>\n",
       "      <th>count</th>\n",
       "      <td>5147.000000</td>\n",
       "      <td>5147.000000</td>\n",
       "      <td>5147.000000</td>\n",
       "      <td>5147.000000</td>\n",
       "      <td>5147.000000</td>\n",
       "      <td>5147.000000</td>\n",
       "      <td>5147.000000</td>\n",
       "      <td>5147.000000</td>\n",
       "      <td>5147.000000</td>\n",
       "      <td>5147.000000</td>\n",
       "      <td>...</td>\n",
       "      <td>5147.000000</td>\n",
       "      <td>5147.000000</td>\n",
       "      <td>5147.00000</td>\n",
       "      <td>5147.000000</td>\n",
       "      <td>5147.000000</td>\n",
       "      <td>5147.000000</td>\n",
       "      <td>5147.000000</td>\n",
       "      <td>5147.000000</td>\n",
       "      <td>5147.000000</td>\n",
       "      <td>5147.000000</td>\n",
       "    </tr>\n",
       "    <tr>\n",
       "      <th>mean</th>\n",
       "      <td>2014.470177</td>\n",
       "      <td>340.891004</td>\n",
       "      <td>248.301146</td>\n",
       "      <td>83.564018</td>\n",
       "      <td>7.328735</td>\n",
       "      <td>1.494657</td>\n",
       "      <td>0.153487</td>\n",
       "      <td>0.048961</td>\n",
       "      <td>131.265786</td>\n",
       "      <td>66.121624</td>\n",
       "      <td>...</td>\n",
       "      <td>190.493880</td>\n",
       "      <td>133.965611</td>\n",
       "      <td>6.59083</td>\n",
       "      <td>345.185739</td>\n",
       "      <td>1990.440703</td>\n",
       "      <td>34.129472</td>\n",
       "      <td>5186.831164</td>\n",
       "      <td>3315.373519</td>\n",
       "      <td>38.653372</td>\n",
       "      <td>0.063958</td>\n",
       "    </tr>\n",
       "    <tr>\n",
       "      <th>std</th>\n",
       "      <td>3.889310</td>\n",
       "      <td>56.577985</td>\n",
       "      <td>70.318863</td>\n",
       "      <td>54.262113</td>\n",
       "      <td>14.682994</td>\n",
       "      <td>6.034146</td>\n",
       "      <td>1.455703</td>\n",
       "      <td>0.564472</td>\n",
       "      <td>70.865337</td>\n",
       "      <td>20.047097</td>\n",
       "      <td>...</td>\n",
       "      <td>98.023442</td>\n",
       "      <td>99.415526</td>\n",
       "      <td>25.30568</td>\n",
       "      <td>613.947676</td>\n",
       "      <td>61.421094</td>\n",
       "      <td>0.497869</td>\n",
       "      <td>9036.072200</td>\n",
       "      <td>65.871336</td>\n",
       "      <td>0.205730</td>\n",
       "      <td>0.013977</td>\n",
       "    </tr>\n",
       "    <tr>\n",
       "      <th>min</th>\n",
       "      <td>2006.000000</td>\n",
       "      <td>11.000000</td>\n",
       "      <td>10.000000</td>\n",
       "      <td>0.000000</td>\n",
       "      <td>0.000000</td>\n",
       "      <td>0.000000</td>\n",
       "      <td>0.000000</td>\n",
       "      <td>0.000000</td>\n",
       "      <td>11.000000</td>\n",
       "      <td>8.000000</td>\n",
       "      <td>...</td>\n",
       "      <td>0.000000</td>\n",
       "      <td>0.000000</td>\n",
       "      <td>0.00000</td>\n",
       "      <td>13.000000</td>\n",
       "      <td>1682.821000</td>\n",
       "      <td>31.750000</td>\n",
       "      <td>399.000000</td>\n",
       "      <td>3065.051000</td>\n",
       "      <td>37.726000</td>\n",
       "      <td>0.025000</td>\n",
       "    </tr>\n",
       "    <tr>\n",
       "      <th>25%</th>\n",
       "      <td>2012.000000</td>\n",
       "      <td>357.000000</td>\n",
       "      <td>206.000000</td>\n",
       "      <td>41.000000</td>\n",
       "      <td>0.000000</td>\n",
       "      <td>0.000000</td>\n",
       "      <td>0.000000</td>\n",
       "      <td>0.000000</td>\n",
       "      <td>97.000000</td>\n",
       "      <td>54.000000</td>\n",
       "      <td>...</td>\n",
       "      <td>140.000000</td>\n",
       "      <td>53.000000</td>\n",
       "      <td>0.00000</td>\n",
       "      <td>86.000000</td>\n",
       "      <td>1952.228500</td>\n",
       "      <td>33.835000</td>\n",
       "      <td>1412.000000</td>\n",
       "      <td>3272.535500</td>\n",
       "      <td>38.529000</td>\n",
       "      <td>0.054000</td>\n",
       "    </tr>\n",
       "    <tr>\n",
       "      <th>50%</th>\n",
       "      <td>2015.000000</td>\n",
       "      <td>365.000000</td>\n",
       "      <td>262.000000</td>\n",
       "      <td>73.000000</td>\n",
       "      <td>2.000000</td>\n",
       "      <td>0.000000</td>\n",
       "      <td>0.000000</td>\n",
       "      <td>0.000000</td>\n",
       "      <td>119.000000</td>\n",
       "      <td>61.000000</td>\n",
       "      <td>...</td>\n",
       "      <td>197.000000</td>\n",
       "      <td>131.000000</td>\n",
       "      <td>0.00000</td>\n",
       "      <td>156.000000</td>\n",
       "      <td>1989.858000</td>\n",
       "      <td>34.125000</td>\n",
       "      <td>2438.000000</td>\n",
       "      <td>3318.490000</td>\n",
       "      <td>38.654000</td>\n",
       "      <td>0.063000</td>\n",
       "    </tr>\n",
       "    <tr>\n",
       "      <th>75%</th>\n",
       "      <td>2018.000000</td>\n",
       "      <td>365.000000</td>\n",
       "      <td>304.000000</td>\n",
       "      <td>117.000000</td>\n",
       "      <td>7.000000</td>\n",
       "      <td>1.000000</td>\n",
       "      <td>0.000000</td>\n",
       "      <td>0.000000</td>\n",
       "      <td>151.000000</td>\n",
       "      <td>73.000000</td>\n",
       "      <td>...</td>\n",
       "      <td>245.000000</td>\n",
       "      <td>198.000000</td>\n",
       "      <td>1.00000</td>\n",
       "      <td>358.500000</td>\n",
       "      <td>2028.574500</td>\n",
       "      <td>34.427000</td>\n",
       "      <td>5392.000000</td>\n",
       "      <td>3362.502000</td>\n",
       "      <td>38.790000</td>\n",
       "      <td>0.072000</td>\n",
       "    </tr>\n",
       "    <tr>\n",
       "      <th>max</th>\n",
       "      <td>2020.000000</td>\n",
       "      <td>366.000000</td>\n",
       "      <td>365.000000</td>\n",
       "      <td>339.000000</td>\n",
       "      <td>122.000000</td>\n",
       "      <td>74.000000</td>\n",
       "      <td>74.000000</td>\n",
       "      <td>18.000000</td>\n",
       "      <td>1635.000000</td>\n",
       "      <td>215.000000</td>\n",
       "      <td>...</td>\n",
       "      <td>366.000000</td>\n",
       "      <td>366.000000</td>\n",
       "      <td>346.00000</td>\n",
       "      <td>9406.000000</td>\n",
       "      <td>2269.811000</td>\n",
       "      <td>36.378000</td>\n",
       "      <td>137740.000000</td>\n",
       "      <td>3498.659000</td>\n",
       "      <td>39.289000</td>\n",
       "      <td>0.138000</td>\n",
       "    </tr>\n",
       "  </tbody>\n",
       "</table>\n",
       "<p>8 rows × 23 columns</p>\n",
       "</div>"
      ],
      "text/plain": [
       "              year  days_with_aqi    good_days     mod_days  uh_sens_days  \\\n",
       "count  5147.000000    5147.000000  5147.000000  5147.000000   5147.000000   \n",
       "mean   2014.470177     340.891004   248.301146    83.564018      7.328735   \n",
       "std       3.889310      56.577985    70.318863    54.262113     14.682994   \n",
       "min    2006.000000      11.000000    10.000000     0.000000      0.000000   \n",
       "25%    2012.000000     357.000000   206.000000    41.000000      0.000000   \n",
       "50%    2015.000000     365.000000   262.000000    73.000000      2.000000   \n",
       "75%    2018.000000     365.000000   304.000000   117.000000      7.000000   \n",
       "max    2020.000000     366.000000   365.000000   339.000000    122.000000   \n",
       "\n",
       "           uh_days    v_uh_days     haz_days      max_aqi   90_per_aqi  ...  \\\n",
       "count  5147.000000  5147.000000  5147.000000  5147.000000  5147.000000  ...   \n",
       "mean      1.494657     0.153487     0.048961   131.265786    66.121624  ...   \n",
       "std       6.034146     1.455703     0.564472    70.865337    20.047097  ...   \n",
       "min       0.000000     0.000000     0.000000    11.000000     8.000000  ...   \n",
       "25%       0.000000     0.000000     0.000000    97.000000    54.000000  ...   \n",
       "50%       0.000000     0.000000     0.000000   119.000000    61.000000  ...   \n",
       "75%       1.000000     0.000000     0.000000   151.000000    73.000000  ...   \n",
       "max      74.000000    74.000000    18.000000  1635.000000   215.000000  ...   \n",
       "\n",
       "        days_ozone   days_pm2.5   days_pm10   births_low  avg_weight_low  \\\n",
       "count  5147.000000  5147.000000  5147.00000  5147.000000     5147.000000   \n",
       "mean    190.493880   133.965611     6.59083   345.185739     1990.440703   \n",
       "std      98.023442    99.415526    25.30568   613.947676       61.421094   \n",
       "min       0.000000     0.000000     0.00000    13.000000     1682.821000   \n",
       "25%     140.000000    53.000000     0.00000    86.000000     1952.228500   \n",
       "50%     197.000000   131.000000     0.00000   156.000000     1989.858000   \n",
       "75%     245.000000   198.000000     1.00000   358.500000     2028.574500   \n",
       "max     366.000000   366.000000   346.00000  9406.000000     2269.811000   \n",
       "\n",
       "       avg_ges_age_low     births_all  avg_weight_all  avg_ges_age_all  \\\n",
       "count      5147.000000    5147.000000     5147.000000      5147.000000   \n",
       "mean         34.129472    5186.831164     3315.373519        38.653372   \n",
       "std           0.497869    9036.072200       65.871336         0.205730   \n",
       "min          31.750000     399.000000     3065.051000        37.726000   \n",
       "25%          33.835000    1412.000000     3272.535500        38.529000   \n",
       "50%          34.125000    2438.000000     3318.490000        38.654000   \n",
       "75%          34.427000    5392.000000     3362.502000        38.790000   \n",
       "max          36.378000  137740.000000     3498.659000        39.289000   \n",
       "\n",
       "           pct_low  \n",
       "count  5147.000000  \n",
       "mean      0.063958  \n",
       "std       0.013977  \n",
       "min       0.025000  \n",
       "25%       0.054000  \n",
       "50%       0.063000  \n",
       "75%       0.072000  \n",
       "max       0.138000  \n",
       "\n",
       "[8 rows x 23 columns]"
      ]
     },
     "execution_count": 199,
     "metadata": {},
     "output_type": "execute_result"
    }
   ],
   "source": [
    "df.describe()"
   ]
  },
  {
   "cell_type": "code",
   "execution_count": 204,
   "id": "37f56e29-5e6f-4f29-b7e0-8c19be874968",
   "metadata": {
    "execution": {
     "iopub.execute_input": "2023-01-17T07:27:03.267502Z",
     "iopub.status.busy": "2023-01-17T07:27:03.266627Z",
     "iopub.status.idle": "2023-01-17T07:27:03.399879Z",
     "shell.execute_reply": "2023-01-17T07:27:03.399449Z",
     "shell.execute_reply.started": "2023-01-17T07:27:03.267465Z"
    },
    "tags": []
   },
   "outputs": [
    {
     "data": {
      "image/png": "[encoded data removed]",
      "text/plain": [
       "<Figure size 500x500 with 1 Axes>"
      ]
     },
     "metadata": {},
     "output_type": "display_data"
    }
   ],
   "source": [
    "sns.displot(df['pct_low']);"
   ]
  },
  {
   "cell_type": "code",
   "execution_count": 208,
   "id": "d527380a-9e87-4dd5-be4e-eacd33ad002f",
   "metadata": {
    "execution": {
     "iopub.execute_input": "2023-01-17T07:30:52.189792Z",
     "iopub.status.busy": "2023-01-17T07:30:52.188774Z",
     "iopub.status.idle": "2023-01-17T07:30:52.310556Z",
     "shell.execute_reply": "2023-01-17T07:30:52.310013Z",
     "shell.execute_reply.started": "2023-01-17T07:30:52.189736Z"
    },
    "tags": []
   },
   "outputs": [
    {
     "data": {
      "text/plain": [
       "<seaborn.axisgrid.FacetGrid at 0x17f88bc40>"
      ]
     },
     "execution_count": 208,
     "metadata": {},
     "output_type": "execute_result"
    },
    {
     "data": {
      "image/png": "[encoded data removed]",
      "text/plain": [
       "<Figure size 500x500 with 1 Axes>"
      ]
     },
     "metadata": {},
     "output_type": "display_data"
    }
   ],
   "source": [
    "sns.displot(df['90_per_aqi'],\n",
    "            bins=30)"
   ]
  },
  {
   "cell_type": "code",
   "execution_count": 210,
   "id": "b7591f78-0764-46d8-b275-1c00ab210558",
   "metadata": {
    "execution": {
     "iopub.execute_input": "2023-01-17T07:35:58.750383Z",
     "iopub.status.busy": "2023-01-17T07:35:58.749616Z",
     "iopub.status.idle": "2023-01-17T07:35:58.898166Z",
     "shell.execute_reply": "2023-01-17T07:35:58.897718Z",
     "shell.execute_reply.started": "2023-01-17T07:35:58.750339Z"
    },
    "tags": []
   },
   "outputs": [
    {
     "data": {
      "text/plain": [
       "<seaborn.axisgrid.FacetGrid at 0x17f2d9af0>"
      ]
     },
     "execution_count": 210,
     "metadata": {},
     "output_type": "execute_result"
    },
    {
     "data": {
      "image/png": "[encoded data removed]",
      "text/plain": [
       "<Figure size 500x500 with 1 Axes>"
      ]
     },
     "metadata": {},
     "output_type": "display_data"
    }
   ],
   "source": [
    "sns.displot(df['days_ozone'])"
   ]
  },
  {
   "cell_type": "code",
   "execution_count": 211,
   "id": "ce430502-401e-4d27-9dfd-931f9a3b5e0d",
   "metadata": {
    "execution": {
     "iopub.execute_input": "2023-01-17T07:36:36.720484Z",
     "iopub.status.busy": "2023-01-17T07:36:36.720026Z",
     "iopub.status.idle": "2023-01-17T07:36:36.843961Z",
     "shell.execute_reply": "2023-01-17T07:36:36.843628Z",
     "shell.execute_reply.started": "2023-01-17T07:36:36.720459Z"
    }
   },
   "outputs": [
    {
     "data": {
      "text/plain": [
       "<seaborn.axisgrid.FacetGrid at 0x17f9c61f0>"
      ]
     },
     "execution_count": 211,
     "metadata": {},
     "output_type": "execute_result"
    },
    {
     "data": {
      "image/png": "[encoded data removed]",
      "text/plain": [
       "<Figure size 500x500 with 1 Axes>"
      ]
     },
     "metadata": {},
     "output_type": "display_data"
    }
   ],
   "source": [
    "sns.displot(df['days_pm2.5'])"
   ]
  },
  {
   "cell_type": "code",
   "execution_count": 212,
   "id": "f52c388c-2944-43d5-a597-348f0c3c0388",
   "metadata": {
    "execution": {
     "iopub.execute_input": "2023-01-17T07:36:56.277921Z",
     "iopub.status.busy": "2023-01-17T07:36:56.276689Z",
     "iopub.status.idle": "2023-01-17T07:36:57.859617Z",
     "shell.execute_reply": "2023-01-17T07:36:57.859257Z",
     "shell.execute_reply.started": "2023-01-17T07:36:56.277863Z"
    }
   },
   "outputs": [
    {
     "data": {
      "text/plain": [
       "<seaborn.axisgrid.FacetGrid at 0x17f811ee0>"
      ]
     },
     "execution_count": 212,
     "metadata": {},
     "output_type": "execute_result"
    },
    {
     "data": {
      "image/png": "[encoded data removed]",
      "text/plain": [
       "<Figure size 500x500 with 1 Axes>"
      ]
     },
     "metadata": {},
     "output_type": "display_data"
    }
   ],
   "source": [
    "sns.displot(df['days_pm10'])"
   ]
  },
  {
   "cell_type": "code",
   "execution_count": 213,
   "id": "621571f2-1bbe-4226-8e35-ac64c0e427a8",
   "metadata": {
    "execution": {
     "iopub.execute_input": "2023-01-17T07:37:36.856292Z",
     "iopub.status.busy": "2023-01-17T07:37:36.855823Z",
     "iopub.status.idle": "2023-01-17T07:37:36.980299Z",
     "shell.execute_reply": "2023-01-17T07:37:36.979900Z",
     "shell.execute_reply.started": "2023-01-17T07:37:36.856271Z"
    }
   },
   "outputs": [
    {
     "data": {
      "text/plain": [
       "<seaborn.axisgrid.FacetGrid at 0x17fbb22e0>"
      ]
     },
     "execution_count": 213,
     "metadata": {},
     "output_type": "execute_result"
    },
    {
     "data": {
      "image/png": "[encoded data removed]",
      "text/plain": [
       "<Figure size 500x500 with 1 Axes>"
      ]
     },
     "metadata": {},
     "output_type": "display_data"
    }
   ],
   "source": [
    "sns.displot(df['good_days'])"
   ]
  },
  {
   "cell_type": "markdown",
   "id": "c53062d1-83df-4539-b01c-3659cebc9deb",
   "metadata": {},
   "source": [
    "What are the state/county combos with the highest percentage of low birthweight?"
   ]
  },
  {
   "cell_type": "code",
   "execution_count": 198,
   "id": "f4119b70-3595-489f-92f3-c7e355b11607",
   "metadata": {
    "execution": {
     "iopub.execute_input": "2023-01-17T07:18:31.183859Z",
     "iopub.status.busy": "2023-01-17T07:18:31.183408Z",
     "iopub.status.idle": "2023-01-17T07:18:31.222922Z",
     "shell.execute_reply": "2023-01-17T07:18:31.222286Z",
     "shell.execute_reply.started": "2023-01-17T07:18:31.183822Z"
    },
    "tags": []
   },
   "outputs": [
    {
     "data": {
      "text/html": [
       "<div>\n",
       "<style scoped>\n",
       "    .dataframe tbody tr th:only-of-type {\n",
       "        vertical-align: middle;\n",
       "    }\n",
       "\n",
       "    .dataframe tbody tr th {\n",
       "        vertical-align: top;\n",
       "    }\n",
       "\n",
       "    .dataframe thead th {\n",
       "        text-align: right;\n",
       "    }\n",
       "</style>\n",
       "<table border=\"1\" class=\"dataframe\">\n",
       "  <thead>\n",
       "    <tr style=\"text-align: right;\">\n",
       "      <th></th>\n",
       "      <th>state</th>\n",
       "      <th>county</th>\n",
       "      <th>year</th>\n",
       "      <th>days_with_aqi</th>\n",
       "      <th>good_days</th>\n",
       "      <th>mod_days</th>\n",
       "      <th>uh_sens_days</th>\n",
       "      <th>uh_days</th>\n",
       "      <th>v_uh_days</th>\n",
       "      <th>haz_days</th>\n",
       "      <th>...</th>\n",
       "      <th>days_ozone</th>\n",
       "      <th>days_pm2.5</th>\n",
       "      <th>days_pm10</th>\n",
       "      <th>births_low</th>\n",
       "      <th>avg_weight_low</th>\n",
       "      <th>avg_ges_age_low</th>\n",
       "      <th>births_all</th>\n",
       "      <th>avg_weight_all</th>\n",
       "      <th>avg_ges_age_all</th>\n",
       "      <th>pct_low</th>\n",
       "    </tr>\n",
       "  </thead>\n",
       "  <tbody>\n",
       "    <tr>\n",
       "      <th>309</th>\n",
       "      <td>Georgia</td>\n",
       "      <td>Clayton</td>\n",
       "      <td>2020</td>\n",
       "      <td>121</td>\n",
       "      <td>103</td>\n",
       "      <td>18</td>\n",
       "      <td>0</td>\n",
       "      <td>0</td>\n",
       "      <td>0</td>\n",
       "      <td>0</td>\n",
       "      <td>...</td>\n",
       "      <td>0</td>\n",
       "      <td>121</td>\n",
       "      <td>0</td>\n",
       "      <td>396.0</td>\n",
       "      <td>1977.646</td>\n",
       "      <td>35.005</td>\n",
       "      <td>2874.0</td>\n",
       "      <td>3078.496</td>\n",
       "      <td>38.191</td>\n",
       "      <td>0.138</td>\n",
       "    </tr>\n",
       "    <tr>\n",
       "      <th>4992</th>\n",
       "      <td>Louisiana</td>\n",
       "      <td>Caddo</td>\n",
       "      <td>2010</td>\n",
       "      <td>363</td>\n",
       "      <td>261</td>\n",
       "      <td>91</td>\n",
       "      <td>11</td>\n",
       "      <td>0</td>\n",
       "      <td>0</td>\n",
       "      <td>0</td>\n",
       "      <td>...</td>\n",
       "      <td>303</td>\n",
       "      <td>60</td>\n",
       "      <td>0</td>\n",
       "      <td>402.0</td>\n",
       "      <td>1977.264</td>\n",
       "      <td>33.945</td>\n",
       "      <td>2986.0</td>\n",
       "      <td>3088.602</td>\n",
       "      <td>37.874</td>\n",
       "      <td>0.135</td>\n",
       "    </tr>\n",
       "    <tr>\n",
       "      <th>1984</th>\n",
       "      <td>Mississippi</td>\n",
       "      <td>Hinds</td>\n",
       "      <td>2014</td>\n",
       "      <td>365</td>\n",
       "      <td>180</td>\n",
       "      <td>184</td>\n",
       "      <td>0</td>\n",
       "      <td>1</td>\n",
       "      <td>0</td>\n",
       "      <td>0</td>\n",
       "      <td>...</td>\n",
       "      <td>91</td>\n",
       "      <td>274</td>\n",
       "      <td>0</td>\n",
       "      <td>363.0</td>\n",
       "      <td>1931.003</td>\n",
       "      <td>33.959</td>\n",
       "      <td>2779.0</td>\n",
       "      <td>3065.051</td>\n",
       "      <td>37.917</td>\n",
       "      <td>0.131</td>\n",
       "    </tr>\n",
       "    <tr>\n",
       "      <th>434</th>\n",
       "      <td>Mississippi</td>\n",
       "      <td>Hinds</td>\n",
       "      <td>2020</td>\n",
       "      <td>366</td>\n",
       "      <td>249</td>\n",
       "      <td>116</td>\n",
       "      <td>1</td>\n",
       "      <td>0</td>\n",
       "      <td>0</td>\n",
       "      <td>0</td>\n",
       "      <td>...</td>\n",
       "      <td>101</td>\n",
       "      <td>265</td>\n",
       "      <td>0</td>\n",
       "      <td>290.0</td>\n",
       "      <td>2035.279</td>\n",
       "      <td>34.610</td>\n",
       "      <td>2226.0</td>\n",
       "      <td>3081.211</td>\n",
       "      <td>37.933</td>\n",
       "      <td>0.130</td>\n",
       "    </tr>\n",
       "    <tr>\n",
       "      <th>4706</th>\n",
       "      <td>Louisiana</td>\n",
       "      <td>Caddo</td>\n",
       "      <td>2011</td>\n",
       "      <td>365</td>\n",
       "      <td>240</td>\n",
       "      <td>107</td>\n",
       "      <td>18</td>\n",
       "      <td>0</td>\n",
       "      <td>0</td>\n",
       "      <td>0</td>\n",
       "      <td>...</td>\n",
       "      <td>297</td>\n",
       "      <td>68</td>\n",
       "      <td>0</td>\n",
       "      <td>372.0</td>\n",
       "      <td>1939.624</td>\n",
       "      <td>33.747</td>\n",
       "      <td>2871.0</td>\n",
       "      <td>3099.827</td>\n",
       "      <td>37.870</td>\n",
       "      <td>0.130</td>\n",
       "    </tr>\n",
       "    <tr>\n",
       "      <th>2864</th>\n",
       "      <td>Mississippi</td>\n",
       "      <td>Hinds</td>\n",
       "      <td>2017</td>\n",
       "      <td>365</td>\n",
       "      <td>256</td>\n",
       "      <td>109</td>\n",
       "      <td>0</td>\n",
       "      <td>0</td>\n",
       "      <td>0</td>\n",
       "      <td>0</td>\n",
       "      <td>...</td>\n",
       "      <td>114</td>\n",
       "      <td>243</td>\n",
       "      <td>0</td>\n",
       "      <td>322.0</td>\n",
       "      <td>1909.012</td>\n",
       "      <td>33.643</td>\n",
       "      <td>2572.0</td>\n",
       "      <td>3069.387</td>\n",
       "      <td>37.916</td>\n",
       "      <td>0.125</td>\n",
       "    </tr>\n",
       "    <tr>\n",
       "      <th>320</th>\n",
       "      <td>Georgia</td>\n",
       "      <td>Richmond</td>\n",
       "      <td>2020</td>\n",
       "      <td>366</td>\n",
       "      <td>268</td>\n",
       "      <td>97</td>\n",
       "      <td>1</td>\n",
       "      <td>0</td>\n",
       "      <td>0</td>\n",
       "      <td>0</td>\n",
       "      <td>...</td>\n",
       "      <td>84</td>\n",
       "      <td>267</td>\n",
       "      <td>15</td>\n",
       "      <td>262.0</td>\n",
       "      <td>1965.233</td>\n",
       "      <td>34.351</td>\n",
       "      <td>2099.0</td>\n",
       "      <td>3124.365</td>\n",
       "      <td>38.307</td>\n",
       "      <td>0.125</td>\n",
       "    </tr>\n",
       "    <tr>\n",
       "      <th>3855</th>\n",
       "      <td>Mississippi</td>\n",
       "      <td>Hinds</td>\n",
       "      <td>2012</td>\n",
       "      <td>366</td>\n",
       "      <td>241</td>\n",
       "      <td>122</td>\n",
       "      <td>2</td>\n",
       "      <td>1</td>\n",
       "      <td>0</td>\n",
       "      <td>0</td>\n",
       "      <td>...</td>\n",
       "      <td>117</td>\n",
       "      <td>249</td>\n",
       "      <td>0</td>\n",
       "      <td>327.0</td>\n",
       "      <td>1986.190</td>\n",
       "      <td>34.217</td>\n",
       "      <td>2668.0</td>\n",
       "      <td>3082.299</td>\n",
       "      <td>37.973</td>\n",
       "      <td>0.123</td>\n",
       "    </tr>\n",
       "    <tr>\n",
       "      <th>1524</th>\n",
       "      <td>Mississippi</td>\n",
       "      <td>Hinds</td>\n",
       "      <td>2019</td>\n",
       "      <td>365</td>\n",
       "      <td>256</td>\n",
       "      <td>109</td>\n",
       "      <td>0</td>\n",
       "      <td>0</td>\n",
       "      <td>0</td>\n",
       "      <td>0</td>\n",
       "      <td>...</td>\n",
       "      <td>143</td>\n",
       "      <td>222</td>\n",
       "      <td>0</td>\n",
       "      <td>290.0</td>\n",
       "      <td>2038.310</td>\n",
       "      <td>34.379</td>\n",
       "      <td>2351.0</td>\n",
       "      <td>3094.378</td>\n",
       "      <td>37.923</td>\n",
       "      <td>0.123</td>\n",
       "    </tr>\n",
       "    <tr>\n",
       "      <th>2403</th>\n",
       "      <td>Mississippi</td>\n",
       "      <td>Hinds</td>\n",
       "      <td>2015</td>\n",
       "      <td>365</td>\n",
       "      <td>217</td>\n",
       "      <td>148</td>\n",
       "      <td>0</td>\n",
       "      <td>0</td>\n",
       "      <td>0</td>\n",
       "      <td>0</td>\n",
       "      <td>...</td>\n",
       "      <td>110</td>\n",
       "      <td>253</td>\n",
       "      <td>0</td>\n",
       "      <td>307.0</td>\n",
       "      <td>1967.857</td>\n",
       "      <td>34.094</td>\n",
       "      <td>2566.0</td>\n",
       "      <td>3085.500</td>\n",
       "      <td>37.993</td>\n",
       "      <td>0.120</td>\n",
       "    </tr>\n",
       "  </tbody>\n",
       "</table>\n",
       "<p>10 rows × 25 columns</p>\n",
       "</div>"
      ],
      "text/plain": [
       "            state    county  year  days_with_aqi  good_days  mod_days  \\\n",
       "309       Georgia   Clayton  2020            121        103        18   \n",
       "4992    Louisiana     Caddo  2010            363        261        91   \n",
       "1984  Mississippi     Hinds  2014            365        180       184   \n",
       "434   Mississippi     Hinds  2020            366        249       116   \n",
       "4706    Louisiana     Caddo  2011            365        240       107   \n",
       "2864  Mississippi     Hinds  2017            365        256       109   \n",
       "320       Georgia  Richmond  2020            366        268        97   \n",
       "3855  Mississippi     Hinds  2012            366        241       122   \n",
       "1524  Mississippi     Hinds  2019            365        256       109   \n",
       "2403  Mississippi     Hinds  2015            365        217       148   \n",
       "\n",
       "      uh_sens_days  uh_days  v_uh_days  haz_days  ...  days_ozone  days_pm2.5  \\\n",
       "309              0        0          0         0  ...           0         121   \n",
       "4992            11        0          0         0  ...         303          60   \n",
       "1984             0        1          0         0  ...          91         274   \n",
       "434              1        0          0         0  ...         101         265   \n",
       "4706            18        0          0         0  ...         297          68   \n",
       "2864             0        0          0         0  ...         114         243   \n",
       "320              1        0          0         0  ...          84         267   \n",
       "3855             2        1          0         0  ...         117         249   \n",
       "1524             0        0          0         0  ...         143         222   \n",
       "2403             0        0          0         0  ...         110         253   \n",
       "\n",
       "      days_pm10  births_low  avg_weight_low  avg_ges_age_low  births_all  \\\n",
       "309           0       396.0        1977.646           35.005      2874.0   \n",
       "4992          0       402.0        1977.264           33.945      2986.0   \n",
       "1984          0       363.0        1931.003           33.959      2779.0   \n",
       "434           0       290.0        2035.279           34.610      2226.0   \n",
       "4706          0       372.0        1939.624           33.747      2871.0   \n",
       "2864          0       322.0        1909.012           33.643      2572.0   \n",
       "320          15       262.0        1965.233           34.351      2099.0   \n",
       "3855          0       327.0        1986.190           34.217      2668.0   \n",
       "1524          0       290.0        2038.310           34.379      2351.0   \n",
       "2403          0       307.0        1967.857           34.094      2566.0   \n",
       "\n",
       "      avg_weight_all  avg_ges_age_all  pct_low  \n",
       "309         3078.496           38.191    0.138  \n",
       "4992        3088.602           37.874    0.135  \n",
       "1984        3065.051           37.917    0.131  \n",
       "434         3081.211           37.933    0.130  \n",
       "4706        3099.827           37.870    0.130  \n",
       "2864        3069.387           37.916    0.125  \n",
       "320         3124.365           38.307    0.125  \n",
       "3855        3082.299           37.973    0.123  \n",
       "1524        3094.378           37.923    0.123  \n",
       "2403        3085.500           37.993    0.120  \n",
       "\n",
       "[10 rows x 25 columns]"
      ]
     },
     "execution_count": 198,
     "metadata": {},
     "output_type": "execute_result"
    }
   ],
   "source": [
    "df.sort_values(by='pct_low', ascending=False).head(10)"
   ]
  },
  {
   "cell_type": "markdown",
   "id": "95ec79b5-ab1e-4896-9833-fdd8e8a14c86",
   "metadata": {},
   "source": [
    "I see there are some entries here that look to have only 120 days or so of recording data (looking at the days_with_aqi).  Let's filter ones that have at least 300 so we're getting at least 10 months of data."
   ]
  },
  {
   "cell_type": "code",
   "execution_count": 195,
   "id": "9a9e7921-975e-46d1-93b2-e99395ceea04",
   "metadata": {
    "execution": {
     "iopub.execute_input": "2023-01-17T07:15:01.526689Z",
     "iopub.status.busy": "2023-01-17T07:15:01.524525Z",
     "iopub.status.idle": "2023-01-17T07:15:01.540607Z",
     "shell.execute_reply": "2023-01-17T07:15:01.540005Z",
     "shell.execute_reply.started": "2023-01-17T07:15:01.526606Z"
    }
   },
   "outputs": [],
   "source": [
    "df_300 = df[df['days_with_aqi'] > 300]"
   ]
  },
  {
   "cell_type": "code",
   "execution_count": 196,
   "id": "0cd83b24-24da-4675-b889-1d20b01c5bc8",
   "metadata": {
    "execution": {
     "iopub.execute_input": "2023-01-17T07:15:28.234846Z",
     "iopub.status.busy": "2023-01-17T07:15:28.233734Z",
     "iopub.status.idle": "2023-01-17T07:15:28.256822Z",
     "shell.execute_reply": "2023-01-17T07:15:28.256398Z",
     "shell.execute_reply.started": "2023-01-17T07:15:28.234785Z"
    }
   },
   "outputs": [
    {
     "data": {
      "text/html": [
       "<div>\n",
       "<style scoped>\n",
       "    .dataframe tbody tr th:only-of-type {\n",
       "        vertical-align: middle;\n",
       "    }\n",
       "\n",
       "    .dataframe tbody tr th {\n",
       "        vertical-align: top;\n",
       "    }\n",
       "\n",
       "    .dataframe thead th {\n",
       "        text-align: right;\n",
       "    }\n",
       "</style>\n",
       "<table border=\"1\" class=\"dataframe\">\n",
       "  <thead>\n",
       "    <tr style=\"text-align: right;\">\n",
       "      <th></th>\n",
       "      <th>state</th>\n",
       "      <th>county</th>\n",
       "      <th>year</th>\n",
       "      <th>days_with_aqi</th>\n",
       "      <th>good_days</th>\n",
       "      <th>mod_days</th>\n",
       "      <th>uh_sens_days</th>\n",
       "      <th>uh_days</th>\n",
       "      <th>v_uh_days</th>\n",
       "      <th>haz_days</th>\n",
       "      <th>...</th>\n",
       "      <th>days_ozone</th>\n",
       "      <th>days_pm2.5</th>\n",
       "      <th>days_pm10</th>\n",
       "      <th>births_low</th>\n",
       "      <th>avg_weight_low</th>\n",
       "      <th>avg_ges_age_low</th>\n",
       "      <th>births_all</th>\n",
       "      <th>avg_weight_all</th>\n",
       "      <th>avg_ges_age_all</th>\n",
       "      <th>pct_low</th>\n",
       "    </tr>\n",
       "  </thead>\n",
       "  <tbody>\n",
       "    <tr>\n",
       "      <th>4992</th>\n",
       "      <td>Louisiana</td>\n",
       "      <td>Caddo</td>\n",
       "      <td>2010</td>\n",
       "      <td>363</td>\n",
       "      <td>261</td>\n",
       "      <td>91</td>\n",
       "      <td>11</td>\n",
       "      <td>0</td>\n",
       "      <td>0</td>\n",
       "      <td>0</td>\n",
       "      <td>...</td>\n",
       "      <td>303</td>\n",
       "      <td>60</td>\n",
       "      <td>0</td>\n",
       "      <td>402.0</td>\n",
       "      <td>1977.264</td>\n",
       "      <td>33.945</td>\n",
       "      <td>2986.0</td>\n",
       "      <td>3088.602</td>\n",
       "      <td>37.874</td>\n",
       "      <td>0.135</td>\n",
       "    </tr>\n",
       "    <tr>\n",
       "      <th>1984</th>\n",
       "      <td>Mississippi</td>\n",
       "      <td>Hinds</td>\n",
       "      <td>2014</td>\n",
       "      <td>365</td>\n",
       "      <td>180</td>\n",
       "      <td>184</td>\n",
       "      <td>0</td>\n",
       "      <td>1</td>\n",
       "      <td>0</td>\n",
       "      <td>0</td>\n",
       "      <td>...</td>\n",
       "      <td>91</td>\n",
       "      <td>274</td>\n",
       "      <td>0</td>\n",
       "      <td>363.0</td>\n",
       "      <td>1931.003</td>\n",
       "      <td>33.959</td>\n",
       "      <td>2779.0</td>\n",
       "      <td>3065.051</td>\n",
       "      <td>37.917</td>\n",
       "      <td>0.131</td>\n",
       "    </tr>\n",
       "    <tr>\n",
       "      <th>434</th>\n",
       "      <td>Mississippi</td>\n",
       "      <td>Hinds</td>\n",
       "      <td>2020</td>\n",
       "      <td>366</td>\n",
       "      <td>249</td>\n",
       "      <td>116</td>\n",
       "      <td>1</td>\n",
       "      <td>0</td>\n",
       "      <td>0</td>\n",
       "      <td>0</td>\n",
       "      <td>...</td>\n",
       "      <td>101</td>\n",
       "      <td>265</td>\n",
       "      <td>0</td>\n",
       "      <td>290.0</td>\n",
       "      <td>2035.279</td>\n",
       "      <td>34.610</td>\n",
       "      <td>2226.0</td>\n",
       "      <td>3081.211</td>\n",
       "      <td>37.933</td>\n",
       "      <td>0.130</td>\n",
       "    </tr>\n",
       "    <tr>\n",
       "      <th>4706</th>\n",
       "      <td>Louisiana</td>\n",
       "      <td>Caddo</td>\n",
       "      <td>2011</td>\n",
       "      <td>365</td>\n",
       "      <td>240</td>\n",
       "      <td>107</td>\n",
       "      <td>18</td>\n",
       "      <td>0</td>\n",
       "      <td>0</td>\n",
       "      <td>0</td>\n",
       "      <td>...</td>\n",
       "      <td>297</td>\n",
       "      <td>68</td>\n",
       "      <td>0</td>\n",
       "      <td>372.0</td>\n",
       "      <td>1939.624</td>\n",
       "      <td>33.747</td>\n",
       "      <td>2871.0</td>\n",
       "      <td>3099.827</td>\n",
       "      <td>37.870</td>\n",
       "      <td>0.130</td>\n",
       "    </tr>\n",
       "    <tr>\n",
       "      <th>320</th>\n",
       "      <td>Georgia</td>\n",
       "      <td>Richmond</td>\n",
       "      <td>2020</td>\n",
       "      <td>366</td>\n",
       "      <td>268</td>\n",
       "      <td>97</td>\n",
       "      <td>1</td>\n",
       "      <td>0</td>\n",
       "      <td>0</td>\n",
       "      <td>0</td>\n",
       "      <td>...</td>\n",
       "      <td>84</td>\n",
       "      <td>267</td>\n",
       "      <td>15</td>\n",
       "      <td>262.0</td>\n",
       "      <td>1965.233</td>\n",
       "      <td>34.351</td>\n",
       "      <td>2099.0</td>\n",
       "      <td>3124.365</td>\n",
       "      <td>38.307</td>\n",
       "      <td>0.125</td>\n",
       "    </tr>\n",
       "    <tr>\n",
       "      <th>2864</th>\n",
       "      <td>Mississippi</td>\n",
       "      <td>Hinds</td>\n",
       "      <td>2017</td>\n",
       "      <td>365</td>\n",
       "      <td>256</td>\n",
       "      <td>109</td>\n",
       "      <td>0</td>\n",
       "      <td>0</td>\n",
       "      <td>0</td>\n",
       "      <td>0</td>\n",
       "      <td>...</td>\n",
       "      <td>114</td>\n",
       "      <td>243</td>\n",
       "      <td>0</td>\n",
       "      <td>322.0</td>\n",
       "      <td>1909.012</td>\n",
       "      <td>33.643</td>\n",
       "      <td>2572.0</td>\n",
       "      <td>3069.387</td>\n",
       "      <td>37.916</td>\n",
       "      <td>0.125</td>\n",
       "    </tr>\n",
       "    <tr>\n",
       "      <th>3855</th>\n",
       "      <td>Mississippi</td>\n",
       "      <td>Hinds</td>\n",
       "      <td>2012</td>\n",
       "      <td>366</td>\n",
       "      <td>241</td>\n",
       "      <td>122</td>\n",
       "      <td>2</td>\n",
       "      <td>1</td>\n",
       "      <td>0</td>\n",
       "      <td>0</td>\n",
       "      <td>...</td>\n",
       "      <td>117</td>\n",
       "      <td>249</td>\n",
       "      <td>0</td>\n",
       "      <td>327.0</td>\n",
       "      <td>1986.190</td>\n",
       "      <td>34.217</td>\n",
       "      <td>2668.0</td>\n",
       "      <td>3082.299</td>\n",
       "      <td>37.973</td>\n",
       "      <td>0.123</td>\n",
       "    </tr>\n",
       "    <tr>\n",
       "      <th>1524</th>\n",
       "      <td>Mississippi</td>\n",
       "      <td>Hinds</td>\n",
       "      <td>2019</td>\n",
       "      <td>365</td>\n",
       "      <td>256</td>\n",
       "      <td>109</td>\n",
       "      <td>0</td>\n",
       "      <td>0</td>\n",
       "      <td>0</td>\n",
       "      <td>0</td>\n",
       "      <td>...</td>\n",
       "      <td>143</td>\n",
       "      <td>222</td>\n",
       "      <td>0</td>\n",
       "      <td>290.0</td>\n",
       "      <td>2038.310</td>\n",
       "      <td>34.379</td>\n",
       "      <td>2351.0</td>\n",
       "      <td>3094.378</td>\n",
       "      <td>37.923</td>\n",
       "      <td>0.123</td>\n",
       "    </tr>\n",
       "    <tr>\n",
       "      <th>2340</th>\n",
       "      <td>Louisiana</td>\n",
       "      <td>Caddo</td>\n",
       "      <td>2015</td>\n",
       "      <td>364</td>\n",
       "      <td>303</td>\n",
       "      <td>61</td>\n",
       "      <td>0</td>\n",
       "      <td>0</td>\n",
       "      <td>0</td>\n",
       "      <td>0</td>\n",
       "      <td>...</td>\n",
       "      <td>278</td>\n",
       "      <td>86</td>\n",
       "      <td>0</td>\n",
       "      <td>303.0</td>\n",
       "      <td>1905.512</td>\n",
       "      <td>33.515</td>\n",
       "      <td>2515.0</td>\n",
       "      <td>3110.653</td>\n",
       "      <td>37.936</td>\n",
       "      <td>0.120</td>\n",
       "    </tr>\n",
       "    <tr>\n",
       "      <th>4386</th>\n",
       "      <td>Virginia</td>\n",
       "      <td>Hampton City</td>\n",
       "      <td>2013</td>\n",
       "      <td>359</td>\n",
       "      <td>313</td>\n",
       "      <td>44</td>\n",
       "      <td>2</td>\n",
       "      <td>0</td>\n",
       "      <td>0</td>\n",
       "      <td>0</td>\n",
       "      <td>...</td>\n",
       "      <td>165</td>\n",
       "      <td>181</td>\n",
       "      <td>0</td>\n",
       "      <td>48.0</td>\n",
       "      <td>1738.479</td>\n",
       "      <td>32.729</td>\n",
       "      <td>399.0</td>\n",
       "      <td>3205.329</td>\n",
       "      <td>38.266</td>\n",
       "      <td>0.120</td>\n",
       "    </tr>\n",
       "  </tbody>\n",
       "</table>\n",
       "<p>10 rows × 25 columns</p>\n",
       "</div>"
      ],
      "text/plain": [
       "            state        county  year  days_with_aqi  good_days  mod_days  \\\n",
       "4992    Louisiana         Caddo  2010            363        261        91   \n",
       "1984  Mississippi         Hinds  2014            365        180       184   \n",
       "434   Mississippi         Hinds  2020            366        249       116   \n",
       "4706    Louisiana         Caddo  2011            365        240       107   \n",
       "320       Georgia      Richmond  2020            366        268        97   \n",
       "2864  Mississippi         Hinds  2017            365        256       109   \n",
       "3855  Mississippi         Hinds  2012            366        241       122   \n",
       "1524  Mississippi         Hinds  2019            365        256       109   \n",
       "2340    Louisiana         Caddo  2015            364        303        61   \n",
       "4386     Virginia  Hampton City  2013            359        313        44   \n",
       "\n",
       "      uh_sens_days  uh_days  v_uh_days  haz_days  ...  days_ozone  days_pm2.5  \\\n",
       "4992            11        0          0         0  ...         303          60   \n",
       "1984             0        1          0         0  ...          91         274   \n",
       "434              1        0          0         0  ...         101         265   \n",
       "4706            18        0          0         0  ...         297          68   \n",
       "320              1        0          0         0  ...          84         267   \n",
       "2864             0        0          0         0  ...         114         243   \n",
       "3855             2        1          0         0  ...         117         249   \n",
       "1524             0        0          0         0  ...         143         222   \n",
       "2340             0        0          0         0  ...         278          86   \n",
       "4386             2        0          0         0  ...         165         181   \n",
       "\n",
       "      days_pm10  births_low  avg_weight_low  avg_ges_age_low  births_all  \\\n",
       "4992          0       402.0        1977.264           33.945      2986.0   \n",
       "1984          0       363.0        1931.003           33.959      2779.0   \n",
       "434           0       290.0        2035.279           34.610      2226.0   \n",
       "4706          0       372.0        1939.624           33.747      2871.0   \n",
       "320          15       262.0        1965.233           34.351      2099.0   \n",
       "2864          0       322.0        1909.012           33.643      2572.0   \n",
       "3855          0       327.0        1986.190           34.217      2668.0   \n",
       "1524          0       290.0        2038.310           34.379      2351.0   \n",
       "2340          0       303.0        1905.512           33.515      2515.0   \n",
       "4386          0        48.0        1738.479           32.729       399.0   \n",
       "\n",
       "      avg_weight_all  avg_ges_age_all  pct_low  \n",
       "4992        3088.602           37.874    0.135  \n",
       "1984        3065.051           37.917    0.131  \n",
       "434         3081.211           37.933    0.130  \n",
       "4706        3099.827           37.870    0.130  \n",
       "320         3124.365           38.307    0.125  \n",
       "2864        3069.387           37.916    0.125  \n",
       "3855        3082.299           37.973    0.123  \n",
       "1524        3094.378           37.923    0.123  \n",
       "2340        3110.653           37.936    0.120  \n",
       "4386        3205.329           38.266    0.120  \n",
       "\n",
       "[10 rows x 25 columns]"
      ]
     },
     "execution_count": 196,
     "metadata": {},
     "output_type": "execute_result"
    }
   ],
   "source": [
    "df_300.sort_values(by='pct_low', ascending=False).head(10)"
   ]
  },
  {
   "cell_type": "markdown",
   "id": "94dd3a8d-25ed-465b-a5a5-1fce9d7aab9b",
   "metadata": {},
   "source": [
    "What are the year/county combinations that have the smallest percentage?"
   ]
  },
  {
   "cell_type": "code",
   "execution_count": 197,
   "id": "41f68309-cf42-4690-ae20-f8046d978b31",
   "metadata": {
    "execution": {
     "iopub.execute_input": "2023-01-17T07:16:39.663358Z",
     "iopub.status.busy": "2023-01-17T07:16:39.661838Z",
     "iopub.status.idle": "2023-01-17T07:16:39.681895Z",
     "shell.execute_reply": "2023-01-17T07:16:39.681496Z",
     "shell.execute_reply.started": "2023-01-17T07:16:39.663314Z"
    }
   },
   "outputs": [
    {
     "data": {
      "text/html": [
       "<div>\n",
       "<style scoped>\n",
       "    .dataframe tbody tr th:only-of-type {\n",
       "        vertical-align: middle;\n",
       "    }\n",
       "\n",
       "    .dataframe tbody tr th {\n",
       "        vertical-align: top;\n",
       "    }\n",
       "\n",
       "    .dataframe thead th {\n",
       "        text-align: right;\n",
       "    }\n",
       "</style>\n",
       "<table border=\"1\" class=\"dataframe\">\n",
       "  <thead>\n",
       "    <tr style=\"text-align: right;\">\n",
       "      <th></th>\n",
       "      <th>state</th>\n",
       "      <th>county</th>\n",
       "      <th>year</th>\n",
       "      <th>days_with_aqi</th>\n",
       "      <th>good_days</th>\n",
       "      <th>mod_days</th>\n",
       "      <th>uh_sens_days</th>\n",
       "      <th>uh_days</th>\n",
       "      <th>v_uh_days</th>\n",
       "      <th>haz_days</th>\n",
       "      <th>...</th>\n",
       "      <th>days_ozone</th>\n",
       "      <th>days_pm2.5</th>\n",
       "      <th>days_pm10</th>\n",
       "      <th>births_low</th>\n",
       "      <th>avg_weight_low</th>\n",
       "      <th>avg_ges_age_low</th>\n",
       "      <th>births_all</th>\n",
       "      <th>avg_weight_all</th>\n",
       "      <th>avg_ges_age_all</th>\n",
       "      <th>pct_low</th>\n",
       "    </tr>\n",
       "  </thead>\n",
       "  <tbody>\n",
       "    <tr>\n",
       "      <th>494</th>\n",
       "      <td>New York</td>\n",
       "      <td>Tompkins</td>\n",
       "      <td>2020</td>\n",
       "      <td>364</td>\n",
       "      <td>359</td>\n",
       "      <td>5</td>\n",
       "      <td>0</td>\n",
       "      <td>0</td>\n",
       "      <td>0</td>\n",
       "      <td>0</td>\n",
       "      <td>...</td>\n",
       "      <td>364</td>\n",
       "      <td>0</td>\n",
       "      <td>0</td>\n",
       "      <td>13.0</td>\n",
       "      <td>2204.077</td>\n",
       "      <td>35.077</td>\n",
       "      <td>530.0</td>\n",
       "      <td>3403.653</td>\n",
       "      <td>39.079</td>\n",
       "      <td>0.025</td>\n",
       "    </tr>\n",
       "    <tr>\n",
       "      <th>1584</th>\n",
       "      <td>New York</td>\n",
       "      <td>Tompkins</td>\n",
       "      <td>2019</td>\n",
       "      <td>356</td>\n",
       "      <td>349</td>\n",
       "      <td>7</td>\n",
       "      <td>0</td>\n",
       "      <td>0</td>\n",
       "      <td>0</td>\n",
       "      <td>0</td>\n",
       "      <td>...</td>\n",
       "      <td>356</td>\n",
       "      <td>0</td>\n",
       "      <td>0</td>\n",
       "      <td>14.0</td>\n",
       "      <td>2174.000</td>\n",
       "      <td>35.571</td>\n",
       "      <td>510.0</td>\n",
       "      <td>3414.189</td>\n",
       "      <td>39.043</td>\n",
       "      <td>0.027</td>\n",
       "    </tr>\n",
       "    <tr>\n",
       "      <th>1264</th>\n",
       "      <td>Washington</td>\n",
       "      <td>Cowlitz</td>\n",
       "      <td>2018</td>\n",
       "      <td>365</td>\n",
       "      <td>338</td>\n",
       "      <td>23</td>\n",
       "      <td>2</td>\n",
       "      <td>2</td>\n",
       "      <td>0</td>\n",
       "      <td>0</td>\n",
       "      <td>...</td>\n",
       "      <td>0</td>\n",
       "      <td>365</td>\n",
       "      <td>0</td>\n",
       "      <td>23.0</td>\n",
       "      <td>2147.913</td>\n",
       "      <td>35.304</td>\n",
       "      <td>819.0</td>\n",
       "      <td>3456.101</td>\n",
       "      <td>38.976</td>\n",
       "      <td>0.028</td>\n",
       "    </tr>\n",
       "    <tr>\n",
       "      <th>2142</th>\n",
       "      <td>Washington</td>\n",
       "      <td>Cowlitz</td>\n",
       "      <td>2014</td>\n",
       "      <td>323</td>\n",
       "      <td>309</td>\n",
       "      <td>14</td>\n",
       "      <td>0</td>\n",
       "      <td>0</td>\n",
       "      <td>0</td>\n",
       "      <td>0</td>\n",
       "      <td>...</td>\n",
       "      <td>0</td>\n",
       "      <td>323</td>\n",
       "      <td>0</td>\n",
       "      <td>24.0</td>\n",
       "      <td>1982.417</td>\n",
       "      <td>34.125</td>\n",
       "      <td>804.0</td>\n",
       "      <td>3443.707</td>\n",
       "      <td>39.232</td>\n",
       "      <td>0.030</td>\n",
       "    </tr>\n",
       "    <tr>\n",
       "      <th>1636</th>\n",
       "      <td>Oregon</td>\n",
       "      <td>Linn</td>\n",
       "      <td>2019</td>\n",
       "      <td>365</td>\n",
       "      <td>280</td>\n",
       "      <td>83</td>\n",
       "      <td>2</td>\n",
       "      <td>0</td>\n",
       "      <td>0</td>\n",
       "      <td>0</td>\n",
       "      <td>...</td>\n",
       "      <td>0</td>\n",
       "      <td>365</td>\n",
       "      <td>0</td>\n",
       "      <td>33.0</td>\n",
       "      <td>2000.636</td>\n",
       "      <td>33.939</td>\n",
       "      <td>1048.0</td>\n",
       "      <td>3498.659</td>\n",
       "      <td>39.032</td>\n",
       "      <td>0.031</td>\n",
       "    </tr>\n",
       "    <tr>\n",
       "      <th>671</th>\n",
       "      <td>California</td>\n",
       "      <td>Humboldt</td>\n",
       "      <td>2008</td>\n",
       "      <td>364</td>\n",
       "      <td>349</td>\n",
       "      <td>15</td>\n",
       "      <td>0</td>\n",
       "      <td>0</td>\n",
       "      <td>0</td>\n",
       "      <td>0</td>\n",
       "      <td>...</td>\n",
       "      <td>286</td>\n",
       "      <td>50</td>\n",
       "      <td>4</td>\n",
       "      <td>37.0</td>\n",
       "      <td>1884.730</td>\n",
       "      <td>33.556</td>\n",
       "      <td>1168.0</td>\n",
       "      <td>3430.532</td>\n",
       "      <td>38.935</td>\n",
       "      <td>0.032</td>\n",
       "    </tr>\n",
       "    <tr>\n",
       "      <th>3435</th>\n",
       "      <td>Oregon</td>\n",
       "      <td>Linn</td>\n",
       "      <td>2016</td>\n",
       "      <td>366</td>\n",
       "      <td>333</td>\n",
       "      <td>33</td>\n",
       "      <td>0</td>\n",
       "      <td>0</td>\n",
       "      <td>0</td>\n",
       "      <td>0</td>\n",
       "      <td>...</td>\n",
       "      <td>0</td>\n",
       "      <td>366</td>\n",
       "      <td>0</td>\n",
       "      <td>33.0</td>\n",
       "      <td>2068.242</td>\n",
       "      <td>34.424</td>\n",
       "      <td>1027.0</td>\n",
       "      <td>3460.391</td>\n",
       "      <td>39.009</td>\n",
       "      <td>0.032</td>\n",
       "    </tr>\n",
       "    <tr>\n",
       "      <th>1647</th>\n",
       "      <td>Pennsylvania</td>\n",
       "      <td>Centre</td>\n",
       "      <td>2019</td>\n",
       "      <td>365</td>\n",
       "      <td>267</td>\n",
       "      <td>98</td>\n",
       "      <td>0</td>\n",
       "      <td>0</td>\n",
       "      <td>0</td>\n",
       "      <td>0</td>\n",
       "      <td>...</td>\n",
       "      <td>203</td>\n",
       "      <td>162</td>\n",
       "      <td>0</td>\n",
       "      <td>27.0</td>\n",
       "      <td>2042.370</td>\n",
       "      <td>34.296</td>\n",
       "      <td>819.0</td>\n",
       "      <td>3428.707</td>\n",
       "      <td>39.076</td>\n",
       "      <td>0.033</td>\n",
       "    </tr>\n",
       "    <tr>\n",
       "      <th>3076</th>\n",
       "      <td>Wisconsin</td>\n",
       "      <td>La Crosse</td>\n",
       "      <td>2017</td>\n",
       "      <td>360</td>\n",
       "      <td>311</td>\n",
       "      <td>49</td>\n",
       "      <td>0</td>\n",
       "      <td>0</td>\n",
       "      <td>0</td>\n",
       "      <td>0</td>\n",
       "      <td>...</td>\n",
       "      <td>194</td>\n",
       "      <td>166</td>\n",
       "      <td>0</td>\n",
       "      <td>27.0</td>\n",
       "      <td>2059.185</td>\n",
       "      <td>33.889</td>\n",
       "      <td>819.0</td>\n",
       "      <td>3462.660</td>\n",
       "      <td>39.269</td>\n",
       "      <td>0.033</td>\n",
       "    </tr>\n",
       "    <tr>\n",
       "      <th>3443</th>\n",
       "      <td>Pennsylvania</td>\n",
       "      <td>Blair</td>\n",
       "      <td>2016</td>\n",
       "      <td>366</td>\n",
       "      <td>285</td>\n",
       "      <td>79</td>\n",
       "      <td>2</td>\n",
       "      <td>0</td>\n",
       "      <td>0</td>\n",
       "      <td>0</td>\n",
       "      <td>...</td>\n",
       "      <td>196</td>\n",
       "      <td>166</td>\n",
       "      <td>4</td>\n",
       "      <td>28.0</td>\n",
       "      <td>1989.750</td>\n",
       "      <td>34.143</td>\n",
       "      <td>846.0</td>\n",
       "      <td>3410.701</td>\n",
       "      <td>38.995</td>\n",
       "      <td>0.033</td>\n",
       "    </tr>\n",
       "  </tbody>\n",
       "</table>\n",
       "<p>10 rows × 25 columns</p>\n",
       "</div>"
      ],
      "text/plain": [
       "             state     county  year  days_with_aqi  good_days  mod_days  \\\n",
       "494       New York   Tompkins  2020            364        359         5   \n",
       "1584      New York   Tompkins  2019            356        349         7   \n",
       "1264    Washington    Cowlitz  2018            365        338        23   \n",
       "2142    Washington    Cowlitz  2014            323        309        14   \n",
       "1636        Oregon       Linn  2019            365        280        83   \n",
       "671     California   Humboldt  2008            364        349        15   \n",
       "3435        Oregon       Linn  2016            366        333        33   \n",
       "1647  Pennsylvania     Centre  2019            365        267        98   \n",
       "3076     Wisconsin  La Crosse  2017            360        311        49   \n",
       "3443  Pennsylvania      Blair  2016            366        285        79   \n",
       "\n",
       "      uh_sens_days  uh_days  v_uh_days  haz_days  ...  days_ozone  days_pm2.5  \\\n",
       "494              0        0          0         0  ...         364           0   \n",
       "1584             0        0          0         0  ...         356           0   \n",
       "1264             2        2          0         0  ...           0         365   \n",
       "2142             0        0          0         0  ...           0         323   \n",
       "1636             2        0          0         0  ...           0         365   \n",
       "671              0        0          0         0  ...         286          50   \n",
       "3435             0        0          0         0  ...           0         366   \n",
       "1647             0        0          0         0  ...         203         162   \n",
       "3076             0        0          0         0  ...         194         166   \n",
       "3443             2        0          0         0  ...         196         166   \n",
       "\n",
       "      days_pm10  births_low  avg_weight_low  avg_ges_age_low  births_all  \\\n",
       "494           0        13.0        2204.077           35.077       530.0   \n",
       "1584          0        14.0        2174.000           35.571       510.0   \n",
       "1264          0        23.0        2147.913           35.304       819.0   \n",
       "2142          0        24.0        1982.417           34.125       804.0   \n",
       "1636          0        33.0        2000.636           33.939      1048.0   \n",
       "671           4        37.0        1884.730           33.556      1168.0   \n",
       "3435          0        33.0        2068.242           34.424      1027.0   \n",
       "1647          0        27.0        2042.370           34.296       819.0   \n",
       "3076          0        27.0        2059.185           33.889       819.0   \n",
       "3443          4        28.0        1989.750           34.143       846.0   \n",
       "\n",
       "      avg_weight_all  avg_ges_age_all  pct_low  \n",
       "494         3403.653           39.079    0.025  \n",
       "1584        3414.189           39.043    0.027  \n",
       "1264        3456.101           38.976    0.028  \n",
       "2142        3443.707           39.232    0.030  \n",
       "1636        3498.659           39.032    0.031  \n",
       "671         3430.532           38.935    0.032  \n",
       "3435        3460.391           39.009    0.032  \n",
       "1647        3428.707           39.076    0.033  \n",
       "3076        3462.660           39.269    0.033  \n",
       "3443        3410.701           38.995    0.033  \n",
       "\n",
       "[10 rows x 25 columns]"
      ]
     },
     "execution_count": 197,
     "metadata": {},
     "output_type": "execute_result"
    }
   ],
   "source": [
    "df_300.sort_values(by='pct_low', ascending=True).head(10)"
   ]
  },
  {
   "cell_type": "code",
   "execution_count": null,
   "id": "7158c649-7552-4fcc-8602-cf88c955a203",
   "metadata": {},
   "outputs": [],
   "source": []
  },
  {
   "cell_type": "markdown",
   "id": "15a479ab-0f61-4f14-85cd-3f0da481663f",
   "metadata": {},
   "source": [
    "# PARKING LOT"
   ]
  },
  {
   "cell_type": "code",
   "execution_count": 542,
   "id": "52bfdff0-464d-4a86-a747-62b64d8d4fbb",
   "metadata": {
    "execution": {
     "iopub.execute_input": "2023-01-18T08:10:19.077535Z",
     "iopub.status.busy": "2023-01-18T08:10:19.076372Z",
     "iopub.status.idle": "2023-01-18T08:10:19.083893Z",
     "shell.execute_reply": "2023-01-18T08:10:19.082785Z",
     "shell.execute_reply.started": "2023-01-18T08:10:19.077479Z"
    },
    "tags": []
   },
   "outputs": [],
   "source": [
    "# aqi['state'].unique()"
   ]
  },
  {
   "cell_type": "code",
   "execution_count": 241,
   "id": "f96f7f22-cda0-4c43-aa57-88dc65c9325e",
   "metadata": {
    "execution": {
     "iopub.execute_input": "2023-01-17T23:49:54.519616Z",
     "iopub.status.busy": "2023-01-17T23:49:54.519528Z",
     "iopub.status.idle": "2023-01-17T23:49:54.525392Z",
     "shell.execute_reply": "2023-01-17T23:49:54.525090Z",
     "shell.execute_reply.started": "2023-01-17T23:49:54.519606Z"
    },
    "tags": []
   },
   "outputs": [],
   "source": [
    "# aqi.drop(\n",
    "#     aqi[\n",
    "#         aqi['state'].isin(\n",
    "#             ['Country Of Mexico', 'Puerto Rico', 'Virgin Islands', 'Canada']\n",
    "#         )\n",
    "#     ].index, inplace=True)"
   ]
  },
  {
   "cell_type": "code",
   "execution_count": 242,
   "id": "fbddd4dc-8700-4ab4-8c7e-d39130143e78",
   "metadata": {
    "execution": {
     "iopub.execute_input": "2023-01-17T23:49:54.526017Z",
     "iopub.status.busy": "2023-01-17T23:49:54.525920Z",
     "iopub.status.idle": "2023-01-17T23:49:54.527903Z",
     "shell.execute_reply": "2023-01-17T23:49:54.527610Z",
     "shell.execute_reply.started": "2023-01-17T23:49:54.526007Z"
    },
    "tags": []
   },
   "outputs": [],
   "source": [
    "# aqi['county'].unique()"
   ]
  },
  {
   "cell_type": "code",
   "execution_count": 541,
   "id": "120f91b1-eb9f-48c0-b596-c58367e6ff64",
   "metadata": {
    "execution": {
     "iopub.execute_input": "2023-01-18T08:10:15.946067Z",
     "iopub.status.busy": "2023-01-18T08:10:15.945518Z",
     "iopub.status.idle": "2023-01-18T08:10:15.952868Z",
     "shell.execute_reply": "2023-01-18T08:10:15.951589Z",
     "shell.execute_reply.started": "2023-01-18T08:10:15.946026Z"
    },
    "tags": []
   },
   "outputs": [],
   "source": [
    "# aqi.head(3)"
   ]
  },
  {
   "cell_type": "code",
   "execution_count": 540,
   "id": "c2ab3401-7a3b-4145-be1b-e2590ef29c6b",
   "metadata": {
    "execution": {
     "iopub.execute_input": "2023-01-18T08:10:14.543217Z",
     "iopub.status.busy": "2023-01-18T08:10:14.541887Z",
     "iopub.status.idle": "2023-01-18T08:10:14.550356Z",
     "shell.execute_reply": "2023-01-18T08:10:14.548965Z",
     "shell.execute_reply.started": "2023-01-18T08:10:14.543159Z"
    },
    "tags": []
   },
   "outputs": [],
   "source": [
    "# aqi.describe()"
   ]
  },
  {
   "cell_type": "markdown",
   "id": "bf4c425d-7ef3-4fcd-a798-6e6ddd90ccb4",
   "metadata": {},
   "source": [
    "All the values seem like they would be in range--meaning no negative counts, no days over 366."
   ]
  },
  {
   "cell_type": "markdown",
   "id": "e59436ba-338e-4ef4-b24c-c0a12e3997c4",
   "metadata": {},
   "source": [
    "Looking at example data that Winston collected via API"
   ]
  },
  {
   "cell_type": "code",
   "execution_count": null,
   "id": "e7935313-a0d4-4fce-8737-2990be50a6ab",
   "metadata": {},
   "outputs": [],
   "source": [
    "# df.drop_duplicates()"
   ]
  },
  {
   "cell_type": "code",
   "execution_count": 220,
   "id": "a82431f2-a3ce-4279-8825-979e953e009f",
   "metadata": {
    "execution": {
     "iopub.execute_input": "2023-01-17T23:49:54.271549Z",
     "iopub.status.busy": "2023-01-17T23:49:54.271259Z",
     "iopub.status.idle": "2023-01-17T23:49:54.310447Z",
     "shell.execute_reply": "2023-01-17T23:49:54.310082Z",
     "shell.execute_reply.started": "2023-01-17T23:49:54.271538Z"
    },
    "tags": []
   },
   "outputs": [],
   "source": [
    "# df = pd.read_csv('data/AQS_data_test_Alabama_2006.csv')"
   ]
  },
  {
   "cell_type": "code",
   "execution_count": 539,
   "id": "3758219e-71c8-4408-b97e-e3d86591755d",
   "metadata": {
    "execution": {
     "iopub.execute_input": "2023-01-18T08:10:13.010500Z",
     "iopub.status.busy": "2023-01-18T08:10:13.009263Z",
     "iopub.status.idle": "2023-01-18T08:10:13.016693Z",
     "shell.execute_reply": "2023-01-18T08:10:13.015690Z",
     "shell.execute_reply.started": "2023-01-18T08:10:13.010446Z"
    },
    "tags": []
   },
   "outputs": [],
   "source": [
    "# df.head()"
   ]
  },
  {
   "cell_type": "code",
   "execution_count": 543,
   "id": "dad0bbc3-d92a-4bb6-8f69-aa5152ece15a",
   "metadata": {
    "execution": {
     "iopub.execute_input": "2023-01-18T08:10:22.035107Z",
     "iopub.status.busy": "2023-01-18T08:10:22.034757Z",
     "iopub.status.idle": "2023-01-18T08:10:22.038533Z",
     "shell.execute_reply": "2023-01-18T08:10:22.037614Z",
     "shell.execute_reply.started": "2023-01-18T08:10:22.035088Z"
    },
    "tags": []
   },
   "outputs": [],
   "source": [
    "# df.columns"
   ]
  },
  {
   "cell_type": "code",
   "execution_count": 544,
   "id": "1d858962-327e-48be-b405-dba717bf3391",
   "metadata": {
    "execution": {
     "iopub.execute_input": "2023-01-18T08:10:24.336914Z",
     "iopub.status.busy": "2023-01-18T08:10:24.335827Z",
     "iopub.status.idle": "2023-01-18T08:10:24.347858Z",
     "shell.execute_reply": "2023-01-18T08:10:24.344910Z",
     "shell.execute_reply.started": "2023-01-18T08:10:24.336868Z"
    },
    "tags": []
   },
   "outputs": [],
   "source": [
    "# df['sample_duration_code'].unique()"
   ]
  },
  {
   "cell_type": "code",
   "execution_count": 545,
   "id": "b6122bf0-b67c-4a32-bfbc-f31ca59058e5",
   "metadata": {
    "execution": {
     "iopub.execute_input": "2023-01-18T08:10:26.486723Z",
     "iopub.status.busy": "2023-01-18T08:10:26.485854Z",
     "iopub.status.idle": "2023-01-18T08:10:26.502989Z",
     "shell.execute_reply": "2023-01-18T08:10:26.498208Z",
     "shell.execute_reply.started": "2023-01-18T08:10:26.486665Z"
    },
    "tags": []
   },
   "outputs": [],
   "source": [
    "# df[['parameter', 'sample_duration_code']].value_counts()"
   ]
  },
  {
   "cell_type": "code",
   "execution_count": 225,
   "id": "b0adcb8e-eb28-40bc-bcc5-5ea550574644",
   "metadata": {
    "execution": {
     "iopub.execute_input": "2023-01-17T23:49:54.344603Z",
     "iopub.status.busy": "2023-01-17T23:49:54.344467Z",
     "iopub.status.idle": "2023-01-17T23:49:54.346581Z",
     "shell.execute_reply": "2023-01-17T23:49:54.346275Z",
     "shell.execute_reply.started": "2023-01-17T23:49:54.344594Z"
    }
   },
   "outputs": [],
   "source": [
    "# df.drop(['Unnamed: 0', 'state_code', 'county_code'], axis=1, inplace=True)"
   ]
  },
  {
   "cell_type": "code",
   "execution_count": 226,
   "id": "37504f44-6b3d-41b9-b95b-ea2bccac565c",
   "metadata": {
    "execution": {
     "iopub.execute_input": "2023-01-17T23:49:54.347364Z",
     "iopub.status.busy": "2023-01-17T23:49:54.347181Z",
     "iopub.status.idle": "2023-01-17T23:49:54.349147Z",
     "shell.execute_reply": "2023-01-17T23:49:54.348762Z",
     "shell.execute_reply.started": "2023-01-17T23:49:54.347348Z"
    }
   },
   "outputs": [],
   "source": [
    "# df.shape"
   ]
  },
  {
   "cell_type": "code",
   "execution_count": 227,
   "id": "7be1f246-38c6-4bb7-b453-ab454b6e2dba",
   "metadata": {
    "execution": {
     "iopub.execute_input": "2023-01-17T23:49:54.349584Z",
     "iopub.status.busy": "2023-01-17T23:49:54.349499Z",
     "iopub.status.idle": "2023-01-17T23:49:54.351681Z",
     "shell.execute_reply": "2023-01-17T23:49:54.351339Z",
     "shell.execute_reply.started": "2023-01-17T23:49:54.349575Z"
    },
    "tags": []
   },
   "outputs": [],
   "source": [
    "# df['county'].unique()"
   ]
  },
  {
   "cell_type": "code",
   "execution_count": 228,
   "id": "570eacd3-88b4-469a-aa11-989bea3d8898",
   "metadata": {
    "execution": {
     "iopub.execute_input": "2023-01-17T23:49:54.352633Z",
     "iopub.status.busy": "2023-01-17T23:49:54.352298Z",
     "iopub.status.idle": "2023-01-17T23:49:54.354370Z",
     "shell.execute_reply": "2023-01-17T23:49:54.354026Z",
     "shell.execute_reply.started": "2023-01-17T23:49:54.352621Z"
    },
    "tags": []
   },
   "outputs": [],
   "source": [
    "# df[(df['state'] == 'Alabama') & (df['county'] == 'Shelby')]['pollutant_standard'].unique()"
   ]
  },
  {
   "cell_type": "markdown",
   "id": "e7843e12-d071-4bac-9c77-ec6d1a15142c",
   "metadata": {},
   "source": [
    "#### Import Data"
   ]
  },
  {
   "cell_type": "markdown",
   "id": "dda053d0-9729-4501-9deb-44e0c69cd65b",
   "metadata": {},
   "source": [
    "The air quality data was downloaded from https://aqs.epa.gov/aqsweb/airdata/download_files.html#Annual as files containing annual data from years 2016-2021.  We are combining these CSV files into a single dataframe and will evaluate whether it will meet the needs for the project, or whether data will need to be collected through the API that the EPA offers for AirData."
   ]
  },
  {
   "cell_type": "code",
   "execution_count": 229,
   "id": "7b8cfe0a-0b74-46d1-b8e9-e02cd795ca07",
   "metadata": {
    "execution": {
     "iopub.execute_input": "2023-01-17T23:49:54.355122Z",
     "iopub.status.busy": "2023-01-17T23:49:54.354851Z",
     "iopub.status.idle": "2023-01-17T23:49:54.446764Z",
     "shell.execute_reply": "2023-01-17T23:49:54.446407Z",
     "shell.execute_reply.started": "2023-01-17T23:49:54.355108Z"
    },
    "tags": []
   },
   "outputs": [],
   "source": [
    "# # code from Winston merged with approach from\n",
    "# # https://towardsdatascience.com/pandas-concat-tricks-you-should-know-to-speed-up-your-data-analysis-cd3d4fdfe6dd\n",
    "\n",
    "# data_path = Path('data/')\n",
    "\n",
    "# # create a list of all the AQI csv files\n",
    "# dfs = (\n",
    "#     pd.read_csv(file) for file in data_path.glob('*_aqi_*') if file.is_file()\n",
    "# )\n",
    "\n",
    "# # concatenate the dataframes\n",
    "# res = pd.concat(dfs)\n",
    "\n",
    "# # export the final csv\n",
    "# res.to_csv('data/aqi_by_year_2006-2021.csv', index=False)"
   ]
  },
  {
   "cell_type": "markdown",
   "id": "0a6f1434-7add-4313-b1b3-09a2d5f4884d",
   "metadata": {},
   "source": [
    "Read the final CSV for all the AQI data"
   ]
  },
  {
   "cell_type": "code",
   "execution_count": 546,
   "id": "04e99e09-da9f-4496-82c4-0e30295776c5",
   "metadata": {
    "execution": {
     "iopub.execute_input": "2023-01-18T08:10:35.563808Z",
     "iopub.status.busy": "2023-01-18T08:10:35.562791Z",
     "iopub.status.idle": "2023-01-18T08:10:35.571026Z",
     "shell.execute_reply": "2023-01-18T08:10:35.569998Z",
     "shell.execute_reply.started": "2023-01-18T08:10:35.563758Z"
    },
    "tags": []
   },
   "outputs": [],
   "source": [
    "# aqi = pd.read_csv('data/aqi_by_year_2006-2021.csv')"
   ]
  },
  {
   "cell_type": "markdown",
   "id": "5e7d7a04-b767-4db5-8c21-4187728216ef",
   "metadata": {},
   "source": [
    "#### General Look and Cleanup"
   ]
  },
  {
   "cell_type": "code",
   "execution_count": 547,
   "id": "6ebe28d0-0354-46a5-8f81-6b4ffb180d21",
   "metadata": {
    "execution": {
     "iopub.execute_input": "2023-01-18T08:10:37.742433Z",
     "iopub.status.busy": "2023-01-18T08:10:37.740874Z",
     "iopub.status.idle": "2023-01-18T08:10:37.748336Z",
     "shell.execute_reply": "2023-01-18T08:10:37.747458Z",
     "shell.execute_reply.started": "2023-01-18T08:10:37.742393Z"
    },
    "tags": []
   },
   "outputs": [],
   "source": [
    "# aqi.head()"
   ]
  },
  {
   "cell_type": "code",
   "execution_count": 548,
   "id": "64e70772-1680-42f0-81dc-2e5b71be9400",
   "metadata": {
    "execution": {
     "iopub.execute_input": "2023-01-18T08:10:40.347132Z",
     "iopub.status.busy": "2023-01-18T08:10:40.346168Z",
     "iopub.status.idle": "2023-01-18T08:10:40.355263Z",
     "shell.execute_reply": "2023-01-18T08:10:40.354276Z",
     "shell.execute_reply.started": "2023-01-18T08:10:40.347074Z"
    },
    "tags": []
   },
   "outputs": [],
   "source": [
    "# aqi.columns"
   ]
  },
  {
   "cell_type": "code",
   "execution_count": 549,
   "id": "f1414960-e9f4-4111-bba0-3a77690b24c6",
   "metadata": {
    "execution": {
     "iopub.execute_input": "2023-01-18T08:10:42.473151Z",
     "iopub.status.busy": "2023-01-18T08:10:42.471442Z",
     "iopub.status.idle": "2023-01-18T08:10:42.490122Z",
     "shell.execute_reply": "2023-01-18T08:10:42.489184Z",
     "shell.execute_reply.started": "2023-01-18T08:10:42.473084Z"
    },
    "tags": []
   },
   "outputs": [],
   "source": [
    "# aqi.shape"
   ]
  },
  {
   "cell_type": "code",
   "execution_count": 550,
   "id": "ef6b8b82-0da7-445c-bd47-8b3ab696f9de",
   "metadata": {
    "execution": {
     "iopub.execute_input": "2023-01-18T08:10:45.583546Z",
     "iopub.status.busy": "2023-01-18T08:10:45.582458Z",
     "iopub.status.idle": "2023-01-18T08:10:45.596171Z",
     "shell.execute_reply": "2023-01-18T08:10:45.589857Z",
     "shell.execute_reply.started": "2023-01-18T08:10:45.583481Z"
    },
    "tags": []
   },
   "outputs": [],
   "source": [
    "# aqi.dtypes"
   ]
  },
  {
   "cell_type": "code",
   "execution_count": 551,
   "id": "8a711741-3952-4bca-9de2-475d5e2e7503",
   "metadata": {
    "execution": {
     "iopub.execute_input": "2023-01-18T08:10:48.321668Z",
     "iopub.status.busy": "2023-01-18T08:10:48.320633Z",
     "iopub.status.idle": "2023-01-18T08:10:48.332857Z",
     "shell.execute_reply": "2023-01-18T08:10:48.331676Z",
     "shell.execute_reply.started": "2023-01-18T08:10:48.321611Z"
    },
    "tags": []
   },
   "outputs": [],
   "source": [
    "# aqi.columns = [col.lower().replace(' ', '_') for col in aqi.columns]"
   ]
  },
  {
   "cell_type": "code",
   "execution_count": 552,
   "id": "7a4b7186-6c7d-4764-8fb2-3a0e42717e04",
   "metadata": {
    "execution": {
     "iopub.execute_input": "2023-01-18T08:10:50.634161Z",
     "iopub.status.busy": "2023-01-18T08:10:50.633446Z",
     "iopub.status.idle": "2023-01-18T08:10:50.645241Z",
     "shell.execute_reply": "2023-01-18T08:10:50.643212Z",
     "shell.execute_reply.started": "2023-01-18T08:10:50.634129Z"
    },
    "tags": []
   },
   "outputs": [],
   "source": [
    "# aqi.columns"
   ]
  },
  {
   "cell_type": "markdown",
   "id": "b1598d93-2ab4-4923-be8a-d37d5a3e1fcd",
   "metadata": {},
   "source": [
    "#### Rename Columns\n",
    "Mainly to trim the length of some of the column names to make it easier to work with."
   ]
  },
  {
   "cell_type": "code",
   "execution_count": 554,
   "id": "4a9c51ab-2735-478e-8efd-29e56baf9cea",
   "metadata": {
    "execution": {
     "iopub.execute_input": "2023-01-18T08:10:58.254164Z",
     "iopub.status.busy": "2023-01-18T08:10:58.253767Z",
     "iopub.status.idle": "2023-01-18T08:10:58.262461Z",
     "shell.execute_reply": "2023-01-18T08:10:58.261370Z",
     "shell.execute_reply.started": "2023-01-18T08:10:58.254139Z"
    },
    "tags": []
   },
   "outputs": [],
   "source": [
    "# aqi.rename(columns={\n",
    "#     'moderate_days': 'mod_days',\n",
    "#     'unhealthy_for_sensitive_groups_days': 'uh_sens_days',\n",
    "#     'unhealthy_days': 'uh_days',\n",
    "#     'very_unhealthy_days': 'v_uh_days',\n",
    "#     'hazardous_days': 'haz_days',\n",
    "#     '90th_percentile_aqi': '90_per_aqi'\n",
    "#     }, inplace=True)"
   ]
  },
  {
   "cell_type": "code",
   "execution_count": 555,
   "id": "a6645beb-d1e7-4836-b79c-47d4338b3845",
   "metadata": {
    "execution": {
     "iopub.execute_input": "2023-01-18T08:11:00.538760Z",
     "iopub.status.busy": "2023-01-18T08:11:00.537643Z",
     "iopub.status.idle": "2023-01-18T08:11:00.549783Z",
     "shell.execute_reply": "2023-01-18T08:11:00.548161Z",
     "shell.execute_reply.started": "2023-01-18T08:11:00.538709Z"
    },
    "tags": []
   },
   "outputs": [],
   "source": [
    "# aqi.isnull().sum()[aqi.isnull().sum() > 0]"
   ]
  },
  {
   "cell_type": "code",
   "execution_count": 556,
   "id": "4c1ff902-a36d-4951-99d8-29596f4da118",
   "metadata": {
    "execution": {
     "iopub.execute_input": "2023-01-18T08:11:02.714426Z",
     "iopub.status.busy": "2023-01-18T08:11:02.712579Z",
     "iopub.status.idle": "2023-01-18T08:11:02.723308Z",
     "shell.execute_reply": "2023-01-18T08:11:02.720148Z",
     "shell.execute_reply.started": "2023-01-18T08:11:02.714361Z"
    },
    "tags": []
   },
   "outputs": [],
   "source": [
    "# aqi[['state', 'county']].nunique()"
   ]
  },
  {
   "cell_type": "markdown",
   "id": "31e252f2-e74c-447b-afe3-4d6f09ea8b44",
   "metadata": {},
   "source": [
    "Since the API call failed me, I found that the annual concentration data looked fairly similar to what we were collecting, so giving that a shot.  I downloaded the annual files for years 2006-2021, so we'll take a shot at seeing if this data can be worked into a solution"
   ]
  },
  {
   "cell_type": "code",
   "execution_count": 557,
   "id": "032d405a-b0fe-4fe4-a1ab-eb80fb8b0a85",
   "metadata": {
    "execution": {
     "iopub.execute_input": "2023-01-18T08:11:05.670624Z",
     "iopub.status.busy": "2023-01-18T08:11:05.670156Z",
     "iopub.status.idle": "2023-01-18T08:11:05.678545Z",
     "shell.execute_reply": "2023-01-18T08:11:05.677251Z",
     "shell.execute_reply.started": "2023-01-18T08:11:05.670599Z"
    },
    "tags": []
   },
   "outputs": [],
   "source": [
    "# # code from Winston merged with approach from\n",
    "# # https://towardsdatascience.com/pandas-concat-tricks-you-should-know-to-speed-up-your-data-analysis-cd3d4fdfe6dd\n",
    "\n",
    "# data_path = Path('data/')\n",
    "\n",
    "# # create a list of all the AQI csv files\n",
    "# dfs = (\n",
    "#     pd.read_csv(file, low_memory=False) for file in data_path.glob('*_conc_*') if file.is_file()\n",
    "# )\n",
    "\n",
    "# # concatenate the dataframes\n",
    "# df = pd.concat(dfs)\n",
    "\n",
    "# # export the final csv\n",
    "# # res.to_csv('data/aqi_by_year_2006-2021.csv', index=False)"
   ]
  },
  {
   "cell_type": "code",
   "execution_count": 558,
   "id": "132a7ea3-fed9-42c4-a354-a9692027b4b8",
   "metadata": {
    "execution": {
     "iopub.execute_input": "2023-01-18T08:11:11.329314Z",
     "iopub.status.busy": "2023-01-18T08:11:11.322175Z",
     "iopub.status.idle": "2023-01-18T08:11:11.336890Z",
     "shell.execute_reply": "2023-01-18T08:11:11.336053Z",
     "shell.execute_reply.started": "2023-01-18T08:11:11.329238Z"
    },
    "tags": []
   },
   "outputs": [],
   "source": [
    "# # in the current data, I think this is akin to completeness_indicator\n",
    "# df = df[df['completeness_indicator']=='Y']"
   ]
  },
  {
   "cell_type": "code",
   "execution_count": 559,
   "id": "15b8c654-2399-45c0-968e-b0786942826f",
   "metadata": {
    "execution": {
     "iopub.execute_input": "2023-01-18T08:11:13.298163Z",
     "iopub.status.busy": "2023-01-18T08:11:13.296728Z",
     "iopub.status.idle": "2023-01-18T08:11:13.306767Z",
     "shell.execute_reply": "2023-01-18T08:11:13.304824Z",
     "shell.execute_reply.started": "2023-01-18T08:11:13.298101Z"
    },
    "tags": []
   },
   "outputs": [],
   "source": [
    "# df['Year'].value_counts()"
   ]
  },
  {
   "cell_type": "code",
   "execution_count": 560,
   "id": "04ce811a-0af3-41c8-a599-53c6ba7d2953",
   "metadata": {
    "execution": {
     "iopub.execute_input": "2023-01-18T08:11:15.584553Z",
     "iopub.status.busy": "2023-01-18T08:11:15.583478Z",
     "iopub.status.idle": "2023-01-18T08:11:15.596459Z",
     "shell.execute_reply": "2023-01-18T08:11:15.595467Z",
     "shell.execute_reply.started": "2023-01-18T08:11:15.584492Z"
    },
    "tags": []
   },
   "outputs": [],
   "source": [
    "# df.columns"
   ]
  },
  {
   "cell_type": "code",
   "execution_count": 561,
   "id": "425357c8-cf14-4baf-a0a7-9cf3cb2b843b",
   "metadata": {
    "execution": {
     "iopub.execute_input": "2023-01-18T08:11:17.619937Z",
     "iopub.status.busy": "2023-01-18T08:11:17.617366Z",
     "iopub.status.idle": "2023-01-18T08:11:17.628369Z",
     "shell.execute_reply": "2023-01-18T08:11:17.627471Z",
     "shell.execute_reply.started": "2023-01-18T08:11:17.619865Z"
    },
    "tags": []
   },
   "outputs": [],
   "source": [
    "# df.columns = [col.lower().replace(' ', '_') for col in df.columns]"
   ]
  },
  {
   "cell_type": "code",
   "execution_count": 562,
   "id": "4fb98e3a-f041-4b35-9305-877c8d783357",
   "metadata": {
    "execution": {
     "iopub.execute_input": "2023-01-18T08:11:19.130195Z",
     "iopub.status.busy": "2023-01-18T08:11:19.128367Z",
     "iopub.status.idle": "2023-01-18T08:11:19.140405Z",
     "shell.execute_reply": "2023-01-18T08:11:19.139760Z",
     "shell.execute_reply.started": "2023-01-18T08:11:19.130129Z"
    },
    "tags": []
   },
   "outputs": [],
   "source": [
    "# df.columns"
   ]
  },
  {
   "cell_type": "code",
   "execution_count": 563,
   "id": "fbdda2b8-f3fe-45a4-bab6-cb2c1a9debb9",
   "metadata": {
    "execution": {
     "iopub.execute_input": "2023-01-18T08:11:21.373246Z",
     "iopub.status.busy": "2023-01-18T08:11:21.372501Z",
     "iopub.status.idle": "2023-01-18T08:11:21.380309Z",
     "shell.execute_reply": "2023-01-18T08:11:21.378361Z",
     "shell.execute_reply.started": "2023-01-18T08:11:21.373203Z"
    },
    "tags": []
   },
   "outputs": [],
   "source": [
    "# df.isna().sum()[df.isna().sum() > 0]"
   ]
  },
  {
   "cell_type": "code",
   "execution_count": 564,
   "id": "4582306e-d8a5-4e25-8fcf-9efb23af1fca",
   "metadata": {
    "execution": {
     "iopub.execute_input": "2023-01-18T08:11:25.301591Z",
     "iopub.status.busy": "2023-01-18T08:11:25.300927Z",
     "iopub.status.idle": "2023-01-18T08:11:25.310006Z",
     "shell.execute_reply": "2023-01-18T08:11:25.309047Z",
     "shell.execute_reply.started": "2023-01-18T08:11:25.301542Z"
    },
    "tags": []
   },
   "outputs": [],
   "source": [
    "# df['completeness_indicator'].value_counts()"
   ]
  },
  {
   "cell_type": "code",
   "execution_count": 565,
   "id": "51b05b6d-5310-4aff-b43b-712b37e9b31b",
   "metadata": {
    "execution": {
     "iopub.execute_input": "2023-01-18T08:11:27.378993Z",
     "iopub.status.busy": "2023-01-18T08:11:27.378546Z",
     "iopub.status.idle": "2023-01-18T08:11:27.384124Z",
     "shell.execute_reply": "2023-01-18T08:11:27.382865Z",
     "shell.execute_reply.started": "2023-01-18T08:11:27.378963Z"
    },
    "tags": []
   },
   "outputs": [],
   "source": [
    "# df.head()"
   ]
  },
  {
   "cell_type": "code",
   "execution_count": 570,
   "id": "71534eb5-fcb5-4c1a-b9ab-765775f3c705",
   "metadata": {
    "execution": {
     "iopub.execute_input": "2023-01-18T08:11:50.320317Z",
     "iopub.status.busy": "2023-01-18T08:11:50.319289Z",
     "iopub.status.idle": "2023-01-18T08:11:50.331124Z",
     "shell.execute_reply": "2023-01-18T08:11:50.329851Z",
     "shell.execute_reply.started": "2023-01-18T08:11:50.320259Z"
    },
    "tags": []
   },
   "outputs": [],
   "source": [
    "# df.shape"
   ]
  },
  {
   "cell_type": "code",
   "execution_count": 571,
   "id": "012cddc6-9520-4de7-89ae-49eb2a0e7140",
   "metadata": {
    "execution": {
     "iopub.execute_input": "2023-01-18T08:11:52.346473Z",
     "iopub.status.busy": "2023-01-18T08:11:52.345946Z",
     "iopub.status.idle": "2023-01-18T08:11:52.359851Z",
     "shell.execute_reply": "2023-01-18T08:11:52.358774Z",
     "shell.execute_reply.started": "2023-01-18T08:11:52.346446Z"
    },
    "tags": []
   },
   "outputs": [],
   "source": [
    "# births = pd.read_csv('data/cdc_cleaned.csv')"
   ]
  },
  {
   "cell_type": "code",
   "execution_count": 572,
   "id": "6a38167a-e957-4c37-8fb7-5d8d9bfa2efa",
   "metadata": {
    "execution": {
     "iopub.execute_input": "2023-01-18T08:11:54.456329Z",
     "iopub.status.busy": "2023-01-18T08:11:54.455459Z",
     "iopub.status.idle": "2023-01-18T08:11:54.463982Z",
     "shell.execute_reply": "2023-01-18T08:11:54.462446Z",
     "shell.execute_reply.started": "2023-01-18T08:11:54.456279Z"
    },
    "tags": []
   },
   "outputs": [],
   "source": [
    "# births.head()"
   ]
  },
  {
   "cell_type": "code",
   "execution_count": 569,
   "id": "e8959568-9a90-4f99-907c-b32fd0c6e3fd",
   "metadata": {
    "execution": {
     "iopub.execute_input": "2023-01-18T08:11:45.965612Z",
     "iopub.status.busy": "2023-01-18T08:11:45.964808Z",
     "iopub.status.idle": "2023-01-18T08:11:45.975007Z",
     "shell.execute_reply": "2023-01-18T08:11:45.974432Z",
     "shell.execute_reply.started": "2023-01-18T08:11:45.965490Z"
    },
    "tags": []
   },
   "outputs": [],
   "source": [
    "# births.shape"
   ]
  },
  {
   "cell_type": "code",
   "execution_count": 568,
   "id": "c9c16049-7806-44b1-a67a-88e5ac06bbed",
   "metadata": {
    "execution": {
     "iopub.execute_input": "2023-01-18T08:11:43.537979Z",
     "iopub.status.busy": "2023-01-18T08:11:43.537622Z",
     "iopub.status.idle": "2023-01-18T08:11:43.540092Z",
     "shell.execute_reply": "2023-01-18T08:11:43.539630Z",
     "shell.execute_reply.started": "2023-01-18T08:11:43.537965Z"
    },
    "tags": []
   },
   "outputs": [],
   "source": [
    "# births.describe()"
   ]
  },
  {
   "cell_type": "code",
   "execution_count": null,
   "id": "e5d61e4e-9054-45c0-afc1-4b8e4ffa3e8c",
   "metadata": {},
   "outputs": [],
   "source": []
  },
  {
   "cell_type": "code",
   "execution_count": 567,
   "id": "d78202bb-3b9a-42d6-92e9-bfa18babab4f",
   "metadata": {
    "execution": {
     "iopub.execute_input": "2023-01-18T08:11:39.907039Z",
     "iopub.status.busy": "2023-01-18T08:11:39.905959Z",
     "iopub.status.idle": "2023-01-18T08:11:39.915311Z",
     "shell.execute_reply": "2023-01-18T08:11:39.913892Z",
     "shell.execute_reply.started": "2023-01-18T08:11:39.906991Z"
    },
    "tags": []
   },
   "outputs": [],
   "source": [
    "# births['year'].value_counts()"
   ]
  },
  {
   "cell_type": "code",
   "execution_count": 566,
   "id": "c4739d08-618d-42f9-9f85-84e07bb36620",
   "metadata": {
    "execution": {
     "iopub.execute_input": "2023-01-18T08:11:36.744409Z",
     "iopub.status.busy": "2023-01-18T08:11:36.743720Z",
     "iopub.status.idle": "2023-01-18T08:11:36.752085Z",
     "shell.execute_reply": "2023-01-18T08:11:36.751180Z",
     "shell.execute_reply.started": "2023-01-18T08:11:36.744360Z"
    },
    "tags": []
   },
   "outputs": [],
   "source": [
    "# set(births[births['year'] == 2007]['county'])"
   ]
  },
  {
   "cell_type": "code",
   "execution_count": 80,
   "id": "a74e372b-e450-4e27-ad4e-a3b0fce9a72a",
   "metadata": {
    "execution": {
     "iopub.execute_input": "2023-01-17T06:03:26.333554Z",
     "iopub.status.busy": "2023-01-17T06:03:26.333443Z",
     "iopub.status.idle": "2023-01-17T06:03:26.336428Z",
     "shell.execute_reply": "2023-01-17T06:03:26.335998Z",
     "shell.execute_reply.started": "2023-01-17T06:03:26.333545Z"
    },
    "tags": []
   },
   "outputs": [],
   "source": [
    "# how many counties from the aqi are also in the cdc data\n",
    "# len(set(aqi['county']).intersection(set(cdc['County'])))"
   ]
  },
  {
   "cell_type": "code",
   "execution_count": 81,
   "id": "d96533b1-7a23-42f5-a49a-f11bf0538f6b",
   "metadata": {
    "execution": {
     "iopub.execute_input": "2023-01-17T06:03:26.337092Z",
     "iopub.status.busy": "2023-01-17T06:03:26.336940Z",
     "iopub.status.idle": "2023-01-17T06:03:26.339014Z",
     "shell.execute_reply": "2023-01-17T06:03:26.338664Z",
     "shell.execute_reply.started": "2023-01-17T06:03:26.337082Z"
    },
    "tags": []
   },
   "outputs": [],
   "source": [
    "# what are the differences\n",
    "#set(aqi['county']).difference(set(cdc['County']))"
   ]
  },
  {
   "cell_type": "markdown",
   "id": "fa844c49-fc68-4a0a-985e-9d995d900e5f",
   "metadata": {
    "tags": []
   },
   "source": [
    "### EPA API Information\n",
    "\n",
    "Look to see if getting more granular data from the API is feasible\n",
    "\n",
    "Your user ID is your email address: mrhurless@gmail.com \n",
    "Your key is: rubymouse94 "
   ]
  },
  {
   "cell_type": "code",
   "execution_count": 82,
   "id": "537762f0-5dee-4bec-ae0c-2f620cc624bc",
   "metadata": {
    "execution": {
     "iopub.execute_input": "2023-01-17T06:03:26.339580Z",
     "iopub.status.busy": "2023-01-17T06:03:26.339473Z",
     "iopub.status.idle": "2023-01-17T06:03:26.341454Z",
     "shell.execute_reply": "2023-01-17T06:03:26.341163Z",
     "shell.execute_reply.started": "2023-01-17T06:03:26.339571Z"
    }
   },
   "outputs": [],
   "source": [
    "# import requests"
   ]
  },
  {
   "cell_type": "code",
   "execution_count": 83,
   "id": "419d546d-5f0d-40d9-9c8d-15d9bdf31905",
   "metadata": {
    "execution": {
     "iopub.execute_input": "2023-01-17T06:03:26.342087Z",
     "iopub.status.busy": "2023-01-17T06:03:26.341972Z",
     "iopub.status.idle": "2023-01-17T06:03:26.344224Z",
     "shell.execute_reply": "2023-01-17T06:03:26.343904Z",
     "shell.execute_reply.started": "2023-01-17T06:03:26.342078Z"
    },
    "tags": []
   },
   "outputs": [],
   "source": [
    "# email = 'mrhurless@gmail.com'\n",
    "# key = 'rubymouse94'\n",
    "\n",
    "# url = f'https://aqs.epa.gov/data/api/list/parametersByClass?email={email}&key={key}&pc=CRITERIA'\n",
    "\n",
    "# res = requests.get(url)\n",
    "\n",
    "# res.status_code"
   ]
  },
  {
   "cell_type": "code",
   "execution_count": 84,
   "id": "2f8a816e-6c4a-42af-be96-827413586eac",
   "metadata": {
    "execution": {
     "iopub.execute_input": "2023-01-17T06:03:26.344853Z",
     "iopub.status.busy": "2023-01-17T06:03:26.344750Z",
     "iopub.status.idle": "2023-01-17T06:03:26.346846Z",
     "shell.execute_reply": "2023-01-17T06:03:26.346556Z",
     "shell.execute_reply.started": "2023-01-17T06:03:26.344844Z"
    }
   },
   "outputs": [],
   "source": [
    "# # from https://stackoverflow.com/questions/71603314/ssl-error-unsafe-legacy-renegotiation-disabled\n",
    "\n",
    "# import urllib3\n",
    "# import ssl\n",
    "\n",
    "# class CustomHttpAdapter (requests.adapters.HTTPAdapter):\n",
    "#     # \"Transport adapter\" that allows us to use custom ssl_context.\n",
    "\n",
    "#     def __init__(self, ssl_context=None, **kwargs):\n",
    "#         self.ssl_context = ssl_context\n",
    "#         super().__init__(**kwargs)\n",
    "\n",
    "#     def init_poolmanager(self, connections, maxsize, block=False):\n",
    "#         self.poolmanager = urllib3.poolmanager.PoolManager(\n",
    "#             num_pools=connections, maxsize=maxsize,\n",
    "#             block=block, ssl_context=self.ssl_context)\n",
    "\n",
    "\n",
    "# def get_legacy_session():\n",
    "#     ctx = ssl.create_default_context(ssl.Purpose.SERVER_AUTH)\n",
    "#     ctx.options |= 0x4  # OP_LEGACY_SERVER_CONNECT\n",
    "#     session = requests.session()\n",
    "#     session.mount('https://', CustomHttpAdapter(ctx))\n",
    "#     return session"
   ]
  },
  {
   "cell_type": "code",
   "execution_count": 85,
   "id": "9335456c-877a-4198-8087-ceadc9e35f81",
   "metadata": {
    "execution": {
     "iopub.execute_input": "2023-01-17T06:03:26.347570Z",
     "iopub.status.busy": "2023-01-17T06:03:26.347424Z",
     "iopub.status.idle": "2023-01-17T06:03:26.349396Z",
     "shell.execute_reply": "2023-01-17T06:03:26.349064Z",
     "shell.execute_reply.started": "2023-01-17T06:03:26.347560Z"
    }
   },
   "outputs": [],
   "source": [
    "# res = get_legacy_session().get(url)"
   ]
  },
  {
   "cell_type": "code",
   "execution_count": null,
   "id": "d3bcf3ad-2813-4943-ab7f-ab794892de9f",
   "metadata": {},
   "outputs": [],
   "source": []
  },
  {
   "cell_type": "code",
   "execution_count": 573,
   "id": "85467adb-d25e-4205-a9b7-d25e66ec045d",
   "metadata": {
    "execution": {
     "iopub.execute_input": "2023-01-18T08:12:05.047041Z",
     "iopub.status.busy": "2023-01-18T08:12:05.046220Z",
     "iopub.status.idle": "2023-01-18T08:12:05.058957Z",
     "shell.execute_reply": "2023-01-18T08:12:05.057823Z",
     "shell.execute_reply.started": "2023-01-18T08:12:05.046992Z"
    },
    "tags": []
   },
   "outputs": [],
   "source": [
    "# def get_aqi():\n",
    "#     creds = ('mhurless@me.com', '0n3L0v3#')\n",
    "#     email = 'mrhurless@gmail.com'\n",
    "#     key = 'rubymouse94'\n",
    "#     all_posts = []\n",
    "    \n",
    "#     url = \"https://support.brightsign.biz/api/v2/community/posts\"\n",
    "    \n",
    "#     res = requests.get(url, auth=creds)\n",
    "    \n",
    "#     # get data other than posts data\n",
    "#     metadata = {\n",
    "#                 key: value for key, value in res.json().items() \n",
    "#                 if key != 'posts'\n",
    "#             }\n",
    "    \n",
    "#     last_page = metadata['page_count']\n",
    "#     current_page = metadata['page']\n",
    "    \n",
    "#     #count = 0 #keep track of posts # don't think this is needed with this\n",
    "#     # approach\n",
    "\n",
    "#     # goal is to get posts from all pages, so we'll check if we've reached \n",
    "#     # the last page, but will also put in a catch for the rate limit as \n",
    "#     # mentioned by the API docs\n",
    "    \n",
    "#     while current_page <= last_page:\n",
    "#         res = requests.get(url, auth=creds)\n",
    "\n",
    "#         if res.status_code == 200:\n",
    "#             posts = pd.DataFrame(res.json()['posts'])\n",
    "#             metadata = {\n",
    "#                 key: value for key, value in res.json().items() \n",
    "#                 if key != 'posts'\n",
    "#             }\n",
    "            \n",
    "#             # update current page\n",
    "#             current_page = metadata['page']\n",
    "            \n",
    "#             # update URL to pull posts from next page\n",
    "#             url = metadata['next_page']\n",
    "\n",
    "#             all_posts.append(posts)\n",
    "            \n",
    "#             #sleep(5)\n",
    "\n",
    "#             if metadata['page'] == metadata['page_count']: \n",
    "#                 break #break loop if last page is reached\n",
    "\n",
    "#             #get sequential posts from most recent to least    \n",
    "#             #params['before'] = posts['created_utc'].min()\n",
    "#         elif res.status_code == 429:\n",
    "#             sleep(res.headers['retry-after'])\n",
    "#         else:\n",
    "#             print(f'status: {res.status_code}')  \n",
    "#     print(f'posts retrieved from API: {len(all_posts)}')\n",
    "\n",
    "#     return pd.concat(all_posts)"
   ]
  },
  {
   "cell_type": "code",
   "execution_count": null,
   "id": "15e16d1a-67f5-4aa8-8304-90c8ac1d0eaf",
   "metadata": {},
   "outputs": [],
   "source": []
  }
 ],
 "metadata": {
  "kernelspec": {
   "display_name": "Python 3 (ipykernel)",
   "language": "python",
   "name": "python3"
  },
  "language_info": {
   "codemirror_mode": {
    "name": "ipython",
    "version": 3
   },
   "file_extension": ".py",
   "mimetype": "text/x-python",
   "name": "python",
   "nbconvert_exporter": "python",
   "pygments_lexer": "ipython3",
   "version": "3.8.8"
  },
  "toc-autonumbering": false,
  "toc-showcode": false,
  "toc-showmarkdowntxt": false,
  "toc-showtags": false
 },
 "nbformat": 4,
 "nbformat_minor": 5
}
