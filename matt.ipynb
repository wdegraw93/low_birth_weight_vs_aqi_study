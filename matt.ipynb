{
 "cells": [
  {
   "cell_type": "markdown",
   "id": "bb87ac76-6e5a-4bb9-b4c4-5ef88304c3c7",
   "metadata": {},
   "source": [
    "# Data Collection and Cleaning"
   ]
  },
  {
   "cell_type": "markdown",
   "id": "eeeea78f-9b61-4564-b6b1-6e5132edf148",
   "metadata": {},
   "source": [
    "Data has been collected from both the EPA for Air Quality Index data and from the CDC for birth data relating to weight.  "
   ]
  },
  {
   "cell_type": "markdown",
   "id": "ddde48d8-8b2c-4ccf-ac47-16333269d8ac",
   "metadata": {},
   "source": [
    "## Imports"
   ]
  },
  {
   "cell_type": "code",
   "execution_count": 1,
   "id": "b78cde8d-490d-4f0a-8843-b65070799d81",
   "metadata": {
    "tags": []
   },
   "outputs": [],
   "source": [
    "import pandas as pd\n",
    "import numpy as np\n",
    "import matplotlib.pyplot as plt\n",
    "import seaborn as sns\n",
    "\n",
    "from pathlib import Path"
   ]
  },
  {
   "cell_type": "markdown",
   "id": "3fb70775-2797-4998-aff2-54b85c1e471c",
   "metadata": {},
   "source": [
    "## Data"
   ]
  },
  {
   "cell_type": "markdown",
   "id": "38dc7b5b-6af5-4cb6-adda-b35c38f224d2",
   "metadata": {},
   "source": [
    "### EPA AQI Data"
   ]
  },
  {
   "cell_type": "markdown",
   "id": "7b462df9-11de-456e-9b3c-176e3ec2b489",
   "metadata": {},
   "source": [
    "The air quality data was downloaded from https://aqs.epa.gov/aqsweb/airdata/download_files.html#Annual as files containing annual data from years 2016-2021.  We are combining these CSV files into a single dataframe and will evaluate whether it will meet the needs for the project, or whether data will need to be collected through the API that the EPA offers for AirData."
   ]
  },
  {
   "cell_type": "code",
   "execution_count": 290,
   "id": "7b8cfe0a-0b74-46d1-b8e9-e02cd795ca07",
   "metadata": {
    "execution": {
     "iopub.execute_input": "2023-01-16T19:12:01.146499Z",
     "iopub.status.busy": "2023-01-16T19:12:01.146342Z",
     "iopub.status.idle": "2023-01-16T19:12:01.410228Z",
     "shell.execute_reply": "2023-01-16T19:12:01.409897Z",
     "shell.execute_reply.started": "2023-01-16T19:12:01.146489Z"
    },
    "tags": []
   },
   "outputs": [],
   "source": [
    "# code from Winston merged with approach from\n",
    "# https://towardsdatascience.com/pandas-concat-tricks-you-should-know-to-speed-up-your-data-analysis-cd3d4fdfe6dd\n",
    "\n",
    "data_path = Path('data/')\n",
    "\n",
    "# create a list of all the AQI csv files\n",
    "dfs = (\n",
    "    pd.read_csv(file) for file in data_path.glob('*aqi*') if file.is_file()\n",
    ")\n",
    "\n",
    "# concatenate the dataframes\n",
    "res = pd.concat(dfs)\n",
    "\n",
    "# export the final csv\n",
    "res.to_csv('data/aqi_by_year_2006-2021.csv', index=False)"
   ]
  },
  {
   "cell_type": "markdown",
   "id": "e1313cd6-657f-4ba5-b71c-9af1c6981e3d",
   "metadata": {},
   "source": [
    "Read the final CSV for all the AQI data"
   ]
  },
  {
   "cell_type": "code",
   "execution_count": 2,
   "id": "04e99e09-da9f-4496-82c4-0e30295776c5",
   "metadata": {
    "tags": []
   },
   "outputs": [],
   "source": [
    "aqi = pd.read_csv('data/aqi_by_year_2006-2021.csv')"
   ]
  },
  {
   "cell_type": "code",
   "execution_count": 3,
   "id": "6ebe28d0-0354-46a5-8f81-6b4ffb180d21",
   "metadata": {
    "tags": []
   },
   "outputs": [
    {
     "data": {
      "text/html": [
       "<div>\n",
       "<style scoped>\n",
       "    .dataframe tbody tr th:only-of-type {\n",
       "        vertical-align: middle;\n",
       "    }\n",
       "\n",
       "    .dataframe tbody tr th {\n",
       "        vertical-align: top;\n",
       "    }\n",
       "\n",
       "    .dataframe thead th {\n",
       "        text-align: right;\n",
       "    }\n",
       "</style>\n",
       "<table border=\"1\" class=\"dataframe\">\n",
       "  <thead>\n",
       "    <tr style=\"text-align: right;\">\n",
       "      <th></th>\n",
       "      <th>state</th>\n",
       "      <th>county</th>\n",
       "      <th>year</th>\n",
       "      <th>days_with_aqi</th>\n",
       "      <th>good_days</th>\n",
       "      <th>moderate_days</th>\n",
       "      <th>unhealthy_for_sensitive_groups_days</th>\n",
       "      <th>unhealthy_days</th>\n",
       "      <th>very_unhealthy_days</th>\n",
       "      <th>hazardous_days</th>\n",
       "      <th>max_aqi</th>\n",
       "      <th>90th_percentile_aqi</th>\n",
       "      <th>median_aqi</th>\n",
       "      <th>days_co</th>\n",
       "      <th>days_no2</th>\n",
       "      <th>days_ozone</th>\n",
       "      <th>days_pm2.5</th>\n",
       "      <th>days_pm10</th>\n",
       "    </tr>\n",
       "  </thead>\n",
       "  <tbody>\n",
       "    <tr>\n",
       "      <th>0</th>\n",
       "      <td>Alabama</td>\n",
       "      <td>Baldwin</td>\n",
       "      <td>2006</td>\n",
       "      <td>280</td>\n",
       "      <td>174</td>\n",
       "      <td>81</td>\n",
       "      <td>24</td>\n",
       "      <td>1</td>\n",
       "      <td>0</td>\n",
       "      <td>0</td>\n",
       "      <td>156</td>\n",
       "      <td>97</td>\n",
       "      <td>46</td>\n",
       "      <td>0</td>\n",
       "      <td>0</td>\n",
       "      <td>219</td>\n",
       "      <td>61</td>\n",
       "      <td>0</td>\n",
       "    </tr>\n",
       "    <tr>\n",
       "      <th>1</th>\n",
       "      <td>Alabama</td>\n",
       "      <td>Barbour</td>\n",
       "      <td>2006</td>\n",
       "      <td>11</td>\n",
       "      <td>6</td>\n",
       "      <td>5</td>\n",
       "      <td>0</td>\n",
       "      <td>0</td>\n",
       "      <td>0</td>\n",
       "      <td>0</td>\n",
       "      <td>77</td>\n",
       "      <td>63</td>\n",
       "      <td>35</td>\n",
       "      <td>0</td>\n",
       "      <td>0</td>\n",
       "      <td>0</td>\n",
       "      <td>11</td>\n",
       "      <td>0</td>\n",
       "    </tr>\n",
       "    <tr>\n",
       "      <th>2</th>\n",
       "      <td>Alabama</td>\n",
       "      <td>Clay</td>\n",
       "      <td>2006</td>\n",
       "      <td>286</td>\n",
       "      <td>165</td>\n",
       "      <td>112</td>\n",
       "      <td>9</td>\n",
       "      <td>0</td>\n",
       "      <td>0</td>\n",
       "      <td>0</td>\n",
       "      <td>140</td>\n",
       "      <td>80</td>\n",
       "      <td>48</td>\n",
       "      <td>0</td>\n",
       "      <td>0</td>\n",
       "      <td>201</td>\n",
       "      <td>85</td>\n",
       "      <td>0</td>\n",
       "    </tr>\n",
       "    <tr>\n",
       "      <th>3</th>\n",
       "      <td>Alabama</td>\n",
       "      <td>Colbert</td>\n",
       "      <td>2006</td>\n",
       "      <td>282</td>\n",
       "      <td>180</td>\n",
       "      <td>95</td>\n",
       "      <td>7</td>\n",
       "      <td>0</td>\n",
       "      <td>0</td>\n",
       "      <td>0</td>\n",
       "      <td>129</td>\n",
       "      <td>74</td>\n",
       "      <td>45</td>\n",
       "      <td>0</td>\n",
       "      <td>0</td>\n",
       "      <td>191</td>\n",
       "      <td>91</td>\n",
       "      <td>0</td>\n",
       "    </tr>\n",
       "    <tr>\n",
       "      <th>4</th>\n",
       "      <td>Alabama</td>\n",
       "      <td>DeKalb</td>\n",
       "      <td>2006</td>\n",
       "      <td>363</td>\n",
       "      <td>215</td>\n",
       "      <td>133</td>\n",
       "      <td>15</td>\n",
       "      <td>0</td>\n",
       "      <td>0</td>\n",
       "      <td>0</td>\n",
       "      <td>140</td>\n",
       "      <td>84</td>\n",
       "      <td>47</td>\n",
       "      <td>0</td>\n",
       "      <td>0</td>\n",
       "      <td>303</td>\n",
       "      <td>60</td>\n",
       "      <td>0</td>\n",
       "    </tr>\n",
       "  </tbody>\n",
       "</table>\n",
       "</div>"
      ],
      "text/plain": [
       "     state   county  year  days_with_aqi  good_days  moderate_days  \\\n",
       "0  Alabama  Baldwin  2006            280        174             81   \n",
       "1  Alabama  Barbour  2006             11          6              5   \n",
       "2  Alabama     Clay  2006            286        165            112   \n",
       "3  Alabama  Colbert  2006            282        180             95   \n",
       "4  Alabama   DeKalb  2006            363        215            133   \n",
       "\n",
       "   unhealthy_for_sensitive_groups_days  unhealthy_days  very_unhealthy_days  \\\n",
       "0                                   24               1                    0   \n",
       "1                                    0               0                    0   \n",
       "2                                    9               0                    0   \n",
       "3                                    7               0                    0   \n",
       "4                                   15               0                    0   \n",
       "\n",
       "   hazardous_days  max_aqi  90th_percentile_aqi  median_aqi  days_co  \\\n",
       "0               0      156                   97          46        0   \n",
       "1               0       77                   63          35        0   \n",
       "2               0      140                   80          48        0   \n",
       "3               0      129                   74          45        0   \n",
       "4               0      140                   84          47        0   \n",
       "\n",
       "   days_no2  days_ozone  days_pm2.5  days_pm10  \n",
       "0         0         219          61          0  \n",
       "1         0           0          11          0  \n",
       "2         0         201          85          0  \n",
       "3         0         191          91          0  \n",
       "4         0         303          60          0  "
      ]
     },
     "execution_count": 3,
     "metadata": {},
     "output_type": "execute_result"
    }
   ],
   "source": [
    "aqi.head()"
   ]
  },
  {
   "cell_type": "code",
   "execution_count": 4,
   "id": "64e70772-1680-42f0-81dc-2e5b71be9400",
   "metadata": {
    "tags": []
   },
   "outputs": [
    {
     "data": {
      "text/plain": [
       "Index(['state', 'county', 'year', 'days_with_aqi', 'good_days',\n",
       "       'moderate_days', 'unhealthy_for_sensitive_groups_days',\n",
       "       'unhealthy_days', 'very_unhealthy_days', 'hazardous_days', 'max_aqi',\n",
       "       '90th_percentile_aqi', 'median_aqi', 'days_co', 'days_no2',\n",
       "       'days_ozone', 'days_pm2.5', 'days_pm10'],\n",
       "      dtype='object')"
      ]
     },
     "execution_count": 4,
     "metadata": {},
     "output_type": "execute_result"
    }
   ],
   "source": [
    "aqi.columns"
   ]
  },
  {
   "cell_type": "code",
   "execution_count": 5,
   "id": "f1414960-e9f4-4111-bba0-3a77690b24c6",
   "metadata": {
    "tags": []
   },
   "outputs": [
    {
     "data": {
      "text/plain": [
       "(16751, 18)"
      ]
     },
     "execution_count": 5,
     "metadata": {},
     "output_type": "execute_result"
    }
   ],
   "source": [
    "aqi.shape"
   ]
  },
  {
   "cell_type": "code",
   "execution_count": 6,
   "id": "ef6b8b82-0da7-445c-bd47-8b3ab696f9de",
   "metadata": {
    "tags": []
   },
   "outputs": [
    {
     "data": {
      "text/plain": [
       "state                                  object\n",
       "county                                 object\n",
       "year                                    int64\n",
       "days_with_aqi                           int64\n",
       "good_days                               int64\n",
       "moderate_days                           int64\n",
       "unhealthy_for_sensitive_groups_days     int64\n",
       "unhealthy_days                          int64\n",
       "very_unhealthy_days                     int64\n",
       "hazardous_days                          int64\n",
       "max_aqi                                 int64\n",
       "90th_percentile_aqi                     int64\n",
       "median_aqi                              int64\n",
       "days_co                                 int64\n",
       "days_no2                                int64\n",
       "days_ozone                              int64\n",
       "days_pm2.5                              int64\n",
       "days_pm10                               int64\n",
       "dtype: object"
      ]
     },
     "execution_count": 6,
     "metadata": {},
     "output_type": "execute_result"
    }
   ],
   "source": [
    "aqi.dtypes"
   ]
  },
  {
   "cell_type": "code",
   "execution_count": 296,
   "id": "8a711741-3952-4bca-9de2-475d5e2e7503",
   "metadata": {
    "execution": {
     "iopub.execute_input": "2023-01-16T19:12:01.498140Z",
     "iopub.status.busy": "2023-01-16T19:12:01.498014Z",
     "iopub.status.idle": "2023-01-16T19:12:01.500429Z",
     "shell.execute_reply": "2023-01-16T19:12:01.500097Z",
     "shell.execute_reply.started": "2023-01-16T19:12:01.498130Z"
    }
   },
   "outputs": [],
   "source": [
    "aqi.columns = [col.lower().replace(' ', '_') for col in aqi.columns]"
   ]
  },
  {
   "cell_type": "code",
   "execution_count": 297,
   "id": "7a4b7186-6c7d-4764-8fb2-3a0e42717e04",
   "metadata": {
    "execution": {
     "iopub.execute_input": "2023-01-16T19:12:01.502071Z",
     "iopub.status.busy": "2023-01-16T19:12:01.501952Z",
     "iopub.status.idle": "2023-01-16T19:12:01.504806Z",
     "shell.execute_reply": "2023-01-16T19:12:01.504526Z",
     "shell.execute_reply.started": "2023-01-16T19:12:01.502062Z"
    }
   },
   "outputs": [
    {
     "data": {
      "text/plain": [
       "Index(['state', 'county', 'year', 'days_with_aqi', 'good_days',\n",
       "       'moderate_days', 'unhealthy_for_sensitive_groups_days',\n",
       "       'unhealthy_days', 'very_unhealthy_days', 'hazardous_days', 'max_aqi',\n",
       "       '90th_percentile_aqi', 'median_aqi', 'days_co', 'days_no2',\n",
       "       'days_ozone', 'days_pm2.5', 'days_pm10'],\n",
       "      dtype='object')"
      ]
     },
     "execution_count": 297,
     "metadata": {},
     "output_type": "execute_result"
    }
   ],
   "source": [
    "aqi.columns"
   ]
  },
  {
   "cell_type": "code",
   "execution_count": 7,
   "id": "a6645beb-d1e7-4836-b79c-47d4338b3845",
   "metadata": {
    "tags": []
   },
   "outputs": [
    {
     "data": {
      "text/plain": [
       "state                                  0\n",
       "county                                 0\n",
       "year                                   0\n",
       "days_with_aqi                          0\n",
       "good_days                              0\n",
       "moderate_days                          0\n",
       "unhealthy_for_sensitive_groups_days    0\n",
       "unhealthy_days                         0\n",
       "very_unhealthy_days                    0\n",
       "hazardous_days                         0\n",
       "max_aqi                                0\n",
       "90th_percentile_aqi                    0\n",
       "median_aqi                             0\n",
       "days_co                                0\n",
       "days_no2                               0\n",
       "days_ozone                             0\n",
       "days_pm2.5                             0\n",
       "days_pm10                              0\n",
       "dtype: int64"
      ]
     },
     "execution_count": 7,
     "metadata": {},
     "output_type": "execute_result"
    }
   ],
   "source": [
    "aqi.isnull().sum()"
   ]
  },
  {
   "cell_type": "code",
   "execution_count": 8,
   "id": "4c1ff902-a36d-4951-99d8-29596f4da118",
   "metadata": {
    "tags": []
   },
   "outputs": [
    {
     "data": {
      "text/plain": [
       "state      55\n",
       "county    913\n",
       "dtype: int64"
      ]
     },
     "execution_count": 8,
     "metadata": {},
     "output_type": "execute_result"
    }
   ],
   "source": [
    "aqi[['state', 'county']].nunique()"
   ]
  },
  {
   "cell_type": "code",
   "execution_count": 300,
   "id": "52bfdff0-464d-4a86-a747-62b64d8d4fbb",
   "metadata": {
    "execution": {
     "iopub.execute_input": "2023-01-16T19:12:01.532316Z",
     "iopub.status.busy": "2023-01-16T19:12:01.532215Z",
     "iopub.status.idle": "2023-01-16T19:12:01.537908Z",
     "shell.execute_reply": "2023-01-16T19:12:01.537461Z",
     "shell.execute_reply.started": "2023-01-16T19:12:01.532307Z"
    }
   },
   "outputs": [
    {
     "data": {
      "text/plain": [
       "array(['Alabama', 'Alaska', 'Arizona', 'Arkansas', 'California',\n",
       "       'Colorado', 'Connecticut', 'Country Of Mexico', 'Delaware',\n",
       "       'District Of Columbia', 'Florida', 'Georgia', 'Hawaii', 'Idaho',\n",
       "       'Illinois', 'Indiana', 'Iowa', 'Kansas', 'Kentucky', 'Louisiana',\n",
       "       'Maine', 'Maryland', 'Massachusetts', 'Michigan', 'Minnesota',\n",
       "       'Mississippi', 'Missouri', 'Montana', 'Nebraska', 'Nevada',\n",
       "       'New Hampshire', 'New Jersey', 'New Mexico', 'New York',\n",
       "       'North Carolina', 'North Dakota', 'Ohio', 'Oklahoma', 'Oregon',\n",
       "       'Pennsylvania', 'Puerto Rico', 'Rhode Island', 'South Carolina',\n",
       "       'South Dakota', 'Tennessee', 'Texas', 'Utah', 'Vermont',\n",
       "       'Virgin Islands', 'Virginia', 'Washington', 'West Virginia',\n",
       "       'Wisconsin', 'Wyoming', 'Canada'], dtype=object)"
      ]
     },
     "execution_count": 300,
     "metadata": {},
     "output_type": "execute_result"
    }
   ],
   "source": [
    "aqi['state'].unique()"
   ]
  },
  {
   "cell_type": "markdown",
   "id": "dcbb4d61-26a3-4443-ac0f-673f5136857a",
   "metadata": {},
   "source": [
    "May want to drop locations such as:\n",
    "* Country of Mexico\n",
    "* Puerto Rico\n",
    "* Virgin Islands\n",
    "* Canada"
   ]
  },
  {
   "cell_type": "code",
   "execution_count": 484,
   "id": "fbddd4dc-8700-4ab4-8c7e-d39130143e78",
   "metadata": {
    "execution": {
     "iopub.execute_input": "2023-01-17T00:47:29.466019Z",
     "iopub.status.busy": "2023-01-17T00:47:29.464754Z",
     "iopub.status.idle": "2023-01-17T00:47:29.476600Z",
     "shell.execute_reply": "2023-01-17T00:47:29.475736Z",
     "shell.execute_reply.started": "2023-01-17T00:47:29.465953Z"
    },
    "tags": []
   },
   "outputs": [],
   "source": [
    "# aqi['county'].unique()"
   ]
  },
  {
   "cell_type": "code",
   "execution_count": 302,
   "id": "c2ab3401-7a3b-4145-be1b-e2590ef29c6b",
   "metadata": {
    "execution": {
     "iopub.execute_input": "2023-01-16T19:12:01.549872Z",
     "iopub.status.busy": "2023-01-16T19:12:01.549725Z",
     "iopub.status.idle": "2023-01-16T19:12:01.597864Z",
     "shell.execute_reply": "2023-01-16T19:12:01.597564Z",
     "shell.execute_reply.started": "2023-01-16T19:12:01.549862Z"
    }
   },
   "outputs": [
    {
     "data": {
      "text/html": [
       "<div>\n",
       "<style scoped>\n",
       "    .dataframe tbody tr th:only-of-type {\n",
       "        vertical-align: middle;\n",
       "    }\n",
       "\n",
       "    .dataframe tbody tr th {\n",
       "        vertical-align: top;\n",
       "    }\n",
       "\n",
       "    .dataframe thead th {\n",
       "        text-align: right;\n",
       "    }\n",
       "</style>\n",
       "<table border=\"1\" class=\"dataframe\">\n",
       "  <thead>\n",
       "    <tr style=\"text-align: right;\">\n",
       "      <th></th>\n",
       "      <th>year</th>\n",
       "      <th>days_with_aqi</th>\n",
       "      <th>good_days</th>\n",
       "      <th>moderate_days</th>\n",
       "      <th>unhealthy_for_sensitive_groups_days</th>\n",
       "      <th>unhealthy_days</th>\n",
       "      <th>very_unhealthy_days</th>\n",
       "      <th>hazardous_days</th>\n",
       "      <th>max_aqi</th>\n",
       "      <th>90th_percentile_aqi</th>\n",
       "      <th>median_aqi</th>\n",
       "      <th>days_co</th>\n",
       "      <th>days_no2</th>\n",
       "      <th>days_ozone</th>\n",
       "      <th>days_pm2.5</th>\n",
       "      <th>days_pm10</th>\n",
       "    </tr>\n",
       "  </thead>\n",
       "  <tbody>\n",
       "    <tr>\n",
       "      <th>count</th>\n",
       "      <td>67004.000000</td>\n",
       "      <td>67004.000000</td>\n",
       "      <td>67004.000000</td>\n",
       "      <td>67004.000000</td>\n",
       "      <td>67004.000000</td>\n",
       "      <td>67004.000000</td>\n",
       "      <td>67004.000000</td>\n",
       "      <td>67004.000000</td>\n",
       "      <td>67004.000000</td>\n",
       "      <td>67004.000000</td>\n",
       "      <td>67004.000000</td>\n",
       "      <td>67004.000000</td>\n",
       "      <td>67004.000000</td>\n",
       "      <td>67004.000000</td>\n",
       "      <td>67004.000000</td>\n",
       "      <td>67004.000000</td>\n",
       "    </tr>\n",
       "    <tr>\n",
       "      <th>mean</th>\n",
       "      <td>2013.378843</td>\n",
       "      <td>304.818220</td>\n",
       "      <td>233.813563</td>\n",
       "      <td>64.906215</td>\n",
       "      <td>5.033132</td>\n",
       "      <td>0.920542</td>\n",
       "      <td>0.095994</td>\n",
       "      <td>0.048773</td>\n",
       "      <td>127.183750</td>\n",
       "      <td>61.495553</td>\n",
       "      <td>37.474599</td>\n",
       "      <td>1.425766</td>\n",
       "      <td>6.699361</td>\n",
       "      <td>169.352039</td>\n",
       "      <td>112.846815</td>\n",
       "      <td>14.494239</td>\n",
       "    </tr>\n",
       "    <tr>\n",
       "      <th>std</th>\n",
       "      <td>4.607741</td>\n",
       "      <td>91.250018</td>\n",
       "      <td>83.796399</td>\n",
       "      <td>51.876641</td>\n",
       "      <td>10.433193</td>\n",
       "      <td>4.054840</td>\n",
       "      <td>1.104150</td>\n",
       "      <td>0.679983</td>\n",
       "      <td>221.864532</td>\n",
       "      <td>19.566246</td>\n",
       "      <td>11.121876</td>\n",
       "      <td>15.505884</td>\n",
       "      <td>26.626785</td>\n",
       "      <td>119.842252</td>\n",
       "      <td>110.158157</td>\n",
       "      <td>53.624306</td>\n",
       "    </tr>\n",
       "    <tr>\n",
       "      <th>min</th>\n",
       "      <td>2006.000000</td>\n",
       "      <td>1.000000</td>\n",
       "      <td>1.000000</td>\n",
       "      <td>0.000000</td>\n",
       "      <td>0.000000</td>\n",
       "      <td>0.000000</td>\n",
       "      <td>0.000000</td>\n",
       "      <td>0.000000</td>\n",
       "      <td>8.000000</td>\n",
       "      <td>5.000000</td>\n",
       "      <td>1.000000</td>\n",
       "      <td>0.000000</td>\n",
       "      <td>0.000000</td>\n",
       "      <td>0.000000</td>\n",
       "      <td>0.000000</td>\n",
       "      <td>0.000000</td>\n",
       "    </tr>\n",
       "    <tr>\n",
       "      <th>25%</th>\n",
       "      <td>2009.000000</td>\n",
       "      <td>248.000000</td>\n",
       "      <td>176.000000</td>\n",
       "      <td>25.000000</td>\n",
       "      <td>0.000000</td>\n",
       "      <td>0.000000</td>\n",
       "      <td>0.000000</td>\n",
       "      <td>0.000000</td>\n",
       "      <td>89.000000</td>\n",
       "      <td>50.000000</td>\n",
       "      <td>33.000000</td>\n",
       "      <td>0.000000</td>\n",
       "      <td>0.000000</td>\n",
       "      <td>0.000000</td>\n",
       "      <td>0.000000</td>\n",
       "      <td>0.000000</td>\n",
       "    </tr>\n",
       "    <tr>\n",
       "      <th>50%</th>\n",
       "      <td>2013.000000</td>\n",
       "      <td>360.000000</td>\n",
       "      <td>249.000000</td>\n",
       "      <td>53.000000</td>\n",
       "      <td>1.000000</td>\n",
       "      <td>0.000000</td>\n",
       "      <td>0.000000</td>\n",
       "      <td>0.000000</td>\n",
       "      <td>112.000000</td>\n",
       "      <td>59.000000</td>\n",
       "      <td>39.000000</td>\n",
       "      <td>0.000000</td>\n",
       "      <td>0.000000</td>\n",
       "      <td>185.000000</td>\n",
       "      <td>93.000000</td>\n",
       "      <td>0.000000</td>\n",
       "    </tr>\n",
       "    <tr>\n",
       "      <th>75%</th>\n",
       "      <td>2017.000000</td>\n",
       "      <td>365.000000</td>\n",
       "      <td>304.000000</td>\n",
       "      <td>93.000000</td>\n",
       "      <td>6.000000</td>\n",
       "      <td>0.000000</td>\n",
       "      <td>0.000000</td>\n",
       "      <td>0.000000</td>\n",
       "      <td>145.000000</td>\n",
       "      <td>71.000000</td>\n",
       "      <td>44.000000</td>\n",
       "      <td>0.000000</td>\n",
       "      <td>0.000000</td>\n",
       "      <td>245.000000</td>\n",
       "      <td>183.000000</td>\n",
       "      <td>1.000000</td>\n",
       "    </tr>\n",
       "    <tr>\n",
       "      <th>max</th>\n",
       "      <td>2021.000000</td>\n",
       "      <td>366.000000</td>\n",
       "      <td>365.000000</td>\n",
       "      <td>339.000000</td>\n",
       "      <td>122.000000</td>\n",
       "      <td>92.000000</td>\n",
       "      <td>74.000000</td>\n",
       "      <td>37.000000</td>\n",
       "      <td>14043.000000</td>\n",
       "      <td>306.000000</td>\n",
       "      <td>132.000000</td>\n",
       "      <td>365.000000</td>\n",
       "      <td>365.000000</td>\n",
       "      <td>366.000000</td>\n",
       "      <td>366.000000</td>\n",
       "      <td>366.000000</td>\n",
       "    </tr>\n",
       "  </tbody>\n",
       "</table>\n",
       "</div>"
      ],
      "text/plain": [
       "               year  days_with_aqi     good_days  moderate_days  \\\n",
       "count  67004.000000   67004.000000  67004.000000   67004.000000   \n",
       "mean    2013.378843     304.818220    233.813563      64.906215   \n",
       "std        4.607741      91.250018     83.796399      51.876641   \n",
       "min     2006.000000       1.000000      1.000000       0.000000   \n",
       "25%     2009.000000     248.000000    176.000000      25.000000   \n",
       "50%     2013.000000     360.000000    249.000000      53.000000   \n",
       "75%     2017.000000     365.000000    304.000000      93.000000   \n",
       "max     2021.000000     366.000000    365.000000     339.000000   \n",
       "\n",
       "       unhealthy_for_sensitive_groups_days  unhealthy_days  \\\n",
       "count                         67004.000000    67004.000000   \n",
       "mean                              5.033132        0.920542   \n",
       "std                              10.433193        4.054840   \n",
       "min                               0.000000        0.000000   \n",
       "25%                               0.000000        0.000000   \n",
       "50%                               1.000000        0.000000   \n",
       "75%                               6.000000        0.000000   \n",
       "max                             122.000000       92.000000   \n",
       "\n",
       "       very_unhealthy_days  hazardous_days       max_aqi  90th_percentile_aqi  \\\n",
       "count         67004.000000    67004.000000  67004.000000         67004.000000   \n",
       "mean              0.095994        0.048773    127.183750            61.495553   \n",
       "std               1.104150        0.679983    221.864532            19.566246   \n",
       "min               0.000000        0.000000      8.000000             5.000000   \n",
       "25%               0.000000        0.000000     89.000000            50.000000   \n",
       "50%               0.000000        0.000000    112.000000            59.000000   \n",
       "75%               0.000000        0.000000    145.000000            71.000000   \n",
       "max              74.000000       37.000000  14043.000000           306.000000   \n",
       "\n",
       "         median_aqi       days_co      days_no2    days_ozone    days_pm2.5  \\\n",
       "count  67004.000000  67004.000000  67004.000000  67004.000000  67004.000000   \n",
       "mean      37.474599      1.425766      6.699361    169.352039    112.846815   \n",
       "std       11.121876     15.505884     26.626785    119.842252    110.158157   \n",
       "min        1.000000      0.000000      0.000000      0.000000      0.000000   \n",
       "25%       33.000000      0.000000      0.000000      0.000000      0.000000   \n",
       "50%       39.000000      0.000000      0.000000    185.000000     93.000000   \n",
       "75%       44.000000      0.000000      0.000000    245.000000    183.000000   \n",
       "max      132.000000    365.000000    365.000000    366.000000    366.000000   \n",
       "\n",
       "          days_pm10  \n",
       "count  67004.000000  \n",
       "mean      14.494239  \n",
       "std       53.624306  \n",
       "min        0.000000  \n",
       "25%        0.000000  \n",
       "50%        0.000000  \n",
       "75%        1.000000  \n",
       "max      366.000000  "
      ]
     },
     "execution_count": 302,
     "metadata": {},
     "output_type": "execute_result"
    }
   ],
   "source": [
    "aqi.describe()"
   ]
  },
  {
   "cell_type": "markdown",
   "id": "244fe0a9-fbc1-48be-a77f-fe3d3a361eab",
   "metadata": {},
   "source": [
    "### CDC Data"
   ]
  },
  {
   "cell_type": "markdown",
   "id": "38d268be-a908-45fd-8a02-41d4f1ea4e5f",
   "metadata": {},
   "source": [
    "Want to import the CDC data and compare the counties.\n",
    "\n",
    "We are using the WONDER tool from the CDC to export the files that we are importing to this notebook. For both files, we filtered out any births with maternal risk factors so we they are not influencing birth weight.  There are some years that have no or suppressed data, which are omitted from the CDC export and are not present.We filtered out any births with maternal risk factors so we they are not influencing birth weight.  There are some years that have no or suppressed data, which are omitted from the CDC export and are not present. \n",
    "\n",
    "There are two main files:\n",
    "1. `Natality_low_2007-2021` which represents all the births below 2500 grams by year and county. \n",
    "1. `Natality_all_2007-2021` which represents all the births by year and county."
   ]
  },
  {
   "cell_type": "markdown",
   "id": "08a3e145-37ac-401d-b872-3c73fa839e6a",
   "metadata": {},
   "source": [
    "#### Import Data"
   ]
  },
  {
   "cell_type": "code",
   "execution_count": 9,
   "id": "22b86d34-dae1-4753-833b-08ad467d7bbb",
   "metadata": {
    "tags": []
   },
   "outputs": [],
   "source": [
    "cdc_low = pd.read_csv('data/Natality_low_2007-2021.txt', sep='\\t')\n",
    "cdc_all = pd.read_csv('data/Natality_all_2007-2021.txt', sep='\\t')"
   ]
  },
  {
   "cell_type": "markdown",
   "id": "438ac040-0416-4028-8129-94fd6d428d6a",
   "metadata": {},
   "source": [
    "#### General Look and Cleanup"
   ]
  },
  {
   "cell_type": "code",
   "execution_count": 10,
   "id": "76a5f011-9dca-48c4-9428-6807c3be2196",
   "metadata": {
    "tags": []
   },
   "outputs": [
    {
     "data": {
      "text/html": [
       "<div>\n",
       "<style scoped>\n",
       "    .dataframe tbody tr th:only-of-type {\n",
       "        vertical-align: middle;\n",
       "    }\n",
       "\n",
       "    .dataframe tbody tr th {\n",
       "        vertical-align: top;\n",
       "    }\n",
       "\n",
       "    .dataframe thead th {\n",
       "        text-align: right;\n",
       "    }\n",
       "</style>\n",
       "<table border=\"1\" class=\"dataframe\">\n",
       "  <thead>\n",
       "    <tr style=\"text-align: right;\">\n",
       "      <th></th>\n",
       "      <th>Notes</th>\n",
       "      <th>State</th>\n",
       "      <th>State Code</th>\n",
       "      <th>County</th>\n",
       "      <th>County Code</th>\n",
       "      <th>Year</th>\n",
       "      <th>Year Code</th>\n",
       "      <th>Births</th>\n",
       "      <th>Average Birth Weight</th>\n",
       "      <th>Average LMP Gestational Age</th>\n",
       "      <th>Average OE Gestational Age</th>\n",
       "    </tr>\n",
       "  </thead>\n",
       "  <tbody>\n",
       "    <tr>\n",
       "      <th>0</th>\n",
       "      <td>NaN</td>\n",
       "      <td>Alabama</td>\n",
       "      <td>1.0</td>\n",
       "      <td>Baldwin County, AL</td>\n",
       "      <td>1003.0</td>\n",
       "      <td>2014.0</td>\n",
       "      <td>2014.0</td>\n",
       "      <td>137.0</td>\n",
       "      <td>1995.255</td>\n",
       "      <td>34.241</td>\n",
       "      <td>34.051</td>\n",
       "    </tr>\n",
       "    <tr>\n",
       "      <th>1</th>\n",
       "      <td>NaN</td>\n",
       "      <td>Alabama</td>\n",
       "      <td>1.0</td>\n",
       "      <td>Baldwin County, AL</td>\n",
       "      <td>1003.0</td>\n",
       "      <td>2015.0</td>\n",
       "      <td>2015.0</td>\n",
       "      <td>141.0</td>\n",
       "      <td>1832.837</td>\n",
       "      <td>32.965</td>\n",
       "      <td>32.922</td>\n",
       "    </tr>\n",
       "    <tr>\n",
       "      <th>2</th>\n",
       "      <td>NaN</td>\n",
       "      <td>Alabama</td>\n",
       "      <td>1.0</td>\n",
       "      <td>Baldwin County, AL</td>\n",
       "      <td>1003.0</td>\n",
       "      <td>2016.0</td>\n",
       "      <td>2016.0</td>\n",
       "      <td>120.0</td>\n",
       "      <td>2008.358</td>\n",
       "      <td>34.467</td>\n",
       "      <td>34.058</td>\n",
       "    </tr>\n",
       "    <tr>\n",
       "      <th>3</th>\n",
       "      <td>NaN</td>\n",
       "      <td>Alabama</td>\n",
       "      <td>1.0</td>\n",
       "      <td>Baldwin County, AL</td>\n",
       "      <td>1003.0</td>\n",
       "      <td>2017.0</td>\n",
       "      <td>2017.0</td>\n",
       "      <td>100.0</td>\n",
       "      <td>2082.830</td>\n",
       "      <td>34.550</td>\n",
       "      <td>34.380</td>\n",
       "    </tr>\n",
       "    <tr>\n",
       "      <th>4</th>\n",
       "      <td>NaN</td>\n",
       "      <td>Alabama</td>\n",
       "      <td>1.0</td>\n",
       "      <td>Baldwin County, AL</td>\n",
       "      <td>1003.0</td>\n",
       "      <td>2018.0</td>\n",
       "      <td>2018.0</td>\n",
       "      <td>122.0</td>\n",
       "      <td>1942.303</td>\n",
       "      <td>33.762</td>\n",
       "      <td>33.508</td>\n",
       "    </tr>\n",
       "  </tbody>\n",
       "</table>\n",
       "</div>"
      ],
      "text/plain": [
       "  Notes    State  State Code              County  County Code    Year  \\\n",
       "0   NaN  Alabama         1.0  Baldwin County, AL       1003.0  2014.0   \n",
       "1   NaN  Alabama         1.0  Baldwin County, AL       1003.0  2015.0   \n",
       "2   NaN  Alabama         1.0  Baldwin County, AL       1003.0  2016.0   \n",
       "3   NaN  Alabama         1.0  Baldwin County, AL       1003.0  2017.0   \n",
       "4   NaN  Alabama         1.0  Baldwin County, AL       1003.0  2018.0   \n",
       "\n",
       "   Year Code  Births  Average Birth Weight  Average LMP Gestational Age  \\\n",
       "0     2014.0   137.0              1995.255                       34.241   \n",
       "1     2015.0   141.0              1832.837                       32.965   \n",
       "2     2016.0   120.0              2008.358                       34.467   \n",
       "3     2017.0   100.0              2082.830                       34.550   \n",
       "4     2018.0   122.0              1942.303                       33.762   \n",
       "\n",
       "   Average OE Gestational Age  \n",
       "0                      34.051  \n",
       "1                      32.922  \n",
       "2                      34.058  \n",
       "3                      34.380  \n",
       "4                      33.508  "
      ]
     },
     "execution_count": 10,
     "metadata": {},
     "output_type": "execute_result"
    }
   ],
   "source": [
    "cdc_low.head()"
   ]
  },
  {
   "cell_type": "code",
   "execution_count": 11,
   "id": "d4d39e68-086c-46ba-a560-5f34a7702cfb",
   "metadata": {
    "tags": []
   },
   "outputs": [
    {
     "data": {
      "text/html": [
       "<div>\n",
       "<style scoped>\n",
       "    .dataframe tbody tr th:only-of-type {\n",
       "        vertical-align: middle;\n",
       "    }\n",
       "\n",
       "    .dataframe tbody tr th {\n",
       "        vertical-align: top;\n",
       "    }\n",
       "\n",
       "    .dataframe thead th {\n",
       "        text-align: right;\n",
       "    }\n",
       "</style>\n",
       "<table border=\"1\" class=\"dataframe\">\n",
       "  <thead>\n",
       "    <tr style=\"text-align: right;\">\n",
       "      <th></th>\n",
       "      <th>Notes</th>\n",
       "      <th>State</th>\n",
       "      <th>State Code</th>\n",
       "      <th>County</th>\n",
       "      <th>County Code</th>\n",
       "      <th>Year</th>\n",
       "      <th>Year Code</th>\n",
       "      <th>Births</th>\n",
       "      <th>Average Birth Weight</th>\n",
       "      <th>Average LMP Gestational Age</th>\n",
       "      <th>Average OE Gestational Age</th>\n",
       "    </tr>\n",
       "  </thead>\n",
       "  <tbody>\n",
       "    <tr>\n",
       "      <th>0</th>\n",
       "      <td>NaN</td>\n",
       "      <td>Alabama</td>\n",
       "      <td>1.0</td>\n",
       "      <td>Baldwin County, AL</td>\n",
       "      <td>1003.0</td>\n",
       "      <td>2014.0</td>\n",
       "      <td>2014.0</td>\n",
       "      <td>1724.0</td>\n",
       "      <td>3296.472</td>\n",
       "      <td>38.595</td>\n",
       "      <td>38.489</td>\n",
       "    </tr>\n",
       "    <tr>\n",
       "      <th>1</th>\n",
       "      <td>NaN</td>\n",
       "      <td>Alabama</td>\n",
       "      <td>1.0</td>\n",
       "      <td>Baldwin County, AL</td>\n",
       "      <td>1003.0</td>\n",
       "      <td>2015.0</td>\n",
       "      <td>2015.0</td>\n",
       "      <td>1857.0</td>\n",
       "      <td>3290.811</td>\n",
       "      <td>38.487</td>\n",
       "      <td>38.347</td>\n",
       "    </tr>\n",
       "    <tr>\n",
       "      <th>2</th>\n",
       "      <td>NaN</td>\n",
       "      <td>Alabama</td>\n",
       "      <td>1.0</td>\n",
       "      <td>Baldwin County, AL</td>\n",
       "      <td>1003.0</td>\n",
       "      <td>2016.0</td>\n",
       "      <td>2016.0</td>\n",
       "      <td>1722.0</td>\n",
       "      <td>3315.387</td>\n",
       "      <td>38.690</td>\n",
       "      <td>38.497</td>\n",
       "    </tr>\n",
       "    <tr>\n",
       "      <th>3</th>\n",
       "      <td>NaN</td>\n",
       "      <td>Alabama</td>\n",
       "      <td>1.0</td>\n",
       "      <td>Baldwin County, AL</td>\n",
       "      <td>1003.0</td>\n",
       "      <td>2017.0</td>\n",
       "      <td>2017.0</td>\n",
       "      <td>1782.0</td>\n",
       "      <td>3346.588</td>\n",
       "      <td>38.713</td>\n",
       "      <td>38.572</td>\n",
       "    </tr>\n",
       "    <tr>\n",
       "      <th>4</th>\n",
       "      <td>NaN</td>\n",
       "      <td>Alabama</td>\n",
       "      <td>1.0</td>\n",
       "      <td>Baldwin County, AL</td>\n",
       "      <td>1003.0</td>\n",
       "      <td>2018.0</td>\n",
       "      <td>2018.0</td>\n",
       "      <td>1770.0</td>\n",
       "      <td>3301.324</td>\n",
       "      <td>38.580</td>\n",
       "      <td>38.423</td>\n",
       "    </tr>\n",
       "  </tbody>\n",
       "</table>\n",
       "</div>"
      ],
      "text/plain": [
       "  Notes    State  State Code              County  County Code    Year  \\\n",
       "0   NaN  Alabama         1.0  Baldwin County, AL       1003.0  2014.0   \n",
       "1   NaN  Alabama         1.0  Baldwin County, AL       1003.0  2015.0   \n",
       "2   NaN  Alabama         1.0  Baldwin County, AL       1003.0  2016.0   \n",
       "3   NaN  Alabama         1.0  Baldwin County, AL       1003.0  2017.0   \n",
       "4   NaN  Alabama         1.0  Baldwin County, AL       1003.0  2018.0   \n",
       "\n",
       "   Year Code  Births  Average Birth Weight  Average LMP Gestational Age  \\\n",
       "0     2014.0  1724.0              3296.472                       38.595   \n",
       "1     2015.0  1857.0              3290.811                       38.487   \n",
       "2     2016.0  1722.0              3315.387                       38.690   \n",
       "3     2017.0  1782.0              3346.588                       38.713   \n",
       "4     2018.0  1770.0              3301.324                       38.580   \n",
       "\n",
       "   Average OE Gestational Age  \n",
       "0                      38.489  \n",
       "1                      38.347  \n",
       "2                      38.497  \n",
       "3                      38.572  \n",
       "4                      38.423  "
      ]
     },
     "execution_count": 11,
     "metadata": {},
     "output_type": "execute_result"
    }
   ],
   "source": [
    "cdc_all.head()"
   ]
  },
  {
   "cell_type": "code",
   "execution_count": 12,
   "id": "893ba8c9-ca9c-4789-9ee7-732048db9c15",
   "metadata": {
    "tags": []
   },
   "outputs": [
    {
     "data": {
      "text/plain": [
       "Notes                           object\n",
       "State                           object\n",
       "State Code                     float64\n",
       "County                          object\n",
       "County Code                    float64\n",
       "Year                           float64\n",
       "Year Code                      float64\n",
       "Births                         float64\n",
       "Average Birth Weight           float64\n",
       "Average LMP Gestational Age    float64\n",
       "Average OE Gestational Age     float64\n",
       "dtype: object"
      ]
     },
     "execution_count": 12,
     "metadata": {},
     "output_type": "execute_result"
    }
   ],
   "source": [
    "cdc_low.dtypes"
   ]
  },
  {
   "cell_type": "code",
   "execution_count": 13,
   "id": "2d452b1f-ce66-43f7-ac46-956d321eb350",
   "metadata": {
    "tags": []
   },
   "outputs": [
    {
     "data": {
      "text/plain": [
       "Notes                           object\n",
       "State                           object\n",
       "State Code                     float64\n",
       "County                          object\n",
       "County Code                    float64\n",
       "Year                           float64\n",
       "Year Code                      float64\n",
       "Births                         float64\n",
       "Average Birth Weight           float64\n",
       "Average LMP Gestational Age    float64\n",
       "Average OE Gestational Age     float64\n",
       "dtype: object"
      ]
     },
     "execution_count": 13,
     "metadata": {},
     "output_type": "execute_result"
    }
   ],
   "source": [
    "cdc_all.dtypes"
   ]
  },
  {
   "cell_type": "code",
   "execution_count": 14,
   "id": "38e53632-6a98-4f40-956d-20d1fb29fbde",
   "metadata": {
    "tags": []
   },
   "outputs": [
    {
     "data": {
      "text/plain": [
       "(6712, 11)"
      ]
     },
     "execution_count": 14,
     "metadata": {},
     "output_type": "execute_result"
    }
   ],
   "source": [
    "cdc_low.shape"
   ]
  },
  {
   "cell_type": "code",
   "execution_count": 15,
   "id": "64ebac01-500a-4ec9-a9f7-d48a52e70dbf",
   "metadata": {
    "tags": []
   },
   "outputs": [
    {
     "data": {
      "text/plain": [
       "(6715, 11)"
      ]
     },
     "execution_count": 15,
     "metadata": {},
     "output_type": "execute_result"
    }
   ],
   "source": [
    "cdc_all.shape"
   ]
  },
  {
   "cell_type": "code",
   "execution_count": 16,
   "id": "eee0e85f-fb0a-41f6-9e76-5b3207f80820",
   "metadata": {
    "tags": []
   },
   "outputs": [
    {
     "data": {
      "text/plain": [
       "(Index(['Notes', 'State', 'State Code', 'County', 'County Code', 'Year',\n",
       "        'Year Code', 'Births', 'Average Birth Weight',\n",
       "        'Average LMP Gestational Age', 'Average OE Gestational Age'],\n",
       "       dtype='object'),\n",
       " Index(['Notes', 'State', 'State Code', 'County', 'County Code', 'Year',\n",
       "        'Year Code', 'Births', 'Average Birth Weight',\n",
       "        'Average LMP Gestational Age', 'Average OE Gestational Age'],\n",
       "       dtype='object'))"
      ]
     },
     "execution_count": 16,
     "metadata": {},
     "output_type": "execute_result"
    }
   ],
   "source": [
    "cdc_low.columns, cdc_all.columns"
   ]
  },
  {
   "cell_type": "code",
   "execution_count": 17,
   "id": "285aa42c-a73b-4ffa-b8d5-fab90df86c8b",
   "metadata": {
    "tags": []
   },
   "outputs": [],
   "source": [
    "cdc_low.columns = [col.lower().replace(' ', '_') for col in cdc_low.columns]\n",
    "cdc_all.columns = [col.lower().replace(' ', '_') for col in cdc_all.columns]"
   ]
  },
  {
   "cell_type": "markdown",
   "id": "6571d5a4-1bc1-4fe1-a238-f60e7674db0c",
   "metadata": {},
   "source": [
    "Renaming the % of births column, and if we want different names for other columns, we can do it at this step"
   ]
  },
  {
   "cell_type": "code",
   "execution_count": 18,
   "id": "57b10cd7-e4c3-40db-b0b0-d4828881eae4",
   "metadata": {
    "tags": []
   },
   "outputs": [
    {
     "data": {
      "text/plain": [
       "Index(['notes', 'state', 'state_code', 'county', 'county_code', 'year',\n",
       "       'year_code', 'births', 'average_birth_weight',\n",
       "       'average_lmp_gestational_age', 'average_oe_gestational_age'],\n",
       "      dtype='object')"
      ]
     },
     "execution_count": 18,
     "metadata": {},
     "output_type": "execute_result"
    }
   ],
   "source": [
    "cdc_low.columns"
   ]
  },
  {
   "cell_type": "code",
   "execution_count": 19,
   "id": "4d99885e-7308-487a-9d71-b7fcfc8bdb84",
   "metadata": {
    "tags": []
   },
   "outputs": [
    {
     "data": {
      "text/plain": [
       "(91, 87)"
      ]
     },
     "execution_count": 19,
     "metadata": {},
     "output_type": "execute_result"
    }
   ],
   "source": [
    "cdc_low['notes'].nunique(), cdc_all['notes'].nunique()"
   ]
  },
  {
   "cell_type": "code",
   "execution_count": 20,
   "id": "d2a673ca-6ece-4267-afa0-27db9852c213",
   "metadata": {
    "tags": []
   },
   "outputs": [],
   "source": [
    "# cdc_all['notes'].unique()"
   ]
  },
  {
   "cell_type": "markdown",
   "id": "afcb8ebd-dc1e-48e4-971d-b07d4b4212d4",
   "metadata": {},
   "source": [
    "All the notes look like they are what shows up at the bottom of the file and isn't data that we're looking for.  Dropping the notes column"
   ]
  },
  {
   "cell_type": "code",
   "execution_count": 21,
   "id": "181e9e67-4495-4898-96a8-becd881394f1",
   "metadata": {
    "tags": []
   },
   "outputs": [],
   "source": [
    "cdc_low.drop(['notes'], axis=1, inplace=True)\n",
    "cdc_all.drop(['notes'], axis=1, inplace=True)"
   ]
  },
  {
   "cell_type": "code",
   "execution_count": 22,
   "id": "290b3183-ec24-448b-8ac7-fce70d82ba2f",
   "metadata": {
    "tags": []
   },
   "outputs": [
    {
     "data": {
      "text/plain": [
       "state                          96\n",
       "state_code                     96\n",
       "county                         96\n",
       "county_code                    96\n",
       "year                           96\n",
       "year_code                      96\n",
       "births                         96\n",
       "average_birth_weight           96\n",
       "average_lmp_gestational_age    96\n",
       "average_oe_gestational_age     96\n",
       "dtype: int64"
      ]
     },
     "execution_count": 22,
     "metadata": {},
     "output_type": "execute_result"
    }
   ],
   "source": [
    "cdc_low.isna().sum()[cdc_low.isna().sum() > 0]"
   ]
  },
  {
   "cell_type": "code",
   "execution_count": 23,
   "id": "10ac5bd2-2cab-4a91-8c63-3db1386e4db5",
   "metadata": {
    "tags": []
   },
   "outputs": [
    {
     "data": {
      "text/plain": [
       "state                          92\n",
       "state_code                     92\n",
       "county                         92\n",
       "county_code                    92\n",
       "year                           92\n",
       "year_code                      92\n",
       "births                         92\n",
       "average_birth_weight           92\n",
       "average_lmp_gestational_age    92\n",
       "average_oe_gestational_age     92\n",
       "dtype: int64"
      ]
     },
     "execution_count": 23,
     "metadata": {},
     "output_type": "execute_result"
    }
   ],
   "source": [
    "cdc_all.isna().sum()[cdc_all.isna().sum() > 0]"
   ]
  },
  {
   "cell_type": "code",
   "execution_count": 24,
   "id": "b9c98e59-b574-4022-96da-68a93252a94d",
   "metadata": {
    "tags": []
   },
   "outputs": [
    {
     "data": {
      "text/html": [
       "<div>\n",
       "<style scoped>\n",
       "    .dataframe tbody tr th:only-of-type {\n",
       "        vertical-align: middle;\n",
       "    }\n",
       "\n",
       "    .dataframe tbody tr th {\n",
       "        vertical-align: top;\n",
       "    }\n",
       "\n",
       "    .dataframe thead th {\n",
       "        text-align: right;\n",
       "    }\n",
       "</style>\n",
       "<table border=\"1\" class=\"dataframe\">\n",
       "  <thead>\n",
       "    <tr style=\"text-align: right;\">\n",
       "      <th></th>\n",
       "      <th>state</th>\n",
       "      <th>state_code</th>\n",
       "      <th>county</th>\n",
       "      <th>county_code</th>\n",
       "      <th>year</th>\n",
       "      <th>year_code</th>\n",
       "      <th>births</th>\n",
       "      <th>average_birth_weight</th>\n",
       "      <th>average_lmp_gestational_age</th>\n",
       "      <th>average_oe_gestational_age</th>\n",
       "    </tr>\n",
       "  </thead>\n",
       "  <tbody>\n",
       "    <tr>\n",
       "      <th>6709</th>\n",
       "      <td>NaN</td>\n",
       "      <td>NaN</td>\n",
       "      <td>NaN</td>\n",
       "      <td>NaN</td>\n",
       "      <td>NaN</td>\n",
       "      <td>NaN</td>\n",
       "      <td>NaN</td>\n",
       "      <td>NaN</td>\n",
       "      <td>NaN</td>\n",
       "      <td>NaN</td>\n",
       "    </tr>\n",
       "    <tr>\n",
       "      <th>6710</th>\n",
       "      <td>NaN</td>\n",
       "      <td>NaN</td>\n",
       "      <td>NaN</td>\n",
       "      <td>NaN</td>\n",
       "      <td>NaN</td>\n",
       "      <td>NaN</td>\n",
       "      <td>NaN</td>\n",
       "      <td>NaN</td>\n",
       "      <td>NaN</td>\n",
       "      <td>NaN</td>\n",
       "    </tr>\n",
       "    <tr>\n",
       "      <th>6711</th>\n",
       "      <td>NaN</td>\n",
       "      <td>NaN</td>\n",
       "      <td>NaN</td>\n",
       "      <td>NaN</td>\n",
       "      <td>NaN</td>\n",
       "      <td>NaN</td>\n",
       "      <td>NaN</td>\n",
       "      <td>NaN</td>\n",
       "      <td>NaN</td>\n",
       "      <td>NaN</td>\n",
       "    </tr>\n",
       "  </tbody>\n",
       "</table>\n",
       "</div>"
      ],
      "text/plain": [
       "     state  state_code county  county_code  year  year_code  births  \\\n",
       "6709   NaN         NaN    NaN          NaN   NaN        NaN     NaN   \n",
       "6710   NaN         NaN    NaN          NaN   NaN        NaN     NaN   \n",
       "6711   NaN         NaN    NaN          NaN   NaN        NaN     NaN   \n",
       "\n",
       "      average_birth_weight  average_lmp_gestational_age  \\\n",
       "6709                   NaN                          NaN   \n",
       "6710                   NaN                          NaN   \n",
       "6711                   NaN                          NaN   \n",
       "\n",
       "      average_oe_gestational_age  \n",
       "6709                         NaN  \n",
       "6710                         NaN  \n",
       "6711                         NaN  "
      ]
     },
     "execution_count": 24,
     "metadata": {},
     "output_type": "execute_result"
    }
   ],
   "source": [
    "cdc_low.tail(3)"
   ]
  },
  {
   "cell_type": "code",
   "execution_count": 25,
   "id": "72ad4628-d2b6-4173-9105-aeb926174d6f",
   "metadata": {
    "tags": []
   },
   "outputs": [
    {
     "data": {
      "text/html": [
       "<div>\n",
       "<style scoped>\n",
       "    .dataframe tbody tr th:only-of-type {\n",
       "        vertical-align: middle;\n",
       "    }\n",
       "\n",
       "    .dataframe tbody tr th {\n",
       "        vertical-align: top;\n",
       "    }\n",
       "\n",
       "    .dataframe thead th {\n",
       "        text-align: right;\n",
       "    }\n",
       "</style>\n",
       "<table border=\"1\" class=\"dataframe\">\n",
       "  <thead>\n",
       "    <tr style=\"text-align: right;\">\n",
       "      <th></th>\n",
       "      <th>state</th>\n",
       "      <th>state_code</th>\n",
       "      <th>county</th>\n",
       "      <th>county_code</th>\n",
       "      <th>year</th>\n",
       "      <th>year_code</th>\n",
       "      <th>births</th>\n",
       "      <th>average_birth_weight</th>\n",
       "      <th>average_lmp_gestational_age</th>\n",
       "      <th>average_oe_gestational_age</th>\n",
       "    </tr>\n",
       "  </thead>\n",
       "  <tbody>\n",
       "    <tr>\n",
       "      <th>6712</th>\n",
       "      <td>NaN</td>\n",
       "      <td>NaN</td>\n",
       "      <td>NaN</td>\n",
       "      <td>NaN</td>\n",
       "      <td>NaN</td>\n",
       "      <td>NaN</td>\n",
       "      <td>NaN</td>\n",
       "      <td>NaN</td>\n",
       "      <td>NaN</td>\n",
       "      <td>NaN</td>\n",
       "    </tr>\n",
       "    <tr>\n",
       "      <th>6713</th>\n",
       "      <td>NaN</td>\n",
       "      <td>NaN</td>\n",
       "      <td>NaN</td>\n",
       "      <td>NaN</td>\n",
       "      <td>NaN</td>\n",
       "      <td>NaN</td>\n",
       "      <td>NaN</td>\n",
       "      <td>NaN</td>\n",
       "      <td>NaN</td>\n",
       "      <td>NaN</td>\n",
       "    </tr>\n",
       "    <tr>\n",
       "      <th>6714</th>\n",
       "      <td>NaN</td>\n",
       "      <td>NaN</td>\n",
       "      <td>NaN</td>\n",
       "      <td>NaN</td>\n",
       "      <td>NaN</td>\n",
       "      <td>NaN</td>\n",
       "      <td>NaN</td>\n",
       "      <td>NaN</td>\n",
       "      <td>NaN</td>\n",
       "      <td>NaN</td>\n",
       "    </tr>\n",
       "  </tbody>\n",
       "</table>\n",
       "</div>"
      ],
      "text/plain": [
       "     state  state_code county  county_code  year  year_code  births  \\\n",
       "6712   NaN         NaN    NaN          NaN   NaN        NaN     NaN   \n",
       "6713   NaN         NaN    NaN          NaN   NaN        NaN     NaN   \n",
       "6714   NaN         NaN    NaN          NaN   NaN        NaN     NaN   \n",
       "\n",
       "      average_birth_weight  average_lmp_gestational_age  \\\n",
       "6712                   NaN                          NaN   \n",
       "6713                   NaN                          NaN   \n",
       "6714                   NaN                          NaN   \n",
       "\n",
       "      average_oe_gestational_age  \n",
       "6712                         NaN  \n",
       "6713                         NaN  \n",
       "6714                         NaN  "
      ]
     },
     "execution_count": 25,
     "metadata": {},
     "output_type": "execute_result"
    }
   ],
   "source": [
    "cdc_all.tail(3)"
   ]
  },
  {
   "cell_type": "markdown",
   "id": "1261ec53-5e9c-43d2-b2b3-c5c43cd65411",
   "metadata": {},
   "source": [
    "We need state and county information for this project,and it looks like all these null values belong, possibly to rows that were holding that notes data.  Dropping these rows to see if that clears up all the nulls."
   ]
  },
  {
   "cell_type": "markdown",
   "id": "2b2bdee1-f508-4113-a03d-2be862a8257a",
   "metadata": {},
   "source": [
    "Drop the rows that have the footnotes in them"
   ]
  },
  {
   "cell_type": "code",
   "execution_count": 26,
   "id": "15eb1c08-6ee8-44da-a472-b1cb2388a5b9",
   "metadata": {
    "tags": []
   },
   "outputs": [],
   "source": [
    "cdc_low.dropna(subset=['state'], inplace=True)\n",
    "cdc_all.dropna(subset=['state'], inplace=True)"
   ]
  },
  {
   "cell_type": "code",
   "execution_count": 27,
   "id": "1322a50b-032f-4891-a317-f28618475f18",
   "metadata": {
    "tags": []
   },
   "outputs": [
    {
     "data": {
      "text/plain": [
       "Series([], dtype: int64)"
      ]
     },
     "execution_count": 27,
     "metadata": {},
     "output_type": "execute_result"
    }
   ],
   "source": [
    "cdc_low.isna().sum()[cdc_low.isna().sum() > 0]"
   ]
  },
  {
   "cell_type": "code",
   "execution_count": 28,
   "id": "1b73ab8c-3a59-4800-bc84-16519486a00e",
   "metadata": {
    "tags": []
   },
   "outputs": [
    {
     "data": {
      "text/plain": [
       "Series([], dtype: int64)"
      ]
     },
     "execution_count": 28,
     "metadata": {},
     "output_type": "execute_result"
    }
   ],
   "source": [
    "cdc_all.isna().sum()[cdc_all.isna().sum() > 0]"
   ]
  },
  {
   "cell_type": "markdown",
   "id": "f4ec0f62-6d53-4f42-9391-4d52d0a0baeb",
   "metadata": {},
   "source": [
    "That did resolve all the null values."
   ]
  },
  {
   "cell_type": "code",
   "execution_count": 29,
   "id": "cdfa7304-4354-4d75-8063-ce81884e077f",
   "metadata": {
    "tags": []
   },
   "outputs": [
    {
     "data": {
      "text/plain": [
       "((6616, 10), (6623, 10))"
      ]
     },
     "execution_count": 29,
     "metadata": {},
     "output_type": "execute_result"
    }
   ],
   "source": [
    "cdc_low.shape, cdc_all.shape"
   ]
  },
  {
   "cell_type": "code",
   "execution_count": 30,
   "id": "9b841a0b-7c28-4bf4-b756-f7d0b967552a",
   "metadata": {
    "tags": []
   },
   "outputs": [
    {
     "data": {
      "text/html": [
       "<div>\n",
       "<style scoped>\n",
       "    .dataframe tbody tr th:only-of-type {\n",
       "        vertical-align: middle;\n",
       "    }\n",
       "\n",
       "    .dataframe tbody tr th {\n",
       "        vertical-align: top;\n",
       "    }\n",
       "\n",
       "    .dataframe thead th {\n",
       "        text-align: right;\n",
       "    }\n",
       "</style>\n",
       "<table border=\"1\" class=\"dataframe\">\n",
       "  <thead>\n",
       "    <tr style=\"text-align: right;\">\n",
       "      <th></th>\n",
       "      <th>state</th>\n",
       "      <th>state_code</th>\n",
       "      <th>county</th>\n",
       "      <th>county_code</th>\n",
       "      <th>year</th>\n",
       "      <th>year_code</th>\n",
       "      <th>births</th>\n",
       "      <th>average_birth_weight</th>\n",
       "      <th>average_lmp_gestational_age</th>\n",
       "      <th>average_oe_gestational_age</th>\n",
       "    </tr>\n",
       "  </thead>\n",
       "  <tbody>\n",
       "    <tr>\n",
       "      <th>6613</th>\n",
       "      <td>Wyoming</td>\n",
       "      <td>56.0</td>\n",
       "      <td>Unidentified Counties, WY</td>\n",
       "      <td>56999.0</td>\n",
       "      <td>2019.0</td>\n",
       "      <td>2019.0</td>\n",
       "      <td>335.0</td>\n",
       "      <td>2062.824</td>\n",
       "      <td>35.051</td>\n",
       "      <td>34.919</td>\n",
       "    </tr>\n",
       "    <tr>\n",
       "      <th>6614</th>\n",
       "      <td>Wyoming</td>\n",
       "      <td>56.0</td>\n",
       "      <td>Unidentified Counties, WY</td>\n",
       "      <td>56999.0</td>\n",
       "      <td>2020.0</td>\n",
       "      <td>2020.0</td>\n",
       "      <td>307.0</td>\n",
       "      <td>2088.586</td>\n",
       "      <td>35.365</td>\n",
       "      <td>34.987</td>\n",
       "    </tr>\n",
       "    <tr>\n",
       "      <th>6615</th>\n",
       "      <td>Wyoming</td>\n",
       "      <td>56.0</td>\n",
       "      <td>Unidentified Counties, WY</td>\n",
       "      <td>56999.0</td>\n",
       "      <td>2021.0</td>\n",
       "      <td>2021.0</td>\n",
       "      <td>319.0</td>\n",
       "      <td>2063.197</td>\n",
       "      <td>34.821</td>\n",
       "      <td>34.862</td>\n",
       "    </tr>\n",
       "  </tbody>\n",
       "</table>\n",
       "</div>"
      ],
      "text/plain": [
       "        state  state_code                     county  county_code    year  \\\n",
       "6613  Wyoming        56.0  Unidentified Counties, WY      56999.0  2019.0   \n",
       "6614  Wyoming        56.0  Unidentified Counties, WY      56999.0  2020.0   \n",
       "6615  Wyoming        56.0  Unidentified Counties, WY      56999.0  2021.0   \n",
       "\n",
       "      year_code  births  average_birth_weight  average_lmp_gestational_age  \\\n",
       "6613     2019.0   335.0              2062.824                       35.051   \n",
       "6614     2020.0   307.0              2088.586                       35.365   \n",
       "6615     2021.0   319.0              2063.197                       34.821   \n",
       "\n",
       "      average_oe_gestational_age  \n",
       "6613                      34.919  \n",
       "6614                      34.987  \n",
       "6615                      34.862  "
      ]
     },
     "execution_count": 30,
     "metadata": {},
     "output_type": "execute_result"
    }
   ],
   "source": [
    "cdc_low.tail(3)"
   ]
  },
  {
   "cell_type": "code",
   "execution_count": 31,
   "id": "545490fb-b1f6-402f-91b1-cede9f313ace",
   "metadata": {
    "tags": []
   },
   "outputs": [
    {
     "data": {
      "text/html": [
       "<div>\n",
       "<style scoped>\n",
       "    .dataframe tbody tr th:only-of-type {\n",
       "        vertical-align: middle;\n",
       "    }\n",
       "\n",
       "    .dataframe tbody tr th {\n",
       "        vertical-align: top;\n",
       "    }\n",
       "\n",
       "    .dataframe thead th {\n",
       "        text-align: right;\n",
       "    }\n",
       "</style>\n",
       "<table border=\"1\" class=\"dataframe\">\n",
       "  <thead>\n",
       "    <tr style=\"text-align: right;\">\n",
       "      <th></th>\n",
       "      <th>state</th>\n",
       "      <th>state_code</th>\n",
       "      <th>county</th>\n",
       "      <th>county_code</th>\n",
       "      <th>year</th>\n",
       "      <th>year_code</th>\n",
       "      <th>births</th>\n",
       "      <th>average_birth_weight</th>\n",
       "      <th>average_lmp_gestational_age</th>\n",
       "      <th>average_oe_gestational_age</th>\n",
       "    </tr>\n",
       "  </thead>\n",
       "  <tbody>\n",
       "    <tr>\n",
       "      <th>6620</th>\n",
       "      <td>Wyoming</td>\n",
       "      <td>56.0</td>\n",
       "      <td>Unidentified Counties, WY</td>\n",
       "      <td>56999.0</td>\n",
       "      <td>2019.0</td>\n",
       "      <td>2019.0</td>\n",
       "      <td>4592.0</td>\n",
       "      <td>3218.040</td>\n",
       "      <td>38.709</td>\n",
       "      <td>38.636</td>\n",
       "    </tr>\n",
       "    <tr>\n",
       "      <th>6621</th>\n",
       "      <td>Wyoming</td>\n",
       "      <td>56.0</td>\n",
       "      <td>Unidentified Counties, WY</td>\n",
       "      <td>56999.0</td>\n",
       "      <td>2020.0</td>\n",
       "      <td>2020.0</td>\n",
       "      <td>4285.0</td>\n",
       "      <td>3228.561</td>\n",
       "      <td>38.733</td>\n",
       "      <td>38.641</td>\n",
       "    </tr>\n",
       "    <tr>\n",
       "      <th>6622</th>\n",
       "      <td>Wyoming</td>\n",
       "      <td>56.0</td>\n",
       "      <td>Unidentified Counties, WY</td>\n",
       "      <td>56999.0</td>\n",
       "      <td>2021.0</td>\n",
       "      <td>2021.0</td>\n",
       "      <td>4379.0</td>\n",
       "      <td>3227.242</td>\n",
       "      <td>38.608</td>\n",
       "      <td>38.551</td>\n",
       "    </tr>\n",
       "  </tbody>\n",
       "</table>\n",
       "</div>"
      ],
      "text/plain": [
       "        state  state_code                     county  county_code    year  \\\n",
       "6620  Wyoming        56.0  Unidentified Counties, WY      56999.0  2019.0   \n",
       "6621  Wyoming        56.0  Unidentified Counties, WY      56999.0  2020.0   \n",
       "6622  Wyoming        56.0  Unidentified Counties, WY      56999.0  2021.0   \n",
       "\n",
       "      year_code  births  average_birth_weight  average_lmp_gestational_age  \\\n",
       "6620     2019.0  4592.0              3218.040                       38.709   \n",
       "6621     2020.0  4285.0              3228.561                       38.733   \n",
       "6622     2021.0  4379.0              3227.242                       38.608   \n",
       "\n",
       "      average_oe_gestational_age  \n",
       "6620                      38.636  \n",
       "6621                      38.641  \n",
       "6622                      38.551  "
      ]
     },
     "execution_count": 31,
     "metadata": {},
     "output_type": "execute_result"
    }
   ],
   "source": [
    "cdc_all.tail(3)"
   ]
  },
  {
   "cell_type": "markdown",
   "id": "07d32c3f-3079-4ce3-9bfe-7eb004b9ef4e",
   "metadata": {},
   "source": [
    "It looks like year and year_code might contain the same data"
   ]
  },
  {
   "cell_type": "code",
   "execution_count": 32,
   "id": "aaffda9f-b596-451c-a69e-69b9a81b27d9",
   "metadata": {
    "tags": []
   },
   "outputs": [
    {
     "data": {
      "text/plain": [
       "True"
      ]
     },
     "execution_count": 32,
     "metadata": {},
     "output_type": "execute_result"
    }
   ],
   "source": [
    "(cdc_low['year'] == cdc_low['year_code']).sum() == cdc_low.shape[0]"
   ]
  },
  {
   "cell_type": "markdown",
   "id": "26b2a7cb-401c-4b9a-908d-43b821e210d7",
   "metadata": {
    "execution": {
     "iopub.execute_input": "2023-01-15T22:28:01.189549Z",
     "iopub.status.busy": "2023-01-15T22:28:01.188421Z",
     "iopub.status.idle": "2023-01-15T22:28:01.215164Z",
     "shell.execute_reply": "2023-01-15T22:28:01.214651Z",
     "shell.execute_reply.started": "2023-01-15T22:28:01.189519Z"
    }
   },
   "source": [
    "`year` and `year_code` appear to be the same.  We also don't have state or county codes in the EPA data, so dropping those as well."
   ]
  },
  {
   "cell_type": "code",
   "execution_count": 33,
   "id": "0c250d1b-64e2-4f0f-8d6e-6154b44be533",
   "metadata": {
    "tags": []
   },
   "outputs": [],
   "source": [
    "cdc_low.drop(['year_code', 'county_code', 'state_code'], axis=1, inplace=True)\n",
    "cdc_all.drop(['year_code', 'county_code', 'state_code'], axis=1, inplace=True)"
   ]
  },
  {
   "cell_type": "markdown",
   "id": "586af386-017c-4086-bb56-5e61667bfa51",
   "metadata": {},
   "source": [
    "Also want the year as an int not a float"
   ]
  },
  {
   "cell_type": "code",
   "execution_count": 34,
   "id": "9f10d448-c34d-4caf-94f7-2ec626610daa",
   "metadata": {
    "tags": []
   },
   "outputs": [],
   "source": [
    "cdc_low['year'] = cdc_low['year'].astype(int)\n",
    "cdc_all['year'] = cdc_all['year'].astype(int)"
   ]
  },
  {
   "cell_type": "code",
   "execution_count": 35,
   "id": "59d76224-41e5-42c4-9b98-f8d42940d625",
   "metadata": {
    "tags": []
   },
   "outputs": [
    {
     "data": {
      "text/plain": [
       "Index(['state', 'county', 'year', 'births', 'average_birth_weight',\n",
       "       'average_lmp_gestational_age', 'average_oe_gestational_age'],\n",
       "      dtype='object')"
      ]
     },
     "execution_count": 35,
     "metadata": {},
     "output_type": "execute_result"
    }
   ],
   "source": [
    "cdc_low.columns"
   ]
  },
  {
   "cell_type": "markdown",
   "id": "bd3ce33c-1d6b-4a1a-8b09-676aab9a3861",
   "metadata": {},
   "source": [
    "#### Gestational Age at Birth\n",
    "Beginning in 2014 NCHS changed the standard for gestational period from the Last Menstrual Period (LMP) based gestational age to the Obstetric/clinical Estimate (OE) based gestational age. Obstetric/clinical Estimate (OE) based gestational age groups are available for years 2007 and later in WONDER since February 2016. Refer to [Measuring Gestational Age in Vital Statistics Data: Transitioning to the Obstetric Estimate](http://www.cdc.gov/nchs/data/nvsr/nvsr64/nvsr64_05.pdf) for more information.\n",
    "\n",
    "I believe this means this means we should drop the LMP column and keep the OE column."
   ]
  },
  {
   "cell_type": "code",
   "execution_count": 38,
   "id": "27d5beb6-6e91-4d0f-a890-da302a0858fc",
   "metadata": {
    "collapsed": true,
    "jupyter": {
     "outputs_hidden": true
    },
    "tags": []
   },
   "outputs": [
    {
     "ename": "KeyError",
     "evalue": "\"['average_lmp_gestational_age'] not found in axis\"",
     "output_type": "error",
     "traceback": [
      "\u001b[0;31m---------------------------------------------------------------------------\u001b[0m",
      "\u001b[0;31mKeyError\u001b[0m                                  Traceback (most recent call last)",
      "\u001b[0;32m/var/folders/nm/071v5pbd70ngwv53cdyygz8m0000gn/T/ipykernel_17259/3709099599.py\u001b[0m in \u001b[0;36m<module>\u001b[0;34m\u001b[0m\n\u001b[0;32m----> 1\u001b[0;31m \u001b[0mcdc_low\u001b[0m\u001b[0;34m.\u001b[0m\u001b[0mdrop\u001b[0m\u001b[0;34m(\u001b[0m\u001b[0;34m[\u001b[0m\u001b[0;34m'average_lmp_gestational_age'\u001b[0m\u001b[0;34m]\u001b[0m\u001b[0;34m,\u001b[0m \u001b[0maxis\u001b[0m\u001b[0;34m=\u001b[0m\u001b[0;36m1\u001b[0m\u001b[0;34m,\u001b[0m \u001b[0minplace\u001b[0m\u001b[0;34m=\u001b[0m\u001b[0;32mTrue\u001b[0m\u001b[0;34m)\u001b[0m\u001b[0;34m\u001b[0m\u001b[0;34m\u001b[0m\u001b[0m\n\u001b[0m\u001b[1;32m      2\u001b[0m \u001b[0mcdc_all\u001b[0m\u001b[0;34m.\u001b[0m\u001b[0mdrop\u001b[0m\u001b[0;34m(\u001b[0m\u001b[0;34m[\u001b[0m\u001b[0;34m'average_lmp_gestational_age'\u001b[0m\u001b[0;34m]\u001b[0m\u001b[0;34m,\u001b[0m \u001b[0maxis\u001b[0m\u001b[0;34m=\u001b[0m\u001b[0;36m1\u001b[0m\u001b[0;34m,\u001b[0m \u001b[0minplace\u001b[0m\u001b[0;34m=\u001b[0m\u001b[0;32mTrue\u001b[0m\u001b[0;34m)\u001b[0m\u001b[0;34m\u001b[0m\u001b[0;34m\u001b[0m\u001b[0m\n",
      "\u001b[0;32m~/opt/anaconda3/lib/python3.8/site-packages/pandas/util/_decorators.py\u001b[0m in \u001b[0;36mwrapper\u001b[0;34m(*args, **kwargs)\u001b[0m\n\u001b[1;32m    309\u001b[0m                     \u001b[0mstacklevel\u001b[0m\u001b[0;34m=\u001b[0m\u001b[0mstacklevel\u001b[0m\u001b[0;34m,\u001b[0m\u001b[0;34m\u001b[0m\u001b[0;34m\u001b[0m\u001b[0m\n\u001b[1;32m    310\u001b[0m                 )\n\u001b[0;32m--> 311\u001b[0;31m             \u001b[0;32mreturn\u001b[0m \u001b[0mfunc\u001b[0m\u001b[0;34m(\u001b[0m\u001b[0;34m*\u001b[0m\u001b[0margs\u001b[0m\u001b[0;34m,\u001b[0m \u001b[0;34m**\u001b[0m\u001b[0mkwargs\u001b[0m\u001b[0;34m)\u001b[0m\u001b[0;34m\u001b[0m\u001b[0;34m\u001b[0m\u001b[0m\n\u001b[0m\u001b[1;32m    312\u001b[0m \u001b[0;34m\u001b[0m\u001b[0m\n\u001b[1;32m    313\u001b[0m         \u001b[0;32mreturn\u001b[0m \u001b[0mwrapper\u001b[0m\u001b[0;34m\u001b[0m\u001b[0;34m\u001b[0m\u001b[0m\n",
      "\u001b[0;32m~/opt/anaconda3/lib/python3.8/site-packages/pandas/core/frame.py\u001b[0m in \u001b[0;36mdrop\u001b[0;34m(self, labels, axis, index, columns, level, inplace, errors)\u001b[0m\n\u001b[1;32m   4904\u001b[0m                 \u001b[0mweight\u001b[0m  \u001b[0;36m1.0\u001b[0m     \u001b[0;36m0.8\u001b[0m\u001b[0;34m\u001b[0m\u001b[0;34m\u001b[0m\u001b[0m\n\u001b[1;32m   4905\u001b[0m         \"\"\"\n\u001b[0;32m-> 4906\u001b[0;31m         return super().drop(\n\u001b[0m\u001b[1;32m   4907\u001b[0m             \u001b[0mlabels\u001b[0m\u001b[0;34m=\u001b[0m\u001b[0mlabels\u001b[0m\u001b[0;34m,\u001b[0m\u001b[0;34m\u001b[0m\u001b[0;34m\u001b[0m\u001b[0m\n\u001b[1;32m   4908\u001b[0m             \u001b[0maxis\u001b[0m\u001b[0;34m=\u001b[0m\u001b[0maxis\u001b[0m\u001b[0;34m,\u001b[0m\u001b[0;34m\u001b[0m\u001b[0;34m\u001b[0m\u001b[0m\n",
      "\u001b[0;32m~/opt/anaconda3/lib/python3.8/site-packages/pandas/core/generic.py\u001b[0m in \u001b[0;36mdrop\u001b[0;34m(self, labels, axis, index, columns, level, inplace, errors)\u001b[0m\n\u001b[1;32m   4148\u001b[0m         \u001b[0;32mfor\u001b[0m \u001b[0maxis\u001b[0m\u001b[0;34m,\u001b[0m \u001b[0mlabels\u001b[0m \u001b[0;32min\u001b[0m \u001b[0maxes\u001b[0m\u001b[0;34m.\u001b[0m\u001b[0mitems\u001b[0m\u001b[0;34m(\u001b[0m\u001b[0;34m)\u001b[0m\u001b[0;34m:\u001b[0m\u001b[0;34m\u001b[0m\u001b[0;34m\u001b[0m\u001b[0m\n\u001b[1;32m   4149\u001b[0m             \u001b[0;32mif\u001b[0m \u001b[0mlabels\u001b[0m \u001b[0;32mis\u001b[0m \u001b[0;32mnot\u001b[0m \u001b[0;32mNone\u001b[0m\u001b[0;34m:\u001b[0m\u001b[0;34m\u001b[0m\u001b[0;34m\u001b[0m\u001b[0m\n\u001b[0;32m-> 4150\u001b[0;31m                 \u001b[0mobj\u001b[0m \u001b[0;34m=\u001b[0m \u001b[0mobj\u001b[0m\u001b[0;34m.\u001b[0m\u001b[0m_drop_axis\u001b[0m\u001b[0;34m(\u001b[0m\u001b[0mlabels\u001b[0m\u001b[0;34m,\u001b[0m \u001b[0maxis\u001b[0m\u001b[0;34m,\u001b[0m \u001b[0mlevel\u001b[0m\u001b[0;34m=\u001b[0m\u001b[0mlevel\u001b[0m\u001b[0;34m,\u001b[0m \u001b[0merrors\u001b[0m\u001b[0;34m=\u001b[0m\u001b[0merrors\u001b[0m\u001b[0;34m)\u001b[0m\u001b[0;34m\u001b[0m\u001b[0;34m\u001b[0m\u001b[0m\n\u001b[0m\u001b[1;32m   4151\u001b[0m \u001b[0;34m\u001b[0m\u001b[0m\n\u001b[1;32m   4152\u001b[0m         \u001b[0;32mif\u001b[0m \u001b[0minplace\u001b[0m\u001b[0;34m:\u001b[0m\u001b[0;34m\u001b[0m\u001b[0;34m\u001b[0m\u001b[0m\n",
      "\u001b[0;32m~/opt/anaconda3/lib/python3.8/site-packages/pandas/core/generic.py\u001b[0m in \u001b[0;36m_drop_axis\u001b[0;34m(self, labels, axis, level, errors)\u001b[0m\n\u001b[1;32m   4183\u001b[0m                 \u001b[0mnew_axis\u001b[0m \u001b[0;34m=\u001b[0m \u001b[0maxis\u001b[0m\u001b[0;34m.\u001b[0m\u001b[0mdrop\u001b[0m\u001b[0;34m(\u001b[0m\u001b[0mlabels\u001b[0m\u001b[0;34m,\u001b[0m \u001b[0mlevel\u001b[0m\u001b[0;34m=\u001b[0m\u001b[0mlevel\u001b[0m\u001b[0;34m,\u001b[0m \u001b[0merrors\u001b[0m\u001b[0;34m=\u001b[0m\u001b[0merrors\u001b[0m\u001b[0;34m)\u001b[0m\u001b[0;34m\u001b[0m\u001b[0;34m\u001b[0m\u001b[0m\n\u001b[1;32m   4184\u001b[0m             \u001b[0;32melse\u001b[0m\u001b[0;34m:\u001b[0m\u001b[0;34m\u001b[0m\u001b[0;34m\u001b[0m\u001b[0m\n\u001b[0;32m-> 4185\u001b[0;31m                 \u001b[0mnew_axis\u001b[0m \u001b[0;34m=\u001b[0m \u001b[0maxis\u001b[0m\u001b[0;34m.\u001b[0m\u001b[0mdrop\u001b[0m\u001b[0;34m(\u001b[0m\u001b[0mlabels\u001b[0m\u001b[0;34m,\u001b[0m \u001b[0merrors\u001b[0m\u001b[0;34m=\u001b[0m\u001b[0merrors\u001b[0m\u001b[0;34m)\u001b[0m\u001b[0;34m\u001b[0m\u001b[0;34m\u001b[0m\u001b[0m\n\u001b[0m\u001b[1;32m   4186\u001b[0m             \u001b[0mresult\u001b[0m \u001b[0;34m=\u001b[0m \u001b[0mself\u001b[0m\u001b[0;34m.\u001b[0m\u001b[0mreindex\u001b[0m\u001b[0;34m(\u001b[0m\u001b[0;34m**\u001b[0m\u001b[0;34m{\u001b[0m\u001b[0maxis_name\u001b[0m\u001b[0;34m:\u001b[0m \u001b[0mnew_axis\u001b[0m\u001b[0;34m}\u001b[0m\u001b[0;34m)\u001b[0m\u001b[0;34m\u001b[0m\u001b[0;34m\u001b[0m\u001b[0m\n\u001b[1;32m   4187\u001b[0m \u001b[0;34m\u001b[0m\u001b[0m\n",
      "\u001b[0;32m~/opt/anaconda3/lib/python3.8/site-packages/pandas/core/indexes/base.py\u001b[0m in \u001b[0;36mdrop\u001b[0;34m(self, labels, errors)\u001b[0m\n\u001b[1;32m   6015\u001b[0m         \u001b[0;32mif\u001b[0m \u001b[0mmask\u001b[0m\u001b[0;34m.\u001b[0m\u001b[0many\u001b[0m\u001b[0;34m(\u001b[0m\u001b[0;34m)\u001b[0m\u001b[0;34m:\u001b[0m\u001b[0;34m\u001b[0m\u001b[0;34m\u001b[0m\u001b[0m\n\u001b[1;32m   6016\u001b[0m             \u001b[0;32mif\u001b[0m \u001b[0merrors\u001b[0m \u001b[0;34m!=\u001b[0m \u001b[0;34m\"ignore\"\u001b[0m\u001b[0;34m:\u001b[0m\u001b[0;34m\u001b[0m\u001b[0;34m\u001b[0m\u001b[0m\n\u001b[0;32m-> 6017\u001b[0;31m                 \u001b[0;32mraise\u001b[0m \u001b[0mKeyError\u001b[0m\u001b[0;34m(\u001b[0m\u001b[0;34mf\"{labels[mask]} not found in axis\"\u001b[0m\u001b[0;34m)\u001b[0m\u001b[0;34m\u001b[0m\u001b[0;34m\u001b[0m\u001b[0m\n\u001b[0m\u001b[1;32m   6018\u001b[0m             \u001b[0mindexer\u001b[0m \u001b[0;34m=\u001b[0m \u001b[0mindexer\u001b[0m\u001b[0;34m[\u001b[0m\u001b[0;34m~\u001b[0m\u001b[0mmask\u001b[0m\u001b[0;34m]\u001b[0m\u001b[0;34m\u001b[0m\u001b[0;34m\u001b[0m\u001b[0m\n\u001b[1;32m   6019\u001b[0m         \u001b[0;32mreturn\u001b[0m \u001b[0mself\u001b[0m\u001b[0;34m.\u001b[0m\u001b[0mdelete\u001b[0m\u001b[0;34m(\u001b[0m\u001b[0mindexer\u001b[0m\u001b[0;34m)\u001b[0m\u001b[0;34m\u001b[0m\u001b[0;34m\u001b[0m\u001b[0m\n",
      "\u001b[0;31mKeyError\u001b[0m: \"['average_lmp_gestational_age'] not found in axis\""
     ]
    }
   ],
   "source": [
    "cdc_low.drop(['average_lmp_gestational_age'], axis=1, inplace=True)\n",
    "cdc_all.drop(['average_lmp_gestational_age'], axis=1, inplace=True)"
   ]
  },
  {
   "cell_type": "code",
   "execution_count": 39,
   "id": "9425c5e2-76cc-44d7-a24b-5340b5c320b2",
   "metadata": {
    "tags": []
   },
   "outputs": [
    {
     "data": {
      "text/plain": [
       "Index(['state', 'county', 'year', 'births', 'average_birth_weight',\n",
       "       'average_oe_gestational_age'],\n",
       "      dtype='object')"
      ]
     },
     "execution_count": 39,
     "metadata": {},
     "output_type": "execute_result"
    }
   ],
   "source": [
    "cdc_low.columns"
   ]
  },
  {
   "cell_type": "markdown",
   "id": "6e1391d3-d049-46b2-b505-2989618cb394",
   "metadata": {
    "tags": []
   },
   "source": [
    "#### Rename Columns\n",
    "\n",
    "To prepare for merging this data, giving the columns specific names to indicate which dataframe they came from."
   ]
  },
  {
   "cell_type": "code",
   "execution_count": 41,
   "id": "b586e196-b304-4114-9c81-1579170ee157",
   "metadata": {
    "tags": []
   },
   "outputs": [],
   "source": [
    "cdc_low.rename(columns={\n",
    "    'births': 'births_low',\n",
    "    'average_birth_weight': 'avg_weight_low',\n",
    "    'average_oe_gestational_age': 'avg_ges_age_low'\n",
    "    }, inplace=True)\n",
    "\n",
    "cdc_all.rename(columns={\n",
    "    'births': 'births_all',\n",
    "    'average_birth_weight': 'avg_weight_all',\n",
    "    'average_oe_gestational_age': 'avg_ges_age_all'\n",
    "    }, inplace=True)"
   ]
  },
  {
   "cell_type": "code",
   "execution_count": 42,
   "id": "9e4be595-2478-4178-aeea-fdf9f8d0c310",
   "metadata": {
    "tags": []
   },
   "outputs": [
    {
     "data": {
      "text/html": [
       "<div>\n",
       "<style scoped>\n",
       "    .dataframe tbody tr th:only-of-type {\n",
       "        vertical-align: middle;\n",
       "    }\n",
       "\n",
       "    .dataframe tbody tr th {\n",
       "        vertical-align: top;\n",
       "    }\n",
       "\n",
       "    .dataframe thead th {\n",
       "        text-align: right;\n",
       "    }\n",
       "</style>\n",
       "<table border=\"1\" class=\"dataframe\">\n",
       "  <thead>\n",
       "    <tr style=\"text-align: right;\">\n",
       "      <th></th>\n",
       "      <th>state</th>\n",
       "      <th>county</th>\n",
       "      <th>year</th>\n",
       "      <th>births_low</th>\n",
       "      <th>avg_weight_low</th>\n",
       "      <th>avg_ges_age_low</th>\n",
       "    </tr>\n",
       "  </thead>\n",
       "  <tbody>\n",
       "    <tr>\n",
       "      <th>0</th>\n",
       "      <td>Alabama</td>\n",
       "      <td>Baldwin County, AL</td>\n",
       "      <td>2014</td>\n",
       "      <td>137.0</td>\n",
       "      <td>1995.255</td>\n",
       "      <td>34.051</td>\n",
       "    </tr>\n",
       "    <tr>\n",
       "      <th>1</th>\n",
       "      <td>Alabama</td>\n",
       "      <td>Baldwin County, AL</td>\n",
       "      <td>2015</td>\n",
       "      <td>141.0</td>\n",
       "      <td>1832.837</td>\n",
       "      <td>32.922</td>\n",
       "    </tr>\n",
       "    <tr>\n",
       "      <th>2</th>\n",
       "      <td>Alabama</td>\n",
       "      <td>Baldwin County, AL</td>\n",
       "      <td>2016</td>\n",
       "      <td>120.0</td>\n",
       "      <td>2008.358</td>\n",
       "      <td>34.058</td>\n",
       "    </tr>\n",
       "  </tbody>\n",
       "</table>\n",
       "</div>"
      ],
      "text/plain": [
       "     state              county  year  births_low  avg_weight_low  \\\n",
       "0  Alabama  Baldwin County, AL  2014       137.0        1995.255   \n",
       "1  Alabama  Baldwin County, AL  2015       141.0        1832.837   \n",
       "2  Alabama  Baldwin County, AL  2016       120.0        2008.358   \n",
       "\n",
       "   avg_ges_age_low  \n",
       "0           34.051  \n",
       "1           32.922  \n",
       "2           34.058  "
      ]
     },
     "execution_count": 42,
     "metadata": {},
     "output_type": "execute_result"
    }
   ],
   "source": [
    "cdc_low.head(3)"
   ]
  },
  {
   "cell_type": "code",
   "execution_count": 43,
   "id": "ddb357c6-bf0f-4615-a132-299d2227b358",
   "metadata": {
    "tags": []
   },
   "outputs": [
    {
     "data": {
      "text/html": [
       "<div>\n",
       "<style scoped>\n",
       "    .dataframe tbody tr th:only-of-type {\n",
       "        vertical-align: middle;\n",
       "    }\n",
       "\n",
       "    .dataframe tbody tr th {\n",
       "        vertical-align: top;\n",
       "    }\n",
       "\n",
       "    .dataframe thead th {\n",
       "        text-align: right;\n",
       "    }\n",
       "</style>\n",
       "<table border=\"1\" class=\"dataframe\">\n",
       "  <thead>\n",
       "    <tr style=\"text-align: right;\">\n",
       "      <th></th>\n",
       "      <th>state</th>\n",
       "      <th>county</th>\n",
       "      <th>year</th>\n",
       "      <th>births_all</th>\n",
       "      <th>avg_weight_all</th>\n",
       "      <th>avg_ges_age_all</th>\n",
       "    </tr>\n",
       "  </thead>\n",
       "  <tbody>\n",
       "    <tr>\n",
       "      <th>0</th>\n",
       "      <td>Alabama</td>\n",
       "      <td>Baldwin County, AL</td>\n",
       "      <td>2014</td>\n",
       "      <td>1724.0</td>\n",
       "      <td>3296.472</td>\n",
       "      <td>38.489</td>\n",
       "    </tr>\n",
       "    <tr>\n",
       "      <th>1</th>\n",
       "      <td>Alabama</td>\n",
       "      <td>Baldwin County, AL</td>\n",
       "      <td>2015</td>\n",
       "      <td>1857.0</td>\n",
       "      <td>3290.811</td>\n",
       "      <td>38.347</td>\n",
       "    </tr>\n",
       "    <tr>\n",
       "      <th>2</th>\n",
       "      <td>Alabama</td>\n",
       "      <td>Baldwin County, AL</td>\n",
       "      <td>2016</td>\n",
       "      <td>1722.0</td>\n",
       "      <td>3315.387</td>\n",
       "      <td>38.497</td>\n",
       "    </tr>\n",
       "  </tbody>\n",
       "</table>\n",
       "</div>"
      ],
      "text/plain": [
       "     state              county  year  births_all  avg_weight_all  \\\n",
       "0  Alabama  Baldwin County, AL  2014      1724.0        3296.472   \n",
       "1  Alabama  Baldwin County, AL  2015      1857.0        3290.811   \n",
       "2  Alabama  Baldwin County, AL  2016      1722.0        3315.387   \n",
       "\n",
       "   avg_ges_age_all  \n",
       "0           38.489  \n",
       "1           38.347  \n",
       "2           38.497  "
      ]
     },
     "execution_count": 43,
     "metadata": {},
     "output_type": "execute_result"
    }
   ],
   "source": [
    "cdc_all.head(3)"
   ]
  },
  {
   "cell_type": "markdown",
   "id": "eb573a45-18a4-4269-a589-10352646f6cf",
   "metadata": {},
   "source": [
    "#### Merge Data\n",
    "\n",
    "Before further cleaning, the dataframes will be merged.  The low birthweight dataframe `cdc_low` is the main data and we will supplement that with the all birthweight data `cdc_all` so we should end up with a single dataframe that contains 1 entry for each year/county combination that has both the low birthweight and all birthweight data."
   ]
  },
  {
   "cell_type": "code",
   "execution_count": 44,
   "id": "1dcfc03e-d22e-4f5d-a237-1ff656ab682b",
   "metadata": {
    "tags": []
   },
   "outputs": [],
   "source": [
    "cdc = pd.merge(cdc_low, cdc_all, how='left', on=['state', 'county', 'year'])"
   ]
  },
  {
   "cell_type": "code",
   "execution_count": 45,
   "id": "3fff8e71-53bd-4f47-9533-9dcecedc3e25",
   "metadata": {
    "tags": []
   },
   "outputs": [
    {
     "data": {
      "text/html": [
       "<div>\n",
       "<style scoped>\n",
       "    .dataframe tbody tr th:only-of-type {\n",
       "        vertical-align: middle;\n",
       "    }\n",
       "\n",
       "    .dataframe tbody tr th {\n",
       "        vertical-align: top;\n",
       "    }\n",
       "\n",
       "    .dataframe thead th {\n",
       "        text-align: right;\n",
       "    }\n",
       "</style>\n",
       "<table border=\"1\" class=\"dataframe\">\n",
       "  <thead>\n",
       "    <tr style=\"text-align: right;\">\n",
       "      <th></th>\n",
       "      <th>state</th>\n",
       "      <th>county</th>\n",
       "      <th>year</th>\n",
       "      <th>births_low</th>\n",
       "      <th>avg_weight_low</th>\n",
       "      <th>avg_ges_age_low</th>\n",
       "      <th>births_all</th>\n",
       "      <th>avg_weight_all</th>\n",
       "      <th>avg_ges_age_all</th>\n",
       "    </tr>\n",
       "  </thead>\n",
       "  <tbody>\n",
       "    <tr>\n",
       "      <th>0</th>\n",
       "      <td>Alabama</td>\n",
       "      <td>Baldwin County, AL</td>\n",
       "      <td>2014</td>\n",
       "      <td>137.0</td>\n",
       "      <td>1995.255</td>\n",
       "      <td>34.051</td>\n",
       "      <td>1724.0</td>\n",
       "      <td>3296.472</td>\n",
       "      <td>38.489</td>\n",
       "    </tr>\n",
       "    <tr>\n",
       "      <th>1</th>\n",
       "      <td>Alabama</td>\n",
       "      <td>Baldwin County, AL</td>\n",
       "      <td>2015</td>\n",
       "      <td>141.0</td>\n",
       "      <td>1832.837</td>\n",
       "      <td>32.922</td>\n",
       "      <td>1857.0</td>\n",
       "      <td>3290.811</td>\n",
       "      <td>38.347</td>\n",
       "    </tr>\n",
       "    <tr>\n",
       "      <th>2</th>\n",
       "      <td>Alabama</td>\n",
       "      <td>Baldwin County, AL</td>\n",
       "      <td>2016</td>\n",
       "      <td>120.0</td>\n",
       "      <td>2008.358</td>\n",
       "      <td>34.058</td>\n",
       "      <td>1722.0</td>\n",
       "      <td>3315.387</td>\n",
       "      <td>38.497</td>\n",
       "    </tr>\n",
       "    <tr>\n",
       "      <th>3</th>\n",
       "      <td>Alabama</td>\n",
       "      <td>Baldwin County, AL</td>\n",
       "      <td>2017</td>\n",
       "      <td>100.0</td>\n",
       "      <td>2082.830</td>\n",
       "      <td>34.380</td>\n",
       "      <td>1782.0</td>\n",
       "      <td>3346.588</td>\n",
       "      <td>38.572</td>\n",
       "    </tr>\n",
       "    <tr>\n",
       "      <th>4</th>\n",
       "      <td>Alabama</td>\n",
       "      <td>Baldwin County, AL</td>\n",
       "      <td>2018</td>\n",
       "      <td>122.0</td>\n",
       "      <td>1942.303</td>\n",
       "      <td>33.508</td>\n",
       "      <td>1770.0</td>\n",
       "      <td>3301.324</td>\n",
       "      <td>38.423</td>\n",
       "    </tr>\n",
       "  </tbody>\n",
       "</table>\n",
       "</div>"
      ],
      "text/plain": [
       "     state              county  year  births_low  avg_weight_low  \\\n",
       "0  Alabama  Baldwin County, AL  2014       137.0        1995.255   \n",
       "1  Alabama  Baldwin County, AL  2015       141.0        1832.837   \n",
       "2  Alabama  Baldwin County, AL  2016       120.0        2008.358   \n",
       "3  Alabama  Baldwin County, AL  2017       100.0        2082.830   \n",
       "4  Alabama  Baldwin County, AL  2018       122.0        1942.303   \n",
       "\n",
       "   avg_ges_age_low  births_all  avg_weight_all  avg_ges_age_all  \n",
       "0           34.051      1724.0        3296.472           38.489  \n",
       "1           32.922      1857.0        3290.811           38.347  \n",
       "2           34.058      1722.0        3315.387           38.497  \n",
       "3           34.380      1782.0        3346.588           38.572  \n",
       "4           33.508      1770.0        3301.324           38.423  "
      ]
     },
     "execution_count": 45,
     "metadata": {},
     "output_type": "execute_result"
    }
   ],
   "source": [
    "cdc.head()"
   ]
  },
  {
   "cell_type": "markdown",
   "id": "c010eb6e-a4e8-483e-9979-a7754d023628",
   "metadata": {},
   "source": [
    "#### County Names"
   ]
  },
  {
   "cell_type": "code",
   "execution_count": 46,
   "id": "3b540dbc-37e7-4abd-a969-78d6c1f7e59f",
   "metadata": {
    "tags": []
   },
   "outputs": [
    {
     "data": {
      "text/plain": [
       "2751           Cecil County, MD\n",
       "2600         Orleans Parish, LA\n",
       "3077      Livingston County, MI\n",
       "1590          Fulton County, GA\n",
       "2838      St. Mary's County, MD\n",
       "2531           Caddo Parish, LA\n",
       "6554        Walworth County, WI\n",
       "4122    St. Lawrence County, NY\n",
       "2422       Wyandotte County, KS\n",
       "2578       Lafayette Parish, LA\n",
       "Name: county, dtype: object"
      ]
     },
     "execution_count": 46,
     "metadata": {},
     "output_type": "execute_result"
    }
   ],
   "source": [
    "cdc['county'].sample(10)"
   ]
  },
  {
   "cell_type": "markdown",
   "id": "ac0a9819-c58b-4a41-97d0-748bd1afca29",
   "metadata": {},
   "source": [
    "I ran the sample code above multiple times to see some of the data in the county column.  Looks like they are including the state abbreviation in the County name, so will remove that.  There were also some places that didn't say \"County\" and said \"Counties\" (i.e. Unidentified Counties, WY) and also there were some locations that were parishes (in LA) or other unique monikers like Borough.  So I'm splitting on both the \" Count\" to capture County and Counties as well as \",\" to get both cases.\n",
    "\n",
    "We should look at what the AQI data has and decide whether we need to treat the remaining unique naming cases that remain after this clean up."
   ]
  },
  {
   "cell_type": "code",
   "execution_count": 584,
   "id": "d91e0df7-2f5c-4b8a-84c6-992b6ded4c57",
   "metadata": {
    "execution": {
     "iopub.execute_input": "2023-01-17T00:54:50.394998Z",
     "iopub.status.busy": "2023-01-17T00:54:50.394887Z",
     "iopub.status.idle": "2023-01-17T00:54:50.399639Z",
     "shell.execute_reply": "2023-01-17T00:54:50.399300Z",
     "shell.execute_reply.started": "2023-01-17T00:54:50.394988Z"
    },
    "tags": []
   },
   "outputs": [],
   "source": [
    "cdc['county'] = cdc['county'\n",
    "                   ].apply(lambda x: x.split(' Count')[0].split(',')[0].title())"
   ]
  },
  {
   "cell_type": "code",
   "execution_count": 585,
   "id": "041736ed-1a55-42bc-86dd-40c8ef9d980a",
   "metadata": {
    "execution": {
     "iopub.execute_input": "2023-01-17T00:54:50.400382Z",
     "iopub.status.busy": "2023-01-17T00:54:50.400285Z",
     "iopub.status.idle": "2023-01-17T00:54:50.405313Z",
     "shell.execute_reply": "2023-01-17T00:54:50.404991Z",
     "shell.execute_reply.started": "2023-01-17T00:54:50.400374Z"
    },
    "tags": []
   },
   "outputs": [
    {
     "data": {
      "text/plain": [
       "state      50\n",
       "county    466\n",
       "dtype: int64"
      ]
     },
     "execution_count": 585,
     "metadata": {},
     "output_type": "execute_result"
    }
   ],
   "source": [
    "cdc[['state', 'county']].nunique()"
   ]
  },
  {
   "cell_type": "code",
   "execution_count": 586,
   "id": "84ee3281-bac9-4f67-9c2d-271f5457e1c3",
   "metadata": {
    "execution": {
     "iopub.execute_input": "2023-01-17T00:54:50.406115Z",
     "iopub.status.busy": "2023-01-17T00:54:50.405976Z",
     "iopub.status.idle": "2023-01-17T00:54:50.410395Z",
     "shell.execute_reply": "2023-01-17T00:54:50.409871Z",
     "shell.execute_reply.started": "2023-01-17T00:54:50.406105Z"
    },
    "tags": []
   },
   "outputs": [
    {
     "data": {
      "text/plain": [
       "4860           Richland\n",
       "3125            Saginaw\n",
       "3751         Bernalillo\n",
       "6483           Marathon\n",
       "271             Alameda\n",
       "2747            Carroll\n",
       "5369               York\n",
       "2825    Prince George'S\n",
       "6254       Norfolk City\n",
       "2662       Unidentified\n",
       "Name: county, dtype: object"
      ]
     },
     "execution_count": 586,
     "metadata": {},
     "output_type": "execute_result"
    }
   ],
   "source": [
    "cdc['county'].sample(10)"
   ]
  },
  {
   "cell_type": "markdown",
   "id": "3766351c-bfe0-4d1d-9076-4275a157eae9",
   "metadata": {},
   "source": [
    "This looks more like what I would expect where it is just the name of the county.  Since we also saw that there were unidentified counties, and they are all just listed as Unidentified now, we should drop that data since we are trying to investigate county air quality and county birth weights, so without a specific county, the data is not valuable to us."
   ]
  },
  {
   "cell_type": "code",
   "execution_count": 587,
   "id": "32057c89-ade6-42a3-b88b-245fa6dbe7d2",
   "metadata": {
    "execution": {
     "iopub.execute_input": "2023-01-17T00:54:50.411415Z",
     "iopub.status.busy": "2023-01-17T00:54:50.411192Z",
     "iopub.status.idle": "2023-01-17T00:54:50.413307Z",
     "shell.execute_reply": "2023-01-17T00:54:50.412933Z",
     "shell.execute_reply.started": "2023-01-17T00:54:50.411403Z"
    },
    "tags": []
   },
   "outputs": [],
   "source": [
    "# looking through all the unique values for anything else interesting\n",
    "# cdc['county'].unique()"
   ]
  },
  {
   "cell_type": "markdown",
   "id": "cfae153f-0ccf-457b-b980-348e85243626",
   "metadata": {},
   "source": [
    "I'm also seeing many counties that end in lower case 'city' so investigating some of those, like:\n",
    "* St. Louis city\n",
    "* Chesapeake city\n",
    "* Norfolk city\n",
    "* Portsmouth city\n",
    "\n",
    "St. Louis is interesting, since it sounds like the city is a county, but there is also a St. Louis county that surrounds the city according to https://www.stlouis-mo.gov/government/about/city-government-structure.cfm\n",
    "\n",
    "Chesapeake, Virginia is also an independent city and not part of a county https://en.wikipedia.org/wiki/Chesapeake,_Virginia\n",
    "\n",
    "Given this information and the information above about seeing some \"parish\" listings in Louisiana, we checked against the AQI county listings and found that in the AQI data:\n",
    "* the word Parish does not appear, but the name of the Parish does--like 'East Baton Rouge', so we should drop 'Parish' from the CDC county names.\n",
    "* The word City does appear in the AQI data, but it is capitalized, so we should title case the CDC data or make all of them lower case when we go to match them up (this has been incorporated into earlier cleaning steps and is no longer a concern)"
   ]
  },
  {
   "cell_type": "code",
   "execution_count": 588,
   "id": "e566f333-9dcb-4474-911e-10181619eb0e",
   "metadata": {
    "execution": {
     "iopub.execute_input": "2023-01-17T00:54:50.413863Z",
     "iopub.status.busy": "2023-01-17T00:54:50.413781Z",
     "iopub.status.idle": "2023-01-17T00:54:50.417022Z",
     "shell.execute_reply": "2023-01-17T00:54:50.416739Z",
     "shell.execute_reply.started": "2023-01-17T00:54:50.413855Z"
    },
    "tags": []
   },
   "outputs": [],
   "source": [
    "# drop parish\n",
    "cdc['county'] = cdc['county'\n",
    "                   ].apply(lambda x: x.split(' Parish')[0])"
   ]
  },
  {
   "cell_type": "code",
   "execution_count": 589,
   "id": "cc541b45-63bc-4d8c-a1fd-2c1794a81533",
   "metadata": {
    "execution": {
     "iopub.execute_input": "2023-01-17T00:54:50.417683Z",
     "iopub.status.busy": "2023-01-17T00:54:50.417554Z",
     "iopub.status.idle": "2023-01-17T00:54:50.420192Z",
     "shell.execute_reply": "2023-01-17T00:54:50.419884Z",
     "shell.execute_reply.started": "2023-01-17T00:54:50.417674Z"
    },
    "tags": []
   },
   "outputs": [
    {
     "data": {
      "text/plain": [
       "(6616, 9)"
      ]
     },
     "execution_count": 589,
     "metadata": {},
     "output_type": "execute_result"
    }
   ],
   "source": [
    "cdc.shape"
   ]
  },
  {
   "cell_type": "code",
   "execution_count": 590,
   "id": "e9d19723-d5b1-4ea2-b258-f5f9e9a55b66",
   "metadata": {
    "execution": {
     "iopub.execute_input": "2023-01-17T00:54:50.420827Z",
     "iopub.status.busy": "2023-01-17T00:54:50.420710Z",
     "iopub.status.idle": "2023-01-17T00:54:50.425568Z",
     "shell.execute_reply": "2023-01-17T00:54:50.425034Z",
     "shell.execute_reply.started": "2023-01-17T00:54:50.420818Z"
    },
    "tags": []
   },
   "outputs": [],
   "source": [
    "cdc.drop(cdc[cdc['county'] == 'Unidentified'].index, inplace=True)"
   ]
  },
  {
   "cell_type": "code",
   "execution_count": 591,
   "id": "cafd0f5d-ac08-4626-94e4-17c62c400a4e",
   "metadata": {
    "execution": {
     "iopub.execute_input": "2023-01-17T00:54:50.426343Z",
     "iopub.status.busy": "2023-01-17T00:54:50.426240Z",
     "iopub.status.idle": "2023-01-17T00:54:50.429110Z",
     "shell.execute_reply": "2023-01-17T00:54:50.428666Z",
     "shell.execute_reply.started": "2023-01-17T00:54:50.426334Z"
    },
    "tags": []
   },
   "outputs": [
    {
     "data": {
      "text/plain": [
       "(6094, 9)"
      ]
     },
     "execution_count": 591,
     "metadata": {},
     "output_type": "execute_result"
    }
   ],
   "source": [
    "cdc.shape"
   ]
  },
  {
   "cell_type": "code",
   "execution_count": 592,
   "id": "25073c83-d890-4306-99af-b1ebbc20c3df",
   "metadata": {
    "execution": {
     "iopub.execute_input": "2023-01-17T00:54:50.429726Z",
     "iopub.status.busy": "2023-01-17T00:54:50.429614Z",
     "iopub.status.idle": "2023-01-17T00:54:50.432790Z",
     "shell.execute_reply": "2023-01-17T00:54:50.432484Z",
     "shell.execute_reply.started": "2023-01-17T00:54:50.429717Z"
    },
    "tags": []
   },
   "outputs": [
    {
     "data": {
      "text/plain": [
       "state               object\n",
       "county              object\n",
       "year                 int64\n",
       "births_low         float64\n",
       "avg_weight_low     float64\n",
       "avg_ges_age_low    float64\n",
       "births_all         float64\n",
       "avg_weight_all     float64\n",
       "avg_ges_age_all    float64\n",
       "dtype: object"
      ]
     },
     "execution_count": 592,
     "metadata": {},
     "output_type": "execute_result"
    }
   ],
   "source": [
    "cdc.dtypes"
   ]
  },
  {
   "cell_type": "markdown",
   "id": "6339ba20-2376-4ff1-95d3-9c5beb4aacfd",
   "metadata": {},
   "source": [
    "#### Calculate Percent of Low Birthweight\n",
    "\n",
    "We have the total births and the low birthweight births, so let's create a percentage of low birthrate births before exporting the cleaned data."
   ]
  },
  {
   "cell_type": "code",
   "execution_count": 614,
   "id": "44f3df93-5fad-4b19-980d-618f908c9640",
   "metadata": {
    "execution": {
     "iopub.execute_input": "2023-01-17T00:58:17.303104Z",
     "iopub.status.busy": "2023-01-17T00:58:17.302429Z",
     "iopub.status.idle": "2023-01-17T00:58:17.314681Z",
     "shell.execute_reply": "2023-01-17T00:58:17.311584Z",
     "shell.execute_reply.started": "2023-01-17T00:58:17.303067Z"
    },
    "tags": []
   },
   "outputs": [],
   "source": [
    "cdc['pct_low'] = (cdc['births_low'] / cdc['births_all']).round(3)"
   ]
  },
  {
   "cell_type": "code",
   "execution_count": 615,
   "id": "43ed4b5f-5ea4-455f-9e44-a2542700d348",
   "metadata": {
    "execution": {
     "iopub.execute_input": "2023-01-17T00:58:19.728535Z",
     "iopub.status.busy": "2023-01-17T00:58:19.727829Z",
     "iopub.status.idle": "2023-01-17T00:58:19.752359Z",
     "shell.execute_reply": "2023-01-17T00:58:19.751893Z",
     "shell.execute_reply.started": "2023-01-17T00:58:19.728484Z"
    },
    "tags": []
   },
   "outputs": [
    {
     "data": {
      "text/html": [
       "<div>\n",
       "<style scoped>\n",
       "    .dataframe tbody tr th:only-of-type {\n",
       "        vertical-align: middle;\n",
       "    }\n",
       "\n",
       "    .dataframe tbody tr th {\n",
       "        vertical-align: top;\n",
       "    }\n",
       "\n",
       "    .dataframe thead th {\n",
       "        text-align: right;\n",
       "    }\n",
       "</style>\n",
       "<table border=\"1\" class=\"dataframe\">\n",
       "  <thead>\n",
       "    <tr style=\"text-align: right;\">\n",
       "      <th></th>\n",
       "      <th>state</th>\n",
       "      <th>county</th>\n",
       "      <th>year</th>\n",
       "      <th>births_low</th>\n",
       "      <th>avg_weight_low</th>\n",
       "      <th>avg_ges_age_low</th>\n",
       "      <th>births_all</th>\n",
       "      <th>avg_weight_all</th>\n",
       "      <th>avg_ges_age_all</th>\n",
       "      <th>pct_low</th>\n",
       "    </tr>\n",
       "  </thead>\n",
       "  <tbody>\n",
       "    <tr>\n",
       "      <th>0</th>\n",
       "      <td>Alabama</td>\n",
       "      <td>Baldwin</td>\n",
       "      <td>2014</td>\n",
       "      <td>137.0</td>\n",
       "      <td>1995.255</td>\n",
       "      <td>34.051</td>\n",
       "      <td>1724.0</td>\n",
       "      <td>3296.472</td>\n",
       "      <td>38.489</td>\n",
       "      <td>0.079</td>\n",
       "    </tr>\n",
       "    <tr>\n",
       "      <th>1</th>\n",
       "      <td>Alabama</td>\n",
       "      <td>Baldwin</td>\n",
       "      <td>2015</td>\n",
       "      <td>141.0</td>\n",
       "      <td>1832.837</td>\n",
       "      <td>32.922</td>\n",
       "      <td>1857.0</td>\n",
       "      <td>3290.811</td>\n",
       "      <td>38.347</td>\n",
       "      <td>0.076</td>\n",
       "    </tr>\n",
       "    <tr>\n",
       "      <th>2</th>\n",
       "      <td>Alabama</td>\n",
       "      <td>Baldwin</td>\n",
       "      <td>2016</td>\n",
       "      <td>120.0</td>\n",
       "      <td>2008.358</td>\n",
       "      <td>34.058</td>\n",
       "      <td>1722.0</td>\n",
       "      <td>3315.387</td>\n",
       "      <td>38.497</td>\n",
       "      <td>0.070</td>\n",
       "    </tr>\n",
       "    <tr>\n",
       "      <th>3</th>\n",
       "      <td>Alabama</td>\n",
       "      <td>Baldwin</td>\n",
       "      <td>2017</td>\n",
       "      <td>100.0</td>\n",
       "      <td>2082.830</td>\n",
       "      <td>34.380</td>\n",
       "      <td>1782.0</td>\n",
       "      <td>3346.588</td>\n",
       "      <td>38.572</td>\n",
       "      <td>0.056</td>\n",
       "    </tr>\n",
       "    <tr>\n",
       "      <th>4</th>\n",
       "      <td>Alabama</td>\n",
       "      <td>Baldwin</td>\n",
       "      <td>2018</td>\n",
       "      <td>122.0</td>\n",
       "      <td>1942.303</td>\n",
       "      <td>33.508</td>\n",
       "      <td>1770.0</td>\n",
       "      <td>3301.324</td>\n",
       "      <td>38.423</td>\n",
       "      <td>0.069</td>\n",
       "    </tr>\n",
       "    <tr>\n",
       "      <th>5</th>\n",
       "      <td>Alabama</td>\n",
       "      <td>Baldwin</td>\n",
       "      <td>2019</td>\n",
       "      <td>99.0</td>\n",
       "      <td>2060.768</td>\n",
       "      <td>34.919</td>\n",
       "      <td>1845.0</td>\n",
       "      <td>3327.293</td>\n",
       "      <td>38.521</td>\n",
       "      <td>0.054</td>\n",
       "    </tr>\n",
       "    <tr>\n",
       "      <th>6</th>\n",
       "      <td>Alabama</td>\n",
       "      <td>Baldwin</td>\n",
       "      <td>2020</td>\n",
       "      <td>113.0</td>\n",
       "      <td>2025.478</td>\n",
       "      <td>34.982</td>\n",
       "      <td>1763.0</td>\n",
       "      <td>3305.012</td>\n",
       "      <td>38.529</td>\n",
       "      <td>0.064</td>\n",
       "    </tr>\n",
       "    <tr>\n",
       "      <th>7</th>\n",
       "      <td>Alabama</td>\n",
       "      <td>Baldwin</td>\n",
       "      <td>2021</td>\n",
       "      <td>120.0</td>\n",
       "      <td>1969.508</td>\n",
       "      <td>34.269</td>\n",
       "      <td>1969.0</td>\n",
       "      <td>3293.984</td>\n",
       "      <td>38.394</td>\n",
       "      <td>0.061</td>\n",
       "    </tr>\n",
       "    <tr>\n",
       "      <th>8</th>\n",
       "      <td>Alabama</td>\n",
       "      <td>Calhoun</td>\n",
       "      <td>2014</td>\n",
       "      <td>59.0</td>\n",
       "      <td>1972.661</td>\n",
       "      <td>34.475</td>\n",
       "      <td>948.0</td>\n",
       "      <td>3275.708</td>\n",
       "      <td>38.668</td>\n",
       "      <td>0.062</td>\n",
       "    </tr>\n",
       "    <tr>\n",
       "      <th>9</th>\n",
       "      <td>Alabama</td>\n",
       "      <td>Calhoun</td>\n",
       "      <td>2015</td>\n",
       "      <td>65.0</td>\n",
       "      <td>1909.708</td>\n",
       "      <td>33.892</td>\n",
       "      <td>983.0</td>\n",
       "      <td>3267.121</td>\n",
       "      <td>38.590</td>\n",
       "      <td>0.066</td>\n",
       "    </tr>\n",
       "  </tbody>\n",
       "</table>\n",
       "</div>"
      ],
      "text/plain": [
       "     state   county  year  births_low  avg_weight_low  avg_ges_age_low  \\\n",
       "0  Alabama  Baldwin  2014       137.0        1995.255           34.051   \n",
       "1  Alabama  Baldwin  2015       141.0        1832.837           32.922   \n",
       "2  Alabama  Baldwin  2016       120.0        2008.358           34.058   \n",
       "3  Alabama  Baldwin  2017       100.0        2082.830           34.380   \n",
       "4  Alabama  Baldwin  2018       122.0        1942.303           33.508   \n",
       "5  Alabama  Baldwin  2019        99.0        2060.768           34.919   \n",
       "6  Alabama  Baldwin  2020       113.0        2025.478           34.982   \n",
       "7  Alabama  Baldwin  2021       120.0        1969.508           34.269   \n",
       "8  Alabama  Calhoun  2014        59.0        1972.661           34.475   \n",
       "9  Alabama  Calhoun  2015        65.0        1909.708           33.892   \n",
       "\n",
       "   births_all  avg_weight_all  avg_ges_age_all  pct_low  \n",
       "0      1724.0        3296.472           38.489    0.079  \n",
       "1      1857.0        3290.811           38.347    0.076  \n",
       "2      1722.0        3315.387           38.497    0.070  \n",
       "3      1782.0        3346.588           38.572    0.056  \n",
       "4      1770.0        3301.324           38.423    0.069  \n",
       "5      1845.0        3327.293           38.521    0.054  \n",
       "6      1763.0        3305.012           38.529    0.064  \n",
       "7      1969.0        3293.984           38.394    0.061  \n",
       "8       948.0        3275.708           38.668    0.062  \n",
       "9       983.0        3267.121           38.590    0.066  "
      ]
     },
     "execution_count": 615,
     "metadata": {},
     "output_type": "execute_result"
    }
   ],
   "source": [
    "cdc.head(10)"
   ]
  },
  {
   "cell_type": "markdown",
   "id": "9bbe1aa3-47f7-452b-b979-440c60aac82a",
   "metadata": {},
   "source": [
    "### Export Data"
   ]
  },
  {
   "cell_type": "code",
   "execution_count": 616,
   "id": "18cd569f-e8fe-4a98-bae8-cfb15da8613c",
   "metadata": {
    "execution": {
     "iopub.execute_input": "2023-01-17T00:58:40.130786Z",
     "iopub.status.busy": "2023-01-17T00:58:40.129143Z",
     "iopub.status.idle": "2023-01-17T00:58:40.166821Z",
     "shell.execute_reply": "2023-01-17T00:58:40.166481Z",
     "shell.execute_reply.started": "2023-01-17T00:58:40.130719Z"
    },
    "tags": []
   },
   "outputs": [],
   "source": [
    "cdc.to_csv('data/cdc_cleaned.csv', index=False)"
   ]
  },
  {
   "cell_type": "markdown",
   "id": "db1510e5-1a90-4a90-a8fd-624acc1f21b5",
   "metadata": {},
   "source": [
    "# EDA"
   ]
  },
  {
   "cell_type": "markdown",
   "id": "72982d77-b1c3-4e33-867d-82f759b3a483",
   "metadata": {},
   "source": [
    "## Read Cleaned Data"
   ]
  },
  {
   "cell_type": "code",
   "execution_count": 617,
   "id": "012cddc6-9520-4de7-89ae-49eb2a0e7140",
   "metadata": {
    "execution": {
     "iopub.execute_input": "2023-01-17T00:58:42.094887Z",
     "iopub.status.busy": "2023-01-17T00:58:42.093745Z",
     "iopub.status.idle": "2023-01-17T00:58:42.120592Z",
     "shell.execute_reply": "2023-01-17T00:58:42.119976Z",
     "shell.execute_reply.started": "2023-01-17T00:58:42.094840Z"
    },
    "tags": []
   },
   "outputs": [],
   "source": [
    "births = pd.read_csv('data/cdc_cleaned.csv')"
   ]
  },
  {
   "cell_type": "code",
   "execution_count": 618,
   "id": "6a38167a-e957-4c37-8fb7-5d8d9bfa2efa",
   "metadata": {
    "execution": {
     "iopub.execute_input": "2023-01-17T00:58:42.744154Z",
     "iopub.status.busy": "2023-01-17T00:58:42.743754Z",
     "iopub.status.idle": "2023-01-17T00:58:42.764760Z",
     "shell.execute_reply": "2023-01-17T00:58:42.764037Z",
     "shell.execute_reply.started": "2023-01-17T00:58:42.744130Z"
    },
    "tags": []
   },
   "outputs": [
    {
     "data": {
      "text/html": [
       "<div>\n",
       "<style scoped>\n",
       "    .dataframe tbody tr th:only-of-type {\n",
       "        vertical-align: middle;\n",
       "    }\n",
       "\n",
       "    .dataframe tbody tr th {\n",
       "        vertical-align: top;\n",
       "    }\n",
       "\n",
       "    .dataframe thead th {\n",
       "        text-align: right;\n",
       "    }\n",
       "</style>\n",
       "<table border=\"1\" class=\"dataframe\">\n",
       "  <thead>\n",
       "    <tr style=\"text-align: right;\">\n",
       "      <th></th>\n",
       "      <th>state</th>\n",
       "      <th>county</th>\n",
       "      <th>year</th>\n",
       "      <th>births_low</th>\n",
       "      <th>avg_weight_low</th>\n",
       "      <th>avg_ges_age_low</th>\n",
       "      <th>births_all</th>\n",
       "      <th>avg_weight_all</th>\n",
       "      <th>avg_ges_age_all</th>\n",
       "      <th>pct_low</th>\n",
       "    </tr>\n",
       "  </thead>\n",
       "  <tbody>\n",
       "    <tr>\n",
       "      <th>0</th>\n",
       "      <td>Alabama</td>\n",
       "      <td>Baldwin</td>\n",
       "      <td>2014</td>\n",
       "      <td>137.0</td>\n",
       "      <td>1995.255</td>\n",
       "      <td>34.051</td>\n",
       "      <td>1724.0</td>\n",
       "      <td>3296.472</td>\n",
       "      <td>38.489</td>\n",
       "      <td>0.079</td>\n",
       "    </tr>\n",
       "    <tr>\n",
       "      <th>1</th>\n",
       "      <td>Alabama</td>\n",
       "      <td>Baldwin</td>\n",
       "      <td>2015</td>\n",
       "      <td>141.0</td>\n",
       "      <td>1832.837</td>\n",
       "      <td>32.922</td>\n",
       "      <td>1857.0</td>\n",
       "      <td>3290.811</td>\n",
       "      <td>38.347</td>\n",
       "      <td>0.076</td>\n",
       "    </tr>\n",
       "    <tr>\n",
       "      <th>2</th>\n",
       "      <td>Alabama</td>\n",
       "      <td>Baldwin</td>\n",
       "      <td>2016</td>\n",
       "      <td>120.0</td>\n",
       "      <td>2008.358</td>\n",
       "      <td>34.058</td>\n",
       "      <td>1722.0</td>\n",
       "      <td>3315.387</td>\n",
       "      <td>38.497</td>\n",
       "      <td>0.070</td>\n",
       "    </tr>\n",
       "    <tr>\n",
       "      <th>3</th>\n",
       "      <td>Alabama</td>\n",
       "      <td>Baldwin</td>\n",
       "      <td>2017</td>\n",
       "      <td>100.0</td>\n",
       "      <td>2082.830</td>\n",
       "      <td>34.380</td>\n",
       "      <td>1782.0</td>\n",
       "      <td>3346.588</td>\n",
       "      <td>38.572</td>\n",
       "      <td>0.056</td>\n",
       "    </tr>\n",
       "    <tr>\n",
       "      <th>4</th>\n",
       "      <td>Alabama</td>\n",
       "      <td>Baldwin</td>\n",
       "      <td>2018</td>\n",
       "      <td>122.0</td>\n",
       "      <td>1942.303</td>\n",
       "      <td>33.508</td>\n",
       "      <td>1770.0</td>\n",
       "      <td>3301.324</td>\n",
       "      <td>38.423</td>\n",
       "      <td>0.069</td>\n",
       "    </tr>\n",
       "  </tbody>\n",
       "</table>\n",
       "</div>"
      ],
      "text/plain": [
       "     state   county  year  births_low  avg_weight_low  avg_ges_age_low  \\\n",
       "0  Alabama  Baldwin  2014       137.0        1995.255           34.051   \n",
       "1  Alabama  Baldwin  2015       141.0        1832.837           32.922   \n",
       "2  Alabama  Baldwin  2016       120.0        2008.358           34.058   \n",
       "3  Alabama  Baldwin  2017       100.0        2082.830           34.380   \n",
       "4  Alabama  Baldwin  2018       122.0        1942.303           33.508   \n",
       "\n",
       "   births_all  avg_weight_all  avg_ges_age_all  pct_low  \n",
       "0      1724.0        3296.472           38.489    0.079  \n",
       "1      1857.0        3290.811           38.347    0.076  \n",
       "2      1722.0        3315.387           38.497    0.070  \n",
       "3      1782.0        3346.588           38.572    0.056  \n",
       "4      1770.0        3301.324           38.423    0.069  "
      ]
     },
     "execution_count": 618,
     "metadata": {},
     "output_type": "execute_result"
    }
   ],
   "source": [
    "births.head()"
   ]
  },
  {
   "cell_type": "code",
   "execution_count": 597,
   "id": "e8959568-9a90-4f99-907c-b32fd0c6e3fd",
   "metadata": {
    "execution": {
     "iopub.execute_input": "2023-01-17T00:54:50.477917Z",
     "iopub.status.busy": "2023-01-17T00:54:50.477782Z",
     "iopub.status.idle": "2023-01-17T00:54:50.480589Z",
     "shell.execute_reply": "2023-01-17T00:54:50.480277Z",
     "shell.execute_reply.started": "2023-01-17T00:54:50.477908Z"
    },
    "tags": []
   },
   "outputs": [
    {
     "data": {
      "text/plain": [
       "(6094, 9)"
      ]
     },
     "execution_count": 597,
     "metadata": {},
     "output_type": "execute_result"
    }
   ],
   "source": [
    "births.shape"
   ]
  },
  {
   "cell_type": "code",
   "execution_count": 598,
   "id": "c9c16049-7806-44b1-a67a-88e5ac06bbed",
   "metadata": {
    "execution": {
     "iopub.execute_input": "2023-01-17T00:54:50.481253Z",
     "iopub.status.busy": "2023-01-17T00:54:50.481119Z",
     "iopub.status.idle": "2023-01-17T00:54:50.492900Z",
     "shell.execute_reply": "2023-01-17T00:54:50.492454Z",
     "shell.execute_reply.started": "2023-01-17T00:54:50.481244Z"
    },
    "tags": []
   },
   "outputs": [
    {
     "data": {
      "text/html": [
       "<div>\n",
       "<style scoped>\n",
       "    .dataframe tbody tr th:only-of-type {\n",
       "        vertical-align: middle;\n",
       "    }\n",
       "\n",
       "    .dataframe tbody tr th {\n",
       "        vertical-align: top;\n",
       "    }\n",
       "\n",
       "    .dataframe thead th {\n",
       "        text-align: right;\n",
       "    }\n",
       "</style>\n",
       "<table border=\"1\" class=\"dataframe\">\n",
       "  <thead>\n",
       "    <tr style=\"text-align: right;\">\n",
       "      <th></th>\n",
       "      <th>year</th>\n",
       "      <th>births_low</th>\n",
       "      <th>avg_weight_low</th>\n",
       "      <th>avg_ges_age_low</th>\n",
       "      <th>births_all</th>\n",
       "      <th>avg_weight_all</th>\n",
       "      <th>avg_ges_age_all</th>\n",
       "    </tr>\n",
       "  </thead>\n",
       "  <tbody>\n",
       "    <tr>\n",
       "      <th>count</th>\n",
       "      <td>6094.000000</td>\n",
       "      <td>6094.000000</td>\n",
       "      <td>6094.000000</td>\n",
       "      <td>6094.000000</td>\n",
       "      <td>6094.000000</td>\n",
       "      <td>6094.000000</td>\n",
       "      <td>6094.000000</td>\n",
       "    </tr>\n",
       "    <tr>\n",
       "      <th>mean</th>\n",
       "      <td>2015.556285</td>\n",
       "      <td>314.028224</td>\n",
       "      <td>1989.488184</td>\n",
       "      <td>34.113257</td>\n",
       "      <td>4714.525271</td>\n",
       "      <td>3317.070518</td>\n",
       "      <td>38.647829</td>\n",
       "    </tr>\n",
       "    <tr>\n",
       "      <th>std</th>\n",
       "      <td>3.856319</td>\n",
       "      <td>572.645302</td>\n",
       "      <td>62.995391</td>\n",
       "      <td>0.507744</td>\n",
       "      <td>8418.105318</td>\n",
       "      <td>65.225411</td>\n",
       "      <td>0.204450</td>\n",
       "    </tr>\n",
       "    <tr>\n",
       "      <th>min</th>\n",
       "      <td>2007.000000</td>\n",
       "      <td>13.000000</td>\n",
       "      <td>1682.821000</td>\n",
       "      <td>31.750000</td>\n",
       "      <td>399.000000</td>\n",
       "      <td>3065.051000</td>\n",
       "      <td>37.726000</td>\n",
       "    </tr>\n",
       "    <tr>\n",
       "      <th>25%</th>\n",
       "      <td>2013.000000</td>\n",
       "      <td>80.000000</td>\n",
       "      <td>1950.083250</td>\n",
       "      <td>33.814000</td>\n",
       "      <td>1323.000000</td>\n",
       "      <td>3274.358500</td>\n",
       "      <td>38.522000</td>\n",
       "    </tr>\n",
       "    <tr>\n",
       "      <th>50%</th>\n",
       "      <td>2016.000000</td>\n",
       "      <td>137.000000</td>\n",
       "      <td>1989.376000</td>\n",
       "      <td>34.117000</td>\n",
       "      <td>2195.000000</td>\n",
       "      <td>3320.209500</td>\n",
       "      <td>38.647000</td>\n",
       "    </tr>\n",
       "    <tr>\n",
       "      <th>75%</th>\n",
       "      <td>2019.000000</td>\n",
       "      <td>325.750000</td>\n",
       "      <td>2028.819500</td>\n",
       "      <td>34.418750</td>\n",
       "      <td>4873.500000</td>\n",
       "      <td>3363.171000</td>\n",
       "      <td>38.783000</td>\n",
       "    </tr>\n",
       "    <tr>\n",
       "      <th>max</th>\n",
       "      <td>2021.000000</td>\n",
       "      <td>9406.000000</td>\n",
       "      <td>2269.811000</td>\n",
       "      <td>36.378000</td>\n",
       "      <td>137740.000000</td>\n",
       "      <td>3498.659000</td>\n",
       "      <td>39.289000</td>\n",
       "    </tr>\n",
       "  </tbody>\n",
       "</table>\n",
       "</div>"
      ],
      "text/plain": [
       "              year   births_low  avg_weight_low  avg_ges_age_low  \\\n",
       "count  6094.000000  6094.000000     6094.000000      6094.000000   \n",
       "mean   2015.556285   314.028224     1989.488184        34.113257   \n",
       "std       3.856319   572.645302       62.995391         0.507744   \n",
       "min    2007.000000    13.000000     1682.821000        31.750000   \n",
       "25%    2013.000000    80.000000     1950.083250        33.814000   \n",
       "50%    2016.000000   137.000000     1989.376000        34.117000   \n",
       "75%    2019.000000   325.750000     2028.819500        34.418750   \n",
       "max    2021.000000  9406.000000     2269.811000        36.378000   \n",
       "\n",
       "          births_all  avg_weight_all  avg_ges_age_all  \n",
       "count    6094.000000     6094.000000      6094.000000  \n",
       "mean     4714.525271     3317.070518        38.647829  \n",
       "std      8418.105318       65.225411         0.204450  \n",
       "min       399.000000     3065.051000        37.726000  \n",
       "25%      1323.000000     3274.358500        38.522000  \n",
       "50%      2195.000000     3320.209500        38.647000  \n",
       "75%      4873.500000     3363.171000        38.783000  \n",
       "max    137740.000000     3498.659000        39.289000  "
      ]
     },
     "execution_count": 598,
     "metadata": {},
     "output_type": "execute_result"
    }
   ],
   "source": [
    "births.describe()"
   ]
  },
  {
   "cell_type": "code",
   "execution_count": 619,
   "id": "d78202bb-3b9a-42d6-92e9-bfa18babab4f",
   "metadata": {
    "collapsed": true,
    "execution": {
     "iopub.execute_input": "2023-01-17T01:00:04.073053Z",
     "iopub.status.busy": "2023-01-17T01:00:04.071801Z",
     "iopub.status.idle": "2023-01-17T01:00:04.086053Z",
     "shell.execute_reply": "2023-01-17T01:00:04.085574Z",
     "shell.execute_reply.started": "2023-01-17T01:00:04.072988Z"
    },
    "jupyter": {
     "outputs_hidden": true
    },
    "tags": []
   },
   "outputs": [
    {
     "data": {
      "text/plain": [
       "2020    563\n",
       "2021    563\n",
       "2016    551\n",
       "2017    551\n",
       "2018    551\n",
       "2019    551\n",
       "2015    493\n",
       "2014    487\n",
       "2013    380\n",
       "2012    341\n",
       "2011    308\n",
       "2010    228\n",
       "2009    183\n",
       "2008    179\n",
       "2007    165\n",
       "Name: year, dtype: int64"
      ]
     },
     "execution_count": 619,
     "metadata": {},
     "output_type": "execute_result"
    }
   ],
   "source": [
    "births['year'].value_counts()"
   ]
  },
  {
   "cell_type": "code",
   "execution_count": 602,
   "id": "c4739d08-618d-42f9-9f85-84e07bb36620",
   "metadata": {
    "collapsed": true,
    "execution": {
     "iopub.execute_input": "2023-01-17T00:54:50.503454Z",
     "iopub.status.busy": "2023-01-17T00:54:50.503362Z",
     "iopub.status.idle": "2023-01-17T00:54:50.507456Z",
     "shell.execute_reply": "2023-01-17T00:54:50.507125Z",
     "shell.execute_reply.started": "2023-01-17T00:54:50.503445Z"
    },
    "jupyter": {
     "outputs_hidden": true
    },
    "tags": []
   },
   "outputs": [
    {
     "data": {
      "text/plain": [
       "{'Adams',\n",
       " 'Alameda',\n",
       " 'Albany',\n",
       " 'Allen',\n",
       " 'Arapahoe',\n",
       " 'Ashtabula',\n",
       " 'Bell',\n",
       " 'Bexar',\n",
       " 'Black Hawk',\n",
       " 'Boulder',\n",
       " 'Brazoria',\n",
       " 'Brazos',\n",
       " 'Broome',\n",
       " 'Butler',\n",
       " 'Butte',\n",
       " 'Cameron',\n",
       " 'Cass',\n",
       " 'Chautauqua',\n",
       " 'Chittenden',\n",
       " 'Clark',\n",
       " 'Clermont',\n",
       " 'Collin',\n",
       " 'Columbiana',\n",
       " 'Contra Costa',\n",
       " 'Cuyahoga',\n",
       " 'Dallas',\n",
       " 'Delaware',\n",
       " 'Denton',\n",
       " 'Denver',\n",
       " 'Douglas',\n",
       " 'Dutchess',\n",
       " 'Ector',\n",
       " 'El Dorado',\n",
       " 'El Paso',\n",
       " 'Elkhart',\n",
       " 'Ellis',\n",
       " 'Erie',\n",
       " 'Fairfield',\n",
       " 'Fort Bend',\n",
       " 'Franklin',\n",
       " 'Fresno',\n",
       " 'Galveston',\n",
       " 'Grayson',\n",
       " 'Greene',\n",
       " 'Gregg',\n",
       " 'Hamilton',\n",
       " 'Harris',\n",
       " 'Hendricks',\n",
       " 'Hidalgo',\n",
       " 'Hillsborough',\n",
       " 'Humboldt',\n",
       " 'Imperial',\n",
       " 'Jefferson',\n",
       " 'Johnson',\n",
       " 'Kent',\n",
       " 'Kern',\n",
       " 'Kings',\n",
       " 'La Porte',\n",
       " 'Lake',\n",
       " 'Larimer',\n",
       " 'Licking',\n",
       " 'Linn',\n",
       " 'Lorain',\n",
       " 'Los Angeles',\n",
       " 'Lubbock',\n",
       " 'Lucas',\n",
       " 'Madera',\n",
       " 'Madison',\n",
       " 'Mahoning',\n",
       " 'Marin',\n",
       " 'Marion',\n",
       " 'Mclennan',\n",
       " 'Medina',\n",
       " 'Merced',\n",
       " 'Merrimack',\n",
       " 'Mesa',\n",
       " 'Midland',\n",
       " 'Minnehaha',\n",
       " 'Monroe',\n",
       " 'Monterey',\n",
       " 'Montgomery',\n",
       " 'Napa',\n",
       " 'Nassau',\n",
       " 'New Castle',\n",
       " 'Niagara',\n",
       " 'Nueces',\n",
       " 'Oneida',\n",
       " 'Onondaga',\n",
       " 'Ontario',\n",
       " 'Orange',\n",
       " 'Oswego',\n",
       " 'Placer',\n",
       " 'Polk',\n",
       " 'Portage',\n",
       " 'Porter',\n",
       " 'Potter',\n",
       " 'Pueblo',\n",
       " 'Randall',\n",
       " 'Rensselaer',\n",
       " 'Richland',\n",
       " 'Riverside',\n",
       " 'Rockingham',\n",
       " 'Rockland',\n",
       " 'Sacramento',\n",
       " 'San Bernardino',\n",
       " 'San Diego',\n",
       " 'San Francisco',\n",
       " 'San Joaquin',\n",
       " 'San Luis Obispo',\n",
       " 'San Mateo',\n",
       " 'Santa Barbara',\n",
       " 'Santa Clara',\n",
       " 'Santa Cruz',\n",
       " 'Saratoga',\n",
       " 'Schenectady',\n",
       " 'Scott',\n",
       " 'Sedgwick',\n",
       " 'Shasta',\n",
       " 'Shawnee',\n",
       " 'Smith',\n",
       " 'Solano',\n",
       " 'Sonoma',\n",
       " 'St. Joseph',\n",
       " 'St. Lawrence',\n",
       " 'Stanislaus',\n",
       " 'Stark',\n",
       " 'Strafford',\n",
       " 'Suffolk',\n",
       " 'Summit',\n",
       " 'Sussex',\n",
       " 'Tarrant',\n",
       " 'Taylor',\n",
       " 'Tippecanoe',\n",
       " 'Tom Green',\n",
       " 'Travis',\n",
       " 'Trumbull',\n",
       " 'Tulare',\n",
       " 'Ulster',\n",
       " 'Vanderburgh',\n",
       " 'Ventura',\n",
       " 'Vigo',\n",
       " 'Warren',\n",
       " 'Wayne',\n",
       " 'Webb',\n",
       " 'Weld',\n",
       " 'Westchester',\n",
       " 'Wichita',\n",
       " 'Williamson',\n",
       " 'Wood',\n",
       " 'Woodbury',\n",
       " 'Wyandotte',\n",
       " 'Yolo'}"
      ]
     },
     "execution_count": 602,
     "metadata": {},
     "output_type": "execute_result"
    }
   ],
   "source": [
    "set(births[births['year'] == 2007]['county'])"
   ]
  },
  {
   "cell_type": "markdown",
   "id": "15a479ab-0f61-4f14-85cd-3f0da481663f",
   "metadata": {},
   "source": [
    "# PARKING LOT"
   ]
  },
  {
   "cell_type": "code",
   "execution_count": 603,
   "id": "a74e372b-e450-4e27-ad4e-a3b0fce9a72a",
   "metadata": {
    "execution": {
     "iopub.execute_input": "2023-01-17T00:54:50.508461Z",
     "iopub.status.busy": "2023-01-17T00:54:50.508223Z",
     "iopub.status.idle": "2023-01-17T00:54:50.511082Z",
     "shell.execute_reply": "2023-01-17T00:54:50.510481Z",
     "shell.execute_reply.started": "2023-01-17T00:54:50.508445Z"
    },
    "tags": []
   },
   "outputs": [],
   "source": [
    "# how many counties from the aqi are also in the cdc data\n",
    "# len(set(aqi['county']).intersection(set(cdc['County'])))"
   ]
  },
  {
   "cell_type": "code",
   "execution_count": 604,
   "id": "d96533b1-7a23-42f5-a49a-f11bf0538f6b",
   "metadata": {
    "execution": {
     "iopub.execute_input": "2023-01-17T00:54:50.512041Z",
     "iopub.status.busy": "2023-01-17T00:54:50.511878Z",
     "iopub.status.idle": "2023-01-17T00:54:50.513660Z",
     "shell.execute_reply": "2023-01-17T00:54:50.513380Z",
     "shell.execute_reply.started": "2023-01-17T00:54:50.512031Z"
    },
    "tags": []
   },
   "outputs": [],
   "source": [
    "# what are the differences\n",
    "#set(aqi['county']).difference(set(cdc['County']))"
   ]
  },
  {
   "cell_type": "markdown",
   "id": "fa844c49-fc68-4a0a-985e-9d995d900e5f",
   "metadata": {
    "tags": []
   },
   "source": [
    "### EPA API Information\n",
    "\n",
    "Look to see if getting more granular data from the API is feasible\n",
    "\n",
    "Your user ID is your email address: mrhurless@gmail.com \n",
    "Your key is: rubymouse94 "
   ]
  },
  {
   "cell_type": "code",
   "execution_count": 605,
   "id": "537762f0-5dee-4bec-ae0c-2f620cc624bc",
   "metadata": {
    "execution": {
     "iopub.execute_input": "2023-01-17T00:54:50.514116Z",
     "iopub.status.busy": "2023-01-17T00:54:50.514006Z",
     "iopub.status.idle": "2023-01-17T00:54:50.515892Z",
     "shell.execute_reply": "2023-01-17T00:54:50.515606Z",
     "shell.execute_reply.started": "2023-01-17T00:54:50.514105Z"
    }
   },
   "outputs": [],
   "source": [
    "# import requests"
   ]
  },
  {
   "cell_type": "code",
   "execution_count": 606,
   "id": "419d546d-5f0d-40d9-9c8d-15d9bdf31905",
   "metadata": {
    "execution": {
     "iopub.execute_input": "2023-01-17T00:54:50.516447Z",
     "iopub.status.busy": "2023-01-17T00:54:50.516339Z",
     "iopub.status.idle": "2023-01-17T00:54:50.518115Z",
     "shell.execute_reply": "2023-01-17T00:54:50.517836Z",
     "shell.execute_reply.started": "2023-01-17T00:54:50.516439Z"
    },
    "tags": []
   },
   "outputs": [],
   "source": [
    "# email = 'mrhurless@gmail.com'\n",
    "# key = 'rubymouse94'\n",
    "\n",
    "# url = f'https://aqs.epa.gov/data/api/list/parametersByClass?email={email}&key={key}&pc=CRITERIA'\n",
    "\n",
    "# res = requests.get(url)\n",
    "\n",
    "# res.status_code"
   ]
  },
  {
   "cell_type": "code",
   "execution_count": 607,
   "id": "2f8a816e-6c4a-42af-be96-827413586eac",
   "metadata": {
    "execution": {
     "iopub.execute_input": "2023-01-17T00:54:50.518634Z",
     "iopub.status.busy": "2023-01-17T00:54:50.518544Z",
     "iopub.status.idle": "2023-01-17T00:54:50.520722Z",
     "shell.execute_reply": "2023-01-17T00:54:50.520433Z",
     "shell.execute_reply.started": "2023-01-17T00:54:50.518626Z"
    }
   },
   "outputs": [],
   "source": [
    "# # from https://stackoverflow.com/questions/71603314/ssl-error-unsafe-legacy-renegotiation-disabled\n",
    "\n",
    "# import urllib3\n",
    "# import ssl\n",
    "\n",
    "# class CustomHttpAdapter (requests.adapters.HTTPAdapter):\n",
    "#     # \"Transport adapter\" that allows us to use custom ssl_context.\n",
    "\n",
    "#     def __init__(self, ssl_context=None, **kwargs):\n",
    "#         self.ssl_context = ssl_context\n",
    "#         super().__init__(**kwargs)\n",
    "\n",
    "#     def init_poolmanager(self, connections, maxsize, block=False):\n",
    "#         self.poolmanager = urllib3.poolmanager.PoolManager(\n",
    "#             num_pools=connections, maxsize=maxsize,\n",
    "#             block=block, ssl_context=self.ssl_context)\n",
    "\n",
    "\n",
    "# def get_legacy_session():\n",
    "#     ctx = ssl.create_default_context(ssl.Purpose.SERVER_AUTH)\n",
    "#     ctx.options |= 0x4  # OP_LEGACY_SERVER_CONNECT\n",
    "#     session = requests.session()\n",
    "#     session.mount('https://', CustomHttpAdapter(ctx))\n",
    "#     return session"
   ]
  },
  {
   "cell_type": "code",
   "execution_count": 608,
   "id": "9335456c-877a-4198-8087-ceadc9e35f81",
   "metadata": {
    "execution": {
     "iopub.execute_input": "2023-01-17T00:54:50.521390Z",
     "iopub.status.busy": "2023-01-17T00:54:50.521277Z",
     "iopub.status.idle": "2023-01-17T00:54:50.523387Z",
     "shell.execute_reply": "2023-01-17T00:54:50.523045Z",
     "shell.execute_reply.started": "2023-01-17T00:54:50.521381Z"
    }
   },
   "outputs": [],
   "source": [
    "# res = get_legacy_session().get(url)"
   ]
  },
  {
   "cell_type": "code",
   "execution_count": null,
   "id": "d3bcf3ad-2813-4943-ab7f-ab794892de9f",
   "metadata": {},
   "outputs": [],
   "source": []
  },
  {
   "cell_type": "code",
   "execution_count": 609,
   "id": "85467adb-d25e-4205-a9b7-d25e66ec045d",
   "metadata": {
    "execution": {
     "iopub.execute_input": "2023-01-17T00:54:50.524153Z",
     "iopub.status.busy": "2023-01-17T00:54:50.524031Z",
     "iopub.status.idle": "2023-01-17T00:54:50.529192Z",
     "shell.execute_reply": "2023-01-17T00:54:50.528686Z",
     "shell.execute_reply.started": "2023-01-17T00:54:50.524143Z"
    },
    "tags": []
   },
   "outputs": [],
   "source": [
    "def get_aqi():\n",
    "    creds = ('mhurless@me.com', '0n3L0v3#')\n",
    "    email = 'mrhurless@gmail.com'\n",
    "    key = 'rubymouse94'\n",
    "    all_posts = []\n",
    "    \n",
    "    url = \"https://support.brightsign.biz/api/v2/community/posts\"\n",
    "    \n",
    "    res = requests.get(url, auth=creds)\n",
    "    \n",
    "    # get data other than posts data\n",
    "    metadata = {\n",
    "                key: value for key, value in res.json().items() \n",
    "                if key != 'posts'\n",
    "            }\n",
    "    \n",
    "    last_page = metadata['page_count']\n",
    "    current_page = metadata['page']\n",
    "    \n",
    "    #count = 0 #keep track of posts # don't think this is needed with this\n",
    "    # approach\n",
    "\n",
    "    # goal is to get posts from all pages, so we'll check if we've reached \n",
    "    # the last page, but will also put in a catch for the rate limit as \n",
    "    # mentioned by the API docs\n",
    "    \n",
    "    while current_page <= last_page:\n",
    "        res = requests.get(url, auth=creds)\n",
    "\n",
    "        if res.status_code == 200:\n",
    "            posts = pd.DataFrame(res.json()['posts'])\n",
    "            metadata = {\n",
    "                key: value for key, value in res.json().items() \n",
    "                if key != 'posts'\n",
    "            }\n",
    "            \n",
    "            # update current page\n",
    "            current_page = metadata['page']\n",
    "            \n",
    "            # update URL to pull posts from next page\n",
    "            url = metadata['next_page']\n",
    "\n",
    "            all_posts.append(posts)\n",
    "            \n",
    "            #sleep(5)\n",
    "\n",
    "            if metadata['page'] == metadata['page_count']: \n",
    "                break #break loop if last page is reached\n",
    "\n",
    "            #get sequential posts from most recent to least    \n",
    "            #params['before'] = posts['created_utc'].min()\n",
    "        elif res.status_code == 429:\n",
    "            sleep(res.headers['retry-after'])\n",
    "        else:\n",
    "            print(f'status: {res.status_code}')  \n",
    "    print(f'posts retrieved from API: {len(all_posts)}')\n",
    "\n",
    "    return pd.concat(all_posts)"
   ]
  }
 ],
 "metadata": {
  "kernelspec": {
   "display_name": "Python 3 (ipykernel)",
   "language": "python",
   "name": "python3"
  },
  "language_info": {
   "codemirror_mode": {
    "name": "ipython",
    "version": 3
   },
   "file_extension": ".py",
   "mimetype": "text/x-python",
   "name": "python",
   "nbconvert_exporter": "python",
   "pygments_lexer": "ipython3",
   "version": "3.8.8"
  }
 },
 "nbformat": 4,
 "nbformat_minor": 5
}
