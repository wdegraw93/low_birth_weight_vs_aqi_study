{
 "cells": [
  {
   "cell_type": "markdown",
   "id": "bb87ac76-6e5a-4bb9-b4c4-5ef88304c3c7",
   "metadata": {},
   "source": [
    "# Data Collection and Cleaning"
   ]
  },
  {
   "cell_type": "markdown",
   "id": "eeeea78f-9b61-4564-b6b1-6e5132edf148",
   "metadata": {},
   "source": [
    "Data has been collected from both the EPA for Air Quality Index data and from the CDC for birth data relating to weight.  "
   ]
  },
  {
   "cell_type": "markdown",
   "id": "ddde48d8-8b2c-4ccf-ac47-16333269d8ac",
   "metadata": {},
   "source": [
    "## Imports"
   ]
  },
  {
   "cell_type": "code",
   "execution_count": 99,
   "id": "b78cde8d-490d-4f0a-8843-b65070799d81",
   "metadata": {
    "execution": {
     "iopub.execute_input": "2023-01-12T07:20:47.645712Z",
     "iopub.status.busy": "2023-01-12T07:20:47.644073Z",
     "iopub.status.idle": "2023-01-12T07:20:47.655230Z",
     "shell.execute_reply": "2023-01-12T07:20:47.654356Z",
     "shell.execute_reply.started": "2023-01-12T07:20:47.645600Z"
    },
    "tags": []
   },
   "outputs": [],
   "source": [
    "import pandas as pd\n",
    "import numpy as np\n",
    "import matplotlib.pyplot as plt\n",
    "import seaborn as sns\n",
    "\n",
    "from pathlib import Path"
   ]
  },
  {
   "cell_type": "markdown",
   "id": "7b462df9-11de-456e-9b3c-176e3ec2b489",
   "metadata": {},
   "source": [
    "The air quality data was downloaded from https://aqs.epa.gov/aqsweb/airdata/download_files.html#Annual as files containing annual data from years 2016-2021.  We are combining these CSV files into a single dataframe and will evaluate whether it will meet the needs for the project, or whether data will need to be collected through the API that the EPA offers for AirData."
   ]
  },
  {
   "cell_type": "code",
   "execution_count": 100,
   "id": "7b8cfe0a-0b74-46d1-b8e9-e02cd795ca07",
   "metadata": {
    "execution": {
     "iopub.execute_input": "2023-01-12T07:20:47.657471Z",
     "iopub.status.busy": "2023-01-12T07:20:47.657319Z",
     "iopub.status.idle": "2023-01-12T07:20:47.880880Z",
     "shell.execute_reply": "2023-01-12T07:20:47.880405Z",
     "shell.execute_reply.started": "2023-01-12T07:20:47.657460Z"
    },
    "tags": []
   },
   "outputs": [],
   "source": [
    "# code from Winston merged with approach from\n",
    "# https://towardsdatascience.com/pandas-concat-tricks-you-should-know-to-speed-up-your-data-analysis-cd3d4fdfe6dd\n",
    "\n",
    "data_path = Path('data/')\n",
    "\n",
    "# create a list of all the AQI csv files\n",
    "dfs = (\n",
    "    pd.read_csv(file) for file in data_path.glob('*aqi*') if file.is_file()\n",
    ")\n",
    "\n",
    "# concatenate the dataframes\n",
    "res = pd.concat(dfs)\n",
    "\n",
    "# export the final csv\n",
    "res.to_csv('data/aqi_by_year_2006-2021.csv', index=False)"
   ]
  },
  {
   "cell_type": "markdown",
   "id": "e1313cd6-657f-4ba5-b71c-9af1c6981e3d",
   "metadata": {},
   "source": [
    "Read the final CSV for all the AQI data"
   ]
  },
  {
   "cell_type": "code",
   "execution_count": 101,
   "id": "04e99e09-da9f-4496-82c4-0e30295776c5",
   "metadata": {
    "execution": {
     "iopub.execute_input": "2023-01-12T07:20:47.881542Z",
     "iopub.status.busy": "2023-01-12T07:20:47.881437Z",
     "iopub.status.idle": "2023-01-12T07:20:47.908440Z",
     "shell.execute_reply": "2023-01-12T07:20:47.908062Z",
     "shell.execute_reply.started": "2023-01-12T07:20:47.881533Z"
    },
    "tags": []
   },
   "outputs": [],
   "source": [
    "aqi = pd.read_csv('data/aqi_by_year_2006-2021.csv')"
   ]
  },
  {
   "cell_type": "code",
   "execution_count": 102,
   "id": "6ebe28d0-0354-46a5-8f81-6b4ffb180d21",
   "metadata": {
    "execution": {
     "iopub.execute_input": "2023-01-12T07:20:47.909212Z",
     "iopub.status.busy": "2023-01-12T07:20:47.909088Z",
     "iopub.status.idle": "2023-01-12T07:20:47.916017Z",
     "shell.execute_reply": "2023-01-12T07:20:47.915515Z",
     "shell.execute_reply.started": "2023-01-12T07:20:47.909202Z"
    },
    "tags": []
   },
   "outputs": [
    {
     "data": {
      "text/html": [
       "<div>\n",
       "<style scoped>\n",
       "    .dataframe tbody tr th:only-of-type {\n",
       "        vertical-align: middle;\n",
       "    }\n",
       "\n",
       "    .dataframe tbody tr th {\n",
       "        vertical-align: top;\n",
       "    }\n",
       "\n",
       "    .dataframe thead th {\n",
       "        text-align: right;\n",
       "    }\n",
       "</style>\n",
       "<table border=\"1\" class=\"dataframe\">\n",
       "  <thead>\n",
       "    <tr style=\"text-align: right;\">\n",
       "      <th></th>\n",
       "      <th>State</th>\n",
       "      <th>County</th>\n",
       "      <th>Year</th>\n",
       "      <th>Days with AQI</th>\n",
       "      <th>Good Days</th>\n",
       "      <th>Moderate Days</th>\n",
       "      <th>Unhealthy for Sensitive Groups Days</th>\n",
       "      <th>Unhealthy Days</th>\n",
       "      <th>Very Unhealthy Days</th>\n",
       "      <th>Hazardous Days</th>\n",
       "      <th>Max AQI</th>\n",
       "      <th>90th Percentile AQI</th>\n",
       "      <th>Median AQI</th>\n",
       "      <th>Days CO</th>\n",
       "      <th>Days NO2</th>\n",
       "      <th>Days Ozone</th>\n",
       "      <th>Days PM2.5</th>\n",
       "      <th>Days PM10</th>\n",
       "    </tr>\n",
       "  </thead>\n",
       "  <tbody>\n",
       "    <tr>\n",
       "      <th>0</th>\n",
       "      <td>Alabama</td>\n",
       "      <td>Baldwin</td>\n",
       "      <td>2009</td>\n",
       "      <td>252</td>\n",
       "      <td>218</td>\n",
       "      <td>32</td>\n",
       "      <td>2</td>\n",
       "      <td>0</td>\n",
       "      <td>0</td>\n",
       "      <td>0</td>\n",
       "      <td>136</td>\n",
       "      <td>53</td>\n",
       "      <td>36</td>\n",
       "      <td>0</td>\n",
       "      <td>0</td>\n",
       "      <td>200</td>\n",
       "      <td>52</td>\n",
       "      <td>0</td>\n",
       "    </tr>\n",
       "    <tr>\n",
       "      <th>1</th>\n",
       "      <td>Alabama</td>\n",
       "      <td>Clay</td>\n",
       "      <td>2009</td>\n",
       "      <td>119</td>\n",
       "      <td>97</td>\n",
       "      <td>22</td>\n",
       "      <td>0</td>\n",
       "      <td>0</td>\n",
       "      <td>0</td>\n",
       "      <td>0</td>\n",
       "      <td>94</td>\n",
       "      <td>59</td>\n",
       "      <td>33</td>\n",
       "      <td>0</td>\n",
       "      <td>0</td>\n",
       "      <td>0</td>\n",
       "      <td>119</td>\n",
       "      <td>0</td>\n",
       "    </tr>\n",
       "    <tr>\n",
       "      <th>2</th>\n",
       "      <td>Alabama</td>\n",
       "      <td>Colbert</td>\n",
       "      <td>2009</td>\n",
       "      <td>323</td>\n",
       "      <td>220</td>\n",
       "      <td>103</td>\n",
       "      <td>0</td>\n",
       "      <td>0</td>\n",
       "      <td>0</td>\n",
       "      <td>0</td>\n",
       "      <td>76</td>\n",
       "      <td>60</td>\n",
       "      <td>43</td>\n",
       "      <td>0</td>\n",
       "      <td>0</td>\n",
       "      <td>132</td>\n",
       "      <td>191</td>\n",
       "      <td>0</td>\n",
       "    </tr>\n",
       "    <tr>\n",
       "      <th>3</th>\n",
       "      <td>Alabama</td>\n",
       "      <td>DeKalb</td>\n",
       "      <td>2009</td>\n",
       "      <td>363</td>\n",
       "      <td>311</td>\n",
       "      <td>52</td>\n",
       "      <td>0</td>\n",
       "      <td>0</td>\n",
       "      <td>0</td>\n",
       "      <td>0</td>\n",
       "      <td>100</td>\n",
       "      <td>54</td>\n",
       "      <td>36</td>\n",
       "      <td>0</td>\n",
       "      <td>0</td>\n",
       "      <td>308</td>\n",
       "      <td>55</td>\n",
       "      <td>0</td>\n",
       "    </tr>\n",
       "    <tr>\n",
       "      <th>4</th>\n",
       "      <td>Alabama</td>\n",
       "      <td>Elmore</td>\n",
       "      <td>2009</td>\n",
       "      <td>244</td>\n",
       "      <td>228</td>\n",
       "      <td>16</td>\n",
       "      <td>0</td>\n",
       "      <td>0</td>\n",
       "      <td>0</td>\n",
       "      <td>0</td>\n",
       "      <td>80</td>\n",
       "      <td>49</td>\n",
       "      <td>36</td>\n",
       "      <td>0</td>\n",
       "      <td>0</td>\n",
       "      <td>244</td>\n",
       "      <td>0</td>\n",
       "      <td>0</td>\n",
       "    </tr>\n",
       "  </tbody>\n",
       "</table>\n",
       "</div>"
      ],
      "text/plain": [
       "     State   County  Year  Days with AQI  Good Days  Moderate Days  \\\n",
       "0  Alabama  Baldwin  2009            252        218             32   \n",
       "1  Alabama     Clay  2009            119         97             22   \n",
       "2  Alabama  Colbert  2009            323        220            103   \n",
       "3  Alabama   DeKalb  2009            363        311             52   \n",
       "4  Alabama   Elmore  2009            244        228             16   \n",
       "\n",
       "   Unhealthy for Sensitive Groups Days  Unhealthy Days  Very Unhealthy Days  \\\n",
       "0                                    2               0                    0   \n",
       "1                                    0               0                    0   \n",
       "2                                    0               0                    0   \n",
       "3                                    0               0                    0   \n",
       "4                                    0               0                    0   \n",
       "\n",
       "   Hazardous Days  Max AQI  90th Percentile AQI  Median AQI  Days CO  \\\n",
       "0               0      136                   53          36        0   \n",
       "1               0       94                   59          33        0   \n",
       "2               0       76                   60          43        0   \n",
       "3               0      100                   54          36        0   \n",
       "4               0       80                   49          36        0   \n",
       "\n",
       "   Days NO2  Days Ozone  Days PM2.5  Days PM10  \n",
       "0         0         200          52          0  \n",
       "1         0           0         119          0  \n",
       "2         0         132         191          0  \n",
       "3         0         308          55          0  \n",
       "4         0         244           0          0  "
      ]
     },
     "execution_count": 102,
     "metadata": {},
     "output_type": "execute_result"
    }
   ],
   "source": [
    "aqi.head()"
   ]
  },
  {
   "cell_type": "code",
   "execution_count": 103,
   "id": "64e70772-1680-42f0-81dc-2e5b71be9400",
   "metadata": {
    "execution": {
     "iopub.execute_input": "2023-01-12T07:20:47.919020Z",
     "iopub.status.busy": "2023-01-12T07:20:47.918800Z",
     "iopub.status.idle": "2023-01-12T07:20:47.922624Z",
     "shell.execute_reply": "2023-01-12T07:20:47.922283Z",
     "shell.execute_reply.started": "2023-01-12T07:20:47.918998Z"
    },
    "tags": []
   },
   "outputs": [
    {
     "data": {
      "text/plain": [
       "Index(['State', 'County', 'Year', 'Days with AQI', 'Good Days',\n",
       "       'Moderate Days', 'Unhealthy for Sensitive Groups Days',\n",
       "       'Unhealthy Days', 'Very Unhealthy Days', 'Hazardous Days', 'Max AQI',\n",
       "       '90th Percentile AQI', 'Median AQI', 'Days CO', 'Days NO2',\n",
       "       'Days Ozone', 'Days PM2.5', 'Days PM10'],\n",
       "      dtype='object')"
      ]
     },
     "execution_count": 103,
     "metadata": {},
     "output_type": "execute_result"
    }
   ],
   "source": [
    "aqi.columns"
   ]
  },
  {
   "cell_type": "code",
   "execution_count": 104,
   "id": "f1414960-e9f4-4111-bba0-3a77690b24c6",
   "metadata": {
    "execution": {
     "iopub.execute_input": "2023-01-12T07:20:47.923339Z",
     "iopub.status.busy": "2023-01-12T07:20:47.923243Z",
     "iopub.status.idle": "2023-01-12T07:20:47.925687Z",
     "shell.execute_reply": "2023-01-12T07:20:47.925353Z",
     "shell.execute_reply.started": "2023-01-12T07:20:47.923329Z"
    },
    "tags": []
   },
   "outputs": [
    {
     "data": {
      "text/plain": [
       "(33502, 18)"
      ]
     },
     "execution_count": 104,
     "metadata": {},
     "output_type": "execute_result"
    }
   ],
   "source": [
    "aqi.shape"
   ]
  },
  {
   "cell_type": "code",
   "execution_count": 105,
   "id": "ef6b8b82-0da7-445c-bd47-8b3ab696f9de",
   "metadata": {
    "execution": {
     "iopub.execute_input": "2023-01-12T07:20:47.926596Z",
     "iopub.status.busy": "2023-01-12T07:20:47.926420Z",
     "iopub.status.idle": "2023-01-12T07:20:47.938625Z",
     "shell.execute_reply": "2023-01-12T07:20:47.938309Z",
     "shell.execute_reply.started": "2023-01-12T07:20:47.926583Z"
    },
    "tags": []
   },
   "outputs": [
    {
     "data": {
      "text/plain": [
       "State                                  object\n",
       "County                                 object\n",
       "Year                                    int64\n",
       "Days with AQI                           int64\n",
       "Good Days                               int64\n",
       "Moderate Days                           int64\n",
       "Unhealthy for Sensitive Groups Days     int64\n",
       "Unhealthy Days                          int64\n",
       "Very Unhealthy Days                     int64\n",
       "Hazardous Days                          int64\n",
       "Max AQI                                 int64\n",
       "90th Percentile AQI                     int64\n",
       "Median AQI                              int64\n",
       "Days CO                                 int64\n",
       "Days NO2                                int64\n",
       "Days Ozone                              int64\n",
       "Days PM2.5                              int64\n",
       "Days PM10                               int64\n",
       "dtype: object"
      ]
     },
     "execution_count": 105,
     "metadata": {},
     "output_type": "execute_result"
    }
   ],
   "source": [
    "aqi.dtypes"
   ]
  },
  {
   "cell_type": "code",
   "execution_count": 106,
   "id": "8a711741-3952-4bca-9de2-475d5e2e7503",
   "metadata": {
    "execution": {
     "iopub.execute_input": "2023-01-12T07:20:47.939591Z",
     "iopub.status.busy": "2023-01-12T07:20:47.939295Z",
     "iopub.status.idle": "2023-01-12T07:20:47.943854Z",
     "shell.execute_reply": "2023-01-12T07:20:47.943419Z",
     "shell.execute_reply.started": "2023-01-12T07:20:47.939580Z"
    }
   },
   "outputs": [],
   "source": [
    "aqi.columns = [col.lower().replace(' ', '_') for col in aqi.columns]"
   ]
  },
  {
   "cell_type": "code",
   "execution_count": 107,
   "id": "7a4b7186-6c7d-4764-8fb2-3a0e42717e04",
   "metadata": {
    "execution": {
     "iopub.execute_input": "2023-01-12T07:20:47.945099Z",
     "iopub.status.busy": "2023-01-12T07:20:47.944907Z",
     "iopub.status.idle": "2023-01-12T07:20:47.948137Z",
     "shell.execute_reply": "2023-01-12T07:20:47.947798Z",
     "shell.execute_reply.started": "2023-01-12T07:20:47.945083Z"
    }
   },
   "outputs": [
    {
     "data": {
      "text/plain": [
       "Index(['state', 'county', 'year', 'days_with_aqi', 'good_days',\n",
       "       'moderate_days', 'unhealthy_for_sensitive_groups_days',\n",
       "       'unhealthy_days', 'very_unhealthy_days', 'hazardous_days', 'max_aqi',\n",
       "       '90th_percentile_aqi', 'median_aqi', 'days_co', 'days_no2',\n",
       "       'days_ozone', 'days_pm2.5', 'days_pm10'],\n",
       "      dtype='object')"
      ]
     },
     "execution_count": 107,
     "metadata": {},
     "output_type": "execute_result"
    }
   ],
   "source": [
    "aqi.columns"
   ]
  },
  {
   "cell_type": "code",
   "execution_count": 108,
   "id": "a6645beb-d1e7-4836-b79c-47d4338b3845",
   "metadata": {
    "execution": {
     "iopub.execute_input": "2023-01-12T07:20:47.948861Z",
     "iopub.status.busy": "2023-01-12T07:20:47.948751Z",
     "iopub.status.idle": "2023-01-12T07:20:47.958535Z",
     "shell.execute_reply": "2023-01-12T07:20:47.958207Z",
     "shell.execute_reply.started": "2023-01-12T07:20:47.948850Z"
    }
   },
   "outputs": [
    {
     "data": {
      "text/plain": [
       "state                                  0\n",
       "county                                 0\n",
       "year                                   0\n",
       "days_with_aqi                          0\n",
       "good_days                              0\n",
       "moderate_days                          0\n",
       "unhealthy_for_sensitive_groups_days    0\n",
       "unhealthy_days                         0\n",
       "very_unhealthy_days                    0\n",
       "hazardous_days                         0\n",
       "max_aqi                                0\n",
       "90th_percentile_aqi                    0\n",
       "median_aqi                             0\n",
       "days_co                                0\n",
       "days_no2                               0\n",
       "days_ozone                             0\n",
       "days_pm2.5                             0\n",
       "days_pm10                              0\n",
       "dtype: int64"
      ]
     },
     "execution_count": 108,
     "metadata": {},
     "output_type": "execute_result"
    }
   ],
   "source": [
    "aqi.isnull().sum()"
   ]
  },
  {
   "cell_type": "code",
   "execution_count": 109,
   "id": "4c1ff902-a36d-4951-99d8-29596f4da118",
   "metadata": {
    "execution": {
     "iopub.execute_input": "2023-01-12T07:20:47.959176Z",
     "iopub.status.busy": "2023-01-12T07:20:47.959030Z",
     "iopub.status.idle": "2023-01-12T07:20:47.965956Z",
     "shell.execute_reply": "2023-01-12T07:20:47.965590Z",
     "shell.execute_reply.started": "2023-01-12T07:20:47.959166Z"
    }
   },
   "outputs": [
    {
     "data": {
      "text/plain": [
       "state      55\n",
       "county    913\n",
       "dtype: int64"
      ]
     },
     "execution_count": 109,
     "metadata": {},
     "output_type": "execute_result"
    }
   ],
   "source": [
    "aqi[['state', 'county']].nunique()"
   ]
  },
  {
   "cell_type": "code",
   "execution_count": 110,
   "id": "52bfdff0-464d-4a86-a747-62b64d8d4fbb",
   "metadata": {
    "execution": {
     "iopub.execute_input": "2023-01-12T07:20:47.966747Z",
     "iopub.status.busy": "2023-01-12T07:20:47.966624Z",
     "iopub.status.idle": "2023-01-12T07:20:47.970759Z",
     "shell.execute_reply": "2023-01-12T07:20:47.970416Z",
     "shell.execute_reply.started": "2023-01-12T07:20:47.966737Z"
    }
   },
   "outputs": [
    {
     "data": {
      "text/plain": [
       "array(['Alabama', 'Alaska', 'Arizona', 'Arkansas', 'California',\n",
       "       'Colorado', 'Connecticut', 'Country Of Mexico', 'Delaware',\n",
       "       'District Of Columbia', 'Florida', 'Georgia', 'Hawaii', 'Idaho',\n",
       "       'Illinois', 'Indiana', 'Iowa', 'Kansas', 'Kentucky', 'Louisiana',\n",
       "       'Maine', 'Maryland', 'Massachusetts', 'Michigan', 'Minnesota',\n",
       "       'Mississippi', 'Missouri', 'Montana', 'Nebraska', 'Nevada',\n",
       "       'New Hampshire', 'New Jersey', 'New Mexico', 'New York',\n",
       "       'North Carolina', 'North Dakota', 'Ohio', 'Oklahoma', 'Oregon',\n",
       "       'Pennsylvania', 'Puerto Rico', 'Rhode Island', 'South Carolina',\n",
       "       'South Dakota', 'Tennessee', 'Texas', 'Utah', 'Vermont',\n",
       "       'Virgin Islands', 'Virginia', 'Washington', 'West Virginia',\n",
       "       'Wisconsin', 'Wyoming', 'Canada'], dtype=object)"
      ]
     },
     "execution_count": 110,
     "metadata": {},
     "output_type": "execute_result"
    }
   ],
   "source": [
    "aqi['state'].unique()"
   ]
  },
  {
   "cell_type": "markdown",
   "id": "dcbb4d61-26a3-4443-ac0f-673f5136857a",
   "metadata": {},
   "source": [
    "May want to drop locations such as:\n",
    "* Country of Mexico\n",
    "* Puerto Rico\n",
    "* Virgin Islands\n",
    "* Canada"
   ]
  },
  {
   "cell_type": "code",
   "execution_count": 111,
   "id": "c2ab3401-7a3b-4145-be1b-e2590ef29c6b",
   "metadata": {
    "execution": {
     "iopub.execute_input": "2023-01-12T07:20:47.971387Z",
     "iopub.status.busy": "2023-01-12T07:20:47.971289Z",
     "iopub.status.idle": "2023-01-12T07:20:48.001280Z",
     "shell.execute_reply": "2023-01-12T07:20:48.000733Z",
     "shell.execute_reply.started": "2023-01-12T07:20:47.971377Z"
    }
   },
   "outputs": [
    {
     "data": {
      "text/html": [
       "<div>\n",
       "<style scoped>\n",
       "    .dataframe tbody tr th:only-of-type {\n",
       "        vertical-align: middle;\n",
       "    }\n",
       "\n",
       "    .dataframe tbody tr th {\n",
       "        vertical-align: top;\n",
       "    }\n",
       "\n",
       "    .dataframe thead th {\n",
       "        text-align: right;\n",
       "    }\n",
       "</style>\n",
       "<table border=\"1\" class=\"dataframe\">\n",
       "  <thead>\n",
       "    <tr style=\"text-align: right;\">\n",
       "      <th></th>\n",
       "      <th>year</th>\n",
       "      <th>days_with_aqi</th>\n",
       "      <th>good_days</th>\n",
       "      <th>moderate_days</th>\n",
       "      <th>unhealthy_for_sensitive_groups_days</th>\n",
       "      <th>unhealthy_days</th>\n",
       "      <th>very_unhealthy_days</th>\n",
       "      <th>hazardous_days</th>\n",
       "      <th>max_aqi</th>\n",
       "      <th>90th_percentile_aqi</th>\n",
       "      <th>median_aqi</th>\n",
       "      <th>days_co</th>\n",
       "      <th>days_no2</th>\n",
       "      <th>days_ozone</th>\n",
       "      <th>days_pm2.5</th>\n",
       "      <th>days_pm10</th>\n",
       "    </tr>\n",
       "  </thead>\n",
       "  <tbody>\n",
       "    <tr>\n",
       "      <th>count</th>\n",
       "      <td>33502.000000</td>\n",
       "      <td>33502.000000</td>\n",
       "      <td>33502.000000</td>\n",
       "      <td>33502.000000</td>\n",
       "      <td>33502.000000</td>\n",
       "      <td>33502.000000</td>\n",
       "      <td>33502.000000</td>\n",
       "      <td>33502.000000</td>\n",
       "      <td>33502.000000</td>\n",
       "      <td>33502.000000</td>\n",
       "      <td>33502.000000</td>\n",
       "      <td>33502.000000</td>\n",
       "      <td>33502.000000</td>\n",
       "      <td>33502.000000</td>\n",
       "      <td>33502.000000</td>\n",
       "      <td>33502.000000</td>\n",
       "    </tr>\n",
       "    <tr>\n",
       "      <th>mean</th>\n",
       "      <td>2013.378843</td>\n",
       "      <td>304.818220</td>\n",
       "      <td>233.813563</td>\n",
       "      <td>64.906215</td>\n",
       "      <td>5.033132</td>\n",
       "      <td>0.920542</td>\n",
       "      <td>0.095994</td>\n",
       "      <td>0.048773</td>\n",
       "      <td>127.183750</td>\n",
       "      <td>61.495553</td>\n",
       "      <td>37.474599</td>\n",
       "      <td>1.425766</td>\n",
       "      <td>6.699361</td>\n",
       "      <td>169.352039</td>\n",
       "      <td>112.846815</td>\n",
       "      <td>14.494239</td>\n",
       "    </tr>\n",
       "    <tr>\n",
       "      <th>std</th>\n",
       "      <td>4.607776</td>\n",
       "      <td>91.250699</td>\n",
       "      <td>83.797024</td>\n",
       "      <td>51.877028</td>\n",
       "      <td>10.433271</td>\n",
       "      <td>4.054870</td>\n",
       "      <td>1.104159</td>\n",
       "      <td>0.679988</td>\n",
       "      <td>221.866188</td>\n",
       "      <td>19.566392</td>\n",
       "      <td>11.121959</td>\n",
       "      <td>15.505999</td>\n",
       "      <td>26.626984</td>\n",
       "      <td>119.843147</td>\n",
       "      <td>110.158979</td>\n",
       "      <td>53.624707</td>\n",
       "    </tr>\n",
       "    <tr>\n",
       "      <th>min</th>\n",
       "      <td>2006.000000</td>\n",
       "      <td>1.000000</td>\n",
       "      <td>1.000000</td>\n",
       "      <td>0.000000</td>\n",
       "      <td>0.000000</td>\n",
       "      <td>0.000000</td>\n",
       "      <td>0.000000</td>\n",
       "      <td>0.000000</td>\n",
       "      <td>8.000000</td>\n",
       "      <td>5.000000</td>\n",
       "      <td>1.000000</td>\n",
       "      <td>0.000000</td>\n",
       "      <td>0.000000</td>\n",
       "      <td>0.000000</td>\n",
       "      <td>0.000000</td>\n",
       "      <td>0.000000</td>\n",
       "    </tr>\n",
       "    <tr>\n",
       "      <th>25%</th>\n",
       "      <td>2009.000000</td>\n",
       "      <td>248.000000</td>\n",
       "      <td>176.000000</td>\n",
       "      <td>25.000000</td>\n",
       "      <td>0.000000</td>\n",
       "      <td>0.000000</td>\n",
       "      <td>0.000000</td>\n",
       "      <td>0.000000</td>\n",
       "      <td>89.000000</td>\n",
       "      <td>50.000000</td>\n",
       "      <td>33.000000</td>\n",
       "      <td>0.000000</td>\n",
       "      <td>0.000000</td>\n",
       "      <td>0.000000</td>\n",
       "      <td>0.000000</td>\n",
       "      <td>0.000000</td>\n",
       "    </tr>\n",
       "    <tr>\n",
       "      <th>50%</th>\n",
       "      <td>2013.000000</td>\n",
       "      <td>360.000000</td>\n",
       "      <td>249.000000</td>\n",
       "      <td>53.000000</td>\n",
       "      <td>1.000000</td>\n",
       "      <td>0.000000</td>\n",
       "      <td>0.000000</td>\n",
       "      <td>0.000000</td>\n",
       "      <td>112.000000</td>\n",
       "      <td>59.000000</td>\n",
       "      <td>39.000000</td>\n",
       "      <td>0.000000</td>\n",
       "      <td>0.000000</td>\n",
       "      <td>185.000000</td>\n",
       "      <td>93.000000</td>\n",
       "      <td>0.000000</td>\n",
       "    </tr>\n",
       "    <tr>\n",
       "      <th>75%</th>\n",
       "      <td>2017.000000</td>\n",
       "      <td>365.000000</td>\n",
       "      <td>304.000000</td>\n",
       "      <td>93.000000</td>\n",
       "      <td>6.000000</td>\n",
       "      <td>0.000000</td>\n",
       "      <td>0.000000</td>\n",
       "      <td>0.000000</td>\n",
       "      <td>145.000000</td>\n",
       "      <td>71.000000</td>\n",
       "      <td>44.000000</td>\n",
       "      <td>0.000000</td>\n",
       "      <td>0.000000</td>\n",
       "      <td>245.000000</td>\n",
       "      <td>183.000000</td>\n",
       "      <td>1.000000</td>\n",
       "    </tr>\n",
       "    <tr>\n",
       "      <th>max</th>\n",
       "      <td>2021.000000</td>\n",
       "      <td>366.000000</td>\n",
       "      <td>365.000000</td>\n",
       "      <td>339.000000</td>\n",
       "      <td>122.000000</td>\n",
       "      <td>92.000000</td>\n",
       "      <td>74.000000</td>\n",
       "      <td>37.000000</td>\n",
       "      <td>14043.000000</td>\n",
       "      <td>306.000000</td>\n",
       "      <td>132.000000</td>\n",
       "      <td>365.000000</td>\n",
       "      <td>365.000000</td>\n",
       "      <td>366.000000</td>\n",
       "      <td>366.000000</td>\n",
       "      <td>366.000000</td>\n",
       "    </tr>\n",
       "  </tbody>\n",
       "</table>\n",
       "</div>"
      ],
      "text/plain": [
       "               year  days_with_aqi     good_days  moderate_days  \\\n",
       "count  33502.000000   33502.000000  33502.000000   33502.000000   \n",
       "mean    2013.378843     304.818220    233.813563      64.906215   \n",
       "std        4.607776      91.250699     83.797024      51.877028   \n",
       "min     2006.000000       1.000000      1.000000       0.000000   \n",
       "25%     2009.000000     248.000000    176.000000      25.000000   \n",
       "50%     2013.000000     360.000000    249.000000      53.000000   \n",
       "75%     2017.000000     365.000000    304.000000      93.000000   \n",
       "max     2021.000000     366.000000    365.000000     339.000000   \n",
       "\n",
       "       unhealthy_for_sensitive_groups_days  unhealthy_days  \\\n",
       "count                         33502.000000    33502.000000   \n",
       "mean                              5.033132        0.920542   \n",
       "std                              10.433271        4.054870   \n",
       "min                               0.000000        0.000000   \n",
       "25%                               0.000000        0.000000   \n",
       "50%                               1.000000        0.000000   \n",
       "75%                               6.000000        0.000000   \n",
       "max                             122.000000       92.000000   \n",
       "\n",
       "       very_unhealthy_days  hazardous_days       max_aqi  90th_percentile_aqi  \\\n",
       "count         33502.000000    33502.000000  33502.000000         33502.000000   \n",
       "mean              0.095994        0.048773    127.183750            61.495553   \n",
       "std               1.104159        0.679988    221.866188            19.566392   \n",
       "min               0.000000        0.000000      8.000000             5.000000   \n",
       "25%               0.000000        0.000000     89.000000            50.000000   \n",
       "50%               0.000000        0.000000    112.000000            59.000000   \n",
       "75%               0.000000        0.000000    145.000000            71.000000   \n",
       "max              74.000000       37.000000  14043.000000           306.000000   \n",
       "\n",
       "         median_aqi       days_co      days_no2    days_ozone    days_pm2.5  \\\n",
       "count  33502.000000  33502.000000  33502.000000  33502.000000  33502.000000   \n",
       "mean      37.474599      1.425766      6.699361    169.352039    112.846815   \n",
       "std       11.121959     15.505999     26.626984    119.843147    110.158979   \n",
       "min        1.000000      0.000000      0.000000      0.000000      0.000000   \n",
       "25%       33.000000      0.000000      0.000000      0.000000      0.000000   \n",
       "50%       39.000000      0.000000      0.000000    185.000000     93.000000   \n",
       "75%       44.000000      0.000000      0.000000    245.000000    183.000000   \n",
       "max      132.000000    365.000000    365.000000    366.000000    366.000000   \n",
       "\n",
       "          days_pm10  \n",
       "count  33502.000000  \n",
       "mean      14.494239  \n",
       "std       53.624707  \n",
       "min        0.000000  \n",
       "25%        0.000000  \n",
       "50%        0.000000  \n",
       "75%        1.000000  \n",
       "max      366.000000  "
      ]
     },
     "execution_count": 111,
     "metadata": {},
     "output_type": "execute_result"
    }
   ],
   "source": [
    "aqi.describe()"
   ]
  },
  {
   "cell_type": "markdown",
   "id": "38d268be-a908-45fd-8a02-41d4f1ea4e5f",
   "metadata": {},
   "source": [
    "Want to import the CDC data and compare the counties."
   ]
  },
  {
   "cell_type": "code",
   "execution_count": 112,
   "id": "22b86d34-dae1-4753-833b-08ad467d7bbb",
   "metadata": {
    "execution": {
     "iopub.execute_input": "2023-01-12T07:20:48.004208Z",
     "iopub.status.busy": "2023-01-12T07:20:48.004070Z",
     "iopub.status.idle": "2023-01-12T07:20:48.026175Z",
     "shell.execute_reply": "2023-01-12T07:20:48.025851Z",
     "shell.execute_reply.started": "2023-01-12T07:20:48.004199Z"
    }
   },
   "outputs": [],
   "source": [
    "cdc = pd.read_csv('data/Natality_by_year_2007-2021.txt', sep='\\t')"
   ]
  },
  {
   "cell_type": "code",
   "execution_count": 113,
   "id": "76a5f011-9dca-48c4-9428-6807c3be2196",
   "metadata": {
    "execution": {
     "iopub.execute_input": "2023-01-12T07:20:48.026700Z",
     "iopub.status.busy": "2023-01-12T07:20:48.026604Z",
     "iopub.status.idle": "2023-01-12T07:20:48.034548Z",
     "shell.execute_reply": "2023-01-12T07:20:48.033755Z",
     "shell.execute_reply.started": "2023-01-12T07:20:48.026690Z"
    }
   },
   "outputs": [
    {
     "data": {
      "text/html": [
       "<div>\n",
       "<style scoped>\n",
       "    .dataframe tbody tr th:only-of-type {\n",
       "        vertical-align: middle;\n",
       "    }\n",
       "\n",
       "    .dataframe tbody tr th {\n",
       "        vertical-align: top;\n",
       "    }\n",
       "\n",
       "    .dataframe thead th {\n",
       "        text-align: right;\n",
       "    }\n",
       "</style>\n",
       "<table border=\"1\" class=\"dataframe\">\n",
       "  <thead>\n",
       "    <tr style=\"text-align: right;\">\n",
       "      <th></th>\n",
       "      <th>Notes</th>\n",
       "      <th>State</th>\n",
       "      <th>State Code</th>\n",
       "      <th>County</th>\n",
       "      <th>County Code</th>\n",
       "      <th>Infant Birth Weight 12</th>\n",
       "      <th>Infant Birth Weight 12 Code</th>\n",
       "      <th>Year</th>\n",
       "      <th>Year Code</th>\n",
       "      <th>Births</th>\n",
       "      <th>% of Total Births</th>\n",
       "      <th>Average Birth Weight</th>\n",
       "      <th>Average LMP Gestational Age</th>\n",
       "      <th>Average OE Gestational Age</th>\n",
       "    </tr>\n",
       "  </thead>\n",
       "  <tbody>\n",
       "    <tr>\n",
       "      <th>0</th>\n",
       "      <td>NaN</td>\n",
       "      <td>Alabama</td>\n",
       "      <td>1.0</td>\n",
       "      <td>Baldwin County, AL</td>\n",
       "      <td>1003.0</td>\n",
       "      <td>500 - 999 grams</td>\n",
       "      <td>2.0</td>\n",
       "      <td>2014.0</td>\n",
       "      <td>2014.0</td>\n",
       "      <td>10.0</td>\n",
       "      <td>0.00%</td>\n",
       "      <td>814.90</td>\n",
       "      <td>26.80</td>\n",
       "      <td>26.90</td>\n",
       "    </tr>\n",
       "    <tr>\n",
       "      <th>1</th>\n",
       "      <td>NaN</td>\n",
       "      <td>Alabama</td>\n",
       "      <td>1.0</td>\n",
       "      <td>Baldwin County, AL</td>\n",
       "      <td>1003.0</td>\n",
       "      <td>500 - 999 grams</td>\n",
       "      <td>2.0</td>\n",
       "      <td>2015.0</td>\n",
       "      <td>2015.0</td>\n",
       "      <td>15.0</td>\n",
       "      <td>0.00%</td>\n",
       "      <td>794.13</td>\n",
       "      <td>25.87</td>\n",
       "      <td>25.87</td>\n",
       "    </tr>\n",
       "    <tr>\n",
       "      <th>2</th>\n",
       "      <td>NaN</td>\n",
       "      <td>Alabama</td>\n",
       "      <td>1.0</td>\n",
       "      <td>Baldwin County, AL</td>\n",
       "      <td>1003.0</td>\n",
       "      <td>500 - 999 grams</td>\n",
       "      <td>2.0</td>\n",
       "      <td>2016.0</td>\n",
       "      <td>2016.0</td>\n",
       "      <td>10.0</td>\n",
       "      <td>0.00%</td>\n",
       "      <td>712.50</td>\n",
       "      <td>25.30</td>\n",
       "      <td>25.20</td>\n",
       "    </tr>\n",
       "    <tr>\n",
       "      <th>3</th>\n",
       "      <td>NaN</td>\n",
       "      <td>Alabama</td>\n",
       "      <td>1.0</td>\n",
       "      <td>Baldwin County, AL</td>\n",
       "      <td>1003.0</td>\n",
       "      <td>1000 - 1499 grams</td>\n",
       "      <td>3.0</td>\n",
       "      <td>2014.0</td>\n",
       "      <td>2014.0</td>\n",
       "      <td>10.0</td>\n",
       "      <td>0.00%</td>\n",
       "      <td>1323.70</td>\n",
       "      <td>28.90</td>\n",
       "      <td>29.20</td>\n",
       "    </tr>\n",
       "    <tr>\n",
       "      <th>4</th>\n",
       "      <td>NaN</td>\n",
       "      <td>Alabama</td>\n",
       "      <td>1.0</td>\n",
       "      <td>Baldwin County, AL</td>\n",
       "      <td>1003.0</td>\n",
       "      <td>1000 - 1499 grams</td>\n",
       "      <td>3.0</td>\n",
       "      <td>2015.0</td>\n",
       "      <td>2015.0</td>\n",
       "      <td>18.0</td>\n",
       "      <td>0.00%</td>\n",
       "      <td>1226.56</td>\n",
       "      <td>30.33</td>\n",
       "      <td>30.00</td>\n",
       "    </tr>\n",
       "  </tbody>\n",
       "</table>\n",
       "</div>"
      ],
      "text/plain": [
       "  Notes    State  State Code              County  County Code  \\\n",
       "0   NaN  Alabama         1.0  Baldwin County, AL       1003.0   \n",
       "1   NaN  Alabama         1.0  Baldwin County, AL       1003.0   \n",
       "2   NaN  Alabama         1.0  Baldwin County, AL       1003.0   \n",
       "3   NaN  Alabama         1.0  Baldwin County, AL       1003.0   \n",
       "4   NaN  Alabama         1.0  Baldwin County, AL       1003.0   \n",
       "\n",
       "  Infant Birth Weight 12  Infant Birth Weight 12 Code    Year  Year Code  \\\n",
       "0        500 - 999 grams                          2.0  2014.0     2014.0   \n",
       "1        500 - 999 grams                          2.0  2015.0     2015.0   \n",
       "2        500 - 999 grams                          2.0  2016.0     2016.0   \n",
       "3      1000 - 1499 grams                          3.0  2014.0     2014.0   \n",
       "4      1000 - 1499 grams                          3.0  2015.0     2015.0   \n",
       "\n",
       "   Births % of Total Births  Average Birth Weight  \\\n",
       "0    10.0             0.00%                814.90   \n",
       "1    15.0             0.00%                794.13   \n",
       "2    10.0             0.00%                712.50   \n",
       "3    10.0             0.00%               1323.70   \n",
       "4    18.0             0.00%               1226.56   \n",
       "\n",
       "   Average LMP Gestational Age  Average OE Gestational Age  \n",
       "0                        26.80                       26.90  \n",
       "1                        25.87                       25.87  \n",
       "2                        25.30                       25.20  \n",
       "3                        28.90                       29.20  \n",
       "4                        30.33                       30.00  "
      ]
     },
     "execution_count": 113,
     "metadata": {},
     "output_type": "execute_result"
    }
   ],
   "source": [
    "cdc.head()"
   ]
  },
  {
   "cell_type": "markdown",
   "id": "2b2bdee1-f508-4113-a03d-2be862a8257a",
   "metadata": {},
   "source": [
    "Drop the rows that have the footnotes in them"
   ]
  },
  {
   "cell_type": "code",
   "execution_count": 114,
   "id": "15eb1c08-6ee8-44da-a472-b1cb2388a5b9",
   "metadata": {
    "execution": {
     "iopub.execute_input": "2023-01-12T07:20:48.035412Z",
     "iopub.status.busy": "2023-01-12T07:20:48.035171Z",
     "iopub.status.idle": "2023-01-12T07:20:48.042509Z",
     "shell.execute_reply": "2023-01-12T07:20:48.042219Z",
     "shell.execute_reply.started": "2023-01-12T07:20:48.035398Z"
    },
    "tags": []
   },
   "outputs": [],
   "source": [
    "cdc.drop(cdc[cdc['State'].isnull()].index, inplace=True)"
   ]
  },
  {
   "cell_type": "code",
   "execution_count": 115,
   "id": "9b841a0b-7c28-4bf4-b756-f7d0b967552a",
   "metadata": {
    "execution": {
     "iopub.execute_input": "2023-01-12T07:20:48.043197Z",
     "iopub.status.busy": "2023-01-12T07:20:48.043052Z",
     "iopub.status.idle": "2023-01-12T07:20:48.050565Z",
     "shell.execute_reply": "2023-01-12T07:20:48.050115Z",
     "shell.execute_reply.started": "2023-01-12T07:20:48.043188Z"
    }
   },
   "outputs": [
    {
     "data": {
      "text/html": [
       "<div>\n",
       "<style scoped>\n",
       "    .dataframe tbody tr th:only-of-type {\n",
       "        vertical-align: middle;\n",
       "    }\n",
       "\n",
       "    .dataframe tbody tr th {\n",
       "        vertical-align: top;\n",
       "    }\n",
       "\n",
       "    .dataframe thead th {\n",
       "        text-align: right;\n",
       "    }\n",
       "</style>\n",
       "<table border=\"1\" class=\"dataframe\">\n",
       "  <thead>\n",
       "    <tr style=\"text-align: right;\">\n",
       "      <th></th>\n",
       "      <th>Notes</th>\n",
       "      <th>State</th>\n",
       "      <th>State Code</th>\n",
       "      <th>County</th>\n",
       "      <th>County Code</th>\n",
       "      <th>Infant Birth Weight 12</th>\n",
       "      <th>Infant Birth Weight 12 Code</th>\n",
       "      <th>Year</th>\n",
       "      <th>Year Code</th>\n",
       "      <th>Births</th>\n",
       "      <th>% of Total Births</th>\n",
       "      <th>Average Birth Weight</th>\n",
       "      <th>Average LMP Gestational Age</th>\n",
       "      <th>Average OE Gestational Age</th>\n",
       "    </tr>\n",
       "  </thead>\n",
       "  <tbody>\n",
       "    <tr>\n",
       "      <th>21209</th>\n",
       "      <td>NaN</td>\n",
       "      <td>Wyoming</td>\n",
       "      <td>56.0</td>\n",
       "      <td>Unidentified Counties, WY</td>\n",
       "      <td>56999.0</td>\n",
       "      <td>2000 - 2499 grams</td>\n",
       "      <td>5.0</td>\n",
       "      <td>2017.0</td>\n",
       "      <td>2017.0</td>\n",
       "      <td>230.0</td>\n",
       "      <td>0.01%</td>\n",
       "      <td>2312.23</td>\n",
       "      <td>36.60</td>\n",
       "      <td>36.52</td>\n",
       "    </tr>\n",
       "    <tr>\n",
       "      <th>21210</th>\n",
       "      <td>NaN</td>\n",
       "      <td>Wyoming</td>\n",
       "      <td>56.0</td>\n",
       "      <td>Unidentified Counties, WY</td>\n",
       "      <td>56999.0</td>\n",
       "      <td>2000 - 2499 grams</td>\n",
       "      <td>5.0</td>\n",
       "      <td>2018.0</td>\n",
       "      <td>2018.0</td>\n",
       "      <td>229.0</td>\n",
       "      <td>0.01%</td>\n",
       "      <td>2300.62</td>\n",
       "      <td>36.81</td>\n",
       "      <td>36.59</td>\n",
       "    </tr>\n",
       "    <tr>\n",
       "      <th>21211</th>\n",
       "      <td>NaN</td>\n",
       "      <td>Wyoming</td>\n",
       "      <td>56.0</td>\n",
       "      <td>Unidentified Counties, WY</td>\n",
       "      <td>56999.0</td>\n",
       "      <td>2000 - 2499 grams</td>\n",
       "      <td>5.0</td>\n",
       "      <td>2019.0</td>\n",
       "      <td>2019.0</td>\n",
       "      <td>234.0</td>\n",
       "      <td>0.01%</td>\n",
       "      <td>2324.80</td>\n",
       "      <td>36.53</td>\n",
       "      <td>36.47</td>\n",
       "    </tr>\n",
       "    <tr>\n",
       "      <th>21212</th>\n",
       "      <td>NaN</td>\n",
       "      <td>Wyoming</td>\n",
       "      <td>56.0</td>\n",
       "      <td>Unidentified Counties, WY</td>\n",
       "      <td>56999.0</td>\n",
       "      <td>2000 - 2499 grams</td>\n",
       "      <td>5.0</td>\n",
       "      <td>2020.0</td>\n",
       "      <td>2020.0</td>\n",
       "      <td>232.0</td>\n",
       "      <td>0.01%</td>\n",
       "      <td>2302.12</td>\n",
       "      <td>36.78</td>\n",
       "      <td>36.43</td>\n",
       "    </tr>\n",
       "    <tr>\n",
       "      <th>21213</th>\n",
       "      <td>NaN</td>\n",
       "      <td>Wyoming</td>\n",
       "      <td>56.0</td>\n",
       "      <td>Unidentified Counties, WY</td>\n",
       "      <td>56999.0</td>\n",
       "      <td>2000 - 2499 grams</td>\n",
       "      <td>5.0</td>\n",
       "      <td>2021.0</td>\n",
       "      <td>2021.0</td>\n",
       "      <td>230.0</td>\n",
       "      <td>0.01%</td>\n",
       "      <td>2303.27</td>\n",
       "      <td>36.19</td>\n",
       "      <td>36.30</td>\n",
       "    </tr>\n",
       "  </tbody>\n",
       "</table>\n",
       "</div>"
      ],
      "text/plain": [
       "      Notes    State  State Code                     County  County Code  \\\n",
       "21209   NaN  Wyoming        56.0  Unidentified Counties, WY      56999.0   \n",
       "21210   NaN  Wyoming        56.0  Unidentified Counties, WY      56999.0   \n",
       "21211   NaN  Wyoming        56.0  Unidentified Counties, WY      56999.0   \n",
       "21212   NaN  Wyoming        56.0  Unidentified Counties, WY      56999.0   \n",
       "21213   NaN  Wyoming        56.0  Unidentified Counties, WY      56999.0   \n",
       "\n",
       "      Infant Birth Weight 12  Infant Birth Weight 12 Code    Year  Year Code  \\\n",
       "21209      2000 - 2499 grams                          5.0  2017.0     2017.0   \n",
       "21210      2000 - 2499 grams                          5.0  2018.0     2018.0   \n",
       "21211      2000 - 2499 grams                          5.0  2019.0     2019.0   \n",
       "21212      2000 - 2499 grams                          5.0  2020.0     2020.0   \n",
       "21213      2000 - 2499 grams                          5.0  2021.0     2021.0   \n",
       "\n",
       "       Births % of Total Births  Average Birth Weight  \\\n",
       "21209   230.0             0.01%               2312.23   \n",
       "21210   229.0             0.01%               2300.62   \n",
       "21211   234.0             0.01%               2324.80   \n",
       "21212   232.0             0.01%               2302.12   \n",
       "21213   230.0             0.01%               2303.27   \n",
       "\n",
       "       Average LMP Gestational Age  Average OE Gestational Age  \n",
       "21209                        36.60                       36.52  \n",
       "21210                        36.81                       36.59  \n",
       "21211                        36.53                       36.47  \n",
       "21212                        36.78                       36.43  \n",
       "21213                        36.19                       36.30  "
      ]
     },
     "execution_count": 115,
     "metadata": {},
     "output_type": "execute_result"
    }
   ],
   "source": [
    "cdc.tail()"
   ]
  },
  {
   "cell_type": "code",
   "execution_count": 116,
   "id": "041736ed-1a55-42bc-86dd-40c8ef9d980a",
   "metadata": {
    "execution": {
     "iopub.execute_input": "2023-01-12T07:20:48.051254Z",
     "iopub.status.busy": "2023-01-12T07:20:48.051147Z",
     "iopub.status.idle": "2023-01-12T07:20:48.056774Z",
     "shell.execute_reply": "2023-01-12T07:20:48.056329Z",
     "shell.execute_reply.started": "2023-01-12T07:20:48.051244Z"
    },
    "tags": []
   },
   "outputs": [
    {
     "data": {
      "text/plain": [
       "State      50\n",
       "County    611\n",
       "dtype: int64"
      ]
     },
     "execution_count": 116,
     "metadata": {},
     "output_type": "execute_result"
    }
   ],
   "source": [
    "cdc[['State', 'County']].nunique()"
   ]
  },
  {
   "cell_type": "code",
   "execution_count": 117,
   "id": "3b540dbc-37e7-4abd-a969-78d6c1f7e59f",
   "metadata": {
    "execution": {
     "iopub.execute_input": "2023-01-12T07:20:48.058134Z",
     "iopub.status.busy": "2023-01-12T07:20:48.058009Z",
     "iopub.status.idle": "2023-01-12T07:20:48.061484Z",
     "shell.execute_reply": "2023-01-12T07:20:48.061117Z",
     "shell.execute_reply.started": "2023-01-12T07:20:48.058124Z"
    },
    "tags": []
   },
   "outputs": [
    {
     "data": {
      "text/plain": [
       "21209    Unidentified Counties, WY\n",
       "21210    Unidentified Counties, WY\n",
       "21211    Unidentified Counties, WY\n",
       "21212    Unidentified Counties, WY\n",
       "21213    Unidentified Counties, WY\n",
       "Name: County, dtype: object"
      ]
     },
     "execution_count": 117,
     "metadata": {},
     "output_type": "execute_result"
    }
   ],
   "source": [
    "cdc['County'].tail()"
   ]
  },
  {
   "cell_type": "markdown",
   "id": "ac0a9819-c58b-4a41-97d0-748bd1afca29",
   "metadata": {},
   "source": [
    "Looks like they are including the state abbreviation in the County name, so will remove that.  There were also some places that didn't say \"County\" and said \"Counties\" (i.e. Unidentified Counties, WY) and also there were some locations that were parishes (in LA) or other unique.  So I'm splitting on both the \" Count\" to capture County and Counties as well as \",\" to get both cases."
   ]
  },
  {
   "cell_type": "code",
   "execution_count": 122,
   "id": "d91e0df7-2f5c-4b8a-84c6-992b6ded4c57",
   "metadata": {
    "execution": {
     "iopub.execute_input": "2023-01-12T07:23:09.034196Z",
     "iopub.status.busy": "2023-01-12T07:23:09.032921Z",
     "iopub.status.idle": "2023-01-12T07:23:09.072738Z",
     "shell.execute_reply": "2023-01-12T07:23:09.072244Z",
     "shell.execute_reply.started": "2023-01-12T07:23:09.034141Z"
    },
    "tags": []
   },
   "outputs": [],
   "source": [
    "cdc['County'] = cdc['County'].apply(lambda x: x.split(' Count')[0].split(',')[0])"
   ]
  },
  {
   "cell_type": "code",
   "execution_count": 127,
   "id": "a02ce29c-7ed4-4324-8bfc-d9a70f111d42",
   "metadata": {
    "execution": {
     "iopub.execute_input": "2023-01-12T07:26:54.509111Z",
     "iopub.status.busy": "2023-01-12T07:26:54.507764Z",
     "iopub.status.idle": "2023-01-12T07:26:54.538773Z",
     "shell.execute_reply": "2023-01-12T07:26:54.538212Z",
     "shell.execute_reply.started": "2023-01-12T07:26:54.509012Z"
    },
    "tags": []
   },
   "outputs": [
    {
     "data": {
      "text/plain": [
       "58"
      ]
     },
     "execution_count": 127,
     "metadata": {},
     "output_type": "execute_result"
    }
   ],
   "source": [
    "# what is the difference in county data\n",
    "len(set(cdc['County']) - set(aqi['county']))"
   ]
  },
  {
   "cell_type": "code",
   "execution_count": 128,
   "id": "184885e5-a59d-4b0c-916c-8d714bfcc3d4",
   "metadata": {
    "execution": {
     "iopub.execute_input": "2023-01-12T07:27:05.937316Z",
     "iopub.status.busy": "2023-01-12T07:27:05.935864Z",
     "iopub.status.idle": "2023-01-12T07:27:05.959055Z",
     "shell.execute_reply": "2023-01-12T07:27:05.958410Z",
     "shell.execute_reply.started": "2023-01-12T07:27:05.937242Z"
    }
   },
   "outputs": [
    {
     "data": {
      "text/plain": [
       "{'Alexandria city',\n",
       " 'Anchorage Borough',\n",
       " 'Ascension Parish',\n",
       " 'Baltimore city',\n",
       " 'Bartow',\n",
       " 'Bossier Parish',\n",
       " 'Broome',\n",
       " 'Brunswick',\n",
       " 'Cabarrus',\n",
       " 'Caddo Parish',\n",
       " 'Calcasieu Parish',\n",
       " 'Calhoun',\n",
       " 'Charlotte',\n",
       " 'Chesapeake city',\n",
       " 'Comal',\n",
       " 'Craven',\n",
       " 'East Baton Rouge Parish',\n",
       " 'Eaton',\n",
       " 'Fort Bend',\n",
       " 'Grayson',\n",
       " 'Guadalupe',\n",
       " 'Hampton city',\n",
       " 'Harnett',\n",
       " 'Hernando',\n",
       " 'Iredell',\n",
       " 'Jefferson Parish',\n",
       " 'Kankakee',\n",
       " 'Kendall',\n",
       " 'La Porte',\n",
       " 'LaSalle',\n",
       " 'Lafayette Parish',\n",
       " 'Livingston Parish',\n",
       " 'Midland',\n",
       " 'Newport News city',\n",
       " 'Norfolk city',\n",
       " 'Ontario',\n",
       " 'Orleans Parish',\n",
       " 'Ouachita Parish',\n",
       " 'Portsmouth city',\n",
       " 'Rankin',\n",
       " 'Rapides Parish',\n",
       " 'Richmond city',\n",
       " 'Saginaw',\n",
       " 'Saline',\n",
       " 'Spotsylvania',\n",
       " 'St. Johns',\n",
       " 'St. Louis',\n",
       " 'St. Louis city',\n",
       " \"St. Mary's\",\n",
       " 'St. Tammany Parish',\n",
       " 'Strafford',\n",
       " 'Tangipahoa Parish',\n",
       " 'Tazewell',\n",
       " 'Terrebonne Parish',\n",
       " 'Tom Green',\n",
       " 'Unidentified',\n",
       " 'Virginia Beach city',\n",
       " 'Whitfield'}"
      ]
     },
     "execution_count": 128,
     "metadata": {},
     "output_type": "execute_result"
    }
   ],
   "source": [
    "set(cdc['County']) - set(aqi['county'])"
   ]
  },
  {
   "cell_type": "code",
   "execution_count": null,
   "id": "a74e372b-e450-4e27-ad4e-a3b0fce9a72a",
   "metadata": {},
   "outputs": [],
   "source": []
  }
 ],
 "metadata": {
  "kernelspec": {
   "display_name": "Python 3 (ipykernel)",
   "language": "python",
   "name": "python3"
  },
  "language_info": {
   "codemirror_mode": {
    "name": "ipython",
    "version": 3
   },
   "file_extension": ".py",
   "mimetype": "text/x-python",
   "name": "python",
   "nbconvert_exporter": "python",
   "pygments_lexer": "ipython3",
   "version": "3.9.15"
  }
 },
 "nbformat": 4,
 "nbformat_minor": 5
}
