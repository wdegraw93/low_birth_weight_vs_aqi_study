{
 "cells": [
  {
   "cell_type": "markdown",
   "id": "bb87ac76-6e5a-4bb9-b4c4-5ef88304c3c7",
   "metadata": {},
   "source": [
    "# Data Collection and Cleaning"
   ]
  },
  {
   "cell_type": "markdown",
   "id": "eeeea78f-9b61-4564-b6b1-6e5132edf148",
   "metadata": {},
   "source": [
    "Data has been collected from both the EPA for Air Quality Index data and from the CDC for birth data relating to weight.  "
   ]
  },
  {
   "cell_type": "markdown",
   "id": "ddde48d8-8b2c-4ccf-ac47-16333269d8ac",
   "metadata": {},
   "source": [
    "## Imports"
   ]
  },
  {
   "cell_type": "code",
   "execution_count": 412,
   "id": "b78cde8d-490d-4f0a-8843-b65070799d81",
   "metadata": {
    "execution": {
     "iopub.execute_input": "2023-01-18T06:29:15.726234Z",
     "iopub.status.busy": "2023-01-18T06:29:15.725351Z",
     "iopub.status.idle": "2023-01-18T06:29:15.736815Z",
     "shell.execute_reply": "2023-01-18T06:29:15.735480Z",
     "shell.execute_reply.started": "2023-01-18T06:29:15.726193Z"
    },
    "tags": []
   },
   "outputs": [],
   "source": [
    "import pandas as pd\n",
    "import numpy as np\n",
    "import matplotlib.pyplot as plt\n",
    "import seaborn as sns\n",
    "\n",
    "from pathlib import Path"
   ]
  },
  {
   "cell_type": "markdown",
   "id": "3fb70775-2797-4998-aff2-54b85c1e471c",
   "metadata": {},
   "source": [
    "## Data"
   ]
  },
  {
   "cell_type": "markdown",
   "id": "38dc7b5b-6af5-4cb6-adda-b35c38f224d2",
   "metadata": {},
   "source": [
    "### EPA AQI Data\n",
    "\n",
    "Data is in individual CSV files that need to be read in and concatenated"
   ]
  },
  {
   "cell_type": "code",
   "execution_count": 413,
   "id": "b05af9ce-2096-43df-a7ca-50df73686e2a",
   "metadata": {
    "execution": {
     "iopub.execute_input": "2023-01-18T06:29:15.739872Z",
     "iopub.status.busy": "2023-01-18T06:29:15.739267Z",
     "iopub.status.idle": "2023-01-18T06:29:16.167914Z",
     "shell.execute_reply": "2023-01-18T06:29:16.167620Z",
     "shell.execute_reply.started": "2023-01-18T06:29:15.739845Z"
    },
    "tags": []
   },
   "outputs": [],
   "source": [
    "data_path = Path('data/')\n",
    "\n",
    "# create a list of all the AQI csv files\n",
    "aqs_dfs = [\n",
    "    pd.read_csv(file) for file in data_path.glob('AQS_county*') if file.is_file()\n",
    "]\n",
    "\n",
    "# concatenate the dataframes\n",
    "aqs = pd.concat(aqs_dfs)"
   ]
  },
  {
   "cell_type": "code",
   "execution_count": 414,
   "id": "0c791f81-201e-44dc-951c-1862623cdd04",
   "metadata": {
    "execution": {
     "iopub.execute_input": "2023-01-18T06:29:16.168471Z",
     "iopub.status.busy": "2023-01-18T06:29:16.168376Z",
     "iopub.status.idle": "2023-01-18T06:29:16.173376Z",
     "shell.execute_reply": "2023-01-18T06:29:16.172981Z",
     "shell.execute_reply.started": "2023-01-18T06:29:16.168461Z"
    },
    "tags": []
   },
   "outputs": [
    {
     "data": {
      "text/plain": [
       "array(['Arkansas', 'Alabama', 'Alaska', 'Arizona', 'California',\n",
       "       'Colorado', 'Connecticut', 'Delaware', 'District Of Columbia',\n",
       "       'Florida', 'Georgia', 'Hawaii', 'Idaho', 'Illinois', 'Indiana',\n",
       "       'Iowa', 'Kansas', 'Kentucky', 'Louisiana', 'Maine', 'Maryland',\n",
       "       'Massachusetts', 'Michigan', 'Minnesota', 'Mississippi',\n",
       "       'Missouri', 'Montana', 'Nebraska', 'Nevada', 'New Hampshire',\n",
       "       'New Jersey', 'New Mexico', 'New York', 'North Carolina',\n",
       "       'North Dakota', 'Ohio', 'Oklahoma', 'Oregon', 'Pennsylvania',\n",
       "       'Rhode Island', 'South Carolina', 'South Dakota', 'Tennessee',\n",
       "       'Texas', 'Utah', 'Vermont', 'Virginia', 'Washington',\n",
       "       'West Virginia', 'Wisconsin', 'Wyoming', 'Puerto Rico',\n",
       "       'Virgin Islands'], dtype=object)"
      ]
     },
     "execution_count": 414,
     "metadata": {},
     "output_type": "execute_result"
    }
   ],
   "source": [
    "aqs.state.unique()"
   ]
  },
  {
   "cell_type": "markdown",
   "id": "19b9f0e2-904c-4fe2-86e4-a837336af32d",
   "metadata": {},
   "source": [
    "### Important note: use validity indicator to drop unusable rows"
   ]
  },
  {
   "cell_type": "code",
   "execution_count": 415,
   "id": "ed7c5fef-4ea0-42d4-8dce-cecab94dfe90",
   "metadata": {
    "execution": {
     "iopub.execute_input": "2023-01-18T06:29:16.173916Z",
     "iopub.status.busy": "2023-01-18T06:29:16.173820Z",
     "iopub.status.idle": "2023-01-18T06:29:16.242906Z",
     "shell.execute_reply": "2023-01-18T06:29:16.242566Z",
     "shell.execute_reply.started": "2023-01-18T06:29:16.173907Z"
    },
    "tags": []
   },
   "outputs": [],
   "source": [
    "aqs = aqs[aqs['validity_indicator']=='Y']"
   ]
  },
  {
   "cell_type": "code",
   "execution_count": 416,
   "id": "58785dfe-69be-41cb-9e77-0e2c2caf52b0",
   "metadata": {
    "execution": {
     "iopub.execute_input": "2023-01-18T06:29:16.244359Z",
     "iopub.status.busy": "2023-01-18T06:29:16.244252Z",
     "iopub.status.idle": "2023-01-18T06:29:16.247461Z",
     "shell.execute_reply": "2023-01-18T06:29:16.247122Z",
     "shell.execute_reply.started": "2023-01-18T06:29:16.244349Z"
    },
    "tags": []
   },
   "outputs": [
    {
     "data": {
      "text/plain": [
       "(70188, 57)"
      ]
     },
     "execution_count": 416,
     "metadata": {},
     "output_type": "execute_result"
    }
   ],
   "source": [
    "aqs.shape"
   ]
  },
  {
   "cell_type": "markdown",
   "id": "36915124-e247-4fc1-be8f-50fafc678a02",
   "metadata": {},
   "source": [
    "### Borrow EPA standard and only take measurements where `valid_day_count` > 75% of days in year"
   ]
  },
  {
   "cell_type": "code",
   "execution_count": 417,
   "id": "d617972e-b986-4c3f-adc0-3d752042ada9",
   "metadata": {
    "execution": {
     "iopub.execute_input": "2023-01-18T06:29:16.248234Z",
     "iopub.status.busy": "2023-01-18T06:29:16.248095Z",
     "iopub.status.idle": "2023-01-18T06:29:16.250377Z",
     "shell.execute_reply": "2023-01-18T06:29:16.250054Z",
     "shell.execute_reply.started": "2023-01-18T06:29:16.248225Z"
    },
    "tags": []
   },
   "outputs": [
    {
     "data": {
      "text/plain": [
       "273.75"
      ]
     },
     "execution_count": 417,
     "metadata": {},
     "output_type": "execute_result"
    }
   ],
   "source": [
    ".75*365"
   ]
  },
  {
   "cell_type": "code",
   "execution_count": 418,
   "id": "eede4c5d-4254-4e86-9cd0-affe8b032303",
   "metadata": {
    "execution": {
     "iopub.execute_input": "2023-01-18T06:29:16.250825Z",
     "iopub.status.busy": "2023-01-18T06:29:16.250733Z",
     "iopub.status.idle": "2023-01-18T06:29:16.264103Z",
     "shell.execute_reply": "2023-01-18T06:29:16.263753Z",
     "shell.execute_reply.started": "2023-01-18T06:29:16.250816Z"
    },
    "tags": []
   },
   "outputs": [],
   "source": [
    "aqs = aqs[aqs['valid_day_count'] > .75*365]"
   ]
  },
  {
   "cell_type": "code",
   "execution_count": 419,
   "id": "b9768e83-5086-4005-8493-8fac03ef9f43",
   "metadata": {
    "execution": {
     "iopub.execute_input": "2023-01-18T06:29:16.264699Z",
     "iopub.status.busy": "2023-01-18T06:29:16.264607Z",
     "iopub.status.idle": "2023-01-18T06:29:16.267043Z",
     "shell.execute_reply": "2023-01-18T06:29:16.266783Z",
     "shell.execute_reply.started": "2023-01-18T06:29:16.264690Z"
    },
    "tags": []
   },
   "outputs": [
    {
     "data": {
      "text/plain": [
       "(34400, 57)"
      ]
     },
     "execution_count": 419,
     "metadata": {},
     "output_type": "execute_result"
    }
   ],
   "source": [
    "aqs.shape"
   ]
  },
  {
   "cell_type": "code",
   "execution_count": 443,
   "id": "61416b23-bded-46be-bd3e-699a74443cac",
   "metadata": {
    "execution": {
     "iopub.execute_input": "2023-01-18T06:40:11.868451Z",
     "iopub.status.busy": "2023-01-18T06:40:11.867998Z",
     "iopub.status.idle": "2023-01-18T06:40:11.875272Z",
     "shell.execute_reply": "2023-01-18T06:40:11.874422Z",
     "shell.execute_reply.started": "2023-01-18T06:40:11.868400Z"
    },
    "tags": []
   },
   "outputs": [
    {
     "ename": "SyntaxError",
     "evalue": "invalid syntax (925099458.py, line 44)",
     "output_type": "error",
     "traceback": [
      "\u001b[0;36m  Cell \u001b[0;32mIn[443], line 44\u001b[0;36m\u001b[0m\n\u001b[0;31m    keep = [col for col if col not in drop]\u001b[0m\n\u001b[0m                                          ^\u001b[0m\n\u001b[0;31mSyntaxError\u001b[0m\u001b[0;31m:\u001b[0m invalid syntax\n"
     ]
    }
   ],
   "source": [
    "drop = ['state_code',\n",
    " 'county_code',\n",
    " 'site_number',\n",
    " 'parameter_code',\n",
    " 'poc',\n",
    " 'latitude',\n",
    " 'longitude',\n",
    " 'city', 'cbsa_code', 'cbsa', 'date_of_last_change',\n",
    " 'first_max_value',\n",
    "  'first_max_datetime',\n",
    "  'second_max_value',\n",
    "  'second_max_datetime',\n",
    "  'third_max_value',\n",
    "  'third_max_datetime',\n",
    "  'fourth_max_value',\n",
    "  'fourth_max_datetime',\n",
    "  'first_max_nonoverlap_value',\n",
    "  'first_max_n_o_datetime',\n",
    "  'second_max_nonoverlap_value',\n",
    "  'second_max_n_o_datetime',\n",
    "  'ninety_ninth_percentile',\n",
    "  'ninety_eighth_percentile',\n",
    "  'ninety_fifth_percentile',\n",
    "  'ninetieth_percentile',\n",
    "  'seventy_fifth_percentile',\n",
    "  'fiftieth_percentile',\n",
    "  'tenth_percentile',\n",
    "  'local_site_name',\n",
    "  'site_address',\n",
    " 'datum',\n",
    " 'units_of_measure',\n",
    " 'sample_duration',\n",
    " 'secondary_exceedance_count',\n",
    " 'pollutant_standard',\n",
    " 'metric_used',\n",
    " 'method',\n",
    " 'event_type',\n",
    " 'observation_count',\n",
    " 'observation_percent',\n",
    " 'required_day_count',\n",
    " 'exceptional_data_count',\n",
    " 'null_observation_count']\n",
    "\n",
    "keep = [col for col if col not in drop]"
   ]
  },
  {
   "cell_type": "code",
   "execution_count": 421,
   "id": "aac319d5-c3ff-4e64-83b8-1bf7cfd620d6",
   "metadata": {
    "execution": {
     "iopub.execute_input": "2023-01-18T06:29:16.271452Z",
     "iopub.status.busy": "2023-01-18T06:29:16.271174Z",
     "iopub.status.idle": "2023-01-18T06:29:16.276749Z",
     "shell.execute_reply": "2023-01-18T06:29:16.276457Z",
     "shell.execute_reply.started": "2023-01-18T06:29:16.271435Z"
    },
    "tags": []
   },
   "outputs": [],
   "source": [
    "aqs.drop(columns=drop, inplace=True)"
   ]
  },
  {
   "cell_type": "code",
   "execution_count": 422,
   "id": "c2f4626e-ffb8-4e6f-b892-6c86a7f27362",
   "metadata": {
    "execution": {
     "iopub.execute_input": "2023-01-18T06:29:16.277322Z",
     "iopub.status.busy": "2023-01-18T06:29:16.277237Z",
     "iopub.status.idle": "2023-01-18T06:29:16.282415Z",
     "shell.execute_reply": "2023-01-18T06:29:16.281960Z",
     "shell.execute_reply.started": "2023-01-18T06:29:16.277313Z"
    },
    "tags": []
   },
   "outputs": [
    {
     "data": {
      "text/html": [
       "<div>\n",
       "<style scoped>\n",
       "    .dataframe tbody tr th:only-of-type {\n",
       "        vertical-align: middle;\n",
       "    }\n",
       "\n",
       "    .dataframe tbody tr th {\n",
       "        vertical-align: top;\n",
       "    }\n",
       "\n",
       "    .dataframe thead th {\n",
       "        text-align: right;\n",
       "    }\n",
       "</style>\n",
       "<table border=\"1\" class=\"dataframe\">\n",
       "  <thead>\n",
       "    <tr style=\"text-align: right;\">\n",
       "      <th></th>\n",
       "      <th>parameter</th>\n",
       "      <th>sample_duration_code</th>\n",
       "      <th>year</th>\n",
       "      <th>primary_exceedance_count</th>\n",
       "      <th>arithmetic_mean</th>\n",
       "      <th>standard_deviation</th>\n",
       "      <th>state</th>\n",
       "      <th>county</th>\n",
       "    </tr>\n",
       "  </thead>\n",
       "  <tbody>\n",
       "    <tr>\n",
       "      <th>22</th>\n",
       "      <td>Nitrogen dioxide (NO2)</td>\n",
       "      <td>1</td>\n",
       "      <td>2006</td>\n",
       "      <td>0.0</td>\n",
       "      <td>27.482192</td>\n",
       "      <td>11.249070</td>\n",
       "      <td>Arkansas</td>\n",
       "      <td>Crittenden</td>\n",
       "    </tr>\n",
       "    <tr>\n",
       "      <th>23</th>\n",
       "      <td>Nitrogen dioxide (NO2)</td>\n",
       "      <td>1</td>\n",
       "      <td>2006</td>\n",
       "      <td>NaN</td>\n",
       "      <td>11.915892</td>\n",
       "      <td>9.492380</td>\n",
       "      <td>Arkansas</td>\n",
       "      <td>Crittenden</td>\n",
       "    </tr>\n",
       "    <tr>\n",
       "      <th>24</th>\n",
       "      <td>Ozone</td>\n",
       "      <td>1</td>\n",
       "      <td>2006</td>\n",
       "      <td>0.0</td>\n",
       "      <td>0.054444</td>\n",
       "      <td>0.017248</td>\n",
       "      <td>Arkansas</td>\n",
       "      <td>Crittenden</td>\n",
       "    </tr>\n",
       "    <tr>\n",
       "      <th>25</th>\n",
       "      <td>Ozone</td>\n",
       "      <td>W</td>\n",
       "      <td>2006</td>\n",
       "      <td>4.0</td>\n",
       "      <td>0.048391</td>\n",
       "      <td>0.016378</td>\n",
       "      <td>Arkansas</td>\n",
       "      <td>Crittenden</td>\n",
       "    </tr>\n",
       "    <tr>\n",
       "      <th>26</th>\n",
       "      <td>Ozone</td>\n",
       "      <td>W</td>\n",
       "      <td>2006</td>\n",
       "      <td>13.0</td>\n",
       "      <td>0.048391</td>\n",
       "      <td>0.016378</td>\n",
       "      <td>Arkansas</td>\n",
       "      <td>Crittenden</td>\n",
       "    </tr>\n",
       "  </tbody>\n",
       "</table>\n",
       "</div>"
      ],
      "text/plain": [
       "                 parameter sample_duration_code  year  \\\n",
       "22  Nitrogen dioxide (NO2)                    1  2006   \n",
       "23  Nitrogen dioxide (NO2)                    1  2006   \n",
       "24                   Ozone                    1  2006   \n",
       "25                   Ozone                    W  2006   \n",
       "26                   Ozone                    W  2006   \n",
       "\n",
       "    primary_exceedance_count  arithmetic_mean  standard_deviation     state  \\\n",
       "22                       0.0        27.482192           11.249070  Arkansas   \n",
       "23                       NaN        11.915892            9.492380  Arkansas   \n",
       "24                       0.0         0.054444            0.017248  Arkansas   \n",
       "25                       4.0         0.048391            0.016378  Arkansas   \n",
       "26                      13.0         0.048391            0.016378  Arkansas   \n",
       "\n",
       "        county  \n",
       "22  Crittenden  \n",
       "23  Crittenden  \n",
       "24  Crittenden  \n",
       "25  Crittenden  \n",
       "26  Crittenden  "
      ]
     },
     "execution_count": 422,
     "metadata": {},
     "output_type": "execute_result"
    }
   ],
   "source": [
    "aqs.head()"
   ]
  },
  {
   "cell_type": "code",
   "execution_count": 438,
   "id": "d655e2e8-63bc-49eb-9788-b08238aca35d",
   "metadata": {
    "execution": {
     "iopub.execute_input": "2023-01-18T06:37:53.769865Z",
     "iopub.status.busy": "2023-01-18T06:37:53.769488Z",
     "iopub.status.idle": "2023-01-18T06:37:53.790257Z",
     "shell.execute_reply": "2023-01-18T06:37:53.789871Z",
     "shell.execute_reply.started": "2023-01-18T06:37:53.769840Z"
    },
    "tags": []
   },
   "outputs": [],
   "source": [
    "county_aqs = aqs.groupby(['state', 'county', 'year', 'parameter'])['arithmetic_mean'].mean().unstack().reset_index()"
   ]
  },
  {
   "cell_type": "code",
   "execution_count": 440,
   "id": "de21b944-ed1a-4628-9fa6-5328c90ceb4a",
   "metadata": {
    "execution": {
     "iopub.execute_input": "2023-01-18T06:38:10.318241Z",
     "iopub.status.busy": "2023-01-18T06:38:10.313620Z",
     "iopub.status.idle": "2023-01-18T06:38:10.338773Z",
     "shell.execute_reply": "2023-01-18T06:38:10.338347Z",
     "shell.execute_reply.started": "2023-01-18T06:38:10.318141Z"
    },
    "tags": []
   },
   "outputs": [
    {
     "data": {
      "text/html": [
       "<div>\n",
       "<style scoped>\n",
       "    .dataframe tbody tr th:only-of-type {\n",
       "        vertical-align: middle;\n",
       "    }\n",
       "\n",
       "    .dataframe tbody tr th {\n",
       "        vertical-align: top;\n",
       "    }\n",
       "\n",
       "    .dataframe thead th {\n",
       "        text-align: right;\n",
       "    }\n",
       "</style>\n",
       "<table border=\"1\" class=\"dataframe\">\n",
       "  <thead>\n",
       "    <tr style=\"text-align: right;\">\n",
       "      <th>parameter</th>\n",
       "      <th>state</th>\n",
       "      <th>county</th>\n",
       "      <th>year</th>\n",
       "      <th>Carbon monoxide</th>\n",
       "      <th>Lead (TSP) LC</th>\n",
       "      <th>Nitrogen dioxide (NO2)</th>\n",
       "      <th>Ozone</th>\n",
       "      <th>PM10 Total 0-10um STP</th>\n",
       "      <th>PM2.5 - Local Conditions</th>\n",
       "      <th>Sulfur dioxide</th>\n",
       "    </tr>\n",
       "  </thead>\n",
       "  <tbody>\n",
       "    <tr>\n",
       "      <th>0</th>\n",
       "      <td>Alabama</td>\n",
       "      <td>Colbert</td>\n",
       "      <td>2006</td>\n",
       "      <td>NaN</td>\n",
       "      <td>NaN</td>\n",
       "      <td>NaN</td>\n",
       "      <td>NaN</td>\n",
       "      <td>NaN</td>\n",
       "      <td>NaN</td>\n",
       "      <td>3.467840</td>\n",
       "    </tr>\n",
       "    <tr>\n",
       "      <th>1</th>\n",
       "      <td>Alabama</td>\n",
       "      <td>Colbert</td>\n",
       "      <td>2010</td>\n",
       "      <td>NaN</td>\n",
       "      <td>NaN</td>\n",
       "      <td>NaN</td>\n",
       "      <td>NaN</td>\n",
       "      <td>NaN</td>\n",
       "      <td>11.107902</td>\n",
       "      <td>NaN</td>\n",
       "    </tr>\n",
       "    <tr>\n",
       "      <th>2</th>\n",
       "      <td>Alabama</td>\n",
       "      <td>Etowah</td>\n",
       "      <td>2008</td>\n",
       "      <td>NaN</td>\n",
       "      <td>NaN</td>\n",
       "      <td>NaN</td>\n",
       "      <td>NaN</td>\n",
       "      <td>NaN</td>\n",
       "      <td>12.375394</td>\n",
       "      <td>NaN</td>\n",
       "    </tr>\n",
       "    <tr>\n",
       "      <th>3</th>\n",
       "      <td>Alabama</td>\n",
       "      <td>Etowah</td>\n",
       "      <td>2009</td>\n",
       "      <td>NaN</td>\n",
       "      <td>NaN</td>\n",
       "      <td>NaN</td>\n",
       "      <td>NaN</td>\n",
       "      <td>NaN</td>\n",
       "      <td>10.200000</td>\n",
       "      <td>NaN</td>\n",
       "    </tr>\n",
       "    <tr>\n",
       "      <th>4</th>\n",
       "      <td>Alabama</td>\n",
       "      <td>Etowah</td>\n",
       "      <td>2010</td>\n",
       "      <td>NaN</td>\n",
       "      <td>NaN</td>\n",
       "      <td>NaN</td>\n",
       "      <td>NaN</td>\n",
       "      <td>NaN</td>\n",
       "      <td>14.086238</td>\n",
       "      <td>NaN</td>\n",
       "    </tr>\n",
       "    <tr>\n",
       "      <th>5</th>\n",
       "      <td>Alabama</td>\n",
       "      <td>Houston</td>\n",
       "      <td>2010</td>\n",
       "      <td>NaN</td>\n",
       "      <td>NaN</td>\n",
       "      <td>NaN</td>\n",
       "      <td>NaN</td>\n",
       "      <td>NaN</td>\n",
       "      <td>12.826765</td>\n",
       "      <td>NaN</td>\n",
       "    </tr>\n",
       "    <tr>\n",
       "      <th>6</th>\n",
       "      <td>Alabama</td>\n",
       "      <td>Jackson</td>\n",
       "      <td>2006</td>\n",
       "      <td>NaN</td>\n",
       "      <td>NaN</td>\n",
       "      <td>NaN</td>\n",
       "      <td>NaN</td>\n",
       "      <td>NaN</td>\n",
       "      <td>NaN</td>\n",
       "      <td>4.273782</td>\n",
       "    </tr>\n",
       "    <tr>\n",
       "      <th>7</th>\n",
       "      <td>Alabama</td>\n",
       "      <td>Jefferson</td>\n",
       "      <td>2006</td>\n",
       "      <td>0.731167</td>\n",
       "      <td>NaN</td>\n",
       "      <td>NaN</td>\n",
       "      <td>NaN</td>\n",
       "      <td>34.578422</td>\n",
       "      <td>18.233563</td>\n",
       "      <td>4.851470</td>\n",
       "    </tr>\n",
       "    <tr>\n",
       "      <th>8</th>\n",
       "      <td>Alabama</td>\n",
       "      <td>Jefferson</td>\n",
       "      <td>2007</td>\n",
       "      <td>0.623493</td>\n",
       "      <td>NaN</td>\n",
       "      <td>NaN</td>\n",
       "      <td>NaN</td>\n",
       "      <td>38.069028</td>\n",
       "      <td>17.421237</td>\n",
       "      <td>5.019928</td>\n",
       "    </tr>\n",
       "    <tr>\n",
       "      <th>9</th>\n",
       "      <td>Alabama</td>\n",
       "      <td>Jefferson</td>\n",
       "      <td>2008</td>\n",
       "      <td>0.640578</td>\n",
       "      <td>NaN</td>\n",
       "      <td>NaN</td>\n",
       "      <td>NaN</td>\n",
       "      <td>30.835490</td>\n",
       "      <td>14.951876</td>\n",
       "      <td>4.779135</td>\n",
       "    </tr>\n",
       "    <tr>\n",
       "      <th>10</th>\n",
       "      <td>Alabama</td>\n",
       "      <td>Jefferson</td>\n",
       "      <td>2009</td>\n",
       "      <td>0.533404</td>\n",
       "      <td>NaN</td>\n",
       "      <td>NaN</td>\n",
       "      <td>NaN</td>\n",
       "      <td>23.141359</td>\n",
       "      <td>11.496186</td>\n",
       "      <td>2.617892</td>\n",
       "    </tr>\n",
       "    <tr>\n",
       "      <th>11</th>\n",
       "      <td>Alabama</td>\n",
       "      <td>Jefferson</td>\n",
       "      <td>2010</td>\n",
       "      <td>0.366005</td>\n",
       "      <td>NaN</td>\n",
       "      <td>NaN</td>\n",
       "      <td>NaN</td>\n",
       "      <td>26.178966</td>\n",
       "      <td>13.128304</td>\n",
       "      <td>2.712198</td>\n",
       "    </tr>\n",
       "    <tr>\n",
       "      <th>12</th>\n",
       "      <td>Alabama</td>\n",
       "      <td>Jefferson</td>\n",
       "      <td>2011</td>\n",
       "      <td>0.339893</td>\n",
       "      <td>NaN</td>\n",
       "      <td>NaN</td>\n",
       "      <td>NaN</td>\n",
       "      <td>24.650289</td>\n",
       "      <td>12.820760</td>\n",
       "      <td>2.822248</td>\n",
       "    </tr>\n",
       "    <tr>\n",
       "      <th>13</th>\n",
       "      <td>Alabama</td>\n",
       "      <td>Jefferson</td>\n",
       "      <td>2012</td>\n",
       "      <td>0.354826</td>\n",
       "      <td>NaN</td>\n",
       "      <td>NaN</td>\n",
       "      <td>NaN</td>\n",
       "      <td>18.732864</td>\n",
       "      <td>NaN</td>\n",
       "      <td>2.419637</td>\n",
       "    </tr>\n",
       "    <tr>\n",
       "      <th>14</th>\n",
       "      <td>Alabama</td>\n",
       "      <td>Jefferson</td>\n",
       "      <td>2013</td>\n",
       "      <td>0.273550</td>\n",
       "      <td>NaN</td>\n",
       "      <td>NaN</td>\n",
       "      <td>NaN</td>\n",
       "      <td>18.009145</td>\n",
       "      <td>NaN</td>\n",
       "      <td>2.041100</td>\n",
       "    </tr>\n",
       "    <tr>\n",
       "      <th>15</th>\n",
       "      <td>Alabama</td>\n",
       "      <td>Jefferson</td>\n",
       "      <td>2014</td>\n",
       "      <td>0.364551</td>\n",
       "      <td>NaN</td>\n",
       "      <td>17.283023</td>\n",
       "      <td>NaN</td>\n",
       "      <td>20.324802</td>\n",
       "      <td>11.659570</td>\n",
       "      <td>2.113725</td>\n",
       "    </tr>\n",
       "    <tr>\n",
       "      <th>16</th>\n",
       "      <td>Alabama</td>\n",
       "      <td>Jefferson</td>\n",
       "      <td>2015</td>\n",
       "      <td>0.382271</td>\n",
       "      <td>NaN</td>\n",
       "      <td>14.852636</td>\n",
       "      <td>NaN</td>\n",
       "      <td>19.045818</td>\n",
       "      <td>11.623259</td>\n",
       "      <td>1.443488</td>\n",
       "    </tr>\n",
       "    <tr>\n",
       "      <th>17</th>\n",
       "      <td>Alabama</td>\n",
       "      <td>Jefferson</td>\n",
       "      <td>2016</td>\n",
       "      <td>0.333729</td>\n",
       "      <td>NaN</td>\n",
       "      <td>17.242060</td>\n",
       "      <td>NaN</td>\n",
       "      <td>19.540222</td>\n",
       "      <td>10.488658</td>\n",
       "      <td>1.936249</td>\n",
       "    </tr>\n",
       "    <tr>\n",
       "      <th>18</th>\n",
       "      <td>Alabama</td>\n",
       "      <td>Madison</td>\n",
       "      <td>2008</td>\n",
       "      <td>NaN</td>\n",
       "      <td>NaN</td>\n",
       "      <td>NaN</td>\n",
       "      <td>NaN</td>\n",
       "      <td>NaN</td>\n",
       "      <td>12.232941</td>\n",
       "      <td>NaN</td>\n",
       "    </tr>\n",
       "    <tr>\n",
       "      <th>19</th>\n",
       "      <td>Alabama</td>\n",
       "      <td>Mobile</td>\n",
       "      <td>2006</td>\n",
       "      <td>NaN</td>\n",
       "      <td>NaN</td>\n",
       "      <td>NaN</td>\n",
       "      <td>NaN</td>\n",
       "      <td>22.062511</td>\n",
       "      <td>NaN</td>\n",
       "      <td>NaN</td>\n",
       "    </tr>\n",
       "  </tbody>\n",
       "</table>\n",
       "</div>"
      ],
      "text/plain": [
       "parameter    state     county  year  Carbon monoxide  Lead (TSP) LC  \\\n",
       "0          Alabama    Colbert  2006              NaN            NaN   \n",
       "1          Alabama    Colbert  2010              NaN            NaN   \n",
       "2          Alabama     Etowah  2008              NaN            NaN   \n",
       "3          Alabama     Etowah  2009              NaN            NaN   \n",
       "4          Alabama     Etowah  2010              NaN            NaN   \n",
       "5          Alabama    Houston  2010              NaN            NaN   \n",
       "6          Alabama    Jackson  2006              NaN            NaN   \n",
       "7          Alabama  Jefferson  2006         0.731167            NaN   \n",
       "8          Alabama  Jefferson  2007         0.623493            NaN   \n",
       "9          Alabama  Jefferson  2008         0.640578            NaN   \n",
       "10         Alabama  Jefferson  2009         0.533404            NaN   \n",
       "11         Alabama  Jefferson  2010         0.366005            NaN   \n",
       "12         Alabama  Jefferson  2011         0.339893            NaN   \n",
       "13         Alabama  Jefferson  2012         0.354826            NaN   \n",
       "14         Alabama  Jefferson  2013         0.273550            NaN   \n",
       "15         Alabama  Jefferson  2014         0.364551            NaN   \n",
       "16         Alabama  Jefferson  2015         0.382271            NaN   \n",
       "17         Alabama  Jefferson  2016         0.333729            NaN   \n",
       "18         Alabama    Madison  2008              NaN            NaN   \n",
       "19         Alabama     Mobile  2006              NaN            NaN   \n",
       "\n",
       "parameter  Nitrogen dioxide (NO2)  Ozone  PM10 Total 0-10um STP  \\\n",
       "0                             NaN    NaN                    NaN   \n",
       "1                             NaN    NaN                    NaN   \n",
       "2                             NaN    NaN                    NaN   \n",
       "3                             NaN    NaN                    NaN   \n",
       "4                             NaN    NaN                    NaN   \n",
       "5                             NaN    NaN                    NaN   \n",
       "6                             NaN    NaN                    NaN   \n",
       "7                             NaN    NaN              34.578422   \n",
       "8                             NaN    NaN              38.069028   \n",
       "9                             NaN    NaN              30.835490   \n",
       "10                            NaN    NaN              23.141359   \n",
       "11                            NaN    NaN              26.178966   \n",
       "12                            NaN    NaN              24.650289   \n",
       "13                            NaN    NaN              18.732864   \n",
       "14                            NaN    NaN              18.009145   \n",
       "15                      17.283023    NaN              20.324802   \n",
       "16                      14.852636    NaN              19.045818   \n",
       "17                      17.242060    NaN              19.540222   \n",
       "18                            NaN    NaN                    NaN   \n",
       "19                            NaN    NaN              22.062511   \n",
       "\n",
       "parameter  PM2.5 - Local Conditions  Sulfur dioxide  \n",
       "0                               NaN        3.467840  \n",
       "1                         11.107902             NaN  \n",
       "2                         12.375394             NaN  \n",
       "3                         10.200000             NaN  \n",
       "4                         14.086238             NaN  \n",
       "5                         12.826765             NaN  \n",
       "6                               NaN        4.273782  \n",
       "7                         18.233563        4.851470  \n",
       "8                         17.421237        5.019928  \n",
       "9                         14.951876        4.779135  \n",
       "10                        11.496186        2.617892  \n",
       "11                        13.128304        2.712198  \n",
       "12                        12.820760        2.822248  \n",
       "13                              NaN        2.419637  \n",
       "14                              NaN        2.041100  \n",
       "15                        11.659570        2.113725  \n",
       "16                        11.623259        1.443488  \n",
       "17                        10.488658        1.936249  \n",
       "18                        12.232941             NaN  \n",
       "19                              NaN             NaN  "
      ]
     },
     "execution_count": 440,
     "metadata": {},
     "output_type": "execute_result"
    }
   ],
   "source": [
    "county_aqs.head(20)"
   ]
  },
  {
   "cell_type": "code",
   "execution_count": 330,
   "id": "1e25dff3-6690-4fec-9c0d-123e271cb29e",
   "metadata": {
    "execution": {
     "iopub.execute_input": "2023-01-18T03:56:59.639937Z",
     "iopub.status.busy": "2023-01-18T03:56:59.638562Z",
     "iopub.status.idle": "2023-01-18T03:56:59.649373Z",
     "shell.execute_reply": "2023-01-18T03:56:59.648461Z",
     "shell.execute_reply.started": "2023-01-18T03:56:59.639869Z"
    }
   },
   "outputs": [],
   "source": [
    "# params = ['Ozone', 'PM10 Total 0-10um STP', 'Nitrogen dioxide (NO2)',\n",
    "# 'Sulfur dioxide', 'PM2.5 - Local Conditions', 'Carbon monoxide', 'Lead (TSP) LC']"
   ]
  },
  {
   "cell_type": "code",
   "execution_count": 406,
   "id": "10d99729-4d11-4e51-bbcd-11b7f1bc1035",
   "metadata": {
    "execution": {
     "iopub.execute_input": "2023-01-18T06:28:03.007048Z",
     "iopub.status.busy": "2023-01-18T06:28:03.006413Z",
     "iopub.status.idle": "2023-01-18T06:28:03.014209Z",
     "shell.execute_reply": "2023-01-18T06:28:03.013140Z",
     "shell.execute_reply.started": "2023-01-18T06:28:03.007009Z"
    },
    "tags": []
   },
   "outputs": [],
   "source": [
    "# aqs['parameter'].unique()"
   ]
  },
  {
   "cell_type": "code",
   "execution_count": 407,
   "id": "175be26f-d7af-431a-91be-b81a80791de8",
   "metadata": {
    "execution": {
     "iopub.execute_input": "2023-01-18T06:28:04.921819Z",
     "iopub.status.busy": "2023-01-18T06:28:04.920957Z",
     "iopub.status.idle": "2023-01-18T06:28:04.927706Z",
     "shell.execute_reply": "2023-01-18T06:28:04.926649Z",
     "shell.execute_reply.started": "2023-01-18T06:28:04.921767Z"
    },
    "tags": []
   },
   "outputs": [],
   "source": [
    "# aqs['county'].nunique()"
   ]
  },
  {
   "cell_type": "code",
   "execution_count": 408,
   "id": "c07ec4ed-0d74-4724-af3d-638378764ed7",
   "metadata": {
    "execution": {
     "iopub.execute_input": "2023-01-18T06:28:06.967318Z",
     "iopub.status.busy": "2023-01-18T06:28:06.966454Z",
     "iopub.status.idle": "2023-01-18T06:28:06.974561Z",
     "shell.execute_reply": "2023-01-18T06:28:06.973651Z",
     "shell.execute_reply.started": "2023-01-18T06:28:06.967265Z"
    },
    "tags": []
   },
   "outputs": [],
   "source": [
    "# aqs.columns"
   ]
  },
  {
   "cell_type": "code",
   "execution_count": 409,
   "id": "9a66d098-80d8-4b7f-9833-5983cc65353e",
   "metadata": {
    "execution": {
     "iopub.execute_input": "2023-01-18T06:28:10.655293Z",
     "iopub.status.busy": "2023-01-18T06:28:10.655113Z",
     "iopub.status.idle": "2023-01-18T06:28:10.657388Z",
     "shell.execute_reply": "2023-01-18T06:28:10.657052Z",
     "shell.execute_reply.started": "2023-01-18T06:28:10.655279Z"
    },
    "tags": []
   },
   "outputs": [],
   "source": [
    "# aqs.groupby(['state', 'county', 'year','parameter'])[['arithmetic_mean', 'standard_deviation']].mean()"
   ]
  },
  {
   "cell_type": "code",
   "execution_count": 384,
   "id": "5b630f49-1dec-40bf-a20b-7ac4aee0cc7a",
   "metadata": {
    "execution": {
     "iopub.execute_input": "2023-01-18T05:13:17.714095Z",
     "iopub.status.busy": "2023-01-18T05:13:17.713468Z",
     "iopub.status.idle": "2023-01-18T05:13:17.724865Z",
     "shell.execute_reply": "2023-01-18T05:13:17.724369Z",
     "shell.execute_reply.started": "2023-01-18T05:13:17.714069Z"
    }
   },
   "outputs": [
    {
     "data": {
      "text/html": [
       "<div>\n",
       "<style scoped>\n",
       "    .dataframe tbody tr th:only-of-type {\n",
       "        vertical-align: middle;\n",
       "    }\n",
       "\n",
       "    .dataframe tbody tr th {\n",
       "        vertical-align: top;\n",
       "    }\n",
       "\n",
       "    .dataframe thead th {\n",
       "        text-align: right;\n",
       "    }\n",
       "</style>\n",
       "<table border=\"1\" class=\"dataframe\">\n",
       "  <thead>\n",
       "    <tr style=\"text-align: right;\">\n",
       "      <th>parameter</th>\n",
       "      <th>state</th>\n",
       "      <th>county</th>\n",
       "      <th>year</th>\n",
       "      <th>Carbon monoxide</th>\n",
       "      <th>Lead (TSP) LC</th>\n",
       "      <th>Lead PM10 LC FRM/FEM</th>\n",
       "      <th>Nitrogen dioxide (NO2)</th>\n",
       "      <th>Ozone</th>\n",
       "      <th>PM10 Total 0-10um STP</th>\n",
       "      <th>PM2.5 - Local Conditions</th>\n",
       "      <th>Sulfur dioxide</th>\n",
       "    </tr>\n",
       "  </thead>\n",
       "  <tbody>\n",
       "    <tr>\n",
       "      <th>0</th>\n",
       "      <td>Alabama</td>\n",
       "      <td>Baldwin</td>\n",
       "      <td>2006</td>\n",
       "      <td>NaN</td>\n",
       "      <td>NaN</td>\n",
       "      <td>NaN</td>\n",
       "      <td>NaN</td>\n",
       "      <td>0.056816</td>\n",
       "      <td>NaN</td>\n",
       "      <td>11.340777</td>\n",
       "      <td>NaN</td>\n",
       "    </tr>\n",
       "    <tr>\n",
       "      <th>1</th>\n",
       "      <td>Alabama</td>\n",
       "      <td>Baldwin</td>\n",
       "      <td>2007</td>\n",
       "      <td>NaN</td>\n",
       "      <td>NaN</td>\n",
       "      <td>NaN</td>\n",
       "      <td>NaN</td>\n",
       "      <td>0.053065</td>\n",
       "      <td>NaN</td>\n",
       "      <td>10.441818</td>\n",
       "      <td>NaN</td>\n",
       "    </tr>\n",
       "    <tr>\n",
       "      <th>2</th>\n",
       "      <td>Alabama</td>\n",
       "      <td>Baldwin</td>\n",
       "      <td>2008</td>\n",
       "      <td>NaN</td>\n",
       "      <td>NaN</td>\n",
       "      <td>NaN</td>\n",
       "      <td>NaN</td>\n",
       "      <td>0.044948</td>\n",
       "      <td>NaN</td>\n",
       "      <td>9.597647</td>\n",
       "      <td>NaN</td>\n",
       "    </tr>\n",
       "    <tr>\n",
       "      <th>3</th>\n",
       "      <td>Alabama</td>\n",
       "      <td>Baldwin</td>\n",
       "      <td>2009</td>\n",
       "      <td>NaN</td>\n",
       "      <td>NaN</td>\n",
       "      <td>NaN</td>\n",
       "      <td>NaN</td>\n",
       "      <td>0.042444</td>\n",
       "      <td>NaN</td>\n",
       "      <td>9.258537</td>\n",
       "      <td>NaN</td>\n",
       "    </tr>\n",
       "    <tr>\n",
       "      <th>4</th>\n",
       "      <td>Alabama</td>\n",
       "      <td>Baldwin</td>\n",
       "      <td>2010</td>\n",
       "      <td>NaN</td>\n",
       "      <td>NaN</td>\n",
       "      <td>NaN</td>\n",
       "      <td>NaN</td>\n",
       "      <td>0.050758</td>\n",
       "      <td>NaN</td>\n",
       "      <td>10.238525</td>\n",
       "      <td>NaN</td>\n",
       "    </tr>\n",
       "    <tr>\n",
       "      <th>...</th>\n",
       "      <td>...</td>\n",
       "      <td>...</td>\n",
       "      <td>...</td>\n",
       "      <td>...</td>\n",
       "      <td>...</td>\n",
       "      <td>...</td>\n",
       "      <td>...</td>\n",
       "      <td>...</td>\n",
       "      <td>...</td>\n",
       "      <td>...</td>\n",
       "      <td>...</td>\n",
       "    </tr>\n",
       "    <tr>\n",
       "      <th>2481</th>\n",
       "      <td>Wyoming</td>\n",
       "      <td>Sublette</td>\n",
       "      <td>2016</td>\n",
       "      <td>NaN</td>\n",
       "      <td>NaN</td>\n",
       "      <td>NaN</td>\n",
       "      <td>1.184876</td>\n",
       "      <td>0.052047</td>\n",
       "      <td>6.038789</td>\n",
       "      <td>4.665327</td>\n",
       "      <td>NaN</td>\n",
       "    </tr>\n",
       "    <tr>\n",
       "      <th>2482</th>\n",
       "      <td>Wyoming</td>\n",
       "      <td>Sweetwater</td>\n",
       "      <td>2016</td>\n",
       "      <td>NaN</td>\n",
       "      <td>NaN</td>\n",
       "      <td>NaN</td>\n",
       "      <td>1.209091</td>\n",
       "      <td>0.052110</td>\n",
       "      <td>12.442724</td>\n",
       "      <td>4.736066</td>\n",
       "      <td>0.821654</td>\n",
       "    </tr>\n",
       "    <tr>\n",
       "      <th>2483</th>\n",
       "      <td>Wyoming</td>\n",
       "      <td>Teton</td>\n",
       "      <td>2016</td>\n",
       "      <td>0.175122</td>\n",
       "      <td>NaN</td>\n",
       "      <td>NaN</td>\n",
       "      <td>NaN</td>\n",
       "      <td>0.048588</td>\n",
       "      <td>12.409836</td>\n",
       "      <td>5.034417</td>\n",
       "      <td>NaN</td>\n",
       "    </tr>\n",
       "    <tr>\n",
       "      <th>2484</th>\n",
       "      <td>Wyoming</td>\n",
       "      <td>Uinta</td>\n",
       "      <td>2016</td>\n",
       "      <td>NaN</td>\n",
       "      <td>NaN</td>\n",
       "      <td>NaN</td>\n",
       "      <td>1.659268</td>\n",
       "      <td>0.050495</td>\n",
       "      <td>8.114198</td>\n",
       "      <td>NaN</td>\n",
       "      <td>NaN</td>\n",
       "    </tr>\n",
       "    <tr>\n",
       "      <th>2485</th>\n",
       "      <td>Wyoming</td>\n",
       "      <td>Weston</td>\n",
       "      <td>2016</td>\n",
       "      <td>NaN</td>\n",
       "      <td>NaN</td>\n",
       "      <td>NaN</td>\n",
       "      <td>2.618480</td>\n",
       "      <td>0.049000</td>\n",
       "      <td>11.780952</td>\n",
       "      <td>3.008117</td>\n",
       "      <td>1.324438</td>\n",
       "    </tr>\n",
       "  </tbody>\n",
       "</table>\n",
       "<p>2486 rows × 11 columns</p>\n",
       "</div>"
      ],
      "text/plain": [
       "parameter    state      county  year  Carbon monoxide  Lead (TSP) LC  \\\n",
       "0          Alabama     Baldwin  2006              NaN            NaN   \n",
       "1          Alabama     Baldwin  2007              NaN            NaN   \n",
       "2          Alabama     Baldwin  2008              NaN            NaN   \n",
       "3          Alabama     Baldwin  2009              NaN            NaN   \n",
       "4          Alabama     Baldwin  2010              NaN            NaN   \n",
       "...            ...         ...   ...              ...            ...   \n",
       "2481       Wyoming    Sublette  2016              NaN            NaN   \n",
       "2482       Wyoming  Sweetwater  2016              NaN            NaN   \n",
       "2483       Wyoming       Teton  2016         0.175122            NaN   \n",
       "2484       Wyoming       Uinta  2016              NaN            NaN   \n",
       "2485       Wyoming      Weston  2016              NaN            NaN   \n",
       "\n",
       "parameter  Lead PM10 LC FRM/FEM  Nitrogen dioxide (NO2)     Ozone  \\\n",
       "0                           NaN                     NaN  0.056816   \n",
       "1                           NaN                     NaN  0.053065   \n",
       "2                           NaN                     NaN  0.044948   \n",
       "3                           NaN                     NaN  0.042444   \n",
       "4                           NaN                     NaN  0.050758   \n",
       "...                         ...                     ...       ...   \n",
       "2481                        NaN                1.184876  0.052047   \n",
       "2482                        NaN                1.209091  0.052110   \n",
       "2483                        NaN                     NaN  0.048588   \n",
       "2484                        NaN                1.659268  0.050495   \n",
       "2485                        NaN                2.618480  0.049000   \n",
       "\n",
       "parameter  PM10 Total 0-10um STP  PM2.5 - Local Conditions  Sulfur dioxide  \n",
       "0                            NaN                 11.340777             NaN  \n",
       "1                            NaN                 10.441818             NaN  \n",
       "2                            NaN                  9.597647             NaN  \n",
       "3                            NaN                  9.258537             NaN  \n",
       "4                            NaN                 10.238525             NaN  \n",
       "...                          ...                       ...             ...  \n",
       "2481                    6.038789                  4.665327             NaN  \n",
       "2482                   12.442724                  4.736066        0.821654  \n",
       "2483                   12.409836                  5.034417             NaN  \n",
       "2484                    8.114198                       NaN             NaN  \n",
       "2485                   11.780952                  3.008117        1.324438  \n",
       "\n",
       "[2486 rows x 11 columns]"
      ]
     },
     "execution_count": 384,
     "metadata": {},
     "output_type": "execute_result"
    }
   ],
   "source": [
    "aqs_df"
   ]
  },
  {
   "cell_type": "code",
   "execution_count": null,
   "id": "7f89f234-665b-4bb9-9325-2bf986c6da09",
   "metadata": {},
   "outputs": [],
   "source": []
  },
  {
   "cell_type": "code",
   "execution_count": null,
   "id": "6f4fc4ab-e840-40c9-86c7-d0309f37b3f6",
   "metadata": {},
   "outputs": [],
   "source": []
  },
  {
   "cell_type": "code",
   "execution_count": null,
   "id": "c6a2b149-97f7-4378-bff9-01e764d39c48",
   "metadata": {},
   "outputs": [],
   "source": []
  },
  {
   "cell_type": "code",
   "execution_count": null,
   "id": "e6e03f62-f436-4b4c-89ad-49a22be30091",
   "metadata": {},
   "outputs": [],
   "source": []
  },
  {
   "cell_type": "markdown",
   "id": "e4e282e2-fd81-43ac-98b9-90223c80ac53",
   "metadata": {},
   "source": [
    "This is from previous AQI data"
   ]
  },
  {
   "cell_type": "code",
   "execution_count": 240,
   "id": "52bfdff0-464d-4a86-a747-62b64d8d4fbb",
   "metadata": {
    "execution": {
     "iopub.execute_input": "2023-01-17T23:49:54.515654Z",
     "iopub.status.busy": "2023-01-17T23:49:54.515557Z",
     "iopub.status.idle": "2023-01-17T23:49:54.519086Z",
     "shell.execute_reply": "2023-01-17T23:49:54.518688Z",
     "shell.execute_reply.started": "2023-01-17T23:49:54.515644Z"
    },
    "tags": []
   },
   "outputs": [
    {
     "data": {
      "text/plain": [
       "array(['Alabama', 'Alaska', 'Arizona', 'Arkansas', 'California',\n",
       "       'Colorado', 'Connecticut', 'Country Of Mexico', 'Delaware',\n",
       "       'District Of Columbia', 'Florida', 'Georgia', 'Hawaii', 'Idaho',\n",
       "       'Illinois', 'Indiana', 'Iowa', 'Kansas', 'Kentucky', 'Louisiana',\n",
       "       'Maine', 'Maryland', 'Massachusetts', 'Michigan', 'Minnesota',\n",
       "       'Mississippi', 'Missouri', 'Montana', 'Nebraska', 'Nevada',\n",
       "       'New Hampshire', 'New Jersey', 'New Mexico', 'New York',\n",
       "       'North Carolina', 'North Dakota', 'Ohio', 'Oklahoma', 'Oregon',\n",
       "       'Pennsylvania', 'Puerto Rico', 'Rhode Island', 'South Carolina',\n",
       "       'South Dakota', 'Tennessee', 'Texas', 'Utah', 'Vermont',\n",
       "       'Virgin Islands', 'Virginia', 'Washington', 'West Virginia',\n",
       "       'Wisconsin', 'Wyoming', 'Canada'], dtype=object)"
      ]
     },
     "execution_count": 240,
     "metadata": {},
     "output_type": "execute_result"
    }
   ],
   "source": [
    "aqi['state'].unique()"
   ]
  },
  {
   "cell_type": "markdown",
   "id": "dcbb4d61-26a3-4443-ac0f-673f5136857a",
   "metadata": {},
   "source": [
    "May want to drop locations such as:\n",
    "* Country of Mexico\n",
    "* Puerto Rico\n",
    "* Virgin Islands\n",
    "* Canada"
   ]
  },
  {
   "cell_type": "code",
   "execution_count": 241,
   "id": "f96f7f22-cda0-4c43-aa57-88dc65c9325e",
   "metadata": {
    "execution": {
     "iopub.execute_input": "2023-01-17T23:49:54.519616Z",
     "iopub.status.busy": "2023-01-17T23:49:54.519528Z",
     "iopub.status.idle": "2023-01-17T23:49:54.525392Z",
     "shell.execute_reply": "2023-01-17T23:49:54.525090Z",
     "shell.execute_reply.started": "2023-01-17T23:49:54.519606Z"
    },
    "tags": []
   },
   "outputs": [],
   "source": [
    "aqi.drop(\n",
    "    aqi[\n",
    "        aqi['state'].isin(\n",
    "            ['Country Of Mexico', 'Puerto Rico', 'Virgin Islands', 'Canada']\n",
    "        )\n",
    "    ].index, inplace=True)"
   ]
  },
  {
   "cell_type": "code",
   "execution_count": 242,
   "id": "fbddd4dc-8700-4ab4-8c7e-d39130143e78",
   "metadata": {
    "execution": {
     "iopub.execute_input": "2023-01-17T23:49:54.526017Z",
     "iopub.status.busy": "2023-01-17T23:49:54.525920Z",
     "iopub.status.idle": "2023-01-17T23:49:54.527903Z",
     "shell.execute_reply": "2023-01-17T23:49:54.527610Z",
     "shell.execute_reply.started": "2023-01-17T23:49:54.526007Z"
    },
    "tags": []
   },
   "outputs": [],
   "source": [
    "# aqi['county'].unique()"
   ]
  },
  {
   "cell_type": "code",
   "execution_count": 243,
   "id": "120f91b1-eb9f-48c0-b596-c58367e6ff64",
   "metadata": {
    "execution": {
     "iopub.execute_input": "2023-01-17T23:49:54.528435Z",
     "iopub.status.busy": "2023-01-17T23:49:54.528328Z",
     "iopub.status.idle": "2023-01-17T23:49:54.535076Z",
     "shell.execute_reply": "2023-01-17T23:49:54.534722Z",
     "shell.execute_reply.started": "2023-01-17T23:49:54.528425Z"
    },
    "tags": []
   },
   "outputs": [
    {
     "data": {
      "text/html": [
       "<div>\n",
       "<style scoped>\n",
       "    .dataframe tbody tr th:only-of-type {\n",
       "        vertical-align: middle;\n",
       "    }\n",
       "\n",
       "    .dataframe tbody tr th {\n",
       "        vertical-align: top;\n",
       "    }\n",
       "\n",
       "    .dataframe thead th {\n",
       "        text-align: right;\n",
       "    }\n",
       "</style>\n",
       "<table border=\"1\" class=\"dataframe\">\n",
       "  <thead>\n",
       "    <tr style=\"text-align: right;\">\n",
       "      <th></th>\n",
       "      <th>state</th>\n",
       "      <th>county</th>\n",
       "      <th>year</th>\n",
       "      <th>days_with_aqi</th>\n",
       "      <th>good_days</th>\n",
       "      <th>mod_days</th>\n",
       "      <th>uh_sens_days</th>\n",
       "      <th>uh_days</th>\n",
       "      <th>v_uh_days</th>\n",
       "      <th>haz_days</th>\n",
       "      <th>max_aqi</th>\n",
       "      <th>90_per_aqi</th>\n",
       "      <th>median_aqi</th>\n",
       "      <th>days_co</th>\n",
       "      <th>days_no2</th>\n",
       "      <th>days_ozone</th>\n",
       "      <th>days_pm2.5</th>\n",
       "      <th>days_pm10</th>\n",
       "    </tr>\n",
       "  </thead>\n",
       "  <tbody>\n",
       "    <tr>\n",
       "      <th>0</th>\n",
       "      <td>Alabama</td>\n",
       "      <td>Baldwin</td>\n",
       "      <td>2009</td>\n",
       "      <td>252</td>\n",
       "      <td>218</td>\n",
       "      <td>32</td>\n",
       "      <td>2</td>\n",
       "      <td>0</td>\n",
       "      <td>0</td>\n",
       "      <td>0</td>\n",
       "      <td>136</td>\n",
       "      <td>53</td>\n",
       "      <td>36</td>\n",
       "      <td>0</td>\n",
       "      <td>0</td>\n",
       "      <td>200</td>\n",
       "      <td>52</td>\n",
       "      <td>0</td>\n",
       "    </tr>\n",
       "    <tr>\n",
       "      <th>1</th>\n",
       "      <td>Alabama</td>\n",
       "      <td>Clay</td>\n",
       "      <td>2009</td>\n",
       "      <td>119</td>\n",
       "      <td>97</td>\n",
       "      <td>22</td>\n",
       "      <td>0</td>\n",
       "      <td>0</td>\n",
       "      <td>0</td>\n",
       "      <td>0</td>\n",
       "      <td>94</td>\n",
       "      <td>59</td>\n",
       "      <td>33</td>\n",
       "      <td>0</td>\n",
       "      <td>0</td>\n",
       "      <td>0</td>\n",
       "      <td>119</td>\n",
       "      <td>0</td>\n",
       "    </tr>\n",
       "    <tr>\n",
       "      <th>2</th>\n",
       "      <td>Alabama</td>\n",
       "      <td>Colbert</td>\n",
       "      <td>2009</td>\n",
       "      <td>323</td>\n",
       "      <td>220</td>\n",
       "      <td>103</td>\n",
       "      <td>0</td>\n",
       "      <td>0</td>\n",
       "      <td>0</td>\n",
       "      <td>0</td>\n",
       "      <td>76</td>\n",
       "      <td>60</td>\n",
       "      <td>43</td>\n",
       "      <td>0</td>\n",
       "      <td>0</td>\n",
       "      <td>132</td>\n",
       "      <td>191</td>\n",
       "      <td>0</td>\n",
       "    </tr>\n",
       "  </tbody>\n",
       "</table>\n",
       "</div>"
      ],
      "text/plain": [
       "     state   county  year  days_with_aqi  good_days  mod_days  uh_sens_days  \\\n",
       "0  Alabama  Baldwin  2009            252        218        32             2   \n",
       "1  Alabama     Clay  2009            119         97        22             0   \n",
       "2  Alabama  Colbert  2009            323        220       103             0   \n",
       "\n",
       "   uh_days  v_uh_days  haz_days  max_aqi  90_per_aqi  median_aqi  days_co  \\\n",
       "0        0          0         0      136          53          36        0   \n",
       "1        0          0         0       94          59          33        0   \n",
       "2        0          0         0       76          60          43        0   \n",
       "\n",
       "   days_no2  days_ozone  days_pm2.5  days_pm10  \n",
       "0         0         200          52          0  \n",
       "1         0           0         119          0  \n",
       "2         0         132         191          0  "
      ]
     },
     "execution_count": 243,
     "metadata": {},
     "output_type": "execute_result"
    }
   ],
   "source": [
    "aqi.head(3)"
   ]
  },
  {
   "cell_type": "code",
   "execution_count": 244,
   "id": "c2ab3401-7a3b-4145-be1b-e2590ef29c6b",
   "metadata": {
    "execution": {
     "iopub.execute_input": "2023-01-17T23:49:54.535694Z",
     "iopub.status.busy": "2023-01-17T23:49:54.535596Z",
     "iopub.status.idle": "2023-01-17T23:49:54.563538Z",
     "shell.execute_reply": "2023-01-17T23:49:54.563000Z",
     "shell.execute_reply.started": "2023-01-17T23:49:54.535684Z"
    },
    "tags": []
   },
   "outputs": [
    {
     "data": {
      "text/html": [
       "<div>\n",
       "<style scoped>\n",
       "    .dataframe tbody tr th:only-of-type {\n",
       "        vertical-align: middle;\n",
       "    }\n",
       "\n",
       "    .dataframe tbody tr th {\n",
       "        vertical-align: top;\n",
       "    }\n",
       "\n",
       "    .dataframe thead th {\n",
       "        text-align: right;\n",
       "    }\n",
       "</style>\n",
       "<table border=\"1\" class=\"dataframe\">\n",
       "  <thead>\n",
       "    <tr style=\"text-align: right;\">\n",
       "      <th></th>\n",
       "      <th>year</th>\n",
       "      <th>days_with_aqi</th>\n",
       "      <th>good_days</th>\n",
       "      <th>mod_days</th>\n",
       "      <th>uh_sens_days</th>\n",
       "      <th>uh_days</th>\n",
       "      <th>v_uh_days</th>\n",
       "      <th>haz_days</th>\n",
       "      <th>max_aqi</th>\n",
       "      <th>90_per_aqi</th>\n",
       "      <th>median_aqi</th>\n",
       "      <th>days_co</th>\n",
       "      <th>days_no2</th>\n",
       "      <th>days_ozone</th>\n",
       "      <th>days_pm2.5</th>\n",
       "      <th>days_pm10</th>\n",
       "    </tr>\n",
       "  </thead>\n",
       "  <tbody>\n",
       "    <tr>\n",
       "      <th>count</th>\n",
       "      <td>16501.000000</td>\n",
       "      <td>16501.000000</td>\n",
       "      <td>16501.000000</td>\n",
       "      <td>16501.000000</td>\n",
       "      <td>16501.000000</td>\n",
       "      <td>16501.000000</td>\n",
       "      <td>16501.000000</td>\n",
       "      <td>16501.000000</td>\n",
       "      <td>16501.000000</td>\n",
       "      <td>16501.000000</td>\n",
       "      <td>16501.000000</td>\n",
       "      <td>16501.000000</td>\n",
       "      <td>16501.000000</td>\n",
       "      <td>16501.000000</td>\n",
       "      <td>16501.000000</td>\n",
       "      <td>16501.000000</td>\n",
       "    </tr>\n",
       "    <tr>\n",
       "      <th>mean</th>\n",
       "      <td>2013.383553</td>\n",
       "      <td>306.444882</td>\n",
       "      <td>234.848615</td>\n",
       "      <td>65.491546</td>\n",
       "      <td>5.049815</td>\n",
       "      <td>0.913581</td>\n",
       "      <td>0.094297</td>\n",
       "      <td>0.047027</td>\n",
       "      <td>127.411430</td>\n",
       "      <td>61.653718</td>\n",
       "      <td>37.645961</td>\n",
       "      <td>0.981395</td>\n",
       "      <td>6.662748</td>\n",
       "      <td>171.259802</td>\n",
       "      <td>113.697594</td>\n",
       "      <td>13.843343</td>\n",
       "    </tr>\n",
       "    <tr>\n",
       "      <th>std</th>\n",
       "      <td>4.606053</td>\n",
       "      <td>89.581053</td>\n",
       "      <td>82.748368</td>\n",
       "      <td>51.767296</td>\n",
       "      <td>10.383965</td>\n",
       "      <td>4.010658</td>\n",
       "      <td>1.102704</td>\n",
       "      <td>0.678479</td>\n",
       "      <td>223.144948</td>\n",
       "      <td>19.370126</td>\n",
       "      <td>10.936383</td>\n",
       "      <td>12.174014</td>\n",
       "      <td>26.480857</td>\n",
       "      <td>119.199918</td>\n",
       "      <td>110.491615</td>\n",
       "      <td>52.573798</td>\n",
       "    </tr>\n",
       "    <tr>\n",
       "      <th>min</th>\n",
       "      <td>2006.000000</td>\n",
       "      <td>1.000000</td>\n",
       "      <td>1.000000</td>\n",
       "      <td>0.000000</td>\n",
       "      <td>0.000000</td>\n",
       "      <td>0.000000</td>\n",
       "      <td>0.000000</td>\n",
       "      <td>0.000000</td>\n",
       "      <td>8.000000</td>\n",
       "      <td>5.000000</td>\n",
       "      <td>1.000000</td>\n",
       "      <td>0.000000</td>\n",
       "      <td>0.000000</td>\n",
       "      <td>0.000000</td>\n",
       "      <td>0.000000</td>\n",
       "      <td>0.000000</td>\n",
       "    </tr>\n",
       "    <tr>\n",
       "      <th>25%</th>\n",
       "      <td>2009.000000</td>\n",
       "      <td>256.000000</td>\n",
       "      <td>177.000000</td>\n",
       "      <td>26.000000</td>\n",
       "      <td>0.000000</td>\n",
       "      <td>0.000000</td>\n",
       "      <td>0.000000</td>\n",
       "      <td>0.000000</td>\n",
       "      <td>90.000000</td>\n",
       "      <td>50.000000</td>\n",
       "      <td>33.000000</td>\n",
       "      <td>0.000000</td>\n",
       "      <td>0.000000</td>\n",
       "      <td>59.000000</td>\n",
       "      <td>0.000000</td>\n",
       "      <td>0.000000</td>\n",
       "    </tr>\n",
       "    <tr>\n",
       "      <th>50%</th>\n",
       "      <td>2013.000000</td>\n",
       "      <td>360.000000</td>\n",
       "      <td>250.000000</td>\n",
       "      <td>53.000000</td>\n",
       "      <td>1.000000</td>\n",
       "      <td>0.000000</td>\n",
       "      <td>0.000000</td>\n",
       "      <td>0.000000</td>\n",
       "      <td>112.000000</td>\n",
       "      <td>59.000000</td>\n",
       "      <td>39.000000</td>\n",
       "      <td>0.000000</td>\n",
       "      <td>0.000000</td>\n",
       "      <td>187.000000</td>\n",
       "      <td>95.000000</td>\n",
       "      <td>0.000000</td>\n",
       "    </tr>\n",
       "    <tr>\n",
       "      <th>75%</th>\n",
       "      <td>2017.000000</td>\n",
       "      <td>365.000000</td>\n",
       "      <td>304.000000</td>\n",
       "      <td>94.000000</td>\n",
       "      <td>6.000000</td>\n",
       "      <td>0.000000</td>\n",
       "      <td>0.000000</td>\n",
       "      <td>0.000000</td>\n",
       "      <td>146.000000</td>\n",
       "      <td>71.000000</td>\n",
       "      <td>44.000000</td>\n",
       "      <td>0.000000</td>\n",
       "      <td>0.000000</td>\n",
       "      <td>245.000000</td>\n",
       "      <td>185.000000</td>\n",
       "      <td>1.000000</td>\n",
       "    </tr>\n",
       "    <tr>\n",
       "      <th>max</th>\n",
       "      <td>2021.000000</td>\n",
       "      <td>366.000000</td>\n",
       "      <td>365.000000</td>\n",
       "      <td>339.000000</td>\n",
       "      <td>122.000000</td>\n",
       "      <td>92.000000</td>\n",
       "      <td>74.000000</td>\n",
       "      <td>37.000000</td>\n",
       "      <td>14043.000000</td>\n",
       "      <td>306.000000</td>\n",
       "      <td>132.000000</td>\n",
       "      <td>365.000000</td>\n",
       "      <td>365.000000</td>\n",
       "      <td>366.000000</td>\n",
       "      <td>366.000000</td>\n",
       "      <td>366.000000</td>\n",
       "    </tr>\n",
       "  </tbody>\n",
       "</table>\n",
       "</div>"
      ],
      "text/plain": [
       "               year  days_with_aqi     good_days      mod_days  uh_sens_days  \\\n",
       "count  16501.000000   16501.000000  16501.000000  16501.000000  16501.000000   \n",
       "mean    2013.383553     306.444882    234.848615     65.491546      5.049815   \n",
       "std        4.606053      89.581053     82.748368     51.767296     10.383965   \n",
       "min     2006.000000       1.000000      1.000000      0.000000      0.000000   \n",
       "25%     2009.000000     256.000000    177.000000     26.000000      0.000000   \n",
       "50%     2013.000000     360.000000    250.000000     53.000000      1.000000   \n",
       "75%     2017.000000     365.000000    304.000000     94.000000      6.000000   \n",
       "max     2021.000000     366.000000    365.000000    339.000000    122.000000   \n",
       "\n",
       "            uh_days     v_uh_days      haz_days       max_aqi    90_per_aqi  \\\n",
       "count  16501.000000  16501.000000  16501.000000  16501.000000  16501.000000   \n",
       "mean       0.913581      0.094297      0.047027    127.411430     61.653718   \n",
       "std        4.010658      1.102704      0.678479    223.144948     19.370126   \n",
       "min        0.000000      0.000000      0.000000      8.000000      5.000000   \n",
       "25%        0.000000      0.000000      0.000000     90.000000     50.000000   \n",
       "50%        0.000000      0.000000      0.000000    112.000000     59.000000   \n",
       "75%        0.000000      0.000000      0.000000    146.000000     71.000000   \n",
       "max       92.000000     74.000000     37.000000  14043.000000    306.000000   \n",
       "\n",
       "         median_aqi       days_co      days_no2    days_ozone    days_pm2.5  \\\n",
       "count  16501.000000  16501.000000  16501.000000  16501.000000  16501.000000   \n",
       "mean      37.645961      0.981395      6.662748    171.259802    113.697594   \n",
       "std       10.936383     12.174014     26.480857    119.199918    110.491615   \n",
       "min        1.000000      0.000000      0.000000      0.000000      0.000000   \n",
       "25%       33.000000      0.000000      0.000000     59.000000      0.000000   \n",
       "50%       39.000000      0.000000      0.000000    187.000000     95.000000   \n",
       "75%       44.000000      0.000000      0.000000    245.000000    185.000000   \n",
       "max      132.000000    365.000000    365.000000    366.000000    366.000000   \n",
       "\n",
       "          days_pm10  \n",
       "count  16501.000000  \n",
       "mean      13.843343  \n",
       "std       52.573798  \n",
       "min        0.000000  \n",
       "25%        0.000000  \n",
       "50%        0.000000  \n",
       "75%        1.000000  \n",
       "max      366.000000  "
      ]
     },
     "execution_count": 244,
     "metadata": {},
     "output_type": "execute_result"
    }
   ],
   "source": [
    "aqi.describe()"
   ]
  },
  {
   "cell_type": "markdown",
   "id": "2cf30cf3-a574-43f2-88cd-39b7914ec758",
   "metadata": {},
   "source": [
    "All the values seem like they would be in range--meaning no negative counts, no days over 366."
   ]
  },
  {
   "cell_type": "markdown",
   "id": "244fe0a9-fbc1-48be-a77f-fe3d3a361eab",
   "metadata": {},
   "source": [
    "### CDC Data"
   ]
  },
  {
   "cell_type": "markdown",
   "id": "38d268be-a908-45fd-8a02-41d4f1ea4e5f",
   "metadata": {},
   "source": [
    "Want to import the CDC data and compare the counties.\n",
    "\n",
    "We are using the WONDER tool from the CDC to export the files that we are importing to this notebook. For both files, we filtered out any births with maternal risk factors so we they are not influencing birth weight.  There are some years that have no or suppressed data, which are omitted from the CDC export and are not present.We filtered out any births with maternal risk factors so we they are not influencing birth weight.  There are some years that have no or suppressed data, which are omitted from the CDC export and are not present. \n",
    "\n",
    "There are two main files:\n",
    "1. `Natality_low_2007-2021` which represents all the births below 2500 grams by year and county. \n",
    "1. `Natality_all_2007-2021` which represents all the births by year and county."
   ]
  },
  {
   "cell_type": "markdown",
   "id": "08a3e145-37ac-401d-b872-3c73fa839e6a",
   "metadata": {},
   "source": [
    "#### Import Data"
   ]
  },
  {
   "cell_type": "code",
   "execution_count": 245,
   "id": "22b86d34-dae1-4753-833b-08ad467d7bbb",
   "metadata": {
    "execution": {
     "iopub.execute_input": "2023-01-17T23:49:54.564484Z",
     "iopub.status.busy": "2023-01-17T23:49:54.564362Z",
     "iopub.status.idle": "2023-01-17T23:49:54.579450Z",
     "shell.execute_reply": "2023-01-17T23:49:54.579017Z",
     "shell.execute_reply.started": "2023-01-17T23:49:54.564474Z"
    },
    "tags": []
   },
   "outputs": [],
   "source": [
    "cdc_low = pd.read_csv('data/Natality_low_2007-2021.txt', sep='\\t')\n",
    "cdc_all = pd.read_csv('data/Natality_all_2007-2021.txt', sep='\\t')"
   ]
  },
  {
   "cell_type": "markdown",
   "id": "438ac040-0416-4028-8129-94fd6d428d6a",
   "metadata": {},
   "source": [
    "#### General Look and Cleanup"
   ]
  },
  {
   "cell_type": "code",
   "execution_count": 246,
   "id": "76a5f011-9dca-48c4-9428-6807c3be2196",
   "metadata": {
    "execution": {
     "iopub.execute_input": "2023-01-17T23:49:54.580155Z",
     "iopub.status.busy": "2023-01-17T23:49:54.580020Z",
     "iopub.status.idle": "2023-01-17T23:49:54.587168Z",
     "shell.execute_reply": "2023-01-17T23:49:54.586730Z",
     "shell.execute_reply.started": "2023-01-17T23:49:54.580145Z"
    },
    "tags": []
   },
   "outputs": [
    {
     "data": {
      "text/html": [
       "<div>\n",
       "<style scoped>\n",
       "    .dataframe tbody tr th:only-of-type {\n",
       "        vertical-align: middle;\n",
       "    }\n",
       "\n",
       "    .dataframe tbody tr th {\n",
       "        vertical-align: top;\n",
       "    }\n",
       "\n",
       "    .dataframe thead th {\n",
       "        text-align: right;\n",
       "    }\n",
       "</style>\n",
       "<table border=\"1\" class=\"dataframe\">\n",
       "  <thead>\n",
       "    <tr style=\"text-align: right;\">\n",
       "      <th></th>\n",
       "      <th>Notes</th>\n",
       "      <th>State</th>\n",
       "      <th>State Code</th>\n",
       "      <th>County</th>\n",
       "      <th>County Code</th>\n",
       "      <th>Year</th>\n",
       "      <th>Year Code</th>\n",
       "      <th>Births</th>\n",
       "      <th>Average Birth Weight</th>\n",
       "      <th>Average LMP Gestational Age</th>\n",
       "      <th>Average OE Gestational Age</th>\n",
       "    </tr>\n",
       "  </thead>\n",
       "  <tbody>\n",
       "    <tr>\n",
       "      <th>0</th>\n",
       "      <td>NaN</td>\n",
       "      <td>Alabama</td>\n",
       "      <td>1.0</td>\n",
       "      <td>Baldwin County, AL</td>\n",
       "      <td>1003.0</td>\n",
       "      <td>2014.0</td>\n",
       "      <td>2014.0</td>\n",
       "      <td>137.0</td>\n",
       "      <td>1995.255</td>\n",
       "      <td>34.241</td>\n",
       "      <td>34.051</td>\n",
       "    </tr>\n",
       "    <tr>\n",
       "      <th>1</th>\n",
       "      <td>NaN</td>\n",
       "      <td>Alabama</td>\n",
       "      <td>1.0</td>\n",
       "      <td>Baldwin County, AL</td>\n",
       "      <td>1003.0</td>\n",
       "      <td>2015.0</td>\n",
       "      <td>2015.0</td>\n",
       "      <td>141.0</td>\n",
       "      <td>1832.837</td>\n",
       "      <td>32.965</td>\n",
       "      <td>32.922</td>\n",
       "    </tr>\n",
       "    <tr>\n",
       "      <th>2</th>\n",
       "      <td>NaN</td>\n",
       "      <td>Alabama</td>\n",
       "      <td>1.0</td>\n",
       "      <td>Baldwin County, AL</td>\n",
       "      <td>1003.0</td>\n",
       "      <td>2016.0</td>\n",
       "      <td>2016.0</td>\n",
       "      <td>120.0</td>\n",
       "      <td>2008.358</td>\n",
       "      <td>34.467</td>\n",
       "      <td>34.058</td>\n",
       "    </tr>\n",
       "    <tr>\n",
       "      <th>3</th>\n",
       "      <td>NaN</td>\n",
       "      <td>Alabama</td>\n",
       "      <td>1.0</td>\n",
       "      <td>Baldwin County, AL</td>\n",
       "      <td>1003.0</td>\n",
       "      <td>2017.0</td>\n",
       "      <td>2017.0</td>\n",
       "      <td>100.0</td>\n",
       "      <td>2082.830</td>\n",
       "      <td>34.550</td>\n",
       "      <td>34.380</td>\n",
       "    </tr>\n",
       "    <tr>\n",
       "      <th>4</th>\n",
       "      <td>NaN</td>\n",
       "      <td>Alabama</td>\n",
       "      <td>1.0</td>\n",
       "      <td>Baldwin County, AL</td>\n",
       "      <td>1003.0</td>\n",
       "      <td>2018.0</td>\n",
       "      <td>2018.0</td>\n",
       "      <td>122.0</td>\n",
       "      <td>1942.303</td>\n",
       "      <td>33.762</td>\n",
       "      <td>33.508</td>\n",
       "    </tr>\n",
       "  </tbody>\n",
       "</table>\n",
       "</div>"
      ],
      "text/plain": [
       "  Notes    State  State Code              County  County Code    Year  \\\n",
       "0   NaN  Alabama         1.0  Baldwin County, AL       1003.0  2014.0   \n",
       "1   NaN  Alabama         1.0  Baldwin County, AL       1003.0  2015.0   \n",
       "2   NaN  Alabama         1.0  Baldwin County, AL       1003.0  2016.0   \n",
       "3   NaN  Alabama         1.0  Baldwin County, AL       1003.0  2017.0   \n",
       "4   NaN  Alabama         1.0  Baldwin County, AL       1003.0  2018.0   \n",
       "\n",
       "   Year Code  Births  Average Birth Weight  Average LMP Gestational Age  \\\n",
       "0     2014.0   137.0              1995.255                       34.241   \n",
       "1     2015.0   141.0              1832.837                       32.965   \n",
       "2     2016.0   120.0              2008.358                       34.467   \n",
       "3     2017.0   100.0              2082.830                       34.550   \n",
       "4     2018.0   122.0              1942.303                       33.762   \n",
       "\n",
       "   Average OE Gestational Age  \n",
       "0                      34.051  \n",
       "1                      32.922  \n",
       "2                      34.058  \n",
       "3                      34.380  \n",
       "4                      33.508  "
      ]
     },
     "execution_count": 246,
     "metadata": {},
     "output_type": "execute_result"
    }
   ],
   "source": [
    "cdc_low.head()"
   ]
  },
  {
   "cell_type": "code",
   "execution_count": 247,
   "id": "d4d39e68-086c-46ba-a560-5f34a7702cfb",
   "metadata": {
    "execution": {
     "iopub.execute_input": "2023-01-17T23:49:54.587922Z",
     "iopub.status.busy": "2023-01-17T23:49:54.587779Z",
     "iopub.status.idle": "2023-01-17T23:49:54.594226Z",
     "shell.execute_reply": "2023-01-17T23:49:54.593912Z",
     "shell.execute_reply.started": "2023-01-17T23:49:54.587911Z"
    },
    "tags": []
   },
   "outputs": [
    {
     "data": {
      "text/html": [
       "<div>\n",
       "<style scoped>\n",
       "    .dataframe tbody tr th:only-of-type {\n",
       "        vertical-align: middle;\n",
       "    }\n",
       "\n",
       "    .dataframe tbody tr th {\n",
       "        vertical-align: top;\n",
       "    }\n",
       "\n",
       "    .dataframe thead th {\n",
       "        text-align: right;\n",
       "    }\n",
       "</style>\n",
       "<table border=\"1\" class=\"dataframe\">\n",
       "  <thead>\n",
       "    <tr style=\"text-align: right;\">\n",
       "      <th></th>\n",
       "      <th>Notes</th>\n",
       "      <th>State</th>\n",
       "      <th>State Code</th>\n",
       "      <th>County</th>\n",
       "      <th>County Code</th>\n",
       "      <th>Year</th>\n",
       "      <th>Year Code</th>\n",
       "      <th>Births</th>\n",
       "      <th>Average Birth Weight</th>\n",
       "      <th>Average LMP Gestational Age</th>\n",
       "      <th>Average OE Gestational Age</th>\n",
       "    </tr>\n",
       "  </thead>\n",
       "  <tbody>\n",
       "    <tr>\n",
       "      <th>0</th>\n",
       "      <td>NaN</td>\n",
       "      <td>Alabama</td>\n",
       "      <td>1.0</td>\n",
       "      <td>Baldwin County, AL</td>\n",
       "      <td>1003.0</td>\n",
       "      <td>2014.0</td>\n",
       "      <td>2014.0</td>\n",
       "      <td>1724.0</td>\n",
       "      <td>3296.472</td>\n",
       "      <td>38.595</td>\n",
       "      <td>38.489</td>\n",
       "    </tr>\n",
       "    <tr>\n",
       "      <th>1</th>\n",
       "      <td>NaN</td>\n",
       "      <td>Alabama</td>\n",
       "      <td>1.0</td>\n",
       "      <td>Baldwin County, AL</td>\n",
       "      <td>1003.0</td>\n",
       "      <td>2015.0</td>\n",
       "      <td>2015.0</td>\n",
       "      <td>1857.0</td>\n",
       "      <td>3290.811</td>\n",
       "      <td>38.487</td>\n",
       "      <td>38.347</td>\n",
       "    </tr>\n",
       "    <tr>\n",
       "      <th>2</th>\n",
       "      <td>NaN</td>\n",
       "      <td>Alabama</td>\n",
       "      <td>1.0</td>\n",
       "      <td>Baldwin County, AL</td>\n",
       "      <td>1003.0</td>\n",
       "      <td>2016.0</td>\n",
       "      <td>2016.0</td>\n",
       "      <td>1722.0</td>\n",
       "      <td>3315.387</td>\n",
       "      <td>38.690</td>\n",
       "      <td>38.497</td>\n",
       "    </tr>\n",
       "    <tr>\n",
       "      <th>3</th>\n",
       "      <td>NaN</td>\n",
       "      <td>Alabama</td>\n",
       "      <td>1.0</td>\n",
       "      <td>Baldwin County, AL</td>\n",
       "      <td>1003.0</td>\n",
       "      <td>2017.0</td>\n",
       "      <td>2017.0</td>\n",
       "      <td>1782.0</td>\n",
       "      <td>3346.588</td>\n",
       "      <td>38.713</td>\n",
       "      <td>38.572</td>\n",
       "    </tr>\n",
       "    <tr>\n",
       "      <th>4</th>\n",
       "      <td>NaN</td>\n",
       "      <td>Alabama</td>\n",
       "      <td>1.0</td>\n",
       "      <td>Baldwin County, AL</td>\n",
       "      <td>1003.0</td>\n",
       "      <td>2018.0</td>\n",
       "      <td>2018.0</td>\n",
       "      <td>1770.0</td>\n",
       "      <td>3301.324</td>\n",
       "      <td>38.580</td>\n",
       "      <td>38.423</td>\n",
       "    </tr>\n",
       "  </tbody>\n",
       "</table>\n",
       "</div>"
      ],
      "text/plain": [
       "  Notes    State  State Code              County  County Code    Year  \\\n",
       "0   NaN  Alabama         1.0  Baldwin County, AL       1003.0  2014.0   \n",
       "1   NaN  Alabama         1.0  Baldwin County, AL       1003.0  2015.0   \n",
       "2   NaN  Alabama         1.0  Baldwin County, AL       1003.0  2016.0   \n",
       "3   NaN  Alabama         1.0  Baldwin County, AL       1003.0  2017.0   \n",
       "4   NaN  Alabama         1.0  Baldwin County, AL       1003.0  2018.0   \n",
       "\n",
       "   Year Code  Births  Average Birth Weight  Average LMP Gestational Age  \\\n",
       "0     2014.0  1724.0              3296.472                       38.595   \n",
       "1     2015.0  1857.0              3290.811                       38.487   \n",
       "2     2016.0  1722.0              3315.387                       38.690   \n",
       "3     2017.0  1782.0              3346.588                       38.713   \n",
       "4     2018.0  1770.0              3301.324                       38.580   \n",
       "\n",
       "   Average OE Gestational Age  \n",
       "0                      38.489  \n",
       "1                      38.347  \n",
       "2                      38.497  \n",
       "3                      38.572  \n",
       "4                      38.423  "
      ]
     },
     "execution_count": 247,
     "metadata": {},
     "output_type": "execute_result"
    }
   ],
   "source": [
    "cdc_all.head()"
   ]
  },
  {
   "cell_type": "code",
   "execution_count": 248,
   "id": "893ba8c9-ca9c-4789-9ee7-732048db9c15",
   "metadata": {
    "execution": {
     "iopub.execute_input": "2023-01-17T23:49:54.594948Z",
     "iopub.status.busy": "2023-01-17T23:49:54.594845Z",
     "iopub.status.idle": "2023-01-17T23:49:54.598185Z",
     "shell.execute_reply": "2023-01-17T23:49:54.597763Z",
     "shell.execute_reply.started": "2023-01-17T23:49:54.594939Z"
    },
    "tags": []
   },
   "outputs": [
    {
     "data": {
      "text/plain": [
       "Notes                           object\n",
       "State                           object\n",
       "State Code                     float64\n",
       "County                          object\n",
       "County Code                    float64\n",
       "Year                           float64\n",
       "Year Code                      float64\n",
       "Births                         float64\n",
       "Average Birth Weight           float64\n",
       "Average LMP Gestational Age    float64\n",
       "Average OE Gestational Age     float64\n",
       "dtype: object"
      ]
     },
     "execution_count": 248,
     "metadata": {},
     "output_type": "execute_result"
    }
   ],
   "source": [
    "cdc_low.dtypes"
   ]
  },
  {
   "cell_type": "code",
   "execution_count": 249,
   "id": "2d452b1f-ce66-43f7-ac46-956d321eb350",
   "metadata": {
    "execution": {
     "iopub.execute_input": "2023-01-17T23:49:54.599374Z",
     "iopub.status.busy": "2023-01-17T23:49:54.599144Z",
     "iopub.status.idle": "2023-01-17T23:49:54.604304Z",
     "shell.execute_reply": "2023-01-17T23:49:54.603732Z",
     "shell.execute_reply.started": "2023-01-17T23:49:54.599351Z"
    },
    "tags": []
   },
   "outputs": [
    {
     "data": {
      "text/plain": [
       "Notes                           object\n",
       "State                           object\n",
       "State Code                     float64\n",
       "County                          object\n",
       "County Code                    float64\n",
       "Year                           float64\n",
       "Year Code                      float64\n",
       "Births                         float64\n",
       "Average Birth Weight           float64\n",
       "Average LMP Gestational Age    float64\n",
       "Average OE Gestational Age     float64\n",
       "dtype: object"
      ]
     },
     "execution_count": 249,
     "metadata": {},
     "output_type": "execute_result"
    }
   ],
   "source": [
    "cdc_all.dtypes"
   ]
  },
  {
   "cell_type": "code",
   "execution_count": 250,
   "id": "38e53632-6a98-4f40-956d-20d1fb29fbde",
   "metadata": {
    "execution": {
     "iopub.execute_input": "2023-01-17T23:49:54.605367Z",
     "iopub.status.busy": "2023-01-17T23:49:54.605003Z",
     "iopub.status.idle": "2023-01-17T23:49:54.607825Z",
     "shell.execute_reply": "2023-01-17T23:49:54.607512Z",
     "shell.execute_reply.started": "2023-01-17T23:49:54.605347Z"
    },
    "tags": []
   },
   "outputs": [
    {
     "data": {
      "text/plain": [
       "(6712, 11)"
      ]
     },
     "execution_count": 250,
     "metadata": {},
     "output_type": "execute_result"
    }
   ],
   "source": [
    "cdc_low.shape"
   ]
  },
  {
   "cell_type": "code",
   "execution_count": 251,
   "id": "64ebac01-500a-4ec9-a9f7-d48a52e70dbf",
   "metadata": {
    "execution": {
     "iopub.execute_input": "2023-01-17T23:49:54.608485Z",
     "iopub.status.busy": "2023-01-17T23:49:54.608349Z",
     "iopub.status.idle": "2023-01-17T23:49:54.611602Z",
     "shell.execute_reply": "2023-01-17T23:49:54.610774Z",
     "shell.execute_reply.started": "2023-01-17T23:49:54.608472Z"
    },
    "tags": []
   },
   "outputs": [
    {
     "data": {
      "text/plain": [
       "(6715, 11)"
      ]
     },
     "execution_count": 251,
     "metadata": {},
     "output_type": "execute_result"
    }
   ],
   "source": [
    "cdc_all.shape"
   ]
  },
  {
   "cell_type": "code",
   "execution_count": 252,
   "id": "eee0e85f-fb0a-41f6-9e76-5b3207f80820",
   "metadata": {
    "execution": {
     "iopub.execute_input": "2023-01-17T23:49:54.613012Z",
     "iopub.status.busy": "2023-01-17T23:49:54.612809Z",
     "iopub.status.idle": "2023-01-17T23:49:54.615673Z",
     "shell.execute_reply": "2023-01-17T23:49:54.615377Z",
     "shell.execute_reply.started": "2023-01-17T23:49:54.613001Z"
    },
    "tags": []
   },
   "outputs": [
    {
     "data": {
      "text/plain": [
       "(Index(['Notes', 'State', 'State Code', 'County', 'County Code', 'Year',\n",
       "        'Year Code', 'Births', 'Average Birth Weight',\n",
       "        'Average LMP Gestational Age', 'Average OE Gestational Age'],\n",
       "       dtype='object'),\n",
       " Index(['Notes', 'State', 'State Code', 'County', 'County Code', 'Year',\n",
       "        'Year Code', 'Births', 'Average Birth Weight',\n",
       "        'Average LMP Gestational Age', 'Average OE Gestational Age'],\n",
       "       dtype='object'))"
      ]
     },
     "execution_count": 252,
     "metadata": {},
     "output_type": "execute_result"
    }
   ],
   "source": [
    "cdc_low.columns, cdc_all.columns"
   ]
  },
  {
   "cell_type": "code",
   "execution_count": 253,
   "id": "285aa42c-a73b-4ffa-b8d5-fab90df86c8b",
   "metadata": {
    "execution": {
     "iopub.execute_input": "2023-01-17T23:49:54.616267Z",
     "iopub.status.busy": "2023-01-17T23:49:54.616120Z",
     "iopub.status.idle": "2023-01-17T23:49:54.618317Z",
     "shell.execute_reply": "2023-01-17T23:49:54.618056Z",
     "shell.execute_reply.started": "2023-01-17T23:49:54.616258Z"
    },
    "tags": []
   },
   "outputs": [],
   "source": [
    "cdc_low.columns = [col.lower().replace(' ', '_') for col in cdc_low.columns]\n",
    "cdc_all.columns = [col.lower().replace(' ', '_') for col in cdc_all.columns]"
   ]
  },
  {
   "cell_type": "markdown",
   "id": "6571d5a4-1bc1-4fe1-a238-f60e7674db0c",
   "metadata": {},
   "source": [
    "Renaming the % of births column, and if we want different names for other columns, we can do it at this step"
   ]
  },
  {
   "cell_type": "code",
   "execution_count": 254,
   "id": "57b10cd7-e4c3-40db-b0b0-d4828881eae4",
   "metadata": {
    "execution": {
     "iopub.execute_input": "2023-01-17T23:49:54.618752Z",
     "iopub.status.busy": "2023-01-17T23:49:54.618669Z",
     "iopub.status.idle": "2023-01-17T23:49:54.621157Z",
     "shell.execute_reply": "2023-01-17T23:49:54.620895Z",
     "shell.execute_reply.started": "2023-01-17T23:49:54.618744Z"
    },
    "tags": []
   },
   "outputs": [
    {
     "data": {
      "text/plain": [
       "Index(['notes', 'state', 'state_code', 'county', 'county_code', 'year',\n",
       "       'year_code', 'births', 'average_birth_weight',\n",
       "       'average_lmp_gestational_age', 'average_oe_gestational_age'],\n",
       "      dtype='object')"
      ]
     },
     "execution_count": 254,
     "metadata": {},
     "output_type": "execute_result"
    }
   ],
   "source": [
    "cdc_low.columns"
   ]
  },
  {
   "cell_type": "code",
   "execution_count": 255,
   "id": "4d99885e-7308-487a-9d71-b7fcfc8bdb84",
   "metadata": {
    "execution": {
     "iopub.execute_input": "2023-01-17T23:49:54.621691Z",
     "iopub.status.busy": "2023-01-17T23:49:54.621597Z",
     "iopub.status.idle": "2023-01-17T23:49:54.624845Z",
     "shell.execute_reply": "2023-01-17T23:49:54.624446Z",
     "shell.execute_reply.started": "2023-01-17T23:49:54.621683Z"
    },
    "tags": []
   },
   "outputs": [
    {
     "data": {
      "text/plain": [
       "(91, 87)"
      ]
     },
     "execution_count": 255,
     "metadata": {},
     "output_type": "execute_result"
    }
   ],
   "source": [
    "cdc_low['notes'].nunique(), cdc_all['notes'].nunique()"
   ]
  },
  {
   "cell_type": "code",
   "execution_count": 256,
   "id": "d2a673ca-6ece-4267-afa0-27db9852c213",
   "metadata": {
    "execution": {
     "iopub.execute_input": "2023-01-17T23:49:54.625494Z",
     "iopub.status.busy": "2023-01-17T23:49:54.625387Z",
     "iopub.status.idle": "2023-01-17T23:49:54.627324Z",
     "shell.execute_reply": "2023-01-17T23:49:54.627046Z",
     "shell.execute_reply.started": "2023-01-17T23:49:54.625484Z"
    },
    "tags": []
   },
   "outputs": [],
   "source": [
    "# cdc_all['notes'].unique()"
   ]
  },
  {
   "cell_type": "markdown",
   "id": "afcb8ebd-dc1e-48e4-971d-b07d4b4212d4",
   "metadata": {},
   "source": [
    "All the notes look like they are what shows up at the bottom of the file and isn't data that we're looking for.  Dropping the notes column"
   ]
  },
  {
   "cell_type": "code",
   "execution_count": 257,
   "id": "181e9e67-4495-4898-96a8-becd881394f1",
   "metadata": {
    "execution": {
     "iopub.execute_input": "2023-01-17T23:49:54.627918Z",
     "iopub.status.busy": "2023-01-17T23:49:54.627787Z",
     "iopub.status.idle": "2023-01-17T23:49:54.630555Z",
     "shell.execute_reply": "2023-01-17T23:49:54.630282Z",
     "shell.execute_reply.started": "2023-01-17T23:49:54.627909Z"
    },
    "tags": []
   },
   "outputs": [],
   "source": [
    "cdc_low.drop(['notes'], axis=1, inplace=True)\n",
    "cdc_all.drop(['notes'], axis=1, inplace=True)"
   ]
  },
  {
   "cell_type": "code",
   "execution_count": 258,
   "id": "290b3183-ec24-448b-8ac7-fce70d82ba2f",
   "metadata": {
    "execution": {
     "iopub.execute_input": "2023-01-17T23:49:54.631159Z",
     "iopub.status.busy": "2023-01-17T23:49:54.631022Z",
     "iopub.status.idle": "2023-01-17T23:49:54.637665Z",
     "shell.execute_reply": "2023-01-17T23:49:54.637367Z",
     "shell.execute_reply.started": "2023-01-17T23:49:54.631143Z"
    },
    "tags": []
   },
   "outputs": [
    {
     "data": {
      "text/plain": [
       "state                          96\n",
       "state_code                     96\n",
       "county                         96\n",
       "county_code                    96\n",
       "year                           96\n",
       "year_code                      96\n",
       "births                         96\n",
       "average_birth_weight           96\n",
       "average_lmp_gestational_age    96\n",
       "average_oe_gestational_age     96\n",
       "dtype: int64"
      ]
     },
     "execution_count": 258,
     "metadata": {},
     "output_type": "execute_result"
    }
   ],
   "source": [
    "cdc_low.isna().sum()[cdc_low.isna().sum() > 0]"
   ]
  },
  {
   "cell_type": "code",
   "execution_count": 259,
   "id": "10ac5bd2-2cab-4a91-8c63-3db1386e4db5",
   "metadata": {
    "execution": {
     "iopub.execute_input": "2023-01-17T23:49:54.643563Z",
     "iopub.status.busy": "2023-01-17T23:49:54.643399Z",
     "iopub.status.idle": "2023-01-17T23:49:54.649628Z",
     "shell.execute_reply": "2023-01-17T23:49:54.649261Z",
     "shell.execute_reply.started": "2023-01-17T23:49:54.643552Z"
    },
    "tags": []
   },
   "outputs": [
    {
     "data": {
      "text/plain": [
       "state                          92\n",
       "state_code                     92\n",
       "county                         92\n",
       "county_code                    92\n",
       "year                           92\n",
       "year_code                      92\n",
       "births                         92\n",
       "average_birth_weight           92\n",
       "average_lmp_gestational_age    92\n",
       "average_oe_gestational_age     92\n",
       "dtype: int64"
      ]
     },
     "execution_count": 259,
     "metadata": {},
     "output_type": "execute_result"
    }
   ],
   "source": [
    "cdc_all.isna().sum()[cdc_all.isna().sum() > 0]"
   ]
  },
  {
   "cell_type": "code",
   "execution_count": 260,
   "id": "b9c98e59-b574-4022-96da-68a93252a94d",
   "metadata": {
    "execution": {
     "iopub.execute_input": "2023-01-17T23:49:54.650145Z",
     "iopub.status.busy": "2023-01-17T23:49:54.650046Z",
     "iopub.status.idle": "2023-01-17T23:49:54.659362Z",
     "shell.execute_reply": "2023-01-17T23:49:54.659014Z",
     "shell.execute_reply.started": "2023-01-17T23:49:54.650135Z"
    },
    "tags": []
   },
   "outputs": [
    {
     "data": {
      "text/html": [
       "<div>\n",
       "<style scoped>\n",
       "    .dataframe tbody tr th:only-of-type {\n",
       "        vertical-align: middle;\n",
       "    }\n",
       "\n",
       "    .dataframe tbody tr th {\n",
       "        vertical-align: top;\n",
       "    }\n",
       "\n",
       "    .dataframe thead th {\n",
       "        text-align: right;\n",
       "    }\n",
       "</style>\n",
       "<table border=\"1\" class=\"dataframe\">\n",
       "  <thead>\n",
       "    <tr style=\"text-align: right;\">\n",
       "      <th></th>\n",
       "      <th>state</th>\n",
       "      <th>state_code</th>\n",
       "      <th>county</th>\n",
       "      <th>county_code</th>\n",
       "      <th>year</th>\n",
       "      <th>year_code</th>\n",
       "      <th>births</th>\n",
       "      <th>average_birth_weight</th>\n",
       "      <th>average_lmp_gestational_age</th>\n",
       "      <th>average_oe_gestational_age</th>\n",
       "    </tr>\n",
       "  </thead>\n",
       "  <tbody>\n",
       "    <tr>\n",
       "      <th>6709</th>\n",
       "      <td>NaN</td>\n",
       "      <td>NaN</td>\n",
       "      <td>NaN</td>\n",
       "      <td>NaN</td>\n",
       "      <td>NaN</td>\n",
       "      <td>NaN</td>\n",
       "      <td>NaN</td>\n",
       "      <td>NaN</td>\n",
       "      <td>NaN</td>\n",
       "      <td>NaN</td>\n",
       "    </tr>\n",
       "    <tr>\n",
       "      <th>6710</th>\n",
       "      <td>NaN</td>\n",
       "      <td>NaN</td>\n",
       "      <td>NaN</td>\n",
       "      <td>NaN</td>\n",
       "      <td>NaN</td>\n",
       "      <td>NaN</td>\n",
       "      <td>NaN</td>\n",
       "      <td>NaN</td>\n",
       "      <td>NaN</td>\n",
       "      <td>NaN</td>\n",
       "    </tr>\n",
       "    <tr>\n",
       "      <th>6711</th>\n",
       "      <td>NaN</td>\n",
       "      <td>NaN</td>\n",
       "      <td>NaN</td>\n",
       "      <td>NaN</td>\n",
       "      <td>NaN</td>\n",
       "      <td>NaN</td>\n",
       "      <td>NaN</td>\n",
       "      <td>NaN</td>\n",
       "      <td>NaN</td>\n",
       "      <td>NaN</td>\n",
       "    </tr>\n",
       "  </tbody>\n",
       "</table>\n",
       "</div>"
      ],
      "text/plain": [
       "     state  state_code county  county_code  year  year_code  births  \\\n",
       "6709   NaN         NaN    NaN          NaN   NaN        NaN     NaN   \n",
       "6710   NaN         NaN    NaN          NaN   NaN        NaN     NaN   \n",
       "6711   NaN         NaN    NaN          NaN   NaN        NaN     NaN   \n",
       "\n",
       "      average_birth_weight  average_lmp_gestational_age  \\\n",
       "6709                   NaN                          NaN   \n",
       "6710                   NaN                          NaN   \n",
       "6711                   NaN                          NaN   \n",
       "\n",
       "      average_oe_gestational_age  \n",
       "6709                         NaN  \n",
       "6710                         NaN  \n",
       "6711                         NaN  "
      ]
     },
     "execution_count": 260,
     "metadata": {},
     "output_type": "execute_result"
    }
   ],
   "source": [
    "cdc_low.tail(3)"
   ]
  },
  {
   "cell_type": "code",
   "execution_count": 261,
   "id": "72ad4628-d2b6-4173-9105-aeb926174d6f",
   "metadata": {
    "execution": {
     "iopub.execute_input": "2023-01-17T23:49:54.660080Z",
     "iopub.status.busy": "2023-01-17T23:49:54.659953Z",
     "iopub.status.idle": "2023-01-17T23:49:54.665615Z",
     "shell.execute_reply": "2023-01-17T23:49:54.665190Z",
     "shell.execute_reply.started": "2023-01-17T23:49:54.660070Z"
    },
    "tags": []
   },
   "outputs": [
    {
     "data": {
      "text/html": [
       "<div>\n",
       "<style scoped>\n",
       "    .dataframe tbody tr th:only-of-type {\n",
       "        vertical-align: middle;\n",
       "    }\n",
       "\n",
       "    .dataframe tbody tr th {\n",
       "        vertical-align: top;\n",
       "    }\n",
       "\n",
       "    .dataframe thead th {\n",
       "        text-align: right;\n",
       "    }\n",
       "</style>\n",
       "<table border=\"1\" class=\"dataframe\">\n",
       "  <thead>\n",
       "    <tr style=\"text-align: right;\">\n",
       "      <th></th>\n",
       "      <th>state</th>\n",
       "      <th>state_code</th>\n",
       "      <th>county</th>\n",
       "      <th>county_code</th>\n",
       "      <th>year</th>\n",
       "      <th>year_code</th>\n",
       "      <th>births</th>\n",
       "      <th>average_birth_weight</th>\n",
       "      <th>average_lmp_gestational_age</th>\n",
       "      <th>average_oe_gestational_age</th>\n",
       "    </tr>\n",
       "  </thead>\n",
       "  <tbody>\n",
       "    <tr>\n",
       "      <th>6712</th>\n",
       "      <td>NaN</td>\n",
       "      <td>NaN</td>\n",
       "      <td>NaN</td>\n",
       "      <td>NaN</td>\n",
       "      <td>NaN</td>\n",
       "      <td>NaN</td>\n",
       "      <td>NaN</td>\n",
       "      <td>NaN</td>\n",
       "      <td>NaN</td>\n",
       "      <td>NaN</td>\n",
       "    </tr>\n",
       "    <tr>\n",
       "      <th>6713</th>\n",
       "      <td>NaN</td>\n",
       "      <td>NaN</td>\n",
       "      <td>NaN</td>\n",
       "      <td>NaN</td>\n",
       "      <td>NaN</td>\n",
       "      <td>NaN</td>\n",
       "      <td>NaN</td>\n",
       "      <td>NaN</td>\n",
       "      <td>NaN</td>\n",
       "      <td>NaN</td>\n",
       "    </tr>\n",
       "    <tr>\n",
       "      <th>6714</th>\n",
       "      <td>NaN</td>\n",
       "      <td>NaN</td>\n",
       "      <td>NaN</td>\n",
       "      <td>NaN</td>\n",
       "      <td>NaN</td>\n",
       "      <td>NaN</td>\n",
       "      <td>NaN</td>\n",
       "      <td>NaN</td>\n",
       "      <td>NaN</td>\n",
       "      <td>NaN</td>\n",
       "    </tr>\n",
       "  </tbody>\n",
       "</table>\n",
       "</div>"
      ],
      "text/plain": [
       "     state  state_code county  county_code  year  year_code  births  \\\n",
       "6712   NaN         NaN    NaN          NaN   NaN        NaN     NaN   \n",
       "6713   NaN         NaN    NaN          NaN   NaN        NaN     NaN   \n",
       "6714   NaN         NaN    NaN          NaN   NaN        NaN     NaN   \n",
       "\n",
       "      average_birth_weight  average_lmp_gestational_age  \\\n",
       "6712                   NaN                          NaN   \n",
       "6713                   NaN                          NaN   \n",
       "6714                   NaN                          NaN   \n",
       "\n",
       "      average_oe_gestational_age  \n",
       "6712                         NaN  \n",
       "6713                         NaN  \n",
       "6714                         NaN  "
      ]
     },
     "execution_count": 261,
     "metadata": {},
     "output_type": "execute_result"
    }
   ],
   "source": [
    "cdc_all.tail(3)"
   ]
  },
  {
   "cell_type": "markdown",
   "id": "1261ec53-5e9c-43d2-b2b3-c5c43cd65411",
   "metadata": {},
   "source": [
    "We need state and county information for this project,and it looks like all these null values belong, possibly to rows that were holding that notes data.  Dropping these rows to see if that clears up all the nulls."
   ]
  },
  {
   "cell_type": "markdown",
   "id": "2b2bdee1-f508-4113-a03d-2be862a8257a",
   "metadata": {},
   "source": [
    "Drop the rows that have the footnotes in them"
   ]
  },
  {
   "cell_type": "code",
   "execution_count": 262,
   "id": "15eb1c08-6ee8-44da-a472-b1cb2388a5b9",
   "metadata": {
    "execution": {
     "iopub.execute_input": "2023-01-17T23:49:54.666450Z",
     "iopub.status.busy": "2023-01-17T23:49:54.666344Z",
     "iopub.status.idle": "2023-01-17T23:49:54.673370Z",
     "shell.execute_reply": "2023-01-17T23:49:54.672966Z",
     "shell.execute_reply.started": "2023-01-17T23:49:54.666440Z"
    },
    "tags": []
   },
   "outputs": [],
   "source": [
    "cdc_low.dropna(subset=['state'], inplace=True)\n",
    "cdc_all.dropna(subset=['state'], inplace=True)"
   ]
  },
  {
   "cell_type": "code",
   "execution_count": 263,
   "id": "1322a50b-032f-4891-a317-f28618475f18",
   "metadata": {
    "execution": {
     "iopub.execute_input": "2023-01-17T23:49:54.674089Z",
     "iopub.status.busy": "2023-01-17T23:49:54.673983Z",
     "iopub.status.idle": "2023-01-17T23:49:54.680947Z",
     "shell.execute_reply": "2023-01-17T23:49:54.680476Z",
     "shell.execute_reply.started": "2023-01-17T23:49:54.674080Z"
    },
    "tags": []
   },
   "outputs": [
    {
     "data": {
      "text/plain": [
       "Series([], dtype: int64)"
      ]
     },
     "execution_count": 263,
     "metadata": {},
     "output_type": "execute_result"
    }
   ],
   "source": [
    "cdc_low.isna().sum()[cdc_low.isna().sum() > 0]"
   ]
  },
  {
   "cell_type": "code",
   "execution_count": 264,
   "id": "1b73ab8c-3a59-4800-bc84-16519486a00e",
   "metadata": {
    "execution": {
     "iopub.execute_input": "2023-01-17T23:49:54.681697Z",
     "iopub.status.busy": "2023-01-17T23:49:54.681556Z",
     "iopub.status.idle": "2023-01-17T23:49:54.687754Z",
     "shell.execute_reply": "2023-01-17T23:49:54.687350Z",
     "shell.execute_reply.started": "2023-01-17T23:49:54.681687Z"
    },
    "tags": []
   },
   "outputs": [
    {
     "data": {
      "text/plain": [
       "Series([], dtype: int64)"
      ]
     },
     "execution_count": 264,
     "metadata": {},
     "output_type": "execute_result"
    }
   ],
   "source": [
    "cdc_all.isna().sum()[cdc_all.isna().sum() > 0]"
   ]
  },
  {
   "cell_type": "markdown",
   "id": "f4ec0f62-6d53-4f42-9391-4d52d0a0baeb",
   "metadata": {},
   "source": [
    "That did resolve all the null values."
   ]
  },
  {
   "cell_type": "code",
   "execution_count": 265,
   "id": "cdfa7304-4354-4d75-8063-ce81884e077f",
   "metadata": {
    "execution": {
     "iopub.execute_input": "2023-01-17T23:49:54.688264Z",
     "iopub.status.busy": "2023-01-17T23:49:54.688155Z",
     "iopub.status.idle": "2023-01-17T23:49:54.690861Z",
     "shell.execute_reply": "2023-01-17T23:49:54.690583Z",
     "shell.execute_reply.started": "2023-01-17T23:49:54.688251Z"
    },
    "tags": []
   },
   "outputs": [
    {
     "data": {
      "text/plain": [
       "((6616, 10), (6623, 10))"
      ]
     },
     "execution_count": 265,
     "metadata": {},
     "output_type": "execute_result"
    }
   ],
   "source": [
    "cdc_low.shape, cdc_all.shape"
   ]
  },
  {
   "cell_type": "code",
   "execution_count": 266,
   "id": "9b841a0b-7c28-4bf4-b756-f7d0b967552a",
   "metadata": {
    "execution": {
     "iopub.execute_input": "2023-01-17T23:49:54.691599Z",
     "iopub.status.busy": "2023-01-17T23:49:54.691433Z",
     "iopub.status.idle": "2023-01-17T23:49:54.697931Z",
     "shell.execute_reply": "2023-01-17T23:49:54.697581Z",
     "shell.execute_reply.started": "2023-01-17T23:49:54.691588Z"
    },
    "tags": []
   },
   "outputs": [
    {
     "data": {
      "text/html": [
       "<div>\n",
       "<style scoped>\n",
       "    .dataframe tbody tr th:only-of-type {\n",
       "        vertical-align: middle;\n",
       "    }\n",
       "\n",
       "    .dataframe tbody tr th {\n",
       "        vertical-align: top;\n",
       "    }\n",
       "\n",
       "    .dataframe thead th {\n",
       "        text-align: right;\n",
       "    }\n",
       "</style>\n",
       "<table border=\"1\" class=\"dataframe\">\n",
       "  <thead>\n",
       "    <tr style=\"text-align: right;\">\n",
       "      <th></th>\n",
       "      <th>state</th>\n",
       "      <th>state_code</th>\n",
       "      <th>county</th>\n",
       "      <th>county_code</th>\n",
       "      <th>year</th>\n",
       "      <th>year_code</th>\n",
       "      <th>births</th>\n",
       "      <th>average_birth_weight</th>\n",
       "      <th>average_lmp_gestational_age</th>\n",
       "      <th>average_oe_gestational_age</th>\n",
       "    </tr>\n",
       "  </thead>\n",
       "  <tbody>\n",
       "    <tr>\n",
       "      <th>6613</th>\n",
       "      <td>Wyoming</td>\n",
       "      <td>56.0</td>\n",
       "      <td>Unidentified Counties, WY</td>\n",
       "      <td>56999.0</td>\n",
       "      <td>2019.0</td>\n",
       "      <td>2019.0</td>\n",
       "      <td>335.0</td>\n",
       "      <td>2062.824</td>\n",
       "      <td>35.051</td>\n",
       "      <td>34.919</td>\n",
       "    </tr>\n",
       "    <tr>\n",
       "      <th>6614</th>\n",
       "      <td>Wyoming</td>\n",
       "      <td>56.0</td>\n",
       "      <td>Unidentified Counties, WY</td>\n",
       "      <td>56999.0</td>\n",
       "      <td>2020.0</td>\n",
       "      <td>2020.0</td>\n",
       "      <td>307.0</td>\n",
       "      <td>2088.586</td>\n",
       "      <td>35.365</td>\n",
       "      <td>34.987</td>\n",
       "    </tr>\n",
       "    <tr>\n",
       "      <th>6615</th>\n",
       "      <td>Wyoming</td>\n",
       "      <td>56.0</td>\n",
       "      <td>Unidentified Counties, WY</td>\n",
       "      <td>56999.0</td>\n",
       "      <td>2021.0</td>\n",
       "      <td>2021.0</td>\n",
       "      <td>319.0</td>\n",
       "      <td>2063.197</td>\n",
       "      <td>34.821</td>\n",
       "      <td>34.862</td>\n",
       "    </tr>\n",
       "  </tbody>\n",
       "</table>\n",
       "</div>"
      ],
      "text/plain": [
       "        state  state_code                     county  county_code    year  \\\n",
       "6613  Wyoming        56.0  Unidentified Counties, WY      56999.0  2019.0   \n",
       "6614  Wyoming        56.0  Unidentified Counties, WY      56999.0  2020.0   \n",
       "6615  Wyoming        56.0  Unidentified Counties, WY      56999.0  2021.0   \n",
       "\n",
       "      year_code  births  average_birth_weight  average_lmp_gestational_age  \\\n",
       "6613     2019.0   335.0              2062.824                       35.051   \n",
       "6614     2020.0   307.0              2088.586                       35.365   \n",
       "6615     2021.0   319.0              2063.197                       34.821   \n",
       "\n",
       "      average_oe_gestational_age  \n",
       "6613                      34.919  \n",
       "6614                      34.987  \n",
       "6615                      34.862  "
      ]
     },
     "execution_count": 266,
     "metadata": {},
     "output_type": "execute_result"
    }
   ],
   "source": [
    "cdc_low.tail(3)"
   ]
  },
  {
   "cell_type": "code",
   "execution_count": 267,
   "id": "545490fb-b1f6-402f-91b1-cede9f313ace",
   "metadata": {
    "execution": {
     "iopub.execute_input": "2023-01-17T23:49:54.698629Z",
     "iopub.status.busy": "2023-01-17T23:49:54.698475Z",
     "iopub.status.idle": "2023-01-17T23:49:54.704781Z",
     "shell.execute_reply": "2023-01-17T23:49:54.704358Z",
     "shell.execute_reply.started": "2023-01-17T23:49:54.698617Z"
    },
    "tags": []
   },
   "outputs": [
    {
     "data": {
      "text/html": [
       "<div>\n",
       "<style scoped>\n",
       "    .dataframe tbody tr th:only-of-type {\n",
       "        vertical-align: middle;\n",
       "    }\n",
       "\n",
       "    .dataframe tbody tr th {\n",
       "        vertical-align: top;\n",
       "    }\n",
       "\n",
       "    .dataframe thead th {\n",
       "        text-align: right;\n",
       "    }\n",
       "</style>\n",
       "<table border=\"1\" class=\"dataframe\">\n",
       "  <thead>\n",
       "    <tr style=\"text-align: right;\">\n",
       "      <th></th>\n",
       "      <th>state</th>\n",
       "      <th>state_code</th>\n",
       "      <th>county</th>\n",
       "      <th>county_code</th>\n",
       "      <th>year</th>\n",
       "      <th>year_code</th>\n",
       "      <th>births</th>\n",
       "      <th>average_birth_weight</th>\n",
       "      <th>average_lmp_gestational_age</th>\n",
       "      <th>average_oe_gestational_age</th>\n",
       "    </tr>\n",
       "  </thead>\n",
       "  <tbody>\n",
       "    <tr>\n",
       "      <th>6620</th>\n",
       "      <td>Wyoming</td>\n",
       "      <td>56.0</td>\n",
       "      <td>Unidentified Counties, WY</td>\n",
       "      <td>56999.0</td>\n",
       "      <td>2019.0</td>\n",
       "      <td>2019.0</td>\n",
       "      <td>4592.0</td>\n",
       "      <td>3218.040</td>\n",
       "      <td>38.709</td>\n",
       "      <td>38.636</td>\n",
       "    </tr>\n",
       "    <tr>\n",
       "      <th>6621</th>\n",
       "      <td>Wyoming</td>\n",
       "      <td>56.0</td>\n",
       "      <td>Unidentified Counties, WY</td>\n",
       "      <td>56999.0</td>\n",
       "      <td>2020.0</td>\n",
       "      <td>2020.0</td>\n",
       "      <td>4285.0</td>\n",
       "      <td>3228.561</td>\n",
       "      <td>38.733</td>\n",
       "      <td>38.641</td>\n",
       "    </tr>\n",
       "    <tr>\n",
       "      <th>6622</th>\n",
       "      <td>Wyoming</td>\n",
       "      <td>56.0</td>\n",
       "      <td>Unidentified Counties, WY</td>\n",
       "      <td>56999.0</td>\n",
       "      <td>2021.0</td>\n",
       "      <td>2021.0</td>\n",
       "      <td>4379.0</td>\n",
       "      <td>3227.242</td>\n",
       "      <td>38.608</td>\n",
       "      <td>38.551</td>\n",
       "    </tr>\n",
       "  </tbody>\n",
       "</table>\n",
       "</div>"
      ],
      "text/plain": [
       "        state  state_code                     county  county_code    year  \\\n",
       "6620  Wyoming        56.0  Unidentified Counties, WY      56999.0  2019.0   \n",
       "6621  Wyoming        56.0  Unidentified Counties, WY      56999.0  2020.0   \n",
       "6622  Wyoming        56.0  Unidentified Counties, WY      56999.0  2021.0   \n",
       "\n",
       "      year_code  births  average_birth_weight  average_lmp_gestational_age  \\\n",
       "6620     2019.0  4592.0              3218.040                       38.709   \n",
       "6621     2020.0  4285.0              3228.561                       38.733   \n",
       "6622     2021.0  4379.0              3227.242                       38.608   \n",
       "\n",
       "      average_oe_gestational_age  \n",
       "6620                      38.636  \n",
       "6621                      38.641  \n",
       "6622                      38.551  "
      ]
     },
     "execution_count": 267,
     "metadata": {},
     "output_type": "execute_result"
    }
   ],
   "source": [
    "cdc_all.tail(3)"
   ]
  },
  {
   "cell_type": "markdown",
   "id": "07d32c3f-3079-4ce3-9bfe-7eb004b9ef4e",
   "metadata": {},
   "source": [
    "It looks like year and year_code might contain the same data"
   ]
  },
  {
   "cell_type": "code",
   "execution_count": 268,
   "id": "aaffda9f-b596-451c-a69e-69b9a81b27d9",
   "metadata": {
    "execution": {
     "iopub.execute_input": "2023-01-17T23:49:54.705612Z",
     "iopub.status.busy": "2023-01-17T23:49:54.705447Z",
     "iopub.status.idle": "2023-01-17T23:49:54.708681Z",
     "shell.execute_reply": "2023-01-17T23:49:54.708381Z",
     "shell.execute_reply.started": "2023-01-17T23:49:54.705599Z"
    },
    "tags": []
   },
   "outputs": [
    {
     "data": {
      "text/plain": [
       "True"
      ]
     },
     "execution_count": 268,
     "metadata": {},
     "output_type": "execute_result"
    }
   ],
   "source": [
    "(cdc_low['year'] == cdc_low['year_code']).sum() == cdc_low.shape[0]"
   ]
  },
  {
   "cell_type": "markdown",
   "id": "26b2a7cb-401c-4b9a-908d-43b821e210d7",
   "metadata": {
    "execution": {
     "iopub.execute_input": "2023-01-15T22:28:01.189549Z",
     "iopub.status.busy": "2023-01-15T22:28:01.188421Z",
     "iopub.status.idle": "2023-01-15T22:28:01.215164Z",
     "shell.execute_reply": "2023-01-15T22:28:01.214651Z",
     "shell.execute_reply.started": "2023-01-15T22:28:01.189519Z"
    }
   },
   "source": [
    "`year` and `year_code` appear to be the same.  We also don't have state or county codes in the EPA data, so dropping those as well."
   ]
  },
  {
   "cell_type": "code",
   "execution_count": 269,
   "id": "0c250d1b-64e2-4f0f-8d6e-6154b44be533",
   "metadata": {
    "execution": {
     "iopub.execute_input": "2023-01-17T23:49:54.709281Z",
     "iopub.status.busy": "2023-01-17T23:49:54.709191Z",
     "iopub.status.idle": "2023-01-17T23:49:54.712462Z",
     "shell.execute_reply": "2023-01-17T23:49:54.712116Z",
     "shell.execute_reply.started": "2023-01-17T23:49:54.709272Z"
    },
    "tags": []
   },
   "outputs": [],
   "source": [
    "cdc_low.drop(['year_code', 'county_code', 'state_code'], axis=1, inplace=True)\n",
    "cdc_all.drop(['year_code', 'county_code', 'state_code'], axis=1, inplace=True)"
   ]
  },
  {
   "cell_type": "markdown",
   "id": "586af386-017c-4086-bb56-5e61667bfa51",
   "metadata": {},
   "source": [
    "Also want the year as an int not a float"
   ]
  },
  {
   "cell_type": "code",
   "execution_count": 270,
   "id": "9f10d448-c34d-4caf-94f7-2ec626610daa",
   "metadata": {
    "execution": {
     "iopub.execute_input": "2023-01-17T23:49:54.713091Z",
     "iopub.status.busy": "2023-01-17T23:49:54.712996Z",
     "iopub.status.idle": "2023-01-17T23:49:54.716982Z",
     "shell.execute_reply": "2023-01-17T23:49:54.716654Z",
     "shell.execute_reply.started": "2023-01-17T23:49:54.713082Z"
    },
    "tags": []
   },
   "outputs": [],
   "source": [
    "cdc_low['year'] = cdc_low['year'].astype(int)\n",
    "cdc_all['year'] = cdc_all['year'].astype(int)"
   ]
  },
  {
   "cell_type": "code",
   "execution_count": 271,
   "id": "59d76224-41e5-42c4-9b98-f8d42940d625",
   "metadata": {
    "execution": {
     "iopub.execute_input": "2023-01-17T23:49:54.717504Z",
     "iopub.status.busy": "2023-01-17T23:49:54.717414Z",
     "iopub.status.idle": "2023-01-17T23:49:54.719862Z",
     "shell.execute_reply": "2023-01-17T23:49:54.719578Z",
     "shell.execute_reply.started": "2023-01-17T23:49:54.717495Z"
    },
    "tags": []
   },
   "outputs": [
    {
     "data": {
      "text/plain": [
       "Index(['state', 'county', 'year', 'births', 'average_birth_weight',\n",
       "       'average_lmp_gestational_age', 'average_oe_gestational_age'],\n",
       "      dtype='object')"
      ]
     },
     "execution_count": 271,
     "metadata": {},
     "output_type": "execute_result"
    }
   ],
   "source": [
    "cdc_low.columns"
   ]
  },
  {
   "cell_type": "markdown",
   "id": "bd3ce33c-1d6b-4a1a-8b09-676aab9a3861",
   "metadata": {},
   "source": [
    "#### Gestational Age at Birth\n",
    "Beginning in 2014 NCHS changed the standard for gestational period from the Last Menstrual Period (LMP) based gestational age to the Obstetric/clinical Estimate (OE) based gestational age. Obstetric/clinical Estimate (OE) based gestational age groups are available for years 2007 and later in WONDER since February 2016. Refer to [Measuring Gestational Age in Vital Statistics Data: Transitioning to the Obstetric Estimate](http://www.cdc.gov/nchs/data/nvsr/nvsr64/nvsr64_05.pdf) for more information.\n",
    "\n",
    "I believe this means this means we should drop the LMP column and keep the OE column."
   ]
  },
  {
   "cell_type": "code",
   "execution_count": 272,
   "id": "27d5beb6-6e91-4d0f-a890-da302a0858fc",
   "metadata": {
    "execution": {
     "iopub.execute_input": "2023-01-17T23:49:54.720353Z",
     "iopub.status.busy": "2023-01-17T23:49:54.720257Z",
     "iopub.status.idle": "2023-01-17T23:49:54.723786Z",
     "shell.execute_reply": "2023-01-17T23:49:54.723397Z",
     "shell.execute_reply.started": "2023-01-17T23:49:54.720344Z"
    },
    "tags": []
   },
   "outputs": [],
   "source": [
    "cdc_low.drop(['average_lmp_gestational_age'], axis=1, inplace=True)\n",
    "cdc_all.drop(['average_lmp_gestational_age'], axis=1, inplace=True)"
   ]
  },
  {
   "cell_type": "code",
   "execution_count": 273,
   "id": "9425c5e2-76cc-44d7-a24b-5340b5c320b2",
   "metadata": {
    "execution": {
     "iopub.execute_input": "2023-01-17T23:49:54.724462Z",
     "iopub.status.busy": "2023-01-17T23:49:54.724352Z",
     "iopub.status.idle": "2023-01-17T23:49:54.727007Z",
     "shell.execute_reply": "2023-01-17T23:49:54.726611Z",
     "shell.execute_reply.started": "2023-01-17T23:49:54.724453Z"
    },
    "tags": []
   },
   "outputs": [
    {
     "data": {
      "text/plain": [
       "Index(['state', 'county', 'year', 'births', 'average_birth_weight',\n",
       "       'average_oe_gestational_age'],\n",
       "      dtype='object')"
      ]
     },
     "execution_count": 273,
     "metadata": {},
     "output_type": "execute_result"
    }
   ],
   "source": [
    "cdc_low.columns"
   ]
  },
  {
   "cell_type": "markdown",
   "id": "6e1391d3-d049-46b2-b505-2989618cb394",
   "metadata": {
    "tags": []
   },
   "source": [
    "#### Rename Columns\n",
    "\n",
    "To prepare for merging this data, giving the columns specific names to indicate which dataframe they came from."
   ]
  },
  {
   "cell_type": "code",
   "execution_count": 274,
   "id": "b586e196-b304-4114-9c81-1579170ee157",
   "metadata": {
    "execution": {
     "iopub.execute_input": "2023-01-17T23:49:54.727612Z",
     "iopub.status.busy": "2023-01-17T23:49:54.727517Z",
     "iopub.status.idle": "2023-01-17T23:49:54.730466Z",
     "shell.execute_reply": "2023-01-17T23:49:54.730162Z",
     "shell.execute_reply.started": "2023-01-17T23:49:54.727603Z"
    },
    "tags": []
   },
   "outputs": [],
   "source": [
    "cdc_low.rename(columns={\n",
    "    'births': 'births_low',\n",
    "    'average_birth_weight': 'avg_weight_low',\n",
    "    'average_oe_gestational_age': 'avg_ges_age_low'\n",
    "    }, inplace=True)\n",
    "\n",
    "cdc_all.rename(columns={\n",
    "    'births': 'births_all',\n",
    "    'average_birth_weight': 'avg_weight_all',\n",
    "    'average_oe_gestational_age': 'avg_ges_age_all'\n",
    "    }, inplace=True)"
   ]
  },
  {
   "cell_type": "code",
   "execution_count": 275,
   "id": "9e4be595-2478-4178-aeea-fdf9f8d0c310",
   "metadata": {
    "execution": {
     "iopub.execute_input": "2023-01-17T23:49:54.731211Z",
     "iopub.status.busy": "2023-01-17T23:49:54.731038Z",
     "iopub.status.idle": "2023-01-17T23:49:54.735356Z",
     "shell.execute_reply": "2023-01-17T23:49:54.735051Z",
     "shell.execute_reply.started": "2023-01-17T23:49:54.731197Z"
    },
    "tags": []
   },
   "outputs": [
    {
     "data": {
      "text/html": [
       "<div>\n",
       "<style scoped>\n",
       "    .dataframe tbody tr th:only-of-type {\n",
       "        vertical-align: middle;\n",
       "    }\n",
       "\n",
       "    .dataframe tbody tr th {\n",
       "        vertical-align: top;\n",
       "    }\n",
       "\n",
       "    .dataframe thead th {\n",
       "        text-align: right;\n",
       "    }\n",
       "</style>\n",
       "<table border=\"1\" class=\"dataframe\">\n",
       "  <thead>\n",
       "    <tr style=\"text-align: right;\">\n",
       "      <th></th>\n",
       "      <th>state</th>\n",
       "      <th>county</th>\n",
       "      <th>year</th>\n",
       "      <th>births_low</th>\n",
       "      <th>avg_weight_low</th>\n",
       "      <th>avg_ges_age_low</th>\n",
       "    </tr>\n",
       "  </thead>\n",
       "  <tbody>\n",
       "    <tr>\n",
       "      <th>0</th>\n",
       "      <td>Alabama</td>\n",
       "      <td>Baldwin County, AL</td>\n",
       "      <td>2014</td>\n",
       "      <td>137.0</td>\n",
       "      <td>1995.255</td>\n",
       "      <td>34.051</td>\n",
       "    </tr>\n",
       "    <tr>\n",
       "      <th>1</th>\n",
       "      <td>Alabama</td>\n",
       "      <td>Baldwin County, AL</td>\n",
       "      <td>2015</td>\n",
       "      <td>141.0</td>\n",
       "      <td>1832.837</td>\n",
       "      <td>32.922</td>\n",
       "    </tr>\n",
       "    <tr>\n",
       "      <th>2</th>\n",
       "      <td>Alabama</td>\n",
       "      <td>Baldwin County, AL</td>\n",
       "      <td>2016</td>\n",
       "      <td>120.0</td>\n",
       "      <td>2008.358</td>\n",
       "      <td>34.058</td>\n",
       "    </tr>\n",
       "  </tbody>\n",
       "</table>\n",
       "</div>"
      ],
      "text/plain": [
       "     state              county  year  births_low  avg_weight_low  \\\n",
       "0  Alabama  Baldwin County, AL  2014       137.0        1995.255   \n",
       "1  Alabama  Baldwin County, AL  2015       141.0        1832.837   \n",
       "2  Alabama  Baldwin County, AL  2016       120.0        2008.358   \n",
       "\n",
       "   avg_ges_age_low  \n",
       "0           34.051  \n",
       "1           32.922  \n",
       "2           34.058  "
      ]
     },
     "execution_count": 275,
     "metadata": {},
     "output_type": "execute_result"
    }
   ],
   "source": [
    "cdc_low.head(3)"
   ]
  },
  {
   "cell_type": "code",
   "execution_count": 276,
   "id": "ddb357c6-bf0f-4615-a132-299d2227b358",
   "metadata": {
    "execution": {
     "iopub.execute_input": "2023-01-17T23:49:54.735950Z",
     "iopub.status.busy": "2023-01-17T23:49:54.735844Z",
     "iopub.status.idle": "2023-01-17T23:49:54.741081Z",
     "shell.execute_reply": "2023-01-17T23:49:54.740498Z",
     "shell.execute_reply.started": "2023-01-17T23:49:54.735940Z"
    },
    "tags": []
   },
   "outputs": [
    {
     "data": {
      "text/html": [
       "<div>\n",
       "<style scoped>\n",
       "    .dataframe tbody tr th:only-of-type {\n",
       "        vertical-align: middle;\n",
       "    }\n",
       "\n",
       "    .dataframe tbody tr th {\n",
       "        vertical-align: top;\n",
       "    }\n",
       "\n",
       "    .dataframe thead th {\n",
       "        text-align: right;\n",
       "    }\n",
       "</style>\n",
       "<table border=\"1\" class=\"dataframe\">\n",
       "  <thead>\n",
       "    <tr style=\"text-align: right;\">\n",
       "      <th></th>\n",
       "      <th>state</th>\n",
       "      <th>county</th>\n",
       "      <th>year</th>\n",
       "      <th>births_all</th>\n",
       "      <th>avg_weight_all</th>\n",
       "      <th>avg_ges_age_all</th>\n",
       "    </tr>\n",
       "  </thead>\n",
       "  <tbody>\n",
       "    <tr>\n",
       "      <th>0</th>\n",
       "      <td>Alabama</td>\n",
       "      <td>Baldwin County, AL</td>\n",
       "      <td>2014</td>\n",
       "      <td>1724.0</td>\n",
       "      <td>3296.472</td>\n",
       "      <td>38.489</td>\n",
       "    </tr>\n",
       "    <tr>\n",
       "      <th>1</th>\n",
       "      <td>Alabama</td>\n",
       "      <td>Baldwin County, AL</td>\n",
       "      <td>2015</td>\n",
       "      <td>1857.0</td>\n",
       "      <td>3290.811</td>\n",
       "      <td>38.347</td>\n",
       "    </tr>\n",
       "    <tr>\n",
       "      <th>2</th>\n",
       "      <td>Alabama</td>\n",
       "      <td>Baldwin County, AL</td>\n",
       "      <td>2016</td>\n",
       "      <td>1722.0</td>\n",
       "      <td>3315.387</td>\n",
       "      <td>38.497</td>\n",
       "    </tr>\n",
       "  </tbody>\n",
       "</table>\n",
       "</div>"
      ],
      "text/plain": [
       "     state              county  year  births_all  avg_weight_all  \\\n",
       "0  Alabama  Baldwin County, AL  2014      1724.0        3296.472   \n",
       "1  Alabama  Baldwin County, AL  2015      1857.0        3290.811   \n",
       "2  Alabama  Baldwin County, AL  2016      1722.0        3315.387   \n",
       "\n",
       "   avg_ges_age_all  \n",
       "0           38.489  \n",
       "1           38.347  \n",
       "2           38.497  "
      ]
     },
     "execution_count": 276,
     "metadata": {},
     "output_type": "execute_result"
    }
   ],
   "source": [
    "cdc_all.head(3)"
   ]
  },
  {
   "cell_type": "markdown",
   "id": "eb573a45-18a4-4269-a589-10352646f6cf",
   "metadata": {},
   "source": [
    "#### Merge Data\n",
    "\n",
    "Before further cleaning, the dataframes will be merged.  The low birthweight dataframe `cdc_low` is the main data and we will supplement that with the all birthweight data `cdc_all` so we should end up with a single dataframe that contains 1 entry for each year/county combination that has both the low birthweight and all birthweight data."
   ]
  },
  {
   "cell_type": "code",
   "execution_count": 277,
   "id": "1dcfc03e-d22e-4f5d-a237-1ff656ab682b",
   "metadata": {
    "execution": {
     "iopub.execute_input": "2023-01-17T23:49:54.741858Z",
     "iopub.status.busy": "2023-01-17T23:49:54.741656Z",
     "iopub.status.idle": "2023-01-17T23:49:54.751189Z",
     "shell.execute_reply": "2023-01-17T23:49:54.750855Z",
     "shell.execute_reply.started": "2023-01-17T23:49:54.741844Z"
    },
    "tags": []
   },
   "outputs": [],
   "source": [
    "cdc = pd.merge(cdc_low, cdc_all, how='left', on=['state', 'county', 'year'])"
   ]
  },
  {
   "cell_type": "code",
   "execution_count": 278,
   "id": "3fff8e71-53bd-4f47-9533-9dcecedc3e25",
   "metadata": {
    "execution": {
     "iopub.execute_input": "2023-01-17T23:49:54.751867Z",
     "iopub.status.busy": "2023-01-17T23:49:54.751767Z",
     "iopub.status.idle": "2023-01-17T23:49:54.757649Z",
     "shell.execute_reply": "2023-01-17T23:49:54.757270Z",
     "shell.execute_reply.started": "2023-01-17T23:49:54.751858Z"
    },
    "tags": []
   },
   "outputs": [
    {
     "data": {
      "text/html": [
       "<div>\n",
       "<style scoped>\n",
       "    .dataframe tbody tr th:only-of-type {\n",
       "        vertical-align: middle;\n",
       "    }\n",
       "\n",
       "    .dataframe tbody tr th {\n",
       "        vertical-align: top;\n",
       "    }\n",
       "\n",
       "    .dataframe thead th {\n",
       "        text-align: right;\n",
       "    }\n",
       "</style>\n",
       "<table border=\"1\" class=\"dataframe\">\n",
       "  <thead>\n",
       "    <tr style=\"text-align: right;\">\n",
       "      <th></th>\n",
       "      <th>state</th>\n",
       "      <th>county</th>\n",
       "      <th>year</th>\n",
       "      <th>births_low</th>\n",
       "      <th>avg_weight_low</th>\n",
       "      <th>avg_ges_age_low</th>\n",
       "      <th>births_all</th>\n",
       "      <th>avg_weight_all</th>\n",
       "      <th>avg_ges_age_all</th>\n",
       "    </tr>\n",
       "  </thead>\n",
       "  <tbody>\n",
       "    <tr>\n",
       "      <th>0</th>\n",
       "      <td>Alabama</td>\n",
       "      <td>Baldwin County, AL</td>\n",
       "      <td>2014</td>\n",
       "      <td>137.0</td>\n",
       "      <td>1995.255</td>\n",
       "      <td>34.051</td>\n",
       "      <td>1724.0</td>\n",
       "      <td>3296.472</td>\n",
       "      <td>38.489</td>\n",
       "    </tr>\n",
       "    <tr>\n",
       "      <th>1</th>\n",
       "      <td>Alabama</td>\n",
       "      <td>Baldwin County, AL</td>\n",
       "      <td>2015</td>\n",
       "      <td>141.0</td>\n",
       "      <td>1832.837</td>\n",
       "      <td>32.922</td>\n",
       "      <td>1857.0</td>\n",
       "      <td>3290.811</td>\n",
       "      <td>38.347</td>\n",
       "    </tr>\n",
       "    <tr>\n",
       "      <th>2</th>\n",
       "      <td>Alabama</td>\n",
       "      <td>Baldwin County, AL</td>\n",
       "      <td>2016</td>\n",
       "      <td>120.0</td>\n",
       "      <td>2008.358</td>\n",
       "      <td>34.058</td>\n",
       "      <td>1722.0</td>\n",
       "      <td>3315.387</td>\n",
       "      <td>38.497</td>\n",
       "    </tr>\n",
       "    <tr>\n",
       "      <th>3</th>\n",
       "      <td>Alabama</td>\n",
       "      <td>Baldwin County, AL</td>\n",
       "      <td>2017</td>\n",
       "      <td>100.0</td>\n",
       "      <td>2082.830</td>\n",
       "      <td>34.380</td>\n",
       "      <td>1782.0</td>\n",
       "      <td>3346.588</td>\n",
       "      <td>38.572</td>\n",
       "    </tr>\n",
       "    <tr>\n",
       "      <th>4</th>\n",
       "      <td>Alabama</td>\n",
       "      <td>Baldwin County, AL</td>\n",
       "      <td>2018</td>\n",
       "      <td>122.0</td>\n",
       "      <td>1942.303</td>\n",
       "      <td>33.508</td>\n",
       "      <td>1770.0</td>\n",
       "      <td>3301.324</td>\n",
       "      <td>38.423</td>\n",
       "    </tr>\n",
       "  </tbody>\n",
       "</table>\n",
       "</div>"
      ],
      "text/plain": [
       "     state              county  year  births_low  avg_weight_low  \\\n",
       "0  Alabama  Baldwin County, AL  2014       137.0        1995.255   \n",
       "1  Alabama  Baldwin County, AL  2015       141.0        1832.837   \n",
       "2  Alabama  Baldwin County, AL  2016       120.0        2008.358   \n",
       "3  Alabama  Baldwin County, AL  2017       100.0        2082.830   \n",
       "4  Alabama  Baldwin County, AL  2018       122.0        1942.303   \n",
       "\n",
       "   avg_ges_age_low  births_all  avg_weight_all  avg_ges_age_all  \n",
       "0           34.051      1724.0        3296.472           38.489  \n",
       "1           32.922      1857.0        3290.811           38.347  \n",
       "2           34.058      1722.0        3315.387           38.497  \n",
       "3           34.380      1782.0        3346.588           38.572  \n",
       "4           33.508      1770.0        3301.324           38.423  "
      ]
     },
     "execution_count": 278,
     "metadata": {},
     "output_type": "execute_result"
    }
   ],
   "source": [
    "cdc.head()"
   ]
  },
  {
   "cell_type": "markdown",
   "id": "c010eb6e-a4e8-483e-9979-a7754d023628",
   "metadata": {},
   "source": [
    "#### County Names"
   ]
  },
  {
   "cell_type": "code",
   "execution_count": 279,
   "id": "3b540dbc-37e7-4abd-a969-78d6c1f7e59f",
   "metadata": {
    "execution": {
     "iopub.execute_input": "2023-01-17T23:49:54.758512Z",
     "iopub.status.busy": "2023-01-17T23:49:54.758322Z",
     "iopub.status.idle": "2023-01-17T23:49:54.765065Z",
     "shell.execute_reply": "2023-01-17T23:49:54.764716Z",
     "shell.execute_reply.started": "2023-01-17T23:49:54.758496Z"
    },
    "tags": []
   },
   "outputs": [
    {
     "data": {
      "text/plain": [
       "4071            Queens County, NY\n",
       "3554    Unidentified Counties, NV\n",
       "5433    Unidentified Counties, SD\n",
       "3485    Unidentified Counties, MT\n",
       "2952           Norfolk County, MA\n",
       "4541    Unidentified Counties, ND\n",
       "1485           Chatham County, GA\n",
       "3630          Atlantic County, NJ\n",
       "5785           Kaufman County, TX\n",
       "740             Tulare County, CA\n",
       "Name: county, dtype: object"
      ]
     },
     "execution_count": 279,
     "metadata": {},
     "output_type": "execute_result"
    }
   ],
   "source": [
    "cdc['county'].sample(10)"
   ]
  },
  {
   "cell_type": "markdown",
   "id": "ac0a9819-c58b-4a41-97d0-748bd1afca29",
   "metadata": {},
   "source": [
    "I ran the sample code above multiple times to see some of the data in the county column.  Looks like they are including the state abbreviation in the County name, so will remove that.  There were also some places that didn't say \"County\" and said \"Counties\" (i.e. Unidentified Counties, WY) and also there were some locations that were parishes (in LA) or other unique monikers like Borough.  So I'm splitting on both the \" Count\" to capture County and Counties as well as \",\" to get both cases.\n",
    "\n",
    "We should look at what the AQI data has and decide whether we need to treat the remaining unique naming cases that remain after this clean up."
   ]
  },
  {
   "cell_type": "code",
   "execution_count": 280,
   "id": "d91e0df7-2f5c-4b8a-84c6-992b6ded4c57",
   "metadata": {
    "execution": {
     "iopub.execute_input": "2023-01-17T23:49:54.765847Z",
     "iopub.status.busy": "2023-01-17T23:49:54.765661Z",
     "iopub.status.idle": "2023-01-17T23:49:54.774242Z",
     "shell.execute_reply": "2023-01-17T23:49:54.773931Z",
     "shell.execute_reply.started": "2023-01-17T23:49:54.765827Z"
    },
    "tags": []
   },
   "outputs": [],
   "source": [
    "cdc['county'] = cdc['county'\n",
    "                   ].apply(lambda x: x.split(' Count')[0].split(',')[0].title())"
   ]
  },
  {
   "cell_type": "code",
   "execution_count": 281,
   "id": "041736ed-1a55-42bc-86dd-40c8ef9d980a",
   "metadata": {
    "execution": {
     "iopub.execute_input": "2023-01-17T23:49:54.774923Z",
     "iopub.status.busy": "2023-01-17T23:49:54.774801Z",
     "iopub.status.idle": "2023-01-17T23:49:54.780021Z",
     "shell.execute_reply": "2023-01-17T23:49:54.779603Z",
     "shell.execute_reply.started": "2023-01-17T23:49:54.774913Z"
    },
    "tags": []
   },
   "outputs": [
    {
     "data": {
      "text/plain": [
       "state      50\n",
       "county    466\n",
       "dtype: int64"
      ]
     },
     "execution_count": 281,
     "metadata": {},
     "output_type": "execute_result"
    }
   ],
   "source": [
    "cdc[['state', 'county']].nunique()"
   ]
  },
  {
   "cell_type": "code",
   "execution_count": 282,
   "id": "84ee3281-bac9-4f67-9c2d-271f5457e1c3",
   "metadata": {
    "execution": {
     "iopub.execute_input": "2023-01-17T23:49:54.780734Z",
     "iopub.status.busy": "2023-01-17T23:49:54.780610Z",
     "iopub.status.idle": "2023-01-17T23:49:54.784330Z",
     "shell.execute_reply": "2023-01-17T23:49:54.783959Z",
     "shell.execute_reply.started": "2023-01-17T23:49:54.780725Z"
    },
    "tags": []
   },
   "outputs": [
    {
     "data": {
      "text/plain": [
       "5469            Wilson\n",
       "2597    Orleans Parish\n",
       "1458            Bartow\n",
       "6181           Henrico\n",
       "4297          Davidson\n",
       "1793            Dupage\n",
       "2322              Polk\n",
       "2782         Frederick\n",
       "1283            Martin\n",
       "100       Unidentified\n",
       "Name: county, dtype: object"
      ]
     },
     "execution_count": 282,
     "metadata": {},
     "output_type": "execute_result"
    }
   ],
   "source": [
    "cdc['county'].sample(10)"
   ]
  },
  {
   "cell_type": "markdown",
   "id": "3766351c-bfe0-4d1d-9076-4275a157eae9",
   "metadata": {},
   "source": [
    "This looks more like what I would expect where it is just the name of the county.  Since we also saw that there were unidentified counties, and they are all just listed as Unidentified now, we should drop that data since we are trying to investigate county air quality and county birth weights, so without a specific county, the data is not valuable to us."
   ]
  },
  {
   "cell_type": "code",
   "execution_count": 283,
   "id": "32057c89-ade6-42a3-b88b-245fa6dbe7d2",
   "metadata": {
    "execution": {
     "iopub.execute_input": "2023-01-17T23:49:54.785377Z",
     "iopub.status.busy": "2023-01-17T23:49:54.785175Z",
     "iopub.status.idle": "2023-01-17T23:49:54.787576Z",
     "shell.execute_reply": "2023-01-17T23:49:54.787281Z",
     "shell.execute_reply.started": "2023-01-17T23:49:54.785366Z"
    },
    "tags": []
   },
   "outputs": [],
   "source": [
    "# looking through all the unique values for anything else interesting\n",
    "# cdc['county'].unique()"
   ]
  },
  {
   "cell_type": "markdown",
   "id": "cfae153f-0ccf-457b-b980-348e85243626",
   "metadata": {},
   "source": [
    "I'm also seeing many counties that end in lower case 'city' so investigating some of those, like:\n",
    "* St. Louis city\n",
    "* Chesapeake city\n",
    "* Norfolk city\n",
    "* Portsmouth city\n",
    "\n",
    "St. Louis is interesting, since it sounds like the city is a county, but there is also a St. Louis county that surrounds the city according to https://www.stlouis-mo.gov/government/about/city-government-structure.cfm\n",
    "\n",
    "Chesapeake, Virginia is also an independent city and not part of a county https://en.wikipedia.org/wiki/Chesapeake,_Virginia\n",
    "\n",
    "Given this information and the information above about seeing some \"parish\" listings in Louisiana, we checked against the AQI county listings and found that in the AQI data:\n",
    "* the word Parish does not appear, but the name of the Parish does--like 'East Baton Rouge', so we should drop 'Parish' from the CDC county names.\n",
    "* The word City does appear in the AQI data, but it is capitalized, so we should title case the CDC data or make all of them lower case when we go to match them up (this has been incorporated into earlier cleaning steps and is no longer a concern)"
   ]
  },
  {
   "cell_type": "code",
   "execution_count": 284,
   "id": "e566f333-9dcb-4474-911e-10181619eb0e",
   "metadata": {
    "execution": {
     "iopub.execute_input": "2023-01-17T23:49:54.788034Z",
     "iopub.status.busy": "2023-01-17T23:49:54.787950Z",
     "iopub.status.idle": "2023-01-17T23:49:54.791681Z",
     "shell.execute_reply": "2023-01-17T23:49:54.791392Z",
     "shell.execute_reply.started": "2023-01-17T23:49:54.788025Z"
    },
    "tags": []
   },
   "outputs": [],
   "source": [
    "# drop parish\n",
    "cdc['county'] = cdc['county'\n",
    "                   ].apply(lambda x: x.split(' Parish')[0])"
   ]
  },
  {
   "cell_type": "code",
   "execution_count": 285,
   "id": "cc541b45-63bc-4d8c-a1fd-2c1794a81533",
   "metadata": {
    "execution": {
     "iopub.execute_input": "2023-01-17T23:49:54.792309Z",
     "iopub.status.busy": "2023-01-17T23:49:54.792167Z",
     "iopub.status.idle": "2023-01-17T23:49:54.794755Z",
     "shell.execute_reply": "2023-01-17T23:49:54.794416Z",
     "shell.execute_reply.started": "2023-01-17T23:49:54.792300Z"
    },
    "tags": []
   },
   "outputs": [
    {
     "data": {
      "text/plain": [
       "(6616, 9)"
      ]
     },
     "execution_count": 285,
     "metadata": {},
     "output_type": "execute_result"
    }
   ],
   "source": [
    "cdc.shape"
   ]
  },
  {
   "cell_type": "code",
   "execution_count": 286,
   "id": "e9d19723-d5b1-4ea2-b258-f5f9e9a55b66",
   "metadata": {
    "execution": {
     "iopub.execute_input": "2023-01-17T23:49:54.795470Z",
     "iopub.status.busy": "2023-01-17T23:49:54.795354Z",
     "iopub.status.idle": "2023-01-17T23:49:54.800471Z",
     "shell.execute_reply": "2023-01-17T23:49:54.800057Z",
     "shell.execute_reply.started": "2023-01-17T23:49:54.795461Z"
    },
    "tags": []
   },
   "outputs": [],
   "source": [
    "cdc.drop(cdc[cdc['county'] == 'Unidentified'].index, inplace=True)"
   ]
  },
  {
   "cell_type": "code",
   "execution_count": 287,
   "id": "cafd0f5d-ac08-4626-94e4-17c62c400a4e",
   "metadata": {
    "execution": {
     "iopub.execute_input": "2023-01-17T23:49:54.801095Z",
     "iopub.status.busy": "2023-01-17T23:49:54.800995Z",
     "iopub.status.idle": "2023-01-17T23:49:54.804671Z",
     "shell.execute_reply": "2023-01-17T23:49:54.804301Z",
     "shell.execute_reply.started": "2023-01-17T23:49:54.801086Z"
    },
    "tags": []
   },
   "outputs": [
    {
     "data": {
      "text/plain": [
       "(6094, 9)"
      ]
     },
     "execution_count": 287,
     "metadata": {},
     "output_type": "execute_result"
    }
   ],
   "source": [
    "cdc.shape"
   ]
  },
  {
   "cell_type": "code",
   "execution_count": 288,
   "id": "25073c83-d890-4306-99af-b1ebbc20c3df",
   "metadata": {
    "execution": {
     "iopub.execute_input": "2023-01-17T23:49:54.805555Z",
     "iopub.status.busy": "2023-01-17T23:49:54.805240Z",
     "iopub.status.idle": "2023-01-17T23:49:54.808908Z",
     "shell.execute_reply": "2023-01-17T23:49:54.808524Z",
     "shell.execute_reply.started": "2023-01-17T23:49:54.805537Z"
    },
    "tags": []
   },
   "outputs": [
    {
     "data": {
      "text/plain": [
       "state               object\n",
       "county              object\n",
       "year                 int64\n",
       "births_low         float64\n",
       "avg_weight_low     float64\n",
       "avg_ges_age_low    float64\n",
       "births_all         float64\n",
       "avg_weight_all     float64\n",
       "avg_ges_age_all    float64\n",
       "dtype: object"
      ]
     },
     "execution_count": 288,
     "metadata": {},
     "output_type": "execute_result"
    }
   ],
   "source": [
    "cdc.dtypes"
   ]
  },
  {
   "cell_type": "markdown",
   "id": "6339ba20-2376-4ff1-95d3-9c5beb4aacfd",
   "metadata": {},
   "source": [
    "#### Calculate Percent of Low Birthweight\n",
    "\n",
    "We have the total births and the low birthweight births, so let's create a percentage of low birthrate births before exporting the cleaned data.\n",
    "\n",
    "The current national average is 8.24% (.0824), so we'll create a boolean feature as well to indicate if the observation is above the national average"
   ]
  },
  {
   "cell_type": "code",
   "execution_count": 289,
   "id": "44f3df93-5fad-4b19-980d-618f908c9640",
   "metadata": {
    "execution": {
     "iopub.execute_input": "2023-01-17T23:49:54.809504Z",
     "iopub.status.busy": "2023-01-17T23:49:54.809394Z",
     "iopub.status.idle": "2023-01-17T23:49:54.813233Z",
     "shell.execute_reply": "2023-01-17T23:49:54.812472Z",
     "shell.execute_reply.started": "2023-01-17T23:49:54.809495Z"
    },
    "tags": []
   },
   "outputs": [],
   "source": [
    "cdc['pct_low'] = (cdc['births_low'] / cdc['births_all']).round(3)"
   ]
  },
  {
   "cell_type": "code",
   "execution_count": 290,
   "id": "cc0009c6-29f6-49ca-aaa1-3b2f7d1205ac",
   "metadata": {
    "execution": {
     "iopub.execute_input": "2023-01-17T23:49:57.670416Z",
     "iopub.status.busy": "2023-01-17T23:49:57.669981Z",
     "iopub.status.idle": "2023-01-17T23:49:57.683741Z",
     "shell.execute_reply": "2023-01-17T23:49:57.683010Z",
     "shell.execute_reply.started": "2023-01-17T23:49:57.670389Z"
    }
   },
   "outputs": [],
   "source": [
    "cdc['high_rate'] = cdc['pct_low'].apply(lambda x: 1 if x > .0824 else 0)"
   ]
  },
  {
   "cell_type": "code",
   "execution_count": 291,
   "id": "43ed4b5f-5ea4-455f-9e44-a2542700d348",
   "metadata": {
    "execution": {
     "iopub.execute_input": "2023-01-17T23:49:59.059490Z",
     "iopub.status.busy": "2023-01-17T23:49:59.058972Z",
     "iopub.status.idle": "2023-01-17T23:49:59.085552Z",
     "shell.execute_reply": "2023-01-17T23:49:59.085176Z",
     "shell.execute_reply.started": "2023-01-17T23:49:59.059463Z"
    },
    "tags": []
   },
   "outputs": [
    {
     "data": {
      "text/html": [
       "<div>\n",
       "<style scoped>\n",
       "    .dataframe tbody tr th:only-of-type {\n",
       "        vertical-align: middle;\n",
       "    }\n",
       "\n",
       "    .dataframe tbody tr th {\n",
       "        vertical-align: top;\n",
       "    }\n",
       "\n",
       "    .dataframe thead th {\n",
       "        text-align: right;\n",
       "    }\n",
       "</style>\n",
       "<table border=\"1\" class=\"dataframe\">\n",
       "  <thead>\n",
       "    <tr style=\"text-align: right;\">\n",
       "      <th></th>\n",
       "      <th>state</th>\n",
       "      <th>county</th>\n",
       "      <th>year</th>\n",
       "      <th>births_low</th>\n",
       "      <th>avg_weight_low</th>\n",
       "      <th>avg_ges_age_low</th>\n",
       "      <th>births_all</th>\n",
       "      <th>avg_weight_all</th>\n",
       "      <th>avg_ges_age_all</th>\n",
       "      <th>pct_low</th>\n",
       "      <th>high_rate</th>\n",
       "    </tr>\n",
       "  </thead>\n",
       "  <tbody>\n",
       "    <tr>\n",
       "      <th>0</th>\n",
       "      <td>Alabama</td>\n",
       "      <td>Baldwin</td>\n",
       "      <td>2014</td>\n",
       "      <td>137.0</td>\n",
       "      <td>1995.255</td>\n",
       "      <td>34.051</td>\n",
       "      <td>1724.0</td>\n",
       "      <td>3296.472</td>\n",
       "      <td>38.489</td>\n",
       "      <td>0.079</td>\n",
       "      <td>0</td>\n",
       "    </tr>\n",
       "    <tr>\n",
       "      <th>1</th>\n",
       "      <td>Alabama</td>\n",
       "      <td>Baldwin</td>\n",
       "      <td>2015</td>\n",
       "      <td>141.0</td>\n",
       "      <td>1832.837</td>\n",
       "      <td>32.922</td>\n",
       "      <td>1857.0</td>\n",
       "      <td>3290.811</td>\n",
       "      <td>38.347</td>\n",
       "      <td>0.076</td>\n",
       "      <td>0</td>\n",
       "    </tr>\n",
       "    <tr>\n",
       "      <th>2</th>\n",
       "      <td>Alabama</td>\n",
       "      <td>Baldwin</td>\n",
       "      <td>2016</td>\n",
       "      <td>120.0</td>\n",
       "      <td>2008.358</td>\n",
       "      <td>34.058</td>\n",
       "      <td>1722.0</td>\n",
       "      <td>3315.387</td>\n",
       "      <td>38.497</td>\n",
       "      <td>0.070</td>\n",
       "      <td>0</td>\n",
       "    </tr>\n",
       "    <tr>\n",
       "      <th>3</th>\n",
       "      <td>Alabama</td>\n",
       "      <td>Baldwin</td>\n",
       "      <td>2017</td>\n",
       "      <td>100.0</td>\n",
       "      <td>2082.830</td>\n",
       "      <td>34.380</td>\n",
       "      <td>1782.0</td>\n",
       "      <td>3346.588</td>\n",
       "      <td>38.572</td>\n",
       "      <td>0.056</td>\n",
       "      <td>0</td>\n",
       "    </tr>\n",
       "    <tr>\n",
       "      <th>4</th>\n",
       "      <td>Alabama</td>\n",
       "      <td>Baldwin</td>\n",
       "      <td>2018</td>\n",
       "      <td>122.0</td>\n",
       "      <td>1942.303</td>\n",
       "      <td>33.508</td>\n",
       "      <td>1770.0</td>\n",
       "      <td>3301.324</td>\n",
       "      <td>38.423</td>\n",
       "      <td>0.069</td>\n",
       "      <td>0</td>\n",
       "    </tr>\n",
       "    <tr>\n",
       "      <th>5</th>\n",
       "      <td>Alabama</td>\n",
       "      <td>Baldwin</td>\n",
       "      <td>2019</td>\n",
       "      <td>99.0</td>\n",
       "      <td>2060.768</td>\n",
       "      <td>34.919</td>\n",
       "      <td>1845.0</td>\n",
       "      <td>3327.293</td>\n",
       "      <td>38.521</td>\n",
       "      <td>0.054</td>\n",
       "      <td>0</td>\n",
       "    </tr>\n",
       "    <tr>\n",
       "      <th>6</th>\n",
       "      <td>Alabama</td>\n",
       "      <td>Baldwin</td>\n",
       "      <td>2020</td>\n",
       "      <td>113.0</td>\n",
       "      <td>2025.478</td>\n",
       "      <td>34.982</td>\n",
       "      <td>1763.0</td>\n",
       "      <td>3305.012</td>\n",
       "      <td>38.529</td>\n",
       "      <td>0.064</td>\n",
       "      <td>0</td>\n",
       "    </tr>\n",
       "    <tr>\n",
       "      <th>7</th>\n",
       "      <td>Alabama</td>\n",
       "      <td>Baldwin</td>\n",
       "      <td>2021</td>\n",
       "      <td>120.0</td>\n",
       "      <td>1969.508</td>\n",
       "      <td>34.269</td>\n",
       "      <td>1969.0</td>\n",
       "      <td>3293.984</td>\n",
       "      <td>38.394</td>\n",
       "      <td>0.061</td>\n",
       "      <td>0</td>\n",
       "    </tr>\n",
       "    <tr>\n",
       "      <th>8</th>\n",
       "      <td>Alabama</td>\n",
       "      <td>Calhoun</td>\n",
       "      <td>2014</td>\n",
       "      <td>59.0</td>\n",
       "      <td>1972.661</td>\n",
       "      <td>34.475</td>\n",
       "      <td>948.0</td>\n",
       "      <td>3275.708</td>\n",
       "      <td>38.668</td>\n",
       "      <td>0.062</td>\n",
       "      <td>0</td>\n",
       "    </tr>\n",
       "    <tr>\n",
       "      <th>9</th>\n",
       "      <td>Alabama</td>\n",
       "      <td>Calhoun</td>\n",
       "      <td>2015</td>\n",
       "      <td>65.0</td>\n",
       "      <td>1909.708</td>\n",
       "      <td>33.892</td>\n",
       "      <td>983.0</td>\n",
       "      <td>3267.121</td>\n",
       "      <td>38.590</td>\n",
       "      <td>0.066</td>\n",
       "      <td>0</td>\n",
       "    </tr>\n",
       "  </tbody>\n",
       "</table>\n",
       "</div>"
      ],
      "text/plain": [
       "     state   county  year  births_low  avg_weight_low  avg_ges_age_low  \\\n",
       "0  Alabama  Baldwin  2014       137.0        1995.255           34.051   \n",
       "1  Alabama  Baldwin  2015       141.0        1832.837           32.922   \n",
       "2  Alabama  Baldwin  2016       120.0        2008.358           34.058   \n",
       "3  Alabama  Baldwin  2017       100.0        2082.830           34.380   \n",
       "4  Alabama  Baldwin  2018       122.0        1942.303           33.508   \n",
       "5  Alabama  Baldwin  2019        99.0        2060.768           34.919   \n",
       "6  Alabama  Baldwin  2020       113.0        2025.478           34.982   \n",
       "7  Alabama  Baldwin  2021       120.0        1969.508           34.269   \n",
       "8  Alabama  Calhoun  2014        59.0        1972.661           34.475   \n",
       "9  Alabama  Calhoun  2015        65.0        1909.708           33.892   \n",
       "\n",
       "   births_all  avg_weight_all  avg_ges_age_all  pct_low  high_rate  \n",
       "0      1724.0        3296.472           38.489    0.079          0  \n",
       "1      1857.0        3290.811           38.347    0.076          0  \n",
       "2      1722.0        3315.387           38.497    0.070          0  \n",
       "3      1782.0        3346.588           38.572    0.056          0  \n",
       "4      1770.0        3301.324           38.423    0.069          0  \n",
       "5      1845.0        3327.293           38.521    0.054          0  \n",
       "6      1763.0        3305.012           38.529    0.064          0  \n",
       "7      1969.0        3293.984           38.394    0.061          0  \n",
       "8       948.0        3275.708           38.668    0.062          0  \n",
       "9       983.0        3267.121           38.590    0.066          0  "
      ]
     },
     "execution_count": 291,
     "metadata": {},
     "output_type": "execute_result"
    }
   ],
   "source": [
    "cdc.head(10)"
   ]
  },
  {
   "cell_type": "code",
   "execution_count": 292,
   "id": "524665eb-4e41-44b5-8f75-3a4105153e68",
   "metadata": {
    "execution": {
     "iopub.execute_input": "2023-01-17T23:50:30.000533Z",
     "iopub.status.busy": "2023-01-17T23:50:29.998574Z",
     "iopub.status.idle": "2023-01-17T23:50:30.023018Z",
     "shell.execute_reply": "2023-01-17T23:50:30.015272Z",
     "shell.execute_reply.started": "2023-01-17T23:50:30.000386Z"
    }
   },
   "outputs": [
    {
     "data": {
      "text/plain": [
       "0    0.910896\n",
       "1    0.089104\n",
       "Name: high_rate, dtype: float64"
      ]
     },
     "execution_count": 292,
     "metadata": {},
     "output_type": "execute_result"
    }
   ],
   "source": [
    "cdc['high_rate'].value_counts(normalize=True)"
   ]
  },
  {
   "cell_type": "markdown",
   "id": "3b7cdf4d-b319-4025-89ff-4c86bf761c0b",
   "metadata": {},
   "source": [
    "### Merge CDC and EPA Data"
   ]
  },
  {
   "cell_type": "code",
   "execution_count": 177,
   "id": "23ea2103-ec1a-493c-b643-5bc12ba146f3",
   "metadata": {
    "execution": {
     "iopub.execute_input": "2023-01-17T06:24:03.099524Z",
     "iopub.status.busy": "2023-01-17T06:24:03.099129Z",
     "iopub.status.idle": "2023-01-17T06:24:03.115146Z",
     "shell.execute_reply": "2023-01-17T06:24:03.114536Z",
     "shell.execute_reply.started": "2023-01-17T06:24:03.099498Z"
    },
    "tags": []
   },
   "outputs": [
    {
     "data": {
      "text/html": [
       "<div>\n",
       "<style scoped>\n",
       "    .dataframe tbody tr th:only-of-type {\n",
       "        vertical-align: middle;\n",
       "    }\n",
       "\n",
       "    .dataframe tbody tr th {\n",
       "        vertical-align: top;\n",
       "    }\n",
       "\n",
       "    .dataframe thead th {\n",
       "        text-align: right;\n",
       "    }\n",
       "</style>\n",
       "<table border=\"1\" class=\"dataframe\">\n",
       "  <thead>\n",
       "    <tr style=\"text-align: right;\">\n",
       "      <th></th>\n",
       "      <th>state</th>\n",
       "      <th>county</th>\n",
       "      <th>year</th>\n",
       "      <th>days_with_aqi</th>\n",
       "      <th>good_days</th>\n",
       "      <th>mod_days</th>\n",
       "      <th>uh_sens_days</th>\n",
       "      <th>uh_days</th>\n",
       "      <th>v_uh_days</th>\n",
       "      <th>haz_days</th>\n",
       "      <th>max_aqi</th>\n",
       "      <th>90_per_aqi</th>\n",
       "      <th>median_aqi</th>\n",
       "      <th>days_co</th>\n",
       "      <th>days_no2</th>\n",
       "      <th>days_ozone</th>\n",
       "      <th>days_pm2.5</th>\n",
       "      <th>days_pm10</th>\n",
       "    </tr>\n",
       "  </thead>\n",
       "  <tbody>\n",
       "    <tr>\n",
       "      <th>0</th>\n",
       "      <td>Alabama</td>\n",
       "      <td>Baldwin</td>\n",
       "      <td>2009</td>\n",
       "      <td>252</td>\n",
       "      <td>218</td>\n",
       "      <td>32</td>\n",
       "      <td>2</td>\n",
       "      <td>0</td>\n",
       "      <td>0</td>\n",
       "      <td>0</td>\n",
       "      <td>136</td>\n",
       "      <td>53</td>\n",
       "      <td>36</td>\n",
       "      <td>0</td>\n",
       "      <td>0</td>\n",
       "      <td>200</td>\n",
       "      <td>52</td>\n",
       "      <td>0</td>\n",
       "    </tr>\n",
       "    <tr>\n",
       "      <th>1</th>\n",
       "      <td>Alabama</td>\n",
       "      <td>Clay</td>\n",
       "      <td>2009</td>\n",
       "      <td>119</td>\n",
       "      <td>97</td>\n",
       "      <td>22</td>\n",
       "      <td>0</td>\n",
       "      <td>0</td>\n",
       "      <td>0</td>\n",
       "      <td>0</td>\n",
       "      <td>94</td>\n",
       "      <td>59</td>\n",
       "      <td>33</td>\n",
       "      <td>0</td>\n",
       "      <td>0</td>\n",
       "      <td>0</td>\n",
       "      <td>119</td>\n",
       "      <td>0</td>\n",
       "    </tr>\n",
       "    <tr>\n",
       "      <th>2</th>\n",
       "      <td>Alabama</td>\n",
       "      <td>Colbert</td>\n",
       "      <td>2009</td>\n",
       "      <td>323</td>\n",
       "      <td>220</td>\n",
       "      <td>103</td>\n",
       "      <td>0</td>\n",
       "      <td>0</td>\n",
       "      <td>0</td>\n",
       "      <td>0</td>\n",
       "      <td>76</td>\n",
       "      <td>60</td>\n",
       "      <td>43</td>\n",
       "      <td>0</td>\n",
       "      <td>0</td>\n",
       "      <td>132</td>\n",
       "      <td>191</td>\n",
       "      <td>0</td>\n",
       "    </tr>\n",
       "  </tbody>\n",
       "</table>\n",
       "</div>"
      ],
      "text/plain": [
       "     state   county  year  days_with_aqi  good_days  mod_days  uh_sens_days  \\\n",
       "0  Alabama  Baldwin  2009            252        218        32             2   \n",
       "1  Alabama     Clay  2009            119         97        22             0   \n",
       "2  Alabama  Colbert  2009            323        220       103             0   \n",
       "\n",
       "   uh_days  v_uh_days  haz_days  max_aqi  90_per_aqi  median_aqi  days_co  \\\n",
       "0        0          0         0      136          53          36        0   \n",
       "1        0          0         0       94          59          33        0   \n",
       "2        0          0         0       76          60          43        0   \n",
       "\n",
       "   days_no2  days_ozone  days_pm2.5  days_pm10  \n",
       "0         0         200          52          0  \n",
       "1         0           0         119          0  \n",
       "2         0         132         191          0  "
      ]
     },
     "execution_count": 177,
     "metadata": {},
     "output_type": "execute_result"
    }
   ],
   "source": [
    "aqi.head(3)"
   ]
  },
  {
   "cell_type": "code",
   "execution_count": 178,
   "id": "8133f20f-d144-4eea-83e8-d7a57f31453a",
   "metadata": {
    "execution": {
     "iopub.execute_input": "2023-01-17T06:24:08.586693Z",
     "iopub.status.busy": "2023-01-17T06:24:08.586306Z",
     "iopub.status.idle": "2023-01-17T06:24:08.594307Z",
     "shell.execute_reply": "2023-01-17T06:24:08.592873Z",
     "shell.execute_reply.started": "2023-01-17T06:24:08.586667Z"
    },
    "tags": []
   },
   "outputs": [],
   "source": [
    "cdc['year_for_merge'] = cdc['year'] -1"
   ]
  },
  {
   "cell_type": "code",
   "execution_count": 179,
   "id": "e3be2b0e-6374-4646-9583-73e3709dba2d",
   "metadata": {
    "execution": {
     "iopub.execute_input": "2023-01-17T06:24:09.479855Z",
     "iopub.status.busy": "2023-01-17T06:24:09.478928Z",
     "iopub.status.idle": "2023-01-17T06:24:09.500857Z",
     "shell.execute_reply": "2023-01-17T06:24:09.500252Z",
     "shell.execute_reply.started": "2023-01-17T06:24:09.479773Z"
    },
    "tags": []
   },
   "outputs": [
    {
     "data": {
      "text/html": [
       "<div>\n",
       "<style scoped>\n",
       "    .dataframe tbody tr th:only-of-type {\n",
       "        vertical-align: middle;\n",
       "    }\n",
       "\n",
       "    .dataframe tbody tr th {\n",
       "        vertical-align: top;\n",
       "    }\n",
       "\n",
       "    .dataframe thead th {\n",
       "        text-align: right;\n",
       "    }\n",
       "</style>\n",
       "<table border=\"1\" class=\"dataframe\">\n",
       "  <thead>\n",
       "    <tr style=\"text-align: right;\">\n",
       "      <th></th>\n",
       "      <th>state</th>\n",
       "      <th>county</th>\n",
       "      <th>year</th>\n",
       "      <th>births_low</th>\n",
       "      <th>avg_weight_low</th>\n",
       "      <th>avg_ges_age_low</th>\n",
       "      <th>births_all</th>\n",
       "      <th>avg_weight_all</th>\n",
       "      <th>avg_ges_age_all</th>\n",
       "      <th>pct_low</th>\n",
       "      <th>year_for_merge</th>\n",
       "    </tr>\n",
       "  </thead>\n",
       "  <tbody>\n",
       "    <tr>\n",
       "      <th>0</th>\n",
       "      <td>Alabama</td>\n",
       "      <td>Baldwin</td>\n",
       "      <td>2014</td>\n",
       "      <td>137.0</td>\n",
       "      <td>1995.255</td>\n",
       "      <td>34.051</td>\n",
       "      <td>1724.0</td>\n",
       "      <td>3296.472</td>\n",
       "      <td>38.489</td>\n",
       "      <td>0.079</td>\n",
       "      <td>2013</td>\n",
       "    </tr>\n",
       "    <tr>\n",
       "      <th>1</th>\n",
       "      <td>Alabama</td>\n",
       "      <td>Baldwin</td>\n",
       "      <td>2015</td>\n",
       "      <td>141.0</td>\n",
       "      <td>1832.837</td>\n",
       "      <td>32.922</td>\n",
       "      <td>1857.0</td>\n",
       "      <td>3290.811</td>\n",
       "      <td>38.347</td>\n",
       "      <td>0.076</td>\n",
       "      <td>2014</td>\n",
       "    </tr>\n",
       "    <tr>\n",
       "      <th>2</th>\n",
       "      <td>Alabama</td>\n",
       "      <td>Baldwin</td>\n",
       "      <td>2016</td>\n",
       "      <td>120.0</td>\n",
       "      <td>2008.358</td>\n",
       "      <td>34.058</td>\n",
       "      <td>1722.0</td>\n",
       "      <td>3315.387</td>\n",
       "      <td>38.497</td>\n",
       "      <td>0.070</td>\n",
       "      <td>2015</td>\n",
       "    </tr>\n",
       "  </tbody>\n",
       "</table>\n",
       "</div>"
      ],
      "text/plain": [
       "     state   county  year  births_low  avg_weight_low  avg_ges_age_low  \\\n",
       "0  Alabama  Baldwin  2014       137.0        1995.255           34.051   \n",
       "1  Alabama  Baldwin  2015       141.0        1832.837           32.922   \n",
       "2  Alabama  Baldwin  2016       120.0        2008.358           34.058   \n",
       "\n",
       "   births_all  avg_weight_all  avg_ges_age_all  pct_low  year_for_merge  \n",
       "0      1724.0        3296.472           38.489    0.079            2013  \n",
       "1      1857.0        3290.811           38.347    0.076            2014  \n",
       "2      1722.0        3315.387           38.497    0.070            2015  "
      ]
     },
     "execution_count": 179,
     "metadata": {},
     "output_type": "execute_result"
    }
   ],
   "source": [
    "cdc.head(3)"
   ]
  },
  {
   "cell_type": "code",
   "execution_count": 180,
   "id": "33ae3999-85ad-411d-8cde-23b8799b00e5",
   "metadata": {
    "execution": {
     "iopub.execute_input": "2023-01-17T06:24:12.008307Z",
     "iopub.status.busy": "2023-01-17T06:24:12.007985Z",
     "iopub.status.idle": "2023-01-17T06:24:12.017059Z",
     "shell.execute_reply": "2023-01-17T06:24:12.016703Z",
     "shell.execute_reply.started": "2023-01-17T06:24:12.008290Z"
    },
    "tags": []
   },
   "outputs": [],
   "source": [
    "merged = pd.merge(aqi, cdc, how='inner', \n",
    "                  left_on=['state', 'county', 'year'],\n",
    "                  right_on=['state', 'county', 'year_for_merge'])"
   ]
  },
  {
   "cell_type": "code",
   "execution_count": 181,
   "id": "52f6d2d6-9473-4ae2-9b1b-bcdb80a06adc",
   "metadata": {
    "execution": {
     "iopub.execute_input": "2023-01-17T06:24:14.742555Z",
     "iopub.status.busy": "2023-01-17T06:24:14.742322Z",
     "iopub.status.idle": "2023-01-17T06:24:14.752876Z",
     "shell.execute_reply": "2023-01-17T06:24:14.752406Z",
     "shell.execute_reply.started": "2023-01-17T06:24:14.742535Z"
    },
    "tags": []
   },
   "outputs": [
    {
     "data": {
      "text/html": [
       "<div>\n",
       "<style scoped>\n",
       "    .dataframe tbody tr th:only-of-type {\n",
       "        vertical-align: middle;\n",
       "    }\n",
       "\n",
       "    .dataframe tbody tr th {\n",
       "        vertical-align: top;\n",
       "    }\n",
       "\n",
       "    .dataframe thead th {\n",
       "        text-align: right;\n",
       "    }\n",
       "</style>\n",
       "<table border=\"1\" class=\"dataframe\">\n",
       "  <thead>\n",
       "    <tr style=\"text-align: right;\">\n",
       "      <th></th>\n",
       "      <th>state</th>\n",
       "      <th>county</th>\n",
       "      <th>year_x</th>\n",
       "      <th>days_with_aqi</th>\n",
       "      <th>good_days</th>\n",
       "      <th>mod_days</th>\n",
       "      <th>uh_sens_days</th>\n",
       "      <th>uh_days</th>\n",
       "      <th>v_uh_days</th>\n",
       "      <th>haz_days</th>\n",
       "      <th>...</th>\n",
       "      <th>days_pm10</th>\n",
       "      <th>year_y</th>\n",
       "      <th>births_low</th>\n",
       "      <th>avg_weight_low</th>\n",
       "      <th>avg_ges_age_low</th>\n",
       "      <th>births_all</th>\n",
       "      <th>avg_weight_all</th>\n",
       "      <th>avg_ges_age_all</th>\n",
       "      <th>pct_low</th>\n",
       "      <th>year_for_merge</th>\n",
       "    </tr>\n",
       "  </thead>\n",
       "  <tbody>\n",
       "    <tr>\n",
       "      <th>0</th>\n",
       "      <td>California</td>\n",
       "      <td>Alameda</td>\n",
       "      <td>2009</td>\n",
       "      <td>365</td>\n",
       "      <td>190</td>\n",
       "      <td>162</td>\n",
       "      <td>12</td>\n",
       "      <td>1</td>\n",
       "      <td>0</td>\n",
       "      <td>0</td>\n",
       "      <td>...</td>\n",
       "      <td>0</td>\n",
       "      <td>2010</td>\n",
       "      <td>1136.0</td>\n",
       "      <td>1980.992</td>\n",
       "      <td>34.260</td>\n",
       "      <td>17700.0</td>\n",
       "      <td>3314.900</td>\n",
       "      <td>38.817</td>\n",
       "      <td>0.064</td>\n",
       "      <td>2009</td>\n",
       "    </tr>\n",
       "    <tr>\n",
       "      <th>1</th>\n",
       "      <td>California</td>\n",
       "      <td>Butte</td>\n",
       "      <td>2009</td>\n",
       "      <td>365</td>\n",
       "      <td>185</td>\n",
       "      <td>148</td>\n",
       "      <td>31</td>\n",
       "      <td>1</td>\n",
       "      <td>0</td>\n",
       "      <td>0</td>\n",
       "      <td>...</td>\n",
       "      <td>0</td>\n",
       "      <td>2010</td>\n",
       "      <td>90.0</td>\n",
       "      <td>1963.467</td>\n",
       "      <td>33.809</td>\n",
       "      <td>1907.0</td>\n",
       "      <td>3390.433</td>\n",
       "      <td>38.850</td>\n",
       "      <td>0.047</td>\n",
       "      <td>2009</td>\n",
       "    </tr>\n",
       "    <tr>\n",
       "      <th>2</th>\n",
       "      <td>California</td>\n",
       "      <td>Contra Costa</td>\n",
       "      <td>2009</td>\n",
       "      <td>365</td>\n",
       "      <td>274</td>\n",
       "      <td>84</td>\n",
       "      <td>6</td>\n",
       "      <td>1</td>\n",
       "      <td>0</td>\n",
       "      <td>0</td>\n",
       "      <td>...</td>\n",
       "      <td>0</td>\n",
       "      <td>2010</td>\n",
       "      <td>669.0</td>\n",
       "      <td>2002.323</td>\n",
       "      <td>34.283</td>\n",
       "      <td>10976.0</td>\n",
       "      <td>3330.618</td>\n",
       "      <td>38.823</td>\n",
       "      <td>0.061</td>\n",
       "      <td>2009</td>\n",
       "    </tr>\n",
       "    <tr>\n",
       "      <th>3</th>\n",
       "      <td>California</td>\n",
       "      <td>El Dorado</td>\n",
       "      <td>2009</td>\n",
       "      <td>362</td>\n",
       "      <td>240</td>\n",
       "      <td>82</td>\n",
       "      <td>33</td>\n",
       "      <td>7</td>\n",
       "      <td>0</td>\n",
       "      <td>0</td>\n",
       "      <td>...</td>\n",
       "      <td>1</td>\n",
       "      <td>2010</td>\n",
       "      <td>88.0</td>\n",
       "      <td>1981.477</td>\n",
       "      <td>34.511</td>\n",
       "      <td>1410.0</td>\n",
       "      <td>3330.952</td>\n",
       "      <td>38.821</td>\n",
       "      <td>0.062</td>\n",
       "      <td>2009</td>\n",
       "    </tr>\n",
       "    <tr>\n",
       "      <th>4</th>\n",
       "      <td>California</td>\n",
       "      <td>Fresno</td>\n",
       "      <td>2009</td>\n",
       "      <td>365</td>\n",
       "      <td>109</td>\n",
       "      <td>140</td>\n",
       "      <td>80</td>\n",
       "      <td>36</td>\n",
       "      <td>0</td>\n",
       "      <td>0</td>\n",
       "      <td>...</td>\n",
       "      <td>0</td>\n",
       "      <td>2010</td>\n",
       "      <td>1068.0</td>\n",
       "      <td>1959.166</td>\n",
       "      <td>33.788</td>\n",
       "      <td>14117.0</td>\n",
       "      <td>3271.289</td>\n",
       "      <td>38.489</td>\n",
       "      <td>0.076</td>\n",
       "      <td>2009</td>\n",
       "    </tr>\n",
       "  </tbody>\n",
       "</table>\n",
       "<p>5 rows × 27 columns</p>\n",
       "</div>"
      ],
      "text/plain": [
       "        state        county  year_x  days_with_aqi  good_days  mod_days  \\\n",
       "0  California       Alameda    2009            365        190       162   \n",
       "1  California         Butte    2009            365        185       148   \n",
       "2  California  Contra Costa    2009            365        274        84   \n",
       "3  California     El Dorado    2009            362        240        82   \n",
       "4  California        Fresno    2009            365        109       140   \n",
       "\n",
       "   uh_sens_days  uh_days  v_uh_days  haz_days  ...  days_pm10  year_y  \\\n",
       "0            12        1          0         0  ...          0    2010   \n",
       "1            31        1          0         0  ...          0    2010   \n",
       "2             6        1          0         0  ...          0    2010   \n",
       "3            33        7          0         0  ...          1    2010   \n",
       "4            80       36          0         0  ...          0    2010   \n",
       "\n",
       "   births_low  avg_weight_low  avg_ges_age_low  births_all  avg_weight_all  \\\n",
       "0      1136.0        1980.992           34.260     17700.0        3314.900   \n",
       "1        90.0        1963.467           33.809      1907.0        3390.433   \n",
       "2       669.0        2002.323           34.283     10976.0        3330.618   \n",
       "3        88.0        1981.477           34.511      1410.0        3330.952   \n",
       "4      1068.0        1959.166           33.788     14117.0        3271.289   \n",
       "\n",
       "   avg_ges_age_all  pct_low  year_for_merge  \n",
       "0           38.817    0.064            2009  \n",
       "1           38.850    0.047            2009  \n",
       "2           38.823    0.061            2009  \n",
       "3           38.821    0.062            2009  \n",
       "4           38.489    0.076            2009  \n",
       "\n",
       "[5 rows x 27 columns]"
      ]
     },
     "execution_count": 181,
     "metadata": {},
     "output_type": "execute_result"
    }
   ],
   "source": [
    "merged.head()"
   ]
  },
  {
   "cell_type": "code",
   "execution_count": 182,
   "id": "c16e551d-2716-421b-955b-fe0e38fe5aa5",
   "metadata": {
    "execution": {
     "iopub.execute_input": "2023-01-17T06:24:38.418733Z",
     "iopub.status.busy": "2023-01-17T06:24:38.418345Z",
     "iopub.status.idle": "2023-01-17T06:24:38.428267Z",
     "shell.execute_reply": "2023-01-17T06:24:38.426777Z",
     "shell.execute_reply.started": "2023-01-17T06:24:38.418708Z"
    },
    "tags": []
   },
   "outputs": [
    {
     "data": {
      "text/plain": [
       "(5147, 27)"
      ]
     },
     "execution_count": 182,
     "metadata": {},
     "output_type": "execute_result"
    }
   ],
   "source": [
    "merged.shape"
   ]
  },
  {
   "cell_type": "code",
   "execution_count": 183,
   "id": "f3a1fde4-9069-4b41-88fa-4e5f7f54592a",
   "metadata": {
    "execution": {
     "iopub.execute_input": "2023-01-17T06:24:39.989564Z",
     "iopub.status.busy": "2023-01-17T06:24:39.988972Z",
     "iopub.status.idle": "2023-01-17T06:24:39.994611Z",
     "shell.execute_reply": "2023-01-17T06:24:39.993958Z",
     "shell.execute_reply.started": "2023-01-17T06:24:39.989532Z"
    },
    "tags": []
   },
   "outputs": [
    {
     "data": {
      "text/plain": [
       "Index(['state', 'county', 'year_x', 'days_with_aqi', 'good_days', 'mod_days',\n",
       "       'uh_sens_days', 'uh_days', 'v_uh_days', 'haz_days', 'max_aqi',\n",
       "       '90_per_aqi', 'median_aqi', 'days_co', 'days_no2', 'days_ozone',\n",
       "       'days_pm2.5', 'days_pm10', 'year_y', 'births_low', 'avg_weight_low',\n",
       "       'avg_ges_age_low', 'births_all', 'avg_weight_all', 'avg_ges_age_all',\n",
       "       'pct_low', 'year_for_merge'],\n",
       "      dtype='object')"
      ]
     },
     "execution_count": 183,
     "metadata": {},
     "output_type": "execute_result"
    }
   ],
   "source": [
    "merged.columns"
   ]
  },
  {
   "cell_type": "code",
   "execution_count": 184,
   "id": "beaf4aef-84b9-46f2-ac99-4d1f22c01fe3",
   "metadata": {
    "execution": {
     "iopub.execute_input": "2023-01-17T06:24:44.305336Z",
     "iopub.status.busy": "2023-01-17T06:24:44.304902Z",
     "iopub.status.idle": "2023-01-17T06:24:44.314898Z",
     "shell.execute_reply": "2023-01-17T06:24:44.313497Z",
     "shell.execute_reply.started": "2023-01-17T06:24:44.305310Z"
    },
    "tags": []
   },
   "outputs": [],
   "source": [
    "merged.drop(['year_y', 'year_for_merge'],\n",
    "            axis=1, \n",
    "            inplace=True)\n",
    "\n",
    "merged.rename(columns={'year_x': 'year'}, inplace=True)"
   ]
  },
  {
   "cell_type": "code",
   "execution_count": 185,
   "id": "4e0f146b-88e8-41bb-a9af-fcb8d7702cf8",
   "metadata": {
    "execution": {
     "iopub.execute_input": "2023-01-17T06:24:44.776411Z",
     "iopub.status.busy": "2023-01-17T06:24:44.776014Z",
     "iopub.status.idle": "2023-01-17T06:24:44.797570Z",
     "shell.execute_reply": "2023-01-17T06:24:44.797183Z",
     "shell.execute_reply.started": "2023-01-17T06:24:44.776387Z"
    },
    "tags": []
   },
   "outputs": [
    {
     "data": {
      "text/html": [
       "<div>\n",
       "<style scoped>\n",
       "    .dataframe tbody tr th:only-of-type {\n",
       "        vertical-align: middle;\n",
       "    }\n",
       "\n",
       "    .dataframe tbody tr th {\n",
       "        vertical-align: top;\n",
       "    }\n",
       "\n",
       "    .dataframe thead th {\n",
       "        text-align: right;\n",
       "    }\n",
       "</style>\n",
       "<table border=\"1\" class=\"dataframe\">\n",
       "  <thead>\n",
       "    <tr style=\"text-align: right;\">\n",
       "      <th></th>\n",
       "      <th>state</th>\n",
       "      <th>county</th>\n",
       "      <th>year</th>\n",
       "      <th>days_with_aqi</th>\n",
       "      <th>good_days</th>\n",
       "      <th>mod_days</th>\n",
       "      <th>uh_sens_days</th>\n",
       "      <th>uh_days</th>\n",
       "      <th>v_uh_days</th>\n",
       "      <th>haz_days</th>\n",
       "      <th>...</th>\n",
       "      <th>days_ozone</th>\n",
       "      <th>days_pm2.5</th>\n",
       "      <th>days_pm10</th>\n",
       "      <th>births_low</th>\n",
       "      <th>avg_weight_low</th>\n",
       "      <th>avg_ges_age_low</th>\n",
       "      <th>births_all</th>\n",
       "      <th>avg_weight_all</th>\n",
       "      <th>avg_ges_age_all</th>\n",
       "      <th>pct_low</th>\n",
       "    </tr>\n",
       "  </thead>\n",
       "  <tbody>\n",
       "    <tr>\n",
       "      <th>0</th>\n",
       "      <td>California</td>\n",
       "      <td>Alameda</td>\n",
       "      <td>2009</td>\n",
       "      <td>365</td>\n",
       "      <td>190</td>\n",
       "      <td>162</td>\n",
       "      <td>12</td>\n",
       "      <td>1</td>\n",
       "      <td>0</td>\n",
       "      <td>0</td>\n",
       "      <td>...</td>\n",
       "      <td>110</td>\n",
       "      <td>234</td>\n",
       "      <td>0</td>\n",
       "      <td>1136.0</td>\n",
       "      <td>1980.992</td>\n",
       "      <td>34.260</td>\n",
       "      <td>17700.0</td>\n",
       "      <td>3314.900</td>\n",
       "      <td>38.817</td>\n",
       "      <td>0.064</td>\n",
       "    </tr>\n",
       "    <tr>\n",
       "      <th>1</th>\n",
       "      <td>California</td>\n",
       "      <td>Butte</td>\n",
       "      <td>2009</td>\n",
       "      <td>365</td>\n",
       "      <td>185</td>\n",
       "      <td>148</td>\n",
       "      <td>31</td>\n",
       "      <td>1</td>\n",
       "      <td>0</td>\n",
       "      <td>0</td>\n",
       "      <td>...</td>\n",
       "      <td>263</td>\n",
       "      <td>101</td>\n",
       "      <td>0</td>\n",
       "      <td>90.0</td>\n",
       "      <td>1963.467</td>\n",
       "      <td>33.809</td>\n",
       "      <td>1907.0</td>\n",
       "      <td>3390.433</td>\n",
       "      <td>38.850</td>\n",
       "      <td>0.047</td>\n",
       "    </tr>\n",
       "    <tr>\n",
       "      <th>2</th>\n",
       "      <td>California</td>\n",
       "      <td>Contra Costa</td>\n",
       "      <td>2009</td>\n",
       "      <td>365</td>\n",
       "      <td>274</td>\n",
       "      <td>84</td>\n",
       "      <td>6</td>\n",
       "      <td>1</td>\n",
       "      <td>0</td>\n",
       "      <td>0</td>\n",
       "      <td>...</td>\n",
       "      <td>276</td>\n",
       "      <td>78</td>\n",
       "      <td>0</td>\n",
       "      <td>669.0</td>\n",
       "      <td>2002.323</td>\n",
       "      <td>34.283</td>\n",
       "      <td>10976.0</td>\n",
       "      <td>3330.618</td>\n",
       "      <td>38.823</td>\n",
       "      <td>0.061</td>\n",
       "    </tr>\n",
       "  </tbody>\n",
       "</table>\n",
       "<p>3 rows × 25 columns</p>\n",
       "</div>"
      ],
      "text/plain": [
       "        state        county  year  days_with_aqi  good_days  mod_days  \\\n",
       "0  California       Alameda  2009            365        190       162   \n",
       "1  California         Butte  2009            365        185       148   \n",
       "2  California  Contra Costa  2009            365        274        84   \n",
       "\n",
       "   uh_sens_days  uh_days  v_uh_days  haz_days  ...  days_ozone  days_pm2.5  \\\n",
       "0            12        1          0         0  ...         110         234   \n",
       "1            31        1          0         0  ...         263         101   \n",
       "2             6        1          0         0  ...         276          78   \n",
       "\n",
       "   days_pm10  births_low  avg_weight_low  avg_ges_age_low  births_all  \\\n",
       "0          0      1136.0        1980.992           34.260     17700.0   \n",
       "1          0        90.0        1963.467           33.809      1907.0   \n",
       "2          0       669.0        2002.323           34.283     10976.0   \n",
       "\n",
       "   avg_weight_all  avg_ges_age_all  pct_low  \n",
       "0        3314.900           38.817    0.064  \n",
       "1        3390.433           38.850    0.047  \n",
       "2        3330.618           38.823    0.061  \n",
       "\n",
       "[3 rows x 25 columns]"
      ]
     },
     "execution_count": 185,
     "metadata": {},
     "output_type": "execute_result"
    }
   ],
   "source": [
    "merged.head(3)"
   ]
  },
  {
   "cell_type": "code",
   "execution_count": 186,
   "id": "5c8e12c2-a9f4-4f5d-b4c2-acd7c57a64a5",
   "metadata": {
    "execution": {
     "iopub.execute_input": "2023-01-17T06:24:52.526396Z",
     "iopub.status.busy": "2023-01-17T06:24:52.525938Z",
     "iopub.status.idle": "2023-01-17T06:24:52.532362Z",
     "shell.execute_reply": "2023-01-17T06:24:52.531866Z",
     "shell.execute_reply.started": "2023-01-17T06:24:52.526366Z"
    },
    "tags": []
   },
   "outputs": [
    {
     "data": {
      "text/plain": [
       "state      47\n",
       "county    402\n",
       "dtype: int64"
      ]
     },
     "execution_count": 186,
     "metadata": {},
     "output_type": "execute_result"
    }
   ],
   "source": [
    "merged[['state', 'county']].nunique()"
   ]
  },
  {
   "cell_type": "code",
   "execution_count": 187,
   "id": "39c57c00-3441-4d65-9932-83fcf65ad2d4",
   "metadata": {
    "execution": {
     "iopub.execute_input": "2023-01-17T06:24:57.474177Z",
     "iopub.status.busy": "2023-01-17T06:24:57.473460Z",
     "iopub.status.idle": "2023-01-17T06:24:57.488702Z",
     "shell.execute_reply": "2023-01-17T06:24:57.485392Z",
     "shell.execute_reply.started": "2023-01-17T06:24:57.474126Z"
    },
    "tags": []
   },
   "outputs": [],
   "source": [
    "# merged['state'].value_counts()"
   ]
  },
  {
   "cell_type": "markdown",
   "id": "9bbe1aa3-47f7-452b-b979-440c60aac82a",
   "metadata": {},
   "source": [
    "### Export Data"
   ]
  },
  {
   "cell_type": "code",
   "execution_count": 188,
   "id": "18cd569f-e8fe-4a98-bae8-cfb15da8613c",
   "metadata": {
    "execution": {
     "iopub.execute_input": "2023-01-17T06:25:00.362229Z",
     "iopub.status.busy": "2023-01-17T06:25:00.361386Z",
     "iopub.status.idle": "2023-01-17T06:25:00.395682Z",
     "shell.execute_reply": "2023-01-17T06:25:00.395342Z",
     "shell.execute_reply.started": "2023-01-17T06:25:00.362177Z"
    },
    "tags": []
   },
   "outputs": [],
   "source": [
    "# cdc.to_csv('data/cdc_cleaned.csv', index=False)\n",
    "merged.to_csv('data/combined_clean.csv', index=False)"
   ]
  },
  {
   "cell_type": "markdown",
   "id": "db1510e5-1a90-4a90-a8fd-624acc1f21b5",
   "metadata": {},
   "source": [
    "# EDA"
   ]
  },
  {
   "cell_type": "markdown",
   "id": "72982d77-b1c3-4e33-867d-82f759b3a483",
   "metadata": {
    "tags": []
   },
   "source": [
    "## Read Cleaned Data"
   ]
  },
  {
   "cell_type": "code",
   "execution_count": 189,
   "id": "6b3d1864-1e5a-4572-b75f-8110b7121157",
   "metadata": {
    "execution": {
     "iopub.execute_input": "2023-01-17T06:25:02.234570Z",
     "iopub.status.busy": "2023-01-17T06:25:02.234395Z",
     "iopub.status.idle": "2023-01-17T06:25:02.244509Z",
     "shell.execute_reply": "2023-01-17T06:25:02.244190Z",
     "shell.execute_reply.started": "2023-01-17T06:25:02.234557Z"
    },
    "tags": []
   },
   "outputs": [],
   "source": [
    "df = pd.read_csv('data/combined_clean.csv')"
   ]
  },
  {
   "cell_type": "code",
   "execution_count": 190,
   "id": "efcc8c95-356a-4faa-af2d-84191de5c782",
   "metadata": {
    "execution": {
     "iopub.execute_input": "2023-01-17T06:25:02.850440Z",
     "iopub.status.busy": "2023-01-17T06:25:02.849909Z",
     "iopub.status.idle": "2023-01-17T06:25:02.878377Z",
     "shell.execute_reply": "2023-01-17T06:25:02.877958Z",
     "shell.execute_reply.started": "2023-01-17T06:25:02.850412Z"
    },
    "tags": []
   },
   "outputs": [
    {
     "data": {
      "text/html": [
       "<div>\n",
       "<style scoped>\n",
       "    .dataframe tbody tr th:only-of-type {\n",
       "        vertical-align: middle;\n",
       "    }\n",
       "\n",
       "    .dataframe tbody tr th {\n",
       "        vertical-align: top;\n",
       "    }\n",
       "\n",
       "    .dataframe thead th {\n",
       "        text-align: right;\n",
       "    }\n",
       "</style>\n",
       "<table border=\"1\" class=\"dataframe\">\n",
       "  <thead>\n",
       "    <tr style=\"text-align: right;\">\n",
       "      <th></th>\n",
       "      <th>state</th>\n",
       "      <th>county</th>\n",
       "      <th>year</th>\n",
       "      <th>days_with_aqi</th>\n",
       "      <th>good_days</th>\n",
       "      <th>mod_days</th>\n",
       "      <th>uh_sens_days</th>\n",
       "      <th>uh_days</th>\n",
       "      <th>v_uh_days</th>\n",
       "      <th>haz_days</th>\n",
       "      <th>...</th>\n",
       "      <th>days_ozone</th>\n",
       "      <th>days_pm2.5</th>\n",
       "      <th>days_pm10</th>\n",
       "      <th>births_low</th>\n",
       "      <th>avg_weight_low</th>\n",
       "      <th>avg_ges_age_low</th>\n",
       "      <th>births_all</th>\n",
       "      <th>avg_weight_all</th>\n",
       "      <th>avg_ges_age_all</th>\n",
       "      <th>pct_low</th>\n",
       "    </tr>\n",
       "  </thead>\n",
       "  <tbody>\n",
       "    <tr>\n",
       "      <th>0</th>\n",
       "      <td>California</td>\n",
       "      <td>Alameda</td>\n",
       "      <td>2009</td>\n",
       "      <td>365</td>\n",
       "      <td>190</td>\n",
       "      <td>162</td>\n",
       "      <td>12</td>\n",
       "      <td>1</td>\n",
       "      <td>0</td>\n",
       "      <td>0</td>\n",
       "      <td>...</td>\n",
       "      <td>110</td>\n",
       "      <td>234</td>\n",
       "      <td>0</td>\n",
       "      <td>1136.0</td>\n",
       "      <td>1980.992</td>\n",
       "      <td>34.260</td>\n",
       "      <td>17700.0</td>\n",
       "      <td>3314.900</td>\n",
       "      <td>38.817</td>\n",
       "      <td>0.064</td>\n",
       "    </tr>\n",
       "    <tr>\n",
       "      <th>1</th>\n",
       "      <td>California</td>\n",
       "      <td>Butte</td>\n",
       "      <td>2009</td>\n",
       "      <td>365</td>\n",
       "      <td>185</td>\n",
       "      <td>148</td>\n",
       "      <td>31</td>\n",
       "      <td>1</td>\n",
       "      <td>0</td>\n",
       "      <td>0</td>\n",
       "      <td>...</td>\n",
       "      <td>263</td>\n",
       "      <td>101</td>\n",
       "      <td>0</td>\n",
       "      <td>90.0</td>\n",
       "      <td>1963.467</td>\n",
       "      <td>33.809</td>\n",
       "      <td>1907.0</td>\n",
       "      <td>3390.433</td>\n",
       "      <td>38.850</td>\n",
       "      <td>0.047</td>\n",
       "    </tr>\n",
       "    <tr>\n",
       "      <th>2</th>\n",
       "      <td>California</td>\n",
       "      <td>Contra Costa</td>\n",
       "      <td>2009</td>\n",
       "      <td>365</td>\n",
       "      <td>274</td>\n",
       "      <td>84</td>\n",
       "      <td>6</td>\n",
       "      <td>1</td>\n",
       "      <td>0</td>\n",
       "      <td>0</td>\n",
       "      <td>...</td>\n",
       "      <td>276</td>\n",
       "      <td>78</td>\n",
       "      <td>0</td>\n",
       "      <td>669.0</td>\n",
       "      <td>2002.323</td>\n",
       "      <td>34.283</td>\n",
       "      <td>10976.0</td>\n",
       "      <td>3330.618</td>\n",
       "      <td>38.823</td>\n",
       "      <td>0.061</td>\n",
       "    </tr>\n",
       "    <tr>\n",
       "      <th>3</th>\n",
       "      <td>California</td>\n",
       "      <td>El Dorado</td>\n",
       "      <td>2009</td>\n",
       "      <td>362</td>\n",
       "      <td>240</td>\n",
       "      <td>82</td>\n",
       "      <td>33</td>\n",
       "      <td>7</td>\n",
       "      <td>0</td>\n",
       "      <td>0</td>\n",
       "      <td>...</td>\n",
       "      <td>359</td>\n",
       "      <td>2</td>\n",
       "      <td>1</td>\n",
       "      <td>88.0</td>\n",
       "      <td>1981.477</td>\n",
       "      <td>34.511</td>\n",
       "      <td>1410.0</td>\n",
       "      <td>3330.952</td>\n",
       "      <td>38.821</td>\n",
       "      <td>0.062</td>\n",
       "    </tr>\n",
       "    <tr>\n",
       "      <th>4</th>\n",
       "      <td>California</td>\n",
       "      <td>Fresno</td>\n",
       "      <td>2009</td>\n",
       "      <td>365</td>\n",
       "      <td>109</td>\n",
       "      <td>140</td>\n",
       "      <td>80</td>\n",
       "      <td>36</td>\n",
       "      <td>0</td>\n",
       "      <td>0</td>\n",
       "      <td>...</td>\n",
       "      <td>228</td>\n",
       "      <td>129</td>\n",
       "      <td>0</td>\n",
       "      <td>1068.0</td>\n",
       "      <td>1959.166</td>\n",
       "      <td>33.788</td>\n",
       "      <td>14117.0</td>\n",
       "      <td>3271.289</td>\n",
       "      <td>38.489</td>\n",
       "      <td>0.076</td>\n",
       "    </tr>\n",
       "  </tbody>\n",
       "</table>\n",
       "<p>5 rows × 25 columns</p>\n",
       "</div>"
      ],
      "text/plain": [
       "        state        county  year  days_with_aqi  good_days  mod_days  \\\n",
       "0  California       Alameda  2009            365        190       162   \n",
       "1  California         Butte  2009            365        185       148   \n",
       "2  California  Contra Costa  2009            365        274        84   \n",
       "3  California     El Dorado  2009            362        240        82   \n",
       "4  California        Fresno  2009            365        109       140   \n",
       "\n",
       "   uh_sens_days  uh_days  v_uh_days  haz_days  ...  days_ozone  days_pm2.5  \\\n",
       "0            12        1          0         0  ...         110         234   \n",
       "1            31        1          0         0  ...         263         101   \n",
       "2             6        1          0         0  ...         276          78   \n",
       "3            33        7          0         0  ...         359           2   \n",
       "4            80       36          0         0  ...         228         129   \n",
       "\n",
       "   days_pm10  births_low  avg_weight_low  avg_ges_age_low  births_all  \\\n",
       "0          0      1136.0        1980.992           34.260     17700.0   \n",
       "1          0        90.0        1963.467           33.809      1907.0   \n",
       "2          0       669.0        2002.323           34.283     10976.0   \n",
       "3          1        88.0        1981.477           34.511      1410.0   \n",
       "4          0      1068.0        1959.166           33.788     14117.0   \n",
       "\n",
       "   avg_weight_all  avg_ges_age_all  pct_low  \n",
       "0        3314.900           38.817    0.064  \n",
       "1        3390.433           38.850    0.047  \n",
       "2        3330.618           38.823    0.061  \n",
       "3        3330.952           38.821    0.062  \n",
       "4        3271.289           38.489    0.076  \n",
       "\n",
       "[5 rows x 25 columns]"
      ]
     },
     "execution_count": 190,
     "metadata": {},
     "output_type": "execute_result"
    }
   ],
   "source": [
    "df.head()"
   ]
  },
  {
   "cell_type": "code",
   "execution_count": 199,
   "id": "ff2107d5-775e-4ab3-8c93-864b3edf9c03",
   "metadata": {
    "execution": {
     "iopub.execute_input": "2023-01-17T07:18:39.357742Z",
     "iopub.status.busy": "2023-01-17T07:18:39.356420Z",
     "iopub.status.idle": "2023-01-17T07:18:39.403649Z",
     "shell.execute_reply": "2023-01-17T07:18:39.403326Z",
     "shell.execute_reply.started": "2023-01-17T07:18:39.357679Z"
    }
   },
   "outputs": [
    {
     "data": {
      "text/html": [
       "<div>\n",
       "<style scoped>\n",
       "    .dataframe tbody tr th:only-of-type {\n",
       "        vertical-align: middle;\n",
       "    }\n",
       "\n",
       "    .dataframe tbody tr th {\n",
       "        vertical-align: top;\n",
       "    }\n",
       "\n",
       "    .dataframe thead th {\n",
       "        text-align: right;\n",
       "    }\n",
       "</style>\n",
       "<table border=\"1\" class=\"dataframe\">\n",
       "  <thead>\n",
       "    <tr style=\"text-align: right;\">\n",
       "      <th></th>\n",
       "      <th>year</th>\n",
       "      <th>days_with_aqi</th>\n",
       "      <th>good_days</th>\n",
       "      <th>mod_days</th>\n",
       "      <th>uh_sens_days</th>\n",
       "      <th>uh_days</th>\n",
       "      <th>v_uh_days</th>\n",
       "      <th>haz_days</th>\n",
       "      <th>max_aqi</th>\n",
       "      <th>90_per_aqi</th>\n",
       "      <th>...</th>\n",
       "      <th>days_ozone</th>\n",
       "      <th>days_pm2.5</th>\n",
       "      <th>days_pm10</th>\n",
       "      <th>births_low</th>\n",
       "      <th>avg_weight_low</th>\n",
       "      <th>avg_ges_age_low</th>\n",
       "      <th>births_all</th>\n",
       "      <th>avg_weight_all</th>\n",
       "      <th>avg_ges_age_all</th>\n",
       "      <th>pct_low</th>\n",
       "    </tr>\n",
       "  </thead>\n",
       "  <tbody>\n",
       "    <tr>\n",
       "      <th>count</th>\n",
       "      <td>5147.000000</td>\n",
       "      <td>5147.000000</td>\n",
       "      <td>5147.000000</td>\n",
       "      <td>5147.000000</td>\n",
       "      <td>5147.000000</td>\n",
       "      <td>5147.000000</td>\n",
       "      <td>5147.000000</td>\n",
       "      <td>5147.000000</td>\n",
       "      <td>5147.000000</td>\n",
       "      <td>5147.000000</td>\n",
       "      <td>...</td>\n",
       "      <td>5147.000000</td>\n",
       "      <td>5147.000000</td>\n",
       "      <td>5147.00000</td>\n",
       "      <td>5147.000000</td>\n",
       "      <td>5147.000000</td>\n",
       "      <td>5147.000000</td>\n",
       "      <td>5147.000000</td>\n",
       "      <td>5147.000000</td>\n",
       "      <td>5147.000000</td>\n",
       "      <td>5147.000000</td>\n",
       "    </tr>\n",
       "    <tr>\n",
       "      <th>mean</th>\n",
       "      <td>2014.470177</td>\n",
       "      <td>340.891004</td>\n",
       "      <td>248.301146</td>\n",
       "      <td>83.564018</td>\n",
       "      <td>7.328735</td>\n",
       "      <td>1.494657</td>\n",
       "      <td>0.153487</td>\n",
       "      <td>0.048961</td>\n",
       "      <td>131.265786</td>\n",
       "      <td>66.121624</td>\n",
       "      <td>...</td>\n",
       "      <td>190.493880</td>\n",
       "      <td>133.965611</td>\n",
       "      <td>6.59083</td>\n",
       "      <td>345.185739</td>\n",
       "      <td>1990.440703</td>\n",
       "      <td>34.129472</td>\n",
       "      <td>5186.831164</td>\n",
       "      <td>3315.373519</td>\n",
       "      <td>38.653372</td>\n",
       "      <td>0.063958</td>\n",
       "    </tr>\n",
       "    <tr>\n",
       "      <th>std</th>\n",
       "      <td>3.889310</td>\n",
       "      <td>56.577985</td>\n",
       "      <td>70.318863</td>\n",
       "      <td>54.262113</td>\n",
       "      <td>14.682994</td>\n",
       "      <td>6.034146</td>\n",
       "      <td>1.455703</td>\n",
       "      <td>0.564472</td>\n",
       "      <td>70.865337</td>\n",
       "      <td>20.047097</td>\n",
       "      <td>...</td>\n",
       "      <td>98.023442</td>\n",
       "      <td>99.415526</td>\n",
       "      <td>25.30568</td>\n",
       "      <td>613.947676</td>\n",
       "      <td>61.421094</td>\n",
       "      <td>0.497869</td>\n",
       "      <td>9036.072200</td>\n",
       "      <td>65.871336</td>\n",
       "      <td>0.205730</td>\n",
       "      <td>0.013977</td>\n",
       "    </tr>\n",
       "    <tr>\n",
       "      <th>min</th>\n",
       "      <td>2006.000000</td>\n",
       "      <td>11.000000</td>\n",
       "      <td>10.000000</td>\n",
       "      <td>0.000000</td>\n",
       "      <td>0.000000</td>\n",
       "      <td>0.000000</td>\n",
       "      <td>0.000000</td>\n",
       "      <td>0.000000</td>\n",
       "      <td>11.000000</td>\n",
       "      <td>8.000000</td>\n",
       "      <td>...</td>\n",
       "      <td>0.000000</td>\n",
       "      <td>0.000000</td>\n",
       "      <td>0.00000</td>\n",
       "      <td>13.000000</td>\n",
       "      <td>1682.821000</td>\n",
       "      <td>31.750000</td>\n",
       "      <td>399.000000</td>\n",
       "      <td>3065.051000</td>\n",
       "      <td>37.726000</td>\n",
       "      <td>0.025000</td>\n",
       "    </tr>\n",
       "    <tr>\n",
       "      <th>25%</th>\n",
       "      <td>2012.000000</td>\n",
       "      <td>357.000000</td>\n",
       "      <td>206.000000</td>\n",
       "      <td>41.000000</td>\n",
       "      <td>0.000000</td>\n",
       "      <td>0.000000</td>\n",
       "      <td>0.000000</td>\n",
       "      <td>0.000000</td>\n",
       "      <td>97.000000</td>\n",
       "      <td>54.000000</td>\n",
       "      <td>...</td>\n",
       "      <td>140.000000</td>\n",
       "      <td>53.000000</td>\n",
       "      <td>0.00000</td>\n",
       "      <td>86.000000</td>\n",
       "      <td>1952.228500</td>\n",
       "      <td>33.835000</td>\n",
       "      <td>1412.000000</td>\n",
       "      <td>3272.535500</td>\n",
       "      <td>38.529000</td>\n",
       "      <td>0.054000</td>\n",
       "    </tr>\n",
       "    <tr>\n",
       "      <th>50%</th>\n",
       "      <td>2015.000000</td>\n",
       "      <td>365.000000</td>\n",
       "      <td>262.000000</td>\n",
       "      <td>73.000000</td>\n",
       "      <td>2.000000</td>\n",
       "      <td>0.000000</td>\n",
       "      <td>0.000000</td>\n",
       "      <td>0.000000</td>\n",
       "      <td>119.000000</td>\n",
       "      <td>61.000000</td>\n",
       "      <td>...</td>\n",
       "      <td>197.000000</td>\n",
       "      <td>131.000000</td>\n",
       "      <td>0.00000</td>\n",
       "      <td>156.000000</td>\n",
       "      <td>1989.858000</td>\n",
       "      <td>34.125000</td>\n",
       "      <td>2438.000000</td>\n",
       "      <td>3318.490000</td>\n",
       "      <td>38.654000</td>\n",
       "      <td>0.063000</td>\n",
       "    </tr>\n",
       "    <tr>\n",
       "      <th>75%</th>\n",
       "      <td>2018.000000</td>\n",
       "      <td>365.000000</td>\n",
       "      <td>304.000000</td>\n",
       "      <td>117.000000</td>\n",
       "      <td>7.000000</td>\n",
       "      <td>1.000000</td>\n",
       "      <td>0.000000</td>\n",
       "      <td>0.000000</td>\n",
       "      <td>151.000000</td>\n",
       "      <td>73.000000</td>\n",
       "      <td>...</td>\n",
       "      <td>245.000000</td>\n",
       "      <td>198.000000</td>\n",
       "      <td>1.00000</td>\n",
       "      <td>358.500000</td>\n",
       "      <td>2028.574500</td>\n",
       "      <td>34.427000</td>\n",
       "      <td>5392.000000</td>\n",
       "      <td>3362.502000</td>\n",
       "      <td>38.790000</td>\n",
       "      <td>0.072000</td>\n",
       "    </tr>\n",
       "    <tr>\n",
       "      <th>max</th>\n",
       "      <td>2020.000000</td>\n",
       "      <td>366.000000</td>\n",
       "      <td>365.000000</td>\n",
       "      <td>339.000000</td>\n",
       "      <td>122.000000</td>\n",
       "      <td>74.000000</td>\n",
       "      <td>74.000000</td>\n",
       "      <td>18.000000</td>\n",
       "      <td>1635.000000</td>\n",
       "      <td>215.000000</td>\n",
       "      <td>...</td>\n",
       "      <td>366.000000</td>\n",
       "      <td>366.000000</td>\n",
       "      <td>346.00000</td>\n",
       "      <td>9406.000000</td>\n",
       "      <td>2269.811000</td>\n",
       "      <td>36.378000</td>\n",
       "      <td>137740.000000</td>\n",
       "      <td>3498.659000</td>\n",
       "      <td>39.289000</td>\n",
       "      <td>0.138000</td>\n",
       "    </tr>\n",
       "  </tbody>\n",
       "</table>\n",
       "<p>8 rows × 23 columns</p>\n",
       "</div>"
      ],
      "text/plain": [
       "              year  days_with_aqi    good_days     mod_days  uh_sens_days  \\\n",
       "count  5147.000000    5147.000000  5147.000000  5147.000000   5147.000000   \n",
       "mean   2014.470177     340.891004   248.301146    83.564018      7.328735   \n",
       "std       3.889310      56.577985    70.318863    54.262113     14.682994   \n",
       "min    2006.000000      11.000000    10.000000     0.000000      0.000000   \n",
       "25%    2012.000000     357.000000   206.000000    41.000000      0.000000   \n",
       "50%    2015.000000     365.000000   262.000000    73.000000      2.000000   \n",
       "75%    2018.000000     365.000000   304.000000   117.000000      7.000000   \n",
       "max    2020.000000     366.000000   365.000000   339.000000    122.000000   \n",
       "\n",
       "           uh_days    v_uh_days     haz_days      max_aqi   90_per_aqi  ...  \\\n",
       "count  5147.000000  5147.000000  5147.000000  5147.000000  5147.000000  ...   \n",
       "mean      1.494657     0.153487     0.048961   131.265786    66.121624  ...   \n",
       "std       6.034146     1.455703     0.564472    70.865337    20.047097  ...   \n",
       "min       0.000000     0.000000     0.000000    11.000000     8.000000  ...   \n",
       "25%       0.000000     0.000000     0.000000    97.000000    54.000000  ...   \n",
       "50%       0.000000     0.000000     0.000000   119.000000    61.000000  ...   \n",
       "75%       1.000000     0.000000     0.000000   151.000000    73.000000  ...   \n",
       "max      74.000000    74.000000    18.000000  1635.000000   215.000000  ...   \n",
       "\n",
       "        days_ozone   days_pm2.5   days_pm10   births_low  avg_weight_low  \\\n",
       "count  5147.000000  5147.000000  5147.00000  5147.000000     5147.000000   \n",
       "mean    190.493880   133.965611     6.59083   345.185739     1990.440703   \n",
       "std      98.023442    99.415526    25.30568   613.947676       61.421094   \n",
       "min       0.000000     0.000000     0.00000    13.000000     1682.821000   \n",
       "25%     140.000000    53.000000     0.00000    86.000000     1952.228500   \n",
       "50%     197.000000   131.000000     0.00000   156.000000     1989.858000   \n",
       "75%     245.000000   198.000000     1.00000   358.500000     2028.574500   \n",
       "max     366.000000   366.000000   346.00000  9406.000000     2269.811000   \n",
       "\n",
       "       avg_ges_age_low     births_all  avg_weight_all  avg_ges_age_all  \\\n",
       "count      5147.000000    5147.000000     5147.000000      5147.000000   \n",
       "mean         34.129472    5186.831164     3315.373519        38.653372   \n",
       "std           0.497869    9036.072200       65.871336         0.205730   \n",
       "min          31.750000     399.000000     3065.051000        37.726000   \n",
       "25%          33.835000    1412.000000     3272.535500        38.529000   \n",
       "50%          34.125000    2438.000000     3318.490000        38.654000   \n",
       "75%          34.427000    5392.000000     3362.502000        38.790000   \n",
       "max          36.378000  137740.000000     3498.659000        39.289000   \n",
       "\n",
       "           pct_low  \n",
       "count  5147.000000  \n",
       "mean      0.063958  \n",
       "std       0.013977  \n",
       "min       0.025000  \n",
       "25%       0.054000  \n",
       "50%       0.063000  \n",
       "75%       0.072000  \n",
       "max       0.138000  \n",
       "\n",
       "[8 rows x 23 columns]"
      ]
     },
     "execution_count": 199,
     "metadata": {},
     "output_type": "execute_result"
    }
   ],
   "source": [
    "df.describe()"
   ]
  },
  {
   "cell_type": "code",
   "execution_count": 204,
   "id": "37f56e29-5e6f-4f29-b7e0-8c19be874968",
   "metadata": {
    "execution": {
     "iopub.execute_input": "2023-01-17T07:27:03.267502Z",
     "iopub.status.busy": "2023-01-17T07:27:03.266627Z",
     "iopub.status.idle": "2023-01-17T07:27:03.399879Z",
     "shell.execute_reply": "2023-01-17T07:27:03.399449Z",
     "shell.execute_reply.started": "2023-01-17T07:27:03.267465Z"
    },
    "tags": []
   },
   "outputs": [
    {
     "data": {
      "image/png": "[encoded data removed]",
      "text/plain": [
       "<Figure size 500x500 with 1 Axes>"
      ]
     },
     "metadata": {},
     "output_type": "display_data"
    }
   ],
   "source": [
    "sns.displot(df['pct_low']);"
   ]
  },
  {
   "cell_type": "code",
   "execution_count": 208,
   "id": "d527380a-9e87-4dd5-be4e-eacd33ad002f",
   "metadata": {
    "execution": {
     "iopub.execute_input": "2023-01-17T07:30:52.189792Z",
     "iopub.status.busy": "2023-01-17T07:30:52.188774Z",
     "iopub.status.idle": "2023-01-17T07:30:52.310556Z",
     "shell.execute_reply": "2023-01-17T07:30:52.310013Z",
     "shell.execute_reply.started": "2023-01-17T07:30:52.189736Z"
    },
    "tags": []
   },
   "outputs": [
    {
     "data": {
      "text/plain": [
       "<seaborn.axisgrid.FacetGrid at 0x17f88bc40>"
      ]
     },
     "execution_count": 208,
     "metadata": {},
     "output_type": "execute_result"
    },
    {
     "data": {
      "image/png": "[encoded data removed]",
      "text/plain": [
       "<Figure size 500x500 with 1 Axes>"
      ]
     },
     "metadata": {},
     "output_type": "display_data"
    }
   ],
   "source": [
    "sns.displot(df['90_per_aqi'],\n",
    "            bins=30)"
   ]
  },
  {
   "cell_type": "code",
   "execution_count": 210,
   "id": "b7591f78-0764-46d8-b275-1c00ab210558",
   "metadata": {
    "execution": {
     "iopub.execute_input": "2023-01-17T07:35:58.750383Z",
     "iopub.status.busy": "2023-01-17T07:35:58.749616Z",
     "iopub.status.idle": "2023-01-17T07:35:58.898166Z",
     "shell.execute_reply": "2023-01-17T07:35:58.897718Z",
     "shell.execute_reply.started": "2023-01-17T07:35:58.750339Z"
    },
    "tags": []
   },
   "outputs": [
    {
     "data": {
      "text/plain": [
       "<seaborn.axisgrid.FacetGrid at 0x17f2d9af0>"
      ]
     },
     "execution_count": 210,
     "metadata": {},
     "output_type": "execute_result"
    },
    {
     "data": {
      "image/png": "[encoded data removed]",
      "text/plain": [
       "<Figure size 500x500 with 1 Axes>"
      ]
     },
     "metadata": {},
     "output_type": "display_data"
    }
   ],
   "source": [
    "sns.displot(df['days_ozone'])"
   ]
  },
  {
   "cell_type": "code",
   "execution_count": 211,
   "id": "ce430502-401e-4d27-9dfd-931f9a3b5e0d",
   "metadata": {
    "execution": {
     "iopub.execute_input": "2023-01-17T07:36:36.720484Z",
     "iopub.status.busy": "2023-01-17T07:36:36.720026Z",
     "iopub.status.idle": "2023-01-17T07:36:36.843961Z",
     "shell.execute_reply": "2023-01-17T07:36:36.843628Z",
     "shell.execute_reply.started": "2023-01-17T07:36:36.720459Z"
    }
   },
   "outputs": [
    {
     "data": {
      "text/plain": [
       "<seaborn.axisgrid.FacetGrid at 0x17f9c61f0>"
      ]
     },
     "execution_count": 211,
     "metadata": {},
     "output_type": "execute_result"
    },
    {
     "data": {
      "image/png": "[encoded data removed]",
      "text/plain": [
       "<Figure size 500x500 with 1 Axes>"
      ]
     },
     "metadata": {},
     "output_type": "display_data"
    }
   ],
   "source": [
    "sns.displot(df['days_pm2.5'])"
   ]
  },
  {
   "cell_type": "code",
   "execution_count": 212,
   "id": "f52c388c-2944-43d5-a597-348f0c3c0388",
   "metadata": {
    "execution": {
     "iopub.execute_input": "2023-01-17T07:36:56.277921Z",
     "iopub.status.busy": "2023-01-17T07:36:56.276689Z",
     "iopub.status.idle": "2023-01-17T07:36:57.859617Z",
     "shell.execute_reply": "2023-01-17T07:36:57.859257Z",
     "shell.execute_reply.started": "2023-01-17T07:36:56.277863Z"
    }
   },
   "outputs": [
    {
     "data": {
      "text/plain": [
       "<seaborn.axisgrid.FacetGrid at 0x17f811ee0>"
      ]
     },
     "execution_count": 212,
     "metadata": {},
     "output_type": "execute_result"
    },
    {
     "data": {
      "image/png": "[encoded data removed]",
      "text/plain": [
       "<Figure size 500x500 with 1 Axes>"
      ]
     },
     "metadata": {},
     "output_type": "display_data"
    }
   ],
   "source": [
    "sns.displot(df['days_pm10'])"
   ]
  },
  {
   "cell_type": "code",
   "execution_count": 213,
   "id": "621571f2-1bbe-4226-8e35-ac64c0e427a8",
   "metadata": {
    "execution": {
     "iopub.execute_input": "2023-01-17T07:37:36.856292Z",
     "iopub.status.busy": "2023-01-17T07:37:36.855823Z",
     "iopub.status.idle": "2023-01-17T07:37:36.980299Z",
     "shell.execute_reply": "2023-01-17T07:37:36.979900Z",
     "shell.execute_reply.started": "2023-01-17T07:37:36.856271Z"
    }
   },
   "outputs": [
    {
     "data": {
      "text/plain": [
       "<seaborn.axisgrid.FacetGrid at 0x17fbb22e0>"
      ]
     },
     "execution_count": 213,
     "metadata": {},
     "output_type": "execute_result"
    },
    {
     "data": {
      "image/png": "[encoded data removed]",
      "text/plain": [
       "<Figure size 500x500 with 1 Axes>"
      ]
     },
     "metadata": {},
     "output_type": "display_data"
    }
   ],
   "source": [
    "sns.displot(df['good_days'])"
   ]
  },
  {
   "cell_type": "markdown",
   "id": "c53062d1-83df-4539-b01c-3659cebc9deb",
   "metadata": {},
   "source": [
    "What are the state/county combos with the highest percentage of low birthweight?"
   ]
  },
  {
   "cell_type": "code",
   "execution_count": 198,
   "id": "f4119b70-3595-489f-92f3-c7e355b11607",
   "metadata": {
    "execution": {
     "iopub.execute_input": "2023-01-17T07:18:31.183859Z",
     "iopub.status.busy": "2023-01-17T07:18:31.183408Z",
     "iopub.status.idle": "2023-01-17T07:18:31.222922Z",
     "shell.execute_reply": "2023-01-17T07:18:31.222286Z",
     "shell.execute_reply.started": "2023-01-17T07:18:31.183822Z"
    },
    "tags": []
   },
   "outputs": [
    {
     "data": {
      "text/html": [
       "<div>\n",
       "<style scoped>\n",
       "    .dataframe tbody tr th:only-of-type {\n",
       "        vertical-align: middle;\n",
       "    }\n",
       "\n",
       "    .dataframe tbody tr th {\n",
       "        vertical-align: top;\n",
       "    }\n",
       "\n",
       "    .dataframe thead th {\n",
       "        text-align: right;\n",
       "    }\n",
       "</style>\n",
       "<table border=\"1\" class=\"dataframe\">\n",
       "  <thead>\n",
       "    <tr style=\"text-align: right;\">\n",
       "      <th></th>\n",
       "      <th>state</th>\n",
       "      <th>county</th>\n",
       "      <th>year</th>\n",
       "      <th>days_with_aqi</th>\n",
       "      <th>good_days</th>\n",
       "      <th>mod_days</th>\n",
       "      <th>uh_sens_days</th>\n",
       "      <th>uh_days</th>\n",
       "      <th>v_uh_days</th>\n",
       "      <th>haz_days</th>\n",
       "      <th>...</th>\n",
       "      <th>days_ozone</th>\n",
       "      <th>days_pm2.5</th>\n",
       "      <th>days_pm10</th>\n",
       "      <th>births_low</th>\n",
       "      <th>avg_weight_low</th>\n",
       "      <th>avg_ges_age_low</th>\n",
       "      <th>births_all</th>\n",
       "      <th>avg_weight_all</th>\n",
       "      <th>avg_ges_age_all</th>\n",
       "      <th>pct_low</th>\n",
       "    </tr>\n",
       "  </thead>\n",
       "  <tbody>\n",
       "    <tr>\n",
       "      <th>309</th>\n",
       "      <td>Georgia</td>\n",
       "      <td>Clayton</td>\n",
       "      <td>2020</td>\n",
       "      <td>121</td>\n",
       "      <td>103</td>\n",
       "      <td>18</td>\n",
       "      <td>0</td>\n",
       "      <td>0</td>\n",
       "      <td>0</td>\n",
       "      <td>0</td>\n",
       "      <td>...</td>\n",
       "      <td>0</td>\n",
       "      <td>121</td>\n",
       "      <td>0</td>\n",
       "      <td>396.0</td>\n",
       "      <td>1977.646</td>\n",
       "      <td>35.005</td>\n",
       "      <td>2874.0</td>\n",
       "      <td>3078.496</td>\n",
       "      <td>38.191</td>\n",
       "      <td>0.138</td>\n",
       "    </tr>\n",
       "    <tr>\n",
       "      <th>4992</th>\n",
       "      <td>Louisiana</td>\n",
       "      <td>Caddo</td>\n",
       "      <td>2010</td>\n",
       "      <td>363</td>\n",
       "      <td>261</td>\n",
       "      <td>91</td>\n",
       "      <td>11</td>\n",
       "      <td>0</td>\n",
       "      <td>0</td>\n",
       "      <td>0</td>\n",
       "      <td>...</td>\n",
       "      <td>303</td>\n",
       "      <td>60</td>\n",
       "      <td>0</td>\n",
       "      <td>402.0</td>\n",
       "      <td>1977.264</td>\n",
       "      <td>33.945</td>\n",
       "      <td>2986.0</td>\n",
       "      <td>3088.602</td>\n",
       "      <td>37.874</td>\n",
       "      <td>0.135</td>\n",
       "    </tr>\n",
       "    <tr>\n",
       "      <th>1984</th>\n",
       "      <td>Mississippi</td>\n",
       "      <td>Hinds</td>\n",
       "      <td>2014</td>\n",
       "      <td>365</td>\n",
       "      <td>180</td>\n",
       "      <td>184</td>\n",
       "      <td>0</td>\n",
       "      <td>1</td>\n",
       "      <td>0</td>\n",
       "      <td>0</td>\n",
       "      <td>...</td>\n",
       "      <td>91</td>\n",
       "      <td>274</td>\n",
       "      <td>0</td>\n",
       "      <td>363.0</td>\n",
       "      <td>1931.003</td>\n",
       "      <td>33.959</td>\n",
       "      <td>2779.0</td>\n",
       "      <td>3065.051</td>\n",
       "      <td>37.917</td>\n",
       "      <td>0.131</td>\n",
       "    </tr>\n",
       "    <tr>\n",
       "      <th>434</th>\n",
       "      <td>Mississippi</td>\n",
       "      <td>Hinds</td>\n",
       "      <td>2020</td>\n",
       "      <td>366</td>\n",
       "      <td>249</td>\n",
       "      <td>116</td>\n",
       "      <td>1</td>\n",
       "      <td>0</td>\n",
       "      <td>0</td>\n",
       "      <td>0</td>\n",
       "      <td>...</td>\n",
       "      <td>101</td>\n",
       "      <td>265</td>\n",
       "      <td>0</td>\n",
       "      <td>290.0</td>\n",
       "      <td>2035.279</td>\n",
       "      <td>34.610</td>\n",
       "      <td>2226.0</td>\n",
       "      <td>3081.211</td>\n",
       "      <td>37.933</td>\n",
       "      <td>0.130</td>\n",
       "    </tr>\n",
       "    <tr>\n",
       "      <th>4706</th>\n",
       "      <td>Louisiana</td>\n",
       "      <td>Caddo</td>\n",
       "      <td>2011</td>\n",
       "      <td>365</td>\n",
       "      <td>240</td>\n",
       "      <td>107</td>\n",
       "      <td>18</td>\n",
       "      <td>0</td>\n",
       "      <td>0</td>\n",
       "      <td>0</td>\n",
       "      <td>...</td>\n",
       "      <td>297</td>\n",
       "      <td>68</td>\n",
       "      <td>0</td>\n",
       "      <td>372.0</td>\n",
       "      <td>1939.624</td>\n",
       "      <td>33.747</td>\n",
       "      <td>2871.0</td>\n",
       "      <td>3099.827</td>\n",
       "      <td>37.870</td>\n",
       "      <td>0.130</td>\n",
       "    </tr>\n",
       "    <tr>\n",
       "      <th>2864</th>\n",
       "      <td>Mississippi</td>\n",
       "      <td>Hinds</td>\n",
       "      <td>2017</td>\n",
       "      <td>365</td>\n",
       "      <td>256</td>\n",
       "      <td>109</td>\n",
       "      <td>0</td>\n",
       "      <td>0</td>\n",
       "      <td>0</td>\n",
       "      <td>0</td>\n",
       "      <td>...</td>\n",
       "      <td>114</td>\n",
       "      <td>243</td>\n",
       "      <td>0</td>\n",
       "      <td>322.0</td>\n",
       "      <td>1909.012</td>\n",
       "      <td>33.643</td>\n",
       "      <td>2572.0</td>\n",
       "      <td>3069.387</td>\n",
       "      <td>37.916</td>\n",
       "      <td>0.125</td>\n",
       "    </tr>\n",
       "    <tr>\n",
       "      <th>320</th>\n",
       "      <td>Georgia</td>\n",
       "      <td>Richmond</td>\n",
       "      <td>2020</td>\n",
       "      <td>366</td>\n",
       "      <td>268</td>\n",
       "      <td>97</td>\n",
       "      <td>1</td>\n",
       "      <td>0</td>\n",
       "      <td>0</td>\n",
       "      <td>0</td>\n",
       "      <td>...</td>\n",
       "      <td>84</td>\n",
       "      <td>267</td>\n",
       "      <td>15</td>\n",
       "      <td>262.0</td>\n",
       "      <td>1965.233</td>\n",
       "      <td>34.351</td>\n",
       "      <td>2099.0</td>\n",
       "      <td>3124.365</td>\n",
       "      <td>38.307</td>\n",
       "      <td>0.125</td>\n",
       "    </tr>\n",
       "    <tr>\n",
       "      <th>3855</th>\n",
       "      <td>Mississippi</td>\n",
       "      <td>Hinds</td>\n",
       "      <td>2012</td>\n",
       "      <td>366</td>\n",
       "      <td>241</td>\n",
       "      <td>122</td>\n",
       "      <td>2</td>\n",
       "      <td>1</td>\n",
       "      <td>0</td>\n",
       "      <td>0</td>\n",
       "      <td>...</td>\n",
       "      <td>117</td>\n",
       "      <td>249</td>\n",
       "      <td>0</td>\n",
       "      <td>327.0</td>\n",
       "      <td>1986.190</td>\n",
       "      <td>34.217</td>\n",
       "      <td>2668.0</td>\n",
       "      <td>3082.299</td>\n",
       "      <td>37.973</td>\n",
       "      <td>0.123</td>\n",
       "    </tr>\n",
       "    <tr>\n",
       "      <th>1524</th>\n",
       "      <td>Mississippi</td>\n",
       "      <td>Hinds</td>\n",
       "      <td>2019</td>\n",
       "      <td>365</td>\n",
       "      <td>256</td>\n",
       "      <td>109</td>\n",
       "      <td>0</td>\n",
       "      <td>0</td>\n",
       "      <td>0</td>\n",
       "      <td>0</td>\n",
       "      <td>...</td>\n",
       "      <td>143</td>\n",
       "      <td>222</td>\n",
       "      <td>0</td>\n",
       "      <td>290.0</td>\n",
       "      <td>2038.310</td>\n",
       "      <td>34.379</td>\n",
       "      <td>2351.0</td>\n",
       "      <td>3094.378</td>\n",
       "      <td>37.923</td>\n",
       "      <td>0.123</td>\n",
       "    </tr>\n",
       "    <tr>\n",
       "      <th>2403</th>\n",
       "      <td>Mississippi</td>\n",
       "      <td>Hinds</td>\n",
       "      <td>2015</td>\n",
       "      <td>365</td>\n",
       "      <td>217</td>\n",
       "      <td>148</td>\n",
       "      <td>0</td>\n",
       "      <td>0</td>\n",
       "      <td>0</td>\n",
       "      <td>0</td>\n",
       "      <td>...</td>\n",
       "      <td>110</td>\n",
       "      <td>253</td>\n",
       "      <td>0</td>\n",
       "      <td>307.0</td>\n",
       "      <td>1967.857</td>\n",
       "      <td>34.094</td>\n",
       "      <td>2566.0</td>\n",
       "      <td>3085.500</td>\n",
       "      <td>37.993</td>\n",
       "      <td>0.120</td>\n",
       "    </tr>\n",
       "  </tbody>\n",
       "</table>\n",
       "<p>10 rows × 25 columns</p>\n",
       "</div>"
      ],
      "text/plain": [
       "            state    county  year  days_with_aqi  good_days  mod_days  \\\n",
       "309       Georgia   Clayton  2020            121        103        18   \n",
       "4992    Louisiana     Caddo  2010            363        261        91   \n",
       "1984  Mississippi     Hinds  2014            365        180       184   \n",
       "434   Mississippi     Hinds  2020            366        249       116   \n",
       "4706    Louisiana     Caddo  2011            365        240       107   \n",
       "2864  Mississippi     Hinds  2017            365        256       109   \n",
       "320       Georgia  Richmond  2020            366        268        97   \n",
       "3855  Mississippi     Hinds  2012            366        241       122   \n",
       "1524  Mississippi     Hinds  2019            365        256       109   \n",
       "2403  Mississippi     Hinds  2015            365        217       148   \n",
       "\n",
       "      uh_sens_days  uh_days  v_uh_days  haz_days  ...  days_ozone  days_pm2.5  \\\n",
       "309              0        0          0         0  ...           0         121   \n",
       "4992            11        0          0         0  ...         303          60   \n",
       "1984             0        1          0         0  ...          91         274   \n",
       "434              1        0          0         0  ...         101         265   \n",
       "4706            18        0          0         0  ...         297          68   \n",
       "2864             0        0          0         0  ...         114         243   \n",
       "320              1        0          0         0  ...          84         267   \n",
       "3855             2        1          0         0  ...         117         249   \n",
       "1524             0        0          0         0  ...         143         222   \n",
       "2403             0        0          0         0  ...         110         253   \n",
       "\n",
       "      days_pm10  births_low  avg_weight_low  avg_ges_age_low  births_all  \\\n",
       "309           0       396.0        1977.646           35.005      2874.0   \n",
       "4992          0       402.0        1977.264           33.945      2986.0   \n",
       "1984          0       363.0        1931.003           33.959      2779.0   \n",
       "434           0       290.0        2035.279           34.610      2226.0   \n",
       "4706          0       372.0        1939.624           33.747      2871.0   \n",
       "2864          0       322.0        1909.012           33.643      2572.0   \n",
       "320          15       262.0        1965.233           34.351      2099.0   \n",
       "3855          0       327.0        1986.190           34.217      2668.0   \n",
       "1524          0       290.0        2038.310           34.379      2351.0   \n",
       "2403          0       307.0        1967.857           34.094      2566.0   \n",
       "\n",
       "      avg_weight_all  avg_ges_age_all  pct_low  \n",
       "309         3078.496           38.191    0.138  \n",
       "4992        3088.602           37.874    0.135  \n",
       "1984        3065.051           37.917    0.131  \n",
       "434         3081.211           37.933    0.130  \n",
       "4706        3099.827           37.870    0.130  \n",
       "2864        3069.387           37.916    0.125  \n",
       "320         3124.365           38.307    0.125  \n",
       "3855        3082.299           37.973    0.123  \n",
       "1524        3094.378           37.923    0.123  \n",
       "2403        3085.500           37.993    0.120  \n",
       "\n",
       "[10 rows x 25 columns]"
      ]
     },
     "execution_count": 198,
     "metadata": {},
     "output_type": "execute_result"
    }
   ],
   "source": [
    "df.sort_values(by='pct_low', ascending=False).head(10)"
   ]
  },
  {
   "cell_type": "markdown",
   "id": "95ec79b5-ab1e-4896-9833-fdd8e8a14c86",
   "metadata": {},
   "source": [
    "I see there are some entries here that look to have only 120 days or so of recording data (looking at the days_with_aqi).  Let's filter ones that have at least 300 so we're getting at least 10 months of data."
   ]
  },
  {
   "cell_type": "code",
   "execution_count": 195,
   "id": "9a9e7921-975e-46d1-93b2-e99395ceea04",
   "metadata": {
    "execution": {
     "iopub.execute_input": "2023-01-17T07:15:01.526689Z",
     "iopub.status.busy": "2023-01-17T07:15:01.524525Z",
     "iopub.status.idle": "2023-01-17T07:15:01.540607Z",
     "shell.execute_reply": "2023-01-17T07:15:01.540005Z",
     "shell.execute_reply.started": "2023-01-17T07:15:01.526606Z"
    }
   },
   "outputs": [],
   "source": [
    "df_300 = df[df['days_with_aqi'] > 300]"
   ]
  },
  {
   "cell_type": "code",
   "execution_count": 196,
   "id": "0cd83b24-24da-4675-b889-1d20b01c5bc8",
   "metadata": {
    "execution": {
     "iopub.execute_input": "2023-01-17T07:15:28.234846Z",
     "iopub.status.busy": "2023-01-17T07:15:28.233734Z",
     "iopub.status.idle": "2023-01-17T07:15:28.256822Z",
     "shell.execute_reply": "2023-01-17T07:15:28.256398Z",
     "shell.execute_reply.started": "2023-01-17T07:15:28.234785Z"
    }
   },
   "outputs": [
    {
     "data": {
      "text/html": [
       "<div>\n",
       "<style scoped>\n",
       "    .dataframe tbody tr th:only-of-type {\n",
       "        vertical-align: middle;\n",
       "    }\n",
       "\n",
       "    .dataframe tbody tr th {\n",
       "        vertical-align: top;\n",
       "    }\n",
       "\n",
       "    .dataframe thead th {\n",
       "        text-align: right;\n",
       "    }\n",
       "</style>\n",
       "<table border=\"1\" class=\"dataframe\">\n",
       "  <thead>\n",
       "    <tr style=\"text-align: right;\">\n",
       "      <th></th>\n",
       "      <th>state</th>\n",
       "      <th>county</th>\n",
       "      <th>year</th>\n",
       "      <th>days_with_aqi</th>\n",
       "      <th>good_days</th>\n",
       "      <th>mod_days</th>\n",
       "      <th>uh_sens_days</th>\n",
       "      <th>uh_days</th>\n",
       "      <th>v_uh_days</th>\n",
       "      <th>haz_days</th>\n",
       "      <th>...</th>\n",
       "      <th>days_ozone</th>\n",
       "      <th>days_pm2.5</th>\n",
       "      <th>days_pm10</th>\n",
       "      <th>births_low</th>\n",
       "      <th>avg_weight_low</th>\n",
       "      <th>avg_ges_age_low</th>\n",
       "      <th>births_all</th>\n",
       "      <th>avg_weight_all</th>\n",
       "      <th>avg_ges_age_all</th>\n",
       "      <th>pct_low</th>\n",
       "    </tr>\n",
       "  </thead>\n",
       "  <tbody>\n",
       "    <tr>\n",
       "      <th>4992</th>\n",
       "      <td>Louisiana</td>\n",
       "      <td>Caddo</td>\n",
       "      <td>2010</td>\n",
       "      <td>363</td>\n",
       "      <td>261</td>\n",
       "      <td>91</td>\n",
       "      <td>11</td>\n",
       "      <td>0</td>\n",
       "      <td>0</td>\n",
       "      <td>0</td>\n",
       "      <td>...</td>\n",
       "      <td>303</td>\n",
       "      <td>60</td>\n",
       "      <td>0</td>\n",
       "      <td>402.0</td>\n",
       "      <td>1977.264</td>\n",
       "      <td>33.945</td>\n",
       "      <td>2986.0</td>\n",
       "      <td>3088.602</td>\n",
       "      <td>37.874</td>\n",
       "      <td>0.135</td>\n",
       "    </tr>\n",
       "    <tr>\n",
       "      <th>1984</th>\n",
       "      <td>Mississippi</td>\n",
       "      <td>Hinds</td>\n",
       "      <td>2014</td>\n",
       "      <td>365</td>\n",
       "      <td>180</td>\n",
       "      <td>184</td>\n",
       "      <td>0</td>\n",
       "      <td>1</td>\n",
       "      <td>0</td>\n",
       "      <td>0</td>\n",
       "      <td>...</td>\n",
       "      <td>91</td>\n",
       "      <td>274</td>\n",
       "      <td>0</td>\n",
       "      <td>363.0</td>\n",
       "      <td>1931.003</td>\n",
       "      <td>33.959</td>\n",
       "      <td>2779.0</td>\n",
       "      <td>3065.051</td>\n",
       "      <td>37.917</td>\n",
       "      <td>0.131</td>\n",
       "    </tr>\n",
       "    <tr>\n",
       "      <th>434</th>\n",
       "      <td>Mississippi</td>\n",
       "      <td>Hinds</td>\n",
       "      <td>2020</td>\n",
       "      <td>366</td>\n",
       "      <td>249</td>\n",
       "      <td>116</td>\n",
       "      <td>1</td>\n",
       "      <td>0</td>\n",
       "      <td>0</td>\n",
       "      <td>0</td>\n",
       "      <td>...</td>\n",
       "      <td>101</td>\n",
       "      <td>265</td>\n",
       "      <td>0</td>\n",
       "      <td>290.0</td>\n",
       "      <td>2035.279</td>\n",
       "      <td>34.610</td>\n",
       "      <td>2226.0</td>\n",
       "      <td>3081.211</td>\n",
       "      <td>37.933</td>\n",
       "      <td>0.130</td>\n",
       "    </tr>\n",
       "    <tr>\n",
       "      <th>4706</th>\n",
       "      <td>Louisiana</td>\n",
       "      <td>Caddo</td>\n",
       "      <td>2011</td>\n",
       "      <td>365</td>\n",
       "      <td>240</td>\n",
       "      <td>107</td>\n",
       "      <td>18</td>\n",
       "      <td>0</td>\n",
       "      <td>0</td>\n",
       "      <td>0</td>\n",
       "      <td>...</td>\n",
       "      <td>297</td>\n",
       "      <td>68</td>\n",
       "      <td>0</td>\n",
       "      <td>372.0</td>\n",
       "      <td>1939.624</td>\n",
       "      <td>33.747</td>\n",
       "      <td>2871.0</td>\n",
       "      <td>3099.827</td>\n",
       "      <td>37.870</td>\n",
       "      <td>0.130</td>\n",
       "    </tr>\n",
       "    <tr>\n",
       "      <th>320</th>\n",
       "      <td>Georgia</td>\n",
       "      <td>Richmond</td>\n",
       "      <td>2020</td>\n",
       "      <td>366</td>\n",
       "      <td>268</td>\n",
       "      <td>97</td>\n",
       "      <td>1</td>\n",
       "      <td>0</td>\n",
       "      <td>0</td>\n",
       "      <td>0</td>\n",
       "      <td>...</td>\n",
       "      <td>84</td>\n",
       "      <td>267</td>\n",
       "      <td>15</td>\n",
       "      <td>262.0</td>\n",
       "      <td>1965.233</td>\n",
       "      <td>34.351</td>\n",
       "      <td>2099.0</td>\n",
       "      <td>3124.365</td>\n",
       "      <td>38.307</td>\n",
       "      <td>0.125</td>\n",
       "    </tr>\n",
       "    <tr>\n",
       "      <th>2864</th>\n",
       "      <td>Mississippi</td>\n",
       "      <td>Hinds</td>\n",
       "      <td>2017</td>\n",
       "      <td>365</td>\n",
       "      <td>256</td>\n",
       "      <td>109</td>\n",
       "      <td>0</td>\n",
       "      <td>0</td>\n",
       "      <td>0</td>\n",
       "      <td>0</td>\n",
       "      <td>...</td>\n",
       "      <td>114</td>\n",
       "      <td>243</td>\n",
       "      <td>0</td>\n",
       "      <td>322.0</td>\n",
       "      <td>1909.012</td>\n",
       "      <td>33.643</td>\n",
       "      <td>2572.0</td>\n",
       "      <td>3069.387</td>\n",
       "      <td>37.916</td>\n",
       "      <td>0.125</td>\n",
       "    </tr>\n",
       "    <tr>\n",
       "      <th>3855</th>\n",
       "      <td>Mississippi</td>\n",
       "      <td>Hinds</td>\n",
       "      <td>2012</td>\n",
       "      <td>366</td>\n",
       "      <td>241</td>\n",
       "      <td>122</td>\n",
       "      <td>2</td>\n",
       "      <td>1</td>\n",
       "      <td>0</td>\n",
       "      <td>0</td>\n",
       "      <td>...</td>\n",
       "      <td>117</td>\n",
       "      <td>249</td>\n",
       "      <td>0</td>\n",
       "      <td>327.0</td>\n",
       "      <td>1986.190</td>\n",
       "      <td>34.217</td>\n",
       "      <td>2668.0</td>\n",
       "      <td>3082.299</td>\n",
       "      <td>37.973</td>\n",
       "      <td>0.123</td>\n",
       "    </tr>\n",
       "    <tr>\n",
       "      <th>1524</th>\n",
       "      <td>Mississippi</td>\n",
       "      <td>Hinds</td>\n",
       "      <td>2019</td>\n",
       "      <td>365</td>\n",
       "      <td>256</td>\n",
       "      <td>109</td>\n",
       "      <td>0</td>\n",
       "      <td>0</td>\n",
       "      <td>0</td>\n",
       "      <td>0</td>\n",
       "      <td>...</td>\n",
       "      <td>143</td>\n",
       "      <td>222</td>\n",
       "      <td>0</td>\n",
       "      <td>290.0</td>\n",
       "      <td>2038.310</td>\n",
       "      <td>34.379</td>\n",
       "      <td>2351.0</td>\n",
       "      <td>3094.378</td>\n",
       "      <td>37.923</td>\n",
       "      <td>0.123</td>\n",
       "    </tr>\n",
       "    <tr>\n",
       "      <th>2340</th>\n",
       "      <td>Louisiana</td>\n",
       "      <td>Caddo</td>\n",
       "      <td>2015</td>\n",
       "      <td>364</td>\n",
       "      <td>303</td>\n",
       "      <td>61</td>\n",
       "      <td>0</td>\n",
       "      <td>0</td>\n",
       "      <td>0</td>\n",
       "      <td>0</td>\n",
       "      <td>...</td>\n",
       "      <td>278</td>\n",
       "      <td>86</td>\n",
       "      <td>0</td>\n",
       "      <td>303.0</td>\n",
       "      <td>1905.512</td>\n",
       "      <td>33.515</td>\n",
       "      <td>2515.0</td>\n",
       "      <td>3110.653</td>\n",
       "      <td>37.936</td>\n",
       "      <td>0.120</td>\n",
       "    </tr>\n",
       "    <tr>\n",
       "      <th>4386</th>\n",
       "      <td>Virginia</td>\n",
       "      <td>Hampton City</td>\n",
       "      <td>2013</td>\n",
       "      <td>359</td>\n",
       "      <td>313</td>\n",
       "      <td>44</td>\n",
       "      <td>2</td>\n",
       "      <td>0</td>\n",
       "      <td>0</td>\n",
       "      <td>0</td>\n",
       "      <td>...</td>\n",
       "      <td>165</td>\n",
       "      <td>181</td>\n",
       "      <td>0</td>\n",
       "      <td>48.0</td>\n",
       "      <td>1738.479</td>\n",
       "      <td>32.729</td>\n",
       "      <td>399.0</td>\n",
       "      <td>3205.329</td>\n",
       "      <td>38.266</td>\n",
       "      <td>0.120</td>\n",
       "    </tr>\n",
       "  </tbody>\n",
       "</table>\n",
       "<p>10 rows × 25 columns</p>\n",
       "</div>"
      ],
      "text/plain": [
       "            state        county  year  days_with_aqi  good_days  mod_days  \\\n",
       "4992    Louisiana         Caddo  2010            363        261        91   \n",
       "1984  Mississippi         Hinds  2014            365        180       184   \n",
       "434   Mississippi         Hinds  2020            366        249       116   \n",
       "4706    Louisiana         Caddo  2011            365        240       107   \n",
       "320       Georgia      Richmond  2020            366        268        97   \n",
       "2864  Mississippi         Hinds  2017            365        256       109   \n",
       "3855  Mississippi         Hinds  2012            366        241       122   \n",
       "1524  Mississippi         Hinds  2019            365        256       109   \n",
       "2340    Louisiana         Caddo  2015            364        303        61   \n",
       "4386     Virginia  Hampton City  2013            359        313        44   \n",
       "\n",
       "      uh_sens_days  uh_days  v_uh_days  haz_days  ...  days_ozone  days_pm2.5  \\\n",
       "4992            11        0          0         0  ...         303          60   \n",
       "1984             0        1          0         0  ...          91         274   \n",
       "434              1        0          0         0  ...         101         265   \n",
       "4706            18        0          0         0  ...         297          68   \n",
       "320              1        0          0         0  ...          84         267   \n",
       "2864             0        0          0         0  ...         114         243   \n",
       "3855             2        1          0         0  ...         117         249   \n",
       "1524             0        0          0         0  ...         143         222   \n",
       "2340             0        0          0         0  ...         278          86   \n",
       "4386             2        0          0         0  ...         165         181   \n",
       "\n",
       "      days_pm10  births_low  avg_weight_low  avg_ges_age_low  births_all  \\\n",
       "4992          0       402.0        1977.264           33.945      2986.0   \n",
       "1984          0       363.0        1931.003           33.959      2779.0   \n",
       "434           0       290.0        2035.279           34.610      2226.0   \n",
       "4706          0       372.0        1939.624           33.747      2871.0   \n",
       "320          15       262.0        1965.233           34.351      2099.0   \n",
       "2864          0       322.0        1909.012           33.643      2572.0   \n",
       "3855          0       327.0        1986.190           34.217      2668.0   \n",
       "1524          0       290.0        2038.310           34.379      2351.0   \n",
       "2340          0       303.0        1905.512           33.515      2515.0   \n",
       "4386          0        48.0        1738.479           32.729       399.0   \n",
       "\n",
       "      avg_weight_all  avg_ges_age_all  pct_low  \n",
       "4992        3088.602           37.874    0.135  \n",
       "1984        3065.051           37.917    0.131  \n",
       "434         3081.211           37.933    0.130  \n",
       "4706        3099.827           37.870    0.130  \n",
       "320         3124.365           38.307    0.125  \n",
       "2864        3069.387           37.916    0.125  \n",
       "3855        3082.299           37.973    0.123  \n",
       "1524        3094.378           37.923    0.123  \n",
       "2340        3110.653           37.936    0.120  \n",
       "4386        3205.329           38.266    0.120  \n",
       "\n",
       "[10 rows x 25 columns]"
      ]
     },
     "execution_count": 196,
     "metadata": {},
     "output_type": "execute_result"
    }
   ],
   "source": [
    "df_300.sort_values(by='pct_low', ascending=False).head(10)"
   ]
  },
  {
   "cell_type": "markdown",
   "id": "94dd3a8d-25ed-465b-a5a5-1fce9d7aab9b",
   "metadata": {},
   "source": [
    "What are the year/county combinations that have the smallest percentage?"
   ]
  },
  {
   "cell_type": "code",
   "execution_count": 197,
   "id": "41f68309-cf42-4690-ae20-f8046d978b31",
   "metadata": {
    "execution": {
     "iopub.execute_input": "2023-01-17T07:16:39.663358Z",
     "iopub.status.busy": "2023-01-17T07:16:39.661838Z",
     "iopub.status.idle": "2023-01-17T07:16:39.681895Z",
     "shell.execute_reply": "2023-01-17T07:16:39.681496Z",
     "shell.execute_reply.started": "2023-01-17T07:16:39.663314Z"
    }
   },
   "outputs": [
    {
     "data": {
      "text/html": [
       "<div>\n",
       "<style scoped>\n",
       "    .dataframe tbody tr th:only-of-type {\n",
       "        vertical-align: middle;\n",
       "    }\n",
       "\n",
       "    .dataframe tbody tr th {\n",
       "        vertical-align: top;\n",
       "    }\n",
       "\n",
       "    .dataframe thead th {\n",
       "        text-align: right;\n",
       "    }\n",
       "</style>\n",
       "<table border=\"1\" class=\"dataframe\">\n",
       "  <thead>\n",
       "    <tr style=\"text-align: right;\">\n",
       "      <th></th>\n",
       "      <th>state</th>\n",
       "      <th>county</th>\n",
       "      <th>year</th>\n",
       "      <th>days_with_aqi</th>\n",
       "      <th>good_days</th>\n",
       "      <th>mod_days</th>\n",
       "      <th>uh_sens_days</th>\n",
       "      <th>uh_days</th>\n",
       "      <th>v_uh_days</th>\n",
       "      <th>haz_days</th>\n",
       "      <th>...</th>\n",
       "      <th>days_ozone</th>\n",
       "      <th>days_pm2.5</th>\n",
       "      <th>days_pm10</th>\n",
       "      <th>births_low</th>\n",
       "      <th>avg_weight_low</th>\n",
       "      <th>avg_ges_age_low</th>\n",
       "      <th>births_all</th>\n",
       "      <th>avg_weight_all</th>\n",
       "      <th>avg_ges_age_all</th>\n",
       "      <th>pct_low</th>\n",
       "    </tr>\n",
       "  </thead>\n",
       "  <tbody>\n",
       "    <tr>\n",
       "      <th>494</th>\n",
       "      <td>New York</td>\n",
       "      <td>Tompkins</td>\n",
       "      <td>2020</td>\n",
       "      <td>364</td>\n",
       "      <td>359</td>\n",
       "      <td>5</td>\n",
       "      <td>0</td>\n",
       "      <td>0</td>\n",
       "      <td>0</td>\n",
       "      <td>0</td>\n",
       "      <td>...</td>\n",
       "      <td>364</td>\n",
       "      <td>0</td>\n",
       "      <td>0</td>\n",
       "      <td>13.0</td>\n",
       "      <td>2204.077</td>\n",
       "      <td>35.077</td>\n",
       "      <td>530.0</td>\n",
       "      <td>3403.653</td>\n",
       "      <td>39.079</td>\n",
       "      <td>0.025</td>\n",
       "    </tr>\n",
       "    <tr>\n",
       "      <th>1584</th>\n",
       "      <td>New York</td>\n",
       "      <td>Tompkins</td>\n",
       "      <td>2019</td>\n",
       "      <td>356</td>\n",
       "      <td>349</td>\n",
       "      <td>7</td>\n",
       "      <td>0</td>\n",
       "      <td>0</td>\n",
       "      <td>0</td>\n",
       "      <td>0</td>\n",
       "      <td>...</td>\n",
       "      <td>356</td>\n",
       "      <td>0</td>\n",
       "      <td>0</td>\n",
       "      <td>14.0</td>\n",
       "      <td>2174.000</td>\n",
       "      <td>35.571</td>\n",
       "      <td>510.0</td>\n",
       "      <td>3414.189</td>\n",
       "      <td>39.043</td>\n",
       "      <td>0.027</td>\n",
       "    </tr>\n",
       "    <tr>\n",
       "      <th>1264</th>\n",
       "      <td>Washington</td>\n",
       "      <td>Cowlitz</td>\n",
       "      <td>2018</td>\n",
       "      <td>365</td>\n",
       "      <td>338</td>\n",
       "      <td>23</td>\n",
       "      <td>2</td>\n",
       "      <td>2</td>\n",
       "      <td>0</td>\n",
       "      <td>0</td>\n",
       "      <td>...</td>\n",
       "      <td>0</td>\n",
       "      <td>365</td>\n",
       "      <td>0</td>\n",
       "      <td>23.0</td>\n",
       "      <td>2147.913</td>\n",
       "      <td>35.304</td>\n",
       "      <td>819.0</td>\n",
       "      <td>3456.101</td>\n",
       "      <td>38.976</td>\n",
       "      <td>0.028</td>\n",
       "    </tr>\n",
       "    <tr>\n",
       "      <th>2142</th>\n",
       "      <td>Washington</td>\n",
       "      <td>Cowlitz</td>\n",
       "      <td>2014</td>\n",
       "      <td>323</td>\n",
       "      <td>309</td>\n",
       "      <td>14</td>\n",
       "      <td>0</td>\n",
       "      <td>0</td>\n",
       "      <td>0</td>\n",
       "      <td>0</td>\n",
       "      <td>...</td>\n",
       "      <td>0</td>\n",
       "      <td>323</td>\n",
       "      <td>0</td>\n",
       "      <td>24.0</td>\n",
       "      <td>1982.417</td>\n",
       "      <td>34.125</td>\n",
       "      <td>804.0</td>\n",
       "      <td>3443.707</td>\n",
       "      <td>39.232</td>\n",
       "      <td>0.030</td>\n",
       "    </tr>\n",
       "    <tr>\n",
       "      <th>1636</th>\n",
       "      <td>Oregon</td>\n",
       "      <td>Linn</td>\n",
       "      <td>2019</td>\n",
       "      <td>365</td>\n",
       "      <td>280</td>\n",
       "      <td>83</td>\n",
       "      <td>2</td>\n",
       "      <td>0</td>\n",
       "      <td>0</td>\n",
       "      <td>0</td>\n",
       "      <td>...</td>\n",
       "      <td>0</td>\n",
       "      <td>365</td>\n",
       "      <td>0</td>\n",
       "      <td>33.0</td>\n",
       "      <td>2000.636</td>\n",
       "      <td>33.939</td>\n",
       "      <td>1048.0</td>\n",
       "      <td>3498.659</td>\n",
       "      <td>39.032</td>\n",
       "      <td>0.031</td>\n",
       "    </tr>\n",
       "    <tr>\n",
       "      <th>671</th>\n",
       "      <td>California</td>\n",
       "      <td>Humboldt</td>\n",
       "      <td>2008</td>\n",
       "      <td>364</td>\n",
       "      <td>349</td>\n",
       "      <td>15</td>\n",
       "      <td>0</td>\n",
       "      <td>0</td>\n",
       "      <td>0</td>\n",
       "      <td>0</td>\n",
       "      <td>...</td>\n",
       "      <td>286</td>\n",
       "      <td>50</td>\n",
       "      <td>4</td>\n",
       "      <td>37.0</td>\n",
       "      <td>1884.730</td>\n",
       "      <td>33.556</td>\n",
       "      <td>1168.0</td>\n",
       "      <td>3430.532</td>\n",
       "      <td>38.935</td>\n",
       "      <td>0.032</td>\n",
       "    </tr>\n",
       "    <tr>\n",
       "      <th>3435</th>\n",
       "      <td>Oregon</td>\n",
       "      <td>Linn</td>\n",
       "      <td>2016</td>\n",
       "      <td>366</td>\n",
       "      <td>333</td>\n",
       "      <td>33</td>\n",
       "      <td>0</td>\n",
       "      <td>0</td>\n",
       "      <td>0</td>\n",
       "      <td>0</td>\n",
       "      <td>...</td>\n",
       "      <td>0</td>\n",
       "      <td>366</td>\n",
       "      <td>0</td>\n",
       "      <td>33.0</td>\n",
       "      <td>2068.242</td>\n",
       "      <td>34.424</td>\n",
       "      <td>1027.0</td>\n",
       "      <td>3460.391</td>\n",
       "      <td>39.009</td>\n",
       "      <td>0.032</td>\n",
       "    </tr>\n",
       "    <tr>\n",
       "      <th>1647</th>\n",
       "      <td>Pennsylvania</td>\n",
       "      <td>Centre</td>\n",
       "      <td>2019</td>\n",
       "      <td>365</td>\n",
       "      <td>267</td>\n",
       "      <td>98</td>\n",
       "      <td>0</td>\n",
       "      <td>0</td>\n",
       "      <td>0</td>\n",
       "      <td>0</td>\n",
       "      <td>...</td>\n",
       "      <td>203</td>\n",
       "      <td>162</td>\n",
       "      <td>0</td>\n",
       "      <td>27.0</td>\n",
       "      <td>2042.370</td>\n",
       "      <td>34.296</td>\n",
       "      <td>819.0</td>\n",
       "      <td>3428.707</td>\n",
       "      <td>39.076</td>\n",
       "      <td>0.033</td>\n",
       "    </tr>\n",
       "    <tr>\n",
       "      <th>3076</th>\n",
       "      <td>Wisconsin</td>\n",
       "      <td>La Crosse</td>\n",
       "      <td>2017</td>\n",
       "      <td>360</td>\n",
       "      <td>311</td>\n",
       "      <td>49</td>\n",
       "      <td>0</td>\n",
       "      <td>0</td>\n",
       "      <td>0</td>\n",
       "      <td>0</td>\n",
       "      <td>...</td>\n",
       "      <td>194</td>\n",
       "      <td>166</td>\n",
       "      <td>0</td>\n",
       "      <td>27.0</td>\n",
       "      <td>2059.185</td>\n",
       "      <td>33.889</td>\n",
       "      <td>819.0</td>\n",
       "      <td>3462.660</td>\n",
       "      <td>39.269</td>\n",
       "      <td>0.033</td>\n",
       "    </tr>\n",
       "    <tr>\n",
       "      <th>3443</th>\n",
       "      <td>Pennsylvania</td>\n",
       "      <td>Blair</td>\n",
       "      <td>2016</td>\n",
       "      <td>366</td>\n",
       "      <td>285</td>\n",
       "      <td>79</td>\n",
       "      <td>2</td>\n",
       "      <td>0</td>\n",
       "      <td>0</td>\n",
       "      <td>0</td>\n",
       "      <td>...</td>\n",
       "      <td>196</td>\n",
       "      <td>166</td>\n",
       "      <td>4</td>\n",
       "      <td>28.0</td>\n",
       "      <td>1989.750</td>\n",
       "      <td>34.143</td>\n",
       "      <td>846.0</td>\n",
       "      <td>3410.701</td>\n",
       "      <td>38.995</td>\n",
       "      <td>0.033</td>\n",
       "    </tr>\n",
       "  </tbody>\n",
       "</table>\n",
       "<p>10 rows × 25 columns</p>\n",
       "</div>"
      ],
      "text/plain": [
       "             state     county  year  days_with_aqi  good_days  mod_days  \\\n",
       "494       New York   Tompkins  2020            364        359         5   \n",
       "1584      New York   Tompkins  2019            356        349         7   \n",
       "1264    Washington    Cowlitz  2018            365        338        23   \n",
       "2142    Washington    Cowlitz  2014            323        309        14   \n",
       "1636        Oregon       Linn  2019            365        280        83   \n",
       "671     California   Humboldt  2008            364        349        15   \n",
       "3435        Oregon       Linn  2016            366        333        33   \n",
       "1647  Pennsylvania     Centre  2019            365        267        98   \n",
       "3076     Wisconsin  La Crosse  2017            360        311        49   \n",
       "3443  Pennsylvania      Blair  2016            366        285        79   \n",
       "\n",
       "      uh_sens_days  uh_days  v_uh_days  haz_days  ...  days_ozone  days_pm2.5  \\\n",
       "494              0        0          0         0  ...         364           0   \n",
       "1584             0        0          0         0  ...         356           0   \n",
       "1264             2        2          0         0  ...           0         365   \n",
       "2142             0        0          0         0  ...           0         323   \n",
       "1636             2        0          0         0  ...           0         365   \n",
       "671              0        0          0         0  ...         286          50   \n",
       "3435             0        0          0         0  ...           0         366   \n",
       "1647             0        0          0         0  ...         203         162   \n",
       "3076             0        0          0         0  ...         194         166   \n",
       "3443             2        0          0         0  ...         196         166   \n",
       "\n",
       "      days_pm10  births_low  avg_weight_low  avg_ges_age_low  births_all  \\\n",
       "494           0        13.0        2204.077           35.077       530.0   \n",
       "1584          0        14.0        2174.000           35.571       510.0   \n",
       "1264          0        23.0        2147.913           35.304       819.0   \n",
       "2142          0        24.0        1982.417           34.125       804.0   \n",
       "1636          0        33.0        2000.636           33.939      1048.0   \n",
       "671           4        37.0        1884.730           33.556      1168.0   \n",
       "3435          0        33.0        2068.242           34.424      1027.0   \n",
       "1647          0        27.0        2042.370           34.296       819.0   \n",
       "3076          0        27.0        2059.185           33.889       819.0   \n",
       "3443          4        28.0        1989.750           34.143       846.0   \n",
       "\n",
       "      avg_weight_all  avg_ges_age_all  pct_low  \n",
       "494         3403.653           39.079    0.025  \n",
       "1584        3414.189           39.043    0.027  \n",
       "1264        3456.101           38.976    0.028  \n",
       "2142        3443.707           39.232    0.030  \n",
       "1636        3498.659           39.032    0.031  \n",
       "671         3430.532           38.935    0.032  \n",
       "3435        3460.391           39.009    0.032  \n",
       "1647        3428.707           39.076    0.033  \n",
       "3076        3462.660           39.269    0.033  \n",
       "3443        3410.701           38.995    0.033  \n",
       "\n",
       "[10 rows x 25 columns]"
      ]
     },
     "execution_count": 197,
     "metadata": {},
     "output_type": "execute_result"
    }
   ],
   "source": [
    "df_300.sort_values(by='pct_low', ascending=True).head(10)"
   ]
  },
  {
   "cell_type": "code",
   "execution_count": null,
   "id": "7158c649-7552-4fcc-8602-cf88c955a203",
   "metadata": {},
   "outputs": [],
   "source": []
  },
  {
   "cell_type": "markdown",
   "id": "15a479ab-0f61-4f14-85cd-3f0da481663f",
   "metadata": {},
   "source": [
    "# PARKING LOT"
   ]
  },
  {
   "cell_type": "markdown",
   "id": "e59436ba-338e-4ef4-b24c-c0a12e3997c4",
   "metadata": {},
   "source": [
    "Looking at example data that Winston collected via API"
   ]
  },
  {
   "cell_type": "code",
   "execution_count": null,
   "id": "e7935313-a0d4-4fce-8737-2990be50a6ab",
   "metadata": {},
   "outputs": [],
   "source": [
    "df.drop_duplicates()"
   ]
  },
  {
   "cell_type": "code",
   "execution_count": 220,
   "id": "a82431f2-a3ce-4279-8825-979e953e009f",
   "metadata": {
    "execution": {
     "iopub.execute_input": "2023-01-17T23:49:54.271549Z",
     "iopub.status.busy": "2023-01-17T23:49:54.271259Z",
     "iopub.status.idle": "2023-01-17T23:49:54.310447Z",
     "shell.execute_reply": "2023-01-17T23:49:54.310082Z",
     "shell.execute_reply.started": "2023-01-17T23:49:54.271538Z"
    },
    "tags": []
   },
   "outputs": [],
   "source": [
    "df = pd.read_csv('data/AQS_data_test_Alabama_2006.csv')"
   ]
  },
  {
   "cell_type": "code",
   "execution_count": 221,
   "id": "3758219e-71c8-4408-b97e-e3d86591755d",
   "metadata": {
    "execution": {
     "iopub.execute_input": "2023-01-17T23:49:54.310966Z",
     "iopub.status.busy": "2023-01-17T23:49:54.310868Z",
     "iopub.status.idle": "2023-01-17T23:49:54.324727Z",
     "shell.execute_reply": "2023-01-17T23:49:54.324395Z",
     "shell.execute_reply.started": "2023-01-17T23:49:54.310957Z"
    },
    "tags": []
   },
   "outputs": [
    {
     "data": {
      "text/html": [
       "<div>\n",
       "<style scoped>\n",
       "    .dataframe tbody tr th:only-of-type {\n",
       "        vertical-align: middle;\n",
       "    }\n",
       "\n",
       "    .dataframe tbody tr th {\n",
       "        vertical-align: top;\n",
       "    }\n",
       "\n",
       "    .dataframe thead th {\n",
       "        text-align: right;\n",
       "    }\n",
       "</style>\n",
       "<table border=\"1\" class=\"dataframe\">\n",
       "  <thead>\n",
       "    <tr style=\"text-align: right;\">\n",
       "      <th></th>\n",
       "      <th>state_code</th>\n",
       "      <th>county_code</th>\n",
       "      <th>site_number</th>\n",
       "      <th>parameter_code</th>\n",
       "      <th>poc</th>\n",
       "      <th>latitude</th>\n",
       "      <th>longitude</th>\n",
       "      <th>datum</th>\n",
       "      <th>parameter</th>\n",
       "      <th>sample_duration_code</th>\n",
       "      <th>...</th>\n",
       "      <th>fiftieth_percentile</th>\n",
       "      <th>tenth_percentile</th>\n",
       "      <th>local_site_name</th>\n",
       "      <th>site_address</th>\n",
       "      <th>state</th>\n",
       "      <th>county</th>\n",
       "      <th>city</th>\n",
       "      <th>cbsa_code</th>\n",
       "      <th>cbsa</th>\n",
       "      <th>date_of_last_change</th>\n",
       "    </tr>\n",
       "  </thead>\n",
       "  <tbody>\n",
       "    <tr>\n",
       "      <th>0</th>\n",
       "      <td>1</td>\n",
       "      <td>3</td>\n",
       "      <td>10</td>\n",
       "      <td>44201</td>\n",
       "      <td>1</td>\n",
       "      <td>30.497478</td>\n",
       "      <td>-87.880258</td>\n",
       "      <td>NAD83</td>\n",
       "      <td>Ozone</td>\n",
       "      <td>1</td>\n",
       "      <td>...</td>\n",
       "      <td>0.056</td>\n",
       "      <td>0.035</td>\n",
       "      <td>FAIRHOPE, Alabama</td>\n",
       "      <td>FAIRHOPE HIGH SCHOOL, 1 PIRATE DRIVE, FAIRHOPE...</td>\n",
       "      <td>Alabama</td>\n",
       "      <td>Baldwin</td>\n",
       "      <td>Fairhope</td>\n",
       "      <td>19300.0</td>\n",
       "      <td>Daphne-Fairhope-Foley, AL</td>\n",
       "      <td>2021-12-21</td>\n",
       "    </tr>\n",
       "    <tr>\n",
       "      <th>1</th>\n",
       "      <td>1</td>\n",
       "      <td>3</td>\n",
       "      <td>10</td>\n",
       "      <td>44201</td>\n",
       "      <td>1</td>\n",
       "      <td>30.497478</td>\n",
       "      <td>-87.880258</td>\n",
       "      <td>NAD83</td>\n",
       "      <td>Ozone</td>\n",
       "      <td>W</td>\n",
       "      <td>...</td>\n",
       "      <td>0.050</td>\n",
       "      <td>0.031</td>\n",
       "      <td>FAIRHOPE, Alabama</td>\n",
       "      <td>FAIRHOPE HIGH SCHOOL, 1 PIRATE DRIVE, FAIRHOPE...</td>\n",
       "      <td>Alabama</td>\n",
       "      <td>Baldwin</td>\n",
       "      <td>Fairhope</td>\n",
       "      <td>19300.0</td>\n",
       "      <td>Daphne-Fairhope-Foley, AL</td>\n",
       "      <td>2021-12-21</td>\n",
       "    </tr>\n",
       "    <tr>\n",
       "      <th>2</th>\n",
       "      <td>1</td>\n",
       "      <td>3</td>\n",
       "      <td>10</td>\n",
       "      <td>44201</td>\n",
       "      <td>1</td>\n",
       "      <td>30.497478</td>\n",
       "      <td>-87.880258</td>\n",
       "      <td>NAD83</td>\n",
       "      <td>Ozone</td>\n",
       "      <td>W</td>\n",
       "      <td>...</td>\n",
       "      <td>0.050</td>\n",
       "      <td>0.031</td>\n",
       "      <td>FAIRHOPE, Alabama</td>\n",
       "      <td>FAIRHOPE HIGH SCHOOL, 1 PIRATE DRIVE, FAIRHOPE...</td>\n",
       "      <td>Alabama</td>\n",
       "      <td>Baldwin</td>\n",
       "      <td>Fairhope</td>\n",
       "      <td>19300.0</td>\n",
       "      <td>Daphne-Fairhope-Foley, AL</td>\n",
       "      <td>2021-12-21</td>\n",
       "    </tr>\n",
       "    <tr>\n",
       "      <th>3</th>\n",
       "      <td>1</td>\n",
       "      <td>3</td>\n",
       "      <td>10</td>\n",
       "      <td>88101</td>\n",
       "      <td>1</td>\n",
       "      <td>30.497478</td>\n",
       "      <td>-87.880258</td>\n",
       "      <td>NAD83</td>\n",
       "      <td>PM2.5 - Local Conditions</td>\n",
       "      <td>7</td>\n",
       "      <td>...</td>\n",
       "      <td>10.400</td>\n",
       "      <td>5.000</td>\n",
       "      <td>FAIRHOPE, Alabama</td>\n",
       "      <td>FAIRHOPE HIGH SCHOOL, 1 PIRATE DRIVE, FAIRHOPE...</td>\n",
       "      <td>Alabama</td>\n",
       "      <td>Baldwin</td>\n",
       "      <td>Fairhope</td>\n",
       "      <td>19300.0</td>\n",
       "      <td>Daphne-Fairhope-Foley, AL</td>\n",
       "      <td>2023-01-09</td>\n",
       "    </tr>\n",
       "    <tr>\n",
       "      <th>4</th>\n",
       "      <td>1</td>\n",
       "      <td>3</td>\n",
       "      <td>10</td>\n",
       "      <td>88101</td>\n",
       "      <td>1</td>\n",
       "      <td>30.497478</td>\n",
       "      <td>-87.880258</td>\n",
       "      <td>NAD83</td>\n",
       "      <td>PM2.5 - Local Conditions</td>\n",
       "      <td>7</td>\n",
       "      <td>...</td>\n",
       "      <td>10.400</td>\n",
       "      <td>5.000</td>\n",
       "      <td>FAIRHOPE, Alabama</td>\n",
       "      <td>FAIRHOPE HIGH SCHOOL, 1 PIRATE DRIVE, FAIRHOPE...</td>\n",
       "      <td>Alabama</td>\n",
       "      <td>Baldwin</td>\n",
       "      <td>Fairhope</td>\n",
       "      <td>19300.0</td>\n",
       "      <td>Daphne-Fairhope-Foley, AL</td>\n",
       "      <td>2023-01-09</td>\n",
       "    </tr>\n",
       "  </tbody>\n",
       "</table>\n",
       "<p>5 rows × 56 columns</p>\n",
       "</div>"
      ],
      "text/plain": [
       "   state_code  county_code  site_number  parameter_code  poc   latitude  \\\n",
       "0           1            3           10           44201    1  30.497478   \n",
       "1           1            3           10           44201    1  30.497478   \n",
       "2           1            3           10           44201    1  30.497478   \n",
       "3           1            3           10           88101    1  30.497478   \n",
       "4           1            3           10           88101    1  30.497478   \n",
       "\n",
       "   longitude  datum                 parameter sample_duration_code  ...  \\\n",
       "0 -87.880258  NAD83                     Ozone                    1  ...   \n",
       "1 -87.880258  NAD83                     Ozone                    W  ...   \n",
       "2 -87.880258  NAD83                     Ozone                    W  ...   \n",
       "3 -87.880258  NAD83  PM2.5 - Local Conditions                    7  ...   \n",
       "4 -87.880258  NAD83  PM2.5 - Local Conditions                    7  ...   \n",
       "\n",
       "  fiftieth_percentile tenth_percentile    local_site_name  \\\n",
       "0               0.056            0.035  FAIRHOPE, Alabama   \n",
       "1               0.050            0.031  FAIRHOPE, Alabama   \n",
       "2               0.050            0.031  FAIRHOPE, Alabama   \n",
       "3              10.400            5.000  FAIRHOPE, Alabama   \n",
       "4              10.400            5.000  FAIRHOPE, Alabama   \n",
       "\n",
       "                                        site_address    state   county  \\\n",
       "0  FAIRHOPE HIGH SCHOOL, 1 PIRATE DRIVE, FAIRHOPE...  Alabama  Baldwin   \n",
       "1  FAIRHOPE HIGH SCHOOL, 1 PIRATE DRIVE, FAIRHOPE...  Alabama  Baldwin   \n",
       "2  FAIRHOPE HIGH SCHOOL, 1 PIRATE DRIVE, FAIRHOPE...  Alabama  Baldwin   \n",
       "3  FAIRHOPE HIGH SCHOOL, 1 PIRATE DRIVE, FAIRHOPE...  Alabama  Baldwin   \n",
       "4  FAIRHOPE HIGH SCHOOL, 1 PIRATE DRIVE, FAIRHOPE...  Alabama  Baldwin   \n",
       "\n",
       "       city  cbsa_code                       cbsa date_of_last_change  \n",
       "0  Fairhope    19300.0  Daphne-Fairhope-Foley, AL          2021-12-21  \n",
       "1  Fairhope    19300.0  Daphne-Fairhope-Foley, AL          2021-12-21  \n",
       "2  Fairhope    19300.0  Daphne-Fairhope-Foley, AL          2021-12-21  \n",
       "3  Fairhope    19300.0  Daphne-Fairhope-Foley, AL          2023-01-09  \n",
       "4  Fairhope    19300.0  Daphne-Fairhope-Foley, AL          2023-01-09  \n",
       "\n",
       "[5 rows x 56 columns]"
      ]
     },
     "execution_count": 221,
     "metadata": {},
     "output_type": "execute_result"
    }
   ],
   "source": [
    "df.head()"
   ]
  },
  {
   "cell_type": "code",
   "execution_count": 222,
   "id": "dad0bbc3-d92a-4bb6-8f69-aa5152ece15a",
   "metadata": {
    "execution": {
     "iopub.execute_input": "2023-01-17T23:49:54.325424Z",
     "iopub.status.busy": "2023-01-17T23:49:54.325302Z",
     "iopub.status.idle": "2023-01-17T23:49:54.328360Z",
     "shell.execute_reply": "2023-01-17T23:49:54.328007Z",
     "shell.execute_reply.started": "2023-01-17T23:49:54.325414Z"
    },
    "tags": []
   },
   "outputs": [
    {
     "data": {
      "text/plain": [
       "Index(['state_code', 'county_code', 'site_number', 'parameter_code', 'poc',\n",
       "       'latitude', 'longitude', 'datum', 'parameter', 'sample_duration_code',\n",
       "       'sample_duration', 'pollutant_standard', 'metric_used', 'method',\n",
       "       'year', 'units_of_measure', 'event_type', 'observation_count',\n",
       "       'observation_percent', 'validity_indicator', 'valid_day_count',\n",
       "       'required_day_count', 'exceptional_data_count',\n",
       "       'null_observation_count', 'primary_exceedance_count',\n",
       "       'secondary_exceedance_count', 'certification_indicator',\n",
       "       'arithmetic_mean', 'standard_deviation', 'first_max_value',\n",
       "       'first_max_datetime', 'second_max_value', 'second_max_datetime',\n",
       "       'third_max_value', 'third_max_datetime', 'fourth_max_value',\n",
       "       'fourth_max_datetime', 'first_max_nonoverlap_value',\n",
       "       'first_max_n_o_datetime', 'second_max_nonoverlap_value',\n",
       "       'second_max_n_o_datetime', 'ninety_ninth_percentile',\n",
       "       'ninety_eighth_percentile', 'ninety_fifth_percentile',\n",
       "       'ninetieth_percentile', 'seventy_fifth_percentile',\n",
       "       'fiftieth_percentile', 'tenth_percentile', 'local_site_name',\n",
       "       'site_address', 'state', 'county', 'city', 'cbsa_code', 'cbsa',\n",
       "       'date_of_last_change'],\n",
       "      dtype='object')"
      ]
     },
     "execution_count": 222,
     "metadata": {},
     "output_type": "execute_result"
    }
   ],
   "source": [
    "df.columns"
   ]
  },
  {
   "cell_type": "code",
   "execution_count": 223,
   "id": "1d858962-327e-48be-b405-dba717bf3391",
   "metadata": {
    "execution": {
     "iopub.execute_input": "2023-01-17T23:49:54.329765Z",
     "iopub.status.busy": "2023-01-17T23:49:54.329613Z",
     "iopub.status.idle": "2023-01-17T23:49:54.334321Z",
     "shell.execute_reply": "2023-01-17T23:49:54.333948Z",
     "shell.execute_reply.started": "2023-01-17T23:49:54.329749Z"
    }
   },
   "outputs": [
    {
     "data": {
      "text/plain": [
       "array(['1', 'W', '7', 'X', 'Y', 'Z'], dtype=object)"
      ]
     },
     "execution_count": 223,
     "metadata": {},
     "output_type": "execute_result"
    }
   ],
   "source": [
    "df['sample_duration_code'].unique()"
   ]
  },
  {
   "cell_type": "code",
   "execution_count": 224,
   "id": "b6122bf0-b67c-4a32-bfbc-f31ca59058e5",
   "metadata": {
    "execution": {
     "iopub.execute_input": "2023-01-17T23:49:54.335002Z",
     "iopub.status.busy": "2023-01-17T23:49:54.334903Z",
     "iopub.status.idle": "2023-01-17T23:49:54.343440Z",
     "shell.execute_reply": "2023-01-17T23:49:54.343033Z",
     "shell.execute_reply.started": "2023-01-17T23:49:54.334993Z"
    }
   },
   "outputs": [
    {
     "data": {
      "text/plain": [
       "parameter                 sample_duration_code\n",
       "PM2.5 - Local Conditions  7                       234\n",
       "Ozone                     W                        81\n",
       "                          1                        27\n",
       "PM10 Total 0-10um STP     7                        22\n",
       "Sulfur dioxide            1                         8\n",
       "PM10 Total 0-10um STP     1                         5\n",
       "                          X                         5\n",
       "Sulfur dioxide            X                         4\n",
       "                          Y                         4\n",
       "Carbon monoxide           1                         3\n",
       "                          Z                         3\n",
       "dtype: int64"
      ]
     },
     "execution_count": 224,
     "metadata": {},
     "output_type": "execute_result"
    }
   ],
   "source": [
    "df[['parameter', 'sample_duration_code']].value_counts()"
   ]
  },
  {
   "cell_type": "code",
   "execution_count": 225,
   "id": "b0adcb8e-eb28-40bc-bcc5-5ea550574644",
   "metadata": {
    "execution": {
     "iopub.execute_input": "2023-01-17T23:49:54.344603Z",
     "iopub.status.busy": "2023-01-17T23:49:54.344467Z",
     "iopub.status.idle": "2023-01-17T23:49:54.346581Z",
     "shell.execute_reply": "2023-01-17T23:49:54.346275Z",
     "shell.execute_reply.started": "2023-01-17T23:49:54.344594Z"
    }
   },
   "outputs": [],
   "source": [
    "# df.drop(['Unnamed: 0', 'state_code', 'county_code'], axis=1, inplace=True)"
   ]
  },
  {
   "cell_type": "code",
   "execution_count": 226,
   "id": "37504f44-6b3d-41b9-b95b-ea2bccac565c",
   "metadata": {
    "execution": {
     "iopub.execute_input": "2023-01-17T23:49:54.347364Z",
     "iopub.status.busy": "2023-01-17T23:49:54.347181Z",
     "iopub.status.idle": "2023-01-17T23:49:54.349147Z",
     "shell.execute_reply": "2023-01-17T23:49:54.348762Z",
     "shell.execute_reply.started": "2023-01-17T23:49:54.347348Z"
    }
   },
   "outputs": [],
   "source": [
    "# df.shape"
   ]
  },
  {
   "cell_type": "code",
   "execution_count": 227,
   "id": "7be1f246-38c6-4bb7-b453-ab454b6e2dba",
   "metadata": {
    "execution": {
     "iopub.execute_input": "2023-01-17T23:49:54.349584Z",
     "iopub.status.busy": "2023-01-17T23:49:54.349499Z",
     "iopub.status.idle": "2023-01-17T23:49:54.351681Z",
     "shell.execute_reply": "2023-01-17T23:49:54.351339Z",
     "shell.execute_reply.started": "2023-01-17T23:49:54.349575Z"
    },
    "tags": []
   },
   "outputs": [],
   "source": [
    "# df['county'].unique()"
   ]
  },
  {
   "cell_type": "code",
   "execution_count": 228,
   "id": "570eacd3-88b4-469a-aa11-989bea3d8898",
   "metadata": {
    "execution": {
     "iopub.execute_input": "2023-01-17T23:49:54.352633Z",
     "iopub.status.busy": "2023-01-17T23:49:54.352298Z",
     "iopub.status.idle": "2023-01-17T23:49:54.354370Z",
     "shell.execute_reply": "2023-01-17T23:49:54.354026Z",
     "shell.execute_reply.started": "2023-01-17T23:49:54.352621Z"
    },
    "tags": []
   },
   "outputs": [],
   "source": [
    "# df[(df['state'] == 'Alabama') & (df['county'] == 'Shelby')]['pollutant_standard'].unique()"
   ]
  },
  {
   "cell_type": "markdown",
   "id": "e7843e12-d071-4bac-9c77-ec6d1a15142c",
   "metadata": {},
   "source": [
    "#### Import Data"
   ]
  },
  {
   "cell_type": "markdown",
   "id": "dda053d0-9729-4501-9deb-44e0c69cd65b",
   "metadata": {},
   "source": [
    "The air quality data was downloaded from https://aqs.epa.gov/aqsweb/airdata/download_files.html#Annual as files containing annual data from years 2016-2021.  We are combining these CSV files into a single dataframe and will evaluate whether it will meet the needs for the project, or whether data will need to be collected through the API that the EPA offers for AirData."
   ]
  },
  {
   "cell_type": "code",
   "execution_count": 229,
   "id": "7b8cfe0a-0b74-46d1-b8e9-e02cd795ca07",
   "metadata": {
    "execution": {
     "iopub.execute_input": "2023-01-17T23:49:54.355122Z",
     "iopub.status.busy": "2023-01-17T23:49:54.354851Z",
     "iopub.status.idle": "2023-01-17T23:49:54.446764Z",
     "shell.execute_reply": "2023-01-17T23:49:54.446407Z",
     "shell.execute_reply.started": "2023-01-17T23:49:54.355108Z"
    },
    "tags": []
   },
   "outputs": [],
   "source": [
    "# code from Winston merged with approach from\n",
    "# https://towardsdatascience.com/pandas-concat-tricks-you-should-know-to-speed-up-your-data-analysis-cd3d4fdfe6dd\n",
    "\n",
    "data_path = Path('data/')\n",
    "\n",
    "# create a list of all the AQI csv files\n",
    "dfs = (\n",
    "    pd.read_csv(file) for file in data_path.glob('*_aqi_*') if file.is_file()\n",
    ")\n",
    "\n",
    "# concatenate the dataframes\n",
    "res = pd.concat(dfs)\n",
    "\n",
    "# export the final csv\n",
    "res.to_csv('data/aqi_by_year_2006-2021.csv', index=False)"
   ]
  },
  {
   "cell_type": "markdown",
   "id": "0a6f1434-7add-4313-b1b3-09a2d5f4884d",
   "metadata": {},
   "source": [
    "Read the final CSV for all the AQI data"
   ]
  },
  {
   "cell_type": "code",
   "execution_count": 230,
   "id": "04e99e09-da9f-4496-82c4-0e30295776c5",
   "metadata": {
    "execution": {
     "iopub.execute_input": "2023-01-17T23:49:54.447340Z",
     "iopub.status.busy": "2023-01-17T23:49:54.447238Z",
     "iopub.status.idle": "2023-01-17T23:49:54.461872Z",
     "shell.execute_reply": "2023-01-17T23:49:54.461482Z",
     "shell.execute_reply.started": "2023-01-17T23:49:54.447331Z"
    },
    "tags": []
   },
   "outputs": [],
   "source": [
    "aqi = pd.read_csv('data/aqi_by_year_2006-2021.csv')"
   ]
  },
  {
   "cell_type": "markdown",
   "id": "5e7d7a04-b767-4db5-8c21-4187728216ef",
   "metadata": {},
   "source": [
    "#### General Look and Cleanup"
   ]
  },
  {
   "cell_type": "code",
   "execution_count": 231,
   "id": "6ebe28d0-0354-46a5-8f81-6b4ffb180d21",
   "metadata": {
    "execution": {
     "iopub.execute_input": "2023-01-17T23:49:54.462552Z",
     "iopub.status.busy": "2023-01-17T23:49:54.462441Z",
     "iopub.status.idle": "2023-01-17T23:49:54.468271Z",
     "shell.execute_reply": "2023-01-17T23:49:54.467983Z",
     "shell.execute_reply.started": "2023-01-17T23:49:54.462542Z"
    },
    "tags": []
   },
   "outputs": [
    {
     "data": {
      "text/html": [
       "<div>\n",
       "<style scoped>\n",
       "    .dataframe tbody tr th:only-of-type {\n",
       "        vertical-align: middle;\n",
       "    }\n",
       "\n",
       "    .dataframe tbody tr th {\n",
       "        vertical-align: top;\n",
       "    }\n",
       "\n",
       "    .dataframe thead th {\n",
       "        text-align: right;\n",
       "    }\n",
       "</style>\n",
       "<table border=\"1\" class=\"dataframe\">\n",
       "  <thead>\n",
       "    <tr style=\"text-align: right;\">\n",
       "      <th></th>\n",
       "      <th>State</th>\n",
       "      <th>County</th>\n",
       "      <th>Year</th>\n",
       "      <th>Days with AQI</th>\n",
       "      <th>Good Days</th>\n",
       "      <th>Moderate Days</th>\n",
       "      <th>Unhealthy for Sensitive Groups Days</th>\n",
       "      <th>Unhealthy Days</th>\n",
       "      <th>Very Unhealthy Days</th>\n",
       "      <th>Hazardous Days</th>\n",
       "      <th>Max AQI</th>\n",
       "      <th>90th Percentile AQI</th>\n",
       "      <th>Median AQI</th>\n",
       "      <th>Days CO</th>\n",
       "      <th>Days NO2</th>\n",
       "      <th>Days Ozone</th>\n",
       "      <th>Days PM2.5</th>\n",
       "      <th>Days PM10</th>\n",
       "    </tr>\n",
       "  </thead>\n",
       "  <tbody>\n",
       "    <tr>\n",
       "      <th>0</th>\n",
       "      <td>Alabama</td>\n",
       "      <td>Baldwin</td>\n",
       "      <td>2009</td>\n",
       "      <td>252</td>\n",
       "      <td>218</td>\n",
       "      <td>32</td>\n",
       "      <td>2</td>\n",
       "      <td>0</td>\n",
       "      <td>0</td>\n",
       "      <td>0</td>\n",
       "      <td>136</td>\n",
       "      <td>53</td>\n",
       "      <td>36</td>\n",
       "      <td>0</td>\n",
       "      <td>0</td>\n",
       "      <td>200</td>\n",
       "      <td>52</td>\n",
       "      <td>0</td>\n",
       "    </tr>\n",
       "    <tr>\n",
       "      <th>1</th>\n",
       "      <td>Alabama</td>\n",
       "      <td>Clay</td>\n",
       "      <td>2009</td>\n",
       "      <td>119</td>\n",
       "      <td>97</td>\n",
       "      <td>22</td>\n",
       "      <td>0</td>\n",
       "      <td>0</td>\n",
       "      <td>0</td>\n",
       "      <td>0</td>\n",
       "      <td>94</td>\n",
       "      <td>59</td>\n",
       "      <td>33</td>\n",
       "      <td>0</td>\n",
       "      <td>0</td>\n",
       "      <td>0</td>\n",
       "      <td>119</td>\n",
       "      <td>0</td>\n",
       "    </tr>\n",
       "    <tr>\n",
       "      <th>2</th>\n",
       "      <td>Alabama</td>\n",
       "      <td>Colbert</td>\n",
       "      <td>2009</td>\n",
       "      <td>323</td>\n",
       "      <td>220</td>\n",
       "      <td>103</td>\n",
       "      <td>0</td>\n",
       "      <td>0</td>\n",
       "      <td>0</td>\n",
       "      <td>0</td>\n",
       "      <td>76</td>\n",
       "      <td>60</td>\n",
       "      <td>43</td>\n",
       "      <td>0</td>\n",
       "      <td>0</td>\n",
       "      <td>132</td>\n",
       "      <td>191</td>\n",
       "      <td>0</td>\n",
       "    </tr>\n",
       "    <tr>\n",
       "      <th>3</th>\n",
       "      <td>Alabama</td>\n",
       "      <td>DeKalb</td>\n",
       "      <td>2009</td>\n",
       "      <td>363</td>\n",
       "      <td>311</td>\n",
       "      <td>52</td>\n",
       "      <td>0</td>\n",
       "      <td>0</td>\n",
       "      <td>0</td>\n",
       "      <td>0</td>\n",
       "      <td>100</td>\n",
       "      <td>54</td>\n",
       "      <td>36</td>\n",
       "      <td>0</td>\n",
       "      <td>0</td>\n",
       "      <td>308</td>\n",
       "      <td>55</td>\n",
       "      <td>0</td>\n",
       "    </tr>\n",
       "    <tr>\n",
       "      <th>4</th>\n",
       "      <td>Alabama</td>\n",
       "      <td>Elmore</td>\n",
       "      <td>2009</td>\n",
       "      <td>244</td>\n",
       "      <td>228</td>\n",
       "      <td>16</td>\n",
       "      <td>0</td>\n",
       "      <td>0</td>\n",
       "      <td>0</td>\n",
       "      <td>0</td>\n",
       "      <td>80</td>\n",
       "      <td>49</td>\n",
       "      <td>36</td>\n",
       "      <td>0</td>\n",
       "      <td>0</td>\n",
       "      <td>244</td>\n",
       "      <td>0</td>\n",
       "      <td>0</td>\n",
       "    </tr>\n",
       "  </tbody>\n",
       "</table>\n",
       "</div>"
      ],
      "text/plain": [
       "     State   County  Year  Days with AQI  Good Days  Moderate Days  \\\n",
       "0  Alabama  Baldwin  2009            252        218             32   \n",
       "1  Alabama     Clay  2009            119         97             22   \n",
       "2  Alabama  Colbert  2009            323        220            103   \n",
       "3  Alabama   DeKalb  2009            363        311             52   \n",
       "4  Alabama   Elmore  2009            244        228             16   \n",
       "\n",
       "   Unhealthy for Sensitive Groups Days  Unhealthy Days  Very Unhealthy Days  \\\n",
       "0                                    2               0                    0   \n",
       "1                                    0               0                    0   \n",
       "2                                    0               0                    0   \n",
       "3                                    0               0                    0   \n",
       "4                                    0               0                    0   \n",
       "\n",
       "   Hazardous Days  Max AQI  90th Percentile AQI  Median AQI  Days CO  \\\n",
       "0               0      136                   53          36        0   \n",
       "1               0       94                   59          33        0   \n",
       "2               0       76                   60          43        0   \n",
       "3               0      100                   54          36        0   \n",
       "4               0       80                   49          36        0   \n",
       "\n",
       "   Days NO2  Days Ozone  Days PM2.5  Days PM10  \n",
       "0         0         200          52          0  \n",
       "1         0           0         119          0  \n",
       "2         0         132         191          0  \n",
       "3         0         308          55          0  \n",
       "4         0         244           0          0  "
      ]
     },
     "execution_count": 231,
     "metadata": {},
     "output_type": "execute_result"
    }
   ],
   "source": [
    "aqi.head()"
   ]
  },
  {
   "cell_type": "code",
   "execution_count": 232,
   "id": "64e70772-1680-42f0-81dc-2e5b71be9400",
   "metadata": {
    "execution": {
     "iopub.execute_input": "2023-01-17T23:49:54.471312Z",
     "iopub.status.busy": "2023-01-17T23:49:54.471178Z",
     "iopub.status.idle": "2023-01-17T23:49:54.473622Z",
     "shell.execute_reply": "2023-01-17T23:49:54.473352Z",
     "shell.execute_reply.started": "2023-01-17T23:49:54.471302Z"
    },
    "tags": []
   },
   "outputs": [
    {
     "data": {
      "text/plain": [
       "Index(['State', 'County', 'Year', 'Days with AQI', 'Good Days',\n",
       "       'Moderate Days', 'Unhealthy for Sensitive Groups Days',\n",
       "       'Unhealthy Days', 'Very Unhealthy Days', 'Hazardous Days', 'Max AQI',\n",
       "       '90th Percentile AQI', 'Median AQI', 'Days CO', 'Days NO2',\n",
       "       'Days Ozone', 'Days PM2.5', 'Days PM10'],\n",
       "      dtype='object')"
      ]
     },
     "execution_count": 232,
     "metadata": {},
     "output_type": "execute_result"
    }
   ],
   "source": [
    "aqi.columns"
   ]
  },
  {
   "cell_type": "code",
   "execution_count": 233,
   "id": "f1414960-e9f4-4111-bba0-3a77690b24c6",
   "metadata": {
    "execution": {
     "iopub.execute_input": "2023-01-17T23:49:54.474130Z",
     "iopub.status.busy": "2023-01-17T23:49:54.474043Z",
     "iopub.status.idle": "2023-01-17T23:49:54.476724Z",
     "shell.execute_reply": "2023-01-17T23:49:54.476389Z",
     "shell.execute_reply.started": "2023-01-17T23:49:54.474122Z"
    },
    "tags": []
   },
   "outputs": [
    {
     "data": {
      "text/plain": [
       "(16751, 18)"
      ]
     },
     "execution_count": 233,
     "metadata": {},
     "output_type": "execute_result"
    }
   ],
   "source": [
    "aqi.shape"
   ]
  },
  {
   "cell_type": "code",
   "execution_count": 234,
   "id": "ef6b8b82-0da7-445c-bd47-8b3ab696f9de",
   "metadata": {
    "execution": {
     "iopub.execute_input": "2023-01-17T23:49:54.478235Z",
     "iopub.status.busy": "2023-01-17T23:49:54.477922Z",
     "iopub.status.idle": "2023-01-17T23:49:54.481320Z",
     "shell.execute_reply": "2023-01-17T23:49:54.480990Z",
     "shell.execute_reply.started": "2023-01-17T23:49:54.478213Z"
    },
    "tags": []
   },
   "outputs": [
    {
     "data": {
      "text/plain": [
       "State                                  object\n",
       "County                                 object\n",
       "Year                                    int64\n",
       "Days with AQI                           int64\n",
       "Good Days                               int64\n",
       "Moderate Days                           int64\n",
       "Unhealthy for Sensitive Groups Days     int64\n",
       "Unhealthy Days                          int64\n",
       "Very Unhealthy Days                     int64\n",
       "Hazardous Days                          int64\n",
       "Max AQI                                 int64\n",
       "90th Percentile AQI                     int64\n",
       "Median AQI                              int64\n",
       "Days CO                                 int64\n",
       "Days NO2                                int64\n",
       "Days Ozone                              int64\n",
       "Days PM2.5                              int64\n",
       "Days PM10                               int64\n",
       "dtype: object"
      ]
     },
     "execution_count": 234,
     "metadata": {},
     "output_type": "execute_result"
    }
   ],
   "source": [
    "aqi.dtypes"
   ]
  },
  {
   "cell_type": "code",
   "execution_count": 235,
   "id": "8a711741-3952-4bca-9de2-475d5e2e7503",
   "metadata": {
    "execution": {
     "iopub.execute_input": "2023-01-17T23:49:54.482031Z",
     "iopub.status.busy": "2023-01-17T23:49:54.481887Z",
     "iopub.status.idle": "2023-01-17T23:49:54.485061Z",
     "shell.execute_reply": "2023-01-17T23:49:54.484699Z",
     "shell.execute_reply.started": "2023-01-17T23:49:54.482022Z"
    },
    "tags": []
   },
   "outputs": [],
   "source": [
    "aqi.columns = [col.lower().replace(' ', '_') for col in aqi.columns]"
   ]
  },
  {
   "cell_type": "code",
   "execution_count": 236,
   "id": "7a4b7186-6c7d-4764-8fb2-3a0e42717e04",
   "metadata": {
    "execution": {
     "iopub.execute_input": "2023-01-17T23:49:54.485745Z",
     "iopub.status.busy": "2023-01-17T23:49:54.485644Z",
     "iopub.status.idle": "2023-01-17T23:49:54.488393Z",
     "shell.execute_reply": "2023-01-17T23:49:54.488041Z",
     "shell.execute_reply.started": "2023-01-17T23:49:54.485736Z"
    },
    "tags": []
   },
   "outputs": [
    {
     "data": {
      "text/plain": [
       "Index(['state', 'county', 'year', 'days_with_aqi', 'good_days',\n",
       "       'moderate_days', 'unhealthy_for_sensitive_groups_days',\n",
       "       'unhealthy_days', 'very_unhealthy_days', 'hazardous_days', 'max_aqi',\n",
       "       '90th_percentile_aqi', 'median_aqi', 'days_co', 'days_no2',\n",
       "       'days_ozone', 'days_pm2.5', 'days_pm10'],\n",
       "      dtype='object')"
      ]
     },
     "execution_count": 236,
     "metadata": {},
     "output_type": "execute_result"
    }
   ],
   "source": [
    "aqi.columns"
   ]
  },
  {
   "cell_type": "markdown",
   "id": "b1598d93-2ab4-4923-be8a-d37d5a3e1fcd",
   "metadata": {},
   "source": [
    "#### Rename Columns\n",
    "Mainly to trim the length of some of the column names to make it easier to work with."
   ]
  },
  {
   "cell_type": "code",
   "execution_count": 237,
   "id": "4a9c51ab-2735-478e-8efd-29e56baf9cea",
   "metadata": {
    "execution": {
     "iopub.execute_input": "2023-01-17T23:49:54.489189Z",
     "iopub.status.busy": "2023-01-17T23:49:54.489049Z",
     "iopub.status.idle": "2023-01-17T23:49:54.494113Z",
     "shell.execute_reply": "2023-01-17T23:49:54.493834Z",
     "shell.execute_reply.started": "2023-01-17T23:49:54.489180Z"
    },
    "tags": []
   },
   "outputs": [],
   "source": [
    "aqi.rename(columns={\n",
    "    'moderate_days': 'mod_days',\n",
    "    'unhealthy_for_sensitive_groups_days': 'uh_sens_days',\n",
    "    'unhealthy_days': 'uh_days',\n",
    "    'very_unhealthy_days': 'v_uh_days',\n",
    "    'hazardous_days': 'haz_days',\n",
    "    '90th_percentile_aqi': '90_per_aqi'\n",
    "    }, inplace=True)"
   ]
  },
  {
   "cell_type": "code",
   "execution_count": 238,
   "id": "a6645beb-d1e7-4836-b79c-47d4338b3845",
   "metadata": {
    "execution": {
     "iopub.execute_input": "2023-01-17T23:49:54.494586Z",
     "iopub.status.busy": "2023-01-17T23:49:54.494501Z",
     "iopub.status.idle": "2023-01-17T23:49:54.506773Z",
     "shell.execute_reply": "2023-01-17T23:49:54.506223Z",
     "shell.execute_reply.started": "2023-01-17T23:49:54.494578Z"
    },
    "tags": []
   },
   "outputs": [
    {
     "data": {
      "text/plain": [
       "Series([], dtype: int64)"
      ]
     },
     "execution_count": 238,
     "metadata": {},
     "output_type": "execute_result"
    }
   ],
   "source": [
    "aqi.isnull().sum()[aqi.isnull().sum() > 0]"
   ]
  },
  {
   "cell_type": "code",
   "execution_count": 239,
   "id": "4c1ff902-a36d-4951-99d8-29596f4da118",
   "metadata": {
    "execution": {
     "iopub.execute_input": "2023-01-17T23:49:54.507533Z",
     "iopub.status.busy": "2023-01-17T23:49:54.507382Z",
     "iopub.status.idle": "2023-01-17T23:49:54.515117Z",
     "shell.execute_reply": "2023-01-17T23:49:54.514693Z",
     "shell.execute_reply.started": "2023-01-17T23:49:54.507523Z"
    },
    "tags": []
   },
   "outputs": [
    {
     "data": {
      "text/plain": [
       "state      55\n",
       "county    913\n",
       "dtype: int64"
      ]
     },
     "execution_count": 239,
     "metadata": {},
     "output_type": "execute_result"
    }
   ],
   "source": [
    "aqi[['state', 'county']].nunique()"
   ]
  },
  {
   "cell_type": "markdown",
   "id": "31e252f2-e74c-447b-afe3-4d6f09ea8b44",
   "metadata": {},
   "source": [
    "Since the API call failed me, I found that the annual concentration data looked fairly similar to what we were collecting, so giving that a shot.  I downloaded the annual files for years 2006-2021, so we'll take a shot at seeing if this data can be worked into a solution"
   ]
  },
  {
   "cell_type": "code",
   "execution_count": 342,
   "id": "032d405a-b0fe-4fe4-a1ab-eb80fb8b0a85",
   "metadata": {
    "execution": {
     "iopub.execute_input": "2023-01-18T04:09:24.416674Z",
     "iopub.status.busy": "2023-01-18T04:09:24.415641Z",
     "iopub.status.idle": "2023-01-18T04:09:32.499510Z",
     "shell.execute_reply": "2023-01-18T04:09:32.499088Z",
     "shell.execute_reply.started": "2023-01-18T04:09:24.416618Z"
    },
    "tags": []
   },
   "outputs": [],
   "source": [
    "# code from Winston merged with approach from\n",
    "# https://towardsdatascience.com/pandas-concat-tricks-you-should-know-to-speed-up-your-data-analysis-cd3d4fdfe6dd\n",
    "\n",
    "data_path = Path('data/')\n",
    "\n",
    "# create a list of all the AQI csv files\n",
    "dfs = (\n",
    "    pd.read_csv(file, low_memory=False) for file in data_path.glob('*_conc_*') if file.is_file()\n",
    ")\n",
    "\n",
    "# concatenate the dataframes\n",
    "df = pd.concat(dfs)\n",
    "\n",
    "# export the final csv\n",
    "# res.to_csv('data/aqi_by_year_2006-2021.csv', index=False)"
   ]
  },
  {
   "cell_type": "code",
   "execution_count": 321,
   "id": "132a7ea3-fed9-42c4-a354-a9692027b4b8",
   "metadata": {
    "execution": {
     "iopub.execute_input": "2023-01-18T03:50:00.332255Z",
     "iopub.status.busy": "2023-01-18T03:50:00.332114Z",
     "iopub.status.idle": "2023-01-18T03:50:01.176351Z",
     "shell.execute_reply": "2023-01-18T03:50:01.175967Z",
     "shell.execute_reply.started": "2023-01-18T03:50:00.332245Z"
    },
    "tags": []
   },
   "outputs": [],
   "source": [
    "# in the current data, I think this is akin to completeness_indicator\n",
    "df = df[df['completeness_indicator']=='Y']"
   ]
  },
  {
   "cell_type": "code",
   "execution_count": 343,
   "id": "15b8c654-2399-45c0-968e-b0786942826f",
   "metadata": {
    "execution": {
     "iopub.execute_input": "2023-01-18T04:09:35.854102Z",
     "iopub.status.busy": "2023-01-18T04:09:35.853376Z",
     "iopub.status.idle": "2023-01-18T04:09:35.875375Z",
     "shell.execute_reply": "2023-01-18T04:09:35.874916Z",
     "shell.execute_reply.started": "2023-01-18T04:09:35.854059Z"
    },
    "tags": []
   },
   "outputs": [
    {
     "data": {
      "text/plain": [
       "2006    96108\n",
       "2007    94015\n",
       "2009    92349\n",
       "2008    91375\n",
       "2010    87078\n",
       "2011    85188\n",
       "2012    83792\n",
       "2013    82450\n",
       "2014    82056\n",
       "2015    78842\n",
       "2016    77256\n",
       "2017    73491\n",
       "2018    73431\n",
       "2019    68555\n",
       "2020    68293\n",
       "Name: Year, dtype: int64"
      ]
     },
     "execution_count": 343,
     "metadata": {},
     "output_type": "execute_result"
    }
   ],
   "source": [
    "df['Year'].value_counts()"
   ]
  },
  {
   "cell_type": "code",
   "execution_count": 344,
   "id": "04ce811a-0af3-41c8-a599-53c6ba7d2953",
   "metadata": {
    "execution": {
     "iopub.execute_input": "2023-01-18T04:09:44.591092Z",
     "iopub.status.busy": "2023-01-18T04:09:44.590400Z",
     "iopub.status.idle": "2023-01-18T04:09:44.604112Z",
     "shell.execute_reply": "2023-01-18T04:09:44.601848Z",
     "shell.execute_reply.started": "2023-01-18T04:09:44.591036Z"
    },
    "tags": []
   },
   "outputs": [
    {
     "data": {
      "text/plain": [
       "Index(['State Code', 'County Code', 'Site Num', 'Parameter Code', 'POC',\n",
       "       'Latitude', 'Longitude', 'Datum', 'Parameter Name', 'Sample Duration',\n",
       "       'Pollutant Standard', 'Metric Used', 'Method Name', 'Year',\n",
       "       'Units of Measure', 'Event Type', 'Observation Count',\n",
       "       'Observation Percent', 'Completeness Indicator', 'Valid Day Count',\n",
       "       'Required Day Count', 'Exceptional Data Count', 'Null Data Count',\n",
       "       'Primary Exceedance Count', 'Secondary Exceedance Count',\n",
       "       'Certification Indicator', 'Num Obs Below MDL', 'Arithmetic Mean',\n",
       "       'Arithmetic Standard Dev', '1st Max Value', '1st Max DateTime',\n",
       "       '2nd Max Value', '2nd Max DateTime', '3rd Max Value',\n",
       "       '3rd Max DateTime', '4th Max Value', '4th Max DateTime',\n",
       "       '1st Max Non Overlapping Value', '1st NO Max DateTime',\n",
       "       '2nd Max Non Overlapping Value', '2nd NO Max DateTime',\n",
       "       '99th Percentile', '98th Percentile', '95th Percentile',\n",
       "       '90th Percentile', '75th Percentile', '50th Percentile',\n",
       "       '10th Percentile', 'Local Site Name', 'Address', 'State Name',\n",
       "       'County Name', 'City Name', 'CBSA Name', 'Date of Last Change'],\n",
       "      dtype='object')"
      ]
     },
     "execution_count": 344,
     "metadata": {},
     "output_type": "execute_result"
    }
   ],
   "source": [
    "df.columns"
   ]
  },
  {
   "cell_type": "code",
   "execution_count": 345,
   "id": "425357c8-cf14-4baf-a0a7-9cf3cb2b843b",
   "metadata": {
    "execution": {
     "iopub.execute_input": "2023-01-18T04:09:57.492655Z",
     "iopub.status.busy": "2023-01-18T04:09:57.491929Z",
     "iopub.status.idle": "2023-01-18T04:09:57.503303Z",
     "shell.execute_reply": "2023-01-18T04:09:57.501543Z",
     "shell.execute_reply.started": "2023-01-18T04:09:57.492605Z"
    },
    "tags": []
   },
   "outputs": [],
   "source": [
    "df.columns = [col.lower().replace(' ', '_') for col in df.columns]"
   ]
  },
  {
   "cell_type": "code",
   "execution_count": 346,
   "id": "4fb98e3a-f041-4b35-9305-877c8d783357",
   "metadata": {
    "execution": {
     "iopub.execute_input": "2023-01-18T04:09:57.628715Z",
     "iopub.status.busy": "2023-01-18T04:09:57.626587Z",
     "iopub.status.idle": "2023-01-18T04:09:57.647441Z",
     "shell.execute_reply": "2023-01-18T04:09:57.646712Z",
     "shell.execute_reply.started": "2023-01-18T04:09:57.628654Z"
    },
    "tags": []
   },
   "outputs": [
    {
     "data": {
      "text/plain": [
       "Index(['state_code', 'county_code', 'site_num', 'parameter_code', 'poc',\n",
       "       'latitude', 'longitude', 'datum', 'parameter_name', 'sample_duration',\n",
       "       'pollutant_standard', 'metric_used', 'method_name', 'year',\n",
       "       'units_of_measure', 'event_type', 'observation_count',\n",
       "       'observation_percent', 'completeness_indicator', 'valid_day_count',\n",
       "       'required_day_count', 'exceptional_data_count', 'null_data_count',\n",
       "       'primary_exceedance_count', 'secondary_exceedance_count',\n",
       "       'certification_indicator', 'num_obs_below_mdl', 'arithmetic_mean',\n",
       "       'arithmetic_standard_dev', '1st_max_value', '1st_max_datetime',\n",
       "       '2nd_max_value', '2nd_max_datetime', '3rd_max_value',\n",
       "       '3rd_max_datetime', '4th_max_value', '4th_max_datetime',\n",
       "       '1st_max_non_overlapping_value', '1st_no_max_datetime',\n",
       "       '2nd_max_non_overlapping_value', '2nd_no_max_datetime',\n",
       "       '99th_percentile', '98th_percentile', '95th_percentile',\n",
       "       '90th_percentile', '75th_percentile', '50th_percentile',\n",
       "       '10th_percentile', 'local_site_name', 'address', 'state_name',\n",
       "       'county_name', 'city_name', 'cbsa_name', 'date_of_last_change'],\n",
       "      dtype='object')"
      ]
     },
     "execution_count": 346,
     "metadata": {},
     "output_type": "execute_result"
    }
   ],
   "source": [
    "df.columns"
   ]
  },
  {
   "cell_type": "code",
   "execution_count": 360,
   "id": "fbdda2b8-f3fe-45a4-bab6-cb2c1a9debb9",
   "metadata": {
    "execution": {
     "iopub.execute_input": "2023-01-18T04:19:07.176568Z",
     "iopub.status.busy": "2023-01-18T04:19:07.175830Z",
     "iopub.status.idle": "2023-01-18T04:19:10.866203Z",
     "shell.execute_reply": "2023-01-18T04:19:10.865926Z",
     "shell.execute_reply.started": "2023-01-18T04:19:07.176517Z"
    },
    "tags": []
   },
   "outputs": [
    {
     "data": {
      "text/plain": [
       "pollutant_standard                936671\n",
       "method_name                       133821\n",
       "primary_exceedance_count         1027928\n",
       "secondary_exceedance_count       1042045\n",
       "arithmetic_mean                        5\n",
       "arithmetic_standard_dev                5\n",
       "1st_max_value                          3\n",
       "1st_max_datetime                       3\n",
       "2nd_max_value                       4879\n",
       "2nd_max_datetime                    4879\n",
       "3rd_max_value                       8521\n",
       "3rd_max_datetime                    8521\n",
       "4th_max_value                      12652\n",
       "4th_max_datetime                   12652\n",
       "1st_max_non_overlapping_value    1229179\n",
       "1st_no_max_datetime              1229179\n",
       "2nd_max_non_overlapping_value    1229180\n",
       "2nd_no_max_datetime              1229180\n",
       "local_site_name                    89191\n",
       "address                              823\n",
       "city_name                         241531\n",
       "cbsa_name                         111626\n",
       "dtype: int64"
      ]
     },
     "execution_count": 360,
     "metadata": {},
     "output_type": "execute_result"
    }
   ],
   "source": [
    "df.isna().sum()[df.isna().sum() > 0]"
   ]
  },
  {
   "cell_type": "code",
   "execution_count": 339,
   "id": "4582306e-d8a5-4e25-8fcf-9efb23af1fca",
   "metadata": {
    "execution": {
     "iopub.execute_input": "2023-01-18T04:06:43.710098Z",
     "iopub.status.busy": "2023-01-18T04:06:43.709867Z",
     "iopub.status.idle": "2023-01-18T04:06:43.741188Z",
     "shell.execute_reply": "2023-01-18T04:06:43.740823Z",
     "shell.execute_reply.started": "2023-01-18T04:06:43.710079Z"
    },
    "tags": []
   },
   "outputs": [
    {
     "data": {
      "text/plain": [
       "Y    922230\n",
       "N    404869\n",
       "Name: completeness_indicator, dtype: int64"
      ]
     },
     "execution_count": 339,
     "metadata": {},
     "output_type": "execute_result"
    }
   ],
   "source": [
    "df['completeness_indicator'].value_counts()"
   ]
  },
  {
   "cell_type": "code",
   "execution_count": 361,
   "id": "51b05b6d-5310-4aff-b43b-712b37e9b31b",
   "metadata": {
    "execution": {
     "iopub.execute_input": "2023-01-18T04:26:08.526140Z",
     "iopub.status.busy": "2023-01-18T04:26:08.525136Z",
     "iopub.status.idle": "2023-01-18T04:26:08.542561Z",
     "shell.execute_reply": "2023-01-18T04:26:08.541812Z",
     "shell.execute_reply.started": "2023-01-18T04:26:08.526114Z"
    }
   },
   "outputs": [
    {
     "data": {
      "text/html": [
       "<div>\n",
       "<style scoped>\n",
       "    .dataframe tbody tr th:only-of-type {\n",
       "        vertical-align: middle;\n",
       "    }\n",
       "\n",
       "    .dataframe tbody tr th {\n",
       "        vertical-align: top;\n",
       "    }\n",
       "\n",
       "    .dataframe thead th {\n",
       "        text-align: right;\n",
       "    }\n",
       "</style>\n",
       "<table border=\"1\" class=\"dataframe\">\n",
       "  <thead>\n",
       "    <tr style=\"text-align: right;\">\n",
       "      <th></th>\n",
       "      <th>state_code</th>\n",
       "      <th>county_code</th>\n",
       "      <th>site_num</th>\n",
       "      <th>parameter_code</th>\n",
       "      <th>poc</th>\n",
       "      <th>latitude</th>\n",
       "      <th>longitude</th>\n",
       "      <th>datum</th>\n",
       "      <th>parameter_name</th>\n",
       "      <th>sample_duration</th>\n",
       "      <th>...</th>\n",
       "      <th>75th_percentile</th>\n",
       "      <th>50th_percentile</th>\n",
       "      <th>10th_percentile</th>\n",
       "      <th>local_site_name</th>\n",
       "      <th>address</th>\n",
       "      <th>state_name</th>\n",
       "      <th>county_name</th>\n",
       "      <th>city_name</th>\n",
       "      <th>cbsa_name</th>\n",
       "      <th>date_of_last_change</th>\n",
       "    </tr>\n",
       "  </thead>\n",
       "  <tbody>\n",
       "    <tr>\n",
       "      <th>0</th>\n",
       "      <td>1</td>\n",
       "      <td>3</td>\n",
       "      <td>10</td>\n",
       "      <td>44201</td>\n",
       "      <td>1</td>\n",
       "      <td>30.497478</td>\n",
       "      <td>-87.880258</td>\n",
       "      <td>NAD83</td>\n",
       "      <td>Ozone</td>\n",
       "      <td>1 HOUR</td>\n",
       "      <td>...</td>\n",
       "      <td>0.054</td>\n",
       "      <td>0.044</td>\n",
       "      <td>0.030</td>\n",
       "      <td>FAIRHOPE, Alabama</td>\n",
       "      <td>FAIRHOPE HIGH SCHOOL, 1 PIRATE DRIVE, FAIRHOPE...</td>\n",
       "      <td>Alabama</td>\n",
       "      <td>Baldwin</td>\n",
       "      <td>Fairhope</td>\n",
       "      <td>Daphne-Fairhope-Foley, AL</td>\n",
       "      <td>2021-11-03</td>\n",
       "    </tr>\n",
       "    <tr>\n",
       "      <th>1</th>\n",
       "      <td>1</td>\n",
       "      <td>3</td>\n",
       "      <td>10</td>\n",
       "      <td>44201</td>\n",
       "      <td>1</td>\n",
       "      <td>30.497478</td>\n",
       "      <td>-87.880258</td>\n",
       "      <td>NAD83</td>\n",
       "      <td>Ozone</td>\n",
       "      <td>8-HR RUN AVG BEGIN HOUR</td>\n",
       "      <td>...</td>\n",
       "      <td>0.049</td>\n",
       "      <td>0.039</td>\n",
       "      <td>0.026</td>\n",
       "      <td>FAIRHOPE, Alabama</td>\n",
       "      <td>FAIRHOPE HIGH SCHOOL, 1 PIRATE DRIVE, FAIRHOPE...</td>\n",
       "      <td>Alabama</td>\n",
       "      <td>Baldwin</td>\n",
       "      <td>Fairhope</td>\n",
       "      <td>Daphne-Fairhope-Foley, AL</td>\n",
       "      <td>2021-11-03</td>\n",
       "    </tr>\n",
       "    <tr>\n",
       "      <th>2</th>\n",
       "      <td>1</td>\n",
       "      <td>3</td>\n",
       "      <td>10</td>\n",
       "      <td>44201</td>\n",
       "      <td>1</td>\n",
       "      <td>30.497478</td>\n",
       "      <td>-87.880258</td>\n",
       "      <td>NAD83</td>\n",
       "      <td>Ozone</td>\n",
       "      <td>8-HR RUN AVG BEGIN HOUR</td>\n",
       "      <td>...</td>\n",
       "      <td>0.049</td>\n",
       "      <td>0.039</td>\n",
       "      <td>0.026</td>\n",
       "      <td>FAIRHOPE, Alabama</td>\n",
       "      <td>FAIRHOPE HIGH SCHOOL, 1 PIRATE DRIVE, FAIRHOPE...</td>\n",
       "      <td>Alabama</td>\n",
       "      <td>Baldwin</td>\n",
       "      <td>Fairhope</td>\n",
       "      <td>Daphne-Fairhope-Foley, AL</td>\n",
       "      <td>2021-11-03</td>\n",
       "    </tr>\n",
       "    <tr>\n",
       "      <th>3</th>\n",
       "      <td>1</td>\n",
       "      <td>3</td>\n",
       "      <td>10</td>\n",
       "      <td>44201</td>\n",
       "      <td>1</td>\n",
       "      <td>30.497478</td>\n",
       "      <td>-87.880258</td>\n",
       "      <td>NAD83</td>\n",
       "      <td>Ozone</td>\n",
       "      <td>8-HR RUN AVG BEGIN HOUR</td>\n",
       "      <td>...</td>\n",
       "      <td>0.048</td>\n",
       "      <td>0.039</td>\n",
       "      <td>0.026</td>\n",
       "      <td>FAIRHOPE, Alabama</td>\n",
       "      <td>FAIRHOPE HIGH SCHOOL, 1 PIRATE DRIVE, FAIRHOPE...</td>\n",
       "      <td>Alabama</td>\n",
       "      <td>Baldwin</td>\n",
       "      <td>Fairhope</td>\n",
       "      <td>Daphne-Fairhope-Foley, AL</td>\n",
       "      <td>2021-11-03</td>\n",
       "    </tr>\n",
       "    <tr>\n",
       "      <th>4</th>\n",
       "      <td>1</td>\n",
       "      <td>3</td>\n",
       "      <td>10</td>\n",
       "      <td>88101</td>\n",
       "      <td>1</td>\n",
       "      <td>30.497478</td>\n",
       "      <td>-87.880258</td>\n",
       "      <td>NAD83</td>\n",
       "      <td>PM2.5 - Local Conditions</td>\n",
       "      <td>24 HOUR</td>\n",
       "      <td>...</td>\n",
       "      <td>8.600</td>\n",
       "      <td>6.600</td>\n",
       "      <td>4.000</td>\n",
       "      <td>FAIRHOPE, Alabama</td>\n",
       "      <td>FAIRHOPE HIGH SCHOOL, 1 PIRATE DRIVE, FAIRHOPE...</td>\n",
       "      <td>Alabama</td>\n",
       "      <td>Baldwin</td>\n",
       "      <td>Fairhope</td>\n",
       "      <td>Daphne-Fairhope-Foley, AL</td>\n",
       "      <td>2021-11-03</td>\n",
       "    </tr>\n",
       "  </tbody>\n",
       "</table>\n",
       "<p>5 rows × 55 columns</p>\n",
       "</div>"
      ],
      "text/plain": [
       "  state_code  county_code  site_num  parameter_code  poc   latitude  \\\n",
       "0          1            3        10           44201    1  30.497478   \n",
       "1          1            3        10           44201    1  30.497478   \n",
       "2          1            3        10           44201    1  30.497478   \n",
       "3          1            3        10           44201    1  30.497478   \n",
       "4          1            3        10           88101    1  30.497478   \n",
       "\n",
       "   longitude  datum            parameter_name          sample_duration  ...  \\\n",
       "0 -87.880258  NAD83                     Ozone                   1 HOUR  ...   \n",
       "1 -87.880258  NAD83                     Ozone  8-HR RUN AVG BEGIN HOUR  ...   \n",
       "2 -87.880258  NAD83                     Ozone  8-HR RUN AVG BEGIN HOUR  ...   \n",
       "3 -87.880258  NAD83                     Ozone  8-HR RUN AVG BEGIN HOUR  ...   \n",
       "4 -87.880258  NAD83  PM2.5 - Local Conditions                  24 HOUR  ...   \n",
       "\n",
       "  75th_percentile 50th_percentile 10th_percentile    local_site_name  \\\n",
       "0           0.054           0.044           0.030  FAIRHOPE, Alabama   \n",
       "1           0.049           0.039           0.026  FAIRHOPE, Alabama   \n",
       "2           0.049           0.039           0.026  FAIRHOPE, Alabama   \n",
       "3           0.048           0.039           0.026  FAIRHOPE, Alabama   \n",
       "4           8.600           6.600           4.000  FAIRHOPE, Alabama   \n",
       "\n",
       "                                             address state_name  county_name  \\\n",
       "0  FAIRHOPE HIGH SCHOOL, 1 PIRATE DRIVE, FAIRHOPE...    Alabama      Baldwin   \n",
       "1  FAIRHOPE HIGH SCHOOL, 1 PIRATE DRIVE, FAIRHOPE...    Alabama      Baldwin   \n",
       "2  FAIRHOPE HIGH SCHOOL, 1 PIRATE DRIVE, FAIRHOPE...    Alabama      Baldwin   \n",
       "3  FAIRHOPE HIGH SCHOOL, 1 PIRATE DRIVE, FAIRHOPE...    Alabama      Baldwin   \n",
       "4  FAIRHOPE HIGH SCHOOL, 1 PIRATE DRIVE, FAIRHOPE...    Alabama      Baldwin   \n",
       "\n",
       "   city_name                  cbsa_name  date_of_last_change  \n",
       "0   Fairhope  Daphne-Fairhope-Foley, AL           2021-11-03  \n",
       "1   Fairhope  Daphne-Fairhope-Foley, AL           2021-11-03  \n",
       "2   Fairhope  Daphne-Fairhope-Foley, AL           2021-11-03  \n",
       "3   Fairhope  Daphne-Fairhope-Foley, AL           2021-11-03  \n",
       "4   Fairhope  Daphne-Fairhope-Foley, AL           2021-11-03  \n",
       "\n",
       "[5 rows x 55 columns]"
      ]
     },
     "execution_count": 361,
     "metadata": {},
     "output_type": "execute_result"
    }
   ],
   "source": [
    "df.head()"
   ]
  },
  {
   "cell_type": "code",
   "execution_count": 320,
   "id": "71534eb5-fcb5-4c1a-b9ab-765775f3c705",
   "metadata": {
    "execution": {
     "iopub.execute_input": "2023-01-18T03:50:00.328860Z",
     "iopub.status.busy": "2023-01-18T03:50:00.328765Z",
     "iopub.status.idle": "2023-01-18T03:50:00.331580Z",
     "shell.execute_reply": "2023-01-18T03:50:00.331266Z",
     "shell.execute_reply.started": "2023-01-18T03:50:00.328850Z"
    }
   },
   "outputs": [
    {
     "data": {
      "text/plain": [
       "(1327099, 55)"
      ]
     },
     "execution_count": 320,
     "metadata": {},
     "output_type": "execute_result"
    }
   ],
   "source": [
    "df.shape"
   ]
  },
  {
   "cell_type": "code",
   "execution_count": 74,
   "id": "012cddc6-9520-4de7-89ae-49eb2a0e7140",
   "metadata": {
    "execution": {
     "iopub.execute_input": "2023-01-17T06:03:26.293551Z",
     "iopub.status.busy": "2023-01-17T06:03:26.293380Z",
     "iopub.status.idle": "2023-01-17T06:03:26.299551Z",
     "shell.execute_reply": "2023-01-17T06:03:26.299109Z",
     "shell.execute_reply.started": "2023-01-17T06:03:26.293540Z"
    },
    "tags": []
   },
   "outputs": [],
   "source": [
    "births = pd.read_csv('data/cdc_cleaned.csv')"
   ]
  },
  {
   "cell_type": "code",
   "execution_count": 75,
   "id": "6a38167a-e957-4c37-8fb7-5d8d9bfa2efa",
   "metadata": {
    "execution": {
     "iopub.execute_input": "2023-01-17T06:03:26.300400Z",
     "iopub.status.busy": "2023-01-17T06:03:26.300279Z",
     "iopub.status.idle": "2023-01-17T06:03:26.306272Z",
     "shell.execute_reply": "2023-01-17T06:03:26.305968Z",
     "shell.execute_reply.started": "2023-01-17T06:03:26.300390Z"
    },
    "tags": []
   },
   "outputs": [
    {
     "data": {
      "text/html": [
       "<div>\n",
       "<style scoped>\n",
       "    .dataframe tbody tr th:only-of-type {\n",
       "        vertical-align: middle;\n",
       "    }\n",
       "\n",
       "    .dataframe tbody tr th {\n",
       "        vertical-align: top;\n",
       "    }\n",
       "\n",
       "    .dataframe thead th {\n",
       "        text-align: right;\n",
       "    }\n",
       "</style>\n",
       "<table border=\"1\" class=\"dataframe\">\n",
       "  <thead>\n",
       "    <tr style=\"text-align: right;\">\n",
       "      <th></th>\n",
       "      <th>state</th>\n",
       "      <th>county</th>\n",
       "      <th>year</th>\n",
       "      <th>births_low</th>\n",
       "      <th>avg_weight_low</th>\n",
       "      <th>avg_ges_age_low</th>\n",
       "      <th>births_all</th>\n",
       "      <th>avg_weight_all</th>\n",
       "      <th>avg_ges_age_all</th>\n",
       "      <th>pct_low</th>\n",
       "    </tr>\n",
       "  </thead>\n",
       "  <tbody>\n",
       "    <tr>\n",
       "      <th>0</th>\n",
       "      <td>Alabama</td>\n",
       "      <td>Baldwin</td>\n",
       "      <td>2014</td>\n",
       "      <td>137.0</td>\n",
       "      <td>1995.255</td>\n",
       "      <td>34.051</td>\n",
       "      <td>1724.0</td>\n",
       "      <td>3296.472</td>\n",
       "      <td>38.489</td>\n",
       "      <td>0.079</td>\n",
       "    </tr>\n",
       "    <tr>\n",
       "      <th>1</th>\n",
       "      <td>Alabama</td>\n",
       "      <td>Baldwin</td>\n",
       "      <td>2015</td>\n",
       "      <td>141.0</td>\n",
       "      <td>1832.837</td>\n",
       "      <td>32.922</td>\n",
       "      <td>1857.0</td>\n",
       "      <td>3290.811</td>\n",
       "      <td>38.347</td>\n",
       "      <td>0.076</td>\n",
       "    </tr>\n",
       "    <tr>\n",
       "      <th>2</th>\n",
       "      <td>Alabama</td>\n",
       "      <td>Baldwin</td>\n",
       "      <td>2016</td>\n",
       "      <td>120.0</td>\n",
       "      <td>2008.358</td>\n",
       "      <td>34.058</td>\n",
       "      <td>1722.0</td>\n",
       "      <td>3315.387</td>\n",
       "      <td>38.497</td>\n",
       "      <td>0.070</td>\n",
       "    </tr>\n",
       "    <tr>\n",
       "      <th>3</th>\n",
       "      <td>Alabama</td>\n",
       "      <td>Baldwin</td>\n",
       "      <td>2017</td>\n",
       "      <td>100.0</td>\n",
       "      <td>2082.830</td>\n",
       "      <td>34.380</td>\n",
       "      <td>1782.0</td>\n",
       "      <td>3346.588</td>\n",
       "      <td>38.572</td>\n",
       "      <td>0.056</td>\n",
       "    </tr>\n",
       "    <tr>\n",
       "      <th>4</th>\n",
       "      <td>Alabama</td>\n",
       "      <td>Baldwin</td>\n",
       "      <td>2018</td>\n",
       "      <td>122.0</td>\n",
       "      <td>1942.303</td>\n",
       "      <td>33.508</td>\n",
       "      <td>1770.0</td>\n",
       "      <td>3301.324</td>\n",
       "      <td>38.423</td>\n",
       "      <td>0.069</td>\n",
       "    </tr>\n",
       "  </tbody>\n",
       "</table>\n",
       "</div>"
      ],
      "text/plain": [
       "     state   county  year  births_low  avg_weight_low  avg_ges_age_low  \\\n",
       "0  Alabama  Baldwin  2014       137.0        1995.255           34.051   \n",
       "1  Alabama  Baldwin  2015       141.0        1832.837           32.922   \n",
       "2  Alabama  Baldwin  2016       120.0        2008.358           34.058   \n",
       "3  Alabama  Baldwin  2017       100.0        2082.830           34.380   \n",
       "4  Alabama  Baldwin  2018       122.0        1942.303           33.508   \n",
       "\n",
       "   births_all  avg_weight_all  avg_ges_age_all  pct_low  \n",
       "0      1724.0        3296.472           38.489    0.079  \n",
       "1      1857.0        3290.811           38.347    0.076  \n",
       "2      1722.0        3315.387           38.497    0.070  \n",
       "3      1782.0        3346.588           38.572    0.056  \n",
       "4      1770.0        3301.324           38.423    0.069  "
      ]
     },
     "execution_count": 75,
     "metadata": {},
     "output_type": "execute_result"
    }
   ],
   "source": [
    "births.head()"
   ]
  },
  {
   "cell_type": "code",
   "execution_count": 76,
   "id": "e8959568-9a90-4f99-907c-b32fd0c6e3fd",
   "metadata": {
    "execution": {
     "iopub.execute_input": "2023-01-17T06:03:26.306942Z",
     "iopub.status.busy": "2023-01-17T06:03:26.306796Z",
     "iopub.status.idle": "2023-01-17T06:03:26.309334Z",
     "shell.execute_reply": "2023-01-17T06:03:26.309049Z",
     "shell.execute_reply.started": "2023-01-17T06:03:26.306931Z"
    },
    "tags": []
   },
   "outputs": [
    {
     "data": {
      "text/plain": [
       "(6094, 10)"
      ]
     },
     "execution_count": 76,
     "metadata": {},
     "output_type": "execute_result"
    }
   ],
   "source": [
    "births.shape"
   ]
  },
  {
   "cell_type": "code",
   "execution_count": 77,
   "id": "c9c16049-7806-44b1-a67a-88e5ac06bbed",
   "metadata": {
    "execution": {
     "iopub.execute_input": "2023-01-17T06:03:26.310027Z",
     "iopub.status.busy": "2023-01-17T06:03:26.309886Z",
     "iopub.status.idle": "2023-01-17T06:03:26.322809Z",
     "shell.execute_reply": "2023-01-17T06:03:26.322474Z",
     "shell.execute_reply.started": "2023-01-17T06:03:26.310018Z"
    },
    "tags": []
   },
   "outputs": [
    {
     "data": {
      "text/html": [
       "<div>\n",
       "<style scoped>\n",
       "    .dataframe tbody tr th:only-of-type {\n",
       "        vertical-align: middle;\n",
       "    }\n",
       "\n",
       "    .dataframe tbody tr th {\n",
       "        vertical-align: top;\n",
       "    }\n",
       "\n",
       "    .dataframe thead th {\n",
       "        text-align: right;\n",
       "    }\n",
       "</style>\n",
       "<table border=\"1\" class=\"dataframe\">\n",
       "  <thead>\n",
       "    <tr style=\"text-align: right;\">\n",
       "      <th></th>\n",
       "      <th>year</th>\n",
       "      <th>births_low</th>\n",
       "      <th>avg_weight_low</th>\n",
       "      <th>avg_ges_age_low</th>\n",
       "      <th>births_all</th>\n",
       "      <th>avg_weight_all</th>\n",
       "      <th>avg_ges_age_all</th>\n",
       "      <th>pct_low</th>\n",
       "    </tr>\n",
       "  </thead>\n",
       "  <tbody>\n",
       "    <tr>\n",
       "      <th>count</th>\n",
       "      <td>6094.000000</td>\n",
       "      <td>6094.000000</td>\n",
       "      <td>6094.000000</td>\n",
       "      <td>6094.000000</td>\n",
       "      <td>6094.000000</td>\n",
       "      <td>6094.000000</td>\n",
       "      <td>6094.000000</td>\n",
       "      <td>6094.000000</td>\n",
       "    </tr>\n",
       "    <tr>\n",
       "      <th>mean</th>\n",
       "      <td>2015.556285</td>\n",
       "      <td>314.028224</td>\n",
       "      <td>1989.488184</td>\n",
       "      <td>34.113257</td>\n",
       "      <td>4714.525271</td>\n",
       "      <td>3317.070518</td>\n",
       "      <td>38.647829</td>\n",
       "      <td>0.063820</td>\n",
       "    </tr>\n",
       "    <tr>\n",
       "      <th>std</th>\n",
       "      <td>3.856319</td>\n",
       "      <td>572.645302</td>\n",
       "      <td>62.995391</td>\n",
       "      <td>0.507744</td>\n",
       "      <td>8418.105318</td>\n",
       "      <td>65.225411</td>\n",
       "      <td>0.204450</td>\n",
       "      <td>0.013906</td>\n",
       "    </tr>\n",
       "    <tr>\n",
       "      <th>min</th>\n",
       "      <td>2007.000000</td>\n",
       "      <td>13.000000</td>\n",
       "      <td>1682.821000</td>\n",
       "      <td>31.750000</td>\n",
       "      <td>399.000000</td>\n",
       "      <td>3065.051000</td>\n",
       "      <td>37.726000</td>\n",
       "      <td>0.025000</td>\n",
       "    </tr>\n",
       "    <tr>\n",
       "      <th>25%</th>\n",
       "      <td>2013.000000</td>\n",
       "      <td>80.000000</td>\n",
       "      <td>1950.083250</td>\n",
       "      <td>33.814000</td>\n",
       "      <td>1323.000000</td>\n",
       "      <td>3274.358500</td>\n",
       "      <td>38.522000</td>\n",
       "      <td>0.054000</td>\n",
       "    </tr>\n",
       "    <tr>\n",
       "      <th>50%</th>\n",
       "      <td>2016.000000</td>\n",
       "      <td>137.000000</td>\n",
       "      <td>1989.376000</td>\n",
       "      <td>34.117000</td>\n",
       "      <td>2195.000000</td>\n",
       "      <td>3320.209500</td>\n",
       "      <td>38.647000</td>\n",
       "      <td>0.063000</td>\n",
       "    </tr>\n",
       "    <tr>\n",
       "      <th>75%</th>\n",
       "      <td>2019.000000</td>\n",
       "      <td>325.750000</td>\n",
       "      <td>2028.819500</td>\n",
       "      <td>34.418750</td>\n",
       "      <td>4873.500000</td>\n",
       "      <td>3363.171000</td>\n",
       "      <td>38.783000</td>\n",
       "      <td>0.072000</td>\n",
       "    </tr>\n",
       "    <tr>\n",
       "      <th>max</th>\n",
       "      <td>2021.000000</td>\n",
       "      <td>9406.000000</td>\n",
       "      <td>2269.811000</td>\n",
       "      <td>36.378000</td>\n",
       "      <td>137740.000000</td>\n",
       "      <td>3498.659000</td>\n",
       "      <td>39.289000</td>\n",
       "      <td>0.138000</td>\n",
       "    </tr>\n",
       "  </tbody>\n",
       "</table>\n",
       "</div>"
      ],
      "text/plain": [
       "              year   births_low  avg_weight_low  avg_ges_age_low  \\\n",
       "count  6094.000000  6094.000000     6094.000000      6094.000000   \n",
       "mean   2015.556285   314.028224     1989.488184        34.113257   \n",
       "std       3.856319   572.645302       62.995391         0.507744   \n",
       "min    2007.000000    13.000000     1682.821000        31.750000   \n",
       "25%    2013.000000    80.000000     1950.083250        33.814000   \n",
       "50%    2016.000000   137.000000     1989.376000        34.117000   \n",
       "75%    2019.000000   325.750000     2028.819500        34.418750   \n",
       "max    2021.000000  9406.000000     2269.811000        36.378000   \n",
       "\n",
       "          births_all  avg_weight_all  avg_ges_age_all      pct_low  \n",
       "count    6094.000000     6094.000000      6094.000000  6094.000000  \n",
       "mean     4714.525271     3317.070518        38.647829     0.063820  \n",
       "std      8418.105318       65.225411         0.204450     0.013906  \n",
       "min       399.000000     3065.051000        37.726000     0.025000  \n",
       "25%      1323.000000     3274.358500        38.522000     0.054000  \n",
       "50%      2195.000000     3320.209500        38.647000     0.063000  \n",
       "75%      4873.500000     3363.171000        38.783000     0.072000  \n",
       "max    137740.000000     3498.659000        39.289000     0.138000  "
      ]
     },
     "execution_count": 77,
     "metadata": {},
     "output_type": "execute_result"
    }
   ],
   "source": [
    "births.describe()"
   ]
  },
  {
   "cell_type": "code",
   "execution_count": null,
   "id": "e5d61e4e-9054-45c0-afc1-4b8e4ffa3e8c",
   "metadata": {},
   "outputs": [],
   "source": []
  },
  {
   "cell_type": "code",
   "execution_count": 78,
   "id": "d78202bb-3b9a-42d6-92e9-bfa18babab4f",
   "metadata": {
    "execution": {
     "iopub.execute_input": "2023-01-17T06:03:26.323537Z",
     "iopub.status.busy": "2023-01-17T06:03:26.323386Z",
     "iopub.status.idle": "2023-01-17T06:03:26.327715Z",
     "shell.execute_reply": "2023-01-17T06:03:26.327398Z",
     "shell.execute_reply.started": "2023-01-17T06:03:26.323521Z"
    },
    "tags": []
   },
   "outputs": [
    {
     "data": {
      "text/plain": [
       "2020    563\n",
       "2021    563\n",
       "2016    551\n",
       "2017    551\n",
       "2018    551\n",
       "2019    551\n",
       "2015    493\n",
       "2014    487\n",
       "2013    380\n",
       "2012    341\n",
       "2011    308\n",
       "2010    228\n",
       "2009    183\n",
       "2008    179\n",
       "2007    165\n",
       "Name: year, dtype: int64"
      ]
     },
     "execution_count": 78,
     "metadata": {},
     "output_type": "execute_result"
    }
   ],
   "source": [
    "births['year'].value_counts()"
   ]
  },
  {
   "cell_type": "code",
   "execution_count": 79,
   "id": "c4739d08-618d-42f9-9f85-84e07bb36620",
   "metadata": {
    "execution": {
     "iopub.execute_input": "2023-01-17T06:03:26.328510Z",
     "iopub.status.busy": "2023-01-17T06:03:26.328327Z",
     "iopub.status.idle": "2023-01-17T06:03:26.332772Z",
     "shell.execute_reply": "2023-01-17T06:03:26.332359Z",
     "shell.execute_reply.started": "2023-01-17T06:03:26.328493Z"
    },
    "tags": []
   },
   "outputs": [
    {
     "data": {
      "text/plain": [
       "{'Adams',\n",
       " 'Alameda',\n",
       " 'Albany',\n",
       " 'Allen',\n",
       " 'Arapahoe',\n",
       " 'Ashtabula',\n",
       " 'Bell',\n",
       " 'Bexar',\n",
       " 'Black Hawk',\n",
       " 'Boulder',\n",
       " 'Brazoria',\n",
       " 'Brazos',\n",
       " 'Broome',\n",
       " 'Butler',\n",
       " 'Butte',\n",
       " 'Cameron',\n",
       " 'Cass',\n",
       " 'Chautauqua',\n",
       " 'Chittenden',\n",
       " 'Clark',\n",
       " 'Clermont',\n",
       " 'Collin',\n",
       " 'Columbiana',\n",
       " 'Contra Costa',\n",
       " 'Cuyahoga',\n",
       " 'Dallas',\n",
       " 'Delaware',\n",
       " 'Denton',\n",
       " 'Denver',\n",
       " 'Douglas',\n",
       " 'Dutchess',\n",
       " 'Ector',\n",
       " 'El Dorado',\n",
       " 'El Paso',\n",
       " 'Elkhart',\n",
       " 'Ellis',\n",
       " 'Erie',\n",
       " 'Fairfield',\n",
       " 'Fort Bend',\n",
       " 'Franklin',\n",
       " 'Fresno',\n",
       " 'Galveston',\n",
       " 'Grayson',\n",
       " 'Greene',\n",
       " 'Gregg',\n",
       " 'Hamilton',\n",
       " 'Harris',\n",
       " 'Hendricks',\n",
       " 'Hidalgo',\n",
       " 'Hillsborough',\n",
       " 'Humboldt',\n",
       " 'Imperial',\n",
       " 'Jefferson',\n",
       " 'Johnson',\n",
       " 'Kent',\n",
       " 'Kern',\n",
       " 'Kings',\n",
       " 'La Porte',\n",
       " 'Lake',\n",
       " 'Larimer',\n",
       " 'Licking',\n",
       " 'Linn',\n",
       " 'Lorain',\n",
       " 'Los Angeles',\n",
       " 'Lubbock',\n",
       " 'Lucas',\n",
       " 'Madera',\n",
       " 'Madison',\n",
       " 'Mahoning',\n",
       " 'Marin',\n",
       " 'Marion',\n",
       " 'Mclennan',\n",
       " 'Medina',\n",
       " 'Merced',\n",
       " 'Merrimack',\n",
       " 'Mesa',\n",
       " 'Midland',\n",
       " 'Minnehaha',\n",
       " 'Monroe',\n",
       " 'Monterey',\n",
       " 'Montgomery',\n",
       " 'Napa',\n",
       " 'Nassau',\n",
       " 'New Castle',\n",
       " 'Niagara',\n",
       " 'Nueces',\n",
       " 'Oneida',\n",
       " 'Onondaga',\n",
       " 'Ontario',\n",
       " 'Orange',\n",
       " 'Oswego',\n",
       " 'Placer',\n",
       " 'Polk',\n",
       " 'Portage',\n",
       " 'Porter',\n",
       " 'Potter',\n",
       " 'Pueblo',\n",
       " 'Randall',\n",
       " 'Rensselaer',\n",
       " 'Richland',\n",
       " 'Riverside',\n",
       " 'Rockingham',\n",
       " 'Rockland',\n",
       " 'Sacramento',\n",
       " 'San Bernardino',\n",
       " 'San Diego',\n",
       " 'San Francisco',\n",
       " 'San Joaquin',\n",
       " 'San Luis Obispo',\n",
       " 'San Mateo',\n",
       " 'Santa Barbara',\n",
       " 'Santa Clara',\n",
       " 'Santa Cruz',\n",
       " 'Saratoga',\n",
       " 'Schenectady',\n",
       " 'Scott',\n",
       " 'Sedgwick',\n",
       " 'Shasta',\n",
       " 'Shawnee',\n",
       " 'Smith',\n",
       " 'Solano',\n",
       " 'Sonoma',\n",
       " 'St. Joseph',\n",
       " 'St. Lawrence',\n",
       " 'Stanislaus',\n",
       " 'Stark',\n",
       " 'Strafford',\n",
       " 'Suffolk',\n",
       " 'Summit',\n",
       " 'Sussex',\n",
       " 'Tarrant',\n",
       " 'Taylor',\n",
       " 'Tippecanoe',\n",
       " 'Tom Green',\n",
       " 'Travis',\n",
       " 'Trumbull',\n",
       " 'Tulare',\n",
       " 'Ulster',\n",
       " 'Vanderburgh',\n",
       " 'Ventura',\n",
       " 'Vigo',\n",
       " 'Warren',\n",
       " 'Wayne',\n",
       " 'Webb',\n",
       " 'Weld',\n",
       " 'Westchester',\n",
       " 'Wichita',\n",
       " 'Williamson',\n",
       " 'Wood',\n",
       " 'Woodbury',\n",
       " 'Wyandotte',\n",
       " 'Yolo'}"
      ]
     },
     "execution_count": 79,
     "metadata": {},
     "output_type": "execute_result"
    }
   ],
   "source": [
    "set(births[births['year'] == 2007]['county'])"
   ]
  },
  {
   "cell_type": "code",
   "execution_count": 80,
   "id": "a74e372b-e450-4e27-ad4e-a3b0fce9a72a",
   "metadata": {
    "execution": {
     "iopub.execute_input": "2023-01-17T06:03:26.333554Z",
     "iopub.status.busy": "2023-01-17T06:03:26.333443Z",
     "iopub.status.idle": "2023-01-17T06:03:26.336428Z",
     "shell.execute_reply": "2023-01-17T06:03:26.335998Z",
     "shell.execute_reply.started": "2023-01-17T06:03:26.333545Z"
    },
    "tags": []
   },
   "outputs": [],
   "source": [
    "# how many counties from the aqi are also in the cdc data\n",
    "# len(set(aqi['county']).intersection(set(cdc['County'])))"
   ]
  },
  {
   "cell_type": "code",
   "execution_count": 81,
   "id": "d96533b1-7a23-42f5-a49a-f11bf0538f6b",
   "metadata": {
    "execution": {
     "iopub.execute_input": "2023-01-17T06:03:26.337092Z",
     "iopub.status.busy": "2023-01-17T06:03:26.336940Z",
     "iopub.status.idle": "2023-01-17T06:03:26.339014Z",
     "shell.execute_reply": "2023-01-17T06:03:26.338664Z",
     "shell.execute_reply.started": "2023-01-17T06:03:26.337082Z"
    },
    "tags": []
   },
   "outputs": [],
   "source": [
    "# what are the differences\n",
    "#set(aqi['county']).difference(set(cdc['County']))"
   ]
  },
  {
   "cell_type": "markdown",
   "id": "fa844c49-fc68-4a0a-985e-9d995d900e5f",
   "metadata": {
    "tags": []
   },
   "source": [
    "### EPA API Information\n",
    "\n",
    "Look to see if getting more granular data from the API is feasible\n",
    "\n",
    "Your user ID is your email address: mrhurless@gmail.com \n",
    "Your key is: rubymouse94 "
   ]
  },
  {
   "cell_type": "code",
   "execution_count": 82,
   "id": "537762f0-5dee-4bec-ae0c-2f620cc624bc",
   "metadata": {
    "execution": {
     "iopub.execute_input": "2023-01-17T06:03:26.339580Z",
     "iopub.status.busy": "2023-01-17T06:03:26.339473Z",
     "iopub.status.idle": "2023-01-17T06:03:26.341454Z",
     "shell.execute_reply": "2023-01-17T06:03:26.341163Z",
     "shell.execute_reply.started": "2023-01-17T06:03:26.339571Z"
    }
   },
   "outputs": [],
   "source": [
    "# import requests"
   ]
  },
  {
   "cell_type": "code",
   "execution_count": 83,
   "id": "419d546d-5f0d-40d9-9c8d-15d9bdf31905",
   "metadata": {
    "execution": {
     "iopub.execute_input": "2023-01-17T06:03:26.342087Z",
     "iopub.status.busy": "2023-01-17T06:03:26.341972Z",
     "iopub.status.idle": "2023-01-17T06:03:26.344224Z",
     "shell.execute_reply": "2023-01-17T06:03:26.343904Z",
     "shell.execute_reply.started": "2023-01-17T06:03:26.342078Z"
    },
    "tags": []
   },
   "outputs": [],
   "source": [
    "# email = 'mrhurless@gmail.com'\n",
    "# key = 'rubymouse94'\n",
    "\n",
    "# url = f'https://aqs.epa.gov/data/api/list/parametersByClass?email={email}&key={key}&pc=CRITERIA'\n",
    "\n",
    "# res = requests.get(url)\n",
    "\n",
    "# res.status_code"
   ]
  },
  {
   "cell_type": "code",
   "execution_count": 84,
   "id": "2f8a816e-6c4a-42af-be96-827413586eac",
   "metadata": {
    "execution": {
     "iopub.execute_input": "2023-01-17T06:03:26.344853Z",
     "iopub.status.busy": "2023-01-17T06:03:26.344750Z",
     "iopub.status.idle": "2023-01-17T06:03:26.346846Z",
     "shell.execute_reply": "2023-01-17T06:03:26.346556Z",
     "shell.execute_reply.started": "2023-01-17T06:03:26.344844Z"
    }
   },
   "outputs": [],
   "source": [
    "# # from https://stackoverflow.com/questions/71603314/ssl-error-unsafe-legacy-renegotiation-disabled\n",
    "\n",
    "# import urllib3\n",
    "# import ssl\n",
    "\n",
    "# class CustomHttpAdapter (requests.adapters.HTTPAdapter):\n",
    "#     # \"Transport adapter\" that allows us to use custom ssl_context.\n",
    "\n",
    "#     def __init__(self, ssl_context=None, **kwargs):\n",
    "#         self.ssl_context = ssl_context\n",
    "#         super().__init__(**kwargs)\n",
    "\n",
    "#     def init_poolmanager(self, connections, maxsize, block=False):\n",
    "#         self.poolmanager = urllib3.poolmanager.PoolManager(\n",
    "#             num_pools=connections, maxsize=maxsize,\n",
    "#             block=block, ssl_context=self.ssl_context)\n",
    "\n",
    "\n",
    "# def get_legacy_session():\n",
    "#     ctx = ssl.create_default_context(ssl.Purpose.SERVER_AUTH)\n",
    "#     ctx.options |= 0x4  # OP_LEGACY_SERVER_CONNECT\n",
    "#     session = requests.session()\n",
    "#     session.mount('https://', CustomHttpAdapter(ctx))\n",
    "#     return session"
   ]
  },
  {
   "cell_type": "code",
   "execution_count": 85,
   "id": "9335456c-877a-4198-8087-ceadc9e35f81",
   "metadata": {
    "execution": {
     "iopub.execute_input": "2023-01-17T06:03:26.347570Z",
     "iopub.status.busy": "2023-01-17T06:03:26.347424Z",
     "iopub.status.idle": "2023-01-17T06:03:26.349396Z",
     "shell.execute_reply": "2023-01-17T06:03:26.349064Z",
     "shell.execute_reply.started": "2023-01-17T06:03:26.347560Z"
    }
   },
   "outputs": [],
   "source": [
    "# res = get_legacy_session().get(url)"
   ]
  },
  {
   "cell_type": "code",
   "execution_count": null,
   "id": "d3bcf3ad-2813-4943-ab7f-ab794892de9f",
   "metadata": {},
   "outputs": [],
   "source": []
  },
  {
   "cell_type": "code",
   "execution_count": 86,
   "id": "85467adb-d25e-4205-a9b7-d25e66ec045d",
   "metadata": {
    "execution": {
     "iopub.execute_input": "2023-01-17T06:03:26.350230Z",
     "iopub.status.busy": "2023-01-17T06:03:26.350036Z",
     "iopub.status.idle": "2023-01-17T06:03:26.354736Z",
     "shell.execute_reply": "2023-01-17T06:03:26.354346Z",
     "shell.execute_reply.started": "2023-01-17T06:03:26.350210Z"
    },
    "tags": []
   },
   "outputs": [],
   "source": [
    "def get_aqi():\n",
    "    creds = ('mhurless@me.com', '0n3L0v3#')\n",
    "    email = 'mrhurless@gmail.com'\n",
    "    key = 'rubymouse94'\n",
    "    all_posts = []\n",
    "    \n",
    "    url = \"https://support.brightsign.biz/api/v2/community/posts\"\n",
    "    \n",
    "    res = requests.get(url, auth=creds)\n",
    "    \n",
    "    # get data other than posts data\n",
    "    metadata = {\n",
    "                key: value for key, value in res.json().items() \n",
    "                if key != 'posts'\n",
    "            }\n",
    "    \n",
    "    last_page = metadata['page_count']\n",
    "    current_page = metadata['page']\n",
    "    \n",
    "    #count = 0 #keep track of posts # don't think this is needed with this\n",
    "    # approach\n",
    "\n",
    "    # goal is to get posts from all pages, so we'll check if we've reached \n",
    "    # the last page, but will also put in a catch for the rate limit as \n",
    "    # mentioned by the API docs\n",
    "    \n",
    "    while current_page <= last_page:\n",
    "        res = requests.get(url, auth=creds)\n",
    "\n",
    "        if res.status_code == 200:\n",
    "            posts = pd.DataFrame(res.json()['posts'])\n",
    "            metadata = {\n",
    "                key: value for key, value in res.json().items() \n",
    "                if key != 'posts'\n",
    "            }\n",
    "            \n",
    "            # update current page\n",
    "            current_page = metadata['page']\n",
    "            \n",
    "            # update URL to pull posts from next page\n",
    "            url = metadata['next_page']\n",
    "\n",
    "            all_posts.append(posts)\n",
    "            \n",
    "            #sleep(5)\n",
    "\n",
    "            if metadata['page'] == metadata['page_count']: \n",
    "                break #break loop if last page is reached\n",
    "\n",
    "            #get sequential posts from most recent to least    \n",
    "            #params['before'] = posts['created_utc'].min()\n",
    "        elif res.status_code == 429:\n",
    "            sleep(res.headers['retry-after'])\n",
    "        else:\n",
    "            print(f'status: {res.status_code}')  \n",
    "    print(f'posts retrieved from API: {len(all_posts)}')\n",
    "\n",
    "    return pd.concat(all_posts)"
   ]
  }
 ],
 "metadata": {
  "kernelspec": {
   "display_name": "Python 3 (ipykernel)",
   "language": "python",
   "name": "python3"
  },
  "language_info": {
   "codemirror_mode": {
    "name": "ipython",
    "version": 3
   },
   "file_extension": ".py",
   "mimetype": "text/x-python",
   "name": "python",
   "nbconvert_exporter": "python",
   "pygments_lexer": "ipython3",
   "version": "3.9.15"
  }
 },
 "nbformat": 4,
 "nbformat_minor": 5
}
