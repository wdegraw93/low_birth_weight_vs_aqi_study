{
 "cells": [
  {
   "cell_type": "markdown",
   "id": "bb87ac76-6e5a-4bb9-b4c4-5ef88304c3c7",
   "metadata": {},
   "source": [
    "# Data Collection and Cleaning"
   ]
  },
  {
   "cell_type": "markdown",
   "id": "eeeea78f-9b61-4564-b6b1-6e5132edf148",
   "metadata": {},
   "source": [
    "Data has been collected from both the EPA for Air Quality Index data and from the CDC for birth data relating to weight.  "
   ]
  },
  {
   "cell_type": "markdown",
   "id": "ddde48d8-8b2c-4ccf-ac47-16333269d8ac",
   "metadata": {},
   "source": [
    "## Imports"
   ]
  },
  {
   "cell_type": "code",
   "execution_count": 2,
   "id": "b78cde8d-490d-4f0a-8843-b65070799d81",
   "metadata": {
    "execution": {
     "iopub.execute_input": "2023-01-15T22:17:33.569542Z",
     "iopub.status.busy": "2023-01-15T22:17:33.568824Z",
     "iopub.status.idle": "2023-01-15T22:17:35.457075Z",
     "shell.execute_reply": "2023-01-15T22:17:35.456721Z",
     "shell.execute_reply.started": "2023-01-15T22:17:33.569446Z"
    },
    "tags": []
   },
   "outputs": [],
   "source": [
    "import pandas as pd\n",
    "import numpy as np\n",
    "import matplotlib.pyplot as plt\n",
    "import seaborn as sns\n",
    "\n",
    "from pathlib import Path"
   ]
  },
  {
   "cell_type": "markdown",
   "id": "3fb70775-2797-4998-aff2-54b85c1e471c",
   "metadata": {},
   "source": [
    "## Data"
   ]
  },
  {
   "cell_type": "markdown",
   "id": "38dc7b5b-6af5-4cb6-adda-b35c38f224d2",
   "metadata": {},
   "source": [
    "### EPA AQI Data"
   ]
  },
  {
   "cell_type": "markdown",
   "id": "7b462df9-11de-456e-9b3c-176e3ec2b489",
   "metadata": {},
   "source": [
    "The air quality data was downloaded from https://aqs.epa.gov/aqsweb/airdata/download_files.html#Annual as files containing annual data from years 2016-2021.  We are combining these CSV files into a single dataframe and will evaluate whether it will meet the needs for the project, or whether data will need to be collected through the API that the EPA offers for AirData."
   ]
  },
  {
   "cell_type": "code",
   "execution_count": 100,
   "id": "7b8cfe0a-0b74-46d1-b8e9-e02cd795ca07",
   "metadata": {
    "execution": {
     "iopub.execute_input": "2023-01-12T07:20:47.657471Z",
     "iopub.status.busy": "2023-01-12T07:20:47.657319Z",
     "iopub.status.idle": "2023-01-12T07:20:47.880880Z",
     "shell.execute_reply": "2023-01-12T07:20:47.880405Z",
     "shell.execute_reply.started": "2023-01-12T07:20:47.657460Z"
    },
    "tags": []
   },
   "outputs": [],
   "source": [
    "# code from Winston merged with approach from\n",
    "# https://towardsdatascience.com/pandas-concat-tricks-you-should-know-to-speed-up-your-data-analysis-cd3d4fdfe6dd\n",
    "\n",
    "data_path = Path('data/')\n",
    "\n",
    "# create a list of all the AQI csv files\n",
    "dfs = (\n",
    "    pd.read_csv(file) for file in data_path.glob('*aqi*') if file.is_file()\n",
    ")\n",
    "\n",
    "# concatenate the dataframes\n",
    "res = pd.concat(dfs)\n",
    "\n",
    "# export the final csv\n",
    "res.to_csv('data/aqi_by_year_2006-2021.csv', index=False)"
   ]
  },
  {
   "cell_type": "markdown",
   "id": "e1313cd6-657f-4ba5-b71c-9af1c6981e3d",
   "metadata": {},
   "source": [
    "Read the final CSV for all the AQI data"
   ]
  },
  {
   "cell_type": "code",
   "execution_count": 101,
   "id": "04e99e09-da9f-4496-82c4-0e30295776c5",
   "metadata": {
    "execution": {
     "iopub.execute_input": "2023-01-12T07:20:47.881542Z",
     "iopub.status.busy": "2023-01-12T07:20:47.881437Z",
     "iopub.status.idle": "2023-01-12T07:20:47.908440Z",
     "shell.execute_reply": "2023-01-12T07:20:47.908062Z",
     "shell.execute_reply.started": "2023-01-12T07:20:47.881533Z"
    },
    "tags": []
   },
   "outputs": [],
   "source": [
    "aqi = pd.read_csv('data/aqi_by_year_2006-2021.csv')"
   ]
  },
  {
   "cell_type": "code",
   "execution_count": 102,
   "id": "6ebe28d0-0354-46a5-8f81-6b4ffb180d21",
   "metadata": {
    "execution": {
     "iopub.execute_input": "2023-01-12T07:20:47.909212Z",
     "iopub.status.busy": "2023-01-12T07:20:47.909088Z",
     "iopub.status.idle": "2023-01-12T07:20:47.916017Z",
     "shell.execute_reply": "2023-01-12T07:20:47.915515Z",
     "shell.execute_reply.started": "2023-01-12T07:20:47.909202Z"
    },
    "tags": []
   },
   "outputs": [
    {
     "data": {
      "text/html": [
       "<div>\n",
       "<style scoped>\n",
       "    .dataframe tbody tr th:only-of-type {\n",
       "        vertical-align: middle;\n",
       "    }\n",
       "\n",
       "    .dataframe tbody tr th {\n",
       "        vertical-align: top;\n",
       "    }\n",
       "\n",
       "    .dataframe thead th {\n",
       "        text-align: right;\n",
       "    }\n",
       "</style>\n",
       "<table border=\"1\" class=\"dataframe\">\n",
       "  <thead>\n",
       "    <tr style=\"text-align: right;\">\n",
       "      <th></th>\n",
       "      <th>State</th>\n",
       "      <th>County</th>\n",
       "      <th>Year</th>\n",
       "      <th>Days with AQI</th>\n",
       "      <th>Good Days</th>\n",
       "      <th>Moderate Days</th>\n",
       "      <th>Unhealthy for Sensitive Groups Days</th>\n",
       "      <th>Unhealthy Days</th>\n",
       "      <th>Very Unhealthy Days</th>\n",
       "      <th>Hazardous Days</th>\n",
       "      <th>Max AQI</th>\n",
       "      <th>90th Percentile AQI</th>\n",
       "      <th>Median AQI</th>\n",
       "      <th>Days CO</th>\n",
       "      <th>Days NO2</th>\n",
       "      <th>Days Ozone</th>\n",
       "      <th>Days PM2.5</th>\n",
       "      <th>Days PM10</th>\n",
       "    </tr>\n",
       "  </thead>\n",
       "  <tbody>\n",
       "    <tr>\n",
       "      <th>0</th>\n",
       "      <td>Alabama</td>\n",
       "      <td>Baldwin</td>\n",
       "      <td>2009</td>\n",
       "      <td>252</td>\n",
       "      <td>218</td>\n",
       "      <td>32</td>\n",
       "      <td>2</td>\n",
       "      <td>0</td>\n",
       "      <td>0</td>\n",
       "      <td>0</td>\n",
       "      <td>136</td>\n",
       "      <td>53</td>\n",
       "      <td>36</td>\n",
       "      <td>0</td>\n",
       "      <td>0</td>\n",
       "      <td>200</td>\n",
       "      <td>52</td>\n",
       "      <td>0</td>\n",
       "    </tr>\n",
       "    <tr>\n",
       "      <th>1</th>\n",
       "      <td>Alabama</td>\n",
       "      <td>Clay</td>\n",
       "      <td>2009</td>\n",
       "      <td>119</td>\n",
       "      <td>97</td>\n",
       "      <td>22</td>\n",
       "      <td>0</td>\n",
       "      <td>0</td>\n",
       "      <td>0</td>\n",
       "      <td>0</td>\n",
       "      <td>94</td>\n",
       "      <td>59</td>\n",
       "      <td>33</td>\n",
       "      <td>0</td>\n",
       "      <td>0</td>\n",
       "      <td>0</td>\n",
       "      <td>119</td>\n",
       "      <td>0</td>\n",
       "    </tr>\n",
       "    <tr>\n",
       "      <th>2</th>\n",
       "      <td>Alabama</td>\n",
       "      <td>Colbert</td>\n",
       "      <td>2009</td>\n",
       "      <td>323</td>\n",
       "      <td>220</td>\n",
       "      <td>103</td>\n",
       "      <td>0</td>\n",
       "      <td>0</td>\n",
       "      <td>0</td>\n",
       "      <td>0</td>\n",
       "      <td>76</td>\n",
       "      <td>60</td>\n",
       "      <td>43</td>\n",
       "      <td>0</td>\n",
       "      <td>0</td>\n",
       "      <td>132</td>\n",
       "      <td>191</td>\n",
       "      <td>0</td>\n",
       "    </tr>\n",
       "    <tr>\n",
       "      <th>3</th>\n",
       "      <td>Alabama</td>\n",
       "      <td>DeKalb</td>\n",
       "      <td>2009</td>\n",
       "      <td>363</td>\n",
       "      <td>311</td>\n",
       "      <td>52</td>\n",
       "      <td>0</td>\n",
       "      <td>0</td>\n",
       "      <td>0</td>\n",
       "      <td>0</td>\n",
       "      <td>100</td>\n",
       "      <td>54</td>\n",
       "      <td>36</td>\n",
       "      <td>0</td>\n",
       "      <td>0</td>\n",
       "      <td>308</td>\n",
       "      <td>55</td>\n",
       "      <td>0</td>\n",
       "    </tr>\n",
       "    <tr>\n",
       "      <th>4</th>\n",
       "      <td>Alabama</td>\n",
       "      <td>Elmore</td>\n",
       "      <td>2009</td>\n",
       "      <td>244</td>\n",
       "      <td>228</td>\n",
       "      <td>16</td>\n",
       "      <td>0</td>\n",
       "      <td>0</td>\n",
       "      <td>0</td>\n",
       "      <td>0</td>\n",
       "      <td>80</td>\n",
       "      <td>49</td>\n",
       "      <td>36</td>\n",
       "      <td>0</td>\n",
       "      <td>0</td>\n",
       "      <td>244</td>\n",
       "      <td>0</td>\n",
       "      <td>0</td>\n",
       "    </tr>\n",
       "  </tbody>\n",
       "</table>\n",
       "</div>"
      ],
      "text/plain": [
       "     State   County  Year  Days with AQI  Good Days  Moderate Days  \\\n",
       "0  Alabama  Baldwin  2009            252        218             32   \n",
       "1  Alabama     Clay  2009            119         97             22   \n",
       "2  Alabama  Colbert  2009            323        220            103   \n",
       "3  Alabama   DeKalb  2009            363        311             52   \n",
       "4  Alabama   Elmore  2009            244        228             16   \n",
       "\n",
       "   Unhealthy for Sensitive Groups Days  Unhealthy Days  Very Unhealthy Days  \\\n",
       "0                                    2               0                    0   \n",
       "1                                    0               0                    0   \n",
       "2                                    0               0                    0   \n",
       "3                                    0               0                    0   \n",
       "4                                    0               0                    0   \n",
       "\n",
       "   Hazardous Days  Max AQI  90th Percentile AQI  Median AQI  Days CO  \\\n",
       "0               0      136                   53          36        0   \n",
       "1               0       94                   59          33        0   \n",
       "2               0       76                   60          43        0   \n",
       "3               0      100                   54          36        0   \n",
       "4               0       80                   49          36        0   \n",
       "\n",
       "   Days NO2  Days Ozone  Days PM2.5  Days PM10  \n",
       "0         0         200          52          0  \n",
       "1         0           0         119          0  \n",
       "2         0         132         191          0  \n",
       "3         0         308          55          0  \n",
       "4         0         244           0          0  "
      ]
     },
     "execution_count": 102,
     "metadata": {},
     "output_type": "execute_result"
    }
   ],
   "source": [
    "aqi.head()"
   ]
  },
  {
   "cell_type": "code",
   "execution_count": 103,
   "id": "64e70772-1680-42f0-81dc-2e5b71be9400",
   "metadata": {
    "execution": {
     "iopub.execute_input": "2023-01-12T07:20:47.919020Z",
     "iopub.status.busy": "2023-01-12T07:20:47.918800Z",
     "iopub.status.idle": "2023-01-12T07:20:47.922624Z",
     "shell.execute_reply": "2023-01-12T07:20:47.922283Z",
     "shell.execute_reply.started": "2023-01-12T07:20:47.918998Z"
    },
    "tags": []
   },
   "outputs": [
    {
     "data": {
      "text/plain": [
       "Index(['State', 'County', 'Year', 'Days with AQI', 'Good Days',\n",
       "       'Moderate Days', 'Unhealthy for Sensitive Groups Days',\n",
       "       'Unhealthy Days', 'Very Unhealthy Days', 'Hazardous Days', 'Max AQI',\n",
       "       '90th Percentile AQI', 'Median AQI', 'Days CO', 'Days NO2',\n",
       "       'Days Ozone', 'Days PM2.5', 'Days PM10'],\n",
       "      dtype='object')"
      ]
     },
     "execution_count": 103,
     "metadata": {},
     "output_type": "execute_result"
    }
   ],
   "source": [
    "aqi.columns"
   ]
  },
  {
   "cell_type": "code",
   "execution_count": 104,
   "id": "f1414960-e9f4-4111-bba0-3a77690b24c6",
   "metadata": {
    "execution": {
     "iopub.execute_input": "2023-01-12T07:20:47.923339Z",
     "iopub.status.busy": "2023-01-12T07:20:47.923243Z",
     "iopub.status.idle": "2023-01-12T07:20:47.925687Z",
     "shell.execute_reply": "2023-01-12T07:20:47.925353Z",
     "shell.execute_reply.started": "2023-01-12T07:20:47.923329Z"
    },
    "tags": []
   },
   "outputs": [
    {
     "data": {
      "text/plain": [
       "(33502, 18)"
      ]
     },
     "execution_count": 104,
     "metadata": {},
     "output_type": "execute_result"
    }
   ],
   "source": [
    "aqi.shape"
   ]
  },
  {
   "cell_type": "code",
   "execution_count": 105,
   "id": "ef6b8b82-0da7-445c-bd47-8b3ab696f9de",
   "metadata": {
    "execution": {
     "iopub.execute_input": "2023-01-12T07:20:47.926596Z",
     "iopub.status.busy": "2023-01-12T07:20:47.926420Z",
     "iopub.status.idle": "2023-01-12T07:20:47.938625Z",
     "shell.execute_reply": "2023-01-12T07:20:47.938309Z",
     "shell.execute_reply.started": "2023-01-12T07:20:47.926583Z"
    },
    "tags": []
   },
   "outputs": [
    {
     "data": {
      "text/plain": [
       "State                                  object\n",
       "County                                 object\n",
       "Year                                    int64\n",
       "Days with AQI                           int64\n",
       "Good Days                               int64\n",
       "Moderate Days                           int64\n",
       "Unhealthy for Sensitive Groups Days     int64\n",
       "Unhealthy Days                          int64\n",
       "Very Unhealthy Days                     int64\n",
       "Hazardous Days                          int64\n",
       "Max AQI                                 int64\n",
       "90th Percentile AQI                     int64\n",
       "Median AQI                              int64\n",
       "Days CO                                 int64\n",
       "Days NO2                                int64\n",
       "Days Ozone                              int64\n",
       "Days PM2.5                              int64\n",
       "Days PM10                               int64\n",
       "dtype: object"
      ]
     },
     "execution_count": 105,
     "metadata": {},
     "output_type": "execute_result"
    }
   ],
   "source": [
    "aqi.dtypes"
   ]
  },
  {
   "cell_type": "code",
   "execution_count": 106,
   "id": "8a711741-3952-4bca-9de2-475d5e2e7503",
   "metadata": {
    "execution": {
     "iopub.execute_input": "2023-01-12T07:20:47.939591Z",
     "iopub.status.busy": "2023-01-12T07:20:47.939295Z",
     "iopub.status.idle": "2023-01-12T07:20:47.943854Z",
     "shell.execute_reply": "2023-01-12T07:20:47.943419Z",
     "shell.execute_reply.started": "2023-01-12T07:20:47.939580Z"
    }
   },
   "outputs": [],
   "source": [
    "aqi.columns = [col.lower().replace(' ', '_') for col in aqi.columns]"
   ]
  },
  {
   "cell_type": "code",
   "execution_count": 107,
   "id": "7a4b7186-6c7d-4764-8fb2-3a0e42717e04",
   "metadata": {
    "execution": {
     "iopub.execute_input": "2023-01-12T07:20:47.945099Z",
     "iopub.status.busy": "2023-01-12T07:20:47.944907Z",
     "iopub.status.idle": "2023-01-12T07:20:47.948137Z",
     "shell.execute_reply": "2023-01-12T07:20:47.947798Z",
     "shell.execute_reply.started": "2023-01-12T07:20:47.945083Z"
    }
   },
   "outputs": [
    {
     "data": {
      "text/plain": [
       "Index(['state', 'county', 'year', 'days_with_aqi', 'good_days',\n",
       "       'moderate_days', 'unhealthy_for_sensitive_groups_days',\n",
       "       'unhealthy_days', 'very_unhealthy_days', 'hazardous_days', 'max_aqi',\n",
       "       '90th_percentile_aqi', 'median_aqi', 'days_co', 'days_no2',\n",
       "       'days_ozone', 'days_pm2.5', 'days_pm10'],\n",
       "      dtype='object')"
      ]
     },
     "execution_count": 107,
     "metadata": {},
     "output_type": "execute_result"
    }
   ],
   "source": [
    "aqi.columns"
   ]
  },
  {
   "cell_type": "code",
   "execution_count": 108,
   "id": "a6645beb-d1e7-4836-b79c-47d4338b3845",
   "metadata": {
    "execution": {
     "iopub.execute_input": "2023-01-12T07:20:47.948861Z",
     "iopub.status.busy": "2023-01-12T07:20:47.948751Z",
     "iopub.status.idle": "2023-01-12T07:20:47.958535Z",
     "shell.execute_reply": "2023-01-12T07:20:47.958207Z",
     "shell.execute_reply.started": "2023-01-12T07:20:47.948850Z"
    }
   },
   "outputs": [
    {
     "data": {
      "text/plain": [
       "state                                  0\n",
       "county                                 0\n",
       "year                                   0\n",
       "days_with_aqi                          0\n",
       "good_days                              0\n",
       "moderate_days                          0\n",
       "unhealthy_for_sensitive_groups_days    0\n",
       "unhealthy_days                         0\n",
       "very_unhealthy_days                    0\n",
       "hazardous_days                         0\n",
       "max_aqi                                0\n",
       "90th_percentile_aqi                    0\n",
       "median_aqi                             0\n",
       "days_co                                0\n",
       "days_no2                               0\n",
       "days_ozone                             0\n",
       "days_pm2.5                             0\n",
       "days_pm10                              0\n",
       "dtype: int64"
      ]
     },
     "execution_count": 108,
     "metadata": {},
     "output_type": "execute_result"
    }
   ],
   "source": [
    "aqi.isnull().sum()"
   ]
  },
  {
   "cell_type": "code",
   "execution_count": 109,
   "id": "4c1ff902-a36d-4951-99d8-29596f4da118",
   "metadata": {
    "execution": {
     "iopub.execute_input": "2023-01-12T07:20:47.959176Z",
     "iopub.status.busy": "2023-01-12T07:20:47.959030Z",
     "iopub.status.idle": "2023-01-12T07:20:47.965956Z",
     "shell.execute_reply": "2023-01-12T07:20:47.965590Z",
     "shell.execute_reply.started": "2023-01-12T07:20:47.959166Z"
    }
   },
   "outputs": [
    {
     "data": {
      "text/plain": [
       "state      55\n",
       "county    913\n",
       "dtype: int64"
      ]
     },
     "execution_count": 109,
     "metadata": {},
     "output_type": "execute_result"
    }
   ],
   "source": [
    "aqi[['state', 'county']].nunique()"
   ]
  },
  {
   "cell_type": "code",
   "execution_count": 110,
   "id": "52bfdff0-464d-4a86-a747-62b64d8d4fbb",
   "metadata": {
    "execution": {
     "iopub.execute_input": "2023-01-12T07:20:47.966747Z",
     "iopub.status.busy": "2023-01-12T07:20:47.966624Z",
     "iopub.status.idle": "2023-01-12T07:20:47.970759Z",
     "shell.execute_reply": "2023-01-12T07:20:47.970416Z",
     "shell.execute_reply.started": "2023-01-12T07:20:47.966737Z"
    }
   },
   "outputs": [
    {
     "data": {
      "text/plain": [
       "array(['Alabama', 'Alaska', 'Arizona', 'Arkansas', 'California',\n",
       "       'Colorado', 'Connecticut', 'Country Of Mexico', 'Delaware',\n",
       "       'District Of Columbia', 'Florida', 'Georgia', 'Hawaii', 'Idaho',\n",
       "       'Illinois', 'Indiana', 'Iowa', 'Kansas', 'Kentucky', 'Louisiana',\n",
       "       'Maine', 'Maryland', 'Massachusetts', 'Michigan', 'Minnesota',\n",
       "       'Mississippi', 'Missouri', 'Montana', 'Nebraska', 'Nevada',\n",
       "       'New Hampshire', 'New Jersey', 'New Mexico', 'New York',\n",
       "       'North Carolina', 'North Dakota', 'Ohio', 'Oklahoma', 'Oregon',\n",
       "       'Pennsylvania', 'Puerto Rico', 'Rhode Island', 'South Carolina',\n",
       "       'South Dakota', 'Tennessee', 'Texas', 'Utah', 'Vermont',\n",
       "       'Virgin Islands', 'Virginia', 'Washington', 'West Virginia',\n",
       "       'Wisconsin', 'Wyoming', 'Canada'], dtype=object)"
      ]
     },
     "execution_count": 110,
     "metadata": {},
     "output_type": "execute_result"
    }
   ],
   "source": [
    "aqi['state'].unique()"
   ]
  },
  {
   "cell_type": "markdown",
   "id": "dcbb4d61-26a3-4443-ac0f-673f5136857a",
   "metadata": {},
   "source": [
    "May want to drop locations such as:\n",
    "* Country of Mexico\n",
    "* Puerto Rico\n",
    "* Virgin Islands\n",
    "* Canada"
   ]
  },
  {
   "cell_type": "code",
   "execution_count": 111,
   "id": "c2ab3401-7a3b-4145-be1b-e2590ef29c6b",
   "metadata": {
    "execution": {
     "iopub.execute_input": "2023-01-12T07:20:47.971387Z",
     "iopub.status.busy": "2023-01-12T07:20:47.971289Z",
     "iopub.status.idle": "2023-01-12T07:20:48.001280Z",
     "shell.execute_reply": "2023-01-12T07:20:48.000733Z",
     "shell.execute_reply.started": "2023-01-12T07:20:47.971377Z"
    }
   },
   "outputs": [
    {
     "data": {
      "text/html": [
       "<div>\n",
       "<style scoped>\n",
       "    .dataframe tbody tr th:only-of-type {\n",
       "        vertical-align: middle;\n",
       "    }\n",
       "\n",
       "    .dataframe tbody tr th {\n",
       "        vertical-align: top;\n",
       "    }\n",
       "\n",
       "    .dataframe thead th {\n",
       "        text-align: right;\n",
       "    }\n",
       "</style>\n",
       "<table border=\"1\" class=\"dataframe\">\n",
       "  <thead>\n",
       "    <tr style=\"text-align: right;\">\n",
       "      <th></th>\n",
       "      <th>year</th>\n",
       "      <th>days_with_aqi</th>\n",
       "      <th>good_days</th>\n",
       "      <th>moderate_days</th>\n",
       "      <th>unhealthy_for_sensitive_groups_days</th>\n",
       "      <th>unhealthy_days</th>\n",
       "      <th>very_unhealthy_days</th>\n",
       "      <th>hazardous_days</th>\n",
       "      <th>max_aqi</th>\n",
       "      <th>90th_percentile_aqi</th>\n",
       "      <th>median_aqi</th>\n",
       "      <th>days_co</th>\n",
       "      <th>days_no2</th>\n",
       "      <th>days_ozone</th>\n",
       "      <th>days_pm2.5</th>\n",
       "      <th>days_pm10</th>\n",
       "    </tr>\n",
       "  </thead>\n",
       "  <tbody>\n",
       "    <tr>\n",
       "      <th>count</th>\n",
       "      <td>33502.000000</td>\n",
       "      <td>33502.000000</td>\n",
       "      <td>33502.000000</td>\n",
       "      <td>33502.000000</td>\n",
       "      <td>33502.000000</td>\n",
       "      <td>33502.000000</td>\n",
       "      <td>33502.000000</td>\n",
       "      <td>33502.000000</td>\n",
       "      <td>33502.000000</td>\n",
       "      <td>33502.000000</td>\n",
       "      <td>33502.000000</td>\n",
       "      <td>33502.000000</td>\n",
       "      <td>33502.000000</td>\n",
       "      <td>33502.000000</td>\n",
       "      <td>33502.000000</td>\n",
       "      <td>33502.000000</td>\n",
       "    </tr>\n",
       "    <tr>\n",
       "      <th>mean</th>\n",
       "      <td>2013.378843</td>\n",
       "      <td>304.818220</td>\n",
       "      <td>233.813563</td>\n",
       "      <td>64.906215</td>\n",
       "      <td>5.033132</td>\n",
       "      <td>0.920542</td>\n",
       "      <td>0.095994</td>\n",
       "      <td>0.048773</td>\n",
       "      <td>127.183750</td>\n",
       "      <td>61.495553</td>\n",
       "      <td>37.474599</td>\n",
       "      <td>1.425766</td>\n",
       "      <td>6.699361</td>\n",
       "      <td>169.352039</td>\n",
       "      <td>112.846815</td>\n",
       "      <td>14.494239</td>\n",
       "    </tr>\n",
       "    <tr>\n",
       "      <th>std</th>\n",
       "      <td>4.607776</td>\n",
       "      <td>91.250699</td>\n",
       "      <td>83.797024</td>\n",
       "      <td>51.877028</td>\n",
       "      <td>10.433271</td>\n",
       "      <td>4.054870</td>\n",
       "      <td>1.104159</td>\n",
       "      <td>0.679988</td>\n",
       "      <td>221.866188</td>\n",
       "      <td>19.566392</td>\n",
       "      <td>11.121959</td>\n",
       "      <td>15.505999</td>\n",
       "      <td>26.626984</td>\n",
       "      <td>119.843147</td>\n",
       "      <td>110.158979</td>\n",
       "      <td>53.624707</td>\n",
       "    </tr>\n",
       "    <tr>\n",
       "      <th>min</th>\n",
       "      <td>2006.000000</td>\n",
       "      <td>1.000000</td>\n",
       "      <td>1.000000</td>\n",
       "      <td>0.000000</td>\n",
       "      <td>0.000000</td>\n",
       "      <td>0.000000</td>\n",
       "      <td>0.000000</td>\n",
       "      <td>0.000000</td>\n",
       "      <td>8.000000</td>\n",
       "      <td>5.000000</td>\n",
       "      <td>1.000000</td>\n",
       "      <td>0.000000</td>\n",
       "      <td>0.000000</td>\n",
       "      <td>0.000000</td>\n",
       "      <td>0.000000</td>\n",
       "      <td>0.000000</td>\n",
       "    </tr>\n",
       "    <tr>\n",
       "      <th>25%</th>\n",
       "      <td>2009.000000</td>\n",
       "      <td>248.000000</td>\n",
       "      <td>176.000000</td>\n",
       "      <td>25.000000</td>\n",
       "      <td>0.000000</td>\n",
       "      <td>0.000000</td>\n",
       "      <td>0.000000</td>\n",
       "      <td>0.000000</td>\n",
       "      <td>89.000000</td>\n",
       "      <td>50.000000</td>\n",
       "      <td>33.000000</td>\n",
       "      <td>0.000000</td>\n",
       "      <td>0.000000</td>\n",
       "      <td>0.000000</td>\n",
       "      <td>0.000000</td>\n",
       "      <td>0.000000</td>\n",
       "    </tr>\n",
       "    <tr>\n",
       "      <th>50%</th>\n",
       "      <td>2013.000000</td>\n",
       "      <td>360.000000</td>\n",
       "      <td>249.000000</td>\n",
       "      <td>53.000000</td>\n",
       "      <td>1.000000</td>\n",
       "      <td>0.000000</td>\n",
       "      <td>0.000000</td>\n",
       "      <td>0.000000</td>\n",
       "      <td>112.000000</td>\n",
       "      <td>59.000000</td>\n",
       "      <td>39.000000</td>\n",
       "      <td>0.000000</td>\n",
       "      <td>0.000000</td>\n",
       "      <td>185.000000</td>\n",
       "      <td>93.000000</td>\n",
       "      <td>0.000000</td>\n",
       "    </tr>\n",
       "    <tr>\n",
       "      <th>75%</th>\n",
       "      <td>2017.000000</td>\n",
       "      <td>365.000000</td>\n",
       "      <td>304.000000</td>\n",
       "      <td>93.000000</td>\n",
       "      <td>6.000000</td>\n",
       "      <td>0.000000</td>\n",
       "      <td>0.000000</td>\n",
       "      <td>0.000000</td>\n",
       "      <td>145.000000</td>\n",
       "      <td>71.000000</td>\n",
       "      <td>44.000000</td>\n",
       "      <td>0.000000</td>\n",
       "      <td>0.000000</td>\n",
       "      <td>245.000000</td>\n",
       "      <td>183.000000</td>\n",
       "      <td>1.000000</td>\n",
       "    </tr>\n",
       "    <tr>\n",
       "      <th>max</th>\n",
       "      <td>2021.000000</td>\n",
       "      <td>366.000000</td>\n",
       "      <td>365.000000</td>\n",
       "      <td>339.000000</td>\n",
       "      <td>122.000000</td>\n",
       "      <td>92.000000</td>\n",
       "      <td>74.000000</td>\n",
       "      <td>37.000000</td>\n",
       "      <td>14043.000000</td>\n",
       "      <td>306.000000</td>\n",
       "      <td>132.000000</td>\n",
       "      <td>365.000000</td>\n",
       "      <td>365.000000</td>\n",
       "      <td>366.000000</td>\n",
       "      <td>366.000000</td>\n",
       "      <td>366.000000</td>\n",
       "    </tr>\n",
       "  </tbody>\n",
       "</table>\n",
       "</div>"
      ],
      "text/plain": [
       "               year  days_with_aqi     good_days  moderate_days  \\\n",
       "count  33502.000000   33502.000000  33502.000000   33502.000000   \n",
       "mean    2013.378843     304.818220    233.813563      64.906215   \n",
       "std        4.607776      91.250699     83.797024      51.877028   \n",
       "min     2006.000000       1.000000      1.000000       0.000000   \n",
       "25%     2009.000000     248.000000    176.000000      25.000000   \n",
       "50%     2013.000000     360.000000    249.000000      53.000000   \n",
       "75%     2017.000000     365.000000    304.000000      93.000000   \n",
       "max     2021.000000     366.000000    365.000000     339.000000   \n",
       "\n",
       "       unhealthy_for_sensitive_groups_days  unhealthy_days  \\\n",
       "count                         33502.000000    33502.000000   \n",
       "mean                              5.033132        0.920542   \n",
       "std                              10.433271        4.054870   \n",
       "min                               0.000000        0.000000   \n",
       "25%                               0.000000        0.000000   \n",
       "50%                               1.000000        0.000000   \n",
       "75%                               6.000000        0.000000   \n",
       "max                             122.000000       92.000000   \n",
       "\n",
       "       very_unhealthy_days  hazardous_days       max_aqi  90th_percentile_aqi  \\\n",
       "count         33502.000000    33502.000000  33502.000000         33502.000000   \n",
       "mean              0.095994        0.048773    127.183750            61.495553   \n",
       "std               1.104159        0.679988    221.866188            19.566392   \n",
       "min               0.000000        0.000000      8.000000             5.000000   \n",
       "25%               0.000000        0.000000     89.000000            50.000000   \n",
       "50%               0.000000        0.000000    112.000000            59.000000   \n",
       "75%               0.000000        0.000000    145.000000            71.000000   \n",
       "max              74.000000       37.000000  14043.000000           306.000000   \n",
       "\n",
       "         median_aqi       days_co      days_no2    days_ozone    days_pm2.5  \\\n",
       "count  33502.000000  33502.000000  33502.000000  33502.000000  33502.000000   \n",
       "mean      37.474599      1.425766      6.699361    169.352039    112.846815   \n",
       "std       11.121959     15.505999     26.626984    119.843147    110.158979   \n",
       "min        1.000000      0.000000      0.000000      0.000000      0.000000   \n",
       "25%       33.000000      0.000000      0.000000      0.000000      0.000000   \n",
       "50%       39.000000      0.000000      0.000000    185.000000     93.000000   \n",
       "75%       44.000000      0.000000      0.000000    245.000000    183.000000   \n",
       "max      132.000000    365.000000    365.000000    366.000000    366.000000   \n",
       "\n",
       "          days_pm10  \n",
       "count  33502.000000  \n",
       "mean      14.494239  \n",
       "std       53.624707  \n",
       "min        0.000000  \n",
       "25%        0.000000  \n",
       "50%        0.000000  \n",
       "75%        1.000000  \n",
       "max      366.000000  "
      ]
     },
     "execution_count": 111,
     "metadata": {},
     "output_type": "execute_result"
    }
   ],
   "source": [
    "aqi.describe()"
   ]
  },
  {
   "cell_type": "markdown",
   "id": "244fe0a9-fbc1-48be-a77f-fe3d3a361eab",
   "metadata": {},
   "source": [
    "### CDC Data"
   ]
  },
  {
   "cell_type": "markdown",
   "id": "38d268be-a908-45fd-8a02-41d4f1ea4e5f",
   "metadata": {},
   "source": [
    "Want to import the CDC data and compare the counties."
   ]
  },
  {
   "cell_type": "code",
   "execution_count": 120,
   "id": "22b86d34-dae1-4753-833b-08ad467d7bbb",
   "metadata": {
    "execution": {
     "iopub.execute_input": "2023-01-15T23:22:40.784964Z",
     "iopub.status.busy": "2023-01-15T23:22:40.783135Z",
     "iopub.status.idle": "2023-01-15T23:22:40.827241Z",
     "shell.execute_reply": "2023-01-15T23:22:40.826895Z",
     "shell.execute_reply.started": "2023-01-15T23:22:40.784288Z"
    },
    "tags": []
   },
   "outputs": [],
   "source": [
    "cdc = pd.read_csv('data/Natality_by_year_2007-2021.txt', sep='\\t')"
   ]
  },
  {
   "cell_type": "code",
   "execution_count": 121,
   "id": "76a5f011-9dca-48c4-9428-6807c3be2196",
   "metadata": {
    "execution": {
     "iopub.execute_input": "2023-01-15T23:22:40.828256Z",
     "iopub.status.busy": "2023-01-15T23:22:40.828132Z",
     "iopub.status.idle": "2023-01-15T23:22:40.837668Z",
     "shell.execute_reply": "2023-01-15T23:22:40.837235Z",
     "shell.execute_reply.started": "2023-01-15T23:22:40.828245Z"
    },
    "tags": []
   },
   "outputs": [
    {
     "data": {
      "text/html": [
       "<div>\n",
       "<style scoped>\n",
       "    .dataframe tbody tr th:only-of-type {\n",
       "        vertical-align: middle;\n",
       "    }\n",
       "\n",
       "    .dataframe tbody tr th {\n",
       "        vertical-align: top;\n",
       "    }\n",
       "\n",
       "    .dataframe thead th {\n",
       "        text-align: right;\n",
       "    }\n",
       "</style>\n",
       "<table border=\"1\" class=\"dataframe\">\n",
       "  <thead>\n",
       "    <tr style=\"text-align: right;\">\n",
       "      <th></th>\n",
       "      <th>Notes</th>\n",
       "      <th>State</th>\n",
       "      <th>State Code</th>\n",
       "      <th>County</th>\n",
       "      <th>County Code</th>\n",
       "      <th>Infant Birth Weight 12</th>\n",
       "      <th>Infant Birth Weight 12 Code</th>\n",
       "      <th>Year</th>\n",
       "      <th>Year Code</th>\n",
       "      <th>Births</th>\n",
       "      <th>% of Total Births</th>\n",
       "      <th>Average Birth Weight</th>\n",
       "      <th>Average LMP Gestational Age</th>\n",
       "      <th>Average OE Gestational Age</th>\n",
       "    </tr>\n",
       "  </thead>\n",
       "  <tbody>\n",
       "    <tr>\n",
       "      <th>0</th>\n",
       "      <td>NaN</td>\n",
       "      <td>Alabama</td>\n",
       "      <td>1.0</td>\n",
       "      <td>Baldwin County, AL</td>\n",
       "      <td>1003.0</td>\n",
       "      <td>500 - 999 grams</td>\n",
       "      <td>2.0</td>\n",
       "      <td>2014.0</td>\n",
       "      <td>2014.0</td>\n",
       "      <td>10.0</td>\n",
       "      <td>0.00%</td>\n",
       "      <td>814.90</td>\n",
       "      <td>26.80</td>\n",
       "      <td>26.90</td>\n",
       "    </tr>\n",
       "    <tr>\n",
       "      <th>1</th>\n",
       "      <td>NaN</td>\n",
       "      <td>Alabama</td>\n",
       "      <td>1.0</td>\n",
       "      <td>Baldwin County, AL</td>\n",
       "      <td>1003.0</td>\n",
       "      <td>500 - 999 grams</td>\n",
       "      <td>2.0</td>\n",
       "      <td>2015.0</td>\n",
       "      <td>2015.0</td>\n",
       "      <td>15.0</td>\n",
       "      <td>0.00%</td>\n",
       "      <td>794.13</td>\n",
       "      <td>25.87</td>\n",
       "      <td>25.87</td>\n",
       "    </tr>\n",
       "    <tr>\n",
       "      <th>2</th>\n",
       "      <td>NaN</td>\n",
       "      <td>Alabama</td>\n",
       "      <td>1.0</td>\n",
       "      <td>Baldwin County, AL</td>\n",
       "      <td>1003.0</td>\n",
       "      <td>500 - 999 grams</td>\n",
       "      <td>2.0</td>\n",
       "      <td>2016.0</td>\n",
       "      <td>2016.0</td>\n",
       "      <td>10.0</td>\n",
       "      <td>0.00%</td>\n",
       "      <td>712.50</td>\n",
       "      <td>25.30</td>\n",
       "      <td>25.20</td>\n",
       "    </tr>\n",
       "    <tr>\n",
       "      <th>3</th>\n",
       "      <td>NaN</td>\n",
       "      <td>Alabama</td>\n",
       "      <td>1.0</td>\n",
       "      <td>Baldwin County, AL</td>\n",
       "      <td>1003.0</td>\n",
       "      <td>1000 - 1499 grams</td>\n",
       "      <td>3.0</td>\n",
       "      <td>2014.0</td>\n",
       "      <td>2014.0</td>\n",
       "      <td>10.0</td>\n",
       "      <td>0.00%</td>\n",
       "      <td>1323.70</td>\n",
       "      <td>28.90</td>\n",
       "      <td>29.20</td>\n",
       "    </tr>\n",
       "    <tr>\n",
       "      <th>4</th>\n",
       "      <td>NaN</td>\n",
       "      <td>Alabama</td>\n",
       "      <td>1.0</td>\n",
       "      <td>Baldwin County, AL</td>\n",
       "      <td>1003.0</td>\n",
       "      <td>1000 - 1499 grams</td>\n",
       "      <td>3.0</td>\n",
       "      <td>2015.0</td>\n",
       "      <td>2015.0</td>\n",
       "      <td>18.0</td>\n",
       "      <td>0.00%</td>\n",
       "      <td>1226.56</td>\n",
       "      <td>30.33</td>\n",
       "      <td>30.00</td>\n",
       "    </tr>\n",
       "  </tbody>\n",
       "</table>\n",
       "</div>"
      ],
      "text/plain": [
       "  Notes    State  State Code              County  County Code  \\\n",
       "0   NaN  Alabama         1.0  Baldwin County, AL       1003.0   \n",
       "1   NaN  Alabama         1.0  Baldwin County, AL       1003.0   \n",
       "2   NaN  Alabama         1.0  Baldwin County, AL       1003.0   \n",
       "3   NaN  Alabama         1.0  Baldwin County, AL       1003.0   \n",
       "4   NaN  Alabama         1.0  Baldwin County, AL       1003.0   \n",
       "\n",
       "  Infant Birth Weight 12  Infant Birth Weight 12 Code    Year  Year Code  \\\n",
       "0        500 - 999 grams                          2.0  2014.0     2014.0   \n",
       "1        500 - 999 grams                          2.0  2015.0     2015.0   \n",
       "2        500 - 999 grams                          2.0  2016.0     2016.0   \n",
       "3      1000 - 1499 grams                          3.0  2014.0     2014.0   \n",
       "4      1000 - 1499 grams                          3.0  2015.0     2015.0   \n",
       "\n",
       "   Births % of Total Births  Average Birth Weight  \\\n",
       "0    10.0             0.00%                814.90   \n",
       "1    15.0             0.00%                794.13   \n",
       "2    10.0             0.00%                712.50   \n",
       "3    10.0             0.00%               1323.70   \n",
       "4    18.0             0.00%               1226.56   \n",
       "\n",
       "   Average LMP Gestational Age  Average OE Gestational Age  \n",
       "0                        26.80                       26.90  \n",
       "1                        25.87                       25.87  \n",
       "2                        25.30                       25.20  \n",
       "3                        28.90                       29.20  \n",
       "4                        30.33                       30.00  "
      ]
     },
     "execution_count": 121,
     "metadata": {},
     "output_type": "execute_result"
    }
   ],
   "source": [
    "cdc.head()"
   ]
  },
  {
   "cell_type": "code",
   "execution_count": 122,
   "id": "eee0e85f-fb0a-41f6-9e76-5b3207f80820",
   "metadata": {
    "execution": {
     "iopub.execute_input": "2023-01-15T23:22:40.838474Z",
     "iopub.status.busy": "2023-01-15T23:22:40.838358Z",
     "iopub.status.idle": "2023-01-15T23:22:40.841316Z",
     "shell.execute_reply": "2023-01-15T23:22:40.841017Z",
     "shell.execute_reply.started": "2023-01-15T23:22:40.838464Z"
    },
    "tags": []
   },
   "outputs": [
    {
     "data": {
      "text/plain": [
       "Index(['Notes', 'State', 'State Code', 'County', 'County Code',\n",
       "       'Infant Birth Weight 12', 'Infant Birth Weight 12 Code', 'Year',\n",
       "       'Year Code', 'Births', '% of Total Births', 'Average Birth Weight',\n",
       "       'Average LMP Gestational Age', 'Average OE Gestational Age'],\n",
       "      dtype='object')"
      ]
     },
     "execution_count": 122,
     "metadata": {},
     "output_type": "execute_result"
    }
   ],
   "source": [
    "cdc.columns"
   ]
  },
  {
   "cell_type": "code",
   "execution_count": 123,
   "id": "285aa42c-a73b-4ffa-b8d5-fab90df86c8b",
   "metadata": {
    "execution": {
     "iopub.execute_input": "2023-01-15T23:22:40.842623Z",
     "iopub.status.busy": "2023-01-15T23:22:40.842496Z",
     "iopub.status.idle": "2023-01-15T23:22:40.844800Z",
     "shell.execute_reply": "2023-01-15T23:22:40.844455Z",
     "shell.execute_reply.started": "2023-01-15T23:22:40.842613Z"
    },
    "tags": []
   },
   "outputs": [],
   "source": [
    "cdc.columns = [col.lower().replace(' ', '_') for col in cdc.columns]"
   ]
  },
  {
   "cell_type": "markdown",
   "id": "6571d5a4-1bc1-4fe1-a238-f60e7674db0c",
   "metadata": {},
   "source": [
    "Renaming the % of births column, and if we want different names for other columns, we can do it at this step"
   ]
  },
  {
   "cell_type": "code",
   "execution_count": 124,
   "id": "055fe25c-ca7b-414a-b899-f95b338aad8a",
   "metadata": {
    "execution": {
     "iopub.execute_input": "2023-01-15T23:22:40.845334Z",
     "iopub.status.busy": "2023-01-15T23:22:40.845241Z",
     "iopub.status.idle": "2023-01-15T23:22:40.847745Z",
     "shell.execute_reply": "2023-01-15T23:22:40.847387Z",
     "shell.execute_reply.started": "2023-01-15T23:22:40.845325Z"
    },
    "tags": []
   },
   "outputs": [],
   "source": [
    "cdc.rename(columns={'%_of_total_births': 'pct_tot_births'\n",
    "                   }, inplace=True)"
   ]
  },
  {
   "cell_type": "code",
   "execution_count": 125,
   "id": "57b10cd7-e4c3-40db-b0b0-d4828881eae4",
   "metadata": {
    "execution": {
     "iopub.execute_input": "2023-01-15T23:22:40.848441Z",
     "iopub.status.busy": "2023-01-15T23:22:40.848319Z",
     "iopub.status.idle": "2023-01-15T23:22:40.850951Z",
     "shell.execute_reply": "2023-01-15T23:22:40.850675Z",
     "shell.execute_reply.started": "2023-01-15T23:22:40.848431Z"
    },
    "tags": []
   },
   "outputs": [
    {
     "data": {
      "text/plain": [
       "Index(['notes', 'state', 'state_code', 'county', 'county_code',\n",
       "       'infant_birth_weight_12', 'infant_birth_weight_12_code', 'year',\n",
       "       'year_code', 'births', 'pct_tot_births', 'average_birth_weight',\n",
       "       'average_lmp_gestational_age', 'average_oe_gestational_age'],\n",
       "      dtype='object')"
      ]
     },
     "execution_count": 125,
     "metadata": {},
     "output_type": "execute_result"
    }
   ],
   "source": [
    "cdc.columns"
   ]
  },
  {
   "cell_type": "code",
   "execution_count": 126,
   "id": "4d99885e-7308-487a-9d71-b7fcfc8bdb84",
   "metadata": {
    "execution": {
     "iopub.execute_input": "2023-01-15T23:22:40.851573Z",
     "iopub.status.busy": "2023-01-15T23:22:40.851449Z",
     "iopub.status.idle": "2023-01-15T23:22:40.854828Z",
     "shell.execute_reply": "2023-01-15T23:22:40.854474Z",
     "shell.execute_reply.started": "2023-01-15T23:22:40.851548Z"
    },
    "tags": []
   },
   "outputs": [
    {
     "data": {
      "text/plain": [
       "95"
      ]
     },
     "execution_count": 126,
     "metadata": {},
     "output_type": "execute_result"
    }
   ],
   "source": [
    "cdc['notes'].nunique()"
   ]
  },
  {
   "cell_type": "code",
   "execution_count": 127,
   "id": "d2a673ca-6ece-4267-afa0-27db9852c213",
   "metadata": {
    "execution": {
     "iopub.execute_input": "2023-01-15T23:22:40.855506Z",
     "iopub.status.busy": "2023-01-15T23:22:40.855384Z",
     "iopub.status.idle": "2023-01-15T23:22:40.857264Z",
     "shell.execute_reply": "2023-01-15T23:22:40.856969Z",
     "shell.execute_reply.started": "2023-01-15T23:22:40.855497Z"
    },
    "tags": []
   },
   "outputs": [],
   "source": [
    "# cdc['notes'].unique()"
   ]
  },
  {
   "cell_type": "markdown",
   "id": "afcb8ebd-dc1e-48e4-971d-b07d4b4212d4",
   "metadata": {},
   "source": [
    "All the notes look like they are what shows up at the bottom of the file and isn't data that we're looking for.  Dropping the notes column"
   ]
  },
  {
   "cell_type": "code",
   "execution_count": 128,
   "id": "181e9e67-4495-4898-96a8-becd881394f1",
   "metadata": {
    "execution": {
     "iopub.execute_input": "2023-01-15T23:22:40.857731Z",
     "iopub.status.busy": "2023-01-15T23:22:40.857628Z",
     "iopub.status.idle": "2023-01-15T23:22:40.861028Z",
     "shell.execute_reply": "2023-01-15T23:22:40.860736Z",
     "shell.execute_reply.started": "2023-01-15T23:22:40.857722Z"
    },
    "tags": []
   },
   "outputs": [],
   "source": [
    "cdc.drop(['notes'], axis=1, inplace=True)"
   ]
  },
  {
   "cell_type": "code",
   "execution_count": 129,
   "id": "290b3183-ec24-448b-8ac7-fce70d82ba2f",
   "metadata": {
    "execution": {
     "iopub.execute_input": "2023-01-15T23:22:40.863010Z",
     "iopub.status.busy": "2023-01-15T23:22:40.862882Z",
     "iopub.status.idle": "2023-01-15T23:22:40.881014Z",
     "shell.execute_reply": "2023-01-15T23:22:40.880654Z",
     "shell.execute_reply.started": "2023-01-15T23:22:40.862998Z"
    },
    "tags": []
   },
   "outputs": [
    {
     "data": {
      "text/plain": [
       "state                          100\n",
       "state_code                     100\n",
       "county                         100\n",
       "county_code                    100\n",
       "infant_birth_weight_12         100\n",
       "infant_birth_weight_12_code    100\n",
       "year                           100\n",
       "year_code                      100\n",
       "births                         100\n",
       "pct_tot_births                 100\n",
       "average_birth_weight           100\n",
       "average_lmp_gestational_age    100\n",
       "average_oe_gestational_age     100\n",
       "dtype: int64"
      ]
     },
     "execution_count": 129,
     "metadata": {},
     "output_type": "execute_result"
    }
   ],
   "source": [
    "cdc.isna().sum()[cdc.isna().sum() > 0]"
   ]
  },
  {
   "cell_type": "code",
   "execution_count": 130,
   "id": "b9c98e59-b574-4022-96da-68a93252a94d",
   "metadata": {
    "execution": {
     "iopub.execute_input": "2023-01-15T23:22:40.881655Z",
     "iopub.status.busy": "2023-01-15T23:22:40.881552Z",
     "iopub.status.idle": "2023-01-15T23:22:40.887368Z",
     "shell.execute_reply": "2023-01-15T23:22:40.887075Z",
     "shell.execute_reply.started": "2023-01-15T23:22:40.881645Z"
    },
    "tags": []
   },
   "outputs": [
    {
     "data": {
      "text/html": [
       "<div>\n",
       "<style scoped>\n",
       "    .dataframe tbody tr th:only-of-type {\n",
       "        vertical-align: middle;\n",
       "    }\n",
       "\n",
       "    .dataframe tbody tr th {\n",
       "        vertical-align: top;\n",
       "    }\n",
       "\n",
       "    .dataframe thead th {\n",
       "        text-align: right;\n",
       "    }\n",
       "</style>\n",
       "<table border=\"1\" class=\"dataframe\">\n",
       "  <thead>\n",
       "    <tr style=\"text-align: right;\">\n",
       "      <th></th>\n",
       "      <th>state</th>\n",
       "      <th>state_code</th>\n",
       "      <th>county</th>\n",
       "      <th>county_code</th>\n",
       "      <th>infant_birth_weight_12</th>\n",
       "      <th>infant_birth_weight_12_code</th>\n",
       "      <th>year</th>\n",
       "      <th>year_code</th>\n",
       "      <th>births</th>\n",
       "      <th>pct_tot_births</th>\n",
       "      <th>average_birth_weight</th>\n",
       "      <th>average_lmp_gestational_age</th>\n",
       "      <th>average_oe_gestational_age</th>\n",
       "    </tr>\n",
       "  </thead>\n",
       "  <tbody>\n",
       "    <tr>\n",
       "      <th>21309</th>\n",
       "      <td>NaN</td>\n",
       "      <td>NaN</td>\n",
       "      <td>NaN</td>\n",
       "      <td>NaN</td>\n",
       "      <td>NaN</td>\n",
       "      <td>NaN</td>\n",
       "      <td>NaN</td>\n",
       "      <td>NaN</td>\n",
       "      <td>NaN</td>\n",
       "      <td>NaN</td>\n",
       "      <td>NaN</td>\n",
       "      <td>NaN</td>\n",
       "      <td>NaN</td>\n",
       "    </tr>\n",
       "    <tr>\n",
       "      <th>21310</th>\n",
       "      <td>NaN</td>\n",
       "      <td>NaN</td>\n",
       "      <td>NaN</td>\n",
       "      <td>NaN</td>\n",
       "      <td>NaN</td>\n",
       "      <td>NaN</td>\n",
       "      <td>NaN</td>\n",
       "      <td>NaN</td>\n",
       "      <td>NaN</td>\n",
       "      <td>NaN</td>\n",
       "      <td>NaN</td>\n",
       "      <td>NaN</td>\n",
       "      <td>NaN</td>\n",
       "    </tr>\n",
       "    <tr>\n",
       "      <th>21311</th>\n",
       "      <td>NaN</td>\n",
       "      <td>NaN</td>\n",
       "      <td>NaN</td>\n",
       "      <td>NaN</td>\n",
       "      <td>NaN</td>\n",
       "      <td>NaN</td>\n",
       "      <td>NaN</td>\n",
       "      <td>NaN</td>\n",
       "      <td>NaN</td>\n",
       "      <td>NaN</td>\n",
       "      <td>NaN</td>\n",
       "      <td>NaN</td>\n",
       "      <td>NaN</td>\n",
       "    </tr>\n",
       "    <tr>\n",
       "      <th>21312</th>\n",
       "      <td>NaN</td>\n",
       "      <td>NaN</td>\n",
       "      <td>NaN</td>\n",
       "      <td>NaN</td>\n",
       "      <td>NaN</td>\n",
       "      <td>NaN</td>\n",
       "      <td>NaN</td>\n",
       "      <td>NaN</td>\n",
       "      <td>NaN</td>\n",
       "      <td>NaN</td>\n",
       "      <td>NaN</td>\n",
       "      <td>NaN</td>\n",
       "      <td>NaN</td>\n",
       "    </tr>\n",
       "    <tr>\n",
       "      <th>21313</th>\n",
       "      <td>NaN</td>\n",
       "      <td>NaN</td>\n",
       "      <td>NaN</td>\n",
       "      <td>NaN</td>\n",
       "      <td>NaN</td>\n",
       "      <td>NaN</td>\n",
       "      <td>NaN</td>\n",
       "      <td>NaN</td>\n",
       "      <td>NaN</td>\n",
       "      <td>NaN</td>\n",
       "      <td>NaN</td>\n",
       "      <td>NaN</td>\n",
       "      <td>NaN</td>\n",
       "    </tr>\n",
       "  </tbody>\n",
       "</table>\n",
       "</div>"
      ],
      "text/plain": [
       "      state  state_code county  county_code infant_birth_weight_12  \\\n",
       "21309   NaN         NaN    NaN          NaN                    NaN   \n",
       "21310   NaN         NaN    NaN          NaN                    NaN   \n",
       "21311   NaN         NaN    NaN          NaN                    NaN   \n",
       "21312   NaN         NaN    NaN          NaN                    NaN   \n",
       "21313   NaN         NaN    NaN          NaN                    NaN   \n",
       "\n",
       "       infant_birth_weight_12_code  year  year_code  births pct_tot_births  \\\n",
       "21309                          NaN   NaN        NaN     NaN            NaN   \n",
       "21310                          NaN   NaN        NaN     NaN            NaN   \n",
       "21311                          NaN   NaN        NaN     NaN            NaN   \n",
       "21312                          NaN   NaN        NaN     NaN            NaN   \n",
       "21313                          NaN   NaN        NaN     NaN            NaN   \n",
       "\n",
       "       average_birth_weight  average_lmp_gestational_age  \\\n",
       "21309                   NaN                          NaN   \n",
       "21310                   NaN                          NaN   \n",
       "21311                   NaN                          NaN   \n",
       "21312                   NaN                          NaN   \n",
       "21313                   NaN                          NaN   \n",
       "\n",
       "       average_oe_gestational_age  \n",
       "21309                         NaN  \n",
       "21310                         NaN  \n",
       "21311                         NaN  \n",
       "21312                         NaN  \n",
       "21313                         NaN  "
      ]
     },
     "execution_count": 130,
     "metadata": {},
     "output_type": "execute_result"
    }
   ],
   "source": [
    "cdc.tail()"
   ]
  },
  {
   "cell_type": "markdown",
   "id": "1261ec53-5e9c-43d2-b2b3-c5c43cd65411",
   "metadata": {},
   "source": [
    "We need state and county information for this project,and it looks like all these null values belong, possibly to rows that were holding that notes data.  Dropping these rows to see if that clears up all the nulls."
   ]
  },
  {
   "cell_type": "markdown",
   "id": "2b2bdee1-f508-4113-a03d-2be862a8257a",
   "metadata": {},
   "source": [
    "Drop the rows that have the footnotes in them"
   ]
  },
  {
   "cell_type": "code",
   "execution_count": 131,
   "id": "15eb1c08-6ee8-44da-a472-b1cb2388a5b9",
   "metadata": {
    "execution": {
     "iopub.execute_input": "2023-01-15T23:22:40.888069Z",
     "iopub.status.busy": "2023-01-15T23:22:40.887936Z",
     "iopub.status.idle": "2023-01-15T23:22:40.894662Z",
     "shell.execute_reply": "2023-01-15T23:22:40.894331Z",
     "shell.execute_reply.started": "2023-01-15T23:22:40.888060Z"
    },
    "tags": []
   },
   "outputs": [],
   "source": [
    "cdc.dropna(subset=['state'], inplace=True)"
   ]
  },
  {
   "cell_type": "code",
   "execution_count": 132,
   "id": "1322a50b-032f-4891-a317-f28618475f18",
   "metadata": {
    "execution": {
     "iopub.execute_input": "2023-01-15T23:22:40.895204Z",
     "iopub.status.busy": "2023-01-15T23:22:40.895113Z",
     "iopub.status.idle": "2023-01-15T23:22:40.911971Z",
     "shell.execute_reply": "2023-01-15T23:22:40.911655Z",
     "shell.execute_reply.started": "2023-01-15T23:22:40.895194Z"
    },
    "tags": []
   },
   "outputs": [
    {
     "data": {
      "text/plain": [
       "Series([], dtype: int64)"
      ]
     },
     "execution_count": 132,
     "metadata": {},
     "output_type": "execute_result"
    }
   ],
   "source": [
    "cdc.isna().sum()[cdc.isna().sum() > 0]"
   ]
  },
  {
   "cell_type": "markdown",
   "id": "f4ec0f62-6d53-4f42-9391-4d52d0a0baeb",
   "metadata": {},
   "source": [
    "That did resolve all the null values."
   ]
  },
  {
   "cell_type": "code",
   "execution_count": 133,
   "id": "9b841a0b-7c28-4bf4-b756-f7d0b967552a",
   "metadata": {
    "execution": {
     "iopub.execute_input": "2023-01-15T23:22:40.912495Z",
     "iopub.status.busy": "2023-01-15T23:22:40.912403Z",
     "iopub.status.idle": "2023-01-15T23:22:40.918636Z",
     "shell.execute_reply": "2023-01-15T23:22:40.918304Z",
     "shell.execute_reply.started": "2023-01-15T23:22:40.912486Z"
    },
    "tags": []
   },
   "outputs": [
    {
     "data": {
      "text/html": [
       "<div>\n",
       "<style scoped>\n",
       "    .dataframe tbody tr th:only-of-type {\n",
       "        vertical-align: middle;\n",
       "    }\n",
       "\n",
       "    .dataframe tbody tr th {\n",
       "        vertical-align: top;\n",
       "    }\n",
       "\n",
       "    .dataframe thead th {\n",
       "        text-align: right;\n",
       "    }\n",
       "</style>\n",
       "<table border=\"1\" class=\"dataframe\">\n",
       "  <thead>\n",
       "    <tr style=\"text-align: right;\">\n",
       "      <th></th>\n",
       "      <th>state</th>\n",
       "      <th>state_code</th>\n",
       "      <th>county</th>\n",
       "      <th>county_code</th>\n",
       "      <th>infant_birth_weight_12</th>\n",
       "      <th>infant_birth_weight_12_code</th>\n",
       "      <th>year</th>\n",
       "      <th>year_code</th>\n",
       "      <th>births</th>\n",
       "      <th>pct_tot_births</th>\n",
       "      <th>average_birth_weight</th>\n",
       "      <th>average_lmp_gestational_age</th>\n",
       "      <th>average_oe_gestational_age</th>\n",
       "    </tr>\n",
       "  </thead>\n",
       "  <tbody>\n",
       "    <tr>\n",
       "      <th>21211</th>\n",
       "      <td>Wyoming</td>\n",
       "      <td>56.0</td>\n",
       "      <td>Unidentified Counties, WY</td>\n",
       "      <td>56999.0</td>\n",
       "      <td>2000 - 2499 grams</td>\n",
       "      <td>5.0</td>\n",
       "      <td>2019.0</td>\n",
       "      <td>2019.0</td>\n",
       "      <td>234.0</td>\n",
       "      <td>0.01%</td>\n",
       "      <td>2324.80</td>\n",
       "      <td>36.53</td>\n",
       "      <td>36.47</td>\n",
       "    </tr>\n",
       "    <tr>\n",
       "      <th>21212</th>\n",
       "      <td>Wyoming</td>\n",
       "      <td>56.0</td>\n",
       "      <td>Unidentified Counties, WY</td>\n",
       "      <td>56999.0</td>\n",
       "      <td>2000 - 2499 grams</td>\n",
       "      <td>5.0</td>\n",
       "      <td>2020.0</td>\n",
       "      <td>2020.0</td>\n",
       "      <td>232.0</td>\n",
       "      <td>0.01%</td>\n",
       "      <td>2302.12</td>\n",
       "      <td>36.78</td>\n",
       "      <td>36.43</td>\n",
       "    </tr>\n",
       "    <tr>\n",
       "      <th>21213</th>\n",
       "      <td>Wyoming</td>\n",
       "      <td>56.0</td>\n",
       "      <td>Unidentified Counties, WY</td>\n",
       "      <td>56999.0</td>\n",
       "      <td>2000 - 2499 grams</td>\n",
       "      <td>5.0</td>\n",
       "      <td>2021.0</td>\n",
       "      <td>2021.0</td>\n",
       "      <td>230.0</td>\n",
       "      <td>0.01%</td>\n",
       "      <td>2303.27</td>\n",
       "      <td>36.19</td>\n",
       "      <td>36.30</td>\n",
       "    </tr>\n",
       "  </tbody>\n",
       "</table>\n",
       "</div>"
      ],
      "text/plain": [
       "         state  state_code                     county  county_code  \\\n",
       "21211  Wyoming        56.0  Unidentified Counties, WY      56999.0   \n",
       "21212  Wyoming        56.0  Unidentified Counties, WY      56999.0   \n",
       "21213  Wyoming        56.0  Unidentified Counties, WY      56999.0   \n",
       "\n",
       "      infant_birth_weight_12  infant_birth_weight_12_code    year  year_code  \\\n",
       "21211      2000 - 2499 grams                          5.0  2019.0     2019.0   \n",
       "21212      2000 - 2499 grams                          5.0  2020.0     2020.0   \n",
       "21213      2000 - 2499 grams                          5.0  2021.0     2021.0   \n",
       "\n",
       "       births pct_tot_births  average_birth_weight  \\\n",
       "21211   234.0          0.01%               2324.80   \n",
       "21212   232.0          0.01%               2302.12   \n",
       "21213   230.0          0.01%               2303.27   \n",
       "\n",
       "       average_lmp_gestational_age  average_oe_gestational_age  \n",
       "21211                        36.53                       36.47  \n",
       "21212                        36.78                       36.43  \n",
       "21213                        36.19                       36.30  "
      ]
     },
     "execution_count": 133,
     "metadata": {},
     "output_type": "execute_result"
    }
   ],
   "source": [
    "cdc.tail(3)"
   ]
  },
  {
   "cell_type": "markdown",
   "id": "07d32c3f-3079-4ce3-9bfe-7eb004b9ef4e",
   "metadata": {},
   "source": [
    "It looks like year and year_code might contain the same data"
   ]
  },
  {
   "cell_type": "code",
   "execution_count": 134,
   "id": "aaffda9f-b596-451c-a69e-69b9a81b27d9",
   "metadata": {
    "execution": {
     "iopub.execute_input": "2023-01-15T23:22:40.919312Z",
     "iopub.status.busy": "2023-01-15T23:22:40.919217Z",
     "iopub.status.idle": "2023-01-15T23:22:40.922596Z",
     "shell.execute_reply": "2023-01-15T23:22:40.922276Z",
     "shell.execute_reply.started": "2023-01-15T23:22:40.919303Z"
    },
    "tags": []
   },
   "outputs": [
    {
     "data": {
      "text/plain": [
       "True"
      ]
     },
     "execution_count": 134,
     "metadata": {},
     "output_type": "execute_result"
    }
   ],
   "source": [
    "(cdc['year'] == cdc['year_code']).sum() == cdc.shape[0]"
   ]
  },
  {
   "cell_type": "markdown",
   "id": "26b2a7cb-401c-4b9a-908d-43b821e210d7",
   "metadata": {
    "execution": {
     "iopub.execute_input": "2023-01-15T22:28:01.189549Z",
     "iopub.status.busy": "2023-01-15T22:28:01.188421Z",
     "iopub.status.idle": "2023-01-15T22:28:01.215164Z",
     "shell.execute_reply": "2023-01-15T22:28:01.214651Z",
     "shell.execute_reply.started": "2023-01-15T22:28:01.189519Z"
    }
   },
   "source": [
    "`year` and `year_code` appear to be the same.  We also don't have state or county codes in the EPA data, so dropping those as well."
   ]
  },
  {
   "cell_type": "code",
   "execution_count": 135,
   "id": "0c250d1b-64e2-4f0f-8d6e-6154b44be533",
   "metadata": {
    "execution": {
     "iopub.execute_input": "2023-01-15T23:22:40.923304Z",
     "iopub.status.busy": "2023-01-15T23:22:40.923186Z",
     "iopub.status.idle": "2023-01-15T23:22:40.926801Z",
     "shell.execute_reply": "2023-01-15T23:22:40.926443Z",
     "shell.execute_reply.started": "2023-01-15T23:22:40.923294Z"
    },
    "tags": []
   },
   "outputs": [],
   "source": [
    "cdc.drop(['year_code', 'county_code', 'state_code'], axis=1, inplace=True)"
   ]
  },
  {
   "cell_type": "code",
   "execution_count": 136,
   "id": "59d76224-41e5-42c4-9b98-f8d42940d625",
   "metadata": {
    "execution": {
     "iopub.execute_input": "2023-01-15T23:22:40.927529Z",
     "iopub.status.busy": "2023-01-15T23:22:40.927379Z",
     "iopub.status.idle": "2023-01-15T23:22:40.930275Z",
     "shell.execute_reply": "2023-01-15T23:22:40.929902Z",
     "shell.execute_reply.started": "2023-01-15T23:22:40.927520Z"
    },
    "tags": []
   },
   "outputs": [
    {
     "data": {
      "text/plain": [
       "Index(['state', 'county', 'infant_birth_weight_12',\n",
       "       'infant_birth_weight_12_code', 'year', 'births', 'pct_tot_births',\n",
       "       'average_birth_weight', 'average_lmp_gestational_age',\n",
       "       'average_oe_gestational_age'],\n",
       "      dtype='object')"
      ]
     },
     "execution_count": 136,
     "metadata": {},
     "output_type": "execute_result"
    }
   ],
   "source": [
    "cdc.columns"
   ]
  },
  {
   "cell_type": "markdown",
   "id": "bd3ce33c-1d6b-4a1a-8b09-676aab9a3861",
   "metadata": {},
   "source": [
    "#### Gestational Age at Birth\n",
    "Beginning in 2014 NCHS changed the standard for gestational period from the Last Menstrual Period (LMP) based gestational age to the Obstetric/clinical Estimate (OE) based gestational age. Obstetric/clinical Estimate (OE) based gestational age groups are available for years 2007 and later in WONDER since February 2016. Refer to [Measuring Gestational Age in Vital Statistics Data: Transitioning to the Obstetric Estimate](http://www.cdc.gov/nchs/data/nvsr/nvsr64/nvsr64_05.pdf) for more information.\n",
    "\n",
    "I believe this means this means we should drop the LMP column and keep the OE column."
   ]
  },
  {
   "cell_type": "code",
   "execution_count": 137,
   "id": "27d5beb6-6e91-4d0f-a890-da302a0858fc",
   "metadata": {
    "execution": {
     "iopub.execute_input": "2023-01-15T23:22:40.930940Z",
     "iopub.status.busy": "2023-01-15T23:22:40.930841Z",
     "iopub.status.idle": "2023-01-15T23:22:40.934368Z",
     "shell.execute_reply": "2023-01-15T23:22:40.934024Z",
     "shell.execute_reply.started": "2023-01-15T23:22:40.930930Z"
    }
   },
   "outputs": [],
   "source": [
    "cdc.drop(['average_lmp_gestational_age'], axis=1, inplace=True)"
   ]
  },
  {
   "cell_type": "code",
   "execution_count": 138,
   "id": "9425c5e2-76cc-44d7-a24b-5340b5c320b2",
   "metadata": {
    "execution": {
     "iopub.execute_input": "2023-01-15T23:22:40.935048Z",
     "iopub.status.busy": "2023-01-15T23:22:40.934947Z",
     "iopub.status.idle": "2023-01-15T23:22:40.937716Z",
     "shell.execute_reply": "2023-01-15T23:22:40.937272Z",
     "shell.execute_reply.started": "2023-01-15T23:22:40.935039Z"
    }
   },
   "outputs": [
    {
     "data": {
      "text/plain": [
       "Index(['state', 'county', 'infant_birth_weight_12',\n",
       "       'infant_birth_weight_12_code', 'year', 'births', 'pct_tot_births',\n",
       "       'average_birth_weight', 'average_oe_gestational_age'],\n",
       "      dtype='object')"
      ]
     },
     "execution_count": 138,
     "metadata": {},
     "output_type": "execute_result"
    }
   ],
   "source": [
    "cdc.columns"
   ]
  },
  {
   "cell_type": "markdown",
   "id": "6e1391d3-d049-46b2-b505-2989618cb394",
   "metadata": {},
   "source": [
    "#### Birth Weight Columns\n",
    "\n",
    "There are two columns for the birth weight categories:\n",
    "* `infant_birth_weight_12`\n",
    "* `infant_brirth_weight_12_code`\n",
    "\n",
    "So I will drop the code column and rename the remaining column to reduce length.  I'll also relabel the `average_birth_weight` column to reduce length and clean up the gestational age name as well."
   ]
  },
  {
   "cell_type": "code",
   "execution_count": 139,
   "id": "d5bd39f3-af30-4132-9c53-427c3417467e",
   "metadata": {
    "execution": {
     "iopub.execute_input": "2023-01-15T23:22:40.938310Z",
     "iopub.status.busy": "2023-01-15T23:22:40.938199Z",
     "iopub.status.idle": "2023-01-15T23:22:40.941927Z",
     "shell.execute_reply": "2023-01-15T23:22:40.941587Z",
     "shell.execute_reply.started": "2023-01-15T23:22:40.938300Z"
    }
   },
   "outputs": [],
   "source": [
    "cdc.drop(['infant_birth_weight_12_code'], axis=1, inplace=True)"
   ]
  },
  {
   "cell_type": "code",
   "execution_count": 140,
   "id": "b586e196-b304-4114-9c81-1579170ee157",
   "metadata": {
    "execution": {
     "iopub.execute_input": "2023-01-15T23:22:40.942613Z",
     "iopub.status.busy": "2023-01-15T23:22:40.942490Z",
     "iopub.status.idle": "2023-01-15T23:22:40.944813Z",
     "shell.execute_reply": "2023-01-15T23:22:40.944538Z",
     "shell.execute_reply.started": "2023-01-15T23:22:40.942602Z"
    }
   },
   "outputs": [],
   "source": [
    "cdc.rename(columns={\n",
    "    'infant_birth_weight_12': 'weight_cat',\n",
    "    'average_birth_weight': 'avg_birth_weight',\n",
    "    'average_oe_gestational_age': 'ave_gest_age'\n",
    "    }, inplace=True)"
   ]
  },
  {
   "cell_type": "code",
   "execution_count": 141,
   "id": "9e4be595-2478-4178-aeea-fdf9f8d0c310",
   "metadata": {
    "execution": {
     "iopub.execute_input": "2023-01-15T23:22:40.945375Z",
     "iopub.status.busy": "2023-01-15T23:22:40.945230Z",
     "iopub.status.idle": "2023-01-15T23:22:40.950954Z",
     "shell.execute_reply": "2023-01-15T23:22:40.950640Z",
     "shell.execute_reply.started": "2023-01-15T23:22:40.945356Z"
    },
    "tags": []
   },
   "outputs": [
    {
     "data": {
      "text/html": [
       "<div>\n",
       "<style scoped>\n",
       "    .dataframe tbody tr th:only-of-type {\n",
       "        vertical-align: middle;\n",
       "    }\n",
       "\n",
       "    .dataframe tbody tr th {\n",
       "        vertical-align: top;\n",
       "    }\n",
       "\n",
       "    .dataframe thead th {\n",
       "        text-align: right;\n",
       "    }\n",
       "</style>\n",
       "<table border=\"1\" class=\"dataframe\">\n",
       "  <thead>\n",
       "    <tr style=\"text-align: right;\">\n",
       "      <th></th>\n",
       "      <th>state</th>\n",
       "      <th>county</th>\n",
       "      <th>weight_cat</th>\n",
       "      <th>year</th>\n",
       "      <th>births</th>\n",
       "      <th>pct_tot_births</th>\n",
       "      <th>avg_birth_weight</th>\n",
       "      <th>ave_gest_age</th>\n",
       "    </tr>\n",
       "  </thead>\n",
       "  <tbody>\n",
       "    <tr>\n",
       "      <th>0</th>\n",
       "      <td>Alabama</td>\n",
       "      <td>Baldwin County, AL</td>\n",
       "      <td>500 - 999 grams</td>\n",
       "      <td>2014.0</td>\n",
       "      <td>10.0</td>\n",
       "      <td>0.00%</td>\n",
       "      <td>814.90</td>\n",
       "      <td>26.90</td>\n",
       "    </tr>\n",
       "    <tr>\n",
       "      <th>1</th>\n",
       "      <td>Alabama</td>\n",
       "      <td>Baldwin County, AL</td>\n",
       "      <td>500 - 999 grams</td>\n",
       "      <td>2015.0</td>\n",
       "      <td>15.0</td>\n",
       "      <td>0.00%</td>\n",
       "      <td>794.13</td>\n",
       "      <td>25.87</td>\n",
       "    </tr>\n",
       "    <tr>\n",
       "      <th>2</th>\n",
       "      <td>Alabama</td>\n",
       "      <td>Baldwin County, AL</td>\n",
       "      <td>500 - 999 grams</td>\n",
       "      <td>2016.0</td>\n",
       "      <td>10.0</td>\n",
       "      <td>0.00%</td>\n",
       "      <td>712.50</td>\n",
       "      <td>25.20</td>\n",
       "    </tr>\n",
       "    <tr>\n",
       "      <th>3</th>\n",
       "      <td>Alabama</td>\n",
       "      <td>Baldwin County, AL</td>\n",
       "      <td>1000 - 1499 grams</td>\n",
       "      <td>2014.0</td>\n",
       "      <td>10.0</td>\n",
       "      <td>0.00%</td>\n",
       "      <td>1323.70</td>\n",
       "      <td>29.20</td>\n",
       "    </tr>\n",
       "    <tr>\n",
       "      <th>4</th>\n",
       "      <td>Alabama</td>\n",
       "      <td>Baldwin County, AL</td>\n",
       "      <td>1000 - 1499 grams</td>\n",
       "      <td>2015.0</td>\n",
       "      <td>18.0</td>\n",
       "      <td>0.00%</td>\n",
       "      <td>1226.56</td>\n",
       "      <td>30.00</td>\n",
       "    </tr>\n",
       "  </tbody>\n",
       "</table>\n",
       "</div>"
      ],
      "text/plain": [
       "     state              county         weight_cat    year  births  \\\n",
       "0  Alabama  Baldwin County, AL    500 - 999 grams  2014.0    10.0   \n",
       "1  Alabama  Baldwin County, AL    500 - 999 grams  2015.0    15.0   \n",
       "2  Alabama  Baldwin County, AL    500 - 999 grams  2016.0    10.0   \n",
       "3  Alabama  Baldwin County, AL  1000 - 1499 grams  2014.0    10.0   \n",
       "4  Alabama  Baldwin County, AL  1000 - 1499 grams  2015.0    18.0   \n",
       "\n",
       "  pct_tot_births  avg_birth_weight  ave_gest_age  \n",
       "0          0.00%            814.90         26.90  \n",
       "1          0.00%            794.13         25.87  \n",
       "2          0.00%            712.50         25.20  \n",
       "3          0.00%           1323.70         29.20  \n",
       "4          0.00%           1226.56         30.00  "
      ]
     },
     "execution_count": 141,
     "metadata": {},
     "output_type": "execute_result"
    }
   ],
   "source": [
    "cdc.head()"
   ]
  },
  {
   "cell_type": "markdown",
   "id": "c010eb6e-a4e8-483e-9979-a7754d023628",
   "metadata": {},
   "source": [
    "#### County Names"
   ]
  },
  {
   "cell_type": "code",
   "execution_count": 142,
   "id": "3b540dbc-37e7-4abd-a969-78d6c1f7e59f",
   "metadata": {
    "execution": {
     "iopub.execute_input": "2023-01-15T23:22:40.951557Z",
     "iopub.status.busy": "2023-01-15T23:22:40.951460Z",
     "iopub.status.idle": "2023-01-15T23:22:40.956257Z",
     "shell.execute_reply": "2023-01-15T23:22:40.955867Z",
     "shell.execute_reply.started": "2023-01-15T23:22:40.951549Z"
    },
    "tags": []
   },
   "outputs": [
    {
     "data": {
      "text/plain": [
       "10880    Unidentified Counties, MS\n",
       "7753           Woodbury County, IA\n",
       "21128    Unidentified Counties, WI\n",
       "16130         Clackamas County, OR\n",
       "3274               Mesa County, CO\n",
       "16804            Lehigh County, PA\n",
       "20123        Newport News city, VA\n",
       "6688               Will County, IL\n",
       "13637    Unidentified Counties, NY\n",
       "6038             Canyon County, ID\n",
       "Name: county, dtype: object"
      ]
     },
     "execution_count": 142,
     "metadata": {},
     "output_type": "execute_result"
    }
   ],
   "source": [
    "cdc['county'].sample(10)"
   ]
  },
  {
   "cell_type": "markdown",
   "id": "ac0a9819-c58b-4a41-97d0-748bd1afca29",
   "metadata": {},
   "source": [
    "I ran the sample code above multiple times to see some of the data in the county column.  Looks like they are including the state abbreviation in the County name, so will remove that.  There were also some places that didn't say \"County\" and said \"Counties\" (i.e. Unidentified Counties, WY) and also there were some locations that were parishes (in LA) or other unique monikers like Borough.  So I'm splitting on both the \" Count\" to capture County and Counties as well as \",\" to get both cases.\n",
    "\n",
    "We should look at what the AQI data has and decide whether we need to treat the remaining unique naming cases that remain after this clean up."
   ]
  },
  {
   "cell_type": "code",
   "execution_count": 143,
   "id": "d91e0df7-2f5c-4b8a-84c6-992b6ded4c57",
   "metadata": {
    "execution": {
     "iopub.execute_input": "2023-01-15T23:22:40.957129Z",
     "iopub.status.busy": "2023-01-15T23:22:40.956837Z",
     "iopub.status.idle": "2023-01-15T23:22:40.965475Z",
     "shell.execute_reply": "2023-01-15T23:22:40.965057Z",
     "shell.execute_reply.started": "2023-01-15T23:22:40.957109Z"
    },
    "tags": []
   },
   "outputs": [],
   "source": [
    "cdc['county'] = cdc['county'\n",
    "                   ].apply(lambda x: x.split(' Count')[0].split(',')[0])"
   ]
  },
  {
   "cell_type": "code",
   "execution_count": 144,
   "id": "041736ed-1a55-42bc-86dd-40c8ef9d980a",
   "metadata": {
    "execution": {
     "iopub.execute_input": "2023-01-15T23:22:40.966138Z",
     "iopub.status.busy": "2023-01-15T23:22:40.966042Z",
     "iopub.status.idle": "2023-01-15T23:22:40.972310Z",
     "shell.execute_reply": "2023-01-15T23:22:40.971943Z",
     "shell.execute_reply.started": "2023-01-15T23:22:40.966130Z"
    },
    "tags": []
   },
   "outputs": [
    {
     "data": {
      "text/plain": [
       "state      50\n",
       "county    466\n",
       "dtype: int64"
      ]
     },
     "execution_count": 144,
     "metadata": {},
     "output_type": "execute_result"
    }
   ],
   "source": [
    "cdc[['state', 'county']].nunique()"
   ]
  },
  {
   "cell_type": "code",
   "execution_count": 145,
   "id": "84ee3281-bac9-4f67-9c2d-271f5457e1c3",
   "metadata": {
    "execution": {
     "iopub.execute_input": "2023-01-15T23:22:40.973065Z",
     "iopub.status.busy": "2023-01-15T23:22:40.972936Z",
     "iopub.status.idle": "2023-01-15T23:22:40.976790Z",
     "shell.execute_reply": "2023-01-15T23:22:40.976508Z",
     "shell.execute_reply.started": "2023-01-15T23:22:40.973053Z"
    },
    "tags": []
   },
   "outputs": [
    {
     "data": {
      "text/plain": [
       "9397       Washington\n",
       "4141         Escambia\n",
       "3429     Unidentified\n",
       "5904     Unidentified\n",
       "6088     Unidentified\n",
       "1516         Monterey\n",
       "18662         Midland\n",
       "10136          Macomb\n",
       "3977        Charlotte\n",
       "19734    Unidentified\n",
       "Name: county, dtype: object"
      ]
     },
     "execution_count": 145,
     "metadata": {},
     "output_type": "execute_result"
    }
   ],
   "source": [
    "cdc['county'].sample(10)"
   ]
  },
  {
   "cell_type": "markdown",
   "id": "3766351c-bfe0-4d1d-9076-4275a157eae9",
   "metadata": {},
   "source": [
    "This looks more like what I would expect where it is just the name of the county.  Since we also saw that there were unidentified counties, and they are all just listed as Unidentified now, we should drop that data since we are trying to investigate county air quality and county birth weights, so without a specific county, the data is not valuable to us."
   ]
  },
  {
   "cell_type": "code",
   "execution_count": 146,
   "id": "cc541b45-63bc-4d8c-a1fd-2c1794a81533",
   "metadata": {
    "execution": {
     "iopub.execute_input": "2023-01-15T23:22:40.977468Z",
     "iopub.status.busy": "2023-01-15T23:22:40.977305Z",
     "iopub.status.idle": "2023-01-15T23:22:40.980157Z",
     "shell.execute_reply": "2023-01-15T23:22:40.979754Z",
     "shell.execute_reply.started": "2023-01-15T23:22:40.977452Z"
    }
   },
   "outputs": [
    {
     "data": {
      "text/plain": [
       "(21214, 8)"
      ]
     },
     "execution_count": 146,
     "metadata": {},
     "output_type": "execute_result"
    }
   ],
   "source": [
    "cdc.shape"
   ]
  },
  {
   "cell_type": "code",
   "execution_count": 147,
   "id": "e9d19723-d5b1-4ea2-b258-f5f9e9a55b66",
   "metadata": {
    "execution": {
     "iopub.execute_input": "2023-01-15T23:22:40.984214Z",
     "iopub.status.busy": "2023-01-15T23:22:40.984066Z",
     "iopub.status.idle": "2023-01-15T23:22:40.989071Z",
     "shell.execute_reply": "2023-01-15T23:22:40.988699Z",
     "shell.execute_reply.started": "2023-01-15T23:22:40.984203Z"
    }
   },
   "outputs": [],
   "source": [
    "cdc.drop(cdc[cdc['county'] == 'Unidentified'].index, inplace=True)"
   ]
  },
  {
   "cell_type": "code",
   "execution_count": 148,
   "id": "cafd0f5d-ac08-4626-94e4-17c62c400a4e",
   "metadata": {
    "execution": {
     "iopub.execute_input": "2023-01-15T23:22:40.989820Z",
     "iopub.status.busy": "2023-01-15T23:22:40.989699Z",
     "iopub.status.idle": "2023-01-15T23:22:40.992784Z",
     "shell.execute_reply": "2023-01-15T23:22:40.992483Z",
     "shell.execute_reply.started": "2023-01-15T23:22:40.989808Z"
    }
   },
   "outputs": [
    {
     "data": {
      "text/plain": [
       "(19028, 8)"
      ]
     },
     "execution_count": 148,
     "metadata": {},
     "output_type": "execute_result"
    }
   ],
   "source": [
    "cdc.shape"
   ]
  },
  {
   "cell_type": "code",
   "execution_count": 149,
   "id": "25073c83-d890-4306-99af-b1ebbc20c3df",
   "metadata": {
    "execution": {
     "iopub.execute_input": "2023-01-15T23:22:40.993374Z",
     "iopub.status.busy": "2023-01-15T23:22:40.993276Z",
     "iopub.status.idle": "2023-01-15T23:22:40.996899Z",
     "shell.execute_reply": "2023-01-15T23:22:40.996495Z",
     "shell.execute_reply.started": "2023-01-15T23:22:40.993365Z"
    }
   },
   "outputs": [
    {
     "data": {
      "text/plain": [
       "state                object\n",
       "county               object\n",
       "weight_cat           object\n",
       "year                float64\n",
       "births              float64\n",
       "pct_tot_births       object\n",
       "avg_birth_weight    float64\n",
       "ave_gest_age        float64\n",
       "dtype: object"
      ]
     },
     "execution_count": 149,
     "metadata": {},
     "output_type": "execute_result"
    }
   ],
   "source": [
    "cdc.dtypes"
   ]
  },
  {
   "cell_type": "markdown",
   "id": "cbc15737-ce43-4854-b117-2726ffa8d49a",
   "metadata": {},
   "source": [
    "Most of the datatypes look correct, but the `pct_tot_births` is an object and I believe this should be a float, so will investigate that a bit further."
   ]
  },
  {
   "cell_type": "code",
   "execution_count": 150,
   "id": "a41e4676-422d-44ba-b5d3-39955dea655f",
   "metadata": {
    "execution": {
     "iopub.execute_input": "2023-01-15T23:22:40.997595Z",
     "iopub.status.busy": "2023-01-15T23:22:40.997477Z",
     "iopub.status.idle": "2023-01-15T23:22:41.002324Z",
     "shell.execute_reply": "2023-01-15T23:22:41.002000Z",
     "shell.execute_reply.started": "2023-01-15T23:22:40.997585Z"
    },
    "tags": []
   },
   "outputs": [
    {
     "data": {
      "text/plain": [
       "0.00%    15428\n",
       "0.01%     2551\n",
       "0.02%      591\n",
       "0.03%      191\n",
       "0.05%       84\n",
       "0.04%       70\n",
       "0.06%       37\n",
       "0.07%       25\n",
       "0.08%       10\n",
       "0.12%       10\n",
       "0.13%        9\n",
       "0.21%        3\n",
       "0.15%        2\n",
       "0.09%        2\n",
       "0.11%        2\n",
       "0.14%        2\n",
       "0.20%        2\n",
       "0.26%        2\n",
       "0.18%        1\n",
       "0.17%        1\n",
       "0.19%        1\n",
       "0.23%        1\n",
       "0.10%        1\n",
       "0.24%        1\n",
       "0.22%        1\n",
       "Name: pct_tot_births, dtype: int64"
      ]
     },
     "execution_count": 150,
     "metadata": {},
     "output_type": "execute_result"
    }
   ],
   "source": [
    "cdc['pct_tot_births'].value_counts()"
   ]
  },
  {
   "cell_type": "code",
   "execution_count": 151,
   "id": "3133fa0e-3d54-4f05-83bb-3e3707686a58",
   "metadata": {
    "execution": {
     "iopub.execute_input": "2023-01-15T23:22:41.003161Z",
     "iopub.status.busy": "2023-01-15T23:22:41.002965Z",
     "iopub.status.idle": "2023-01-15T23:22:41.008414Z",
     "shell.execute_reply": "2023-01-15T23:22:41.008101Z",
     "shell.execute_reply.started": "2023-01-15T23:22:41.003145Z"
    }
   },
   "outputs": [],
   "source": [
    "cdc['pct_tot_births'] = cdc['pct_tot_births'\n",
    "                           ].apply(lambda x: x[:4])"
   ]
  },
  {
   "cell_type": "code",
   "execution_count": 160,
   "id": "4220359e-01bf-4066-b824-cf5c6a871739",
   "metadata": {
    "execution": {
     "iopub.execute_input": "2023-01-15T23:23:35.847727Z",
     "iopub.status.busy": "2023-01-15T23:23:35.846135Z",
     "iopub.status.idle": "2023-01-15T23:23:35.861934Z",
     "shell.execute_reply": "2023-01-15T23:23:35.861239Z",
     "shell.execute_reply.started": "2023-01-15T23:23:35.847666Z"
    },
    "tags": []
   },
   "outputs": [],
   "source": [
    "cdc['pct_tot_births'] = cdc['pct_tot_births'].astype(float)"
   ]
  },
  {
   "cell_type": "code",
   "execution_count": 161,
   "id": "91d4f5d4-803c-4e1d-841e-b3bba2ec5e36",
   "metadata": {
    "execution": {
     "iopub.execute_input": "2023-01-15T23:23:41.470499Z",
     "iopub.status.busy": "2023-01-15T23:23:41.469840Z",
     "iopub.status.idle": "2023-01-15T23:23:41.492005Z",
     "shell.execute_reply": "2023-01-15T23:23:41.483256Z",
     "shell.execute_reply.started": "2023-01-15T23:23:41.470445Z"
    }
   },
   "outputs": [
    {
     "data": {
      "text/plain": [
       "state                object\n",
       "county               object\n",
       "weight_cat           object\n",
       "year                float64\n",
       "births              float64\n",
       "pct_tot_births      float64\n",
       "avg_birth_weight    float64\n",
       "ave_gest_age        float64\n",
       "dtype: object"
      ]
     },
     "execution_count": 161,
     "metadata": {},
     "output_type": "execute_result"
    }
   ],
   "source": [
    "cdc.dtypes"
   ]
  },
  {
   "cell_type": "code",
   "execution_count": 162,
   "id": "43ed4b5f-5ea4-455f-9e44-a2542700d348",
   "metadata": {
    "execution": {
     "iopub.execute_input": "2023-01-15T23:23:50.830451Z",
     "iopub.status.busy": "2023-01-15T23:23:50.829420Z",
     "iopub.status.idle": "2023-01-15T23:23:50.852956Z",
     "shell.execute_reply": "2023-01-15T23:23:50.852319Z",
     "shell.execute_reply.started": "2023-01-15T23:23:50.830395Z"
    }
   },
   "outputs": [
    {
     "data": {
      "text/html": [
       "<div>\n",
       "<style scoped>\n",
       "    .dataframe tbody tr th:only-of-type {\n",
       "        vertical-align: middle;\n",
       "    }\n",
       "\n",
       "    .dataframe tbody tr th {\n",
       "        vertical-align: top;\n",
       "    }\n",
       "\n",
       "    .dataframe thead th {\n",
       "        text-align: right;\n",
       "    }\n",
       "</style>\n",
       "<table border=\"1\" class=\"dataframe\">\n",
       "  <thead>\n",
       "    <tr style=\"text-align: right;\">\n",
       "      <th></th>\n",
       "      <th>state</th>\n",
       "      <th>county</th>\n",
       "      <th>weight_cat</th>\n",
       "      <th>year</th>\n",
       "      <th>births</th>\n",
       "      <th>pct_tot_births</th>\n",
       "      <th>avg_birth_weight</th>\n",
       "      <th>ave_gest_age</th>\n",
       "    </tr>\n",
       "  </thead>\n",
       "  <tbody>\n",
       "    <tr>\n",
       "      <th>0</th>\n",
       "      <td>Alabama</td>\n",
       "      <td>Baldwin</td>\n",
       "      <td>500 - 999 grams</td>\n",
       "      <td>2014.0</td>\n",
       "      <td>10.0</td>\n",
       "      <td>0.0</td>\n",
       "      <td>814.90</td>\n",
       "      <td>26.90</td>\n",
       "    </tr>\n",
       "    <tr>\n",
       "      <th>1</th>\n",
       "      <td>Alabama</td>\n",
       "      <td>Baldwin</td>\n",
       "      <td>500 - 999 grams</td>\n",
       "      <td>2015.0</td>\n",
       "      <td>15.0</td>\n",
       "      <td>0.0</td>\n",
       "      <td>794.13</td>\n",
       "      <td>25.87</td>\n",
       "    </tr>\n",
       "    <tr>\n",
       "      <th>2</th>\n",
       "      <td>Alabama</td>\n",
       "      <td>Baldwin</td>\n",
       "      <td>500 - 999 grams</td>\n",
       "      <td>2016.0</td>\n",
       "      <td>10.0</td>\n",
       "      <td>0.0</td>\n",
       "      <td>712.50</td>\n",
       "      <td>25.20</td>\n",
       "    </tr>\n",
       "    <tr>\n",
       "      <th>3</th>\n",
       "      <td>Alabama</td>\n",
       "      <td>Baldwin</td>\n",
       "      <td>1000 - 1499 grams</td>\n",
       "      <td>2014.0</td>\n",
       "      <td>10.0</td>\n",
       "      <td>0.0</td>\n",
       "      <td>1323.70</td>\n",
       "      <td>29.20</td>\n",
       "    </tr>\n",
       "    <tr>\n",
       "      <th>4</th>\n",
       "      <td>Alabama</td>\n",
       "      <td>Baldwin</td>\n",
       "      <td>1000 - 1499 grams</td>\n",
       "      <td>2015.0</td>\n",
       "      <td>18.0</td>\n",
       "      <td>0.0</td>\n",
       "      <td>1226.56</td>\n",
       "      <td>30.00</td>\n",
       "    </tr>\n",
       "  </tbody>\n",
       "</table>\n",
       "</div>"
      ],
      "text/plain": [
       "     state   county         weight_cat    year  births  pct_tot_births  \\\n",
       "0  Alabama  Baldwin    500 - 999 grams  2014.0    10.0             0.0   \n",
       "1  Alabama  Baldwin    500 - 999 grams  2015.0    15.0             0.0   \n",
       "2  Alabama  Baldwin    500 - 999 grams  2016.0    10.0             0.0   \n",
       "3  Alabama  Baldwin  1000 - 1499 grams  2014.0    10.0             0.0   \n",
       "4  Alabama  Baldwin  1000 - 1499 grams  2015.0    18.0             0.0   \n",
       "\n",
       "   avg_birth_weight  ave_gest_age  \n",
       "0            814.90         26.90  \n",
       "1            794.13         25.87  \n",
       "2            712.50         25.20  \n",
       "3           1323.70         29.20  \n",
       "4           1226.56         30.00  "
      ]
     },
     "execution_count": 162,
     "metadata": {},
     "output_type": "execute_result"
    }
   ],
   "source": [
    "cdc.head()"
   ]
  },
  {
   "cell_type": "markdown",
   "id": "9bbe1aa3-47f7-452b-b979-440c60aac82a",
   "metadata": {},
   "source": [
    "### Export Data"
   ]
  },
  {
   "cell_type": "code",
   "execution_count": 163,
   "id": "18cd569f-e8fe-4a98-bae8-cfb15da8613c",
   "metadata": {
    "execution": {
     "iopub.execute_input": "2023-01-15T23:27:24.457309Z",
     "iopub.status.busy": "2023-01-15T23:27:24.455869Z",
     "iopub.status.idle": "2023-01-15T23:27:24.533501Z",
     "shell.execute_reply": "2023-01-15T23:27:24.533109Z",
     "shell.execute_reply.started": "2023-01-15T23:27:24.457231Z"
    }
   },
   "outputs": [],
   "source": [
    "cdc.to_csv('data/cdc_cleaned.csv', index=False)"
   ]
  },
  {
   "cell_type": "markdown",
   "id": "15a479ab-0f61-4f14-85cd-3f0da481663f",
   "metadata": {},
   "source": [
    "## PARKING LOT"
   ]
  },
  {
   "cell_type": "code",
   "execution_count": 153,
   "id": "a74e372b-e450-4e27-ad4e-a3b0fce9a72a",
   "metadata": {
    "execution": {
     "iopub.execute_input": "2023-01-15T23:22:41.014215Z",
     "iopub.status.busy": "2023-01-15T23:22:41.014000Z",
     "iopub.status.idle": "2023-01-15T23:22:41.016000Z",
     "shell.execute_reply": "2023-01-15T23:22:41.015680Z",
     "shell.execute_reply.started": "2023-01-15T23:22:41.014199Z"
    },
    "tags": []
   },
   "outputs": [],
   "source": [
    "# how many counties from the aqi are also in the cdc data\n",
    "# len(set(aqi['county']).intersection(set(cdc['County'])))"
   ]
  },
  {
   "cell_type": "code",
   "execution_count": 154,
   "id": "d96533b1-7a23-42f5-a49a-f11bf0538f6b",
   "metadata": {
    "execution": {
     "iopub.execute_input": "2023-01-15T23:22:41.016572Z",
     "iopub.status.busy": "2023-01-15T23:22:41.016490Z",
     "iopub.status.idle": "2023-01-15T23:22:41.018132Z",
     "shell.execute_reply": "2023-01-15T23:22:41.017867Z",
     "shell.execute_reply.started": "2023-01-15T23:22:41.016564Z"
    },
    "tags": []
   },
   "outputs": [],
   "source": [
    "# what are the differences\n",
    "#set(aqi['county']).difference(set(cdc['County']))"
   ]
  },
  {
   "cell_type": "markdown",
   "id": "fa844c49-fc68-4a0a-985e-9d995d900e5f",
   "metadata": {
    "tags": []
   },
   "source": [
    "### EPA API Information\n",
    "\n",
    "Look to see if getting more granular data from the API is feasible\n",
    "\n",
    "Your user ID is your email address: mrhurless@gmail.com \n",
    "Your key is: rubymouse94 "
   ]
  },
  {
   "cell_type": "code",
   "execution_count": 155,
   "id": "537762f0-5dee-4bec-ae0c-2f620cc624bc",
   "metadata": {
    "execution": {
     "iopub.execute_input": "2023-01-15T23:22:41.018652Z",
     "iopub.status.busy": "2023-01-15T23:22:41.018551Z",
     "iopub.status.idle": "2023-01-15T23:22:41.020469Z",
     "shell.execute_reply": "2023-01-15T23:22:41.020149Z",
     "shell.execute_reply.started": "2023-01-15T23:22:41.018644Z"
    }
   },
   "outputs": [],
   "source": [
    "# import requests"
   ]
  },
  {
   "cell_type": "code",
   "execution_count": 156,
   "id": "419d546d-5f0d-40d9-9c8d-15d9bdf31905",
   "metadata": {
    "execution": {
     "iopub.execute_input": "2023-01-15T23:22:41.021429Z",
     "iopub.status.busy": "2023-01-15T23:22:41.021153Z",
     "iopub.status.idle": "2023-01-15T23:22:41.023430Z",
     "shell.execute_reply": "2023-01-15T23:22:41.023065Z",
     "shell.execute_reply.started": "2023-01-15T23:22:41.021417Z"
    },
    "tags": []
   },
   "outputs": [],
   "source": [
    "# email = 'mrhurless@gmail.com'\n",
    "# key = 'rubymouse94'\n",
    "\n",
    "# url = f'https://aqs.epa.gov/data/api/list/parametersByClass?email={email}&key={key}&pc=CRITERIA'\n",
    "\n",
    "# res = requests.get(url)\n",
    "\n",
    "# res.status_code"
   ]
  },
  {
   "cell_type": "code",
   "execution_count": 157,
   "id": "2f8a816e-6c4a-42af-be96-827413586eac",
   "metadata": {
    "execution": {
     "iopub.execute_input": "2023-01-15T23:22:41.024084Z",
     "iopub.status.busy": "2023-01-15T23:22:41.023986Z",
     "iopub.status.idle": "2023-01-15T23:22:41.026310Z",
     "shell.execute_reply": "2023-01-15T23:22:41.025979Z",
     "shell.execute_reply.started": "2023-01-15T23:22:41.024075Z"
    }
   },
   "outputs": [],
   "source": [
    "# # from https://stackoverflow.com/questions/71603314/ssl-error-unsafe-legacy-renegotiation-disabled\n",
    "\n",
    "# import urllib3\n",
    "# import ssl\n",
    "\n",
    "# class CustomHttpAdapter (requests.adapters.HTTPAdapter):\n",
    "#     # \"Transport adapter\" that allows us to use custom ssl_context.\n",
    "\n",
    "#     def __init__(self, ssl_context=None, **kwargs):\n",
    "#         self.ssl_context = ssl_context\n",
    "#         super().__init__(**kwargs)\n",
    "\n",
    "#     def init_poolmanager(self, connections, maxsize, block=False):\n",
    "#         self.poolmanager = urllib3.poolmanager.PoolManager(\n",
    "#             num_pools=connections, maxsize=maxsize,\n",
    "#             block=block, ssl_context=self.ssl_context)\n",
    "\n",
    "\n",
    "# def get_legacy_session():\n",
    "#     ctx = ssl.create_default_context(ssl.Purpose.SERVER_AUTH)\n",
    "#     ctx.options |= 0x4  # OP_LEGACY_SERVER_CONNECT\n",
    "#     session = requests.session()\n",
    "#     session.mount('https://', CustomHttpAdapter(ctx))\n",
    "#     return session"
   ]
  },
  {
   "cell_type": "code",
   "execution_count": 158,
   "id": "9335456c-877a-4198-8087-ceadc9e35f81",
   "metadata": {
    "execution": {
     "iopub.execute_input": "2023-01-15T23:22:41.026823Z",
     "iopub.status.busy": "2023-01-15T23:22:41.026741Z",
     "iopub.status.idle": "2023-01-15T23:22:41.028519Z",
     "shell.execute_reply": "2023-01-15T23:22:41.028223Z",
     "shell.execute_reply.started": "2023-01-15T23:22:41.026815Z"
    }
   },
   "outputs": [],
   "source": [
    "# res = get_legacy_session().get(url)"
   ]
  },
  {
   "cell_type": "code",
   "execution_count": null,
   "id": "d3bcf3ad-2813-4943-ab7f-ab794892de9f",
   "metadata": {},
   "outputs": [],
   "source": []
  },
  {
   "cell_type": "code",
   "execution_count": 159,
   "id": "85467adb-d25e-4205-a9b7-d25e66ec045d",
   "metadata": {
    "execution": {
     "iopub.execute_input": "2023-01-15T23:22:41.029189Z",
     "iopub.status.busy": "2023-01-15T23:22:41.029026Z",
     "iopub.status.idle": "2023-01-15T23:22:41.034130Z",
     "shell.execute_reply": "2023-01-15T23:22:41.033794Z",
     "shell.execute_reply.started": "2023-01-15T23:22:41.029173Z"
    },
    "jupyter": {
     "source_hidden": true
    },
    "tags": []
   },
   "outputs": [],
   "source": [
    "def get_aqi():\n",
    "    creds = ('mhurless@me.com', '0n3L0v3#')\n",
    "    email = 'mrhurless@gmail.com'\n",
    "    key = 'rubymouse94'\n",
    "    all_posts = []\n",
    "    \n",
    "    url = \"https://support.brightsign.biz/api/v2/community/posts\"\n",
    "    \n",
    "    res = requests.get(url, auth=creds)\n",
    "    \n",
    "    # get data other than posts data\n",
    "    metadata = {\n",
    "                key: value for key, value in res.json().items() \n",
    "                if key != 'posts'\n",
    "            }\n",
    "    \n",
    "    last_page = metadata['page_count']\n",
    "    current_page = metadata['page']\n",
    "    \n",
    "    #count = 0 #keep track of posts # don't think this is needed with this\n",
    "    # approach\n",
    "\n",
    "    # goal is to get posts from all pages, so we'll check if we've reached \n",
    "    # the last page, but will also put in a catch for the rate limit as \n",
    "    # mentioned by the API docs\n",
    "    \n",
    "    while current_page <= last_page:\n",
    "        res = requests.get(url, auth=creds)\n",
    "\n",
    "        if res.status_code == 200:\n",
    "            posts = pd.DataFrame(res.json()['posts'])\n",
    "            metadata = {\n",
    "                key: value for key, value in res.json().items() \n",
    "                if key != 'posts'\n",
    "            }\n",
    "            \n",
    "            # update current page\n",
    "            current_page = metadata['page']\n",
    "            \n",
    "            # update URL to pull posts from next page\n",
    "            url = metadata['next_page']\n",
    "\n",
    "            all_posts.append(posts)\n",
    "            \n",
    "            #sleep(5)\n",
    "\n",
    "            if metadata['page'] == metadata['page_count']: \n",
    "                break #break loop if last page is reached\n",
    "\n",
    "            #get sequential posts from most recent to least    \n",
    "            #params['before'] = posts['created_utc'].min()\n",
    "        elif res.status_code == 429:\n",
    "            sleep(res.headers['retry-after'])\n",
    "        else:\n",
    "            print(f'status: {res.status_code}')  \n",
    "    print(f'posts retrieved from API: {len(all_posts)}')\n",
    "\n",
    "    return pd.concat(all_posts)"
   ]
  }
 ],
 "metadata": {
  "kernelspec": {
   "display_name": "Python 3 (ipykernel)",
   "language": "python",
   "name": "python3"
  },
  "language_info": {
   "codemirror_mode": {
    "name": "ipython",
    "version": 3
   },
   "file_extension": ".py",
   "mimetype": "text/x-python",
   "name": "python",
   "nbconvert_exporter": "python",
   "pygments_lexer": "ipython3",
   "version": "3.9.15"
  }
 },
 "nbformat": 4,
 "nbformat_minor": 5
}
