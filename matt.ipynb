{
 "cells": [
  {
   "cell_type": "markdown",
   "id": "bb87ac76-6e5a-4bb9-b4c4-5ef88304c3c7",
   "metadata": {},
   "source": [
    "# Data Collection and Cleaning"
   ]
  },
  {
   "cell_type": "markdown",
   "id": "eeeea78f-9b61-4564-b6b1-6e5132edf148",
   "metadata": {},
   "source": [
    "Data has been collected from both the EPA for Air Quality Index data and from the CDC for birth data relating to weight.  "
   ]
  },
  {
   "cell_type": "markdown",
   "id": "ddde48d8-8b2c-4ccf-ac47-16333269d8ac",
   "metadata": {},
   "source": [
    "## Imports"
   ]
  },
  {
   "cell_type": "code",
   "execution_count": 106,
   "id": "b78cde8d-490d-4f0a-8843-b65070799d81",
   "metadata": {
    "execution": {
     "iopub.execute_input": "2023-01-17T06:18:40.053946Z",
     "iopub.status.busy": "2023-01-17T06:18:40.052433Z",
     "iopub.status.idle": "2023-01-17T06:18:40.062503Z",
     "shell.execute_reply": "2023-01-17T06:18:40.061354Z",
     "shell.execute_reply.started": "2023-01-17T06:18:40.053817Z"
    },
    "tags": []
   },
   "outputs": [],
   "source": [
    "import pandas as pd\n",
    "import numpy as np\n",
    "import matplotlib.pyplot as plt\n",
    "import seaborn as sns\n",
    "\n",
    "from pathlib import Path"
   ]
  },
  {
   "cell_type": "markdown",
   "id": "3fb70775-2797-4998-aff2-54b85c1e471c",
   "metadata": {},
   "source": [
    "## Data"
   ]
  },
  {
   "cell_type": "markdown",
   "id": "38dc7b5b-6af5-4cb6-adda-b35c38f224d2",
   "metadata": {},
   "source": [
    "### EPA AQI Data"
   ]
  },
  {
   "cell_type": "markdown",
   "id": "34301743-721e-475b-aed8-8d983da09dbf",
   "metadata": {},
   "source": [
    "Looking at example data that Winston collected via API"
   ]
  },
  {
   "cell_type": "code",
   "execution_count": 107,
   "id": "a82431f2-a3ce-4279-8825-979e953e009f",
   "metadata": {
    "execution": {
     "iopub.execute_input": "2023-01-17T06:18:40.065859Z",
     "iopub.status.busy": "2023-01-17T06:18:40.065153Z",
     "iopub.status.idle": "2023-01-17T06:18:40.071569Z",
     "shell.execute_reply": "2023-01-17T06:18:40.071087Z",
     "shell.execute_reply.started": "2023-01-17T06:18:40.065826Z"
    },
    "tags": []
   },
   "outputs": [],
   "source": [
    "# df = pd.read_csv('data/AQS_data_test_Alabama_2006.csv')"
   ]
  },
  {
   "cell_type": "code",
   "execution_count": 108,
   "id": "3758219e-71c8-4408-b97e-e3d86591755d",
   "metadata": {
    "execution": {
     "iopub.execute_input": "2023-01-17T06:18:40.072109Z",
     "iopub.status.busy": "2023-01-17T06:18:40.072006Z",
     "iopub.status.idle": "2023-01-17T06:18:40.074234Z",
     "shell.execute_reply": "2023-01-17T06:18:40.073910Z",
     "shell.execute_reply.started": "2023-01-17T06:18:40.072099Z"
    }
   },
   "outputs": [],
   "source": [
    "# df.head()"
   ]
  },
  {
   "cell_type": "code",
   "execution_count": 109,
   "id": "dad0bbc3-d92a-4bb6-8f69-aa5152ece15a",
   "metadata": {
    "execution": {
     "iopub.execute_input": "2023-01-17T06:18:40.074879Z",
     "iopub.status.busy": "2023-01-17T06:18:40.074781Z",
     "iopub.status.idle": "2023-01-17T06:18:40.076644Z",
     "shell.execute_reply": "2023-01-17T06:18:40.076263Z",
     "shell.execute_reply.started": "2023-01-17T06:18:40.074869Z"
    }
   },
   "outputs": [],
   "source": [
    "# df.columns"
   ]
  },
  {
   "cell_type": "code",
   "execution_count": 110,
   "id": "b0adcb8e-eb28-40bc-bcc5-5ea550574644",
   "metadata": {
    "execution": {
     "iopub.execute_input": "2023-01-17T06:18:40.078332Z",
     "iopub.status.busy": "2023-01-17T06:18:40.078020Z",
     "iopub.status.idle": "2023-01-17T06:18:40.080169Z",
     "shell.execute_reply": "2023-01-17T06:18:40.079798Z",
     "shell.execute_reply.started": "2023-01-17T06:18:40.078319Z"
    }
   },
   "outputs": [],
   "source": [
    "# df.drop(['Unnamed: 0', 'state_code', 'county_code'], axis=1, inplace=True)"
   ]
  },
  {
   "cell_type": "code",
   "execution_count": 111,
   "id": "37504f44-6b3d-41b9-b95b-ea2bccac565c",
   "metadata": {
    "execution": {
     "iopub.execute_input": "2023-01-17T06:18:40.080848Z",
     "iopub.status.busy": "2023-01-17T06:18:40.080714Z",
     "iopub.status.idle": "2023-01-17T06:18:40.082712Z",
     "shell.execute_reply": "2023-01-17T06:18:40.082378Z",
     "shell.execute_reply.started": "2023-01-17T06:18:40.080837Z"
    }
   },
   "outputs": [],
   "source": [
    "# df.shape"
   ]
  },
  {
   "cell_type": "code",
   "execution_count": 112,
   "id": "7be1f246-38c6-4bb7-b453-ab454b6e2dba",
   "metadata": {
    "execution": {
     "iopub.execute_input": "2023-01-17T06:18:40.083332Z",
     "iopub.status.busy": "2023-01-17T06:18:40.083228Z",
     "iopub.status.idle": "2023-01-17T06:18:40.085103Z",
     "shell.execute_reply": "2023-01-17T06:18:40.084772Z",
     "shell.execute_reply.started": "2023-01-17T06:18:40.083321Z"
    },
    "tags": []
   },
   "outputs": [],
   "source": [
    "# df['county'].unique()"
   ]
  },
  {
   "cell_type": "code",
   "execution_count": 113,
   "id": "570eacd3-88b4-469a-aa11-989bea3d8898",
   "metadata": {
    "execution": {
     "iopub.execute_input": "2023-01-17T06:18:40.085738Z",
     "iopub.status.busy": "2023-01-17T06:18:40.085635Z",
     "iopub.status.idle": "2023-01-17T06:18:40.087495Z",
     "shell.execute_reply": "2023-01-17T06:18:40.087138Z",
     "shell.execute_reply.started": "2023-01-17T06:18:40.085729Z"
    },
    "tags": []
   },
   "outputs": [],
   "source": [
    "# df[(df['state'] == 'Alabama') & (df['county'] == 'Shelby')]['pollutant_standard'].unique()"
   ]
  },
  {
   "cell_type": "markdown",
   "id": "8c49c4ec-d561-4461-8149-cfdea157f150",
   "metadata": {},
   "source": [
    "#### Import Data"
   ]
  },
  {
   "cell_type": "markdown",
   "id": "7b462df9-11de-456e-9b3c-176e3ec2b489",
   "metadata": {},
   "source": [
    "The air quality data was downloaded from https://aqs.epa.gov/aqsweb/airdata/download_files.html#Annual as files containing annual data from years 2016-2021.  We are combining these CSV files into a single dataframe and will evaluate whether it will meet the needs for the project, or whether data will need to be collected through the API that the EPA offers for AirData."
   ]
  },
  {
   "cell_type": "code",
   "execution_count": 114,
   "id": "7b8cfe0a-0b74-46d1-b8e9-e02cd795ca07",
   "metadata": {
    "execution": {
     "iopub.execute_input": "2023-01-17T06:18:40.088164Z",
     "iopub.status.busy": "2023-01-17T06:18:40.088043Z",
     "iopub.status.idle": "2023-01-17T06:18:40.159935Z",
     "shell.execute_reply": "2023-01-17T06:18:40.159554Z",
     "shell.execute_reply.started": "2023-01-17T06:18:40.088154Z"
    },
    "tags": []
   },
   "outputs": [],
   "source": [
    "# code from Winston merged with approach from\n",
    "# https://towardsdatascience.com/pandas-concat-tricks-you-should-know-to-speed-up-your-data-analysis-cd3d4fdfe6dd\n",
    "\n",
    "data_path = Path('data/')\n",
    "\n",
    "# create a list of all the AQI csv files\n",
    "dfs = (\n",
    "    pd.read_csv(file) for file in data_path.glob('*_aqi_*') if file.is_file()\n",
    ")\n",
    "\n",
    "# concatenate the dataframes\n",
    "res = pd.concat(dfs)\n",
    "\n",
    "# export the final csv\n",
    "res.to_csv('data/aqi_by_year_2006-2021.csv', index=False)"
   ]
  },
  {
   "cell_type": "markdown",
   "id": "e1313cd6-657f-4ba5-b71c-9af1c6981e3d",
   "metadata": {},
   "source": [
    "Read the final CSV for all the AQI data"
   ]
  },
  {
   "cell_type": "code",
   "execution_count": 115,
   "id": "04e99e09-da9f-4496-82c4-0e30295776c5",
   "metadata": {
    "execution": {
     "iopub.execute_input": "2023-01-17T06:18:40.160477Z",
     "iopub.status.busy": "2023-01-17T06:18:40.160389Z",
     "iopub.status.idle": "2023-01-17T06:18:40.172263Z",
     "shell.execute_reply": "2023-01-17T06:18:40.171982Z",
     "shell.execute_reply.started": "2023-01-17T06:18:40.160468Z"
    },
    "tags": []
   },
   "outputs": [],
   "source": [
    "aqi = pd.read_csv('data/aqi_by_year_2006-2021.csv')"
   ]
  },
  {
   "cell_type": "markdown",
   "id": "81600c17-007c-4664-8b4d-c39fc66fb534",
   "metadata": {},
   "source": [
    "#### General Look and Cleanup"
   ]
  },
  {
   "cell_type": "code",
   "execution_count": 116,
   "id": "6ebe28d0-0354-46a5-8f81-6b4ffb180d21",
   "metadata": {
    "execution": {
     "iopub.execute_input": "2023-01-17T06:18:40.172939Z",
     "iopub.status.busy": "2023-01-17T06:18:40.172804Z",
     "iopub.status.idle": "2023-01-17T06:18:40.178298Z",
     "shell.execute_reply": "2023-01-17T06:18:40.178009Z",
     "shell.execute_reply.started": "2023-01-17T06:18:40.172930Z"
    },
    "tags": []
   },
   "outputs": [
    {
     "data": {
      "text/html": [
       "<div>\n",
       "<style scoped>\n",
       "    .dataframe tbody tr th:only-of-type {\n",
       "        vertical-align: middle;\n",
       "    }\n",
       "\n",
       "    .dataframe tbody tr th {\n",
       "        vertical-align: top;\n",
       "    }\n",
       "\n",
       "    .dataframe thead th {\n",
       "        text-align: right;\n",
       "    }\n",
       "</style>\n",
       "<table border=\"1\" class=\"dataframe\">\n",
       "  <thead>\n",
       "    <tr style=\"text-align: right;\">\n",
       "      <th></th>\n",
       "      <th>State</th>\n",
       "      <th>County</th>\n",
       "      <th>Year</th>\n",
       "      <th>Days with AQI</th>\n",
       "      <th>Good Days</th>\n",
       "      <th>Moderate Days</th>\n",
       "      <th>Unhealthy for Sensitive Groups Days</th>\n",
       "      <th>Unhealthy Days</th>\n",
       "      <th>Very Unhealthy Days</th>\n",
       "      <th>Hazardous Days</th>\n",
       "      <th>Max AQI</th>\n",
       "      <th>90th Percentile AQI</th>\n",
       "      <th>Median AQI</th>\n",
       "      <th>Days CO</th>\n",
       "      <th>Days NO2</th>\n",
       "      <th>Days Ozone</th>\n",
       "      <th>Days PM2.5</th>\n",
       "      <th>Days PM10</th>\n",
       "    </tr>\n",
       "  </thead>\n",
       "  <tbody>\n",
       "    <tr>\n",
       "      <th>0</th>\n",
       "      <td>Alabama</td>\n",
       "      <td>Baldwin</td>\n",
       "      <td>2009</td>\n",
       "      <td>252</td>\n",
       "      <td>218</td>\n",
       "      <td>32</td>\n",
       "      <td>2</td>\n",
       "      <td>0</td>\n",
       "      <td>0</td>\n",
       "      <td>0</td>\n",
       "      <td>136</td>\n",
       "      <td>53</td>\n",
       "      <td>36</td>\n",
       "      <td>0</td>\n",
       "      <td>0</td>\n",
       "      <td>200</td>\n",
       "      <td>52</td>\n",
       "      <td>0</td>\n",
       "    </tr>\n",
       "    <tr>\n",
       "      <th>1</th>\n",
       "      <td>Alabama</td>\n",
       "      <td>Clay</td>\n",
       "      <td>2009</td>\n",
       "      <td>119</td>\n",
       "      <td>97</td>\n",
       "      <td>22</td>\n",
       "      <td>0</td>\n",
       "      <td>0</td>\n",
       "      <td>0</td>\n",
       "      <td>0</td>\n",
       "      <td>94</td>\n",
       "      <td>59</td>\n",
       "      <td>33</td>\n",
       "      <td>0</td>\n",
       "      <td>0</td>\n",
       "      <td>0</td>\n",
       "      <td>119</td>\n",
       "      <td>0</td>\n",
       "    </tr>\n",
       "    <tr>\n",
       "      <th>2</th>\n",
       "      <td>Alabama</td>\n",
       "      <td>Colbert</td>\n",
       "      <td>2009</td>\n",
       "      <td>323</td>\n",
       "      <td>220</td>\n",
       "      <td>103</td>\n",
       "      <td>0</td>\n",
       "      <td>0</td>\n",
       "      <td>0</td>\n",
       "      <td>0</td>\n",
       "      <td>76</td>\n",
       "      <td>60</td>\n",
       "      <td>43</td>\n",
       "      <td>0</td>\n",
       "      <td>0</td>\n",
       "      <td>132</td>\n",
       "      <td>191</td>\n",
       "      <td>0</td>\n",
       "    </tr>\n",
       "    <tr>\n",
       "      <th>3</th>\n",
       "      <td>Alabama</td>\n",
       "      <td>DeKalb</td>\n",
       "      <td>2009</td>\n",
       "      <td>363</td>\n",
       "      <td>311</td>\n",
       "      <td>52</td>\n",
       "      <td>0</td>\n",
       "      <td>0</td>\n",
       "      <td>0</td>\n",
       "      <td>0</td>\n",
       "      <td>100</td>\n",
       "      <td>54</td>\n",
       "      <td>36</td>\n",
       "      <td>0</td>\n",
       "      <td>0</td>\n",
       "      <td>308</td>\n",
       "      <td>55</td>\n",
       "      <td>0</td>\n",
       "    </tr>\n",
       "    <tr>\n",
       "      <th>4</th>\n",
       "      <td>Alabama</td>\n",
       "      <td>Elmore</td>\n",
       "      <td>2009</td>\n",
       "      <td>244</td>\n",
       "      <td>228</td>\n",
       "      <td>16</td>\n",
       "      <td>0</td>\n",
       "      <td>0</td>\n",
       "      <td>0</td>\n",
       "      <td>0</td>\n",
       "      <td>80</td>\n",
       "      <td>49</td>\n",
       "      <td>36</td>\n",
       "      <td>0</td>\n",
       "      <td>0</td>\n",
       "      <td>244</td>\n",
       "      <td>0</td>\n",
       "      <td>0</td>\n",
       "    </tr>\n",
       "  </tbody>\n",
       "</table>\n",
       "</div>"
      ],
      "text/plain": [
       "     State   County  Year  Days with AQI  Good Days  Moderate Days  \\\n",
       "0  Alabama  Baldwin  2009            252        218             32   \n",
       "1  Alabama     Clay  2009            119         97             22   \n",
       "2  Alabama  Colbert  2009            323        220            103   \n",
       "3  Alabama   DeKalb  2009            363        311             52   \n",
       "4  Alabama   Elmore  2009            244        228             16   \n",
       "\n",
       "   Unhealthy for Sensitive Groups Days  Unhealthy Days  Very Unhealthy Days  \\\n",
       "0                                    2               0                    0   \n",
       "1                                    0               0                    0   \n",
       "2                                    0               0                    0   \n",
       "3                                    0               0                    0   \n",
       "4                                    0               0                    0   \n",
       "\n",
       "   Hazardous Days  Max AQI  90th Percentile AQI  Median AQI  Days CO  \\\n",
       "0               0      136                   53          36        0   \n",
       "1               0       94                   59          33        0   \n",
       "2               0       76                   60          43        0   \n",
       "3               0      100                   54          36        0   \n",
       "4               0       80                   49          36        0   \n",
       "\n",
       "   Days NO2  Days Ozone  Days PM2.5  Days PM10  \n",
       "0         0         200          52          0  \n",
       "1         0           0         119          0  \n",
       "2         0         132         191          0  \n",
       "3         0         308          55          0  \n",
       "4         0         244           0          0  "
      ]
     },
     "execution_count": 116,
     "metadata": {},
     "output_type": "execute_result"
    }
   ],
   "source": [
    "aqi.head()"
   ]
  },
  {
   "cell_type": "code",
   "execution_count": 117,
   "id": "64e70772-1680-42f0-81dc-2e5b71be9400",
   "metadata": {
    "execution": {
     "iopub.execute_input": "2023-01-17T06:18:40.178885Z",
     "iopub.status.busy": "2023-01-17T06:18:40.178788Z",
     "iopub.status.idle": "2023-01-17T06:18:40.181609Z",
     "shell.execute_reply": "2023-01-17T06:18:40.181296Z",
     "shell.execute_reply.started": "2023-01-17T06:18:40.178875Z"
    },
    "tags": []
   },
   "outputs": [
    {
     "data": {
      "text/plain": [
       "Index(['State', 'County', 'Year', 'Days with AQI', 'Good Days',\n",
       "       'Moderate Days', 'Unhealthy for Sensitive Groups Days',\n",
       "       'Unhealthy Days', 'Very Unhealthy Days', 'Hazardous Days', 'Max AQI',\n",
       "       '90th Percentile AQI', 'Median AQI', 'Days CO', 'Days NO2',\n",
       "       'Days Ozone', 'Days PM2.5', 'Days PM10'],\n",
       "      dtype='object')"
      ]
     },
     "execution_count": 117,
     "metadata": {},
     "output_type": "execute_result"
    }
   ],
   "source": [
    "aqi.columns"
   ]
  },
  {
   "cell_type": "code",
   "execution_count": 118,
   "id": "f1414960-e9f4-4111-bba0-3a77690b24c6",
   "metadata": {
    "execution": {
     "iopub.execute_input": "2023-01-17T06:18:40.182250Z",
     "iopub.status.busy": "2023-01-17T06:18:40.182132Z",
     "iopub.status.idle": "2023-01-17T06:18:40.186261Z",
     "shell.execute_reply": "2023-01-17T06:18:40.185896Z",
     "shell.execute_reply.started": "2023-01-17T06:18:40.182239Z"
    },
    "tags": []
   },
   "outputs": [
    {
     "data": {
      "text/plain": [
       "(16751, 18)"
      ]
     },
     "execution_count": 118,
     "metadata": {},
     "output_type": "execute_result"
    }
   ],
   "source": [
    "aqi.shape"
   ]
  },
  {
   "cell_type": "code",
   "execution_count": 119,
   "id": "ef6b8b82-0da7-445c-bd47-8b3ab696f9de",
   "metadata": {
    "execution": {
     "iopub.execute_input": "2023-01-17T06:18:40.189032Z",
     "iopub.status.busy": "2023-01-17T06:18:40.188660Z",
     "iopub.status.idle": "2023-01-17T06:18:40.192084Z",
     "shell.execute_reply": "2023-01-17T06:18:40.191767Z",
     "shell.execute_reply.started": "2023-01-17T06:18:40.189013Z"
    },
    "tags": []
   },
   "outputs": [
    {
     "data": {
      "text/plain": [
       "State                                  object\n",
       "County                                 object\n",
       "Year                                    int64\n",
       "Days with AQI                           int64\n",
       "Good Days                               int64\n",
       "Moderate Days                           int64\n",
       "Unhealthy for Sensitive Groups Days     int64\n",
       "Unhealthy Days                          int64\n",
       "Very Unhealthy Days                     int64\n",
       "Hazardous Days                          int64\n",
       "Max AQI                                 int64\n",
       "90th Percentile AQI                     int64\n",
       "Median AQI                              int64\n",
       "Days CO                                 int64\n",
       "Days NO2                                int64\n",
       "Days Ozone                              int64\n",
       "Days PM2.5                              int64\n",
       "Days PM10                               int64\n",
       "dtype: object"
      ]
     },
     "execution_count": 119,
     "metadata": {},
     "output_type": "execute_result"
    }
   ],
   "source": [
    "aqi.dtypes"
   ]
  },
  {
   "cell_type": "code",
   "execution_count": 120,
   "id": "8a711741-3952-4bca-9de2-475d5e2e7503",
   "metadata": {
    "execution": {
     "iopub.execute_input": "2023-01-17T06:18:40.192588Z",
     "iopub.status.busy": "2023-01-17T06:18:40.192491Z",
     "iopub.status.idle": "2023-01-17T06:18:40.194785Z",
     "shell.execute_reply": "2023-01-17T06:18:40.194464Z",
     "shell.execute_reply.started": "2023-01-17T06:18:40.192578Z"
    },
    "tags": []
   },
   "outputs": [],
   "source": [
    "aqi.columns = [col.lower().replace(' ', '_') for col in aqi.columns]"
   ]
  },
  {
   "cell_type": "code",
   "execution_count": 121,
   "id": "7a4b7186-6c7d-4764-8fb2-3a0e42717e04",
   "metadata": {
    "execution": {
     "iopub.execute_input": "2023-01-17T06:18:40.195310Z",
     "iopub.status.busy": "2023-01-17T06:18:40.195159Z",
     "iopub.status.idle": "2023-01-17T06:18:40.197784Z",
     "shell.execute_reply": "2023-01-17T06:18:40.197393Z",
     "shell.execute_reply.started": "2023-01-17T06:18:40.195301Z"
    },
    "tags": []
   },
   "outputs": [
    {
     "data": {
      "text/plain": [
       "Index(['state', 'county', 'year', 'days_with_aqi', 'good_days',\n",
       "       'moderate_days', 'unhealthy_for_sensitive_groups_days',\n",
       "       'unhealthy_days', 'very_unhealthy_days', 'hazardous_days', 'max_aqi',\n",
       "       '90th_percentile_aqi', 'median_aqi', 'days_co', 'days_no2',\n",
       "       'days_ozone', 'days_pm2.5', 'days_pm10'],\n",
       "      dtype='object')"
      ]
     },
     "execution_count": 121,
     "metadata": {},
     "output_type": "execute_result"
    }
   ],
   "source": [
    "aqi.columns"
   ]
  },
  {
   "cell_type": "markdown",
   "id": "b1206041-05f0-461b-867f-bc8304245067",
   "metadata": {},
   "source": [
    "#### Rename Columns\n",
    "Mainly to trim the length of some of the column names to make it easier to work with."
   ]
  },
  {
   "cell_type": "code",
   "execution_count": 123,
   "id": "4a9c51ab-2735-478e-8efd-29e56baf9cea",
   "metadata": {
    "execution": {
     "iopub.execute_input": "2023-01-17T06:23:00.300199Z",
     "iopub.status.busy": "2023-01-17T06:23:00.299533Z",
     "iopub.status.idle": "2023-01-17T06:23:00.309960Z",
     "shell.execute_reply": "2023-01-17T06:23:00.306720Z",
     "shell.execute_reply.started": "2023-01-17T06:23:00.300156Z"
    },
    "tags": []
   },
   "outputs": [],
   "source": [
    "aqi.rename(columns={\n",
    "    'moderate_days': 'mod_days',\n",
    "    'unhealthy_for_sensitive_groups_days': 'uh_sens_days',\n",
    "    'unhealthy_days': 'uh_days',\n",
    "    'very_unhealthy_days': 'v_uh_days',\n",
    "    'hazardous_days': 'haz_days',\n",
    "    '90th_percentile_aqi': '90_per_aqi'\n",
    "    }, inplace=True)"
   ]
  },
  {
   "cell_type": "code",
   "execution_count": 124,
   "id": "a6645beb-d1e7-4836-b79c-47d4338b3845",
   "metadata": {
    "execution": {
     "iopub.execute_input": "2023-01-17T06:23:02.254498Z",
     "iopub.status.busy": "2023-01-17T06:23:02.254050Z",
     "iopub.status.idle": "2023-01-17T06:23:02.282350Z",
     "shell.execute_reply": "2023-01-17T06:23:02.281714Z",
     "shell.execute_reply.started": "2023-01-17T06:23:02.254474Z"
    },
    "tags": []
   },
   "outputs": [
    {
     "data": {
      "text/plain": [
       "Series([], dtype: int64)"
      ]
     },
     "execution_count": 124,
     "metadata": {},
     "output_type": "execute_result"
    }
   ],
   "source": [
    "aqi.isnull().sum()[aqi.isnull().sum() > 0]"
   ]
  },
  {
   "cell_type": "code",
   "execution_count": 125,
   "id": "4c1ff902-a36d-4951-99d8-29596f4da118",
   "metadata": {
    "execution": {
     "iopub.execute_input": "2023-01-17T06:23:03.691585Z",
     "iopub.status.busy": "2023-01-17T06:23:03.691133Z",
     "iopub.status.idle": "2023-01-17T06:23:03.712638Z",
     "shell.execute_reply": "2023-01-17T06:23:03.712148Z",
     "shell.execute_reply.started": "2023-01-17T06:23:03.691559Z"
    },
    "tags": []
   },
   "outputs": [
    {
     "data": {
      "text/plain": [
       "state      55\n",
       "county    913\n",
       "dtype: int64"
      ]
     },
     "execution_count": 125,
     "metadata": {},
     "output_type": "execute_result"
    }
   ],
   "source": [
    "aqi[['state', 'county']].nunique()"
   ]
  },
  {
   "cell_type": "code",
   "execution_count": 126,
   "id": "52bfdff0-464d-4a86-a747-62b64d8d4fbb",
   "metadata": {
    "execution": {
     "iopub.execute_input": "2023-01-17T06:23:07.684069Z",
     "iopub.status.busy": "2023-01-17T06:23:07.683200Z",
     "iopub.status.idle": "2023-01-17T06:23:07.701310Z",
     "shell.execute_reply": "2023-01-17T06:23:07.700773Z",
     "shell.execute_reply.started": "2023-01-17T06:23:07.684037Z"
    },
    "tags": []
   },
   "outputs": [
    {
     "data": {
      "text/plain": [
       "array(['Alabama', 'Alaska', 'Arizona', 'Arkansas', 'California',\n",
       "       'Colorado', 'Connecticut', 'Country Of Mexico', 'Delaware',\n",
       "       'District Of Columbia', 'Florida', 'Georgia', 'Hawaii', 'Idaho',\n",
       "       'Illinois', 'Indiana', 'Iowa', 'Kansas', 'Kentucky', 'Louisiana',\n",
       "       'Maine', 'Maryland', 'Massachusetts', 'Michigan', 'Minnesota',\n",
       "       'Mississippi', 'Missouri', 'Montana', 'Nebraska', 'Nevada',\n",
       "       'New Hampshire', 'New Jersey', 'New Mexico', 'New York',\n",
       "       'North Carolina', 'North Dakota', 'Ohio', 'Oklahoma', 'Oregon',\n",
       "       'Pennsylvania', 'Puerto Rico', 'Rhode Island', 'South Carolina',\n",
       "       'South Dakota', 'Tennessee', 'Texas', 'Utah', 'Vermont',\n",
       "       'Virgin Islands', 'Virginia', 'Washington', 'West Virginia',\n",
       "       'Wisconsin', 'Wyoming', 'Canada'], dtype=object)"
      ]
     },
     "execution_count": 126,
     "metadata": {},
     "output_type": "execute_result"
    }
   ],
   "source": [
    "aqi['state'].unique()"
   ]
  },
  {
   "cell_type": "markdown",
   "id": "dcbb4d61-26a3-4443-ac0f-673f5136857a",
   "metadata": {},
   "source": [
    "May want to drop locations such as:\n",
    "* Country of Mexico\n",
    "* Puerto Rico\n",
    "* Virgin Islands\n",
    "* Canada"
   ]
  },
  {
   "cell_type": "code",
   "execution_count": 127,
   "id": "f96f7f22-cda0-4c43-aa57-88dc65c9325e",
   "metadata": {
    "execution": {
     "iopub.execute_input": "2023-01-17T06:23:08.508344Z",
     "iopub.status.busy": "2023-01-17T06:23:08.507200Z",
     "iopub.status.idle": "2023-01-17T06:23:08.527293Z",
     "shell.execute_reply": "2023-01-17T06:23:08.526607Z",
     "shell.execute_reply.started": "2023-01-17T06:23:08.508282Z"
    },
    "tags": []
   },
   "outputs": [],
   "source": [
    "aqi.drop(\n",
    "    aqi[\n",
    "        aqi['state'].isin(\n",
    "            ['Country Of Mexico', 'Puerto Rico', 'Virgin Islands', 'Canada']\n",
    "        )\n",
    "    ].index, inplace=True)"
   ]
  },
  {
   "cell_type": "code",
   "execution_count": 128,
   "id": "fbddd4dc-8700-4ab4-8c7e-d39130143e78",
   "metadata": {
    "execution": {
     "iopub.execute_input": "2023-01-17T06:23:11.921162Z",
     "iopub.status.busy": "2023-01-17T06:23:11.920347Z",
     "iopub.status.idle": "2023-01-17T06:23:11.931253Z",
     "shell.execute_reply": "2023-01-17T06:23:11.930441Z",
     "shell.execute_reply.started": "2023-01-17T06:23:11.921113Z"
    },
    "tags": []
   },
   "outputs": [],
   "source": [
    "# aqi['county'].unique()"
   ]
  },
  {
   "cell_type": "code",
   "execution_count": 129,
   "id": "120f91b1-eb9f-48c0-b596-c58367e6ff64",
   "metadata": {
    "execution": {
     "iopub.execute_input": "2023-01-17T06:23:12.163116Z",
     "iopub.status.busy": "2023-01-17T06:23:12.161789Z",
     "iopub.status.idle": "2023-01-17T06:23:12.181395Z",
     "shell.execute_reply": "2023-01-17T06:23:12.180986Z",
     "shell.execute_reply.started": "2023-01-17T06:23:12.163057Z"
    },
    "tags": []
   },
   "outputs": [
    {
     "data": {
      "text/html": [
       "<div>\n",
       "<style scoped>\n",
       "    .dataframe tbody tr th:only-of-type {\n",
       "        vertical-align: middle;\n",
       "    }\n",
       "\n",
       "    .dataframe tbody tr th {\n",
       "        vertical-align: top;\n",
       "    }\n",
       "\n",
       "    .dataframe thead th {\n",
       "        text-align: right;\n",
       "    }\n",
       "</style>\n",
       "<table border=\"1\" class=\"dataframe\">\n",
       "  <thead>\n",
       "    <tr style=\"text-align: right;\">\n",
       "      <th></th>\n",
       "      <th>state</th>\n",
       "      <th>county</th>\n",
       "      <th>year</th>\n",
       "      <th>days_with_aqi</th>\n",
       "      <th>good_days</th>\n",
       "      <th>mod_days</th>\n",
       "      <th>uh_sens_days</th>\n",
       "      <th>uh_days</th>\n",
       "      <th>v_uh_days</th>\n",
       "      <th>haz_days</th>\n",
       "      <th>max_aqi</th>\n",
       "      <th>90_per_aqi</th>\n",
       "      <th>median_aqi</th>\n",
       "      <th>days_co</th>\n",
       "      <th>days_no2</th>\n",
       "      <th>days_ozone</th>\n",
       "      <th>days_pm2.5</th>\n",
       "      <th>days_pm10</th>\n",
       "    </tr>\n",
       "  </thead>\n",
       "  <tbody>\n",
       "    <tr>\n",
       "      <th>0</th>\n",
       "      <td>Alabama</td>\n",
       "      <td>Baldwin</td>\n",
       "      <td>2009</td>\n",
       "      <td>252</td>\n",
       "      <td>218</td>\n",
       "      <td>32</td>\n",
       "      <td>2</td>\n",
       "      <td>0</td>\n",
       "      <td>0</td>\n",
       "      <td>0</td>\n",
       "      <td>136</td>\n",
       "      <td>53</td>\n",
       "      <td>36</td>\n",
       "      <td>0</td>\n",
       "      <td>0</td>\n",
       "      <td>200</td>\n",
       "      <td>52</td>\n",
       "      <td>0</td>\n",
       "    </tr>\n",
       "    <tr>\n",
       "      <th>1</th>\n",
       "      <td>Alabama</td>\n",
       "      <td>Clay</td>\n",
       "      <td>2009</td>\n",
       "      <td>119</td>\n",
       "      <td>97</td>\n",
       "      <td>22</td>\n",
       "      <td>0</td>\n",
       "      <td>0</td>\n",
       "      <td>0</td>\n",
       "      <td>0</td>\n",
       "      <td>94</td>\n",
       "      <td>59</td>\n",
       "      <td>33</td>\n",
       "      <td>0</td>\n",
       "      <td>0</td>\n",
       "      <td>0</td>\n",
       "      <td>119</td>\n",
       "      <td>0</td>\n",
       "    </tr>\n",
       "    <tr>\n",
       "      <th>2</th>\n",
       "      <td>Alabama</td>\n",
       "      <td>Colbert</td>\n",
       "      <td>2009</td>\n",
       "      <td>323</td>\n",
       "      <td>220</td>\n",
       "      <td>103</td>\n",
       "      <td>0</td>\n",
       "      <td>0</td>\n",
       "      <td>0</td>\n",
       "      <td>0</td>\n",
       "      <td>76</td>\n",
       "      <td>60</td>\n",
       "      <td>43</td>\n",
       "      <td>0</td>\n",
       "      <td>0</td>\n",
       "      <td>132</td>\n",
       "      <td>191</td>\n",
       "      <td>0</td>\n",
       "    </tr>\n",
       "  </tbody>\n",
       "</table>\n",
       "</div>"
      ],
      "text/plain": [
       "     state   county  year  days_with_aqi  good_days  mod_days  uh_sens_days  \\\n",
       "0  Alabama  Baldwin  2009            252        218        32             2   \n",
       "1  Alabama     Clay  2009            119         97        22             0   \n",
       "2  Alabama  Colbert  2009            323        220       103             0   \n",
       "\n",
       "   uh_days  v_uh_days  haz_days  max_aqi  90_per_aqi  median_aqi  days_co  \\\n",
       "0        0          0         0      136          53          36        0   \n",
       "1        0          0         0       94          59          33        0   \n",
       "2        0          0         0       76          60          43        0   \n",
       "\n",
       "   days_no2  days_ozone  days_pm2.5  days_pm10  \n",
       "0         0         200          52          0  \n",
       "1         0           0         119          0  \n",
       "2         0         132         191          0  "
      ]
     },
     "execution_count": 129,
     "metadata": {},
     "output_type": "execute_result"
    }
   ],
   "source": [
    "aqi.head(3)"
   ]
  },
  {
   "cell_type": "code",
   "execution_count": 130,
   "id": "c2ab3401-7a3b-4145-be1b-e2590ef29c6b",
   "metadata": {
    "execution": {
     "iopub.execute_input": "2023-01-17T06:23:16.382096Z",
     "iopub.status.busy": "2023-01-17T06:23:16.378088Z",
     "iopub.status.idle": "2023-01-17T06:23:16.420482Z",
     "shell.execute_reply": "2023-01-17T06:23:16.420112Z",
     "shell.execute_reply.started": "2023-01-17T06:23:16.382023Z"
    },
    "tags": []
   },
   "outputs": [
    {
     "data": {
      "text/html": [
       "<div>\n",
       "<style scoped>\n",
       "    .dataframe tbody tr th:only-of-type {\n",
       "        vertical-align: middle;\n",
       "    }\n",
       "\n",
       "    .dataframe tbody tr th {\n",
       "        vertical-align: top;\n",
       "    }\n",
       "\n",
       "    .dataframe thead th {\n",
       "        text-align: right;\n",
       "    }\n",
       "</style>\n",
       "<table border=\"1\" class=\"dataframe\">\n",
       "  <thead>\n",
       "    <tr style=\"text-align: right;\">\n",
       "      <th></th>\n",
       "      <th>year</th>\n",
       "      <th>days_with_aqi</th>\n",
       "      <th>good_days</th>\n",
       "      <th>mod_days</th>\n",
       "      <th>uh_sens_days</th>\n",
       "      <th>uh_days</th>\n",
       "      <th>v_uh_days</th>\n",
       "      <th>haz_days</th>\n",
       "      <th>max_aqi</th>\n",
       "      <th>90_per_aqi</th>\n",
       "      <th>median_aqi</th>\n",
       "      <th>days_co</th>\n",
       "      <th>days_no2</th>\n",
       "      <th>days_ozone</th>\n",
       "      <th>days_pm2.5</th>\n",
       "      <th>days_pm10</th>\n",
       "    </tr>\n",
       "  </thead>\n",
       "  <tbody>\n",
       "    <tr>\n",
       "      <th>count</th>\n",
       "      <td>16501.000000</td>\n",
       "      <td>16501.000000</td>\n",
       "      <td>16501.000000</td>\n",
       "      <td>16501.000000</td>\n",
       "      <td>16501.000000</td>\n",
       "      <td>16501.000000</td>\n",
       "      <td>16501.000000</td>\n",
       "      <td>16501.000000</td>\n",
       "      <td>16501.000000</td>\n",
       "      <td>16501.000000</td>\n",
       "      <td>16501.000000</td>\n",
       "      <td>16501.000000</td>\n",
       "      <td>16501.000000</td>\n",
       "      <td>16501.000000</td>\n",
       "      <td>16501.000000</td>\n",
       "      <td>16501.000000</td>\n",
       "    </tr>\n",
       "    <tr>\n",
       "      <th>mean</th>\n",
       "      <td>2013.383553</td>\n",
       "      <td>306.444882</td>\n",
       "      <td>234.848615</td>\n",
       "      <td>65.491546</td>\n",
       "      <td>5.049815</td>\n",
       "      <td>0.913581</td>\n",
       "      <td>0.094297</td>\n",
       "      <td>0.047027</td>\n",
       "      <td>127.411430</td>\n",
       "      <td>61.653718</td>\n",
       "      <td>37.645961</td>\n",
       "      <td>0.981395</td>\n",
       "      <td>6.662748</td>\n",
       "      <td>171.259802</td>\n",
       "      <td>113.697594</td>\n",
       "      <td>13.843343</td>\n",
       "    </tr>\n",
       "    <tr>\n",
       "      <th>std</th>\n",
       "      <td>4.606053</td>\n",
       "      <td>89.581053</td>\n",
       "      <td>82.748368</td>\n",
       "      <td>51.767296</td>\n",
       "      <td>10.383965</td>\n",
       "      <td>4.010658</td>\n",
       "      <td>1.102704</td>\n",
       "      <td>0.678479</td>\n",
       "      <td>223.144948</td>\n",
       "      <td>19.370126</td>\n",
       "      <td>10.936383</td>\n",
       "      <td>12.174014</td>\n",
       "      <td>26.480857</td>\n",
       "      <td>119.199918</td>\n",
       "      <td>110.491615</td>\n",
       "      <td>52.573798</td>\n",
       "    </tr>\n",
       "    <tr>\n",
       "      <th>min</th>\n",
       "      <td>2006.000000</td>\n",
       "      <td>1.000000</td>\n",
       "      <td>1.000000</td>\n",
       "      <td>0.000000</td>\n",
       "      <td>0.000000</td>\n",
       "      <td>0.000000</td>\n",
       "      <td>0.000000</td>\n",
       "      <td>0.000000</td>\n",
       "      <td>8.000000</td>\n",
       "      <td>5.000000</td>\n",
       "      <td>1.000000</td>\n",
       "      <td>0.000000</td>\n",
       "      <td>0.000000</td>\n",
       "      <td>0.000000</td>\n",
       "      <td>0.000000</td>\n",
       "      <td>0.000000</td>\n",
       "    </tr>\n",
       "    <tr>\n",
       "      <th>25%</th>\n",
       "      <td>2009.000000</td>\n",
       "      <td>256.000000</td>\n",
       "      <td>177.000000</td>\n",
       "      <td>26.000000</td>\n",
       "      <td>0.000000</td>\n",
       "      <td>0.000000</td>\n",
       "      <td>0.000000</td>\n",
       "      <td>0.000000</td>\n",
       "      <td>90.000000</td>\n",
       "      <td>50.000000</td>\n",
       "      <td>33.000000</td>\n",
       "      <td>0.000000</td>\n",
       "      <td>0.000000</td>\n",
       "      <td>59.000000</td>\n",
       "      <td>0.000000</td>\n",
       "      <td>0.000000</td>\n",
       "    </tr>\n",
       "    <tr>\n",
       "      <th>50%</th>\n",
       "      <td>2013.000000</td>\n",
       "      <td>360.000000</td>\n",
       "      <td>250.000000</td>\n",
       "      <td>53.000000</td>\n",
       "      <td>1.000000</td>\n",
       "      <td>0.000000</td>\n",
       "      <td>0.000000</td>\n",
       "      <td>0.000000</td>\n",
       "      <td>112.000000</td>\n",
       "      <td>59.000000</td>\n",
       "      <td>39.000000</td>\n",
       "      <td>0.000000</td>\n",
       "      <td>0.000000</td>\n",
       "      <td>187.000000</td>\n",
       "      <td>95.000000</td>\n",
       "      <td>0.000000</td>\n",
       "    </tr>\n",
       "    <tr>\n",
       "      <th>75%</th>\n",
       "      <td>2017.000000</td>\n",
       "      <td>365.000000</td>\n",
       "      <td>304.000000</td>\n",
       "      <td>94.000000</td>\n",
       "      <td>6.000000</td>\n",
       "      <td>0.000000</td>\n",
       "      <td>0.000000</td>\n",
       "      <td>0.000000</td>\n",
       "      <td>146.000000</td>\n",
       "      <td>71.000000</td>\n",
       "      <td>44.000000</td>\n",
       "      <td>0.000000</td>\n",
       "      <td>0.000000</td>\n",
       "      <td>245.000000</td>\n",
       "      <td>185.000000</td>\n",
       "      <td>1.000000</td>\n",
       "    </tr>\n",
       "    <tr>\n",
       "      <th>max</th>\n",
       "      <td>2021.000000</td>\n",
       "      <td>366.000000</td>\n",
       "      <td>365.000000</td>\n",
       "      <td>339.000000</td>\n",
       "      <td>122.000000</td>\n",
       "      <td>92.000000</td>\n",
       "      <td>74.000000</td>\n",
       "      <td>37.000000</td>\n",
       "      <td>14043.000000</td>\n",
       "      <td>306.000000</td>\n",
       "      <td>132.000000</td>\n",
       "      <td>365.000000</td>\n",
       "      <td>365.000000</td>\n",
       "      <td>366.000000</td>\n",
       "      <td>366.000000</td>\n",
       "      <td>366.000000</td>\n",
       "    </tr>\n",
       "  </tbody>\n",
       "</table>\n",
       "</div>"
      ],
      "text/plain": [
       "               year  days_with_aqi     good_days      mod_days  uh_sens_days  \\\n",
       "count  16501.000000   16501.000000  16501.000000  16501.000000  16501.000000   \n",
       "mean    2013.383553     306.444882    234.848615     65.491546      5.049815   \n",
       "std        4.606053      89.581053     82.748368     51.767296     10.383965   \n",
       "min     2006.000000       1.000000      1.000000      0.000000      0.000000   \n",
       "25%     2009.000000     256.000000    177.000000     26.000000      0.000000   \n",
       "50%     2013.000000     360.000000    250.000000     53.000000      1.000000   \n",
       "75%     2017.000000     365.000000    304.000000     94.000000      6.000000   \n",
       "max     2021.000000     366.000000    365.000000    339.000000    122.000000   \n",
       "\n",
       "            uh_days     v_uh_days      haz_days       max_aqi    90_per_aqi  \\\n",
       "count  16501.000000  16501.000000  16501.000000  16501.000000  16501.000000   \n",
       "mean       0.913581      0.094297      0.047027    127.411430     61.653718   \n",
       "std        4.010658      1.102704      0.678479    223.144948     19.370126   \n",
       "min        0.000000      0.000000      0.000000      8.000000      5.000000   \n",
       "25%        0.000000      0.000000      0.000000     90.000000     50.000000   \n",
       "50%        0.000000      0.000000      0.000000    112.000000     59.000000   \n",
       "75%        0.000000      0.000000      0.000000    146.000000     71.000000   \n",
       "max       92.000000     74.000000     37.000000  14043.000000    306.000000   \n",
       "\n",
       "         median_aqi       days_co      days_no2    days_ozone    days_pm2.5  \\\n",
       "count  16501.000000  16501.000000  16501.000000  16501.000000  16501.000000   \n",
       "mean      37.645961      0.981395      6.662748    171.259802    113.697594   \n",
       "std       10.936383     12.174014     26.480857    119.199918    110.491615   \n",
       "min        1.000000      0.000000      0.000000      0.000000      0.000000   \n",
       "25%       33.000000      0.000000      0.000000     59.000000      0.000000   \n",
       "50%       39.000000      0.000000      0.000000    187.000000     95.000000   \n",
       "75%       44.000000      0.000000      0.000000    245.000000    185.000000   \n",
       "max      132.000000    365.000000    365.000000    366.000000    366.000000   \n",
       "\n",
       "          days_pm10  \n",
       "count  16501.000000  \n",
       "mean      13.843343  \n",
       "std       52.573798  \n",
       "min        0.000000  \n",
       "25%        0.000000  \n",
       "50%        0.000000  \n",
       "75%        1.000000  \n",
       "max      366.000000  "
      ]
     },
     "execution_count": 130,
     "metadata": {},
     "output_type": "execute_result"
    }
   ],
   "source": [
    "aqi.describe()"
   ]
  },
  {
   "cell_type": "markdown",
   "id": "2cf30cf3-a574-43f2-88cd-39b7914ec758",
   "metadata": {},
   "source": [
    "All the values seem like they would be in range--meaning no negative counts, no days over 366."
   ]
  },
  {
   "cell_type": "markdown",
   "id": "244fe0a9-fbc1-48be-a77f-fe3d3a361eab",
   "metadata": {},
   "source": [
    "### CDC Data"
   ]
  },
  {
   "cell_type": "markdown",
   "id": "38d268be-a908-45fd-8a02-41d4f1ea4e5f",
   "metadata": {},
   "source": [
    "Want to import the CDC data and compare the counties.\n",
    "\n",
    "We are using the WONDER tool from the CDC to export the files that we are importing to this notebook. For both files, we filtered out any births with maternal risk factors so we they are not influencing birth weight.  There are some years that have no or suppressed data, which are omitted from the CDC export and are not present.We filtered out any births with maternal risk factors so we they are not influencing birth weight.  There are some years that have no or suppressed data, which are omitted from the CDC export and are not present. \n",
    "\n",
    "There are two main files:\n",
    "1. `Natality_low_2007-2021` which represents all the births below 2500 grams by year and county. \n",
    "1. `Natality_all_2007-2021` which represents all the births by year and county."
   ]
  },
  {
   "cell_type": "markdown",
   "id": "08a3e145-37ac-401d-b872-3c73fa839e6a",
   "metadata": {},
   "source": [
    "#### Import Data"
   ]
  },
  {
   "cell_type": "code",
   "execution_count": 131,
   "id": "22b86d34-dae1-4753-833b-08ad467d7bbb",
   "metadata": {
    "execution": {
     "iopub.execute_input": "2023-01-17T06:23:28.920756Z",
     "iopub.status.busy": "2023-01-17T06:23:28.919615Z",
     "iopub.status.idle": "2023-01-17T06:23:28.953600Z",
     "shell.execute_reply": "2023-01-17T06:23:28.953032Z",
     "shell.execute_reply.started": "2023-01-17T06:23:28.920722Z"
    },
    "tags": []
   },
   "outputs": [],
   "source": [
    "cdc_low = pd.read_csv('data/Natality_low_2007-2021.txt', sep='\\t')\n",
    "cdc_all = pd.read_csv('data/Natality_all_2007-2021.txt', sep='\\t')"
   ]
  },
  {
   "cell_type": "markdown",
   "id": "438ac040-0416-4028-8129-94fd6d428d6a",
   "metadata": {},
   "source": [
    "#### General Look and Cleanup"
   ]
  },
  {
   "cell_type": "code",
   "execution_count": 132,
   "id": "76a5f011-9dca-48c4-9428-6807c3be2196",
   "metadata": {
    "execution": {
     "iopub.execute_input": "2023-01-17T06:23:29.408903Z",
     "iopub.status.busy": "2023-01-17T06:23:29.408155Z",
     "iopub.status.idle": "2023-01-17T06:23:29.429523Z",
     "shell.execute_reply": "2023-01-17T06:23:29.428756Z",
     "shell.execute_reply.started": "2023-01-17T06:23:29.408852Z"
    },
    "tags": []
   },
   "outputs": [
    {
     "data": {
      "text/html": [
       "<div>\n",
       "<style scoped>\n",
       "    .dataframe tbody tr th:only-of-type {\n",
       "        vertical-align: middle;\n",
       "    }\n",
       "\n",
       "    .dataframe tbody tr th {\n",
       "        vertical-align: top;\n",
       "    }\n",
       "\n",
       "    .dataframe thead th {\n",
       "        text-align: right;\n",
       "    }\n",
       "</style>\n",
       "<table border=\"1\" class=\"dataframe\">\n",
       "  <thead>\n",
       "    <tr style=\"text-align: right;\">\n",
       "      <th></th>\n",
       "      <th>Notes</th>\n",
       "      <th>State</th>\n",
       "      <th>State Code</th>\n",
       "      <th>County</th>\n",
       "      <th>County Code</th>\n",
       "      <th>Year</th>\n",
       "      <th>Year Code</th>\n",
       "      <th>Births</th>\n",
       "      <th>Average Birth Weight</th>\n",
       "      <th>Average LMP Gestational Age</th>\n",
       "      <th>Average OE Gestational Age</th>\n",
       "    </tr>\n",
       "  </thead>\n",
       "  <tbody>\n",
       "    <tr>\n",
       "      <th>0</th>\n",
       "      <td>NaN</td>\n",
       "      <td>Alabama</td>\n",
       "      <td>1.0</td>\n",
       "      <td>Baldwin County, AL</td>\n",
       "      <td>1003.0</td>\n",
       "      <td>2014.0</td>\n",
       "      <td>2014.0</td>\n",
       "      <td>137.0</td>\n",
       "      <td>1995.255</td>\n",
       "      <td>34.241</td>\n",
       "      <td>34.051</td>\n",
       "    </tr>\n",
       "    <tr>\n",
       "      <th>1</th>\n",
       "      <td>NaN</td>\n",
       "      <td>Alabama</td>\n",
       "      <td>1.0</td>\n",
       "      <td>Baldwin County, AL</td>\n",
       "      <td>1003.0</td>\n",
       "      <td>2015.0</td>\n",
       "      <td>2015.0</td>\n",
       "      <td>141.0</td>\n",
       "      <td>1832.837</td>\n",
       "      <td>32.965</td>\n",
       "      <td>32.922</td>\n",
       "    </tr>\n",
       "    <tr>\n",
       "      <th>2</th>\n",
       "      <td>NaN</td>\n",
       "      <td>Alabama</td>\n",
       "      <td>1.0</td>\n",
       "      <td>Baldwin County, AL</td>\n",
       "      <td>1003.0</td>\n",
       "      <td>2016.0</td>\n",
       "      <td>2016.0</td>\n",
       "      <td>120.0</td>\n",
       "      <td>2008.358</td>\n",
       "      <td>34.467</td>\n",
       "      <td>34.058</td>\n",
       "    </tr>\n",
       "    <tr>\n",
       "      <th>3</th>\n",
       "      <td>NaN</td>\n",
       "      <td>Alabama</td>\n",
       "      <td>1.0</td>\n",
       "      <td>Baldwin County, AL</td>\n",
       "      <td>1003.0</td>\n",
       "      <td>2017.0</td>\n",
       "      <td>2017.0</td>\n",
       "      <td>100.0</td>\n",
       "      <td>2082.830</td>\n",
       "      <td>34.550</td>\n",
       "      <td>34.380</td>\n",
       "    </tr>\n",
       "    <tr>\n",
       "      <th>4</th>\n",
       "      <td>NaN</td>\n",
       "      <td>Alabama</td>\n",
       "      <td>1.0</td>\n",
       "      <td>Baldwin County, AL</td>\n",
       "      <td>1003.0</td>\n",
       "      <td>2018.0</td>\n",
       "      <td>2018.0</td>\n",
       "      <td>122.0</td>\n",
       "      <td>1942.303</td>\n",
       "      <td>33.762</td>\n",
       "      <td>33.508</td>\n",
       "    </tr>\n",
       "  </tbody>\n",
       "</table>\n",
       "</div>"
      ],
      "text/plain": [
       "  Notes    State  State Code              County  County Code    Year  \\\n",
       "0   NaN  Alabama         1.0  Baldwin County, AL       1003.0  2014.0   \n",
       "1   NaN  Alabama         1.0  Baldwin County, AL       1003.0  2015.0   \n",
       "2   NaN  Alabama         1.0  Baldwin County, AL       1003.0  2016.0   \n",
       "3   NaN  Alabama         1.0  Baldwin County, AL       1003.0  2017.0   \n",
       "4   NaN  Alabama         1.0  Baldwin County, AL       1003.0  2018.0   \n",
       "\n",
       "   Year Code  Births  Average Birth Weight  Average LMP Gestational Age  \\\n",
       "0     2014.0   137.0              1995.255                       34.241   \n",
       "1     2015.0   141.0              1832.837                       32.965   \n",
       "2     2016.0   120.0              2008.358                       34.467   \n",
       "3     2017.0   100.0              2082.830                       34.550   \n",
       "4     2018.0   122.0              1942.303                       33.762   \n",
       "\n",
       "   Average OE Gestational Age  \n",
       "0                      34.051  \n",
       "1                      32.922  \n",
       "2                      34.058  \n",
       "3                      34.380  \n",
       "4                      33.508  "
      ]
     },
     "execution_count": 132,
     "metadata": {},
     "output_type": "execute_result"
    }
   ],
   "source": [
    "cdc_low.head()"
   ]
  },
  {
   "cell_type": "code",
   "execution_count": 133,
   "id": "d4d39e68-086c-46ba-a560-5f34a7702cfb",
   "metadata": {
    "execution": {
     "iopub.execute_input": "2023-01-17T06:23:29.828644Z",
     "iopub.status.busy": "2023-01-17T06:23:29.827869Z",
     "iopub.status.idle": "2023-01-17T06:23:29.844981Z",
     "shell.execute_reply": "2023-01-17T06:23:29.844524Z",
     "shell.execute_reply.started": "2023-01-17T06:23:29.828587Z"
    },
    "tags": []
   },
   "outputs": [
    {
     "data": {
      "text/html": [
       "<div>\n",
       "<style scoped>\n",
       "    .dataframe tbody tr th:only-of-type {\n",
       "        vertical-align: middle;\n",
       "    }\n",
       "\n",
       "    .dataframe tbody tr th {\n",
       "        vertical-align: top;\n",
       "    }\n",
       "\n",
       "    .dataframe thead th {\n",
       "        text-align: right;\n",
       "    }\n",
       "</style>\n",
       "<table border=\"1\" class=\"dataframe\">\n",
       "  <thead>\n",
       "    <tr style=\"text-align: right;\">\n",
       "      <th></th>\n",
       "      <th>Notes</th>\n",
       "      <th>State</th>\n",
       "      <th>State Code</th>\n",
       "      <th>County</th>\n",
       "      <th>County Code</th>\n",
       "      <th>Year</th>\n",
       "      <th>Year Code</th>\n",
       "      <th>Births</th>\n",
       "      <th>Average Birth Weight</th>\n",
       "      <th>Average LMP Gestational Age</th>\n",
       "      <th>Average OE Gestational Age</th>\n",
       "    </tr>\n",
       "  </thead>\n",
       "  <tbody>\n",
       "    <tr>\n",
       "      <th>0</th>\n",
       "      <td>NaN</td>\n",
       "      <td>Alabama</td>\n",
       "      <td>1.0</td>\n",
       "      <td>Baldwin County, AL</td>\n",
       "      <td>1003.0</td>\n",
       "      <td>2014.0</td>\n",
       "      <td>2014.0</td>\n",
       "      <td>1724.0</td>\n",
       "      <td>3296.472</td>\n",
       "      <td>38.595</td>\n",
       "      <td>38.489</td>\n",
       "    </tr>\n",
       "    <tr>\n",
       "      <th>1</th>\n",
       "      <td>NaN</td>\n",
       "      <td>Alabama</td>\n",
       "      <td>1.0</td>\n",
       "      <td>Baldwin County, AL</td>\n",
       "      <td>1003.0</td>\n",
       "      <td>2015.0</td>\n",
       "      <td>2015.0</td>\n",
       "      <td>1857.0</td>\n",
       "      <td>3290.811</td>\n",
       "      <td>38.487</td>\n",
       "      <td>38.347</td>\n",
       "    </tr>\n",
       "    <tr>\n",
       "      <th>2</th>\n",
       "      <td>NaN</td>\n",
       "      <td>Alabama</td>\n",
       "      <td>1.0</td>\n",
       "      <td>Baldwin County, AL</td>\n",
       "      <td>1003.0</td>\n",
       "      <td>2016.0</td>\n",
       "      <td>2016.0</td>\n",
       "      <td>1722.0</td>\n",
       "      <td>3315.387</td>\n",
       "      <td>38.690</td>\n",
       "      <td>38.497</td>\n",
       "    </tr>\n",
       "    <tr>\n",
       "      <th>3</th>\n",
       "      <td>NaN</td>\n",
       "      <td>Alabama</td>\n",
       "      <td>1.0</td>\n",
       "      <td>Baldwin County, AL</td>\n",
       "      <td>1003.0</td>\n",
       "      <td>2017.0</td>\n",
       "      <td>2017.0</td>\n",
       "      <td>1782.0</td>\n",
       "      <td>3346.588</td>\n",
       "      <td>38.713</td>\n",
       "      <td>38.572</td>\n",
       "    </tr>\n",
       "    <tr>\n",
       "      <th>4</th>\n",
       "      <td>NaN</td>\n",
       "      <td>Alabama</td>\n",
       "      <td>1.0</td>\n",
       "      <td>Baldwin County, AL</td>\n",
       "      <td>1003.0</td>\n",
       "      <td>2018.0</td>\n",
       "      <td>2018.0</td>\n",
       "      <td>1770.0</td>\n",
       "      <td>3301.324</td>\n",
       "      <td>38.580</td>\n",
       "      <td>38.423</td>\n",
       "    </tr>\n",
       "  </tbody>\n",
       "</table>\n",
       "</div>"
      ],
      "text/plain": [
       "  Notes    State  State Code              County  County Code    Year  \\\n",
       "0   NaN  Alabama         1.0  Baldwin County, AL       1003.0  2014.0   \n",
       "1   NaN  Alabama         1.0  Baldwin County, AL       1003.0  2015.0   \n",
       "2   NaN  Alabama         1.0  Baldwin County, AL       1003.0  2016.0   \n",
       "3   NaN  Alabama         1.0  Baldwin County, AL       1003.0  2017.0   \n",
       "4   NaN  Alabama         1.0  Baldwin County, AL       1003.0  2018.0   \n",
       "\n",
       "   Year Code  Births  Average Birth Weight  Average LMP Gestational Age  \\\n",
       "0     2014.0  1724.0              3296.472                       38.595   \n",
       "1     2015.0  1857.0              3290.811                       38.487   \n",
       "2     2016.0  1722.0              3315.387                       38.690   \n",
       "3     2017.0  1782.0              3346.588                       38.713   \n",
       "4     2018.0  1770.0              3301.324                       38.580   \n",
       "\n",
       "   Average OE Gestational Age  \n",
       "0                      38.489  \n",
       "1                      38.347  \n",
       "2                      38.497  \n",
       "3                      38.572  \n",
       "4                      38.423  "
      ]
     },
     "execution_count": 133,
     "metadata": {},
     "output_type": "execute_result"
    }
   ],
   "source": [
    "cdc_all.head()"
   ]
  },
  {
   "cell_type": "code",
   "execution_count": 134,
   "id": "893ba8c9-ca9c-4789-9ee7-732048db9c15",
   "metadata": {
    "execution": {
     "iopub.execute_input": "2023-01-17T06:23:29.927863Z",
     "iopub.status.busy": "2023-01-17T06:23:29.927144Z",
     "iopub.status.idle": "2023-01-17T06:23:29.933827Z",
     "shell.execute_reply": "2023-01-17T06:23:29.933425Z",
     "shell.execute_reply.started": "2023-01-17T06:23:29.927836Z"
    },
    "tags": []
   },
   "outputs": [
    {
     "data": {
      "text/plain": [
       "Notes                           object\n",
       "State                           object\n",
       "State Code                     float64\n",
       "County                          object\n",
       "County Code                    float64\n",
       "Year                           float64\n",
       "Year Code                      float64\n",
       "Births                         float64\n",
       "Average Birth Weight           float64\n",
       "Average LMP Gestational Age    float64\n",
       "Average OE Gestational Age     float64\n",
       "dtype: object"
      ]
     },
     "execution_count": 134,
     "metadata": {},
     "output_type": "execute_result"
    }
   ],
   "source": [
    "cdc_low.dtypes"
   ]
  },
  {
   "cell_type": "code",
   "execution_count": 135,
   "id": "2d452b1f-ce66-43f7-ac46-956d321eb350",
   "metadata": {
    "execution": {
     "iopub.execute_input": "2023-01-17T06:23:30.265167Z",
     "iopub.status.busy": "2023-01-17T06:23:30.264697Z",
     "iopub.status.idle": "2023-01-17T06:23:30.269559Z",
     "shell.execute_reply": "2023-01-17T06:23:30.269183Z",
     "shell.execute_reply.started": "2023-01-17T06:23:30.265145Z"
    },
    "tags": []
   },
   "outputs": [
    {
     "data": {
      "text/plain": [
       "Notes                           object\n",
       "State                           object\n",
       "State Code                     float64\n",
       "County                          object\n",
       "County Code                    float64\n",
       "Year                           float64\n",
       "Year Code                      float64\n",
       "Births                         float64\n",
       "Average Birth Weight           float64\n",
       "Average LMP Gestational Age    float64\n",
       "Average OE Gestational Age     float64\n",
       "dtype: object"
      ]
     },
     "execution_count": 135,
     "metadata": {},
     "output_type": "execute_result"
    }
   ],
   "source": [
    "cdc_all.dtypes"
   ]
  },
  {
   "cell_type": "code",
   "execution_count": 136,
   "id": "38e53632-6a98-4f40-956d-20d1fb29fbde",
   "metadata": {
    "execution": {
     "iopub.execute_input": "2023-01-17T06:23:30.718190Z",
     "iopub.status.busy": "2023-01-17T06:23:30.717360Z",
     "iopub.status.idle": "2023-01-17T06:23:30.735185Z",
     "shell.execute_reply": "2023-01-17T06:23:30.734445Z",
     "shell.execute_reply.started": "2023-01-17T06:23:30.718144Z"
    },
    "tags": []
   },
   "outputs": [
    {
     "data": {
      "text/plain": [
       "(6712, 11)"
      ]
     },
     "execution_count": 136,
     "metadata": {},
     "output_type": "execute_result"
    }
   ],
   "source": [
    "cdc_low.shape"
   ]
  },
  {
   "cell_type": "code",
   "execution_count": 137,
   "id": "64ebac01-500a-4ec9-a9f7-d48a52e70dbf",
   "metadata": {
    "execution": {
     "iopub.execute_input": "2023-01-17T06:23:31.101766Z",
     "iopub.status.busy": "2023-01-17T06:23:31.100946Z",
     "iopub.status.idle": "2023-01-17T06:23:31.120798Z",
     "shell.execute_reply": "2023-01-17T06:23:31.117625Z",
     "shell.execute_reply.started": "2023-01-17T06:23:31.101715Z"
    },
    "tags": []
   },
   "outputs": [
    {
     "data": {
      "text/plain": [
       "(6715, 11)"
      ]
     },
     "execution_count": 137,
     "metadata": {},
     "output_type": "execute_result"
    }
   ],
   "source": [
    "cdc_all.shape"
   ]
  },
  {
   "cell_type": "code",
   "execution_count": 138,
   "id": "eee0e85f-fb0a-41f6-9e76-5b3207f80820",
   "metadata": {
    "execution": {
     "iopub.execute_input": "2023-01-17T06:23:31.246224Z",
     "iopub.status.busy": "2023-01-17T06:23:31.245797Z",
     "iopub.status.idle": "2023-01-17T06:23:31.250587Z",
     "shell.execute_reply": "2023-01-17T06:23:31.250104Z",
     "shell.execute_reply.started": "2023-01-17T06:23:31.246203Z"
    },
    "tags": []
   },
   "outputs": [
    {
     "data": {
      "text/plain": [
       "(Index(['Notes', 'State', 'State Code', 'County', 'County Code', 'Year',\n",
       "        'Year Code', 'Births', 'Average Birth Weight',\n",
       "        'Average LMP Gestational Age', 'Average OE Gestational Age'],\n",
       "       dtype='object'),\n",
       " Index(['Notes', 'State', 'State Code', 'County', 'County Code', 'Year',\n",
       "        'Year Code', 'Births', 'Average Birth Weight',\n",
       "        'Average LMP Gestational Age', 'Average OE Gestational Age'],\n",
       "       dtype='object'))"
      ]
     },
     "execution_count": 138,
     "metadata": {},
     "output_type": "execute_result"
    }
   ],
   "source": [
    "cdc_low.columns, cdc_all.columns"
   ]
  },
  {
   "cell_type": "code",
   "execution_count": 139,
   "id": "285aa42c-a73b-4ffa-b8d5-fab90df86c8b",
   "metadata": {
    "execution": {
     "iopub.execute_input": "2023-01-17T06:23:31.550920Z",
     "iopub.status.busy": "2023-01-17T06:23:31.550048Z",
     "iopub.status.idle": "2023-01-17T06:23:31.572300Z",
     "shell.execute_reply": "2023-01-17T06:23:31.571290Z",
     "shell.execute_reply.started": "2023-01-17T06:23:31.550883Z"
    },
    "tags": []
   },
   "outputs": [],
   "source": [
    "cdc_low.columns = [col.lower().replace(' ', '_') for col in cdc_low.columns]\n",
    "cdc_all.columns = [col.lower().replace(' ', '_') for col in cdc_all.columns]"
   ]
  },
  {
   "cell_type": "markdown",
   "id": "6571d5a4-1bc1-4fe1-a238-f60e7674db0c",
   "metadata": {},
   "source": [
    "Renaming the % of births column, and if we want different names for other columns, we can do it at this step"
   ]
  },
  {
   "cell_type": "code",
   "execution_count": 140,
   "id": "57b10cd7-e4c3-40db-b0b0-d4828881eae4",
   "metadata": {
    "execution": {
     "iopub.execute_input": "2023-01-17T06:23:32.078813Z",
     "iopub.status.busy": "2023-01-17T06:23:32.077020Z",
     "iopub.status.idle": "2023-01-17T06:23:32.093562Z",
     "shell.execute_reply": "2023-01-17T06:23:32.092922Z",
     "shell.execute_reply.started": "2023-01-17T06:23:32.078747Z"
    },
    "tags": []
   },
   "outputs": [
    {
     "data": {
      "text/plain": [
       "Index(['notes', 'state', 'state_code', 'county', 'county_code', 'year',\n",
       "       'year_code', 'births', 'average_birth_weight',\n",
       "       'average_lmp_gestational_age', 'average_oe_gestational_age'],\n",
       "      dtype='object')"
      ]
     },
     "execution_count": 140,
     "metadata": {},
     "output_type": "execute_result"
    }
   ],
   "source": [
    "cdc_low.columns"
   ]
  },
  {
   "cell_type": "code",
   "execution_count": 141,
   "id": "4d99885e-7308-487a-9d71-b7fcfc8bdb84",
   "metadata": {
    "execution": {
     "iopub.execute_input": "2023-01-17T06:23:32.204536Z",
     "iopub.status.busy": "2023-01-17T06:23:32.203818Z",
     "iopub.status.idle": "2023-01-17T06:23:32.220417Z",
     "shell.execute_reply": "2023-01-17T06:23:32.219602Z",
     "shell.execute_reply.started": "2023-01-17T06:23:32.204486Z"
    },
    "tags": []
   },
   "outputs": [
    {
     "data": {
      "text/plain": [
       "(91, 87)"
      ]
     },
     "execution_count": 141,
     "metadata": {},
     "output_type": "execute_result"
    }
   ],
   "source": [
    "cdc_low['notes'].nunique(), cdc_all['notes'].nunique()"
   ]
  },
  {
   "cell_type": "code",
   "execution_count": 142,
   "id": "d2a673ca-6ece-4267-afa0-27db9852c213",
   "metadata": {
    "execution": {
     "iopub.execute_input": "2023-01-17T06:23:32.579636Z",
     "iopub.status.busy": "2023-01-17T06:23:32.579205Z",
     "iopub.status.idle": "2023-01-17T06:23:32.583131Z",
     "shell.execute_reply": "2023-01-17T06:23:32.582368Z",
     "shell.execute_reply.started": "2023-01-17T06:23:32.579611Z"
    },
    "tags": []
   },
   "outputs": [],
   "source": [
    "# cdc_all['notes'].unique()"
   ]
  },
  {
   "cell_type": "markdown",
   "id": "afcb8ebd-dc1e-48e4-971d-b07d4b4212d4",
   "metadata": {},
   "source": [
    "All the notes look like they are what shows up at the bottom of the file and isn't data that we're looking for.  Dropping the notes column"
   ]
  },
  {
   "cell_type": "code",
   "execution_count": 143,
   "id": "181e9e67-4495-4898-96a8-becd881394f1",
   "metadata": {
    "execution": {
     "iopub.execute_input": "2023-01-17T06:23:33.169001Z",
     "iopub.status.busy": "2023-01-17T06:23:33.167538Z",
     "iopub.status.idle": "2023-01-17T06:23:33.184467Z",
     "shell.execute_reply": "2023-01-17T06:23:33.184013Z",
     "shell.execute_reply.started": "2023-01-17T06:23:33.168940Z"
    },
    "tags": []
   },
   "outputs": [],
   "source": [
    "cdc_low.drop(['notes'], axis=1, inplace=True)\n",
    "cdc_all.drop(['notes'], axis=1, inplace=True)"
   ]
  },
  {
   "cell_type": "code",
   "execution_count": 144,
   "id": "290b3183-ec24-448b-8ac7-fce70d82ba2f",
   "metadata": {
    "execution": {
     "iopub.execute_input": "2023-01-17T06:23:33.482723Z",
     "iopub.status.busy": "2023-01-17T06:23:33.481988Z",
     "iopub.status.idle": "2023-01-17T06:23:33.493006Z",
     "shell.execute_reply": "2023-01-17T06:23:33.492563Z",
     "shell.execute_reply.started": "2023-01-17T06:23:33.482691Z"
    },
    "tags": []
   },
   "outputs": [
    {
     "data": {
      "text/plain": [
       "state                          96\n",
       "state_code                     96\n",
       "county                         96\n",
       "county_code                    96\n",
       "year                           96\n",
       "year_code                      96\n",
       "births                         96\n",
       "average_birth_weight           96\n",
       "average_lmp_gestational_age    96\n",
       "average_oe_gestational_age     96\n",
       "dtype: int64"
      ]
     },
     "execution_count": 144,
     "metadata": {},
     "output_type": "execute_result"
    }
   ],
   "source": [
    "cdc_low.isna().sum()[cdc_low.isna().sum() > 0]"
   ]
  },
  {
   "cell_type": "code",
   "execution_count": 145,
   "id": "10ac5bd2-2cab-4a91-8c63-3db1386e4db5",
   "metadata": {
    "execution": {
     "iopub.execute_input": "2023-01-17T06:23:33.848016Z",
     "iopub.status.busy": "2023-01-17T06:23:33.846952Z",
     "iopub.status.idle": "2023-01-17T06:23:33.868243Z",
     "shell.execute_reply": "2023-01-17T06:23:33.867825Z",
     "shell.execute_reply.started": "2023-01-17T06:23:33.847954Z"
    },
    "tags": []
   },
   "outputs": [
    {
     "data": {
      "text/plain": [
       "state                          92\n",
       "state_code                     92\n",
       "county                         92\n",
       "county_code                    92\n",
       "year                           92\n",
       "year_code                      92\n",
       "births                         92\n",
       "average_birth_weight           92\n",
       "average_lmp_gestational_age    92\n",
       "average_oe_gestational_age     92\n",
       "dtype: int64"
      ]
     },
     "execution_count": 145,
     "metadata": {},
     "output_type": "execute_result"
    }
   ],
   "source": [
    "cdc_all.isna().sum()[cdc_all.isna().sum() > 0]"
   ]
  },
  {
   "cell_type": "code",
   "execution_count": 146,
   "id": "b9c98e59-b574-4022-96da-68a93252a94d",
   "metadata": {
    "execution": {
     "iopub.execute_input": "2023-01-17T06:23:34.076607Z",
     "iopub.status.busy": "2023-01-17T06:23:34.072422Z",
     "iopub.status.idle": "2023-01-17T06:23:34.094891Z",
     "shell.execute_reply": "2023-01-17T06:23:34.094095Z",
     "shell.execute_reply.started": "2023-01-17T06:23:34.076537Z"
    },
    "tags": []
   },
   "outputs": [
    {
     "data": {
      "text/html": [
       "<div>\n",
       "<style scoped>\n",
       "    .dataframe tbody tr th:only-of-type {\n",
       "        vertical-align: middle;\n",
       "    }\n",
       "\n",
       "    .dataframe tbody tr th {\n",
       "        vertical-align: top;\n",
       "    }\n",
       "\n",
       "    .dataframe thead th {\n",
       "        text-align: right;\n",
       "    }\n",
       "</style>\n",
       "<table border=\"1\" class=\"dataframe\">\n",
       "  <thead>\n",
       "    <tr style=\"text-align: right;\">\n",
       "      <th></th>\n",
       "      <th>state</th>\n",
       "      <th>state_code</th>\n",
       "      <th>county</th>\n",
       "      <th>county_code</th>\n",
       "      <th>year</th>\n",
       "      <th>year_code</th>\n",
       "      <th>births</th>\n",
       "      <th>average_birth_weight</th>\n",
       "      <th>average_lmp_gestational_age</th>\n",
       "      <th>average_oe_gestational_age</th>\n",
       "    </tr>\n",
       "  </thead>\n",
       "  <tbody>\n",
       "    <tr>\n",
       "      <th>6709</th>\n",
       "      <td>NaN</td>\n",
       "      <td>NaN</td>\n",
       "      <td>NaN</td>\n",
       "      <td>NaN</td>\n",
       "      <td>NaN</td>\n",
       "      <td>NaN</td>\n",
       "      <td>NaN</td>\n",
       "      <td>NaN</td>\n",
       "      <td>NaN</td>\n",
       "      <td>NaN</td>\n",
       "    </tr>\n",
       "    <tr>\n",
       "      <th>6710</th>\n",
       "      <td>NaN</td>\n",
       "      <td>NaN</td>\n",
       "      <td>NaN</td>\n",
       "      <td>NaN</td>\n",
       "      <td>NaN</td>\n",
       "      <td>NaN</td>\n",
       "      <td>NaN</td>\n",
       "      <td>NaN</td>\n",
       "      <td>NaN</td>\n",
       "      <td>NaN</td>\n",
       "    </tr>\n",
       "    <tr>\n",
       "      <th>6711</th>\n",
       "      <td>NaN</td>\n",
       "      <td>NaN</td>\n",
       "      <td>NaN</td>\n",
       "      <td>NaN</td>\n",
       "      <td>NaN</td>\n",
       "      <td>NaN</td>\n",
       "      <td>NaN</td>\n",
       "      <td>NaN</td>\n",
       "      <td>NaN</td>\n",
       "      <td>NaN</td>\n",
       "    </tr>\n",
       "  </tbody>\n",
       "</table>\n",
       "</div>"
      ],
      "text/plain": [
       "     state  state_code county  county_code  year  year_code  births  \\\n",
       "6709   NaN         NaN    NaN          NaN   NaN        NaN     NaN   \n",
       "6710   NaN         NaN    NaN          NaN   NaN        NaN     NaN   \n",
       "6711   NaN         NaN    NaN          NaN   NaN        NaN     NaN   \n",
       "\n",
       "      average_birth_weight  average_lmp_gestational_age  \\\n",
       "6709                   NaN                          NaN   \n",
       "6710                   NaN                          NaN   \n",
       "6711                   NaN                          NaN   \n",
       "\n",
       "      average_oe_gestational_age  \n",
       "6709                         NaN  \n",
       "6710                         NaN  \n",
       "6711                         NaN  "
      ]
     },
     "execution_count": 146,
     "metadata": {},
     "output_type": "execute_result"
    }
   ],
   "source": [
    "cdc_low.tail(3)"
   ]
  },
  {
   "cell_type": "code",
   "execution_count": 147,
   "id": "72ad4628-d2b6-4173-9105-aeb926174d6f",
   "metadata": {
    "execution": {
     "iopub.execute_input": "2023-01-17T06:23:34.463513Z",
     "iopub.status.busy": "2023-01-17T06:23:34.462739Z",
     "iopub.status.idle": "2023-01-17T06:23:34.479556Z",
     "shell.execute_reply": "2023-01-17T06:23:34.478595Z",
     "shell.execute_reply.started": "2023-01-17T06:23:34.463293Z"
    },
    "tags": []
   },
   "outputs": [
    {
     "data": {
      "text/html": [
       "<div>\n",
       "<style scoped>\n",
       "    .dataframe tbody tr th:only-of-type {\n",
       "        vertical-align: middle;\n",
       "    }\n",
       "\n",
       "    .dataframe tbody tr th {\n",
       "        vertical-align: top;\n",
       "    }\n",
       "\n",
       "    .dataframe thead th {\n",
       "        text-align: right;\n",
       "    }\n",
       "</style>\n",
       "<table border=\"1\" class=\"dataframe\">\n",
       "  <thead>\n",
       "    <tr style=\"text-align: right;\">\n",
       "      <th></th>\n",
       "      <th>state</th>\n",
       "      <th>state_code</th>\n",
       "      <th>county</th>\n",
       "      <th>county_code</th>\n",
       "      <th>year</th>\n",
       "      <th>year_code</th>\n",
       "      <th>births</th>\n",
       "      <th>average_birth_weight</th>\n",
       "      <th>average_lmp_gestational_age</th>\n",
       "      <th>average_oe_gestational_age</th>\n",
       "    </tr>\n",
       "  </thead>\n",
       "  <tbody>\n",
       "    <tr>\n",
       "      <th>6712</th>\n",
       "      <td>NaN</td>\n",
       "      <td>NaN</td>\n",
       "      <td>NaN</td>\n",
       "      <td>NaN</td>\n",
       "      <td>NaN</td>\n",
       "      <td>NaN</td>\n",
       "      <td>NaN</td>\n",
       "      <td>NaN</td>\n",
       "      <td>NaN</td>\n",
       "      <td>NaN</td>\n",
       "    </tr>\n",
       "    <tr>\n",
       "      <th>6713</th>\n",
       "      <td>NaN</td>\n",
       "      <td>NaN</td>\n",
       "      <td>NaN</td>\n",
       "      <td>NaN</td>\n",
       "      <td>NaN</td>\n",
       "      <td>NaN</td>\n",
       "      <td>NaN</td>\n",
       "      <td>NaN</td>\n",
       "      <td>NaN</td>\n",
       "      <td>NaN</td>\n",
       "    </tr>\n",
       "    <tr>\n",
       "      <th>6714</th>\n",
       "      <td>NaN</td>\n",
       "      <td>NaN</td>\n",
       "      <td>NaN</td>\n",
       "      <td>NaN</td>\n",
       "      <td>NaN</td>\n",
       "      <td>NaN</td>\n",
       "      <td>NaN</td>\n",
       "      <td>NaN</td>\n",
       "      <td>NaN</td>\n",
       "      <td>NaN</td>\n",
       "    </tr>\n",
       "  </tbody>\n",
       "</table>\n",
       "</div>"
      ],
      "text/plain": [
       "     state  state_code county  county_code  year  year_code  births  \\\n",
       "6712   NaN         NaN    NaN          NaN   NaN        NaN     NaN   \n",
       "6713   NaN         NaN    NaN          NaN   NaN        NaN     NaN   \n",
       "6714   NaN         NaN    NaN          NaN   NaN        NaN     NaN   \n",
       "\n",
       "      average_birth_weight  average_lmp_gestational_age  \\\n",
       "6712                   NaN                          NaN   \n",
       "6713                   NaN                          NaN   \n",
       "6714                   NaN                          NaN   \n",
       "\n",
       "      average_oe_gestational_age  \n",
       "6712                         NaN  \n",
       "6713                         NaN  \n",
       "6714                         NaN  "
      ]
     },
     "execution_count": 147,
     "metadata": {},
     "output_type": "execute_result"
    }
   ],
   "source": [
    "cdc_all.tail(3)"
   ]
  },
  {
   "cell_type": "markdown",
   "id": "1261ec53-5e9c-43d2-b2b3-c5c43cd65411",
   "metadata": {},
   "source": [
    "We need state and county information for this project,and it looks like all these null values belong, possibly to rows that were holding that notes data.  Dropping these rows to see if that clears up all the nulls."
   ]
  },
  {
   "cell_type": "markdown",
   "id": "2b2bdee1-f508-4113-a03d-2be862a8257a",
   "metadata": {},
   "source": [
    "Drop the rows that have the footnotes in them"
   ]
  },
  {
   "cell_type": "code",
   "execution_count": 148,
   "id": "15eb1c08-6ee8-44da-a472-b1cb2388a5b9",
   "metadata": {
    "execution": {
     "iopub.execute_input": "2023-01-17T06:23:35.531465Z",
     "iopub.status.busy": "2023-01-17T06:23:35.530720Z",
     "iopub.status.idle": "2023-01-17T06:23:35.548165Z",
     "shell.execute_reply": "2023-01-17T06:23:35.547746Z",
     "shell.execute_reply.started": "2023-01-17T06:23:35.531436Z"
    },
    "tags": []
   },
   "outputs": [],
   "source": [
    "cdc_low.dropna(subset=['state'], inplace=True)\n",
    "cdc_all.dropna(subset=['state'], inplace=True)"
   ]
  },
  {
   "cell_type": "code",
   "execution_count": 149,
   "id": "1322a50b-032f-4891-a317-f28618475f18",
   "metadata": {
    "execution": {
     "iopub.execute_input": "2023-01-17T06:23:35.781451Z",
     "iopub.status.busy": "2023-01-17T06:23:35.780702Z",
     "iopub.status.idle": "2023-01-17T06:23:35.795343Z",
     "shell.execute_reply": "2023-01-17T06:23:35.794823Z",
     "shell.execute_reply.started": "2023-01-17T06:23:35.781414Z"
    },
    "tags": []
   },
   "outputs": [
    {
     "data": {
      "text/plain": [
       "Series([], dtype: int64)"
      ]
     },
     "execution_count": 149,
     "metadata": {},
     "output_type": "execute_result"
    }
   ],
   "source": [
    "cdc_low.isna().sum()[cdc_low.isna().sum() > 0]"
   ]
  },
  {
   "cell_type": "code",
   "execution_count": 150,
   "id": "1b73ab8c-3a59-4800-bc84-16519486a00e",
   "metadata": {
    "execution": {
     "iopub.execute_input": "2023-01-17T06:23:36.231716Z",
     "iopub.status.busy": "2023-01-17T06:23:36.230793Z",
     "iopub.status.idle": "2023-01-17T06:23:36.252794Z",
     "shell.execute_reply": "2023-01-17T06:23:36.252028Z",
     "shell.execute_reply.started": "2023-01-17T06:23:36.231658Z"
    },
    "tags": []
   },
   "outputs": [
    {
     "data": {
      "text/plain": [
       "Series([], dtype: int64)"
      ]
     },
     "execution_count": 150,
     "metadata": {},
     "output_type": "execute_result"
    }
   ],
   "source": [
    "cdc_all.isna().sum()[cdc_all.isna().sum() > 0]"
   ]
  },
  {
   "cell_type": "markdown",
   "id": "f4ec0f62-6d53-4f42-9391-4d52d0a0baeb",
   "metadata": {},
   "source": [
    "That did resolve all the null values."
   ]
  },
  {
   "cell_type": "code",
   "execution_count": 151,
   "id": "cdfa7304-4354-4d75-8063-ce81884e077f",
   "metadata": {
    "execution": {
     "iopub.execute_input": "2023-01-17T06:23:36.657182Z",
     "iopub.status.busy": "2023-01-17T06:23:36.656406Z",
     "iopub.status.idle": "2023-01-17T06:23:36.662182Z",
     "shell.execute_reply": "2023-01-17T06:23:36.661551Z",
     "shell.execute_reply.started": "2023-01-17T06:23:36.657148Z"
    },
    "tags": []
   },
   "outputs": [
    {
     "data": {
      "text/plain": [
       "((6616, 10), (6623, 10))"
      ]
     },
     "execution_count": 151,
     "metadata": {},
     "output_type": "execute_result"
    }
   ],
   "source": [
    "cdc_low.shape, cdc_all.shape"
   ]
  },
  {
   "cell_type": "code",
   "execution_count": 152,
   "id": "9b841a0b-7c28-4bf4-b756-f7d0b967552a",
   "metadata": {
    "execution": {
     "iopub.execute_input": "2023-01-17T06:23:36.815662Z",
     "iopub.status.busy": "2023-01-17T06:23:36.814731Z",
     "iopub.status.idle": "2023-01-17T06:23:36.836341Z",
     "shell.execute_reply": "2023-01-17T06:23:36.835969Z",
     "shell.execute_reply.started": "2023-01-17T06:23:36.815630Z"
    },
    "tags": []
   },
   "outputs": [
    {
     "data": {
      "text/html": [
       "<div>\n",
       "<style scoped>\n",
       "    .dataframe tbody tr th:only-of-type {\n",
       "        vertical-align: middle;\n",
       "    }\n",
       "\n",
       "    .dataframe tbody tr th {\n",
       "        vertical-align: top;\n",
       "    }\n",
       "\n",
       "    .dataframe thead th {\n",
       "        text-align: right;\n",
       "    }\n",
       "</style>\n",
       "<table border=\"1\" class=\"dataframe\">\n",
       "  <thead>\n",
       "    <tr style=\"text-align: right;\">\n",
       "      <th></th>\n",
       "      <th>state</th>\n",
       "      <th>state_code</th>\n",
       "      <th>county</th>\n",
       "      <th>county_code</th>\n",
       "      <th>year</th>\n",
       "      <th>year_code</th>\n",
       "      <th>births</th>\n",
       "      <th>average_birth_weight</th>\n",
       "      <th>average_lmp_gestational_age</th>\n",
       "      <th>average_oe_gestational_age</th>\n",
       "    </tr>\n",
       "  </thead>\n",
       "  <tbody>\n",
       "    <tr>\n",
       "      <th>6613</th>\n",
       "      <td>Wyoming</td>\n",
       "      <td>56.0</td>\n",
       "      <td>Unidentified Counties, WY</td>\n",
       "      <td>56999.0</td>\n",
       "      <td>2019.0</td>\n",
       "      <td>2019.0</td>\n",
       "      <td>335.0</td>\n",
       "      <td>2062.824</td>\n",
       "      <td>35.051</td>\n",
       "      <td>34.919</td>\n",
       "    </tr>\n",
       "    <tr>\n",
       "      <th>6614</th>\n",
       "      <td>Wyoming</td>\n",
       "      <td>56.0</td>\n",
       "      <td>Unidentified Counties, WY</td>\n",
       "      <td>56999.0</td>\n",
       "      <td>2020.0</td>\n",
       "      <td>2020.0</td>\n",
       "      <td>307.0</td>\n",
       "      <td>2088.586</td>\n",
       "      <td>35.365</td>\n",
       "      <td>34.987</td>\n",
       "    </tr>\n",
       "    <tr>\n",
       "      <th>6615</th>\n",
       "      <td>Wyoming</td>\n",
       "      <td>56.0</td>\n",
       "      <td>Unidentified Counties, WY</td>\n",
       "      <td>56999.0</td>\n",
       "      <td>2021.0</td>\n",
       "      <td>2021.0</td>\n",
       "      <td>319.0</td>\n",
       "      <td>2063.197</td>\n",
       "      <td>34.821</td>\n",
       "      <td>34.862</td>\n",
       "    </tr>\n",
       "  </tbody>\n",
       "</table>\n",
       "</div>"
      ],
      "text/plain": [
       "        state  state_code                     county  county_code    year  \\\n",
       "6613  Wyoming        56.0  Unidentified Counties, WY      56999.0  2019.0   \n",
       "6614  Wyoming        56.0  Unidentified Counties, WY      56999.0  2020.0   \n",
       "6615  Wyoming        56.0  Unidentified Counties, WY      56999.0  2021.0   \n",
       "\n",
       "      year_code  births  average_birth_weight  average_lmp_gestational_age  \\\n",
       "6613     2019.0   335.0              2062.824                       35.051   \n",
       "6614     2020.0   307.0              2088.586                       35.365   \n",
       "6615     2021.0   319.0              2063.197                       34.821   \n",
       "\n",
       "      average_oe_gestational_age  \n",
       "6613                      34.919  \n",
       "6614                      34.987  \n",
       "6615                      34.862  "
      ]
     },
     "execution_count": 152,
     "metadata": {},
     "output_type": "execute_result"
    }
   ],
   "source": [
    "cdc_low.tail(3)"
   ]
  },
  {
   "cell_type": "code",
   "execution_count": 153,
   "id": "545490fb-b1f6-402f-91b1-cede9f313ace",
   "metadata": {
    "execution": {
     "iopub.execute_input": "2023-01-17T06:23:36.956513Z",
     "iopub.status.busy": "2023-01-17T06:23:36.955821Z",
     "iopub.status.idle": "2023-01-17T06:23:36.975873Z",
     "shell.execute_reply": "2023-01-17T06:23:36.975581Z",
     "shell.execute_reply.started": "2023-01-17T06:23:36.956464Z"
    },
    "tags": []
   },
   "outputs": [
    {
     "data": {
      "text/html": [
       "<div>\n",
       "<style scoped>\n",
       "    .dataframe tbody tr th:only-of-type {\n",
       "        vertical-align: middle;\n",
       "    }\n",
       "\n",
       "    .dataframe tbody tr th {\n",
       "        vertical-align: top;\n",
       "    }\n",
       "\n",
       "    .dataframe thead th {\n",
       "        text-align: right;\n",
       "    }\n",
       "</style>\n",
       "<table border=\"1\" class=\"dataframe\">\n",
       "  <thead>\n",
       "    <tr style=\"text-align: right;\">\n",
       "      <th></th>\n",
       "      <th>state</th>\n",
       "      <th>state_code</th>\n",
       "      <th>county</th>\n",
       "      <th>county_code</th>\n",
       "      <th>year</th>\n",
       "      <th>year_code</th>\n",
       "      <th>births</th>\n",
       "      <th>average_birth_weight</th>\n",
       "      <th>average_lmp_gestational_age</th>\n",
       "      <th>average_oe_gestational_age</th>\n",
       "    </tr>\n",
       "  </thead>\n",
       "  <tbody>\n",
       "    <tr>\n",
       "      <th>6620</th>\n",
       "      <td>Wyoming</td>\n",
       "      <td>56.0</td>\n",
       "      <td>Unidentified Counties, WY</td>\n",
       "      <td>56999.0</td>\n",
       "      <td>2019.0</td>\n",
       "      <td>2019.0</td>\n",
       "      <td>4592.0</td>\n",
       "      <td>3218.040</td>\n",
       "      <td>38.709</td>\n",
       "      <td>38.636</td>\n",
       "    </tr>\n",
       "    <tr>\n",
       "      <th>6621</th>\n",
       "      <td>Wyoming</td>\n",
       "      <td>56.0</td>\n",
       "      <td>Unidentified Counties, WY</td>\n",
       "      <td>56999.0</td>\n",
       "      <td>2020.0</td>\n",
       "      <td>2020.0</td>\n",
       "      <td>4285.0</td>\n",
       "      <td>3228.561</td>\n",
       "      <td>38.733</td>\n",
       "      <td>38.641</td>\n",
       "    </tr>\n",
       "    <tr>\n",
       "      <th>6622</th>\n",
       "      <td>Wyoming</td>\n",
       "      <td>56.0</td>\n",
       "      <td>Unidentified Counties, WY</td>\n",
       "      <td>56999.0</td>\n",
       "      <td>2021.0</td>\n",
       "      <td>2021.0</td>\n",
       "      <td>4379.0</td>\n",
       "      <td>3227.242</td>\n",
       "      <td>38.608</td>\n",
       "      <td>38.551</td>\n",
       "    </tr>\n",
       "  </tbody>\n",
       "</table>\n",
       "</div>"
      ],
      "text/plain": [
       "        state  state_code                     county  county_code    year  \\\n",
       "6620  Wyoming        56.0  Unidentified Counties, WY      56999.0  2019.0   \n",
       "6621  Wyoming        56.0  Unidentified Counties, WY      56999.0  2020.0   \n",
       "6622  Wyoming        56.0  Unidentified Counties, WY      56999.0  2021.0   \n",
       "\n",
       "      year_code  births  average_birth_weight  average_lmp_gestational_age  \\\n",
       "6620     2019.0  4592.0              3218.040                       38.709   \n",
       "6621     2020.0  4285.0              3228.561                       38.733   \n",
       "6622     2021.0  4379.0              3227.242                       38.608   \n",
       "\n",
       "      average_oe_gestational_age  \n",
       "6620                      38.636  \n",
       "6621                      38.641  \n",
       "6622                      38.551  "
      ]
     },
     "execution_count": 153,
     "metadata": {},
     "output_type": "execute_result"
    }
   ],
   "source": [
    "cdc_all.tail(3)"
   ]
  },
  {
   "cell_type": "markdown",
   "id": "07d32c3f-3079-4ce3-9bfe-7eb004b9ef4e",
   "metadata": {},
   "source": [
    "It looks like year and year_code might contain the same data"
   ]
  },
  {
   "cell_type": "code",
   "execution_count": 154,
   "id": "aaffda9f-b596-451c-a69e-69b9a81b27d9",
   "metadata": {
    "execution": {
     "iopub.execute_input": "2023-01-17T06:23:37.658039Z",
     "iopub.status.busy": "2023-01-17T06:23:37.657567Z",
     "iopub.status.idle": "2023-01-17T06:23:37.668925Z",
     "shell.execute_reply": "2023-01-17T06:23:37.667693Z",
     "shell.execute_reply.started": "2023-01-17T06:23:37.658011Z"
    },
    "tags": []
   },
   "outputs": [
    {
     "data": {
      "text/plain": [
       "True"
      ]
     },
     "execution_count": 154,
     "metadata": {},
     "output_type": "execute_result"
    }
   ],
   "source": [
    "(cdc_low['year'] == cdc_low['year_code']).sum() == cdc_low.shape[0]"
   ]
  },
  {
   "cell_type": "markdown",
   "id": "26b2a7cb-401c-4b9a-908d-43b821e210d7",
   "metadata": {
    "execution": {
     "iopub.execute_input": "2023-01-15T22:28:01.189549Z",
     "iopub.status.busy": "2023-01-15T22:28:01.188421Z",
     "iopub.status.idle": "2023-01-15T22:28:01.215164Z",
     "shell.execute_reply": "2023-01-15T22:28:01.214651Z",
     "shell.execute_reply.started": "2023-01-15T22:28:01.189519Z"
    }
   },
   "source": [
    "`year` and `year_code` appear to be the same.  We also don't have state or county codes in the EPA data, so dropping those as well."
   ]
  },
  {
   "cell_type": "code",
   "execution_count": 155,
   "id": "0c250d1b-64e2-4f0f-8d6e-6154b44be533",
   "metadata": {
    "execution": {
     "iopub.execute_input": "2023-01-17T06:23:39.044934Z",
     "iopub.status.busy": "2023-01-17T06:23:39.044093Z",
     "iopub.status.idle": "2023-01-17T06:23:39.058871Z",
     "shell.execute_reply": "2023-01-17T06:23:39.057838Z",
     "shell.execute_reply.started": "2023-01-17T06:23:39.044865Z"
    },
    "tags": []
   },
   "outputs": [],
   "source": [
    "cdc_low.drop(['year_code', 'county_code', 'state_code'], axis=1, inplace=True)\n",
    "cdc_all.drop(['year_code', 'county_code', 'state_code'], axis=1, inplace=True)"
   ]
  },
  {
   "cell_type": "markdown",
   "id": "586af386-017c-4086-bb56-5e61667bfa51",
   "metadata": {},
   "source": [
    "Also want the year as an int not a float"
   ]
  },
  {
   "cell_type": "code",
   "execution_count": 156,
   "id": "9f10d448-c34d-4caf-94f7-2ec626610daa",
   "metadata": {
    "execution": {
     "iopub.execute_input": "2023-01-17T06:23:39.422495Z",
     "iopub.status.busy": "2023-01-17T06:23:39.421775Z",
     "iopub.status.idle": "2023-01-17T06:23:39.445589Z",
     "shell.execute_reply": "2023-01-17T06:23:39.437207Z",
     "shell.execute_reply.started": "2023-01-17T06:23:39.422460Z"
    },
    "tags": []
   },
   "outputs": [],
   "source": [
    "cdc_low['year'] = cdc_low['year'].astype(int)\n",
    "cdc_all['year'] = cdc_all['year'].astype(int)"
   ]
  },
  {
   "cell_type": "code",
   "execution_count": 157,
   "id": "59d76224-41e5-42c4-9b98-f8d42940d625",
   "metadata": {
    "execution": {
     "iopub.execute_input": "2023-01-17T06:23:39.693824Z",
     "iopub.status.busy": "2023-01-17T06:23:39.693458Z",
     "iopub.status.idle": "2023-01-17T06:23:39.698900Z",
     "shell.execute_reply": "2023-01-17T06:23:39.698095Z",
     "shell.execute_reply.started": "2023-01-17T06:23:39.693804Z"
    },
    "tags": []
   },
   "outputs": [
    {
     "data": {
      "text/plain": [
       "Index(['state', 'county', 'year', 'births', 'average_birth_weight',\n",
       "       'average_lmp_gestational_age', 'average_oe_gestational_age'],\n",
       "      dtype='object')"
      ]
     },
     "execution_count": 157,
     "metadata": {},
     "output_type": "execute_result"
    }
   ],
   "source": [
    "cdc_low.columns"
   ]
  },
  {
   "cell_type": "markdown",
   "id": "bd3ce33c-1d6b-4a1a-8b09-676aab9a3861",
   "metadata": {},
   "source": [
    "#### Gestational Age at Birth\n",
    "Beginning in 2014 NCHS changed the standard for gestational period from the Last Menstrual Period (LMP) based gestational age to the Obstetric/clinical Estimate (OE) based gestational age. Obstetric/clinical Estimate (OE) based gestational age groups are available for years 2007 and later in WONDER since February 2016. Refer to [Measuring Gestational Age in Vital Statistics Data: Transitioning to the Obstetric Estimate](http://www.cdc.gov/nchs/data/nvsr/nvsr64/nvsr64_05.pdf) for more information.\n",
    "\n",
    "I believe this means this means we should drop the LMP column and keep the OE column."
   ]
  },
  {
   "cell_type": "code",
   "execution_count": 158,
   "id": "27d5beb6-6e91-4d0f-a890-da302a0858fc",
   "metadata": {
    "execution": {
     "iopub.execute_input": "2023-01-17T06:23:40.551110Z",
     "iopub.status.busy": "2023-01-17T06:23:40.549994Z",
     "iopub.status.idle": "2023-01-17T06:23:40.564351Z",
     "shell.execute_reply": "2023-01-17T06:23:40.563687Z",
     "shell.execute_reply.started": "2023-01-17T06:23:40.551064Z"
    },
    "tags": []
   },
   "outputs": [],
   "source": [
    "cdc_low.drop(['average_lmp_gestational_age'], axis=1, inplace=True)\n",
    "cdc_all.drop(['average_lmp_gestational_age'], axis=1, inplace=True)"
   ]
  },
  {
   "cell_type": "code",
   "execution_count": 159,
   "id": "9425c5e2-76cc-44d7-a24b-5340b5c320b2",
   "metadata": {
    "execution": {
     "iopub.execute_input": "2023-01-17T06:23:40.677951Z",
     "iopub.status.busy": "2023-01-17T06:23:40.676832Z",
     "iopub.status.idle": "2023-01-17T06:23:40.688970Z",
     "shell.execute_reply": "2023-01-17T06:23:40.687331Z",
     "shell.execute_reply.started": "2023-01-17T06:23:40.677897Z"
    },
    "tags": []
   },
   "outputs": [
    {
     "data": {
      "text/plain": [
       "Index(['state', 'county', 'year', 'births', 'average_birth_weight',\n",
       "       'average_oe_gestational_age'],\n",
       "      dtype='object')"
      ]
     },
     "execution_count": 159,
     "metadata": {},
     "output_type": "execute_result"
    }
   ],
   "source": [
    "cdc_low.columns"
   ]
  },
  {
   "cell_type": "markdown",
   "id": "6e1391d3-d049-46b2-b505-2989618cb394",
   "metadata": {
    "tags": []
   },
   "source": [
    "#### Rename Columns\n",
    "\n",
    "To prepare for merging this data, giving the columns specific names to indicate which dataframe they came from."
   ]
  },
  {
   "cell_type": "code",
   "execution_count": 160,
   "id": "b586e196-b304-4114-9c81-1579170ee157",
   "metadata": {
    "execution": {
     "iopub.execute_input": "2023-01-17T06:23:41.651186Z",
     "iopub.status.busy": "2023-01-17T06:23:41.649658Z",
     "iopub.status.idle": "2023-01-17T06:23:41.665378Z",
     "shell.execute_reply": "2023-01-17T06:23:41.663911Z",
     "shell.execute_reply.started": "2023-01-17T06:23:41.651148Z"
    },
    "tags": []
   },
   "outputs": [],
   "source": [
    "cdc_low.rename(columns={\n",
    "    'births': 'births_low',\n",
    "    'average_birth_weight': 'avg_weight_low',\n",
    "    'average_oe_gestational_age': 'avg_ges_age_low'\n",
    "    }, inplace=True)\n",
    "\n",
    "cdc_all.rename(columns={\n",
    "    'births': 'births_all',\n",
    "    'average_birth_weight': 'avg_weight_all',\n",
    "    'average_oe_gestational_age': 'avg_ges_age_all'\n",
    "    }, inplace=True)"
   ]
  },
  {
   "cell_type": "code",
   "execution_count": 161,
   "id": "9e4be595-2478-4178-aeea-fdf9f8d0c310",
   "metadata": {
    "execution": {
     "iopub.execute_input": "2023-01-17T06:23:41.785673Z",
     "iopub.status.busy": "2023-01-17T06:23:41.785291Z",
     "iopub.status.idle": "2023-01-17T06:23:41.800371Z",
     "shell.execute_reply": "2023-01-17T06:23:41.799957Z",
     "shell.execute_reply.started": "2023-01-17T06:23:41.785648Z"
    },
    "tags": []
   },
   "outputs": [
    {
     "data": {
      "text/html": [
       "<div>\n",
       "<style scoped>\n",
       "    .dataframe tbody tr th:only-of-type {\n",
       "        vertical-align: middle;\n",
       "    }\n",
       "\n",
       "    .dataframe tbody tr th {\n",
       "        vertical-align: top;\n",
       "    }\n",
       "\n",
       "    .dataframe thead th {\n",
       "        text-align: right;\n",
       "    }\n",
       "</style>\n",
       "<table border=\"1\" class=\"dataframe\">\n",
       "  <thead>\n",
       "    <tr style=\"text-align: right;\">\n",
       "      <th></th>\n",
       "      <th>state</th>\n",
       "      <th>county</th>\n",
       "      <th>year</th>\n",
       "      <th>births_low</th>\n",
       "      <th>avg_weight_low</th>\n",
       "      <th>avg_ges_age_low</th>\n",
       "    </tr>\n",
       "  </thead>\n",
       "  <tbody>\n",
       "    <tr>\n",
       "      <th>0</th>\n",
       "      <td>Alabama</td>\n",
       "      <td>Baldwin County, AL</td>\n",
       "      <td>2014</td>\n",
       "      <td>137.0</td>\n",
       "      <td>1995.255</td>\n",
       "      <td>34.051</td>\n",
       "    </tr>\n",
       "    <tr>\n",
       "      <th>1</th>\n",
       "      <td>Alabama</td>\n",
       "      <td>Baldwin County, AL</td>\n",
       "      <td>2015</td>\n",
       "      <td>141.0</td>\n",
       "      <td>1832.837</td>\n",
       "      <td>32.922</td>\n",
       "    </tr>\n",
       "    <tr>\n",
       "      <th>2</th>\n",
       "      <td>Alabama</td>\n",
       "      <td>Baldwin County, AL</td>\n",
       "      <td>2016</td>\n",
       "      <td>120.0</td>\n",
       "      <td>2008.358</td>\n",
       "      <td>34.058</td>\n",
       "    </tr>\n",
       "  </tbody>\n",
       "</table>\n",
       "</div>"
      ],
      "text/plain": [
       "     state              county  year  births_low  avg_weight_low  \\\n",
       "0  Alabama  Baldwin County, AL  2014       137.0        1995.255   \n",
       "1  Alabama  Baldwin County, AL  2015       141.0        1832.837   \n",
       "2  Alabama  Baldwin County, AL  2016       120.0        2008.358   \n",
       "\n",
       "   avg_ges_age_low  \n",
       "0           34.051  \n",
       "1           32.922  \n",
       "2           34.058  "
      ]
     },
     "execution_count": 161,
     "metadata": {},
     "output_type": "execute_result"
    }
   ],
   "source": [
    "cdc_low.head(3)"
   ]
  },
  {
   "cell_type": "code",
   "execution_count": 162,
   "id": "ddb357c6-bf0f-4615-a132-299d2227b358",
   "metadata": {
    "execution": {
     "iopub.execute_input": "2023-01-17T06:23:42.165811Z",
     "iopub.status.busy": "2023-01-17T06:23:42.165095Z",
     "iopub.status.idle": "2023-01-17T06:23:42.184705Z",
     "shell.execute_reply": "2023-01-17T06:23:42.183474Z",
     "shell.execute_reply.started": "2023-01-17T06:23:42.165784Z"
    },
    "tags": []
   },
   "outputs": [
    {
     "data": {
      "text/html": [
       "<div>\n",
       "<style scoped>\n",
       "    .dataframe tbody tr th:only-of-type {\n",
       "        vertical-align: middle;\n",
       "    }\n",
       "\n",
       "    .dataframe tbody tr th {\n",
       "        vertical-align: top;\n",
       "    }\n",
       "\n",
       "    .dataframe thead th {\n",
       "        text-align: right;\n",
       "    }\n",
       "</style>\n",
       "<table border=\"1\" class=\"dataframe\">\n",
       "  <thead>\n",
       "    <tr style=\"text-align: right;\">\n",
       "      <th></th>\n",
       "      <th>state</th>\n",
       "      <th>county</th>\n",
       "      <th>year</th>\n",
       "      <th>births_all</th>\n",
       "      <th>avg_weight_all</th>\n",
       "      <th>avg_ges_age_all</th>\n",
       "    </tr>\n",
       "  </thead>\n",
       "  <tbody>\n",
       "    <tr>\n",
       "      <th>0</th>\n",
       "      <td>Alabama</td>\n",
       "      <td>Baldwin County, AL</td>\n",
       "      <td>2014</td>\n",
       "      <td>1724.0</td>\n",
       "      <td>3296.472</td>\n",
       "      <td>38.489</td>\n",
       "    </tr>\n",
       "    <tr>\n",
       "      <th>1</th>\n",
       "      <td>Alabama</td>\n",
       "      <td>Baldwin County, AL</td>\n",
       "      <td>2015</td>\n",
       "      <td>1857.0</td>\n",
       "      <td>3290.811</td>\n",
       "      <td>38.347</td>\n",
       "    </tr>\n",
       "    <tr>\n",
       "      <th>2</th>\n",
       "      <td>Alabama</td>\n",
       "      <td>Baldwin County, AL</td>\n",
       "      <td>2016</td>\n",
       "      <td>1722.0</td>\n",
       "      <td>3315.387</td>\n",
       "      <td>38.497</td>\n",
       "    </tr>\n",
       "  </tbody>\n",
       "</table>\n",
       "</div>"
      ],
      "text/plain": [
       "     state              county  year  births_all  avg_weight_all  \\\n",
       "0  Alabama  Baldwin County, AL  2014      1724.0        3296.472   \n",
       "1  Alabama  Baldwin County, AL  2015      1857.0        3290.811   \n",
       "2  Alabama  Baldwin County, AL  2016      1722.0        3315.387   \n",
       "\n",
       "   avg_ges_age_all  \n",
       "0           38.489  \n",
       "1           38.347  \n",
       "2           38.497  "
      ]
     },
     "execution_count": 162,
     "metadata": {},
     "output_type": "execute_result"
    }
   ],
   "source": [
    "cdc_all.head(3)"
   ]
  },
  {
   "cell_type": "markdown",
   "id": "eb573a45-18a4-4269-a589-10352646f6cf",
   "metadata": {},
   "source": [
    "#### Merge Data\n",
    "\n",
    "Before further cleaning, the dataframes will be merged.  The low birthweight dataframe `cdc_low` is the main data and we will supplement that with the all birthweight data `cdc_all` so we should end up with a single dataframe that contains 1 entry for each year/county combination that has both the low birthweight and all birthweight data."
   ]
  },
  {
   "cell_type": "code",
   "execution_count": 163,
   "id": "1dcfc03e-d22e-4f5d-a237-1ff656ab682b",
   "metadata": {
    "execution": {
     "iopub.execute_input": "2023-01-17T06:23:44.735448Z",
     "iopub.status.busy": "2023-01-17T06:23:44.734937Z",
     "iopub.status.idle": "2023-01-17T06:23:44.753727Z",
     "shell.execute_reply": "2023-01-17T06:23:44.752953Z",
     "shell.execute_reply.started": "2023-01-17T06:23:44.735416Z"
    },
    "tags": []
   },
   "outputs": [],
   "source": [
    "cdc = pd.merge(cdc_low, cdc_all, how='left', on=['state', 'county', 'year'])"
   ]
  },
  {
   "cell_type": "code",
   "execution_count": 164,
   "id": "3fff8e71-53bd-4f47-9533-9dcecedc3e25",
   "metadata": {
    "execution": {
     "iopub.execute_input": "2023-01-17T06:23:44.881047Z",
     "iopub.status.busy": "2023-01-17T06:23:44.880404Z",
     "iopub.status.idle": "2023-01-17T06:23:44.902951Z",
     "shell.execute_reply": "2023-01-17T06:23:44.901908Z",
     "shell.execute_reply.started": "2023-01-17T06:23:44.881022Z"
    },
    "tags": []
   },
   "outputs": [
    {
     "data": {
      "text/html": [
       "<div>\n",
       "<style scoped>\n",
       "    .dataframe tbody tr th:only-of-type {\n",
       "        vertical-align: middle;\n",
       "    }\n",
       "\n",
       "    .dataframe tbody tr th {\n",
       "        vertical-align: top;\n",
       "    }\n",
       "\n",
       "    .dataframe thead th {\n",
       "        text-align: right;\n",
       "    }\n",
       "</style>\n",
       "<table border=\"1\" class=\"dataframe\">\n",
       "  <thead>\n",
       "    <tr style=\"text-align: right;\">\n",
       "      <th></th>\n",
       "      <th>state</th>\n",
       "      <th>county</th>\n",
       "      <th>year</th>\n",
       "      <th>births_low</th>\n",
       "      <th>avg_weight_low</th>\n",
       "      <th>avg_ges_age_low</th>\n",
       "      <th>births_all</th>\n",
       "      <th>avg_weight_all</th>\n",
       "      <th>avg_ges_age_all</th>\n",
       "    </tr>\n",
       "  </thead>\n",
       "  <tbody>\n",
       "    <tr>\n",
       "      <th>0</th>\n",
       "      <td>Alabama</td>\n",
       "      <td>Baldwin County, AL</td>\n",
       "      <td>2014</td>\n",
       "      <td>137.0</td>\n",
       "      <td>1995.255</td>\n",
       "      <td>34.051</td>\n",
       "      <td>1724.0</td>\n",
       "      <td>3296.472</td>\n",
       "      <td>38.489</td>\n",
       "    </tr>\n",
       "    <tr>\n",
       "      <th>1</th>\n",
       "      <td>Alabama</td>\n",
       "      <td>Baldwin County, AL</td>\n",
       "      <td>2015</td>\n",
       "      <td>141.0</td>\n",
       "      <td>1832.837</td>\n",
       "      <td>32.922</td>\n",
       "      <td>1857.0</td>\n",
       "      <td>3290.811</td>\n",
       "      <td>38.347</td>\n",
       "    </tr>\n",
       "    <tr>\n",
       "      <th>2</th>\n",
       "      <td>Alabama</td>\n",
       "      <td>Baldwin County, AL</td>\n",
       "      <td>2016</td>\n",
       "      <td>120.0</td>\n",
       "      <td>2008.358</td>\n",
       "      <td>34.058</td>\n",
       "      <td>1722.0</td>\n",
       "      <td>3315.387</td>\n",
       "      <td>38.497</td>\n",
       "    </tr>\n",
       "    <tr>\n",
       "      <th>3</th>\n",
       "      <td>Alabama</td>\n",
       "      <td>Baldwin County, AL</td>\n",
       "      <td>2017</td>\n",
       "      <td>100.0</td>\n",
       "      <td>2082.830</td>\n",
       "      <td>34.380</td>\n",
       "      <td>1782.0</td>\n",
       "      <td>3346.588</td>\n",
       "      <td>38.572</td>\n",
       "    </tr>\n",
       "    <tr>\n",
       "      <th>4</th>\n",
       "      <td>Alabama</td>\n",
       "      <td>Baldwin County, AL</td>\n",
       "      <td>2018</td>\n",
       "      <td>122.0</td>\n",
       "      <td>1942.303</td>\n",
       "      <td>33.508</td>\n",
       "      <td>1770.0</td>\n",
       "      <td>3301.324</td>\n",
       "      <td>38.423</td>\n",
       "    </tr>\n",
       "  </tbody>\n",
       "</table>\n",
       "</div>"
      ],
      "text/plain": [
       "     state              county  year  births_low  avg_weight_low  \\\n",
       "0  Alabama  Baldwin County, AL  2014       137.0        1995.255   \n",
       "1  Alabama  Baldwin County, AL  2015       141.0        1832.837   \n",
       "2  Alabama  Baldwin County, AL  2016       120.0        2008.358   \n",
       "3  Alabama  Baldwin County, AL  2017       100.0        2082.830   \n",
       "4  Alabama  Baldwin County, AL  2018       122.0        1942.303   \n",
       "\n",
       "   avg_ges_age_low  births_all  avg_weight_all  avg_ges_age_all  \n",
       "0           34.051      1724.0        3296.472           38.489  \n",
       "1           32.922      1857.0        3290.811           38.347  \n",
       "2           34.058      1722.0        3315.387           38.497  \n",
       "3           34.380      1782.0        3346.588           38.572  \n",
       "4           33.508      1770.0        3301.324           38.423  "
      ]
     },
     "execution_count": 164,
     "metadata": {},
     "output_type": "execute_result"
    }
   ],
   "source": [
    "cdc.head()"
   ]
  },
  {
   "cell_type": "markdown",
   "id": "c010eb6e-a4e8-483e-9979-a7754d023628",
   "metadata": {},
   "source": [
    "#### County Names"
   ]
  },
  {
   "cell_type": "code",
   "execution_count": 165,
   "id": "3b540dbc-37e7-4abd-a969-78d6c1f7e59f",
   "metadata": {
    "execution": {
     "iopub.execute_input": "2023-01-17T06:23:46.154211Z",
     "iopub.status.busy": "2023-01-17T06:23:46.153403Z",
     "iopub.status.idle": "2023-01-17T06:23:46.165192Z",
     "shell.execute_reply": "2023-01-17T06:23:46.164389Z",
     "shell.execute_reply.started": "2023-01-17T06:23:46.154148Z"
    },
    "tags": []
   },
   "outputs": [
    {
     "data": {
      "text/plain": [
       "5954         Tom Green County, TX\n",
       "5132            Marion County, OR\n",
       "2561         Jefferson Parish, LA\n",
       "5763         Jefferson County, TX\n",
       "3857            Broome County, NY\n",
       "4978    Unidentified Counties, OH\n",
       "3198           Olmsted County, MN\n",
       "5269              Erie County, PA\n",
       "1851           LaSalle County, IL\n",
       "4783             Lucas County, OH\n",
       "Name: county, dtype: object"
      ]
     },
     "execution_count": 165,
     "metadata": {},
     "output_type": "execute_result"
    }
   ],
   "source": [
    "cdc['county'].sample(10)"
   ]
  },
  {
   "cell_type": "markdown",
   "id": "ac0a9819-c58b-4a41-97d0-748bd1afca29",
   "metadata": {},
   "source": [
    "I ran the sample code above multiple times to see some of the data in the county column.  Looks like they are including the state abbreviation in the County name, so will remove that.  There were also some places that didn't say \"County\" and said \"Counties\" (i.e. Unidentified Counties, WY) and also there were some locations that were parishes (in LA) or other unique monikers like Borough.  So I'm splitting on both the \" Count\" to capture County and Counties as well as \",\" to get both cases.\n",
    "\n",
    "We should look at what the AQI data has and decide whether we need to treat the remaining unique naming cases that remain after this clean up."
   ]
  },
  {
   "cell_type": "code",
   "execution_count": 166,
   "id": "d91e0df7-2f5c-4b8a-84c6-992b6ded4c57",
   "metadata": {
    "execution": {
     "iopub.execute_input": "2023-01-17T06:23:49.079846Z",
     "iopub.status.busy": "2023-01-17T06:23:49.078860Z",
     "iopub.status.idle": "2023-01-17T06:23:49.097689Z",
     "shell.execute_reply": "2023-01-17T06:23:49.096826Z",
     "shell.execute_reply.started": "2023-01-17T06:23:49.079791Z"
    },
    "tags": []
   },
   "outputs": [],
   "source": [
    "cdc['county'] = cdc['county'\n",
    "                   ].apply(lambda x: x.split(' Count')[0].split(',')[0].title())"
   ]
  },
  {
   "cell_type": "code",
   "execution_count": 167,
   "id": "041736ed-1a55-42bc-86dd-40c8ef9d980a",
   "metadata": {
    "execution": {
     "iopub.execute_input": "2023-01-17T06:23:49.838433Z",
     "iopub.status.busy": "2023-01-17T06:23:49.838080Z",
     "iopub.status.idle": "2023-01-17T06:23:49.847077Z",
     "shell.execute_reply": "2023-01-17T06:23:49.846540Z",
     "shell.execute_reply.started": "2023-01-17T06:23:49.838412Z"
    },
    "tags": []
   },
   "outputs": [
    {
     "data": {
      "text/plain": [
       "state      50\n",
       "county    466\n",
       "dtype: int64"
      ]
     },
     "execution_count": 167,
     "metadata": {},
     "output_type": "execute_result"
    }
   ],
   "source": [
    "cdc[['state', 'county']].nunique()"
   ]
  },
  {
   "cell_type": "code",
   "execution_count": 168,
   "id": "84ee3281-bac9-4f67-9c2d-271f5457e1c3",
   "metadata": {
    "execution": {
     "iopub.execute_input": "2023-01-17T06:23:51.422138Z",
     "iopub.status.busy": "2023-01-17T06:23:51.421265Z",
     "iopub.status.idle": "2023-01-17T06:23:51.440795Z",
     "shell.execute_reply": "2023-01-17T06:23:51.438492Z",
     "shell.execute_reply.started": "2023-01-17T06:23:51.422090Z"
    },
    "tags": []
   },
   "outputs": [
    {
     "data": {
      "text/plain": [
       "5240       Centre\n",
       "4801     Mahoning\n",
       "186          Yuma\n",
       "3650       Camden\n",
       "1914       Peoria\n",
       "1888        Macon\n",
       "3977      Niagara\n",
       "4110     Rockland\n",
       "2735    Baltimore\n",
       "19         Etowah\n",
       "Name: county, dtype: object"
      ]
     },
     "execution_count": 168,
     "metadata": {},
     "output_type": "execute_result"
    }
   ],
   "source": [
    "cdc['county'].sample(10)"
   ]
  },
  {
   "cell_type": "markdown",
   "id": "3766351c-bfe0-4d1d-9076-4275a157eae9",
   "metadata": {},
   "source": [
    "This looks more like what I would expect where it is just the name of the county.  Since we also saw that there were unidentified counties, and they are all just listed as Unidentified now, we should drop that data since we are trying to investigate county air quality and county birth weights, so without a specific county, the data is not valuable to us."
   ]
  },
  {
   "cell_type": "code",
   "execution_count": 169,
   "id": "32057c89-ade6-42a3-b88b-245fa6dbe7d2",
   "metadata": {
    "execution": {
     "iopub.execute_input": "2023-01-17T06:23:52.813609Z",
     "iopub.status.busy": "2023-01-17T06:23:52.812733Z",
     "iopub.status.idle": "2023-01-17T06:23:52.822546Z",
     "shell.execute_reply": "2023-01-17T06:23:52.819850Z",
     "shell.execute_reply.started": "2023-01-17T06:23:52.813566Z"
    },
    "tags": []
   },
   "outputs": [],
   "source": [
    "# looking through all the unique values for anything else interesting\n",
    "# cdc['county'].unique()"
   ]
  },
  {
   "cell_type": "markdown",
   "id": "cfae153f-0ccf-457b-b980-348e85243626",
   "metadata": {},
   "source": [
    "I'm also seeing many counties that end in lower case 'city' so investigating some of those, like:\n",
    "* St. Louis city\n",
    "* Chesapeake city\n",
    "* Norfolk city\n",
    "* Portsmouth city\n",
    "\n",
    "St. Louis is interesting, since it sounds like the city is a county, but there is also a St. Louis county that surrounds the city according to https://www.stlouis-mo.gov/government/about/city-government-structure.cfm\n",
    "\n",
    "Chesapeake, Virginia is also an independent city and not part of a county https://en.wikipedia.org/wiki/Chesapeake,_Virginia\n",
    "\n",
    "Given this information and the information above about seeing some \"parish\" listings in Louisiana, we checked against the AQI county listings and found that in the AQI data:\n",
    "* the word Parish does not appear, but the name of the Parish does--like 'East Baton Rouge', so we should drop 'Parish' from the CDC county names.\n",
    "* The word City does appear in the AQI data, but it is capitalized, so we should title case the CDC data or make all of them lower case when we go to match them up (this has been incorporated into earlier cleaning steps and is no longer a concern)"
   ]
  },
  {
   "cell_type": "code",
   "execution_count": 170,
   "id": "e566f333-9dcb-4474-911e-10181619eb0e",
   "metadata": {
    "execution": {
     "iopub.execute_input": "2023-01-17T06:23:56.522198Z",
     "iopub.status.busy": "2023-01-17T06:23:56.521449Z",
     "iopub.status.idle": "2023-01-17T06:23:56.535650Z",
     "shell.execute_reply": "2023-01-17T06:23:56.534212Z",
     "shell.execute_reply.started": "2023-01-17T06:23:56.522148Z"
    },
    "tags": []
   },
   "outputs": [],
   "source": [
    "# drop parish\n",
    "cdc['county'] = cdc['county'\n",
    "                   ].apply(lambda x: x.split(' Parish')[0])"
   ]
  },
  {
   "cell_type": "code",
   "execution_count": 171,
   "id": "cc541b45-63bc-4d8c-a1fd-2c1794a81533",
   "metadata": {
    "execution": {
     "iopub.execute_input": "2023-01-17T06:23:56.869003Z",
     "iopub.status.busy": "2023-01-17T06:23:56.867700Z",
     "iopub.status.idle": "2023-01-17T06:23:56.884486Z",
     "shell.execute_reply": "2023-01-17T06:23:56.882691Z",
     "shell.execute_reply.started": "2023-01-17T06:23:56.868949Z"
    },
    "tags": []
   },
   "outputs": [
    {
     "data": {
      "text/plain": [
       "(6616, 9)"
      ]
     },
     "execution_count": 171,
     "metadata": {},
     "output_type": "execute_result"
    }
   ],
   "source": [
    "cdc.shape"
   ]
  },
  {
   "cell_type": "code",
   "execution_count": 172,
   "id": "e9d19723-d5b1-4ea2-b258-f5f9e9a55b66",
   "metadata": {
    "execution": {
     "iopub.execute_input": "2023-01-17T06:23:57.308666Z",
     "iopub.status.busy": "2023-01-17T06:23:57.307601Z",
     "iopub.status.idle": "2023-01-17T06:23:57.328534Z",
     "shell.execute_reply": "2023-01-17T06:23:57.327710Z",
     "shell.execute_reply.started": "2023-01-17T06:23:57.308606Z"
    },
    "tags": []
   },
   "outputs": [],
   "source": [
    "cdc.drop(cdc[cdc['county'] == 'Unidentified'].index, inplace=True)"
   ]
  },
  {
   "cell_type": "code",
   "execution_count": 173,
   "id": "cafd0f5d-ac08-4626-94e4-17c62c400a4e",
   "metadata": {
    "execution": {
     "iopub.execute_input": "2023-01-17T06:23:58.271880Z",
     "iopub.status.busy": "2023-01-17T06:23:58.271479Z",
     "iopub.status.idle": "2023-01-17T06:23:58.278979Z",
     "shell.execute_reply": "2023-01-17T06:23:58.278326Z",
     "shell.execute_reply.started": "2023-01-17T06:23:58.271855Z"
    },
    "tags": []
   },
   "outputs": [
    {
     "data": {
      "text/plain": [
       "(6094, 9)"
      ]
     },
     "execution_count": 173,
     "metadata": {},
     "output_type": "execute_result"
    }
   ],
   "source": [
    "cdc.shape"
   ]
  },
  {
   "cell_type": "code",
   "execution_count": 174,
   "id": "25073c83-d890-4306-99af-b1ebbc20c3df",
   "metadata": {
    "execution": {
     "iopub.execute_input": "2023-01-17T06:23:59.260968Z",
     "iopub.status.busy": "2023-01-17T06:23:59.260786Z",
     "iopub.status.idle": "2023-01-17T06:23:59.264164Z",
     "shell.execute_reply": "2023-01-17T06:23:59.263778Z",
     "shell.execute_reply.started": "2023-01-17T06:23:59.260953Z"
    },
    "tags": []
   },
   "outputs": [
    {
     "data": {
      "text/plain": [
       "state               object\n",
       "county              object\n",
       "year                 int64\n",
       "births_low         float64\n",
       "avg_weight_low     float64\n",
       "avg_ges_age_low    float64\n",
       "births_all         float64\n",
       "avg_weight_all     float64\n",
       "avg_ges_age_all    float64\n",
       "dtype: object"
      ]
     },
     "execution_count": 174,
     "metadata": {},
     "output_type": "execute_result"
    }
   ],
   "source": [
    "cdc.dtypes"
   ]
  },
  {
   "cell_type": "markdown",
   "id": "6339ba20-2376-4ff1-95d3-9c5beb4aacfd",
   "metadata": {},
   "source": [
    "#### Calculate Percent of Low Birthweight\n",
    "\n",
    "We have the total births and the low birthweight births, so let's create a percentage of low birthrate births before exporting the cleaned data."
   ]
  },
  {
   "cell_type": "code",
   "execution_count": 175,
   "id": "44f3df93-5fad-4b19-980d-618f908c9640",
   "metadata": {
    "execution": {
     "iopub.execute_input": "2023-01-17T06:24:01.290905Z",
     "iopub.status.busy": "2023-01-17T06:24:01.290093Z",
     "iopub.status.idle": "2023-01-17T06:24:01.299804Z",
     "shell.execute_reply": "2023-01-17T06:24:01.298851Z",
     "shell.execute_reply.started": "2023-01-17T06:24:01.290869Z"
    },
    "tags": []
   },
   "outputs": [],
   "source": [
    "cdc['pct_low'] = (cdc['births_low'] / cdc['births_all']).round(3)"
   ]
  },
  {
   "cell_type": "code",
   "execution_count": 176,
   "id": "43ed4b5f-5ea4-455f-9e44-a2542700d348",
   "metadata": {
    "execution": {
     "iopub.execute_input": "2023-01-17T06:24:01.655515Z",
     "iopub.status.busy": "2023-01-17T06:24:01.654829Z",
     "iopub.status.idle": "2023-01-17T06:24:01.676086Z",
     "shell.execute_reply": "2023-01-17T06:24:01.675750Z",
     "shell.execute_reply.started": "2023-01-17T06:24:01.655465Z"
    },
    "tags": []
   },
   "outputs": [
    {
     "data": {
      "text/html": [
       "<div>\n",
       "<style scoped>\n",
       "    .dataframe tbody tr th:only-of-type {\n",
       "        vertical-align: middle;\n",
       "    }\n",
       "\n",
       "    .dataframe tbody tr th {\n",
       "        vertical-align: top;\n",
       "    }\n",
       "\n",
       "    .dataframe thead th {\n",
       "        text-align: right;\n",
       "    }\n",
       "</style>\n",
       "<table border=\"1\" class=\"dataframe\">\n",
       "  <thead>\n",
       "    <tr style=\"text-align: right;\">\n",
       "      <th></th>\n",
       "      <th>state</th>\n",
       "      <th>county</th>\n",
       "      <th>year</th>\n",
       "      <th>births_low</th>\n",
       "      <th>avg_weight_low</th>\n",
       "      <th>avg_ges_age_low</th>\n",
       "      <th>births_all</th>\n",
       "      <th>avg_weight_all</th>\n",
       "      <th>avg_ges_age_all</th>\n",
       "      <th>pct_low</th>\n",
       "    </tr>\n",
       "  </thead>\n",
       "  <tbody>\n",
       "    <tr>\n",
       "      <th>0</th>\n",
       "      <td>Alabama</td>\n",
       "      <td>Baldwin</td>\n",
       "      <td>2014</td>\n",
       "      <td>137.0</td>\n",
       "      <td>1995.255</td>\n",
       "      <td>34.051</td>\n",
       "      <td>1724.0</td>\n",
       "      <td>3296.472</td>\n",
       "      <td>38.489</td>\n",
       "      <td>0.079</td>\n",
       "    </tr>\n",
       "    <tr>\n",
       "      <th>1</th>\n",
       "      <td>Alabama</td>\n",
       "      <td>Baldwin</td>\n",
       "      <td>2015</td>\n",
       "      <td>141.0</td>\n",
       "      <td>1832.837</td>\n",
       "      <td>32.922</td>\n",
       "      <td>1857.0</td>\n",
       "      <td>3290.811</td>\n",
       "      <td>38.347</td>\n",
       "      <td>0.076</td>\n",
       "    </tr>\n",
       "    <tr>\n",
       "      <th>2</th>\n",
       "      <td>Alabama</td>\n",
       "      <td>Baldwin</td>\n",
       "      <td>2016</td>\n",
       "      <td>120.0</td>\n",
       "      <td>2008.358</td>\n",
       "      <td>34.058</td>\n",
       "      <td>1722.0</td>\n",
       "      <td>3315.387</td>\n",
       "      <td>38.497</td>\n",
       "      <td>0.070</td>\n",
       "    </tr>\n",
       "    <tr>\n",
       "      <th>3</th>\n",
       "      <td>Alabama</td>\n",
       "      <td>Baldwin</td>\n",
       "      <td>2017</td>\n",
       "      <td>100.0</td>\n",
       "      <td>2082.830</td>\n",
       "      <td>34.380</td>\n",
       "      <td>1782.0</td>\n",
       "      <td>3346.588</td>\n",
       "      <td>38.572</td>\n",
       "      <td>0.056</td>\n",
       "    </tr>\n",
       "    <tr>\n",
       "      <th>4</th>\n",
       "      <td>Alabama</td>\n",
       "      <td>Baldwin</td>\n",
       "      <td>2018</td>\n",
       "      <td>122.0</td>\n",
       "      <td>1942.303</td>\n",
       "      <td>33.508</td>\n",
       "      <td>1770.0</td>\n",
       "      <td>3301.324</td>\n",
       "      <td>38.423</td>\n",
       "      <td>0.069</td>\n",
       "    </tr>\n",
       "    <tr>\n",
       "      <th>5</th>\n",
       "      <td>Alabama</td>\n",
       "      <td>Baldwin</td>\n",
       "      <td>2019</td>\n",
       "      <td>99.0</td>\n",
       "      <td>2060.768</td>\n",
       "      <td>34.919</td>\n",
       "      <td>1845.0</td>\n",
       "      <td>3327.293</td>\n",
       "      <td>38.521</td>\n",
       "      <td>0.054</td>\n",
       "    </tr>\n",
       "    <tr>\n",
       "      <th>6</th>\n",
       "      <td>Alabama</td>\n",
       "      <td>Baldwin</td>\n",
       "      <td>2020</td>\n",
       "      <td>113.0</td>\n",
       "      <td>2025.478</td>\n",
       "      <td>34.982</td>\n",
       "      <td>1763.0</td>\n",
       "      <td>3305.012</td>\n",
       "      <td>38.529</td>\n",
       "      <td>0.064</td>\n",
       "    </tr>\n",
       "    <tr>\n",
       "      <th>7</th>\n",
       "      <td>Alabama</td>\n",
       "      <td>Baldwin</td>\n",
       "      <td>2021</td>\n",
       "      <td>120.0</td>\n",
       "      <td>1969.508</td>\n",
       "      <td>34.269</td>\n",
       "      <td>1969.0</td>\n",
       "      <td>3293.984</td>\n",
       "      <td>38.394</td>\n",
       "      <td>0.061</td>\n",
       "    </tr>\n",
       "    <tr>\n",
       "      <th>8</th>\n",
       "      <td>Alabama</td>\n",
       "      <td>Calhoun</td>\n",
       "      <td>2014</td>\n",
       "      <td>59.0</td>\n",
       "      <td>1972.661</td>\n",
       "      <td>34.475</td>\n",
       "      <td>948.0</td>\n",
       "      <td>3275.708</td>\n",
       "      <td>38.668</td>\n",
       "      <td>0.062</td>\n",
       "    </tr>\n",
       "    <tr>\n",
       "      <th>9</th>\n",
       "      <td>Alabama</td>\n",
       "      <td>Calhoun</td>\n",
       "      <td>2015</td>\n",
       "      <td>65.0</td>\n",
       "      <td>1909.708</td>\n",
       "      <td>33.892</td>\n",
       "      <td>983.0</td>\n",
       "      <td>3267.121</td>\n",
       "      <td>38.590</td>\n",
       "      <td>0.066</td>\n",
       "    </tr>\n",
       "  </tbody>\n",
       "</table>\n",
       "</div>"
      ],
      "text/plain": [
       "     state   county  year  births_low  avg_weight_low  avg_ges_age_low  \\\n",
       "0  Alabama  Baldwin  2014       137.0        1995.255           34.051   \n",
       "1  Alabama  Baldwin  2015       141.0        1832.837           32.922   \n",
       "2  Alabama  Baldwin  2016       120.0        2008.358           34.058   \n",
       "3  Alabama  Baldwin  2017       100.0        2082.830           34.380   \n",
       "4  Alabama  Baldwin  2018       122.0        1942.303           33.508   \n",
       "5  Alabama  Baldwin  2019        99.0        2060.768           34.919   \n",
       "6  Alabama  Baldwin  2020       113.0        2025.478           34.982   \n",
       "7  Alabama  Baldwin  2021       120.0        1969.508           34.269   \n",
       "8  Alabama  Calhoun  2014        59.0        1972.661           34.475   \n",
       "9  Alabama  Calhoun  2015        65.0        1909.708           33.892   \n",
       "\n",
       "   births_all  avg_weight_all  avg_ges_age_all  pct_low  \n",
       "0      1724.0        3296.472           38.489    0.079  \n",
       "1      1857.0        3290.811           38.347    0.076  \n",
       "2      1722.0        3315.387           38.497    0.070  \n",
       "3      1782.0        3346.588           38.572    0.056  \n",
       "4      1770.0        3301.324           38.423    0.069  \n",
       "5      1845.0        3327.293           38.521    0.054  \n",
       "6      1763.0        3305.012           38.529    0.064  \n",
       "7      1969.0        3293.984           38.394    0.061  \n",
       "8       948.0        3275.708           38.668    0.062  \n",
       "9       983.0        3267.121           38.590    0.066  "
      ]
     },
     "execution_count": 176,
     "metadata": {},
     "output_type": "execute_result"
    }
   ],
   "source": [
    "cdc.head(10)"
   ]
  },
  {
   "cell_type": "markdown",
   "id": "3b7cdf4d-b319-4025-89ff-4c86bf761c0b",
   "metadata": {},
   "source": [
    "### Merge CDC and EPA Data"
   ]
  },
  {
   "cell_type": "code",
   "execution_count": 177,
   "id": "23ea2103-ec1a-493c-b643-5bc12ba146f3",
   "metadata": {
    "execution": {
     "iopub.execute_input": "2023-01-17T06:24:03.099524Z",
     "iopub.status.busy": "2023-01-17T06:24:03.099129Z",
     "iopub.status.idle": "2023-01-17T06:24:03.115146Z",
     "shell.execute_reply": "2023-01-17T06:24:03.114536Z",
     "shell.execute_reply.started": "2023-01-17T06:24:03.099498Z"
    },
    "tags": []
   },
   "outputs": [
    {
     "data": {
      "text/html": [
       "<div>\n",
       "<style scoped>\n",
       "    .dataframe tbody tr th:only-of-type {\n",
       "        vertical-align: middle;\n",
       "    }\n",
       "\n",
       "    .dataframe tbody tr th {\n",
       "        vertical-align: top;\n",
       "    }\n",
       "\n",
       "    .dataframe thead th {\n",
       "        text-align: right;\n",
       "    }\n",
       "</style>\n",
       "<table border=\"1\" class=\"dataframe\">\n",
       "  <thead>\n",
       "    <tr style=\"text-align: right;\">\n",
       "      <th></th>\n",
       "      <th>state</th>\n",
       "      <th>county</th>\n",
       "      <th>year</th>\n",
       "      <th>days_with_aqi</th>\n",
       "      <th>good_days</th>\n",
       "      <th>mod_days</th>\n",
       "      <th>uh_sens_days</th>\n",
       "      <th>uh_days</th>\n",
       "      <th>v_uh_days</th>\n",
       "      <th>haz_days</th>\n",
       "      <th>max_aqi</th>\n",
       "      <th>90_per_aqi</th>\n",
       "      <th>median_aqi</th>\n",
       "      <th>days_co</th>\n",
       "      <th>days_no2</th>\n",
       "      <th>days_ozone</th>\n",
       "      <th>days_pm2.5</th>\n",
       "      <th>days_pm10</th>\n",
       "    </tr>\n",
       "  </thead>\n",
       "  <tbody>\n",
       "    <tr>\n",
       "      <th>0</th>\n",
       "      <td>Alabama</td>\n",
       "      <td>Baldwin</td>\n",
       "      <td>2009</td>\n",
       "      <td>252</td>\n",
       "      <td>218</td>\n",
       "      <td>32</td>\n",
       "      <td>2</td>\n",
       "      <td>0</td>\n",
       "      <td>0</td>\n",
       "      <td>0</td>\n",
       "      <td>136</td>\n",
       "      <td>53</td>\n",
       "      <td>36</td>\n",
       "      <td>0</td>\n",
       "      <td>0</td>\n",
       "      <td>200</td>\n",
       "      <td>52</td>\n",
       "      <td>0</td>\n",
       "    </tr>\n",
       "    <tr>\n",
       "      <th>1</th>\n",
       "      <td>Alabama</td>\n",
       "      <td>Clay</td>\n",
       "      <td>2009</td>\n",
       "      <td>119</td>\n",
       "      <td>97</td>\n",
       "      <td>22</td>\n",
       "      <td>0</td>\n",
       "      <td>0</td>\n",
       "      <td>0</td>\n",
       "      <td>0</td>\n",
       "      <td>94</td>\n",
       "      <td>59</td>\n",
       "      <td>33</td>\n",
       "      <td>0</td>\n",
       "      <td>0</td>\n",
       "      <td>0</td>\n",
       "      <td>119</td>\n",
       "      <td>0</td>\n",
       "    </tr>\n",
       "    <tr>\n",
       "      <th>2</th>\n",
       "      <td>Alabama</td>\n",
       "      <td>Colbert</td>\n",
       "      <td>2009</td>\n",
       "      <td>323</td>\n",
       "      <td>220</td>\n",
       "      <td>103</td>\n",
       "      <td>0</td>\n",
       "      <td>0</td>\n",
       "      <td>0</td>\n",
       "      <td>0</td>\n",
       "      <td>76</td>\n",
       "      <td>60</td>\n",
       "      <td>43</td>\n",
       "      <td>0</td>\n",
       "      <td>0</td>\n",
       "      <td>132</td>\n",
       "      <td>191</td>\n",
       "      <td>0</td>\n",
       "    </tr>\n",
       "  </tbody>\n",
       "</table>\n",
       "</div>"
      ],
      "text/plain": [
       "     state   county  year  days_with_aqi  good_days  mod_days  uh_sens_days  \\\n",
       "0  Alabama  Baldwin  2009            252        218        32             2   \n",
       "1  Alabama     Clay  2009            119         97        22             0   \n",
       "2  Alabama  Colbert  2009            323        220       103             0   \n",
       "\n",
       "   uh_days  v_uh_days  haz_days  max_aqi  90_per_aqi  median_aqi  days_co  \\\n",
       "0        0          0         0      136          53          36        0   \n",
       "1        0          0         0       94          59          33        0   \n",
       "2        0          0         0       76          60          43        0   \n",
       "\n",
       "   days_no2  days_ozone  days_pm2.5  days_pm10  \n",
       "0         0         200          52          0  \n",
       "1         0           0         119          0  \n",
       "2         0         132         191          0  "
      ]
     },
     "execution_count": 177,
     "metadata": {},
     "output_type": "execute_result"
    }
   ],
   "source": [
    "aqi.head(3)"
   ]
  },
  {
   "cell_type": "code",
   "execution_count": 178,
   "id": "8133f20f-d144-4eea-83e8-d7a57f31453a",
   "metadata": {
    "execution": {
     "iopub.execute_input": "2023-01-17T06:24:08.586693Z",
     "iopub.status.busy": "2023-01-17T06:24:08.586306Z",
     "iopub.status.idle": "2023-01-17T06:24:08.594307Z",
     "shell.execute_reply": "2023-01-17T06:24:08.592873Z",
     "shell.execute_reply.started": "2023-01-17T06:24:08.586667Z"
    },
    "tags": []
   },
   "outputs": [],
   "source": [
    "cdc['year_for_merge'] = cdc['year'] -1"
   ]
  },
  {
   "cell_type": "code",
   "execution_count": 179,
   "id": "e3be2b0e-6374-4646-9583-73e3709dba2d",
   "metadata": {
    "execution": {
     "iopub.execute_input": "2023-01-17T06:24:09.479855Z",
     "iopub.status.busy": "2023-01-17T06:24:09.478928Z",
     "iopub.status.idle": "2023-01-17T06:24:09.500857Z",
     "shell.execute_reply": "2023-01-17T06:24:09.500252Z",
     "shell.execute_reply.started": "2023-01-17T06:24:09.479773Z"
    },
    "tags": []
   },
   "outputs": [
    {
     "data": {
      "text/html": [
       "<div>\n",
       "<style scoped>\n",
       "    .dataframe tbody tr th:only-of-type {\n",
       "        vertical-align: middle;\n",
       "    }\n",
       "\n",
       "    .dataframe tbody tr th {\n",
       "        vertical-align: top;\n",
       "    }\n",
       "\n",
       "    .dataframe thead th {\n",
       "        text-align: right;\n",
       "    }\n",
       "</style>\n",
       "<table border=\"1\" class=\"dataframe\">\n",
       "  <thead>\n",
       "    <tr style=\"text-align: right;\">\n",
       "      <th></th>\n",
       "      <th>state</th>\n",
       "      <th>county</th>\n",
       "      <th>year</th>\n",
       "      <th>births_low</th>\n",
       "      <th>avg_weight_low</th>\n",
       "      <th>avg_ges_age_low</th>\n",
       "      <th>births_all</th>\n",
       "      <th>avg_weight_all</th>\n",
       "      <th>avg_ges_age_all</th>\n",
       "      <th>pct_low</th>\n",
       "      <th>year_for_merge</th>\n",
       "    </tr>\n",
       "  </thead>\n",
       "  <tbody>\n",
       "    <tr>\n",
       "      <th>0</th>\n",
       "      <td>Alabama</td>\n",
       "      <td>Baldwin</td>\n",
       "      <td>2014</td>\n",
       "      <td>137.0</td>\n",
       "      <td>1995.255</td>\n",
       "      <td>34.051</td>\n",
       "      <td>1724.0</td>\n",
       "      <td>3296.472</td>\n",
       "      <td>38.489</td>\n",
       "      <td>0.079</td>\n",
       "      <td>2013</td>\n",
       "    </tr>\n",
       "    <tr>\n",
       "      <th>1</th>\n",
       "      <td>Alabama</td>\n",
       "      <td>Baldwin</td>\n",
       "      <td>2015</td>\n",
       "      <td>141.0</td>\n",
       "      <td>1832.837</td>\n",
       "      <td>32.922</td>\n",
       "      <td>1857.0</td>\n",
       "      <td>3290.811</td>\n",
       "      <td>38.347</td>\n",
       "      <td>0.076</td>\n",
       "      <td>2014</td>\n",
       "    </tr>\n",
       "    <tr>\n",
       "      <th>2</th>\n",
       "      <td>Alabama</td>\n",
       "      <td>Baldwin</td>\n",
       "      <td>2016</td>\n",
       "      <td>120.0</td>\n",
       "      <td>2008.358</td>\n",
       "      <td>34.058</td>\n",
       "      <td>1722.0</td>\n",
       "      <td>3315.387</td>\n",
       "      <td>38.497</td>\n",
       "      <td>0.070</td>\n",
       "      <td>2015</td>\n",
       "    </tr>\n",
       "  </tbody>\n",
       "</table>\n",
       "</div>"
      ],
      "text/plain": [
       "     state   county  year  births_low  avg_weight_low  avg_ges_age_low  \\\n",
       "0  Alabama  Baldwin  2014       137.0        1995.255           34.051   \n",
       "1  Alabama  Baldwin  2015       141.0        1832.837           32.922   \n",
       "2  Alabama  Baldwin  2016       120.0        2008.358           34.058   \n",
       "\n",
       "   births_all  avg_weight_all  avg_ges_age_all  pct_low  year_for_merge  \n",
       "0      1724.0        3296.472           38.489    0.079            2013  \n",
       "1      1857.0        3290.811           38.347    0.076            2014  \n",
       "2      1722.0        3315.387           38.497    0.070            2015  "
      ]
     },
     "execution_count": 179,
     "metadata": {},
     "output_type": "execute_result"
    }
   ],
   "source": [
    "cdc.head(3)"
   ]
  },
  {
   "cell_type": "code",
   "execution_count": 180,
   "id": "33ae3999-85ad-411d-8cde-23b8799b00e5",
   "metadata": {
    "execution": {
     "iopub.execute_input": "2023-01-17T06:24:12.008307Z",
     "iopub.status.busy": "2023-01-17T06:24:12.007985Z",
     "iopub.status.idle": "2023-01-17T06:24:12.017059Z",
     "shell.execute_reply": "2023-01-17T06:24:12.016703Z",
     "shell.execute_reply.started": "2023-01-17T06:24:12.008290Z"
    },
    "tags": []
   },
   "outputs": [],
   "source": [
    "merged = pd.merge(aqi, cdc, how='inner', \n",
    "                  left_on=['state', 'county', 'year'],\n",
    "                  right_on=['state', 'county', 'year_for_merge'])"
   ]
  },
  {
   "cell_type": "code",
   "execution_count": 181,
   "id": "52f6d2d6-9473-4ae2-9b1b-bcdb80a06adc",
   "metadata": {
    "execution": {
     "iopub.execute_input": "2023-01-17T06:24:14.742555Z",
     "iopub.status.busy": "2023-01-17T06:24:14.742322Z",
     "iopub.status.idle": "2023-01-17T06:24:14.752876Z",
     "shell.execute_reply": "2023-01-17T06:24:14.752406Z",
     "shell.execute_reply.started": "2023-01-17T06:24:14.742535Z"
    },
    "tags": []
   },
   "outputs": [
    {
     "data": {
      "text/html": [
       "<div>\n",
       "<style scoped>\n",
       "    .dataframe tbody tr th:only-of-type {\n",
       "        vertical-align: middle;\n",
       "    }\n",
       "\n",
       "    .dataframe tbody tr th {\n",
       "        vertical-align: top;\n",
       "    }\n",
       "\n",
       "    .dataframe thead th {\n",
       "        text-align: right;\n",
       "    }\n",
       "</style>\n",
       "<table border=\"1\" class=\"dataframe\">\n",
       "  <thead>\n",
       "    <tr style=\"text-align: right;\">\n",
       "      <th></th>\n",
       "      <th>state</th>\n",
       "      <th>county</th>\n",
       "      <th>year_x</th>\n",
       "      <th>days_with_aqi</th>\n",
       "      <th>good_days</th>\n",
       "      <th>mod_days</th>\n",
       "      <th>uh_sens_days</th>\n",
       "      <th>uh_days</th>\n",
       "      <th>v_uh_days</th>\n",
       "      <th>haz_days</th>\n",
       "      <th>...</th>\n",
       "      <th>days_pm10</th>\n",
       "      <th>year_y</th>\n",
       "      <th>births_low</th>\n",
       "      <th>avg_weight_low</th>\n",
       "      <th>avg_ges_age_low</th>\n",
       "      <th>births_all</th>\n",
       "      <th>avg_weight_all</th>\n",
       "      <th>avg_ges_age_all</th>\n",
       "      <th>pct_low</th>\n",
       "      <th>year_for_merge</th>\n",
       "    </tr>\n",
       "  </thead>\n",
       "  <tbody>\n",
       "    <tr>\n",
       "      <th>0</th>\n",
       "      <td>California</td>\n",
       "      <td>Alameda</td>\n",
       "      <td>2009</td>\n",
       "      <td>365</td>\n",
       "      <td>190</td>\n",
       "      <td>162</td>\n",
       "      <td>12</td>\n",
       "      <td>1</td>\n",
       "      <td>0</td>\n",
       "      <td>0</td>\n",
       "      <td>...</td>\n",
       "      <td>0</td>\n",
       "      <td>2010</td>\n",
       "      <td>1136.0</td>\n",
       "      <td>1980.992</td>\n",
       "      <td>34.260</td>\n",
       "      <td>17700.0</td>\n",
       "      <td>3314.900</td>\n",
       "      <td>38.817</td>\n",
       "      <td>0.064</td>\n",
       "      <td>2009</td>\n",
       "    </tr>\n",
       "    <tr>\n",
       "      <th>1</th>\n",
       "      <td>California</td>\n",
       "      <td>Butte</td>\n",
       "      <td>2009</td>\n",
       "      <td>365</td>\n",
       "      <td>185</td>\n",
       "      <td>148</td>\n",
       "      <td>31</td>\n",
       "      <td>1</td>\n",
       "      <td>0</td>\n",
       "      <td>0</td>\n",
       "      <td>...</td>\n",
       "      <td>0</td>\n",
       "      <td>2010</td>\n",
       "      <td>90.0</td>\n",
       "      <td>1963.467</td>\n",
       "      <td>33.809</td>\n",
       "      <td>1907.0</td>\n",
       "      <td>3390.433</td>\n",
       "      <td>38.850</td>\n",
       "      <td>0.047</td>\n",
       "      <td>2009</td>\n",
       "    </tr>\n",
       "    <tr>\n",
       "      <th>2</th>\n",
       "      <td>California</td>\n",
       "      <td>Contra Costa</td>\n",
       "      <td>2009</td>\n",
       "      <td>365</td>\n",
       "      <td>274</td>\n",
       "      <td>84</td>\n",
       "      <td>6</td>\n",
       "      <td>1</td>\n",
       "      <td>0</td>\n",
       "      <td>0</td>\n",
       "      <td>...</td>\n",
       "      <td>0</td>\n",
       "      <td>2010</td>\n",
       "      <td>669.0</td>\n",
       "      <td>2002.323</td>\n",
       "      <td>34.283</td>\n",
       "      <td>10976.0</td>\n",
       "      <td>3330.618</td>\n",
       "      <td>38.823</td>\n",
       "      <td>0.061</td>\n",
       "      <td>2009</td>\n",
       "    </tr>\n",
       "    <tr>\n",
       "      <th>3</th>\n",
       "      <td>California</td>\n",
       "      <td>El Dorado</td>\n",
       "      <td>2009</td>\n",
       "      <td>362</td>\n",
       "      <td>240</td>\n",
       "      <td>82</td>\n",
       "      <td>33</td>\n",
       "      <td>7</td>\n",
       "      <td>0</td>\n",
       "      <td>0</td>\n",
       "      <td>...</td>\n",
       "      <td>1</td>\n",
       "      <td>2010</td>\n",
       "      <td>88.0</td>\n",
       "      <td>1981.477</td>\n",
       "      <td>34.511</td>\n",
       "      <td>1410.0</td>\n",
       "      <td>3330.952</td>\n",
       "      <td>38.821</td>\n",
       "      <td>0.062</td>\n",
       "      <td>2009</td>\n",
       "    </tr>\n",
       "    <tr>\n",
       "      <th>4</th>\n",
       "      <td>California</td>\n",
       "      <td>Fresno</td>\n",
       "      <td>2009</td>\n",
       "      <td>365</td>\n",
       "      <td>109</td>\n",
       "      <td>140</td>\n",
       "      <td>80</td>\n",
       "      <td>36</td>\n",
       "      <td>0</td>\n",
       "      <td>0</td>\n",
       "      <td>...</td>\n",
       "      <td>0</td>\n",
       "      <td>2010</td>\n",
       "      <td>1068.0</td>\n",
       "      <td>1959.166</td>\n",
       "      <td>33.788</td>\n",
       "      <td>14117.0</td>\n",
       "      <td>3271.289</td>\n",
       "      <td>38.489</td>\n",
       "      <td>0.076</td>\n",
       "      <td>2009</td>\n",
       "    </tr>\n",
       "  </tbody>\n",
       "</table>\n",
       "<p>5 rows × 27 columns</p>\n",
       "</div>"
      ],
      "text/plain": [
       "        state        county  year_x  days_with_aqi  good_days  mod_days  \\\n",
       "0  California       Alameda    2009            365        190       162   \n",
       "1  California         Butte    2009            365        185       148   \n",
       "2  California  Contra Costa    2009            365        274        84   \n",
       "3  California     El Dorado    2009            362        240        82   \n",
       "4  California        Fresno    2009            365        109       140   \n",
       "\n",
       "   uh_sens_days  uh_days  v_uh_days  haz_days  ...  days_pm10  year_y  \\\n",
       "0            12        1          0         0  ...          0    2010   \n",
       "1            31        1          0         0  ...          0    2010   \n",
       "2             6        1          0         0  ...          0    2010   \n",
       "3            33        7          0         0  ...          1    2010   \n",
       "4            80       36          0         0  ...          0    2010   \n",
       "\n",
       "   births_low  avg_weight_low  avg_ges_age_low  births_all  avg_weight_all  \\\n",
       "0      1136.0        1980.992           34.260     17700.0        3314.900   \n",
       "1        90.0        1963.467           33.809      1907.0        3390.433   \n",
       "2       669.0        2002.323           34.283     10976.0        3330.618   \n",
       "3        88.0        1981.477           34.511      1410.0        3330.952   \n",
       "4      1068.0        1959.166           33.788     14117.0        3271.289   \n",
       "\n",
       "   avg_ges_age_all  pct_low  year_for_merge  \n",
       "0           38.817    0.064            2009  \n",
       "1           38.850    0.047            2009  \n",
       "2           38.823    0.061            2009  \n",
       "3           38.821    0.062            2009  \n",
       "4           38.489    0.076            2009  \n",
       "\n",
       "[5 rows x 27 columns]"
      ]
     },
     "execution_count": 181,
     "metadata": {},
     "output_type": "execute_result"
    }
   ],
   "source": [
    "merged.head()"
   ]
  },
  {
   "cell_type": "code",
   "execution_count": 182,
   "id": "c16e551d-2716-421b-955b-fe0e38fe5aa5",
   "metadata": {
    "execution": {
     "iopub.execute_input": "2023-01-17T06:24:38.418733Z",
     "iopub.status.busy": "2023-01-17T06:24:38.418345Z",
     "iopub.status.idle": "2023-01-17T06:24:38.428267Z",
     "shell.execute_reply": "2023-01-17T06:24:38.426777Z",
     "shell.execute_reply.started": "2023-01-17T06:24:38.418708Z"
    },
    "tags": []
   },
   "outputs": [
    {
     "data": {
      "text/plain": [
       "(5147, 27)"
      ]
     },
     "execution_count": 182,
     "metadata": {},
     "output_type": "execute_result"
    }
   ],
   "source": [
    "merged.shape"
   ]
  },
  {
   "cell_type": "code",
   "execution_count": 183,
   "id": "f3a1fde4-9069-4b41-88fa-4e5f7f54592a",
   "metadata": {
    "execution": {
     "iopub.execute_input": "2023-01-17T06:24:39.989564Z",
     "iopub.status.busy": "2023-01-17T06:24:39.988972Z",
     "iopub.status.idle": "2023-01-17T06:24:39.994611Z",
     "shell.execute_reply": "2023-01-17T06:24:39.993958Z",
     "shell.execute_reply.started": "2023-01-17T06:24:39.989532Z"
    },
    "tags": []
   },
   "outputs": [
    {
     "data": {
      "text/plain": [
       "Index(['state', 'county', 'year_x', 'days_with_aqi', 'good_days', 'mod_days',\n",
       "       'uh_sens_days', 'uh_days', 'v_uh_days', 'haz_days', 'max_aqi',\n",
       "       '90_per_aqi', 'median_aqi', 'days_co', 'days_no2', 'days_ozone',\n",
       "       'days_pm2.5', 'days_pm10', 'year_y', 'births_low', 'avg_weight_low',\n",
       "       'avg_ges_age_low', 'births_all', 'avg_weight_all', 'avg_ges_age_all',\n",
       "       'pct_low', 'year_for_merge'],\n",
       "      dtype='object')"
      ]
     },
     "execution_count": 183,
     "metadata": {},
     "output_type": "execute_result"
    }
   ],
   "source": [
    "merged.columns"
   ]
  },
  {
   "cell_type": "code",
   "execution_count": 184,
   "id": "beaf4aef-84b9-46f2-ac99-4d1f22c01fe3",
   "metadata": {
    "execution": {
     "iopub.execute_input": "2023-01-17T06:24:44.305336Z",
     "iopub.status.busy": "2023-01-17T06:24:44.304902Z",
     "iopub.status.idle": "2023-01-17T06:24:44.314898Z",
     "shell.execute_reply": "2023-01-17T06:24:44.313497Z",
     "shell.execute_reply.started": "2023-01-17T06:24:44.305310Z"
    },
    "tags": []
   },
   "outputs": [],
   "source": [
    "merged.drop(['year_y', 'year_for_merge'],\n",
    "            axis=1, \n",
    "            inplace=True)\n",
    "\n",
    "merged.rename(columns={'year_x': 'year'}, inplace=True)"
   ]
  },
  {
   "cell_type": "code",
   "execution_count": 185,
   "id": "4e0f146b-88e8-41bb-a9af-fcb8d7702cf8",
   "metadata": {
    "execution": {
     "iopub.execute_input": "2023-01-17T06:24:44.776411Z",
     "iopub.status.busy": "2023-01-17T06:24:44.776014Z",
     "iopub.status.idle": "2023-01-17T06:24:44.797570Z",
     "shell.execute_reply": "2023-01-17T06:24:44.797183Z",
     "shell.execute_reply.started": "2023-01-17T06:24:44.776387Z"
    },
    "tags": []
   },
   "outputs": [
    {
     "data": {
      "text/html": [
       "<div>\n",
       "<style scoped>\n",
       "    .dataframe tbody tr th:only-of-type {\n",
       "        vertical-align: middle;\n",
       "    }\n",
       "\n",
       "    .dataframe tbody tr th {\n",
       "        vertical-align: top;\n",
       "    }\n",
       "\n",
       "    .dataframe thead th {\n",
       "        text-align: right;\n",
       "    }\n",
       "</style>\n",
       "<table border=\"1\" class=\"dataframe\">\n",
       "  <thead>\n",
       "    <tr style=\"text-align: right;\">\n",
       "      <th></th>\n",
       "      <th>state</th>\n",
       "      <th>county</th>\n",
       "      <th>year</th>\n",
       "      <th>days_with_aqi</th>\n",
       "      <th>good_days</th>\n",
       "      <th>mod_days</th>\n",
       "      <th>uh_sens_days</th>\n",
       "      <th>uh_days</th>\n",
       "      <th>v_uh_days</th>\n",
       "      <th>haz_days</th>\n",
       "      <th>...</th>\n",
       "      <th>days_ozone</th>\n",
       "      <th>days_pm2.5</th>\n",
       "      <th>days_pm10</th>\n",
       "      <th>births_low</th>\n",
       "      <th>avg_weight_low</th>\n",
       "      <th>avg_ges_age_low</th>\n",
       "      <th>births_all</th>\n",
       "      <th>avg_weight_all</th>\n",
       "      <th>avg_ges_age_all</th>\n",
       "      <th>pct_low</th>\n",
       "    </tr>\n",
       "  </thead>\n",
       "  <tbody>\n",
       "    <tr>\n",
       "      <th>0</th>\n",
       "      <td>California</td>\n",
       "      <td>Alameda</td>\n",
       "      <td>2009</td>\n",
       "      <td>365</td>\n",
       "      <td>190</td>\n",
       "      <td>162</td>\n",
       "      <td>12</td>\n",
       "      <td>1</td>\n",
       "      <td>0</td>\n",
       "      <td>0</td>\n",
       "      <td>...</td>\n",
       "      <td>110</td>\n",
       "      <td>234</td>\n",
       "      <td>0</td>\n",
       "      <td>1136.0</td>\n",
       "      <td>1980.992</td>\n",
       "      <td>34.260</td>\n",
       "      <td>17700.0</td>\n",
       "      <td>3314.900</td>\n",
       "      <td>38.817</td>\n",
       "      <td>0.064</td>\n",
       "    </tr>\n",
       "    <tr>\n",
       "      <th>1</th>\n",
       "      <td>California</td>\n",
       "      <td>Butte</td>\n",
       "      <td>2009</td>\n",
       "      <td>365</td>\n",
       "      <td>185</td>\n",
       "      <td>148</td>\n",
       "      <td>31</td>\n",
       "      <td>1</td>\n",
       "      <td>0</td>\n",
       "      <td>0</td>\n",
       "      <td>...</td>\n",
       "      <td>263</td>\n",
       "      <td>101</td>\n",
       "      <td>0</td>\n",
       "      <td>90.0</td>\n",
       "      <td>1963.467</td>\n",
       "      <td>33.809</td>\n",
       "      <td>1907.0</td>\n",
       "      <td>3390.433</td>\n",
       "      <td>38.850</td>\n",
       "      <td>0.047</td>\n",
       "    </tr>\n",
       "    <tr>\n",
       "      <th>2</th>\n",
       "      <td>California</td>\n",
       "      <td>Contra Costa</td>\n",
       "      <td>2009</td>\n",
       "      <td>365</td>\n",
       "      <td>274</td>\n",
       "      <td>84</td>\n",
       "      <td>6</td>\n",
       "      <td>1</td>\n",
       "      <td>0</td>\n",
       "      <td>0</td>\n",
       "      <td>...</td>\n",
       "      <td>276</td>\n",
       "      <td>78</td>\n",
       "      <td>0</td>\n",
       "      <td>669.0</td>\n",
       "      <td>2002.323</td>\n",
       "      <td>34.283</td>\n",
       "      <td>10976.0</td>\n",
       "      <td>3330.618</td>\n",
       "      <td>38.823</td>\n",
       "      <td>0.061</td>\n",
       "    </tr>\n",
       "  </tbody>\n",
       "</table>\n",
       "<p>3 rows × 25 columns</p>\n",
       "</div>"
      ],
      "text/plain": [
       "        state        county  year  days_with_aqi  good_days  mod_days  \\\n",
       "0  California       Alameda  2009            365        190       162   \n",
       "1  California         Butte  2009            365        185       148   \n",
       "2  California  Contra Costa  2009            365        274        84   \n",
       "\n",
       "   uh_sens_days  uh_days  v_uh_days  haz_days  ...  days_ozone  days_pm2.5  \\\n",
       "0            12        1          0         0  ...         110         234   \n",
       "1            31        1          0         0  ...         263         101   \n",
       "2             6        1          0         0  ...         276          78   \n",
       "\n",
       "   days_pm10  births_low  avg_weight_low  avg_ges_age_low  births_all  \\\n",
       "0          0      1136.0        1980.992           34.260     17700.0   \n",
       "1          0        90.0        1963.467           33.809      1907.0   \n",
       "2          0       669.0        2002.323           34.283     10976.0   \n",
       "\n",
       "   avg_weight_all  avg_ges_age_all  pct_low  \n",
       "0        3314.900           38.817    0.064  \n",
       "1        3390.433           38.850    0.047  \n",
       "2        3330.618           38.823    0.061  \n",
       "\n",
       "[3 rows x 25 columns]"
      ]
     },
     "execution_count": 185,
     "metadata": {},
     "output_type": "execute_result"
    }
   ],
   "source": [
    "merged.head(3)"
   ]
  },
  {
   "cell_type": "code",
   "execution_count": 186,
   "id": "5c8e12c2-a9f4-4f5d-b4c2-acd7c57a64a5",
   "metadata": {
    "execution": {
     "iopub.execute_input": "2023-01-17T06:24:52.526396Z",
     "iopub.status.busy": "2023-01-17T06:24:52.525938Z",
     "iopub.status.idle": "2023-01-17T06:24:52.532362Z",
     "shell.execute_reply": "2023-01-17T06:24:52.531866Z",
     "shell.execute_reply.started": "2023-01-17T06:24:52.526366Z"
    },
    "tags": []
   },
   "outputs": [
    {
     "data": {
      "text/plain": [
       "state      47\n",
       "county    402\n",
       "dtype: int64"
      ]
     },
     "execution_count": 186,
     "metadata": {},
     "output_type": "execute_result"
    }
   ],
   "source": [
    "merged[['state', 'county']].nunique()"
   ]
  },
  {
   "cell_type": "code",
   "execution_count": 187,
   "id": "39c57c00-3441-4d65-9932-83fcf65ad2d4",
   "metadata": {
    "execution": {
     "iopub.execute_input": "2023-01-17T06:24:57.474177Z",
     "iopub.status.busy": "2023-01-17T06:24:57.473460Z",
     "iopub.status.idle": "2023-01-17T06:24:57.488702Z",
     "shell.execute_reply": "2023-01-17T06:24:57.485392Z",
     "shell.execute_reply.started": "2023-01-17T06:24:57.474126Z"
    },
    "tags": []
   },
   "outputs": [],
   "source": [
    "# merged['state'].value_counts()"
   ]
  },
  {
   "cell_type": "markdown",
   "id": "9bbe1aa3-47f7-452b-b979-440c60aac82a",
   "metadata": {},
   "source": [
    "### Export Data"
   ]
  },
  {
   "cell_type": "code",
   "execution_count": 188,
   "id": "18cd569f-e8fe-4a98-bae8-cfb15da8613c",
   "metadata": {
    "execution": {
     "iopub.execute_input": "2023-01-17T06:25:00.362229Z",
     "iopub.status.busy": "2023-01-17T06:25:00.361386Z",
     "iopub.status.idle": "2023-01-17T06:25:00.395682Z",
     "shell.execute_reply": "2023-01-17T06:25:00.395342Z",
     "shell.execute_reply.started": "2023-01-17T06:25:00.362177Z"
    },
    "tags": []
   },
   "outputs": [],
   "source": [
    "# cdc.to_csv('data/cdc_cleaned.csv', index=False)\n",
    "merged.to_csv('data/combined_clean.csv', index=False)"
   ]
  },
  {
   "cell_type": "markdown",
   "id": "db1510e5-1a90-4a90-a8fd-624acc1f21b5",
   "metadata": {},
   "source": [
    "# EDA"
   ]
  },
  {
   "cell_type": "markdown",
   "id": "72982d77-b1c3-4e33-867d-82f759b3a483",
   "metadata": {
    "tags": []
   },
   "source": [
    "## Read Cleaned Data"
   ]
  },
  {
   "cell_type": "code",
   "execution_count": 189,
   "id": "6b3d1864-1e5a-4572-b75f-8110b7121157",
   "metadata": {
    "execution": {
     "iopub.execute_input": "2023-01-17T06:25:02.234570Z",
     "iopub.status.busy": "2023-01-17T06:25:02.234395Z",
     "iopub.status.idle": "2023-01-17T06:25:02.244509Z",
     "shell.execute_reply": "2023-01-17T06:25:02.244190Z",
     "shell.execute_reply.started": "2023-01-17T06:25:02.234557Z"
    },
    "tags": []
   },
   "outputs": [],
   "source": [
    "df = pd.read_csv('data/combined_clean.csv')"
   ]
  },
  {
   "cell_type": "code",
   "execution_count": 190,
   "id": "efcc8c95-356a-4faa-af2d-84191de5c782",
   "metadata": {
    "execution": {
     "iopub.execute_input": "2023-01-17T06:25:02.850440Z",
     "iopub.status.busy": "2023-01-17T06:25:02.849909Z",
     "iopub.status.idle": "2023-01-17T06:25:02.878377Z",
     "shell.execute_reply": "2023-01-17T06:25:02.877958Z",
     "shell.execute_reply.started": "2023-01-17T06:25:02.850412Z"
    },
    "tags": []
   },
   "outputs": [
    {
     "data": {
      "text/html": [
       "<div>\n",
       "<style scoped>\n",
       "    .dataframe tbody tr th:only-of-type {\n",
       "        vertical-align: middle;\n",
       "    }\n",
       "\n",
       "    .dataframe tbody tr th {\n",
       "        vertical-align: top;\n",
       "    }\n",
       "\n",
       "    .dataframe thead th {\n",
       "        text-align: right;\n",
       "    }\n",
       "</style>\n",
       "<table border=\"1\" class=\"dataframe\">\n",
       "  <thead>\n",
       "    <tr style=\"text-align: right;\">\n",
       "      <th></th>\n",
       "      <th>state</th>\n",
       "      <th>county</th>\n",
       "      <th>year</th>\n",
       "      <th>days_with_aqi</th>\n",
       "      <th>good_days</th>\n",
       "      <th>mod_days</th>\n",
       "      <th>uh_sens_days</th>\n",
       "      <th>uh_days</th>\n",
       "      <th>v_uh_days</th>\n",
       "      <th>haz_days</th>\n",
       "      <th>...</th>\n",
       "      <th>days_ozone</th>\n",
       "      <th>days_pm2.5</th>\n",
       "      <th>days_pm10</th>\n",
       "      <th>births_low</th>\n",
       "      <th>avg_weight_low</th>\n",
       "      <th>avg_ges_age_low</th>\n",
       "      <th>births_all</th>\n",
       "      <th>avg_weight_all</th>\n",
       "      <th>avg_ges_age_all</th>\n",
       "      <th>pct_low</th>\n",
       "    </tr>\n",
       "  </thead>\n",
       "  <tbody>\n",
       "    <tr>\n",
       "      <th>0</th>\n",
       "      <td>California</td>\n",
       "      <td>Alameda</td>\n",
       "      <td>2009</td>\n",
       "      <td>365</td>\n",
       "      <td>190</td>\n",
       "      <td>162</td>\n",
       "      <td>12</td>\n",
       "      <td>1</td>\n",
       "      <td>0</td>\n",
       "      <td>0</td>\n",
       "      <td>...</td>\n",
       "      <td>110</td>\n",
       "      <td>234</td>\n",
       "      <td>0</td>\n",
       "      <td>1136.0</td>\n",
       "      <td>1980.992</td>\n",
       "      <td>34.260</td>\n",
       "      <td>17700.0</td>\n",
       "      <td>3314.900</td>\n",
       "      <td>38.817</td>\n",
       "      <td>0.064</td>\n",
       "    </tr>\n",
       "    <tr>\n",
       "      <th>1</th>\n",
       "      <td>California</td>\n",
       "      <td>Butte</td>\n",
       "      <td>2009</td>\n",
       "      <td>365</td>\n",
       "      <td>185</td>\n",
       "      <td>148</td>\n",
       "      <td>31</td>\n",
       "      <td>1</td>\n",
       "      <td>0</td>\n",
       "      <td>0</td>\n",
       "      <td>...</td>\n",
       "      <td>263</td>\n",
       "      <td>101</td>\n",
       "      <td>0</td>\n",
       "      <td>90.0</td>\n",
       "      <td>1963.467</td>\n",
       "      <td>33.809</td>\n",
       "      <td>1907.0</td>\n",
       "      <td>3390.433</td>\n",
       "      <td>38.850</td>\n",
       "      <td>0.047</td>\n",
       "    </tr>\n",
       "    <tr>\n",
       "      <th>2</th>\n",
       "      <td>California</td>\n",
       "      <td>Contra Costa</td>\n",
       "      <td>2009</td>\n",
       "      <td>365</td>\n",
       "      <td>274</td>\n",
       "      <td>84</td>\n",
       "      <td>6</td>\n",
       "      <td>1</td>\n",
       "      <td>0</td>\n",
       "      <td>0</td>\n",
       "      <td>...</td>\n",
       "      <td>276</td>\n",
       "      <td>78</td>\n",
       "      <td>0</td>\n",
       "      <td>669.0</td>\n",
       "      <td>2002.323</td>\n",
       "      <td>34.283</td>\n",
       "      <td>10976.0</td>\n",
       "      <td>3330.618</td>\n",
       "      <td>38.823</td>\n",
       "      <td>0.061</td>\n",
       "    </tr>\n",
       "    <tr>\n",
       "      <th>3</th>\n",
       "      <td>California</td>\n",
       "      <td>El Dorado</td>\n",
       "      <td>2009</td>\n",
       "      <td>362</td>\n",
       "      <td>240</td>\n",
       "      <td>82</td>\n",
       "      <td>33</td>\n",
       "      <td>7</td>\n",
       "      <td>0</td>\n",
       "      <td>0</td>\n",
       "      <td>...</td>\n",
       "      <td>359</td>\n",
       "      <td>2</td>\n",
       "      <td>1</td>\n",
       "      <td>88.0</td>\n",
       "      <td>1981.477</td>\n",
       "      <td>34.511</td>\n",
       "      <td>1410.0</td>\n",
       "      <td>3330.952</td>\n",
       "      <td>38.821</td>\n",
       "      <td>0.062</td>\n",
       "    </tr>\n",
       "    <tr>\n",
       "      <th>4</th>\n",
       "      <td>California</td>\n",
       "      <td>Fresno</td>\n",
       "      <td>2009</td>\n",
       "      <td>365</td>\n",
       "      <td>109</td>\n",
       "      <td>140</td>\n",
       "      <td>80</td>\n",
       "      <td>36</td>\n",
       "      <td>0</td>\n",
       "      <td>0</td>\n",
       "      <td>...</td>\n",
       "      <td>228</td>\n",
       "      <td>129</td>\n",
       "      <td>0</td>\n",
       "      <td>1068.0</td>\n",
       "      <td>1959.166</td>\n",
       "      <td>33.788</td>\n",
       "      <td>14117.0</td>\n",
       "      <td>3271.289</td>\n",
       "      <td>38.489</td>\n",
       "      <td>0.076</td>\n",
       "    </tr>\n",
       "  </tbody>\n",
       "</table>\n",
       "<p>5 rows × 25 columns</p>\n",
       "</div>"
      ],
      "text/plain": [
       "        state        county  year  days_with_aqi  good_days  mod_days  \\\n",
       "0  California       Alameda  2009            365        190       162   \n",
       "1  California         Butte  2009            365        185       148   \n",
       "2  California  Contra Costa  2009            365        274        84   \n",
       "3  California     El Dorado  2009            362        240        82   \n",
       "4  California        Fresno  2009            365        109       140   \n",
       "\n",
       "   uh_sens_days  uh_days  v_uh_days  haz_days  ...  days_ozone  days_pm2.5  \\\n",
       "0            12        1          0         0  ...         110         234   \n",
       "1            31        1          0         0  ...         263         101   \n",
       "2             6        1          0         0  ...         276          78   \n",
       "3            33        7          0         0  ...         359           2   \n",
       "4            80       36          0         0  ...         228         129   \n",
       "\n",
       "   days_pm10  births_low  avg_weight_low  avg_ges_age_low  births_all  \\\n",
       "0          0      1136.0        1980.992           34.260     17700.0   \n",
       "1          0        90.0        1963.467           33.809      1907.0   \n",
       "2          0       669.0        2002.323           34.283     10976.0   \n",
       "3          1        88.0        1981.477           34.511      1410.0   \n",
       "4          0      1068.0        1959.166           33.788     14117.0   \n",
       "\n",
       "   avg_weight_all  avg_ges_age_all  pct_low  \n",
       "0        3314.900           38.817    0.064  \n",
       "1        3390.433           38.850    0.047  \n",
       "2        3330.618           38.823    0.061  \n",
       "3        3330.952           38.821    0.062  \n",
       "4        3271.289           38.489    0.076  \n",
       "\n",
       "[5 rows x 25 columns]"
      ]
     },
     "execution_count": 190,
     "metadata": {},
     "output_type": "execute_result"
    }
   ],
   "source": [
    "df.head()"
   ]
  },
  {
   "cell_type": "code",
   "execution_count": 199,
   "id": "ff2107d5-775e-4ab3-8c93-864b3edf9c03",
   "metadata": {
    "execution": {
     "iopub.execute_input": "2023-01-17T07:18:39.357742Z",
     "iopub.status.busy": "2023-01-17T07:18:39.356420Z",
     "iopub.status.idle": "2023-01-17T07:18:39.403649Z",
     "shell.execute_reply": "2023-01-17T07:18:39.403326Z",
     "shell.execute_reply.started": "2023-01-17T07:18:39.357679Z"
    }
   },
   "outputs": [
    {
     "data": {
      "text/html": [
       "<div>\n",
       "<style scoped>\n",
       "    .dataframe tbody tr th:only-of-type {\n",
       "        vertical-align: middle;\n",
       "    }\n",
       "\n",
       "    .dataframe tbody tr th {\n",
       "        vertical-align: top;\n",
       "    }\n",
       "\n",
       "    .dataframe thead th {\n",
       "        text-align: right;\n",
       "    }\n",
       "</style>\n",
       "<table border=\"1\" class=\"dataframe\">\n",
       "  <thead>\n",
       "    <tr style=\"text-align: right;\">\n",
       "      <th></th>\n",
       "      <th>year</th>\n",
       "      <th>days_with_aqi</th>\n",
       "      <th>good_days</th>\n",
       "      <th>mod_days</th>\n",
       "      <th>uh_sens_days</th>\n",
       "      <th>uh_days</th>\n",
       "      <th>v_uh_days</th>\n",
       "      <th>haz_days</th>\n",
       "      <th>max_aqi</th>\n",
       "      <th>90_per_aqi</th>\n",
       "      <th>...</th>\n",
       "      <th>days_ozone</th>\n",
       "      <th>days_pm2.5</th>\n",
       "      <th>days_pm10</th>\n",
       "      <th>births_low</th>\n",
       "      <th>avg_weight_low</th>\n",
       "      <th>avg_ges_age_low</th>\n",
       "      <th>births_all</th>\n",
       "      <th>avg_weight_all</th>\n",
       "      <th>avg_ges_age_all</th>\n",
       "      <th>pct_low</th>\n",
       "    </tr>\n",
       "  </thead>\n",
       "  <tbody>\n",
       "    <tr>\n",
       "      <th>count</th>\n",
       "      <td>5147.000000</td>\n",
       "      <td>5147.000000</td>\n",
       "      <td>5147.000000</td>\n",
       "      <td>5147.000000</td>\n",
       "      <td>5147.000000</td>\n",
       "      <td>5147.000000</td>\n",
       "      <td>5147.000000</td>\n",
       "      <td>5147.000000</td>\n",
       "      <td>5147.000000</td>\n",
       "      <td>5147.000000</td>\n",
       "      <td>...</td>\n",
       "      <td>5147.000000</td>\n",
       "      <td>5147.000000</td>\n",
       "      <td>5147.00000</td>\n",
       "      <td>5147.000000</td>\n",
       "      <td>5147.000000</td>\n",
       "      <td>5147.000000</td>\n",
       "      <td>5147.000000</td>\n",
       "      <td>5147.000000</td>\n",
       "      <td>5147.000000</td>\n",
       "      <td>5147.000000</td>\n",
       "    </tr>\n",
       "    <tr>\n",
       "      <th>mean</th>\n",
       "      <td>2014.470177</td>\n",
       "      <td>340.891004</td>\n",
       "      <td>248.301146</td>\n",
       "      <td>83.564018</td>\n",
       "      <td>7.328735</td>\n",
       "      <td>1.494657</td>\n",
       "      <td>0.153487</td>\n",
       "      <td>0.048961</td>\n",
       "      <td>131.265786</td>\n",
       "      <td>66.121624</td>\n",
       "      <td>...</td>\n",
       "      <td>190.493880</td>\n",
       "      <td>133.965611</td>\n",
       "      <td>6.59083</td>\n",
       "      <td>345.185739</td>\n",
       "      <td>1990.440703</td>\n",
       "      <td>34.129472</td>\n",
       "      <td>5186.831164</td>\n",
       "      <td>3315.373519</td>\n",
       "      <td>38.653372</td>\n",
       "      <td>0.063958</td>\n",
       "    </tr>\n",
       "    <tr>\n",
       "      <th>std</th>\n",
       "      <td>3.889310</td>\n",
       "      <td>56.577985</td>\n",
       "      <td>70.318863</td>\n",
       "      <td>54.262113</td>\n",
       "      <td>14.682994</td>\n",
       "      <td>6.034146</td>\n",
       "      <td>1.455703</td>\n",
       "      <td>0.564472</td>\n",
       "      <td>70.865337</td>\n",
       "      <td>20.047097</td>\n",
       "      <td>...</td>\n",
       "      <td>98.023442</td>\n",
       "      <td>99.415526</td>\n",
       "      <td>25.30568</td>\n",
       "      <td>613.947676</td>\n",
       "      <td>61.421094</td>\n",
       "      <td>0.497869</td>\n",
       "      <td>9036.072200</td>\n",
       "      <td>65.871336</td>\n",
       "      <td>0.205730</td>\n",
       "      <td>0.013977</td>\n",
       "    </tr>\n",
       "    <tr>\n",
       "      <th>min</th>\n",
       "      <td>2006.000000</td>\n",
       "      <td>11.000000</td>\n",
       "      <td>10.000000</td>\n",
       "      <td>0.000000</td>\n",
       "      <td>0.000000</td>\n",
       "      <td>0.000000</td>\n",
       "      <td>0.000000</td>\n",
       "      <td>0.000000</td>\n",
       "      <td>11.000000</td>\n",
       "      <td>8.000000</td>\n",
       "      <td>...</td>\n",
       "      <td>0.000000</td>\n",
       "      <td>0.000000</td>\n",
       "      <td>0.00000</td>\n",
       "      <td>13.000000</td>\n",
       "      <td>1682.821000</td>\n",
       "      <td>31.750000</td>\n",
       "      <td>399.000000</td>\n",
       "      <td>3065.051000</td>\n",
       "      <td>37.726000</td>\n",
       "      <td>0.025000</td>\n",
       "    </tr>\n",
       "    <tr>\n",
       "      <th>25%</th>\n",
       "      <td>2012.000000</td>\n",
       "      <td>357.000000</td>\n",
       "      <td>206.000000</td>\n",
       "      <td>41.000000</td>\n",
       "      <td>0.000000</td>\n",
       "      <td>0.000000</td>\n",
       "      <td>0.000000</td>\n",
       "      <td>0.000000</td>\n",
       "      <td>97.000000</td>\n",
       "      <td>54.000000</td>\n",
       "      <td>...</td>\n",
       "      <td>140.000000</td>\n",
       "      <td>53.000000</td>\n",
       "      <td>0.00000</td>\n",
       "      <td>86.000000</td>\n",
       "      <td>1952.228500</td>\n",
       "      <td>33.835000</td>\n",
       "      <td>1412.000000</td>\n",
       "      <td>3272.535500</td>\n",
       "      <td>38.529000</td>\n",
       "      <td>0.054000</td>\n",
       "    </tr>\n",
       "    <tr>\n",
       "      <th>50%</th>\n",
       "      <td>2015.000000</td>\n",
       "      <td>365.000000</td>\n",
       "      <td>262.000000</td>\n",
       "      <td>73.000000</td>\n",
       "      <td>2.000000</td>\n",
       "      <td>0.000000</td>\n",
       "      <td>0.000000</td>\n",
       "      <td>0.000000</td>\n",
       "      <td>119.000000</td>\n",
       "      <td>61.000000</td>\n",
       "      <td>...</td>\n",
       "      <td>197.000000</td>\n",
       "      <td>131.000000</td>\n",
       "      <td>0.00000</td>\n",
       "      <td>156.000000</td>\n",
       "      <td>1989.858000</td>\n",
       "      <td>34.125000</td>\n",
       "      <td>2438.000000</td>\n",
       "      <td>3318.490000</td>\n",
       "      <td>38.654000</td>\n",
       "      <td>0.063000</td>\n",
       "    </tr>\n",
       "    <tr>\n",
       "      <th>75%</th>\n",
       "      <td>2018.000000</td>\n",
       "      <td>365.000000</td>\n",
       "      <td>304.000000</td>\n",
       "      <td>117.000000</td>\n",
       "      <td>7.000000</td>\n",
       "      <td>1.000000</td>\n",
       "      <td>0.000000</td>\n",
       "      <td>0.000000</td>\n",
       "      <td>151.000000</td>\n",
       "      <td>73.000000</td>\n",
       "      <td>...</td>\n",
       "      <td>245.000000</td>\n",
       "      <td>198.000000</td>\n",
       "      <td>1.00000</td>\n",
       "      <td>358.500000</td>\n",
       "      <td>2028.574500</td>\n",
       "      <td>34.427000</td>\n",
       "      <td>5392.000000</td>\n",
       "      <td>3362.502000</td>\n",
       "      <td>38.790000</td>\n",
       "      <td>0.072000</td>\n",
       "    </tr>\n",
       "    <tr>\n",
       "      <th>max</th>\n",
       "      <td>2020.000000</td>\n",
       "      <td>366.000000</td>\n",
       "      <td>365.000000</td>\n",
       "      <td>339.000000</td>\n",
       "      <td>122.000000</td>\n",
       "      <td>74.000000</td>\n",
       "      <td>74.000000</td>\n",
       "      <td>18.000000</td>\n",
       "      <td>1635.000000</td>\n",
       "      <td>215.000000</td>\n",
       "      <td>...</td>\n",
       "      <td>366.000000</td>\n",
       "      <td>366.000000</td>\n",
       "      <td>346.00000</td>\n",
       "      <td>9406.000000</td>\n",
       "      <td>2269.811000</td>\n",
       "      <td>36.378000</td>\n",
       "      <td>137740.000000</td>\n",
       "      <td>3498.659000</td>\n",
       "      <td>39.289000</td>\n",
       "      <td>0.138000</td>\n",
       "    </tr>\n",
       "  </tbody>\n",
       "</table>\n",
       "<p>8 rows × 23 columns</p>\n",
       "</div>"
      ],
      "text/plain": [
       "              year  days_with_aqi    good_days     mod_days  uh_sens_days  \\\n",
       "count  5147.000000    5147.000000  5147.000000  5147.000000   5147.000000   \n",
       "mean   2014.470177     340.891004   248.301146    83.564018      7.328735   \n",
       "std       3.889310      56.577985    70.318863    54.262113     14.682994   \n",
       "min    2006.000000      11.000000    10.000000     0.000000      0.000000   \n",
       "25%    2012.000000     357.000000   206.000000    41.000000      0.000000   \n",
       "50%    2015.000000     365.000000   262.000000    73.000000      2.000000   \n",
       "75%    2018.000000     365.000000   304.000000   117.000000      7.000000   \n",
       "max    2020.000000     366.000000   365.000000   339.000000    122.000000   \n",
       "\n",
       "           uh_days    v_uh_days     haz_days      max_aqi   90_per_aqi  ...  \\\n",
       "count  5147.000000  5147.000000  5147.000000  5147.000000  5147.000000  ...   \n",
       "mean      1.494657     0.153487     0.048961   131.265786    66.121624  ...   \n",
       "std       6.034146     1.455703     0.564472    70.865337    20.047097  ...   \n",
       "min       0.000000     0.000000     0.000000    11.000000     8.000000  ...   \n",
       "25%       0.000000     0.000000     0.000000    97.000000    54.000000  ...   \n",
       "50%       0.000000     0.000000     0.000000   119.000000    61.000000  ...   \n",
       "75%       1.000000     0.000000     0.000000   151.000000    73.000000  ...   \n",
       "max      74.000000    74.000000    18.000000  1635.000000   215.000000  ...   \n",
       "\n",
       "        days_ozone   days_pm2.5   days_pm10   births_low  avg_weight_low  \\\n",
       "count  5147.000000  5147.000000  5147.00000  5147.000000     5147.000000   \n",
       "mean    190.493880   133.965611     6.59083   345.185739     1990.440703   \n",
       "std      98.023442    99.415526    25.30568   613.947676       61.421094   \n",
       "min       0.000000     0.000000     0.00000    13.000000     1682.821000   \n",
       "25%     140.000000    53.000000     0.00000    86.000000     1952.228500   \n",
       "50%     197.000000   131.000000     0.00000   156.000000     1989.858000   \n",
       "75%     245.000000   198.000000     1.00000   358.500000     2028.574500   \n",
       "max     366.000000   366.000000   346.00000  9406.000000     2269.811000   \n",
       "\n",
       "       avg_ges_age_low     births_all  avg_weight_all  avg_ges_age_all  \\\n",
       "count      5147.000000    5147.000000     5147.000000      5147.000000   \n",
       "mean         34.129472    5186.831164     3315.373519        38.653372   \n",
       "std           0.497869    9036.072200       65.871336         0.205730   \n",
       "min          31.750000     399.000000     3065.051000        37.726000   \n",
       "25%          33.835000    1412.000000     3272.535500        38.529000   \n",
       "50%          34.125000    2438.000000     3318.490000        38.654000   \n",
       "75%          34.427000    5392.000000     3362.502000        38.790000   \n",
       "max          36.378000  137740.000000     3498.659000        39.289000   \n",
       "\n",
       "           pct_low  \n",
       "count  5147.000000  \n",
       "mean      0.063958  \n",
       "std       0.013977  \n",
       "min       0.025000  \n",
       "25%       0.054000  \n",
       "50%       0.063000  \n",
       "75%       0.072000  \n",
       "max       0.138000  \n",
       "\n",
       "[8 rows x 23 columns]"
      ]
     },
     "execution_count": 199,
     "metadata": {},
     "output_type": "execute_result"
    }
   ],
   "source": [
    "df.describe()"
   ]
  },
  {
   "cell_type": "code",
   "execution_count": 204,
   "id": "37f56e29-5e6f-4f29-b7e0-8c19be874968",
   "metadata": {
    "execution": {
     "iopub.execute_input": "2023-01-17T07:27:03.267502Z",
     "iopub.status.busy": "2023-01-17T07:27:03.266627Z",
     "iopub.status.idle": "2023-01-17T07:27:03.399879Z",
     "shell.execute_reply": "2023-01-17T07:27:03.399449Z",
     "shell.execute_reply.started": "2023-01-17T07:27:03.267465Z"
    },
    "tags": []
   },
   "outputs": [
    {
     "data": {
      "image/png": "[encoded data removed]",
      "text/plain": [
       "<Figure size 500x500 with 1 Axes>"
      ]
     },
     "metadata": {},
     "output_type": "display_data"
    }
   ],
   "source": [
    "sns.displot(df['pct_low']);"
   ]
  },
  {
   "cell_type": "code",
   "execution_count": 208,
   "id": "d527380a-9e87-4dd5-be4e-eacd33ad002f",
   "metadata": {
    "execution": {
     "iopub.execute_input": "2023-01-17T07:30:52.189792Z",
     "iopub.status.busy": "2023-01-17T07:30:52.188774Z",
     "iopub.status.idle": "2023-01-17T07:30:52.310556Z",
     "shell.execute_reply": "2023-01-17T07:30:52.310013Z",
     "shell.execute_reply.started": "2023-01-17T07:30:52.189736Z"
    },
    "tags": []
   },
   "outputs": [
    {
     "data": {
      "text/plain": [
       "<seaborn.axisgrid.FacetGrid at 0x17f88bc40>"
      ]
     },
     "execution_count": 208,
     "metadata": {},
     "output_type": "execute_result"
    },
    {
     "data": {
      "image/png": "[encoded data removed]",
      "text/plain": [
       "<Figure size 500x500 with 1 Axes>"
      ]
     },
     "metadata": {},
     "output_type": "display_data"
    }
   ],
   "source": [
    "sns.displot(df['90_per_aqi'],\n",
    "            bins=30)"
   ]
  },
  {
   "cell_type": "code",
   "execution_count": 210,
   "id": "b7591f78-0764-46d8-b275-1c00ab210558",
   "metadata": {
    "execution": {
     "iopub.execute_input": "2023-01-17T07:35:58.750383Z",
     "iopub.status.busy": "2023-01-17T07:35:58.749616Z",
     "iopub.status.idle": "2023-01-17T07:35:58.898166Z",
     "shell.execute_reply": "2023-01-17T07:35:58.897718Z",
     "shell.execute_reply.started": "2023-01-17T07:35:58.750339Z"
    },
    "tags": []
   },
   "outputs": [
    {
     "data": {
      "text/plain": [
       "<seaborn.axisgrid.FacetGrid at 0x17f2d9af0>"
      ]
     },
     "execution_count": 210,
     "metadata": {},
     "output_type": "execute_result"
    },
    {
     "data": {
      "image/png": "[encoded data removed]",
      "text/plain": [
       "<Figure size 500x500 with 1 Axes>"
      ]
     },
     "metadata": {},
     "output_type": "display_data"
    }
   ],
   "source": [
    "sns.displot(df['days_ozone'])"
   ]
  },
  {
   "cell_type": "code",
   "execution_count": 211,
   "id": "ce430502-401e-4d27-9dfd-931f9a3b5e0d",
   "metadata": {
    "execution": {
     "iopub.execute_input": "2023-01-17T07:36:36.720484Z",
     "iopub.status.busy": "2023-01-17T07:36:36.720026Z",
     "iopub.status.idle": "2023-01-17T07:36:36.843961Z",
     "shell.execute_reply": "2023-01-17T07:36:36.843628Z",
     "shell.execute_reply.started": "2023-01-17T07:36:36.720459Z"
    }
   },
   "outputs": [
    {
     "data": {
      "text/plain": [
       "<seaborn.axisgrid.FacetGrid at 0x17f9c61f0>"
      ]
     },
     "execution_count": 211,
     "metadata": {},
     "output_type": "execute_result"
    },
    {
     "data": {
      "image/png": "[encoded data removed]",
      "text/plain": [
       "<Figure size 500x500 with 1 Axes>"
      ]
     },
     "metadata": {},
     "output_type": "display_data"
    }
   ],
   "source": [
    "sns.displot(df['days_pm2.5'])"
   ]
  },
  {
   "cell_type": "code",
   "execution_count": 212,
   "id": "f52c388c-2944-43d5-a597-348f0c3c0388",
   "metadata": {
    "execution": {
     "iopub.execute_input": "2023-01-17T07:36:56.277921Z",
     "iopub.status.busy": "2023-01-17T07:36:56.276689Z",
     "iopub.status.idle": "2023-01-17T07:36:57.859617Z",
     "shell.execute_reply": "2023-01-17T07:36:57.859257Z",
     "shell.execute_reply.started": "2023-01-17T07:36:56.277863Z"
    }
   },
   "outputs": [
    {
     "data": {
      "text/plain": [
       "<seaborn.axisgrid.FacetGrid at 0x17f811ee0>"
      ]
     },
     "execution_count": 212,
     "metadata": {},
     "output_type": "execute_result"
    },
    {
     "data": {
      "image/png": "[encoded data removed]",
      "text/plain": [
       "<Figure size 500x500 with 1 Axes>"
      ]
     },
     "metadata": {},
     "output_type": "display_data"
    }
   ],
   "source": [
    "sns.displot(df['days_pm10'])"
   ]
  },
  {
   "cell_type": "code",
   "execution_count": 213,
   "id": "621571f2-1bbe-4226-8e35-ac64c0e427a8",
   "metadata": {
    "execution": {
     "iopub.execute_input": "2023-01-17T07:37:36.856292Z",
     "iopub.status.busy": "2023-01-17T07:37:36.855823Z",
     "iopub.status.idle": "2023-01-17T07:37:36.980299Z",
     "shell.execute_reply": "2023-01-17T07:37:36.979900Z",
     "shell.execute_reply.started": "2023-01-17T07:37:36.856271Z"
    }
   },
   "outputs": [
    {
     "data": {
      "text/plain": [
       "<seaborn.axisgrid.FacetGrid at 0x17fbb22e0>"
      ]
     },
     "execution_count": 213,
     "metadata": {},
     "output_type": "execute_result"
    },
    {
     "data": {
      "image/png": "[encoded data removed]",
      "text/plain": [
       "<Figure size 500x500 with 1 Axes>"
      ]
     },
     "metadata": {},
     "output_type": "display_data"
    }
   ],
   "source": [
    "sns.displot(df['good_days'])"
   ]
  },
  {
   "cell_type": "markdown",
   "id": "c53062d1-83df-4539-b01c-3659cebc9deb",
   "metadata": {},
   "source": [
    "What are the state/county combos with the highest percentage of low birthweight?"
   ]
  },
  {
   "cell_type": "code",
   "execution_count": 198,
   "id": "f4119b70-3595-489f-92f3-c7e355b11607",
   "metadata": {
    "execution": {
     "iopub.execute_input": "2023-01-17T07:18:31.183859Z",
     "iopub.status.busy": "2023-01-17T07:18:31.183408Z",
     "iopub.status.idle": "2023-01-17T07:18:31.222922Z",
     "shell.execute_reply": "2023-01-17T07:18:31.222286Z",
     "shell.execute_reply.started": "2023-01-17T07:18:31.183822Z"
    },
    "tags": []
   },
   "outputs": [
    {
     "data": {
      "text/html": [
       "<div>\n",
       "<style scoped>\n",
       "    .dataframe tbody tr th:only-of-type {\n",
       "        vertical-align: middle;\n",
       "    }\n",
       "\n",
       "    .dataframe tbody tr th {\n",
       "        vertical-align: top;\n",
       "    }\n",
       "\n",
       "    .dataframe thead th {\n",
       "        text-align: right;\n",
       "    }\n",
       "</style>\n",
       "<table border=\"1\" class=\"dataframe\">\n",
       "  <thead>\n",
       "    <tr style=\"text-align: right;\">\n",
       "      <th></th>\n",
       "      <th>state</th>\n",
       "      <th>county</th>\n",
       "      <th>year</th>\n",
       "      <th>days_with_aqi</th>\n",
       "      <th>good_days</th>\n",
       "      <th>mod_days</th>\n",
       "      <th>uh_sens_days</th>\n",
       "      <th>uh_days</th>\n",
       "      <th>v_uh_days</th>\n",
       "      <th>haz_days</th>\n",
       "      <th>...</th>\n",
       "      <th>days_ozone</th>\n",
       "      <th>days_pm2.5</th>\n",
       "      <th>days_pm10</th>\n",
       "      <th>births_low</th>\n",
       "      <th>avg_weight_low</th>\n",
       "      <th>avg_ges_age_low</th>\n",
       "      <th>births_all</th>\n",
       "      <th>avg_weight_all</th>\n",
       "      <th>avg_ges_age_all</th>\n",
       "      <th>pct_low</th>\n",
       "    </tr>\n",
       "  </thead>\n",
       "  <tbody>\n",
       "    <tr>\n",
       "      <th>309</th>\n",
       "      <td>Georgia</td>\n",
       "      <td>Clayton</td>\n",
       "      <td>2020</td>\n",
       "      <td>121</td>\n",
       "      <td>103</td>\n",
       "      <td>18</td>\n",
       "      <td>0</td>\n",
       "      <td>0</td>\n",
       "      <td>0</td>\n",
       "      <td>0</td>\n",
       "      <td>...</td>\n",
       "      <td>0</td>\n",
       "      <td>121</td>\n",
       "      <td>0</td>\n",
       "      <td>396.0</td>\n",
       "      <td>1977.646</td>\n",
       "      <td>35.005</td>\n",
       "      <td>2874.0</td>\n",
       "      <td>3078.496</td>\n",
       "      <td>38.191</td>\n",
       "      <td>0.138</td>\n",
       "    </tr>\n",
       "    <tr>\n",
       "      <th>4992</th>\n",
       "      <td>Louisiana</td>\n",
       "      <td>Caddo</td>\n",
       "      <td>2010</td>\n",
       "      <td>363</td>\n",
       "      <td>261</td>\n",
       "      <td>91</td>\n",
       "      <td>11</td>\n",
       "      <td>0</td>\n",
       "      <td>0</td>\n",
       "      <td>0</td>\n",
       "      <td>...</td>\n",
       "      <td>303</td>\n",
       "      <td>60</td>\n",
       "      <td>0</td>\n",
       "      <td>402.0</td>\n",
       "      <td>1977.264</td>\n",
       "      <td>33.945</td>\n",
       "      <td>2986.0</td>\n",
       "      <td>3088.602</td>\n",
       "      <td>37.874</td>\n",
       "      <td>0.135</td>\n",
       "    </tr>\n",
       "    <tr>\n",
       "      <th>1984</th>\n",
       "      <td>Mississippi</td>\n",
       "      <td>Hinds</td>\n",
       "      <td>2014</td>\n",
       "      <td>365</td>\n",
       "      <td>180</td>\n",
       "      <td>184</td>\n",
       "      <td>0</td>\n",
       "      <td>1</td>\n",
       "      <td>0</td>\n",
       "      <td>0</td>\n",
       "      <td>...</td>\n",
       "      <td>91</td>\n",
       "      <td>274</td>\n",
       "      <td>0</td>\n",
       "      <td>363.0</td>\n",
       "      <td>1931.003</td>\n",
       "      <td>33.959</td>\n",
       "      <td>2779.0</td>\n",
       "      <td>3065.051</td>\n",
       "      <td>37.917</td>\n",
       "      <td>0.131</td>\n",
       "    </tr>\n",
       "    <tr>\n",
       "      <th>434</th>\n",
       "      <td>Mississippi</td>\n",
       "      <td>Hinds</td>\n",
       "      <td>2020</td>\n",
       "      <td>366</td>\n",
       "      <td>249</td>\n",
       "      <td>116</td>\n",
       "      <td>1</td>\n",
       "      <td>0</td>\n",
       "      <td>0</td>\n",
       "      <td>0</td>\n",
       "      <td>...</td>\n",
       "      <td>101</td>\n",
       "      <td>265</td>\n",
       "      <td>0</td>\n",
       "      <td>290.0</td>\n",
       "      <td>2035.279</td>\n",
       "      <td>34.610</td>\n",
       "      <td>2226.0</td>\n",
       "      <td>3081.211</td>\n",
       "      <td>37.933</td>\n",
       "      <td>0.130</td>\n",
       "    </tr>\n",
       "    <tr>\n",
       "      <th>4706</th>\n",
       "      <td>Louisiana</td>\n",
       "      <td>Caddo</td>\n",
       "      <td>2011</td>\n",
       "      <td>365</td>\n",
       "      <td>240</td>\n",
       "      <td>107</td>\n",
       "      <td>18</td>\n",
       "      <td>0</td>\n",
       "      <td>0</td>\n",
       "      <td>0</td>\n",
       "      <td>...</td>\n",
       "      <td>297</td>\n",
       "      <td>68</td>\n",
       "      <td>0</td>\n",
       "      <td>372.0</td>\n",
       "      <td>1939.624</td>\n",
       "      <td>33.747</td>\n",
       "      <td>2871.0</td>\n",
       "      <td>3099.827</td>\n",
       "      <td>37.870</td>\n",
       "      <td>0.130</td>\n",
       "    </tr>\n",
       "    <tr>\n",
       "      <th>2864</th>\n",
       "      <td>Mississippi</td>\n",
       "      <td>Hinds</td>\n",
       "      <td>2017</td>\n",
       "      <td>365</td>\n",
       "      <td>256</td>\n",
       "      <td>109</td>\n",
       "      <td>0</td>\n",
       "      <td>0</td>\n",
       "      <td>0</td>\n",
       "      <td>0</td>\n",
       "      <td>...</td>\n",
       "      <td>114</td>\n",
       "      <td>243</td>\n",
       "      <td>0</td>\n",
       "      <td>322.0</td>\n",
       "      <td>1909.012</td>\n",
       "      <td>33.643</td>\n",
       "      <td>2572.0</td>\n",
       "      <td>3069.387</td>\n",
       "      <td>37.916</td>\n",
       "      <td>0.125</td>\n",
       "    </tr>\n",
       "    <tr>\n",
       "      <th>320</th>\n",
       "      <td>Georgia</td>\n",
       "      <td>Richmond</td>\n",
       "      <td>2020</td>\n",
       "      <td>366</td>\n",
       "      <td>268</td>\n",
       "      <td>97</td>\n",
       "      <td>1</td>\n",
       "      <td>0</td>\n",
       "      <td>0</td>\n",
       "      <td>0</td>\n",
       "      <td>...</td>\n",
       "      <td>84</td>\n",
       "      <td>267</td>\n",
       "      <td>15</td>\n",
       "      <td>262.0</td>\n",
       "      <td>1965.233</td>\n",
       "      <td>34.351</td>\n",
       "      <td>2099.0</td>\n",
       "      <td>3124.365</td>\n",
       "      <td>38.307</td>\n",
       "      <td>0.125</td>\n",
       "    </tr>\n",
       "    <tr>\n",
       "      <th>3855</th>\n",
       "      <td>Mississippi</td>\n",
       "      <td>Hinds</td>\n",
       "      <td>2012</td>\n",
       "      <td>366</td>\n",
       "      <td>241</td>\n",
       "      <td>122</td>\n",
       "      <td>2</td>\n",
       "      <td>1</td>\n",
       "      <td>0</td>\n",
       "      <td>0</td>\n",
       "      <td>...</td>\n",
       "      <td>117</td>\n",
       "      <td>249</td>\n",
       "      <td>0</td>\n",
       "      <td>327.0</td>\n",
       "      <td>1986.190</td>\n",
       "      <td>34.217</td>\n",
       "      <td>2668.0</td>\n",
       "      <td>3082.299</td>\n",
       "      <td>37.973</td>\n",
       "      <td>0.123</td>\n",
       "    </tr>\n",
       "    <tr>\n",
       "      <th>1524</th>\n",
       "      <td>Mississippi</td>\n",
       "      <td>Hinds</td>\n",
       "      <td>2019</td>\n",
       "      <td>365</td>\n",
       "      <td>256</td>\n",
       "      <td>109</td>\n",
       "      <td>0</td>\n",
       "      <td>0</td>\n",
       "      <td>0</td>\n",
       "      <td>0</td>\n",
       "      <td>...</td>\n",
       "      <td>143</td>\n",
       "      <td>222</td>\n",
       "      <td>0</td>\n",
       "      <td>290.0</td>\n",
       "      <td>2038.310</td>\n",
       "      <td>34.379</td>\n",
       "      <td>2351.0</td>\n",
       "      <td>3094.378</td>\n",
       "      <td>37.923</td>\n",
       "      <td>0.123</td>\n",
       "    </tr>\n",
       "    <tr>\n",
       "      <th>2403</th>\n",
       "      <td>Mississippi</td>\n",
       "      <td>Hinds</td>\n",
       "      <td>2015</td>\n",
       "      <td>365</td>\n",
       "      <td>217</td>\n",
       "      <td>148</td>\n",
       "      <td>0</td>\n",
       "      <td>0</td>\n",
       "      <td>0</td>\n",
       "      <td>0</td>\n",
       "      <td>...</td>\n",
       "      <td>110</td>\n",
       "      <td>253</td>\n",
       "      <td>0</td>\n",
       "      <td>307.0</td>\n",
       "      <td>1967.857</td>\n",
       "      <td>34.094</td>\n",
       "      <td>2566.0</td>\n",
       "      <td>3085.500</td>\n",
       "      <td>37.993</td>\n",
       "      <td>0.120</td>\n",
       "    </tr>\n",
       "  </tbody>\n",
       "</table>\n",
       "<p>10 rows × 25 columns</p>\n",
       "</div>"
      ],
      "text/plain": [
       "            state    county  year  days_with_aqi  good_days  mod_days  \\\n",
       "309       Georgia   Clayton  2020            121        103        18   \n",
       "4992    Louisiana     Caddo  2010            363        261        91   \n",
       "1984  Mississippi     Hinds  2014            365        180       184   \n",
       "434   Mississippi     Hinds  2020            366        249       116   \n",
       "4706    Louisiana     Caddo  2011            365        240       107   \n",
       "2864  Mississippi     Hinds  2017            365        256       109   \n",
       "320       Georgia  Richmond  2020            366        268        97   \n",
       "3855  Mississippi     Hinds  2012            366        241       122   \n",
       "1524  Mississippi     Hinds  2019            365        256       109   \n",
       "2403  Mississippi     Hinds  2015            365        217       148   \n",
       "\n",
       "      uh_sens_days  uh_days  v_uh_days  haz_days  ...  days_ozone  days_pm2.5  \\\n",
       "309              0        0          0         0  ...           0         121   \n",
       "4992            11        0          0         0  ...         303          60   \n",
       "1984             0        1          0         0  ...          91         274   \n",
       "434              1        0          0         0  ...         101         265   \n",
       "4706            18        0          0         0  ...         297          68   \n",
       "2864             0        0          0         0  ...         114         243   \n",
       "320              1        0          0         0  ...          84         267   \n",
       "3855             2        1          0         0  ...         117         249   \n",
       "1524             0        0          0         0  ...         143         222   \n",
       "2403             0        0          0         0  ...         110         253   \n",
       "\n",
       "      days_pm10  births_low  avg_weight_low  avg_ges_age_low  births_all  \\\n",
       "309           0       396.0        1977.646           35.005      2874.0   \n",
       "4992          0       402.0        1977.264           33.945      2986.0   \n",
       "1984          0       363.0        1931.003           33.959      2779.0   \n",
       "434           0       290.0        2035.279           34.610      2226.0   \n",
       "4706          0       372.0        1939.624           33.747      2871.0   \n",
       "2864          0       322.0        1909.012           33.643      2572.0   \n",
       "320          15       262.0        1965.233           34.351      2099.0   \n",
       "3855          0       327.0        1986.190           34.217      2668.0   \n",
       "1524          0       290.0        2038.310           34.379      2351.0   \n",
       "2403          0       307.0        1967.857           34.094      2566.0   \n",
       "\n",
       "      avg_weight_all  avg_ges_age_all  pct_low  \n",
       "309         3078.496           38.191    0.138  \n",
       "4992        3088.602           37.874    0.135  \n",
       "1984        3065.051           37.917    0.131  \n",
       "434         3081.211           37.933    0.130  \n",
       "4706        3099.827           37.870    0.130  \n",
       "2864        3069.387           37.916    0.125  \n",
       "320         3124.365           38.307    0.125  \n",
       "3855        3082.299           37.973    0.123  \n",
       "1524        3094.378           37.923    0.123  \n",
       "2403        3085.500           37.993    0.120  \n",
       "\n",
       "[10 rows x 25 columns]"
      ]
     },
     "execution_count": 198,
     "metadata": {},
     "output_type": "execute_result"
    }
   ],
   "source": [
    "df.sort_values(by='pct_low', ascending=False).head(10)"
   ]
  },
  {
   "cell_type": "markdown",
   "id": "95ec79b5-ab1e-4896-9833-fdd8e8a14c86",
   "metadata": {},
   "source": [
    "I see there are some entries here that look to have only 120 days or so of recording data (looking at the days_with_aqi).  Let's filter ones that have at least 300 so we're getting at least 10 months of data."
   ]
  },
  {
   "cell_type": "code",
   "execution_count": 195,
   "id": "9a9e7921-975e-46d1-93b2-e99395ceea04",
   "metadata": {
    "execution": {
     "iopub.execute_input": "2023-01-17T07:15:01.526689Z",
     "iopub.status.busy": "2023-01-17T07:15:01.524525Z",
     "iopub.status.idle": "2023-01-17T07:15:01.540607Z",
     "shell.execute_reply": "2023-01-17T07:15:01.540005Z",
     "shell.execute_reply.started": "2023-01-17T07:15:01.526606Z"
    }
   },
   "outputs": [],
   "source": [
    "df_300 = df[df['days_with_aqi'] > 300]"
   ]
  },
  {
   "cell_type": "code",
   "execution_count": 196,
   "id": "0cd83b24-24da-4675-b889-1d20b01c5bc8",
   "metadata": {
    "execution": {
     "iopub.execute_input": "2023-01-17T07:15:28.234846Z",
     "iopub.status.busy": "2023-01-17T07:15:28.233734Z",
     "iopub.status.idle": "2023-01-17T07:15:28.256822Z",
     "shell.execute_reply": "2023-01-17T07:15:28.256398Z",
     "shell.execute_reply.started": "2023-01-17T07:15:28.234785Z"
    }
   },
   "outputs": [
    {
     "data": {
      "text/html": [
       "<div>\n",
       "<style scoped>\n",
       "    .dataframe tbody tr th:only-of-type {\n",
       "        vertical-align: middle;\n",
       "    }\n",
       "\n",
       "    .dataframe tbody tr th {\n",
       "        vertical-align: top;\n",
       "    }\n",
       "\n",
       "    .dataframe thead th {\n",
       "        text-align: right;\n",
       "    }\n",
       "</style>\n",
       "<table border=\"1\" class=\"dataframe\">\n",
       "  <thead>\n",
       "    <tr style=\"text-align: right;\">\n",
       "      <th></th>\n",
       "      <th>state</th>\n",
       "      <th>county</th>\n",
       "      <th>year</th>\n",
       "      <th>days_with_aqi</th>\n",
       "      <th>good_days</th>\n",
       "      <th>mod_days</th>\n",
       "      <th>uh_sens_days</th>\n",
       "      <th>uh_days</th>\n",
       "      <th>v_uh_days</th>\n",
       "      <th>haz_days</th>\n",
       "      <th>...</th>\n",
       "      <th>days_ozone</th>\n",
       "      <th>days_pm2.5</th>\n",
       "      <th>days_pm10</th>\n",
       "      <th>births_low</th>\n",
       "      <th>avg_weight_low</th>\n",
       "      <th>avg_ges_age_low</th>\n",
       "      <th>births_all</th>\n",
       "      <th>avg_weight_all</th>\n",
       "      <th>avg_ges_age_all</th>\n",
       "      <th>pct_low</th>\n",
       "    </tr>\n",
       "  </thead>\n",
       "  <tbody>\n",
       "    <tr>\n",
       "      <th>4992</th>\n",
       "      <td>Louisiana</td>\n",
       "      <td>Caddo</td>\n",
       "      <td>2010</td>\n",
       "      <td>363</td>\n",
       "      <td>261</td>\n",
       "      <td>91</td>\n",
       "      <td>11</td>\n",
       "      <td>0</td>\n",
       "      <td>0</td>\n",
       "      <td>0</td>\n",
       "      <td>...</td>\n",
       "      <td>303</td>\n",
       "      <td>60</td>\n",
       "      <td>0</td>\n",
       "      <td>402.0</td>\n",
       "      <td>1977.264</td>\n",
       "      <td>33.945</td>\n",
       "      <td>2986.0</td>\n",
       "      <td>3088.602</td>\n",
       "      <td>37.874</td>\n",
       "      <td>0.135</td>\n",
       "    </tr>\n",
       "    <tr>\n",
       "      <th>1984</th>\n",
       "      <td>Mississippi</td>\n",
       "      <td>Hinds</td>\n",
       "      <td>2014</td>\n",
       "      <td>365</td>\n",
       "      <td>180</td>\n",
       "      <td>184</td>\n",
       "      <td>0</td>\n",
       "      <td>1</td>\n",
       "      <td>0</td>\n",
       "      <td>0</td>\n",
       "      <td>...</td>\n",
       "      <td>91</td>\n",
       "      <td>274</td>\n",
       "      <td>0</td>\n",
       "      <td>363.0</td>\n",
       "      <td>1931.003</td>\n",
       "      <td>33.959</td>\n",
       "      <td>2779.0</td>\n",
       "      <td>3065.051</td>\n",
       "      <td>37.917</td>\n",
       "      <td>0.131</td>\n",
       "    </tr>\n",
       "    <tr>\n",
       "      <th>434</th>\n",
       "      <td>Mississippi</td>\n",
       "      <td>Hinds</td>\n",
       "      <td>2020</td>\n",
       "      <td>366</td>\n",
       "      <td>249</td>\n",
       "      <td>116</td>\n",
       "      <td>1</td>\n",
       "      <td>0</td>\n",
       "      <td>0</td>\n",
       "      <td>0</td>\n",
       "      <td>...</td>\n",
       "      <td>101</td>\n",
       "      <td>265</td>\n",
       "      <td>0</td>\n",
       "      <td>290.0</td>\n",
       "      <td>2035.279</td>\n",
       "      <td>34.610</td>\n",
       "      <td>2226.0</td>\n",
       "      <td>3081.211</td>\n",
       "      <td>37.933</td>\n",
       "      <td>0.130</td>\n",
       "    </tr>\n",
       "    <tr>\n",
       "      <th>4706</th>\n",
       "      <td>Louisiana</td>\n",
       "      <td>Caddo</td>\n",
       "      <td>2011</td>\n",
       "      <td>365</td>\n",
       "      <td>240</td>\n",
       "      <td>107</td>\n",
       "      <td>18</td>\n",
       "      <td>0</td>\n",
       "      <td>0</td>\n",
       "      <td>0</td>\n",
       "      <td>...</td>\n",
       "      <td>297</td>\n",
       "      <td>68</td>\n",
       "      <td>0</td>\n",
       "      <td>372.0</td>\n",
       "      <td>1939.624</td>\n",
       "      <td>33.747</td>\n",
       "      <td>2871.0</td>\n",
       "      <td>3099.827</td>\n",
       "      <td>37.870</td>\n",
       "      <td>0.130</td>\n",
       "    </tr>\n",
       "    <tr>\n",
       "      <th>320</th>\n",
       "      <td>Georgia</td>\n",
       "      <td>Richmond</td>\n",
       "      <td>2020</td>\n",
       "      <td>366</td>\n",
       "      <td>268</td>\n",
       "      <td>97</td>\n",
       "      <td>1</td>\n",
       "      <td>0</td>\n",
       "      <td>0</td>\n",
       "      <td>0</td>\n",
       "      <td>...</td>\n",
       "      <td>84</td>\n",
       "      <td>267</td>\n",
       "      <td>15</td>\n",
       "      <td>262.0</td>\n",
       "      <td>1965.233</td>\n",
       "      <td>34.351</td>\n",
       "      <td>2099.0</td>\n",
       "      <td>3124.365</td>\n",
       "      <td>38.307</td>\n",
       "      <td>0.125</td>\n",
       "    </tr>\n",
       "    <tr>\n",
       "      <th>2864</th>\n",
       "      <td>Mississippi</td>\n",
       "      <td>Hinds</td>\n",
       "      <td>2017</td>\n",
       "      <td>365</td>\n",
       "      <td>256</td>\n",
       "      <td>109</td>\n",
       "      <td>0</td>\n",
       "      <td>0</td>\n",
       "      <td>0</td>\n",
       "      <td>0</td>\n",
       "      <td>...</td>\n",
       "      <td>114</td>\n",
       "      <td>243</td>\n",
       "      <td>0</td>\n",
       "      <td>322.0</td>\n",
       "      <td>1909.012</td>\n",
       "      <td>33.643</td>\n",
       "      <td>2572.0</td>\n",
       "      <td>3069.387</td>\n",
       "      <td>37.916</td>\n",
       "      <td>0.125</td>\n",
       "    </tr>\n",
       "    <tr>\n",
       "      <th>3855</th>\n",
       "      <td>Mississippi</td>\n",
       "      <td>Hinds</td>\n",
       "      <td>2012</td>\n",
       "      <td>366</td>\n",
       "      <td>241</td>\n",
       "      <td>122</td>\n",
       "      <td>2</td>\n",
       "      <td>1</td>\n",
       "      <td>0</td>\n",
       "      <td>0</td>\n",
       "      <td>...</td>\n",
       "      <td>117</td>\n",
       "      <td>249</td>\n",
       "      <td>0</td>\n",
       "      <td>327.0</td>\n",
       "      <td>1986.190</td>\n",
       "      <td>34.217</td>\n",
       "      <td>2668.0</td>\n",
       "      <td>3082.299</td>\n",
       "      <td>37.973</td>\n",
       "      <td>0.123</td>\n",
       "    </tr>\n",
       "    <tr>\n",
       "      <th>1524</th>\n",
       "      <td>Mississippi</td>\n",
       "      <td>Hinds</td>\n",
       "      <td>2019</td>\n",
       "      <td>365</td>\n",
       "      <td>256</td>\n",
       "      <td>109</td>\n",
       "      <td>0</td>\n",
       "      <td>0</td>\n",
       "      <td>0</td>\n",
       "      <td>0</td>\n",
       "      <td>...</td>\n",
       "      <td>143</td>\n",
       "      <td>222</td>\n",
       "      <td>0</td>\n",
       "      <td>290.0</td>\n",
       "      <td>2038.310</td>\n",
       "      <td>34.379</td>\n",
       "      <td>2351.0</td>\n",
       "      <td>3094.378</td>\n",
       "      <td>37.923</td>\n",
       "      <td>0.123</td>\n",
       "    </tr>\n",
       "    <tr>\n",
       "      <th>2340</th>\n",
       "      <td>Louisiana</td>\n",
       "      <td>Caddo</td>\n",
       "      <td>2015</td>\n",
       "      <td>364</td>\n",
       "      <td>303</td>\n",
       "      <td>61</td>\n",
       "      <td>0</td>\n",
       "      <td>0</td>\n",
       "      <td>0</td>\n",
       "      <td>0</td>\n",
       "      <td>...</td>\n",
       "      <td>278</td>\n",
       "      <td>86</td>\n",
       "      <td>0</td>\n",
       "      <td>303.0</td>\n",
       "      <td>1905.512</td>\n",
       "      <td>33.515</td>\n",
       "      <td>2515.0</td>\n",
       "      <td>3110.653</td>\n",
       "      <td>37.936</td>\n",
       "      <td>0.120</td>\n",
       "    </tr>\n",
       "    <tr>\n",
       "      <th>4386</th>\n",
       "      <td>Virginia</td>\n",
       "      <td>Hampton City</td>\n",
       "      <td>2013</td>\n",
       "      <td>359</td>\n",
       "      <td>313</td>\n",
       "      <td>44</td>\n",
       "      <td>2</td>\n",
       "      <td>0</td>\n",
       "      <td>0</td>\n",
       "      <td>0</td>\n",
       "      <td>...</td>\n",
       "      <td>165</td>\n",
       "      <td>181</td>\n",
       "      <td>0</td>\n",
       "      <td>48.0</td>\n",
       "      <td>1738.479</td>\n",
       "      <td>32.729</td>\n",
       "      <td>399.0</td>\n",
       "      <td>3205.329</td>\n",
       "      <td>38.266</td>\n",
       "      <td>0.120</td>\n",
       "    </tr>\n",
       "  </tbody>\n",
       "</table>\n",
       "<p>10 rows × 25 columns</p>\n",
       "</div>"
      ],
      "text/plain": [
       "            state        county  year  days_with_aqi  good_days  mod_days  \\\n",
       "4992    Louisiana         Caddo  2010            363        261        91   \n",
       "1984  Mississippi         Hinds  2014            365        180       184   \n",
       "434   Mississippi         Hinds  2020            366        249       116   \n",
       "4706    Louisiana         Caddo  2011            365        240       107   \n",
       "320       Georgia      Richmond  2020            366        268        97   \n",
       "2864  Mississippi         Hinds  2017            365        256       109   \n",
       "3855  Mississippi         Hinds  2012            366        241       122   \n",
       "1524  Mississippi         Hinds  2019            365        256       109   \n",
       "2340    Louisiana         Caddo  2015            364        303        61   \n",
       "4386     Virginia  Hampton City  2013            359        313        44   \n",
       "\n",
       "      uh_sens_days  uh_days  v_uh_days  haz_days  ...  days_ozone  days_pm2.5  \\\n",
       "4992            11        0          0         0  ...         303          60   \n",
       "1984             0        1          0         0  ...          91         274   \n",
       "434              1        0          0         0  ...         101         265   \n",
       "4706            18        0          0         0  ...         297          68   \n",
       "320              1        0          0         0  ...          84         267   \n",
       "2864             0        0          0         0  ...         114         243   \n",
       "3855             2        1          0         0  ...         117         249   \n",
       "1524             0        0          0         0  ...         143         222   \n",
       "2340             0        0          0         0  ...         278          86   \n",
       "4386             2        0          0         0  ...         165         181   \n",
       "\n",
       "      days_pm10  births_low  avg_weight_low  avg_ges_age_low  births_all  \\\n",
       "4992          0       402.0        1977.264           33.945      2986.0   \n",
       "1984          0       363.0        1931.003           33.959      2779.0   \n",
       "434           0       290.0        2035.279           34.610      2226.0   \n",
       "4706          0       372.0        1939.624           33.747      2871.0   \n",
       "320          15       262.0        1965.233           34.351      2099.0   \n",
       "2864          0       322.0        1909.012           33.643      2572.0   \n",
       "3855          0       327.0        1986.190           34.217      2668.0   \n",
       "1524          0       290.0        2038.310           34.379      2351.0   \n",
       "2340          0       303.0        1905.512           33.515      2515.0   \n",
       "4386          0        48.0        1738.479           32.729       399.0   \n",
       "\n",
       "      avg_weight_all  avg_ges_age_all  pct_low  \n",
       "4992        3088.602           37.874    0.135  \n",
       "1984        3065.051           37.917    0.131  \n",
       "434         3081.211           37.933    0.130  \n",
       "4706        3099.827           37.870    0.130  \n",
       "320         3124.365           38.307    0.125  \n",
       "2864        3069.387           37.916    0.125  \n",
       "3855        3082.299           37.973    0.123  \n",
       "1524        3094.378           37.923    0.123  \n",
       "2340        3110.653           37.936    0.120  \n",
       "4386        3205.329           38.266    0.120  \n",
       "\n",
       "[10 rows x 25 columns]"
      ]
     },
     "execution_count": 196,
     "metadata": {},
     "output_type": "execute_result"
    }
   ],
   "source": [
    "df_300.sort_values(by='pct_low', ascending=False).head(10)"
   ]
  },
  {
   "cell_type": "markdown",
   "id": "94dd3a8d-25ed-465b-a5a5-1fce9d7aab9b",
   "metadata": {},
   "source": [
    "What are the year/county combinations that have the smallest percentage?"
   ]
  },
  {
   "cell_type": "code",
   "execution_count": 197,
   "id": "41f68309-cf42-4690-ae20-f8046d978b31",
   "metadata": {
    "execution": {
     "iopub.execute_input": "2023-01-17T07:16:39.663358Z",
     "iopub.status.busy": "2023-01-17T07:16:39.661838Z",
     "iopub.status.idle": "2023-01-17T07:16:39.681895Z",
     "shell.execute_reply": "2023-01-17T07:16:39.681496Z",
     "shell.execute_reply.started": "2023-01-17T07:16:39.663314Z"
    }
   },
   "outputs": [
    {
     "data": {
      "text/html": [
       "<div>\n",
       "<style scoped>\n",
       "    .dataframe tbody tr th:only-of-type {\n",
       "        vertical-align: middle;\n",
       "    }\n",
       "\n",
       "    .dataframe tbody tr th {\n",
       "        vertical-align: top;\n",
       "    }\n",
       "\n",
       "    .dataframe thead th {\n",
       "        text-align: right;\n",
       "    }\n",
       "</style>\n",
       "<table border=\"1\" class=\"dataframe\">\n",
       "  <thead>\n",
       "    <tr style=\"text-align: right;\">\n",
       "      <th></th>\n",
       "      <th>state</th>\n",
       "      <th>county</th>\n",
       "      <th>year</th>\n",
       "      <th>days_with_aqi</th>\n",
       "      <th>good_days</th>\n",
       "      <th>mod_days</th>\n",
       "      <th>uh_sens_days</th>\n",
       "      <th>uh_days</th>\n",
       "      <th>v_uh_days</th>\n",
       "      <th>haz_days</th>\n",
       "      <th>...</th>\n",
       "      <th>days_ozone</th>\n",
       "      <th>days_pm2.5</th>\n",
       "      <th>days_pm10</th>\n",
       "      <th>births_low</th>\n",
       "      <th>avg_weight_low</th>\n",
       "      <th>avg_ges_age_low</th>\n",
       "      <th>births_all</th>\n",
       "      <th>avg_weight_all</th>\n",
       "      <th>avg_ges_age_all</th>\n",
       "      <th>pct_low</th>\n",
       "    </tr>\n",
       "  </thead>\n",
       "  <tbody>\n",
       "    <tr>\n",
       "      <th>494</th>\n",
       "      <td>New York</td>\n",
       "      <td>Tompkins</td>\n",
       "      <td>2020</td>\n",
       "      <td>364</td>\n",
       "      <td>359</td>\n",
       "      <td>5</td>\n",
       "      <td>0</td>\n",
       "      <td>0</td>\n",
       "      <td>0</td>\n",
       "      <td>0</td>\n",
       "      <td>...</td>\n",
       "      <td>364</td>\n",
       "      <td>0</td>\n",
       "      <td>0</td>\n",
       "      <td>13.0</td>\n",
       "      <td>2204.077</td>\n",
       "      <td>35.077</td>\n",
       "      <td>530.0</td>\n",
       "      <td>3403.653</td>\n",
       "      <td>39.079</td>\n",
       "      <td>0.025</td>\n",
       "    </tr>\n",
       "    <tr>\n",
       "      <th>1584</th>\n",
       "      <td>New York</td>\n",
       "      <td>Tompkins</td>\n",
       "      <td>2019</td>\n",
       "      <td>356</td>\n",
       "      <td>349</td>\n",
       "      <td>7</td>\n",
       "      <td>0</td>\n",
       "      <td>0</td>\n",
       "      <td>0</td>\n",
       "      <td>0</td>\n",
       "      <td>...</td>\n",
       "      <td>356</td>\n",
       "      <td>0</td>\n",
       "      <td>0</td>\n",
       "      <td>14.0</td>\n",
       "      <td>2174.000</td>\n",
       "      <td>35.571</td>\n",
       "      <td>510.0</td>\n",
       "      <td>3414.189</td>\n",
       "      <td>39.043</td>\n",
       "      <td>0.027</td>\n",
       "    </tr>\n",
       "    <tr>\n",
       "      <th>1264</th>\n",
       "      <td>Washington</td>\n",
       "      <td>Cowlitz</td>\n",
       "      <td>2018</td>\n",
       "      <td>365</td>\n",
       "      <td>338</td>\n",
       "      <td>23</td>\n",
       "      <td>2</td>\n",
       "      <td>2</td>\n",
       "      <td>0</td>\n",
       "      <td>0</td>\n",
       "      <td>...</td>\n",
       "      <td>0</td>\n",
       "      <td>365</td>\n",
       "      <td>0</td>\n",
       "      <td>23.0</td>\n",
       "      <td>2147.913</td>\n",
       "      <td>35.304</td>\n",
       "      <td>819.0</td>\n",
       "      <td>3456.101</td>\n",
       "      <td>38.976</td>\n",
       "      <td>0.028</td>\n",
       "    </tr>\n",
       "    <tr>\n",
       "      <th>2142</th>\n",
       "      <td>Washington</td>\n",
       "      <td>Cowlitz</td>\n",
       "      <td>2014</td>\n",
       "      <td>323</td>\n",
       "      <td>309</td>\n",
       "      <td>14</td>\n",
       "      <td>0</td>\n",
       "      <td>0</td>\n",
       "      <td>0</td>\n",
       "      <td>0</td>\n",
       "      <td>...</td>\n",
       "      <td>0</td>\n",
       "      <td>323</td>\n",
       "      <td>0</td>\n",
       "      <td>24.0</td>\n",
       "      <td>1982.417</td>\n",
       "      <td>34.125</td>\n",
       "      <td>804.0</td>\n",
       "      <td>3443.707</td>\n",
       "      <td>39.232</td>\n",
       "      <td>0.030</td>\n",
       "    </tr>\n",
       "    <tr>\n",
       "      <th>1636</th>\n",
       "      <td>Oregon</td>\n",
       "      <td>Linn</td>\n",
       "      <td>2019</td>\n",
       "      <td>365</td>\n",
       "      <td>280</td>\n",
       "      <td>83</td>\n",
       "      <td>2</td>\n",
       "      <td>0</td>\n",
       "      <td>0</td>\n",
       "      <td>0</td>\n",
       "      <td>...</td>\n",
       "      <td>0</td>\n",
       "      <td>365</td>\n",
       "      <td>0</td>\n",
       "      <td>33.0</td>\n",
       "      <td>2000.636</td>\n",
       "      <td>33.939</td>\n",
       "      <td>1048.0</td>\n",
       "      <td>3498.659</td>\n",
       "      <td>39.032</td>\n",
       "      <td>0.031</td>\n",
       "    </tr>\n",
       "    <tr>\n",
       "      <th>671</th>\n",
       "      <td>California</td>\n",
       "      <td>Humboldt</td>\n",
       "      <td>2008</td>\n",
       "      <td>364</td>\n",
       "      <td>349</td>\n",
       "      <td>15</td>\n",
       "      <td>0</td>\n",
       "      <td>0</td>\n",
       "      <td>0</td>\n",
       "      <td>0</td>\n",
       "      <td>...</td>\n",
       "      <td>286</td>\n",
       "      <td>50</td>\n",
       "      <td>4</td>\n",
       "      <td>37.0</td>\n",
       "      <td>1884.730</td>\n",
       "      <td>33.556</td>\n",
       "      <td>1168.0</td>\n",
       "      <td>3430.532</td>\n",
       "      <td>38.935</td>\n",
       "      <td>0.032</td>\n",
       "    </tr>\n",
       "    <tr>\n",
       "      <th>3435</th>\n",
       "      <td>Oregon</td>\n",
       "      <td>Linn</td>\n",
       "      <td>2016</td>\n",
       "      <td>366</td>\n",
       "      <td>333</td>\n",
       "      <td>33</td>\n",
       "      <td>0</td>\n",
       "      <td>0</td>\n",
       "      <td>0</td>\n",
       "      <td>0</td>\n",
       "      <td>...</td>\n",
       "      <td>0</td>\n",
       "      <td>366</td>\n",
       "      <td>0</td>\n",
       "      <td>33.0</td>\n",
       "      <td>2068.242</td>\n",
       "      <td>34.424</td>\n",
       "      <td>1027.0</td>\n",
       "      <td>3460.391</td>\n",
       "      <td>39.009</td>\n",
       "      <td>0.032</td>\n",
       "    </tr>\n",
       "    <tr>\n",
       "      <th>1647</th>\n",
       "      <td>Pennsylvania</td>\n",
       "      <td>Centre</td>\n",
       "      <td>2019</td>\n",
       "      <td>365</td>\n",
       "      <td>267</td>\n",
       "      <td>98</td>\n",
       "      <td>0</td>\n",
       "      <td>0</td>\n",
       "      <td>0</td>\n",
       "      <td>0</td>\n",
       "      <td>...</td>\n",
       "      <td>203</td>\n",
       "      <td>162</td>\n",
       "      <td>0</td>\n",
       "      <td>27.0</td>\n",
       "      <td>2042.370</td>\n",
       "      <td>34.296</td>\n",
       "      <td>819.0</td>\n",
       "      <td>3428.707</td>\n",
       "      <td>39.076</td>\n",
       "      <td>0.033</td>\n",
       "    </tr>\n",
       "    <tr>\n",
       "      <th>3076</th>\n",
       "      <td>Wisconsin</td>\n",
       "      <td>La Crosse</td>\n",
       "      <td>2017</td>\n",
       "      <td>360</td>\n",
       "      <td>311</td>\n",
       "      <td>49</td>\n",
       "      <td>0</td>\n",
       "      <td>0</td>\n",
       "      <td>0</td>\n",
       "      <td>0</td>\n",
       "      <td>...</td>\n",
       "      <td>194</td>\n",
       "      <td>166</td>\n",
       "      <td>0</td>\n",
       "      <td>27.0</td>\n",
       "      <td>2059.185</td>\n",
       "      <td>33.889</td>\n",
       "      <td>819.0</td>\n",
       "      <td>3462.660</td>\n",
       "      <td>39.269</td>\n",
       "      <td>0.033</td>\n",
       "    </tr>\n",
       "    <tr>\n",
       "      <th>3443</th>\n",
       "      <td>Pennsylvania</td>\n",
       "      <td>Blair</td>\n",
       "      <td>2016</td>\n",
       "      <td>366</td>\n",
       "      <td>285</td>\n",
       "      <td>79</td>\n",
       "      <td>2</td>\n",
       "      <td>0</td>\n",
       "      <td>0</td>\n",
       "      <td>0</td>\n",
       "      <td>...</td>\n",
       "      <td>196</td>\n",
       "      <td>166</td>\n",
       "      <td>4</td>\n",
       "      <td>28.0</td>\n",
       "      <td>1989.750</td>\n",
       "      <td>34.143</td>\n",
       "      <td>846.0</td>\n",
       "      <td>3410.701</td>\n",
       "      <td>38.995</td>\n",
       "      <td>0.033</td>\n",
       "    </tr>\n",
       "  </tbody>\n",
       "</table>\n",
       "<p>10 rows × 25 columns</p>\n",
       "</div>"
      ],
      "text/plain": [
       "             state     county  year  days_with_aqi  good_days  mod_days  \\\n",
       "494       New York   Tompkins  2020            364        359         5   \n",
       "1584      New York   Tompkins  2019            356        349         7   \n",
       "1264    Washington    Cowlitz  2018            365        338        23   \n",
       "2142    Washington    Cowlitz  2014            323        309        14   \n",
       "1636        Oregon       Linn  2019            365        280        83   \n",
       "671     California   Humboldt  2008            364        349        15   \n",
       "3435        Oregon       Linn  2016            366        333        33   \n",
       "1647  Pennsylvania     Centre  2019            365        267        98   \n",
       "3076     Wisconsin  La Crosse  2017            360        311        49   \n",
       "3443  Pennsylvania      Blair  2016            366        285        79   \n",
       "\n",
       "      uh_sens_days  uh_days  v_uh_days  haz_days  ...  days_ozone  days_pm2.5  \\\n",
       "494              0        0          0         0  ...         364           0   \n",
       "1584             0        0          0         0  ...         356           0   \n",
       "1264             2        2          0         0  ...           0         365   \n",
       "2142             0        0          0         0  ...           0         323   \n",
       "1636             2        0          0         0  ...           0         365   \n",
       "671              0        0          0         0  ...         286          50   \n",
       "3435             0        0          0         0  ...           0         366   \n",
       "1647             0        0          0         0  ...         203         162   \n",
       "3076             0        0          0         0  ...         194         166   \n",
       "3443             2        0          0         0  ...         196         166   \n",
       "\n",
       "      days_pm10  births_low  avg_weight_low  avg_ges_age_low  births_all  \\\n",
       "494           0        13.0        2204.077           35.077       530.0   \n",
       "1584          0        14.0        2174.000           35.571       510.0   \n",
       "1264          0        23.0        2147.913           35.304       819.0   \n",
       "2142          0        24.0        1982.417           34.125       804.0   \n",
       "1636          0        33.0        2000.636           33.939      1048.0   \n",
       "671           4        37.0        1884.730           33.556      1168.0   \n",
       "3435          0        33.0        2068.242           34.424      1027.0   \n",
       "1647          0        27.0        2042.370           34.296       819.0   \n",
       "3076          0        27.0        2059.185           33.889       819.0   \n",
       "3443          4        28.0        1989.750           34.143       846.0   \n",
       "\n",
       "      avg_weight_all  avg_ges_age_all  pct_low  \n",
       "494         3403.653           39.079    0.025  \n",
       "1584        3414.189           39.043    0.027  \n",
       "1264        3456.101           38.976    0.028  \n",
       "2142        3443.707           39.232    0.030  \n",
       "1636        3498.659           39.032    0.031  \n",
       "671         3430.532           38.935    0.032  \n",
       "3435        3460.391           39.009    0.032  \n",
       "1647        3428.707           39.076    0.033  \n",
       "3076        3462.660           39.269    0.033  \n",
       "3443        3410.701           38.995    0.033  \n",
       "\n",
       "[10 rows x 25 columns]"
      ]
     },
     "execution_count": 197,
     "metadata": {},
     "output_type": "execute_result"
    }
   ],
   "source": [
    "df_300.sort_values(by='pct_low', ascending=True).head(10)"
   ]
  },
  {
   "cell_type": "code",
   "execution_count": null,
   "id": "7158c649-7552-4fcc-8602-cf88c955a203",
   "metadata": {},
   "outputs": [],
   "source": []
  },
  {
   "cell_type": "markdown",
   "id": "15a479ab-0f61-4f14-85cd-3f0da481663f",
   "metadata": {},
   "source": [
    "# PARKING LOT"
   ]
  },
  {
   "cell_type": "code",
   "execution_count": 74,
   "id": "012cddc6-9520-4de7-89ae-49eb2a0e7140",
   "metadata": {
    "execution": {
     "iopub.execute_input": "2023-01-17T06:03:26.293551Z",
     "iopub.status.busy": "2023-01-17T06:03:26.293380Z",
     "iopub.status.idle": "2023-01-17T06:03:26.299551Z",
     "shell.execute_reply": "2023-01-17T06:03:26.299109Z",
     "shell.execute_reply.started": "2023-01-17T06:03:26.293540Z"
    },
    "tags": []
   },
   "outputs": [],
   "source": [
    "births = pd.read_csv('data/cdc_cleaned.csv')"
   ]
  },
  {
   "cell_type": "code",
   "execution_count": 75,
   "id": "6a38167a-e957-4c37-8fb7-5d8d9bfa2efa",
   "metadata": {
    "execution": {
     "iopub.execute_input": "2023-01-17T06:03:26.300400Z",
     "iopub.status.busy": "2023-01-17T06:03:26.300279Z",
     "iopub.status.idle": "2023-01-17T06:03:26.306272Z",
     "shell.execute_reply": "2023-01-17T06:03:26.305968Z",
     "shell.execute_reply.started": "2023-01-17T06:03:26.300390Z"
    },
    "tags": []
   },
   "outputs": [
    {
     "data": {
      "text/html": [
       "<div>\n",
       "<style scoped>\n",
       "    .dataframe tbody tr th:only-of-type {\n",
       "        vertical-align: middle;\n",
       "    }\n",
       "\n",
       "    .dataframe tbody tr th {\n",
       "        vertical-align: top;\n",
       "    }\n",
       "\n",
       "    .dataframe thead th {\n",
       "        text-align: right;\n",
       "    }\n",
       "</style>\n",
       "<table border=\"1\" class=\"dataframe\">\n",
       "  <thead>\n",
       "    <tr style=\"text-align: right;\">\n",
       "      <th></th>\n",
       "      <th>state</th>\n",
       "      <th>county</th>\n",
       "      <th>year</th>\n",
       "      <th>births_low</th>\n",
       "      <th>avg_weight_low</th>\n",
       "      <th>avg_ges_age_low</th>\n",
       "      <th>births_all</th>\n",
       "      <th>avg_weight_all</th>\n",
       "      <th>avg_ges_age_all</th>\n",
       "      <th>pct_low</th>\n",
       "    </tr>\n",
       "  </thead>\n",
       "  <tbody>\n",
       "    <tr>\n",
       "      <th>0</th>\n",
       "      <td>Alabama</td>\n",
       "      <td>Baldwin</td>\n",
       "      <td>2014</td>\n",
       "      <td>137.0</td>\n",
       "      <td>1995.255</td>\n",
       "      <td>34.051</td>\n",
       "      <td>1724.0</td>\n",
       "      <td>3296.472</td>\n",
       "      <td>38.489</td>\n",
       "      <td>0.079</td>\n",
       "    </tr>\n",
       "    <tr>\n",
       "      <th>1</th>\n",
       "      <td>Alabama</td>\n",
       "      <td>Baldwin</td>\n",
       "      <td>2015</td>\n",
       "      <td>141.0</td>\n",
       "      <td>1832.837</td>\n",
       "      <td>32.922</td>\n",
       "      <td>1857.0</td>\n",
       "      <td>3290.811</td>\n",
       "      <td>38.347</td>\n",
       "      <td>0.076</td>\n",
       "    </tr>\n",
       "    <tr>\n",
       "      <th>2</th>\n",
       "      <td>Alabama</td>\n",
       "      <td>Baldwin</td>\n",
       "      <td>2016</td>\n",
       "      <td>120.0</td>\n",
       "      <td>2008.358</td>\n",
       "      <td>34.058</td>\n",
       "      <td>1722.0</td>\n",
       "      <td>3315.387</td>\n",
       "      <td>38.497</td>\n",
       "      <td>0.070</td>\n",
       "    </tr>\n",
       "    <tr>\n",
       "      <th>3</th>\n",
       "      <td>Alabama</td>\n",
       "      <td>Baldwin</td>\n",
       "      <td>2017</td>\n",
       "      <td>100.0</td>\n",
       "      <td>2082.830</td>\n",
       "      <td>34.380</td>\n",
       "      <td>1782.0</td>\n",
       "      <td>3346.588</td>\n",
       "      <td>38.572</td>\n",
       "      <td>0.056</td>\n",
       "    </tr>\n",
       "    <tr>\n",
       "      <th>4</th>\n",
       "      <td>Alabama</td>\n",
       "      <td>Baldwin</td>\n",
       "      <td>2018</td>\n",
       "      <td>122.0</td>\n",
       "      <td>1942.303</td>\n",
       "      <td>33.508</td>\n",
       "      <td>1770.0</td>\n",
       "      <td>3301.324</td>\n",
       "      <td>38.423</td>\n",
       "      <td>0.069</td>\n",
       "    </tr>\n",
       "  </tbody>\n",
       "</table>\n",
       "</div>"
      ],
      "text/plain": [
       "     state   county  year  births_low  avg_weight_low  avg_ges_age_low  \\\n",
       "0  Alabama  Baldwin  2014       137.0        1995.255           34.051   \n",
       "1  Alabama  Baldwin  2015       141.0        1832.837           32.922   \n",
       "2  Alabama  Baldwin  2016       120.0        2008.358           34.058   \n",
       "3  Alabama  Baldwin  2017       100.0        2082.830           34.380   \n",
       "4  Alabama  Baldwin  2018       122.0        1942.303           33.508   \n",
       "\n",
       "   births_all  avg_weight_all  avg_ges_age_all  pct_low  \n",
       "0      1724.0        3296.472           38.489    0.079  \n",
       "1      1857.0        3290.811           38.347    0.076  \n",
       "2      1722.0        3315.387           38.497    0.070  \n",
       "3      1782.0        3346.588           38.572    0.056  \n",
       "4      1770.0        3301.324           38.423    0.069  "
      ]
     },
     "execution_count": 75,
     "metadata": {},
     "output_type": "execute_result"
    }
   ],
   "source": [
    "births.head()"
   ]
  },
  {
   "cell_type": "code",
   "execution_count": 76,
   "id": "e8959568-9a90-4f99-907c-b32fd0c6e3fd",
   "metadata": {
    "execution": {
     "iopub.execute_input": "2023-01-17T06:03:26.306942Z",
     "iopub.status.busy": "2023-01-17T06:03:26.306796Z",
     "iopub.status.idle": "2023-01-17T06:03:26.309334Z",
     "shell.execute_reply": "2023-01-17T06:03:26.309049Z",
     "shell.execute_reply.started": "2023-01-17T06:03:26.306931Z"
    },
    "tags": []
   },
   "outputs": [
    {
     "data": {
      "text/plain": [
       "(6094, 10)"
      ]
     },
     "execution_count": 76,
     "metadata": {},
     "output_type": "execute_result"
    }
   ],
   "source": [
    "births.shape"
   ]
  },
  {
   "cell_type": "code",
   "execution_count": 77,
   "id": "c9c16049-7806-44b1-a67a-88e5ac06bbed",
   "metadata": {
    "execution": {
     "iopub.execute_input": "2023-01-17T06:03:26.310027Z",
     "iopub.status.busy": "2023-01-17T06:03:26.309886Z",
     "iopub.status.idle": "2023-01-17T06:03:26.322809Z",
     "shell.execute_reply": "2023-01-17T06:03:26.322474Z",
     "shell.execute_reply.started": "2023-01-17T06:03:26.310018Z"
    },
    "tags": []
   },
   "outputs": [
    {
     "data": {
      "text/html": [
       "<div>\n",
       "<style scoped>\n",
       "    .dataframe tbody tr th:only-of-type {\n",
       "        vertical-align: middle;\n",
       "    }\n",
       "\n",
       "    .dataframe tbody tr th {\n",
       "        vertical-align: top;\n",
       "    }\n",
       "\n",
       "    .dataframe thead th {\n",
       "        text-align: right;\n",
       "    }\n",
       "</style>\n",
       "<table border=\"1\" class=\"dataframe\">\n",
       "  <thead>\n",
       "    <tr style=\"text-align: right;\">\n",
       "      <th></th>\n",
       "      <th>year</th>\n",
       "      <th>births_low</th>\n",
       "      <th>avg_weight_low</th>\n",
       "      <th>avg_ges_age_low</th>\n",
       "      <th>births_all</th>\n",
       "      <th>avg_weight_all</th>\n",
       "      <th>avg_ges_age_all</th>\n",
       "      <th>pct_low</th>\n",
       "    </tr>\n",
       "  </thead>\n",
       "  <tbody>\n",
       "    <tr>\n",
       "      <th>count</th>\n",
       "      <td>6094.000000</td>\n",
       "      <td>6094.000000</td>\n",
       "      <td>6094.000000</td>\n",
       "      <td>6094.000000</td>\n",
       "      <td>6094.000000</td>\n",
       "      <td>6094.000000</td>\n",
       "      <td>6094.000000</td>\n",
       "      <td>6094.000000</td>\n",
       "    </tr>\n",
       "    <tr>\n",
       "      <th>mean</th>\n",
       "      <td>2015.556285</td>\n",
       "      <td>314.028224</td>\n",
       "      <td>1989.488184</td>\n",
       "      <td>34.113257</td>\n",
       "      <td>4714.525271</td>\n",
       "      <td>3317.070518</td>\n",
       "      <td>38.647829</td>\n",
       "      <td>0.063820</td>\n",
       "    </tr>\n",
       "    <tr>\n",
       "      <th>std</th>\n",
       "      <td>3.856319</td>\n",
       "      <td>572.645302</td>\n",
       "      <td>62.995391</td>\n",
       "      <td>0.507744</td>\n",
       "      <td>8418.105318</td>\n",
       "      <td>65.225411</td>\n",
       "      <td>0.204450</td>\n",
       "      <td>0.013906</td>\n",
       "    </tr>\n",
       "    <tr>\n",
       "      <th>min</th>\n",
       "      <td>2007.000000</td>\n",
       "      <td>13.000000</td>\n",
       "      <td>1682.821000</td>\n",
       "      <td>31.750000</td>\n",
       "      <td>399.000000</td>\n",
       "      <td>3065.051000</td>\n",
       "      <td>37.726000</td>\n",
       "      <td>0.025000</td>\n",
       "    </tr>\n",
       "    <tr>\n",
       "      <th>25%</th>\n",
       "      <td>2013.000000</td>\n",
       "      <td>80.000000</td>\n",
       "      <td>1950.083250</td>\n",
       "      <td>33.814000</td>\n",
       "      <td>1323.000000</td>\n",
       "      <td>3274.358500</td>\n",
       "      <td>38.522000</td>\n",
       "      <td>0.054000</td>\n",
       "    </tr>\n",
       "    <tr>\n",
       "      <th>50%</th>\n",
       "      <td>2016.000000</td>\n",
       "      <td>137.000000</td>\n",
       "      <td>1989.376000</td>\n",
       "      <td>34.117000</td>\n",
       "      <td>2195.000000</td>\n",
       "      <td>3320.209500</td>\n",
       "      <td>38.647000</td>\n",
       "      <td>0.063000</td>\n",
       "    </tr>\n",
       "    <tr>\n",
       "      <th>75%</th>\n",
       "      <td>2019.000000</td>\n",
       "      <td>325.750000</td>\n",
       "      <td>2028.819500</td>\n",
       "      <td>34.418750</td>\n",
       "      <td>4873.500000</td>\n",
       "      <td>3363.171000</td>\n",
       "      <td>38.783000</td>\n",
       "      <td>0.072000</td>\n",
       "    </tr>\n",
       "    <tr>\n",
       "      <th>max</th>\n",
       "      <td>2021.000000</td>\n",
       "      <td>9406.000000</td>\n",
       "      <td>2269.811000</td>\n",
       "      <td>36.378000</td>\n",
       "      <td>137740.000000</td>\n",
       "      <td>3498.659000</td>\n",
       "      <td>39.289000</td>\n",
       "      <td>0.138000</td>\n",
       "    </tr>\n",
       "  </tbody>\n",
       "</table>\n",
       "</div>"
      ],
      "text/plain": [
       "              year   births_low  avg_weight_low  avg_ges_age_low  \\\n",
       "count  6094.000000  6094.000000     6094.000000      6094.000000   \n",
       "mean   2015.556285   314.028224     1989.488184        34.113257   \n",
       "std       3.856319   572.645302       62.995391         0.507744   \n",
       "min    2007.000000    13.000000     1682.821000        31.750000   \n",
       "25%    2013.000000    80.000000     1950.083250        33.814000   \n",
       "50%    2016.000000   137.000000     1989.376000        34.117000   \n",
       "75%    2019.000000   325.750000     2028.819500        34.418750   \n",
       "max    2021.000000  9406.000000     2269.811000        36.378000   \n",
       "\n",
       "          births_all  avg_weight_all  avg_ges_age_all      pct_low  \n",
       "count    6094.000000     6094.000000      6094.000000  6094.000000  \n",
       "mean     4714.525271     3317.070518        38.647829     0.063820  \n",
       "std      8418.105318       65.225411         0.204450     0.013906  \n",
       "min       399.000000     3065.051000        37.726000     0.025000  \n",
       "25%      1323.000000     3274.358500        38.522000     0.054000  \n",
       "50%      2195.000000     3320.209500        38.647000     0.063000  \n",
       "75%      4873.500000     3363.171000        38.783000     0.072000  \n",
       "max    137740.000000     3498.659000        39.289000     0.138000  "
      ]
     },
     "execution_count": 77,
     "metadata": {},
     "output_type": "execute_result"
    }
   ],
   "source": [
    "births.describe()"
   ]
  },
  {
   "cell_type": "code",
   "execution_count": null,
   "id": "e5d61e4e-9054-45c0-afc1-4b8e4ffa3e8c",
   "metadata": {},
   "outputs": [],
   "source": []
  },
  {
   "cell_type": "code",
   "execution_count": 78,
   "id": "d78202bb-3b9a-42d6-92e9-bfa18babab4f",
   "metadata": {
    "execution": {
     "iopub.execute_input": "2023-01-17T06:03:26.323537Z",
     "iopub.status.busy": "2023-01-17T06:03:26.323386Z",
     "iopub.status.idle": "2023-01-17T06:03:26.327715Z",
     "shell.execute_reply": "2023-01-17T06:03:26.327398Z",
     "shell.execute_reply.started": "2023-01-17T06:03:26.323521Z"
    },
    "tags": []
   },
   "outputs": [
    {
     "data": {
      "text/plain": [
       "2020    563\n",
       "2021    563\n",
       "2016    551\n",
       "2017    551\n",
       "2018    551\n",
       "2019    551\n",
       "2015    493\n",
       "2014    487\n",
       "2013    380\n",
       "2012    341\n",
       "2011    308\n",
       "2010    228\n",
       "2009    183\n",
       "2008    179\n",
       "2007    165\n",
       "Name: year, dtype: int64"
      ]
     },
     "execution_count": 78,
     "metadata": {},
     "output_type": "execute_result"
    }
   ],
   "source": [
    "births['year'].value_counts()"
   ]
  },
  {
   "cell_type": "code",
   "execution_count": 79,
   "id": "c4739d08-618d-42f9-9f85-84e07bb36620",
   "metadata": {
    "execution": {
     "iopub.execute_input": "2023-01-17T06:03:26.328510Z",
     "iopub.status.busy": "2023-01-17T06:03:26.328327Z",
     "iopub.status.idle": "2023-01-17T06:03:26.332772Z",
     "shell.execute_reply": "2023-01-17T06:03:26.332359Z",
     "shell.execute_reply.started": "2023-01-17T06:03:26.328493Z"
    },
    "tags": []
   },
   "outputs": [
    {
     "data": {
      "text/plain": [
       "{'Adams',\n",
       " 'Alameda',\n",
       " 'Albany',\n",
       " 'Allen',\n",
       " 'Arapahoe',\n",
       " 'Ashtabula',\n",
       " 'Bell',\n",
       " 'Bexar',\n",
       " 'Black Hawk',\n",
       " 'Boulder',\n",
       " 'Brazoria',\n",
       " 'Brazos',\n",
       " 'Broome',\n",
       " 'Butler',\n",
       " 'Butte',\n",
       " 'Cameron',\n",
       " 'Cass',\n",
       " 'Chautauqua',\n",
       " 'Chittenden',\n",
       " 'Clark',\n",
       " 'Clermont',\n",
       " 'Collin',\n",
       " 'Columbiana',\n",
       " 'Contra Costa',\n",
       " 'Cuyahoga',\n",
       " 'Dallas',\n",
       " 'Delaware',\n",
       " 'Denton',\n",
       " 'Denver',\n",
       " 'Douglas',\n",
       " 'Dutchess',\n",
       " 'Ector',\n",
       " 'El Dorado',\n",
       " 'El Paso',\n",
       " 'Elkhart',\n",
       " 'Ellis',\n",
       " 'Erie',\n",
       " 'Fairfield',\n",
       " 'Fort Bend',\n",
       " 'Franklin',\n",
       " 'Fresno',\n",
       " 'Galveston',\n",
       " 'Grayson',\n",
       " 'Greene',\n",
       " 'Gregg',\n",
       " 'Hamilton',\n",
       " 'Harris',\n",
       " 'Hendricks',\n",
       " 'Hidalgo',\n",
       " 'Hillsborough',\n",
       " 'Humboldt',\n",
       " 'Imperial',\n",
       " 'Jefferson',\n",
       " 'Johnson',\n",
       " 'Kent',\n",
       " 'Kern',\n",
       " 'Kings',\n",
       " 'La Porte',\n",
       " 'Lake',\n",
       " 'Larimer',\n",
       " 'Licking',\n",
       " 'Linn',\n",
       " 'Lorain',\n",
       " 'Los Angeles',\n",
       " 'Lubbock',\n",
       " 'Lucas',\n",
       " 'Madera',\n",
       " 'Madison',\n",
       " 'Mahoning',\n",
       " 'Marin',\n",
       " 'Marion',\n",
       " 'Mclennan',\n",
       " 'Medina',\n",
       " 'Merced',\n",
       " 'Merrimack',\n",
       " 'Mesa',\n",
       " 'Midland',\n",
       " 'Minnehaha',\n",
       " 'Monroe',\n",
       " 'Monterey',\n",
       " 'Montgomery',\n",
       " 'Napa',\n",
       " 'Nassau',\n",
       " 'New Castle',\n",
       " 'Niagara',\n",
       " 'Nueces',\n",
       " 'Oneida',\n",
       " 'Onondaga',\n",
       " 'Ontario',\n",
       " 'Orange',\n",
       " 'Oswego',\n",
       " 'Placer',\n",
       " 'Polk',\n",
       " 'Portage',\n",
       " 'Porter',\n",
       " 'Potter',\n",
       " 'Pueblo',\n",
       " 'Randall',\n",
       " 'Rensselaer',\n",
       " 'Richland',\n",
       " 'Riverside',\n",
       " 'Rockingham',\n",
       " 'Rockland',\n",
       " 'Sacramento',\n",
       " 'San Bernardino',\n",
       " 'San Diego',\n",
       " 'San Francisco',\n",
       " 'San Joaquin',\n",
       " 'San Luis Obispo',\n",
       " 'San Mateo',\n",
       " 'Santa Barbara',\n",
       " 'Santa Clara',\n",
       " 'Santa Cruz',\n",
       " 'Saratoga',\n",
       " 'Schenectady',\n",
       " 'Scott',\n",
       " 'Sedgwick',\n",
       " 'Shasta',\n",
       " 'Shawnee',\n",
       " 'Smith',\n",
       " 'Solano',\n",
       " 'Sonoma',\n",
       " 'St. Joseph',\n",
       " 'St. Lawrence',\n",
       " 'Stanislaus',\n",
       " 'Stark',\n",
       " 'Strafford',\n",
       " 'Suffolk',\n",
       " 'Summit',\n",
       " 'Sussex',\n",
       " 'Tarrant',\n",
       " 'Taylor',\n",
       " 'Tippecanoe',\n",
       " 'Tom Green',\n",
       " 'Travis',\n",
       " 'Trumbull',\n",
       " 'Tulare',\n",
       " 'Ulster',\n",
       " 'Vanderburgh',\n",
       " 'Ventura',\n",
       " 'Vigo',\n",
       " 'Warren',\n",
       " 'Wayne',\n",
       " 'Webb',\n",
       " 'Weld',\n",
       " 'Westchester',\n",
       " 'Wichita',\n",
       " 'Williamson',\n",
       " 'Wood',\n",
       " 'Woodbury',\n",
       " 'Wyandotte',\n",
       " 'Yolo'}"
      ]
     },
     "execution_count": 79,
     "metadata": {},
     "output_type": "execute_result"
    }
   ],
   "source": [
    "set(births[births['year'] == 2007]['county'])"
   ]
  },
  {
   "cell_type": "code",
   "execution_count": 80,
   "id": "a74e372b-e450-4e27-ad4e-a3b0fce9a72a",
   "metadata": {
    "execution": {
     "iopub.execute_input": "2023-01-17T06:03:26.333554Z",
     "iopub.status.busy": "2023-01-17T06:03:26.333443Z",
     "iopub.status.idle": "2023-01-17T06:03:26.336428Z",
     "shell.execute_reply": "2023-01-17T06:03:26.335998Z",
     "shell.execute_reply.started": "2023-01-17T06:03:26.333545Z"
    },
    "tags": []
   },
   "outputs": [],
   "source": [
    "# how many counties from the aqi are also in the cdc data\n",
    "# len(set(aqi['county']).intersection(set(cdc['County'])))"
   ]
  },
  {
   "cell_type": "code",
   "execution_count": 81,
   "id": "d96533b1-7a23-42f5-a49a-f11bf0538f6b",
   "metadata": {
    "execution": {
     "iopub.execute_input": "2023-01-17T06:03:26.337092Z",
     "iopub.status.busy": "2023-01-17T06:03:26.336940Z",
     "iopub.status.idle": "2023-01-17T06:03:26.339014Z",
     "shell.execute_reply": "2023-01-17T06:03:26.338664Z",
     "shell.execute_reply.started": "2023-01-17T06:03:26.337082Z"
    },
    "tags": []
   },
   "outputs": [],
   "source": [
    "# what are the differences\n",
    "#set(aqi['county']).difference(set(cdc['County']))"
   ]
  },
  {
   "cell_type": "markdown",
   "id": "fa844c49-fc68-4a0a-985e-9d995d900e5f",
   "metadata": {
    "tags": []
   },
   "source": [
    "### EPA API Information\n",
    "\n",
    "Look to see if getting more granular data from the API is feasible\n",
    "\n",
    "Your user ID is your email address: mrhurless@gmail.com \n",
    "Your key is: rubymouse94 "
   ]
  },
  {
   "cell_type": "code",
   "execution_count": 82,
   "id": "537762f0-5dee-4bec-ae0c-2f620cc624bc",
   "metadata": {
    "execution": {
     "iopub.execute_input": "2023-01-17T06:03:26.339580Z",
     "iopub.status.busy": "2023-01-17T06:03:26.339473Z",
     "iopub.status.idle": "2023-01-17T06:03:26.341454Z",
     "shell.execute_reply": "2023-01-17T06:03:26.341163Z",
     "shell.execute_reply.started": "2023-01-17T06:03:26.339571Z"
    }
   },
   "outputs": [],
   "source": [
    "# import requests"
   ]
  },
  {
   "cell_type": "code",
   "execution_count": 83,
   "id": "419d546d-5f0d-40d9-9c8d-15d9bdf31905",
   "metadata": {
    "execution": {
     "iopub.execute_input": "2023-01-17T06:03:26.342087Z",
     "iopub.status.busy": "2023-01-17T06:03:26.341972Z",
     "iopub.status.idle": "2023-01-17T06:03:26.344224Z",
     "shell.execute_reply": "2023-01-17T06:03:26.343904Z",
     "shell.execute_reply.started": "2023-01-17T06:03:26.342078Z"
    },
    "tags": []
   },
   "outputs": [],
   "source": [
    "# email = 'mrhurless@gmail.com'\n",
    "# key = 'rubymouse94'\n",
    "\n",
    "# url = f'https://aqs.epa.gov/data/api/list/parametersByClass?email={email}&key={key}&pc=CRITERIA'\n",
    "\n",
    "# res = requests.get(url)\n",
    "\n",
    "# res.status_code"
   ]
  },
  {
   "cell_type": "code",
   "execution_count": 84,
   "id": "2f8a816e-6c4a-42af-be96-827413586eac",
   "metadata": {
    "execution": {
     "iopub.execute_input": "2023-01-17T06:03:26.344853Z",
     "iopub.status.busy": "2023-01-17T06:03:26.344750Z",
     "iopub.status.idle": "2023-01-17T06:03:26.346846Z",
     "shell.execute_reply": "2023-01-17T06:03:26.346556Z",
     "shell.execute_reply.started": "2023-01-17T06:03:26.344844Z"
    }
   },
   "outputs": [],
   "source": [
    "# # from https://stackoverflow.com/questions/71603314/ssl-error-unsafe-legacy-renegotiation-disabled\n",
    "\n",
    "# import urllib3\n",
    "# import ssl\n",
    "\n",
    "# class CustomHttpAdapter (requests.adapters.HTTPAdapter):\n",
    "#     # \"Transport adapter\" that allows us to use custom ssl_context.\n",
    "\n",
    "#     def __init__(self, ssl_context=None, **kwargs):\n",
    "#         self.ssl_context = ssl_context\n",
    "#         super().__init__(**kwargs)\n",
    "\n",
    "#     def init_poolmanager(self, connections, maxsize, block=False):\n",
    "#         self.poolmanager = urllib3.poolmanager.PoolManager(\n",
    "#             num_pools=connections, maxsize=maxsize,\n",
    "#             block=block, ssl_context=self.ssl_context)\n",
    "\n",
    "\n",
    "# def get_legacy_session():\n",
    "#     ctx = ssl.create_default_context(ssl.Purpose.SERVER_AUTH)\n",
    "#     ctx.options |= 0x4  # OP_LEGACY_SERVER_CONNECT\n",
    "#     session = requests.session()\n",
    "#     session.mount('https://', CustomHttpAdapter(ctx))\n",
    "#     return session"
   ]
  },
  {
   "cell_type": "code",
   "execution_count": 85,
   "id": "9335456c-877a-4198-8087-ceadc9e35f81",
   "metadata": {
    "execution": {
     "iopub.execute_input": "2023-01-17T06:03:26.347570Z",
     "iopub.status.busy": "2023-01-17T06:03:26.347424Z",
     "iopub.status.idle": "2023-01-17T06:03:26.349396Z",
     "shell.execute_reply": "2023-01-17T06:03:26.349064Z",
     "shell.execute_reply.started": "2023-01-17T06:03:26.347560Z"
    }
   },
   "outputs": [],
   "source": [
    "# res = get_legacy_session().get(url)"
   ]
  },
  {
   "cell_type": "code",
   "execution_count": null,
   "id": "d3bcf3ad-2813-4943-ab7f-ab794892de9f",
   "metadata": {},
   "outputs": [],
   "source": []
  },
  {
   "cell_type": "code",
   "execution_count": 86,
   "id": "85467adb-d25e-4205-a9b7-d25e66ec045d",
   "metadata": {
    "execution": {
     "iopub.execute_input": "2023-01-17T06:03:26.350230Z",
     "iopub.status.busy": "2023-01-17T06:03:26.350036Z",
     "iopub.status.idle": "2023-01-17T06:03:26.354736Z",
     "shell.execute_reply": "2023-01-17T06:03:26.354346Z",
     "shell.execute_reply.started": "2023-01-17T06:03:26.350210Z"
    },
    "tags": []
   },
   "outputs": [],
   "source": [
    "def get_aqi():\n",
    "    creds = ('mhurless@me.com', '0n3L0v3#')\n",
    "    email = 'mrhurless@gmail.com'\n",
    "    key = 'rubymouse94'\n",
    "    all_posts = []\n",
    "    \n",
    "    url = \"https://support.brightsign.biz/api/v2/community/posts\"\n",
    "    \n",
    "    res = requests.get(url, auth=creds)\n",
    "    \n",
    "    # get data other than posts data\n",
    "    metadata = {\n",
    "                key: value for key, value in res.json().items() \n",
    "                if key != 'posts'\n",
    "            }\n",
    "    \n",
    "    last_page = metadata['page_count']\n",
    "    current_page = metadata['page']\n",
    "    \n",
    "    #count = 0 #keep track of posts # don't think this is needed with this\n",
    "    # approach\n",
    "\n",
    "    # goal is to get posts from all pages, so we'll check if we've reached \n",
    "    # the last page, but will also put in a catch for the rate limit as \n",
    "    # mentioned by the API docs\n",
    "    \n",
    "    while current_page <= last_page:\n",
    "        res = requests.get(url, auth=creds)\n",
    "\n",
    "        if res.status_code == 200:\n",
    "            posts = pd.DataFrame(res.json()['posts'])\n",
    "            metadata = {\n",
    "                key: value for key, value in res.json().items() \n",
    "                if key != 'posts'\n",
    "            }\n",
    "            \n",
    "            # update current page\n",
    "            current_page = metadata['page']\n",
    "            \n",
    "            # update URL to pull posts from next page\n",
    "            url = metadata['next_page']\n",
    "\n",
    "            all_posts.append(posts)\n",
    "            \n",
    "            #sleep(5)\n",
    "\n",
    "            if metadata['page'] == metadata['page_count']: \n",
    "                break #break loop if last page is reached\n",
    "\n",
    "            #get sequential posts from most recent to least    \n",
    "            #params['before'] = posts['created_utc'].min()\n",
    "        elif res.status_code == 429:\n",
    "            sleep(res.headers['retry-after'])\n",
    "        else:\n",
    "            print(f'status: {res.status_code}')  \n",
    "    print(f'posts retrieved from API: {len(all_posts)}')\n",
    "\n",
    "    return pd.concat(all_posts)"
   ]
  }
 ],
 "metadata": {
  "kernelspec": {
   "display_name": "Python 3 (ipykernel)",
   "language": "python",
   "name": "python3"
  },
  "language_info": {
   "codemirror_mode": {
    "name": "ipython",
    "version": 3
   },
   "file_extension": ".py",
   "mimetype": "text/x-python",
   "name": "python",
   "nbconvert_exporter": "python",
   "pygments_lexer": "ipython3",
   "version": "3.9.15"
  }
 },
 "nbformat": 4,
 "nbformat_minor": 5
}
