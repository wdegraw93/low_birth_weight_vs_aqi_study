{
 "cells": [
  {
   "cell_type": "markdown",
   "id": "f4a0788a-c9a3-4a31-a054-92f53f58ee42",
   "metadata": {},
   "source": [
    "# Modeling"
   ]
  },
  {
   "cell_type": "markdown",
   "id": "64a77e8b-6221-4ba9-b49f-ed6a6dbd2e6f",
   "metadata": {},
   "source": [
    "## Imports"
   ]
  },
  {
   "cell_type": "code",
   "execution_count": 2,
   "id": "b671fa12-4c0c-46a8-b520-b3f58634ea0e",
   "metadata": {
    "tags": []
   },
   "outputs": [
    {
     "name": "stderr",
     "output_type": "stream",
     "text": [
      "2023-01-20 01:18:57.483610: I tensorflow/core/platform/cpu_feature_guard.cc:193] This TensorFlow binary is optimized with oneAPI Deep Neural Network Library (oneDNN) to use the following CPU instructions in performance-critical operations:  AVX2 FMA\n",
      "To enable them in other operations, rebuild TensorFlow with the appropriate compiler flags.\n"
     ]
    }
   ],
   "source": [
    "import pandas as pd\n",
    "import numpy as np\n",
    "import matplotlib.pyplot as plt\n",
    "\n",
    "from sklearn.preprocessing import StandardScaler\n",
    "from sklearn.metrics import (ConfusionMatrixDisplay,\n",
    "    classification_report, RocCurveDisplay)\n",
    "from sklearn.ensemble import RandomForestClassifier\n",
    "from sklearn.model_selection import (cross_val_score, GridSearchCV, \n",
    "                                     train_test_split)\n",
    "from sklearn.pipeline import Pipeline\n",
    "\n",
    "from tensorflow.keras.models import Sequential\n",
    "from tensorflow.keras.layers import Dense, Dropout\n",
    "from tensorflow.keras.regularizers import l2\n",
    "from tensorflow.keras.optimizers import Adam\n",
    "from tensorflow.keras.activations import elu\n",
    "from tensorflow.keras.optimizers.experimental import Adagrad\n",
    "from tensorflow.keras.callbacks import ModelCheckpoint\n",
    "\n",
    "from tensorflow.random import set_seed\n",
    "\n",
    "# verify usage of all libraries below\n",
    "# import seaborn as sns"
   ]
  },
  {
   "cell_type": "markdown",
   "id": "71b06629-f415-40a4-a14e-480357555a7f",
   "metadata": {
    "tags": []
   },
   "source": [
    "## Read Cleaned Data\n",
    "\n",
    "From the data cleaning notebook, there are two different files:\n",
    "1. `annual_aqi_clean.csv` is annual summary data from the EPA's AirData system\n",
    "2. `aqs_by_county_clean.csv` is sensor data that was collected via the EPA's AQS API\n",
    "\n",
    "The annual summary data will contain more information on the number of days in various areas such as days with AQI measureed, good, moderate, unhealthy, very unhealthy, and hazardous air quality.  There are also columns concerning specific pollutant measurements like pm2.5, pm10, and ozone.\n",
    "\n",
    "The AQS data is also annual summary data, but on a measured pollutant basis.  So it contains values for measurements of specific pollutants in counties for the year."
   ]
  },
  {
   "cell_type": "code",
   "execution_count": 3,
   "id": "3be08807-c299-466b-9e5d-0a9d6da54984",
   "metadata": {
    "tags": []
   },
   "outputs": [],
   "source": [
    "# Annual AQI summary data\n",
    "aqi = pd.read_csv('../data/annual_aqi_clean.csv')\n",
    "\n",
    "# AQS sensor data collected via API\n",
    "aqs = pd.read_csv('../data/aqs_by_county_clean.csv')"
   ]
  },
  {
   "cell_type": "code",
   "execution_count": 4,
   "id": "a8d62931-33df-4b0a-b1b8-d8f3216b4162",
   "metadata": {
    "tags": []
   },
   "outputs": [
    {
     "data": {
      "text/plain": [
       "Index(['state', 'county', 'year', 'days_with_aqi', 'good_days', 'mod_days',\n",
       "       'uh_sens_days', 'uh_days', 'v_uh_days', 'haz_days', 'max_aqi',\n",
       "       '90_per_aqi', 'median_aqi', 'days_co', 'days_no2', 'days_ozone',\n",
       "       'days_pm2.5', 'days_pm10', 'births_low', 'avg_weight_low',\n",
       "       'avg_ges_age_low', 'births_all', 'avg_weight_all', 'avg_ges_age_all',\n",
       "       'pct_low', 'high_rate'],\n",
       "      dtype='object')"
      ]
     },
     "execution_count": 4,
     "metadata": {},
     "output_type": "execute_result"
    }
   ],
   "source": [
    "aqi.columns"
   ]
  },
  {
   "cell_type": "markdown",
   "id": "f3ca6efa-92e7-456e-b64f-76d91114ed9b",
   "metadata": {},
   "source": [
    "### Filter Data\n",
    "\n",
    "The EPA generally uses 75% as a number of observations to ensure relevancy.  So we'll filter the aqi data to only look at records where `days_with_aqi` is greater than 75% of the days in a year."
   ]
  },
  {
   "cell_type": "code",
   "execution_count": 4,
   "id": "c917e653-dcb8-4e22-be95-d0e9bda0ef0f",
   "metadata": {
    "execution": {
     "iopub.execute_input": "2023-01-20T06:30:37.932842Z",
     "iopub.status.busy": "2023-01-20T06:30:37.931505Z",
     "iopub.status.idle": "2023-01-20T06:30:37.943320Z",
     "shell.execute_reply": "2023-01-20T06:30:37.942397Z",
     "shell.execute_reply.started": "2023-01-20T06:30:37.932781Z"
    },
    "tags": []
   },
   "outputs": [],
   "source": [
    "aqi = aqi[aqi['days_with_aqi'] > (365 * .75)]"
   ]
  },
  {
   "cell_type": "markdown",
   "id": "f10ef5a7-c1a5-4257-a733-f4659d90bcca",
   "metadata": {},
   "source": [
    "## Annual AQI Modeling"
   ]
  },
  {
   "cell_type": "markdown",
   "id": "03673c66-3bc5-40bb-b096-987eb110e5d6",
   "metadata": {},
   "source": [
    "In this section, various models will be checked to see if it is viable to create a model based on the annual AQI data for classification of a \"high_rate\" of low birth weights for a county based on the previous year's AQI data.\n",
    "\n",
    "\n",
    "All of the various day counts, with the exception of the `days_with_aqi` will be included.  Days with AQI only indicates how many days air quality was measured and doesn't indicate any function of air quality."
   ]
  },
  {
   "cell_type": "markdown",
   "id": "e6894557-e3bd-4b00-986f-4c3d7890fce6",
   "metadata": {},
   "source": [
    "### AQI Neural Net Classification\n",
    "\n",
    "A densely connected neural net will be built for classification to see if this seems like it might be able to outperform baseline."
   ]
  },
  {
   "cell_type": "markdown",
   "id": "81bb381c-a0b6-4dec-b9fb-01f26f710fca",
   "metadata": {},
   "source": [
    "#### Define X, y, train/test split"
   ]
  },
  {
   "cell_type": "code",
   "execution_count": 5,
   "id": "bcabe112-e4d8-4200-ae1f-7310bdc741e2",
   "metadata": {
    "tags": []
   },
   "outputs": [],
   "source": [
    "# define features (X) and target (y)\n",
    "X_aqi = aqi[['good_days', 'mod_days','uh_sens_days', 'uh_days', \n",
    "         'v_uh_days', 'haz_days', 'max_aqi', '90_per_aqi', \n",
    "         'median_aqi', 'days_co', 'days_no2', 'days_ozone',\n",
    "         'days_pm2.5', 'days_pm10']]\n",
    "\n",
    "y_aqi = aqi['high_rate']"
   ]
  },
  {
   "cell_type": "markdown",
   "id": "1d25e050-ec73-4f8d-ba0f-c1923dcbaade",
   "metadata": {
    "execution": {
     "iopub.execute_input": "2023-01-20T06:32:46.633734Z",
     "iopub.status.busy": "2023-01-20T06:32:46.633090Z",
     "iopub.status.idle": "2023-01-20T06:32:46.647844Z",
     "shell.execute_reply": "2023-01-20T06:32:46.645765Z",
     "shell.execute_reply.started": "2023-01-20T06:32:46.633705Z"
    }
   },
   "source": [
    "Train test split the AQI data"
   ]
  },
  {
   "cell_type": "code",
   "execution_count": 6,
   "id": "47efc53c-a22a-401d-8c57-6f257b9fa129",
   "metadata": {
    "tags": []
   },
   "outputs": [
    {
     "data": {
      "text/plain": [
       "((3708, 14), (927, 14), (3708,), (927,))"
      ]
     },
     "execution_count": 6,
     "metadata": {},
     "output_type": "execute_result"
    }
   ],
   "source": [
    "X_aqi_train, X_aqi_test, y_aqi_train, y_aqi_test = \\\n",
    "train_test_split(X_aqi, y_aqi, \n",
    "                 test_size=.2,\n",
    "                 stratify=y_aqi,\n",
    "                 random_state=5)\n",
    "\n",
    "X_aqi_train.shape, X_aqi_test.shape, y_aqi_train.shape, y_aqi_test.shape"
   ]
  },
  {
   "cell_type": "markdown",
   "id": "f9029850-9aae-4da3-8249-eacb6b15f32e",
   "metadata": {},
   "source": [
    "#### Check Class Balance / Baseline\n",
    "Check the class balance across the data set for baseline:"
   ]
  },
  {
   "cell_type": "code",
   "execution_count": 7,
   "id": "32d45640-b9aa-47d0-86d2-9808e1f1d1a0",
   "metadata": {
    "tags": []
   },
   "outputs": [
    {
     "data": {
      "text/plain": [
       "0    0.674002\n",
       "1    0.325998\n",
       "Name: high_rate, dtype: float64"
      ]
     },
     "execution_count": 7,
     "metadata": {},
     "output_type": "execute_result"
    }
   ],
   "source": [
    "y_aqi.value_counts(normalize=True)"
   ]
  },
  {
   "cell_type": "markdown",
   "id": "6fab64c8-518d-4399-9f87-0b41edc9edfe",
   "metadata": {},
   "source": [
    "Check the class balance of both the train and test splits to ensure the stratification worked."
   ]
  },
  {
   "cell_type": "code",
   "execution_count": 8,
   "id": "08c2378f-42ce-4c1e-95ed-e6d4f7ee3566",
   "metadata": {
    "tags": []
   },
   "outputs": [
    {
     "name": "stdout",
     "output_type": "stream",
     "text": [
      "Train split:\n",
      "0    0.673948\n",
      "1    0.326052\n",
      "Name: high_rate, dtype: float64\n",
      "\n",
      "Test split:\n",
      "0    0.674218\n",
      "1    0.325782\n",
      "Name: high_rate, dtype: float64\n"
     ]
    }
   ],
   "source": [
    "print(f'Train split:\\n{y_aqi_train.value_counts(normalize=True)}\\n')\n",
    "print(f'Test split:\\n{y_aqi_test.value_counts(normalize=True)}')"
   ]
  },
  {
   "cell_type": "markdown",
   "id": "bc2d342a-3246-4828-97b5-c8409a49fcb5",
   "metadata": {},
   "source": [
    "Although the classes are very imbalanced, the stratification looks good.\n",
    "\n",
    "**Baseline = 0.902**"
   ]
  },
  {
   "cell_type": "markdown",
   "id": "a37a2582-9acc-48af-af65-9c66b32cb91c",
   "metadata": {},
   "source": [
    "#### Scale Data\n",
    "Standardize the data to prepare for Neural Net model."
   ]
  },
  {
   "cell_type": "code",
   "execution_count": 9,
   "id": "b560a89b-6bc3-4ab2-872b-e5f702935f9b",
   "metadata": {
    "tags": []
   },
   "outputs": [],
   "source": [
    "# instantiate standardscaler\n",
    "ss = StandardScaler()\n",
    "\n",
    "# fit_transform X train\n",
    "X_aqi_train_ss = ss.fit_transform(X_aqi_train)\n",
    "\n",
    "# transform test\n",
    "X_aqi_test_ss = ss.transform(X_aqi_test)"
   ]
  },
  {
   "cell_type": "markdown",
   "id": "b181ace1-db31-49c3-b99e-6105af3a39fc",
   "metadata": {},
   "source": [
    "#### Build Model(s)"
   ]
  },
  {
   "cell_type": "code",
   "execution_count": 38,
   "id": "2aac1258-2600-4dd1-a74b-cc57c8d53828",
   "metadata": {
    "execution": {
     "iopub.execute_input": "2023-01-20T07:43:27.379113Z",
     "iopub.status.busy": "2023-01-20T07:43:27.376987Z",
     "iopub.status.idle": "2023-01-20T07:43:27.464345Z",
     "shell.execute_reply": "2023-01-20T07:43:27.463984Z",
     "shell.execute_reply.started": "2023-01-20T07:43:27.379050Z"
    },
    "tags": []
   },
   "outputs": [],
   "source": [
    "# # aqi_model_01\n",
    "# set_seed(42)\n",
    "\n",
    "# # Winston had found this activation performed better than ReLu\n",
    "# # so trying it here\n",
    "# custom_elu = lambda x: elu(x, alpha=1e-3)\n",
    "\n",
    "# best_model_saver = ModelCheckpoint(filepath='data/models/aqi_model',\n",
    "#                                    monitor='val_accuracy',\n",
    "#                                    save_best_only=True,\n",
    "#                                    initial_value_threshold=.90,\n",
    "#                                    save_weights_only=True,\n",
    "#                                    mode='max')\n",
    "\n",
    "\n",
    "# # build the neural network topology\n",
    "# model = Sequential()\n",
    "\n",
    "# # add hidden layers\n",
    "# model.add(Dense(16, \n",
    "#                 input_dim=X_aqi_train_ss.shape[1], \n",
    "#                 activation=custom_elu,\n",
    "#                 kernel_regularizer=l2(0.001)\n",
    "#                )\n",
    "#          )\n",
    "# model.add(Dropout(0.2))\n",
    "# model.add(Dense(60, activation=custom_elu))\n",
    "# model.add(Dropout(0.2))\n",
    "# model.add(Dense(120, activation=custom_elu))\n",
    "# model.add(Dropout(0.2))\n",
    "# model.add(Dense(60, activation=custom_elu))\n",
    "\n",
    "# # output layer with sigmoid activation for binary classification\n",
    "# model.add(Dense(1, activation='sigmoid'))\n",
    "\n",
    "# # compile model using adam optimizer and binary crossentropy for loss\n",
    "# model.compile(optimizer='adam', \n",
    "#               loss='bce', \n",
    "#               metrics=['accuracy'])\n",
    "\n",
    "# aqi_model_02 relplace elu with relu\n",
    "set_seed(42)\n",
    "\n",
    "# Winston had found this activation performed better than ReLu\n",
    "# so trying it here\n",
    "# custom_elu = lambda x: elu(x, alpha=1e-3)\n",
    "\n",
    "best_model_saver = ModelCheckpoint(filepath='data/models/aqi_model',\n",
    "                                   monitor='val_accuracy',\n",
    "                                   save_best_only=True,\n",
    "                                   initial_value_threshold=.90,\n",
    "                                   save_weights_only=True,\n",
    "                                   mode='max')\n",
    "\n",
    "\n",
    "# build the neural network topology\n",
    "model = Sequential()\n",
    "\n",
    "# add hidden layers\n",
    "model.add(Dense(16, \n",
    "                input_dim=X_aqi_train_ss.shape[1], \n",
    "                activation='relu',\n",
    "                kernel_regularizer=l2(0.001)\n",
    "               )\n",
    "         )\n",
    "model.add(Dropout(0.2))\n",
    "model.add(Dense(60, activation='relu'))\n",
    "model.add(Dropout(0.2))\n",
    "model.add(Dense(120, activation='relu'))\n",
    "model.add(Dropout(0.2))\n",
    "model.add(Dense(60, activation='relu'))\n",
    "\n",
    "# output layer with sigmoid activation for binary classification\n",
    "model.add(Dense(1, activation='sigmoid'))\n",
    "\n",
    "# compile model using adam optimizer and binary crossentropy for loss\n",
    "model.compile(optimizer='adam', \n",
    "              loss='bce', \n",
    "              metrics=['accuracy'])"
   ]
  },
  {
   "cell_type": "code",
   "execution_count": 56,
   "id": "dfbc0be7-4ebc-462e-8e7f-9eef3cb3f922",
   "metadata": {
    "execution": {
     "iopub.execute_input": "2023-01-20T07:47:26.205633Z",
     "iopub.status.busy": "2023-01-20T07:47:26.204653Z",
     "iopub.status.idle": "2023-01-20T07:47:41.487369Z",
     "shell.execute_reply": "2023-01-20T07:47:41.485007Z",
     "shell.execute_reply.started": "2023-01-20T07:47:26.205579Z"
    },
    "tags": []
   },
   "outputs": [],
   "source": [
    "# fit the model and save return as history\n",
    "aqi_nn_history = model.fit(X_aqi_train_ss, \n",
    "                           y_aqi_train,\n",
    "                           batch_size=16, \n",
    "                           epochs=100,\n",
    "                           callbacks=[best_model_saver],\n",
    "                           validation_data=(X_aqi_test_ss, y_aqi_test),\n",
    "                           verbose=0 # to cut down on notebook length\n",
    "                          )"
   ]
  },
  {
   "cell_type": "markdown",
   "id": "ae2d22e1-3053-49bd-a7fb-35d4fbb5ee5c",
   "metadata": {},
   "source": [
    "#### Plot Accuracy and Loss"
   ]
  },
  {
   "cell_type": "code",
   "execution_count": 29,
   "id": "5196f683-2dd9-4695-9365-0bdb48475402",
   "metadata": {
    "execution": {
     "iopub.execute_input": "2023-01-20T06:55:21.137928Z",
     "iopub.status.busy": "2023-01-20T06:55:21.137261Z",
     "iopub.status.idle": "2023-01-20T06:55:21.254222Z",
     "shell.execute_reply": "2023-01-20T06:55:21.253878Z",
     "shell.execute_reply.started": "2023-01-20T06:55:21.137896Z"
    },
    "tags": []
   },
   "outputs": [
    {
     "data": {
      "image/png": "[encoded data removed]",
      "text/plain": [
       "<Figure size 640x480 with 1 Axes>"
      ]
     },
     "metadata": {},
     "output_type": "display_data"
    }
   ],
   "source": [
    "plt.plot(aqi_nn_history.history['accuracy'], label='Train Accuracy')\n",
    "plt.plot(aqi_nn_history.history['val_accuracy'], label='Validation Accuracy')\n",
    "plt.ylabel('Accuracy')\n",
    "plt.xlabel('Epochs')\n",
    "plt.legend();"
   ]
  },
  {
   "cell_type": "code",
   "execution_count": 30,
   "id": "43a42560-480c-45a0-a734-93729cdef908",
   "metadata": {
    "execution": {
     "iopub.execute_input": "2023-01-20T06:55:27.487900Z",
     "iopub.status.busy": "2023-01-20T06:55:27.487179Z",
     "iopub.status.idle": "2023-01-20T06:55:27.578652Z",
     "shell.execute_reply": "2023-01-20T06:55:27.578180Z",
     "shell.execute_reply.started": "2023-01-20T06:55:27.487867Z"
    },
    "tags": []
   },
   "outputs": [
    {
     "data": {
      "image/png": "[encoded data removed]",
      "text/plain": [
       "<Figure size 640x480 with 1 Axes>"
      ]
     },
     "metadata": {},
     "output_type": "display_data"
    }
   ],
   "source": [
    "plt.plot(aqi_nn_history.history['loss'], label='Train')\n",
    "plt.plot(aqi_nn_history.history['val_loss'], label='Test')\n",
    "plt.xlabel('Epoch')\n",
    "plt.ylabel('Loss')\n",
    "plt.legend();"
   ]
  },
  {
   "cell_type": "code",
   "execution_count": null,
   "id": "69c364f5-d0e9-4758-9bc5-0e78d2ba4df9",
   "metadata": {},
   "outputs": [],
   "source": []
  },
  {
   "cell_type": "markdown",
   "id": "56ad4fb7-f85a-4c10-b5ed-ccabfb00fc6f",
   "metadata": {},
   "source": [
    "### AQI Random Forest Classification"
   ]
  },
  {
   "cell_type": "markdown",
   "id": "8cf69656-85e2-4d0c-bf9a-279bf50706a0",
   "metadata": {},
   "source": [
    "#### AQI Data"
   ]
  },
  {
   "cell_type": "code",
   "execution_count": 54,
   "id": "5d894172-7959-46a0-99d7-05292fd05f84",
   "metadata": {
    "execution": {
     "iopub.execute_input": "2023-01-19T19:12:09.689855Z",
     "iopub.status.busy": "2023-01-19T19:12:09.688939Z",
     "iopub.status.idle": "2023-01-19T19:12:09.700937Z",
     "shell.execute_reply": "2023-01-19T19:12:09.699566Z",
     "shell.execute_reply.started": "2023-01-19T19:12:09.689809Z"
    }
   },
   "outputs": [],
   "source": [
    "rand_forest = RandomForestClassifier()"
   ]
  },
  {
   "cell_type": "code",
   "execution_count": 55,
   "id": "c240db37-8c72-4dba-a27f-25326fa911e5",
   "metadata": {
    "execution": {
     "iopub.execute_input": "2023-01-19T19:12:20.743751Z",
     "iopub.status.busy": "2023-01-19T19:12:20.741267Z",
     "iopub.status.idle": "2023-01-19T19:12:21.034630Z",
     "shell.execute_reply": "2023-01-19T19:12:21.034361Z",
     "shell.execute_reply.started": "2023-01-19T19:12:20.743356Z"
    }
   },
   "outputs": [
    {
     "data": {
      "text/html": [
       "<style>#sk-container-id-1 {color: black;background-color: white;}#sk-container-id-1 pre{padding: 0;}#sk-container-id-1 div.sk-toggleable {background-color: white;}#sk-container-id-1 label.sk-toggleable__label {cursor: pointer;display: block;width: 100%;margin-bottom: 0;padding: 0.3em;box-sizing: border-box;text-align: center;}#sk-container-id-1 label.sk-toggleable__label-arrow:before {content: \"▸\";float: left;margin-right: 0.25em;color: #696969;}#sk-container-id-1 label.sk-toggleable__label-arrow:hover:before {color: black;}#sk-container-id-1 div.sk-estimator:hover label.sk-toggleable__label-arrow:before {color: black;}#sk-container-id-1 div.sk-toggleable__content {max-height: 0;max-width: 0;overflow: hidden;text-align: left;background-color: #f0f8ff;}#sk-container-id-1 div.sk-toggleable__content pre {margin: 0.2em;color: black;border-radius: 0.25em;background-color: #f0f8ff;}#sk-container-id-1 input.sk-toggleable__control:checked~div.sk-toggleable__content {max-height: 200px;max-width: 100%;overflow: auto;}#sk-container-id-1 input.sk-toggleable__control:checked~label.sk-toggleable__label-arrow:before {content: \"▾\";}#sk-container-id-1 div.sk-estimator input.sk-toggleable__control:checked~label.sk-toggleable__label {background-color: #d4ebff;}#sk-container-id-1 div.sk-label input.sk-toggleable__control:checked~label.sk-toggleable__label {background-color: #d4ebff;}#sk-container-id-1 input.sk-hidden--visually {border: 0;clip: rect(1px 1px 1px 1px);clip: rect(1px, 1px, 1px, 1px);height: 1px;margin: -1px;overflow: hidden;padding: 0;position: absolute;width: 1px;}#sk-container-id-1 div.sk-estimator {font-family: monospace;background-color: #f0f8ff;border: 1px dotted black;border-radius: 0.25em;box-sizing: border-box;margin-bottom: 0.5em;}#sk-container-id-1 div.sk-estimator:hover {background-color: #d4ebff;}#sk-container-id-1 div.sk-parallel-item::after {content: \"\";width: 100%;border-bottom: 1px solid gray;flex-grow: 1;}#sk-container-id-1 div.sk-label:hover label.sk-toggleable__label {background-color: #d4ebff;}#sk-container-id-1 div.sk-serial::before {content: \"\";position: absolute;border-left: 1px solid gray;box-sizing: border-box;top: 0;bottom: 0;left: 50%;z-index: 0;}#sk-container-id-1 div.sk-serial {display: flex;flex-direction: column;align-items: center;background-color: white;padding-right: 0.2em;padding-left: 0.2em;position: relative;}#sk-container-id-1 div.sk-item {position: relative;z-index: 1;}#sk-container-id-1 div.sk-parallel {display: flex;align-items: stretch;justify-content: center;background-color: white;position: relative;}#sk-container-id-1 div.sk-item::before, #sk-container-id-1 div.sk-parallel-item::before {content: \"\";position: absolute;border-left: 1px solid gray;box-sizing: border-box;top: 0;bottom: 0;left: 50%;z-index: -1;}#sk-container-id-1 div.sk-parallel-item {display: flex;flex-direction: column;z-index: 1;position: relative;background-color: white;}#sk-container-id-1 div.sk-parallel-item:first-child::after {align-self: flex-end;width: 50%;}#sk-container-id-1 div.sk-parallel-item:last-child::after {align-self: flex-start;width: 50%;}#sk-container-id-1 div.sk-parallel-item:only-child::after {width: 0;}#sk-container-id-1 div.sk-dashed-wrapped {border: 1px dashed gray;margin: 0 0.4em 0.5em 0.4em;box-sizing: border-box;padding-bottom: 0.4em;background-color: white;}#sk-container-id-1 div.sk-label label {font-family: monospace;font-weight: bold;display: inline-block;line-height: 1.2em;}#sk-container-id-1 div.sk-label-container {text-align: center;}#sk-container-id-1 div.sk-container {/* jupyter's `normalize.less` sets `[hidden] { display: none; }` but bootstrap.min.css set `[hidden] { display: none !important; }` so we also need the `!important` here to be able to override the default hidden behavior on the sphinx rendered scikit-learn.org. See: https://github.com/scikit-learn/scikit-learn/issues/21755 */display: inline-block !important;position: relative;}#sk-container-id-1 div.sk-text-repr-fallback {display: none;}</style><div id=\"sk-container-id-1\" class=\"sk-top-container\"><div class=\"sk-text-repr-fallback\"><pre>RandomForestClassifier()</pre><b>In a Jupyter environment, please rerun this cell to show the HTML representation or trust the notebook. <br />On GitHub, the HTML representation is unable to render, please try loading this page with nbviewer.org.</b></div><div class=\"sk-container\" hidden><div class=\"sk-item\"><div class=\"sk-estimator sk-toggleable\"><input class=\"sk-toggleable__control sk-hidden--visually\" id=\"sk-estimator-id-1\" type=\"checkbox\" checked><label for=\"sk-estimator-id-1\" class=\"sk-toggleable__label sk-toggleable__label-arrow\">RandomForestClassifier</label><div class=\"sk-toggleable__content\"><pre>RandomForestClassifier()</pre></div></div></div></div></div>"
      ],
      "text/plain": [
       "RandomForestClassifier()"
      ]
     },
     "execution_count": 55,
     "metadata": {},
     "output_type": "execute_result"
    }
   ],
   "source": [
    "rand_forest.fit(X_train, y_train)"
   ]
  },
  {
   "cell_type": "code",
   "execution_count": 56,
   "id": "2b46fab1-20ba-49bf-a1b3-aa1e01d310af",
   "metadata": {
    "execution": {
     "iopub.execute_input": "2023-01-19T19:12:43.123829Z",
     "iopub.status.busy": "2023-01-19T19:12:43.122625Z",
     "iopub.status.idle": "2023-01-19T19:12:44.180686Z",
     "shell.execute_reply": "2023-01-19T19:12:44.180303Z",
     "shell.execute_reply.started": "2023-01-19T19:12:43.123759Z"
    }
   },
   "outputs": [
    {
     "data": {
      "text/plain": [
       "0.9056140501055754"
      ]
     },
     "execution_count": 56,
     "metadata": {},
     "output_type": "execute_result"
    }
   ],
   "source": [
    "cross_val_score(rand_forest, X_train, y_train).mean()"
   ]
  },
  {
   "cell_type": "code",
   "execution_count": 64,
   "id": "ce5310f7-5342-488b-b30c-892414cac1cf",
   "metadata": {
    "execution": {
     "iopub.execute_input": "2023-01-19T19:21:02.885045Z",
     "iopub.status.busy": "2023-01-19T19:21:02.883868Z",
     "iopub.status.idle": "2023-01-19T19:21:02.955224Z",
     "shell.execute_reply": "2023-01-19T19:21:02.954801Z",
     "shell.execute_reply.started": "2023-01-19T19:21:02.885010Z"
    },
    "tags": []
   },
   "outputs": [
    {
     "data": {
      "text/plain": [
       "(1.0, 0.8976572133168927)"
      ]
     },
     "execution_count": 64,
     "metadata": {},
     "output_type": "execute_result"
    }
   ],
   "source": [
    "# score with defaults\n",
    "rand_forest.score(X_train, y_train), rand_forest.score(X_test, y_test)"
   ]
  },
  {
   "cell_type": "code",
   "execution_count": 80,
   "id": "f8174861-0fce-4b0f-b79f-ecebad86c252",
   "metadata": {
    "execution": {
     "iopub.execute_input": "2023-01-19T19:57:58.371133Z",
     "iopub.status.busy": "2023-01-19T19:57:58.369000Z",
     "iopub.status.idle": "2023-01-19T19:57:58.400478Z",
     "shell.execute_reply": "2023-01-19T19:57:58.399752Z",
     "shell.execute_reply.started": "2023-01-19T19:57:58.371067Z"
    },
    "tags": []
   },
   "outputs": [],
   "source": [
    "# configure pipeline\n",
    "rf_pipe = Pipeline([\n",
    "    ('rf', RandomForestClassifier())\n",
    "])\n",
    "\n",
    "# min_samples_leaf\n",
    "# criterion\n",
    "\n",
    "rf_params = {\n",
    "    'rf__n_estimators': [100, 125, 150],\n",
    "    'rf__max_depth': [5, 15, 25],\n",
    "    'rf__min_samples_leaf': [3, 5, 6, 7],\n",
    "    'rf__bootstrap': [False],\n",
    "    'rf__warm_start': [True, False],\n",
    "    'rf__max_features': ['sqrt', 3, 6, 8, 9]\n",
    "}\n",
    "\n",
    "\n",
    "# attempt 6 \n",
    "# rf_params = {\n",
    "#     'rf__n_estimators': [100, 125, 150],\n",
    "#     'rf__max_depth': [5, 15, 25],\n",
    "#     'rf__min_samples_leaf': [3, 5, 6, 7],\n",
    "#     'rf__bootstrap': [False],\n",
    "#     'rf__warm_start': [True, False],\n",
    "#     'rf__max_features': ['sqrt', 3, 6, 8, 9]\n",
    "# }\n",
    "\n",
    "# attempt 5 - first parameters with leaf instead of split\n",
    "# rf_params = {\n",
    "#     'rf__n_estimators': [10, 50, 100],\n",
    "#     'rf__max_depth': [5, 10, 15],\n",
    "#     'rf__min_samples_leaf': [2, 3, 4, 5],\n",
    "#     'rf__bootstrap': [True, False],\n",
    "#     'rf__warm_start': [True, False],\n",
    "#     'rf__max_features': ['sqrt', 3, 4, 5, 6]\n",
    "# }\n",
    "\n",
    "# attempt 4\n",
    "# rf_params = {\n",
    "#     'rf__n_estimators': [100, 125, 150, 200],\n",
    "#     'rf__max_depth': [10, 15, 20, 25, 100],\n",
    "#     'rf__min_samples_leaf': [4, 5, 6, 7],\n",
    "#     'rf__bootstrap': [False],\n",
    "#     'rf__warm_start': [True, False],\n",
    "#     'rf__max_features': ['sqrt', 4, 5, 6, 7]\n",
    "# }\n",
    "\n",
    "# attempt 3\n",
    "# rf_params = {\n",
    "#     'rf__n_estimators': [100, 125, 150, 200],\n",
    "#     'rf__max_depth': [10, 15, 20, 25],\n",
    "#     'rf__min_samples_split': [4, 5, 6, 7],\n",
    "#     'rf__bootstrap': [False],\n",
    "#     'rf__warm_start': [True, False],\n",
    "#     'rf__max_features': ['sqrt', 4, 5, 6, 7]\n",
    "# }\n",
    "\n",
    "# attempt 2\n",
    "# rf_params = {\n",
    "#     'rf__n_estimators': [50, 100, 150],\n",
    "#     'rf__max_depth': [10, 20, 50],\n",
    "#     'rf__min_samples_split': [5, 10, 25],\n",
    "#     'rf__bootstrap': [True, False],\n",
    "#     'rf__warm_start': [True, False],\n",
    "#     'rf__max_features': ['sqrt', 5, 10, 25]\n",
    "# }\n",
    "\n",
    "# attempt 1\n",
    "# rf_params = {\n",
    "#     'rf__n_estimators': [10, 50, 100],\n",
    "#     'rf__max_depth': [5, 10, 15],\n",
    "#     'rf__min_samples_split': [2, 3, 4, 5],\n",
    "#     'rf__bootstrap': [True, False],\n",
    "#     'rf__warm_start': [True, False],\n",
    "#     'rf__max_features': ['sqrt', 3, 4, 5, 6]\n",
    "# }"
   ]
  },
  {
   "cell_type": "code",
   "execution_count": 81,
   "id": "9ee762f1-c53c-4e49-b776-100a55054aca",
   "metadata": {
    "execution": {
     "iopub.execute_input": "2023-01-19T19:58:13.598895Z",
     "iopub.status.busy": "2023-01-19T19:58:13.598398Z",
     "iopub.status.idle": "2023-01-19T19:59:55.838254Z",
     "shell.execute_reply": "2023-01-19T19:59:55.837646Z",
     "shell.execute_reply.started": "2023-01-19T19:58:13.598800Z"
    },
    "tags": []
   },
   "outputs": [
    {
     "name": "stdout",
     "output_type": "stream",
     "text": [
      "Fitting 5 folds for each of 360 candidates, totalling 1800 fits\n"
     ]
    },
    {
     "data": {
      "text/plain": [
       "{'rf__bootstrap': False,\n",
       " 'rf__max_depth': 15,\n",
       " 'rf__max_features': 'sqrt',\n",
       " 'rf__min_samples_leaf': 3,\n",
       " 'rf__n_estimators': 125,\n",
       " 'rf__warm_start': False}"
      ]
     },
     "execution_count": 81,
     "metadata": {},
     "output_type": "execute_result"
    }
   ],
   "source": [
    "gs = GridSearchCV(rf_pipe, rf_params, n_jobs=-1, verbose=1)\n",
    "gs.fit(X_train, y_train)\n",
    "gs.best_params_\n",
    "\n",
    "# attempt 6 (0.9580505860579889, 0.8988902589395807)\n",
    "# {'rf__bootstrap': False,\n",
    "#  'rf__max_depth': 15,\n",
    "#  'rf__max_features': 'sqrt',\n",
    "#  'rf__min_samples_leaf': 3,\n",
    "#  'rf__n_estimators': 125,\n",
    "#  'rf__warm_start': False}\n",
    "\n",
    "# attempt 5 (0.9558914250462678, 0.9001233045622689)\n",
    "# {'rf__bootstrap': False,\n",
    "#  'rf__max_depth': 15,\n",
    "#  'rf__max_features': 'sqrt',\n",
    "#  'rf__min_samples_leaf': 3,\n",
    "#  'rf__n_estimators': 100,\n",
    "#  'rf__warm_start': False}\n",
    "\n",
    "# attempt 4 (0.9487970388648982, 0.8976572133168927)\n",
    "# {'rf__bootstrap': False,\n",
    "#  'rf__max_depth': 15,\n",
    "#  'rf__max_features': 6,\n",
    "#  'rf__min_samples_leaf': 5,\n",
    "#  'rf__n_estimators': 100,\n",
    "#  'rf__warm_start': False}\n",
    "\n",
    "# attempt 3 (0.9932140653917335, 0.9001233045622689)\n",
    "# {'rf__bootstrap': False,\n",
    "#  'rf__max_depth': 15,\n",
    "#  'rf__max_features': 4,\n",
    "#  'rf__min_samples_split': 5,\n",
    "#  'rf__n_estimators': 100,\n",
    "#  'rf__warm_start': False}\n",
    "\n",
    "# attempt 2 (1.0, 0.8976572133168927)\n",
    "# {'rf__bootstrap': False,\n",
    "#  'rf__max_depth': 20,\n",
    "#  'rf__max_features': 'sqrt',\n",
    "#  'rf__min_samples_split': 5,\n",
    "#  'rf__n_estimators': 150,\n",
    "#  'rf__warm_start': True}\n",
    "\n",
    "# attempt 1 (0.9401603948180136, 0.903822441430333)\n",
    "# {'rf__bootstrap': False,\n",
    "#  'rf__max_depth': 10,\n",
    "#  'rf__max_features': 6,\n",
    "#  'rf__min_samples_split': 5,\n",
    "#  'rf__n_estimators': 100,\n",
    "#  'rf__warm_start': False}"
   ]
  },
  {
   "cell_type": "code",
   "execution_count": 82,
   "id": "dbe46b2f-e9b4-4eef-98ee-8158b322f9c1",
   "metadata": {
    "execution": {
     "iopub.execute_input": "2023-01-19T20:00:02.721623Z",
     "iopub.status.busy": "2023-01-19T20:00:02.720553Z",
     "iopub.status.idle": "2023-01-19T20:00:02.815987Z",
     "shell.execute_reply": "2023-01-19T20:00:02.815583Z",
     "shell.execute_reply.started": "2023-01-19T20:00:02.721590Z"
    },
    "tags": []
   },
   "outputs": [
    {
     "data": {
      "text/plain": [
       "(0.9580505860579889, 0.8988902589395807)"
      ]
     },
     "execution_count": 82,
     "metadata": {},
     "output_type": "execute_result"
    }
   ],
   "source": [
    "# score with best params\n",
    "gs.score(X_train, y_train), gs.score(X_test, y_test)"
   ]
  },
  {
   "cell_type": "code",
   "execution_count": 65,
   "id": "50593f35-d108-4618-b784-8159a5fe6c5f",
   "metadata": {
    "execution": {
     "iopub.execute_input": "2023-01-19T19:21:32.561950Z",
     "iopub.status.busy": "2023-01-19T19:21:32.561327Z",
     "iopub.status.idle": "2023-01-19T19:21:32.598333Z",
     "shell.execute_reply": "2023-01-19T19:21:32.597562Z",
     "shell.execute_reply.started": "2023-01-19T19:21:32.561905Z"
    },
    "tags": []
   },
   "outputs": [
    {
     "data": {
      "text/plain": [
       "0    0.902048\n",
       "1    0.097952\n",
       "Name: high_rate, dtype: float64"
      ]
     },
     "execution_count": 66,
     "metadata": {},
     "output_type": "execute_result"
    }
   ],
   "source": [
    "aqi['high_rate'].value_counts(normalize=Tr)"
   ]
  },
  {
   "cell_type": "markdown",
   "id": "39acb69f-b25f-414a-9115-5c8a5a7f1766",
   "metadata": {},
   "source": [
    "### AQI Logistic Regression Classifer"
   ]
  },
  {
   "cell_type": "markdown",
   "id": "a1ec578b-9fa2-4823-a07d-a61beb6940f9",
   "metadata": {},
   "source": [
    "#### Annual AQI Data"
   ]
  },
  {
   "cell_type": "code",
   "execution_count": 83,
   "id": "166cdc79-e712-4785-8893-c85ebe11774d",
   "metadata": {
    "execution": {
     "iopub.execute_input": "2023-01-19T21:04:38.879903Z",
     "iopub.status.busy": "2023-01-19T21:04:38.879314Z",
     "iopub.status.idle": "2023-01-19T21:04:38.906663Z",
     "shell.execute_reply": "2023-01-19T21:04:38.906000Z",
     "shell.execute_reply.started": "2023-01-19T21:04:38.879877Z"
    }
   },
   "outputs": [],
   "source": [
    "from sklearn.linear_model import LogisticRegression"
   ]
  },
  {
   "cell_type": "code",
   "execution_count": 87,
   "id": "a075ae8f-2e31-4376-8f61-753db5876669",
   "metadata": {
    "execution": {
     "iopub.execute_input": "2023-01-19T21:06:01.651389Z",
     "iopub.status.busy": "2023-01-19T21:06:01.650737Z",
     "iopub.status.idle": "2023-01-19T21:06:01.659637Z",
     "shell.execute_reply": "2023-01-19T21:06:01.657597Z",
     "shell.execute_reply.started": "2023-01-19T21:06:01.651319Z"
    },
    "tags": []
   },
   "outputs": [],
   "source": [
    "lr = LogisticRegression(max_iter=10_000)"
   ]
  },
  {
   "cell_type": "code",
   "execution_count": 98,
   "id": "327beb5a-2093-490f-8634-095dfc22c52e",
   "metadata": {
    "execution": {
     "iopub.execute_input": "2023-01-19T22:12:15.909104Z",
     "iopub.status.busy": "2023-01-19T22:12:15.908412Z",
     "iopub.status.idle": "2023-01-19T22:12:15.939257Z",
     "shell.execute_reply": "2023-01-19T22:12:15.938428Z",
     "shell.execute_reply.started": "2023-01-19T22:12:15.909072Z"
    }
   },
   "outputs": [
    {
     "data": {
      "text/plain": [
       "(0    0.901912\n",
       " 1    0.098088\n",
       " Name: high_rate, dtype: float64,\n",
       " 0    0.902589\n",
       " 1    0.097411\n",
       " Name: high_rate, dtype: float64)"
      ]
     },
     "execution_count": 98,
     "metadata": {},
     "output_type": "execute_result"
    }
   ],
   "source": [
    "y_train.value_counts(normalize=True), y_test.value_counts(normalize=True)"
   ]
  },
  {
   "cell_type": "code",
   "execution_count": 88,
   "id": "285bc588-eed4-4b4c-94f4-39284498a251",
   "metadata": {
    "execution": {
     "iopub.execute_input": "2023-01-19T21:06:05.923713Z",
     "iopub.status.busy": "2023-01-19T21:06:05.923131Z",
     "iopub.status.idle": "2023-01-19T21:06:07.797502Z",
     "shell.execute_reply": "2023-01-19T21:06:07.797204Z",
     "shell.execute_reply.started": "2023-01-19T21:06:05.923684Z"
    },
    "tags": []
   },
   "outputs": [
    {
     "data": {
      "text/html": [
       "<style>#sk-container-id-3 {color: black;background-color: white;}#sk-container-id-3 pre{padding: 0;}#sk-container-id-3 div.sk-toggleable {background-color: white;}#sk-container-id-3 label.sk-toggleable__label {cursor: pointer;display: block;width: 100%;margin-bottom: 0;padding: 0.3em;box-sizing: border-box;text-align: center;}#sk-container-id-3 label.sk-toggleable__label-arrow:before {content: \"▸\";float: left;margin-right: 0.25em;color: #696969;}#sk-container-id-3 label.sk-toggleable__label-arrow:hover:before {color: black;}#sk-container-id-3 div.sk-estimator:hover label.sk-toggleable__label-arrow:before {color: black;}#sk-container-id-3 div.sk-toggleable__content {max-height: 0;max-width: 0;overflow: hidden;text-align: left;background-color: #f0f8ff;}#sk-container-id-3 div.sk-toggleable__content pre {margin: 0.2em;color: black;border-radius: 0.25em;background-color: #f0f8ff;}#sk-container-id-3 input.sk-toggleable__control:checked~div.sk-toggleable__content {max-height: 200px;max-width: 100%;overflow: auto;}#sk-container-id-3 input.sk-toggleable__control:checked~label.sk-toggleable__label-arrow:before {content: \"▾\";}#sk-container-id-3 div.sk-estimator input.sk-toggleable__control:checked~label.sk-toggleable__label {background-color: #d4ebff;}#sk-container-id-3 div.sk-label input.sk-toggleable__control:checked~label.sk-toggleable__label {background-color: #d4ebff;}#sk-container-id-3 input.sk-hidden--visually {border: 0;clip: rect(1px 1px 1px 1px);clip: rect(1px, 1px, 1px, 1px);height: 1px;margin: -1px;overflow: hidden;padding: 0;position: absolute;width: 1px;}#sk-container-id-3 div.sk-estimator {font-family: monospace;background-color: #f0f8ff;border: 1px dotted black;border-radius: 0.25em;box-sizing: border-box;margin-bottom: 0.5em;}#sk-container-id-3 div.sk-estimator:hover {background-color: #d4ebff;}#sk-container-id-3 div.sk-parallel-item::after {content: \"\";width: 100%;border-bottom: 1px solid gray;flex-grow: 1;}#sk-container-id-3 div.sk-label:hover label.sk-toggleable__label {background-color: #d4ebff;}#sk-container-id-3 div.sk-serial::before {content: \"\";position: absolute;border-left: 1px solid gray;box-sizing: border-box;top: 0;bottom: 0;left: 50%;z-index: 0;}#sk-container-id-3 div.sk-serial {display: flex;flex-direction: column;align-items: center;background-color: white;padding-right: 0.2em;padding-left: 0.2em;position: relative;}#sk-container-id-3 div.sk-item {position: relative;z-index: 1;}#sk-container-id-3 div.sk-parallel {display: flex;align-items: stretch;justify-content: center;background-color: white;position: relative;}#sk-container-id-3 div.sk-item::before, #sk-container-id-3 div.sk-parallel-item::before {content: \"\";position: absolute;border-left: 1px solid gray;box-sizing: border-box;top: 0;bottom: 0;left: 50%;z-index: -1;}#sk-container-id-3 div.sk-parallel-item {display: flex;flex-direction: column;z-index: 1;position: relative;background-color: white;}#sk-container-id-3 div.sk-parallel-item:first-child::after {align-self: flex-end;width: 50%;}#sk-container-id-3 div.sk-parallel-item:last-child::after {align-self: flex-start;width: 50%;}#sk-container-id-3 div.sk-parallel-item:only-child::after {width: 0;}#sk-container-id-3 div.sk-dashed-wrapped {border: 1px dashed gray;margin: 0 0.4em 0.5em 0.4em;box-sizing: border-box;padding-bottom: 0.4em;background-color: white;}#sk-container-id-3 div.sk-label label {font-family: monospace;font-weight: bold;display: inline-block;line-height: 1.2em;}#sk-container-id-3 div.sk-label-container {text-align: center;}#sk-container-id-3 div.sk-container {/* jupyter's `normalize.less` sets `[hidden] { display: none; }` but bootstrap.min.css set `[hidden] { display: none !important; }` so we also need the `!important` here to be able to override the default hidden behavior on the sphinx rendered scikit-learn.org. See: https://github.com/scikit-learn/scikit-learn/issues/21755 */display: inline-block !important;position: relative;}#sk-container-id-3 div.sk-text-repr-fallback {display: none;}</style><div id=\"sk-container-id-3\" class=\"sk-top-container\"><div class=\"sk-text-repr-fallback\"><pre>LogisticRegression(max_iter=10000)</pre><b>In a Jupyter environment, please rerun this cell to show the HTML representation or trust the notebook. <br />On GitHub, the HTML representation is unable to render, please try loading this page with nbviewer.org.</b></div><div class=\"sk-container\" hidden><div class=\"sk-item\"><div class=\"sk-estimator sk-toggleable\"><input class=\"sk-toggleable__control sk-hidden--visually\" id=\"sk-estimator-id-3\" type=\"checkbox\" checked><label for=\"sk-estimator-id-3\" class=\"sk-toggleable__label sk-toggleable__label-arrow\">LogisticRegression</label><div class=\"sk-toggleable__content\"><pre>LogisticRegression(max_iter=10000)</pre></div></div></div></div></div>"
      ],
      "text/plain": [
       "LogisticRegression(max_iter=10000)"
      ]
     },
     "execution_count": 88,
     "metadata": {},
     "output_type": "execute_result"
    }
   ],
   "source": [
    "lr.fit(X_train, y_train)"
   ]
  },
  {
   "cell_type": "code",
   "execution_count": 89,
   "id": "86ecd756-9e5f-4867-86a7-4ec6fd9d5d71",
   "metadata": {
    "execution": {
     "iopub.execute_input": "2023-01-19T21:07:03.462658Z",
     "iopub.status.busy": "2023-01-19T21:07:03.461794Z",
     "iopub.status.idle": "2023-01-19T21:07:03.488318Z",
     "shell.execute_reply": "2023-01-19T21:07:03.487777Z",
     "shell.execute_reply.started": "2023-01-19T21:07:03.462572Z"
    }
   },
   "outputs": [
    {
     "data": {
      "text/plain": [
       "(0.9009870450339297, 0.9025893958076449)"
      ]
     },
     "execution_count": 89,
     "metadata": {},
     "output_type": "execute_result"
    }
   ],
   "source": [
    "lr.score(X_train, y_train), lr.score(X_test, y_test)"
   ]
  },
  {
   "cell_type": "code",
   "execution_count": null,
   "id": "b62cfa13-139e-4dcd-a167-646b758ffaf5",
   "metadata": {},
   "outputs": [],
   "source": []
  },
  {
   "cell_type": "markdown",
   "id": "ecede86f-0d6b-4088-bdae-9f67b4ce7e87",
   "metadata": {},
   "source": [
    "## AQS Modeling"
   ]
  },
  {
   "cell_type": "code",
   "execution_count": 10,
   "id": "b692ab25-fc50-450b-8135-795c84bad12d",
   "metadata": {
    "tags": []
   },
   "outputs": [],
   "source": [
    "X_aqs = aqs[['Carbon monoxide', 'Nitrogen dioxide (NO2)',\n",
    "       'Ozone', 'PM10 Total 0-10um STP', 'PM2.5 - Local Conditions']]\n",
    "\n",
    "y_aqs = aqs['high_rate']"
   ]
  },
  {
   "cell_type": "code",
   "execution_count": 11,
   "id": "50a40a3f-de98-4bb3-9da5-59072cfd3ad2",
   "metadata": {
    "tags": []
   },
   "outputs": [],
   "source": [
    "X_train_aqs, X_test_aqs, y_train_aqs, y_test_aqs = train_test_split(X_aqs,\\\n",
    "                                                                   y_aqs,\n",
    "                                                                   random_state=5,\n",
    "                                                                    test_size=.2,                                                                \n",
    "                                                                   stratify=y_aqs)"
   ]
  },
  {
   "cell_type": "code",
   "execution_count": 12,
   "id": "141bd14d-f3a2-4315-8fc3-90df3378afbf",
   "metadata": {
    "tags": []
   },
   "outputs": [
    {
     "data": {
      "text/plain": [
       "((809, 5), (203, 5), (809,), (203,))"
      ]
     },
     "execution_count": 12,
     "metadata": {},
     "output_type": "execute_result"
    }
   ],
   "source": [
    "X_train_aqs.shape, X_test_aqs.shape, y_train_aqs.shape, y_test_aqs.shape"
   ]
  },
  {
   "cell_type": "code",
   "execution_count": 13,
   "id": "1e99de08-f31d-428f-bf9d-acef6dbb0165",
   "metadata": {
    "tags": []
   },
   "outputs": [
    {
     "data": {
      "text/plain": [
       "(0    0.588381\n",
       " 1    0.411619\n",
       " Name: high_rate, dtype: float64,\n",
       " 0    0.586207\n",
       " 1    0.413793\n",
       " Name: high_rate, dtype: float64)"
      ]
     },
     "execution_count": 13,
     "metadata": {},
     "output_type": "execute_result"
    }
   ],
   "source": [
    "y_train_aqs.value_counts(normalize=True), y_test_aqs.value_counts(normalize=True)"
   ]
  },
  {
   "cell_type": "markdown",
   "id": "728a7782-04bb-44fd-940b-fae4c49a2de0",
   "metadata": {},
   "source": [
    "#### AQS Random Forest Classification"
   ]
  },
  {
   "cell_type": "code",
   "execution_count": 99,
   "id": "67970e02-fe3e-4e08-8abf-941a1a87c2c8",
   "metadata": {
    "execution": {
     "iopub.execute_input": "2023-01-19T22:19:00.191972Z",
     "iopub.status.busy": "2023-01-19T22:19:00.189710Z",
     "iopub.status.idle": "2023-01-19T22:19:00.214687Z",
     "shell.execute_reply": "2023-01-19T22:19:00.213883Z",
     "shell.execute_reply.started": "2023-01-19T22:19:00.191894Z"
    },
    "tags": []
   },
   "outputs": [],
   "source": [
    "aqs_rf = RandomForestClassifier()"
   ]
  },
  {
   "cell_type": "code",
   "execution_count": 100,
   "id": "d83484ea-3f49-433b-a41f-22c7166b25a9",
   "metadata": {
    "execution": {
     "iopub.execute_input": "2023-01-19T22:19:01.059049Z",
     "iopub.status.busy": "2023-01-19T22:19:01.058641Z",
     "iopub.status.idle": "2023-01-19T22:19:01.207928Z",
     "shell.execute_reply": "2023-01-19T22:19:01.207596Z",
     "shell.execute_reply.started": "2023-01-19T22:19:01.059024Z"
    },
    "tags": []
   },
   "outputs": [
    {
     "data": {
      "text/html": [
       "<style>#sk-container-id-5 {color: black;background-color: white;}#sk-container-id-5 pre{padding: 0;}#sk-container-id-5 div.sk-toggleable {background-color: white;}#sk-container-id-5 label.sk-toggleable__label {cursor: pointer;display: block;width: 100%;margin-bottom: 0;padding: 0.3em;box-sizing: border-box;text-align: center;}#sk-container-id-5 label.sk-toggleable__label-arrow:before {content: \"▸\";float: left;margin-right: 0.25em;color: #696969;}#sk-container-id-5 label.sk-toggleable__label-arrow:hover:before {color: black;}#sk-container-id-5 div.sk-estimator:hover label.sk-toggleable__label-arrow:before {color: black;}#sk-container-id-5 div.sk-toggleable__content {max-height: 0;max-width: 0;overflow: hidden;text-align: left;background-color: #f0f8ff;}#sk-container-id-5 div.sk-toggleable__content pre {margin: 0.2em;color: black;border-radius: 0.25em;background-color: #f0f8ff;}#sk-container-id-5 input.sk-toggleable__control:checked~div.sk-toggleable__content {max-height: 200px;max-width: 100%;overflow: auto;}#sk-container-id-5 input.sk-toggleable__control:checked~label.sk-toggleable__label-arrow:before {content: \"▾\";}#sk-container-id-5 div.sk-estimator input.sk-toggleable__control:checked~label.sk-toggleable__label {background-color: #d4ebff;}#sk-container-id-5 div.sk-label input.sk-toggleable__control:checked~label.sk-toggleable__label {background-color: #d4ebff;}#sk-container-id-5 input.sk-hidden--visually {border: 0;clip: rect(1px 1px 1px 1px);clip: rect(1px, 1px, 1px, 1px);height: 1px;margin: -1px;overflow: hidden;padding: 0;position: absolute;width: 1px;}#sk-container-id-5 div.sk-estimator {font-family: monospace;background-color: #f0f8ff;border: 1px dotted black;border-radius: 0.25em;box-sizing: border-box;margin-bottom: 0.5em;}#sk-container-id-5 div.sk-estimator:hover {background-color: #d4ebff;}#sk-container-id-5 div.sk-parallel-item::after {content: \"\";width: 100%;border-bottom: 1px solid gray;flex-grow: 1;}#sk-container-id-5 div.sk-label:hover label.sk-toggleable__label {background-color: #d4ebff;}#sk-container-id-5 div.sk-serial::before {content: \"\";position: absolute;border-left: 1px solid gray;box-sizing: border-box;top: 0;bottom: 0;left: 50%;z-index: 0;}#sk-container-id-5 div.sk-serial {display: flex;flex-direction: column;align-items: center;background-color: white;padding-right: 0.2em;padding-left: 0.2em;position: relative;}#sk-container-id-5 div.sk-item {position: relative;z-index: 1;}#sk-container-id-5 div.sk-parallel {display: flex;align-items: stretch;justify-content: center;background-color: white;position: relative;}#sk-container-id-5 div.sk-item::before, #sk-container-id-5 div.sk-parallel-item::before {content: \"\";position: absolute;border-left: 1px solid gray;box-sizing: border-box;top: 0;bottom: 0;left: 50%;z-index: -1;}#sk-container-id-5 div.sk-parallel-item {display: flex;flex-direction: column;z-index: 1;position: relative;background-color: white;}#sk-container-id-5 div.sk-parallel-item:first-child::after {align-self: flex-end;width: 50%;}#sk-container-id-5 div.sk-parallel-item:last-child::after {align-self: flex-start;width: 50%;}#sk-container-id-5 div.sk-parallel-item:only-child::after {width: 0;}#sk-container-id-5 div.sk-dashed-wrapped {border: 1px dashed gray;margin: 0 0.4em 0.5em 0.4em;box-sizing: border-box;padding-bottom: 0.4em;background-color: white;}#sk-container-id-5 div.sk-label label {font-family: monospace;font-weight: bold;display: inline-block;line-height: 1.2em;}#sk-container-id-5 div.sk-label-container {text-align: center;}#sk-container-id-5 div.sk-container {/* jupyter's `normalize.less` sets `[hidden] { display: none; }` but bootstrap.min.css set `[hidden] { display: none !important; }` so we also need the `!important` here to be able to override the default hidden behavior on the sphinx rendered scikit-learn.org. See: https://github.com/scikit-learn/scikit-learn/issues/21755 */display: inline-block !important;position: relative;}#sk-container-id-5 div.sk-text-repr-fallback {display: none;}</style><div id=\"sk-container-id-5\" class=\"sk-top-container\"><div class=\"sk-text-repr-fallback\"><pre>RandomForestClassifier()</pre><b>In a Jupyter environment, please rerun this cell to show the HTML representation or trust the notebook. <br />On GitHub, the HTML representation is unable to render, please try loading this page with nbviewer.org.</b></div><div class=\"sk-container\" hidden><div class=\"sk-item\"><div class=\"sk-estimator sk-toggleable\"><input class=\"sk-toggleable__control sk-hidden--visually\" id=\"sk-estimator-id-5\" type=\"checkbox\" checked><label for=\"sk-estimator-id-5\" class=\"sk-toggleable__label sk-toggleable__label-arrow\">RandomForestClassifier</label><div class=\"sk-toggleable__content\"><pre>RandomForestClassifier()</pre></div></div></div></div></div>"
      ],
      "text/plain": [
       "RandomForestClassifier()"
      ]
     },
     "execution_count": 100,
     "metadata": {},
     "output_type": "execute_result"
    }
   ],
   "source": [
    "aqs_rf.fit(X_train_aqs, y_train_aqs)"
   ]
  },
  {
   "cell_type": "code",
   "execution_count": 101,
   "id": "ddc9113e-cdf1-4442-b301-31207e68c106",
   "metadata": {
    "execution": {
     "iopub.execute_input": "2023-01-19T22:19:24.265949Z",
     "iopub.status.busy": "2023-01-19T22:19:24.265727Z",
     "iopub.status.idle": "2023-01-19T22:19:24.723414Z",
     "shell.execute_reply": "2023-01-19T22:19:24.723065Z",
     "shell.execute_reply.started": "2023-01-19T22:19:24.265934Z"
    },
    "tags": []
   },
   "outputs": [
    {
     "data": {
      "text/plain": [
       "0.8714362395521815"
      ]
     },
     "execution_count": 101,
     "metadata": {},
     "output_type": "execute_result"
    }
   ],
   "source": [
    "cross_val_score(aqs_rf, X_train_aqs, y_train_aqs).mean()"
   ]
  },
  {
   "cell_type": "code",
   "execution_count": 104,
   "id": "2e8227dc-aac0-4058-8a88-53e75c6438db",
   "metadata": {
    "execution": {
     "iopub.execute_input": "2023-01-19T22:22:08.124322Z",
     "iopub.status.busy": "2023-01-19T22:22:08.123610Z",
     "iopub.status.idle": "2023-01-19T22:22:08.165323Z",
     "shell.execute_reply": "2023-01-19T22:22:08.164678Z",
     "shell.execute_reply.started": "2023-01-19T22:22:08.124289Z"
    },
    "tags": []
   },
   "outputs": [
    {
     "data": {
      "text/plain": [
       "(1.0, 0.8866995073891626)"
      ]
     },
     "execution_count": 104,
     "metadata": {},
     "output_type": "execute_result"
    }
   ],
   "source": [
    "# score with defaults\n",
    "aqs_rf.score(X_train_aqs, y_train_aqs), aqs_rf.score(X_test_aqs, y_test_aqs)"
   ]
  },
  {
   "cell_type": "code",
   "execution_count": 116,
   "id": "d2fc66c3-81fd-44cd-904d-de6ea3d51149",
   "metadata": {
    "execution": {
     "iopub.execute_input": "2023-01-19T22:59:54.561346Z",
     "iopub.status.busy": "2023-01-19T22:59:54.560703Z",
     "iopub.status.idle": "2023-01-19T22:59:54.592393Z",
     "shell.execute_reply": "2023-01-19T22:59:54.591631Z",
     "shell.execute_reply.started": "2023-01-19T22:59:54.561304Z"
    },
    "tags": []
   },
   "outputs": [],
   "source": [
    "# configure pipeline\n",
    "aqs_rf_pipe = Pipeline([\n",
    "    ('rf', RandomForestClassifier())\n",
    "])\n",
    "\n",
    "# min_samples_leaf\n",
    "# criterion\n",
    "\n",
    "aqs_rf_params = {\n",
    "    'rf__n_estimators': np.arange(25, 300, 50),\n",
    "    'rf__criterion' : [\"gini\", \"entropy\", \"log_loss\"],\n",
    "    'rf__max_depth': np.arange(5, 100, 10),\n",
    "    'rf__min_samples_leaf': np.arange(3, 11),\n",
    "    'rf__bootstrap': [False, True],\n",
    "    'rf__warm_start': [True, False],\n",
    "    'rf__max_features': np.arange(1, 6)\n",
    "}\n",
    "\n",
    "\n",
    "# attempt 3\n",
    "# aqs_rf_params = {\n",
    "#     'rf__n_estimators': [25, 100, 150, 200],\n",
    "#     'rf__max_depth': [3, 5, 25, 50],\n",
    "#     'rf__min_samples_leaf': [3, 5, 6, 7, 20],\n",
    "#     'rf__bootstrap': [False, True],\n",
    "#     'rf__warm_start': [True, False],\n",
    "#     'rf__max_features': ['sqrt', None, 3, 6, 8, 15]\n",
    "# }\n",
    "\n",
    "# attempt 2\n",
    "# aqs_rf_params = {\n",
    "#     'rf__n_estimators': [100, 125, 150],\n",
    "#     'rf__max_depth': [5, 15, 25],\n",
    "#     'rf__min_samples_leaf': [3, 5, 6, 7],\n",
    "#     'rf__bootstrap': [False, True],\n",
    "#     'rf__warm_start': [True, False],\n",
    "#     'rf__max_features': ['sqrt', 3, 6, 8, 9]\n",
    "# }\n",
    "\n",
    "\n",
    "# attempt 1\n",
    "# aqs_rf_params = {\n",
    "#     'rf__n_estimators': [10, 50, 100],\n",
    "#     'rf__max_depth': [5, 10, 15],\n",
    "#     'rf__min_samples_split': [2, 3, 4, 5],\n",
    "#     'rf__bootstrap': [True, False],\n",
    "#     'rf__warm_start': [True, False],\n",
    "#     'rf__max_features': ['sqrt', 3, 4, 5, 6]\n",
    "# }"
   ]
  },
  {
   "cell_type": "code",
   "execution_count": 117,
   "id": "1a42d126-98de-475d-9e34-7934c3a05913",
   "metadata": {
    "execution": {
     "iopub.execute_input": "2023-01-19T23:00:00.976707Z",
     "iopub.status.busy": "2023-01-19T23:00:00.976152Z",
     "iopub.status.idle": "2023-01-19T23:51:25.022641Z",
     "shell.execute_reply": "2023-01-19T23:51:25.022127Z",
     "shell.execute_reply.started": "2023-01-19T23:00:00.976681Z"
    },
    "tags": []
   },
   "outputs": [
    {
     "name": "stdout",
     "output_type": "stream",
     "text": [
      "Fitting 5 folds for each of 28800 candidates, totalling 144000 fits\n"
     ]
    },
    {
     "data": {
      "text/plain": [
       "{'rf__bootstrap': False,\n",
       " 'rf__criterion': 'gini',\n",
       " 'rf__max_depth': 55,\n",
       " 'rf__max_features': 2,\n",
       " 'rf__min_samples_leaf': 8,\n",
       " 'rf__n_estimators': 25,\n",
       " 'rf__warm_start': False}"
      ]
     },
     "execution_count": 117,
     "metadata": {},
     "output_type": "execute_result"
    }
   ],
   "source": [
    "aqs_gs = GridSearchCV(aqs_rf_pipe, aqs_rf_params, n_jobs=-1, verbose=1)\n",
    "aqs_gs.fit(X_train_aqs, y_train_aqs)\n",
    "aqs_gs.best_params_\n",
    "\n",
    "\n",
    "# attempt 4 (0.9245982694684796, 0.8768472906403941)\n",
    "# {'rf__bootstrap': False,\n",
    "#  'rf__criterion': 'gini',\n",
    "#  'rf__max_depth': 55,\n",
    "#  'rf__max_features': 2,\n",
    "#  'rf__min_samples_leaf': 8,\n",
    "#  'rf__n_estimators': 25,\n",
    "#  'rf__warm_start': False}\n",
    "\n",
    "\n",
    "# attempt 3 (0.9542645241038319, 0.8719211822660099)\n",
    "# {'rf__bootstrap': True,\n",
    "#  'rf__max_depth': 50,\n",
    "#  'rf__max_features': None,\n",
    "#  'rf__min_samples_leaf': 3,\n",
    "#  'rf__n_estimators': 25,\n",
    "#  'rf__warm_start': False}\n",
    "\n",
    "\n",
    "# attempt 2 (0.8800988875154512, 0.8768472906403941)\n",
    "# {'rf__bootstrap': False,\n",
    "#  'rf__max_depth': 5,\n",
    "#  'rf__max_features': 3,\n",
    "#  'rf__min_samples_leaf': 3,\n",
    "#  'rf__n_estimators': 125,\n",
    "#  'rf__warm_start': False}\n",
    "\n",
    "# attempt 1 (0.8825710754017305, 0.8768472906403941)\n",
    "# {'rf__bootstrap': True,\n",
    "#  'rf__max_depth': 5,\n",
    "#  'rf__max_features': 'sqrt',\n",
    "#  'rf__min_samples_split': 4,\n",
    "#  'rf__n_estimators': 10,\n",
    "#  'rf__warm_start': True}"
   ]
  },
  {
   "cell_type": "code",
   "execution_count": 119,
   "id": "634bfc4a-0a5a-41cd-b644-c42fb62e8db8",
   "metadata": {
    "execution": {
     "iopub.execute_input": "2023-01-19T23:55:58.527329Z",
     "iopub.status.busy": "2023-01-19T23:55:58.523597Z",
     "iopub.status.idle": "2023-01-19T23:55:58.562345Z",
     "shell.execute_reply": "2023-01-19T23:55:58.561777Z",
     "shell.execute_reply.started": "2023-01-19T23:55:58.527295Z"
    },
    "tags": []
   },
   "outputs": [
    {
     "data": {
      "text/plain": [
       "(0.9245982694684796, 0.8768472906403941)"
      ]
     },
     "execution_count": 119,
     "metadata": {},
     "output_type": "execute_result"
    }
   ],
   "source": [
    "# score with best_params\n",
    "aqs_gs.score(X_train_aqs, y_train_aqs), aqs_gs.score(X_test_aqs, y_test_aqs)"
   ]
  },
  {
   "cell_type": "markdown",
   "id": "9a7d56bd-95c4-4828-90aa-f35b4815aaf4",
   "metadata": {},
   "source": [
    "#### AQS Logistic Regression Classification"
   ]
  },
  {
   "cell_type": "code",
   "execution_count": 90,
   "id": "e56f03e1-ceaf-4fdb-8484-1eba22e377cf",
   "metadata": {
    "execution": {
     "iopub.execute_input": "2023-01-19T22:03:07.270814Z",
     "iopub.status.busy": "2023-01-19T22:03:07.269366Z",
     "iopub.status.idle": "2023-01-19T22:03:07.307465Z",
     "shell.execute_reply": "2023-01-19T22:03:07.306976Z",
     "shell.execute_reply.started": "2023-01-19T22:03:07.270778Z"
    }
   },
   "outputs": [
    {
     "data": {
      "text/plain": [
       "Index(['state', 'county', 'year', 'Carbon monoxide', 'Nitrogen dioxide (NO2)',\n",
       "       'Ozone', 'PM10 Total 0-10um STP', 'PM2.5 - Local Conditions',\n",
       "       'births_low', 'avg_weight_low', 'avg_ges_age_low', 'births_all',\n",
       "       'avg_weight_all', 'avg_ges_age_all', 'pct_low', 'high_rate'],\n",
       "      dtype='object')"
      ]
     },
     "execution_count": 90,
     "metadata": {},
     "output_type": "execute_result"
    }
   ],
   "source": [
    "aqs.columns"
   ]
  },
  {
   "cell_type": "code",
   "execution_count": 94,
   "id": "495ef7ce-27a1-4e32-945b-d946a9d278cf",
   "metadata": {
    "execution": {
     "iopub.execute_input": "2023-01-19T22:09:00.059002Z",
     "iopub.status.busy": "2023-01-19T22:09:00.058497Z",
     "iopub.status.idle": "2023-01-19T22:09:00.123606Z",
     "shell.execute_reply": "2023-01-19T22:09:00.123149Z",
     "shell.execute_reply.started": "2023-01-19T22:09:00.058969Z"
    }
   },
   "outputs": [
    {
     "data": {
      "text/html": [
       "<style>#sk-container-id-4 {color: black;background-color: white;}#sk-container-id-4 pre{padding: 0;}#sk-container-id-4 div.sk-toggleable {background-color: white;}#sk-container-id-4 label.sk-toggleable__label {cursor: pointer;display: block;width: 100%;margin-bottom: 0;padding: 0.3em;box-sizing: border-box;text-align: center;}#sk-container-id-4 label.sk-toggleable__label-arrow:before {content: \"▸\";float: left;margin-right: 0.25em;color: #696969;}#sk-container-id-4 label.sk-toggleable__label-arrow:hover:before {color: black;}#sk-container-id-4 div.sk-estimator:hover label.sk-toggleable__label-arrow:before {color: black;}#sk-container-id-4 div.sk-toggleable__content {max-height: 0;max-width: 0;overflow: hidden;text-align: left;background-color: #f0f8ff;}#sk-container-id-4 div.sk-toggleable__content pre {margin: 0.2em;color: black;border-radius: 0.25em;background-color: #f0f8ff;}#sk-container-id-4 input.sk-toggleable__control:checked~div.sk-toggleable__content {max-height: 200px;max-width: 100%;overflow: auto;}#sk-container-id-4 input.sk-toggleable__control:checked~label.sk-toggleable__label-arrow:before {content: \"▾\";}#sk-container-id-4 div.sk-estimator input.sk-toggleable__control:checked~label.sk-toggleable__label {background-color: #d4ebff;}#sk-container-id-4 div.sk-label input.sk-toggleable__control:checked~label.sk-toggleable__label {background-color: #d4ebff;}#sk-container-id-4 input.sk-hidden--visually {border: 0;clip: rect(1px 1px 1px 1px);clip: rect(1px, 1px, 1px, 1px);height: 1px;margin: -1px;overflow: hidden;padding: 0;position: absolute;width: 1px;}#sk-container-id-4 div.sk-estimator {font-family: monospace;background-color: #f0f8ff;border: 1px dotted black;border-radius: 0.25em;box-sizing: border-box;margin-bottom: 0.5em;}#sk-container-id-4 div.sk-estimator:hover {background-color: #d4ebff;}#sk-container-id-4 div.sk-parallel-item::after {content: \"\";width: 100%;border-bottom: 1px solid gray;flex-grow: 1;}#sk-container-id-4 div.sk-label:hover label.sk-toggleable__label {background-color: #d4ebff;}#sk-container-id-4 div.sk-serial::before {content: \"\";position: absolute;border-left: 1px solid gray;box-sizing: border-box;top: 0;bottom: 0;left: 50%;z-index: 0;}#sk-container-id-4 div.sk-serial {display: flex;flex-direction: column;align-items: center;background-color: white;padding-right: 0.2em;padding-left: 0.2em;position: relative;}#sk-container-id-4 div.sk-item {position: relative;z-index: 1;}#sk-container-id-4 div.sk-parallel {display: flex;align-items: stretch;justify-content: center;background-color: white;position: relative;}#sk-container-id-4 div.sk-item::before, #sk-container-id-4 div.sk-parallel-item::before {content: \"\";position: absolute;border-left: 1px solid gray;box-sizing: border-box;top: 0;bottom: 0;left: 50%;z-index: -1;}#sk-container-id-4 div.sk-parallel-item {display: flex;flex-direction: column;z-index: 1;position: relative;background-color: white;}#sk-container-id-4 div.sk-parallel-item:first-child::after {align-self: flex-end;width: 50%;}#sk-container-id-4 div.sk-parallel-item:last-child::after {align-self: flex-start;width: 50%;}#sk-container-id-4 div.sk-parallel-item:only-child::after {width: 0;}#sk-container-id-4 div.sk-dashed-wrapped {border: 1px dashed gray;margin: 0 0.4em 0.5em 0.4em;box-sizing: border-box;padding-bottom: 0.4em;background-color: white;}#sk-container-id-4 div.sk-label label {font-family: monospace;font-weight: bold;display: inline-block;line-height: 1.2em;}#sk-container-id-4 div.sk-label-container {text-align: center;}#sk-container-id-4 div.sk-container {/* jupyter's `normalize.less` sets `[hidden] { display: none; }` but bootstrap.min.css set `[hidden] { display: none !important; }` so we also need the `!important` here to be able to override the default hidden behavior on the sphinx rendered scikit-learn.org. See: https://github.com/scikit-learn/scikit-learn/issues/21755 */display: inline-block !important;position: relative;}#sk-container-id-4 div.sk-text-repr-fallback {display: none;}</style><div id=\"sk-container-id-4\" class=\"sk-top-container\"><div class=\"sk-text-repr-fallback\"><pre>LogisticRegression(max_iter=10000)</pre><b>In a Jupyter environment, please rerun this cell to show the HTML representation or trust the notebook. <br />On GitHub, the HTML representation is unable to render, please try loading this page with nbviewer.org.</b></div><div class=\"sk-container\" hidden><div class=\"sk-item\"><div class=\"sk-estimator sk-toggleable\"><input class=\"sk-toggleable__control sk-hidden--visually\" id=\"sk-estimator-id-4\" type=\"checkbox\" checked><label for=\"sk-estimator-id-4\" class=\"sk-toggleable__label sk-toggleable__label-arrow\">LogisticRegression</label><div class=\"sk-toggleable__content\"><pre>LogisticRegression(max_iter=10000)</pre></div></div></div></div></div>"
      ],
      "text/plain": [
       "LogisticRegression(max_iter=10000)"
      ]
     },
     "execution_count": 94,
     "metadata": {},
     "output_type": "execute_result"
    }
   ],
   "source": [
    "lr.fit(X_train_aqs, y_train_aqs)"
   ]
  },
  {
   "cell_type": "code",
   "execution_count": 96,
   "id": "b4bb6ef3-8695-4de9-97f7-decdfb2b00eb",
   "metadata": {
    "execution": {
     "iopub.execute_input": "2023-01-19T22:09:30.589564Z",
     "iopub.status.busy": "2023-01-19T22:09:30.589062Z",
     "iopub.status.idle": "2023-01-19T22:09:30.632069Z",
     "shell.execute_reply": "2023-01-19T22:09:30.631568Z",
     "shell.execute_reply.started": "2023-01-19T22:09:30.589517Z"
    },
    "tags": []
   },
   "outputs": [
    {
     "data": {
      "text/plain": [
       "(0.8788627935723115, 0.8768472906403941)"
      ]
     },
     "execution_count": 96,
     "metadata": {},
     "output_type": "execute_result"
    }
   ],
   "source": [
    "lr.score(X_train_aqs, y_train_aqs), lr.score(X_test_aqs, y_test_aqs)"
   ]
  },
  {
   "cell_type": "markdown",
   "id": "8d3fe1ee-7d16-4d9b-9107-cebd4cd7ca82",
   "metadata": {},
   "source": [
    "### AQS NN Classifier"
   ]
  },
  {
   "cell_type": "markdown",
   "id": "ae249955-6d44-4f1a-b2a8-9ff9c5a42746",
   "metadata": {},
   "source": [
    "#### Scale the data"
   ]
  },
  {
   "cell_type": "code",
   "execution_count": 14,
   "id": "9789c922-9e98-48be-8cbb-ee5107c26c44",
   "metadata": {},
   "outputs": [],
   "source": [
    "ss = StandardScaler()\n",
    "X_train_ss = ss.fit_transform(X_train_aqs)\n",
    "X_test_ss = ss.transform(X_test_aqs)"
   ]
  },
  {
   "cell_type": "markdown",
   "id": "ea2d876f-9d84-46b5-b581-2e3673437580",
   "metadata": {},
   "source": [
    "#### Build the model"
   ]
  },
  {
   "cell_type": "code",
   "execution_count": 15,
   "id": "f113f523-413e-4226-9ac4-633a648952e1",
   "metadata": {},
   "outputs": [],
   "source": [
    "# saved as model_9261(!!!)\n",
    "# set_seed(42)\n",
    "\n",
    "# custom_elu = lambda x: elu(x, alpha=1e-2)\n",
    "\n",
    "# best_model_saver = ModelCheckpoint(filepath='data/new_model',\n",
    "#                                    monitor='val_accuracy',\n",
    "#                                    save_best_only=True,\n",
    "#                                    initial_value_threshold=.910,\n",
    "#                                    save_weights_only=True,\n",
    "#                                    mode='max',\n",
    "#                                    verbose=1)\n",
    "\n",
    "# model = Sequential()\n",
    "# model.add(Dense(600, input_dim=X_train_ss.shape[1], activation=custom_elu))\n",
    "# model.add(Dropout(.2))\n",
    "# model.add(Dense(300, activation=custom_elu))\n",
    "# model.add(Dropout(.2))\n",
    "# model.add(Dense(200, activation=custom_elu))\n",
    "# model.add(Dropout(.2))\n",
    "# model.add(Dense(100, activation=custom_elu))\n",
    "# model.add(Dropout(.2))\n",
    "# model.add(Dense(50, activation=custom_elu))\n",
    "# model.add(Dropout(.2))\n",
    "# model.add(Dense(100, activation=custom_elu))\n",
    "# model.add(Dense(1, activation='sigmoid'))\n",
    "\n",
    "# model.compile(optimizer=Adagrad(learning_rate=.25), \n",
    "#               loss='bce', \n",
    "#               metrics=['accuracy'])\n",
    "\n",
    "# history = model.fit(X_train_ss, y_train,\n",
    "#                     batch_size=8, epochs=500,\n",
    "#                     callbacks=[best_model_saver],\n",
    "#                     validation_data=(X_test_ss, y_test))\n",
    "\n",
    "#----------------------------------------------------------------------------\n",
    "\n",
    "# saved as models_9163\n",
    "# set_seed(42)\n",
    "\n",
    "# custom_elu = lambda x: elu(x, alpha=1e-2)\n",
    "\n",
    "# best_model_saver = ModelCheckpoint(filepath='data/models/new_model',\n",
    "#                                    monitor='val_accuracy',\n",
    "#                                    save_best_only=True,\n",
    "#                                    initial_value_threshold=.9,\n",
    "#                                    save_weights_only=True,\n",
    "#                                    mode='max')\n",
    "\n",
    "# model = Sequential()\n",
    "# model.add(Dense(600, input_dim=X_train_ss.shape[1], activation=custom_elu))\n",
    "# model.add(Dense(300, activation=custom_elu))\n",
    "# model.add(Dense(200, activation=custom_elu))\n",
    "# model.add(Dense(100, activation=custom_elu))\n",
    "# model.add(Dense(50, activation=custom_elu))\n",
    "# model.add(Dense(100, activation=custom_elu))\n",
    "# model.add(Dense(1, activation='sigmoid'))\n",
    "\n",
    "# model.compile(optimizer=Adagrad(learning_rate=.5), \n",
    "#               loss='bce', \n",
    "#               metrics=['accuracy'])\n",
    "\n",
    "# history = model.fit(X_train_ss, y_train,\n",
    "#                     batch_size=8, epochs=500,\n",
    "#                     callbacks=[best_model_saver],\n",
    "#                     validation_data=(X_test_ss, y_test))\n",
    "\n",
    "#----------------------------------------------------------------------------\n",
    "\n",
    "# This attempt got accuracy of .9015\n",
    "# custom_elu = lambda x: elu(x, alpha=1e-2)\n",
    "\n",
    "# model = Sequential()\n",
    "# model.add(Dense(600, input_dim=X_train_ss.shape[1], activation=custom_elu))\n",
    "# model.add(Dense(300, activation=custom_elu))\n",
    "# model.add(Dense(200, activation=custom_elu))\n",
    "# model.add(Dense(100, activation=custom_elu))\n",
    "# model.add(Dense(50, activation=custom_elu))\n",
    "# model.add(Dense(100, activation=custom_elu))\n",
    "# model.add(Dense(1, activation='sigmoid'))\n",
    "\n",
    "# model.compile(optimizer=Adagrad(learning_rate=.5), \n",
    "#               loss='bce', \n",
    "#               metrics=['accuracy'])\n",
    "\n",
    "# history = model.fit(X_train_ss, y_train,\n",
    "#                     batch_size=8, epochs=100,\n",
    "#                     # callbacks=EarlyStopping(patience=5),\n",
    "#                     validation_data=(X_test_ss, y_test))\n",
    "\n",
    "#----------------------------------------------------------------------------\n",
    "\n",
    "# Tried replacing elu with relu just to see difference, slightly worse performance (.8818 accuracy)\n",
    "# custom_elu = lambda x: elu(x, alpha=1e-2)\n",
    "\n",
    "# model = Sequential()\n",
    "# model.add(Dense(600, input_dim=X_train_ss.shape[1], activation='relu'))\n",
    "# model.add(Dense(300, activation='relu'))\n",
    "# model.add(Dense(200, activation='relu'))\n",
    "# model.add(Dense(100, activation='relu'))\n",
    "# model.add(Dense(50, activation='relu'))\n",
    "# model.add(Dense(100, activation='relu'))\n",
    "# model.add(Dense(1, activation='sigmoid'))\n",
    "\n",
    "# model.compile(optimizer=Adagrad(learning_rate=.5), \n",
    "#               loss='bce', \n",
    "#               metrics=['accuracy'])\n",
    "\n",
    "# history = model.fit(X_train_ss, y_train,\n",
    "#                     batch_size=8, epochs=100,\n",
    "#                     # callbacks=EarlyStopping(patience=5),\n",
    "#                     validation_data=(X_test_ss, y_test))"
   ]
  },
  {
   "cell_type": "markdown",
   "id": "f5260431-f4ca-4942-96fe-1b1e5ce16904",
   "metadata": {},
   "source": [
    "#### Must run this cell in order to be able to load model results"
   ]
  },
  {
   "cell_type": "code",
   "execution_count": 20,
   "id": "184366c0-7dcb-4554-994a-ffcf4ca2f94b",
   "metadata": {
    "tags": []
   },
   "outputs": [],
   "source": [
    "set_seed(42)\n",
    "\n",
    "custom_elu = lambda x: elu(x, alpha=1e-2)\n",
    "\n",
    "best_model_saver = ModelCheckpoint(filepath='data/new_model',\n",
    "                                   monitor='val_accuracy',\n",
    "                                   save_best_only=True,\n",
    "                                   # initial_value_threshold=.920,\n",
    "                                   save_weights_only=True,\n",
    "                                   mode='max')\n",
    "\n",
    "model = Sequential()\n",
    "model.add(Dense(600, input_dim=X_train_ss.shape[1], activation=custom_elu))\n",
    "model.add(Dropout(.2))\n",
    "model.add(Dense(300, activation=custom_elu))\n",
    "model.add(Dropout(.2))\n",
    "model.add(Dense(200, activation=custom_elu))\n",
    "model.add(Dropout(.2))\n",
    "model.add(Dense(100, activation=custom_elu))\n",
    "model.add(Dropout(.2))\n",
    "model.add(Dense(50, activation=custom_elu))\n",
    "model.add(Dropout(.2))\n",
    "model.add(Dense(100, activation=custom_elu))\n",
    "model.add(Dense(1, activation='sigmoid'))\n",
    "\n",
    "model.compile(optimizer=Adagrad(learning_rate=.25), \n",
    "              loss='bce', \n",
    "              metrics=['accuracy'])"
   ]
  },
  {
   "cell_type": "markdown",
   "id": "0d8733c8-e3a9-4dac-9965-e332571c4e0f",
   "metadata": {},
   "source": [
    "#### Skip this cell unless you wish to train new model"
   ]
  },
  {
   "cell_type": "code",
   "execution_count": 21,
   "id": "45e767fa-3335-4800-a171-67bffe045436",
   "metadata": {
    "tags": []
   },
   "outputs": [],
   "source": [
    "history = model.fit(X_train_ss, y_train_aqs,\n",
    "                    batch_size=8, epochs=200,\n",
    "                    callbacks=[best_model_saver],\n",
    "                    validation_data=(X_test_ss, y_test_aqs),\n",
    "                    verbose=0)"
   ]
  },
  {
   "cell_type": "code",
   "execution_count": 22,
   "id": "63da8629-0ad9-4c3f-ba3a-0d0013e05e75",
   "metadata": {},
   "outputs": [
    {
     "data": {
      "image/png": "[encoded data removed]",
      "text/plain": [
       "<Figure size 720x720 with 1 Axes>"
      ]
     },
     "metadata": {
      "needs_background": "light"
     },
     "output_type": "display_data"
    }
   ],
   "source": [
    "plt.figure(figsize=(10,10))\n",
    "plt.plot(history.history['loss'], label='Train')\n",
    "plt.plot(history.history['val_loss'], label='Test')\n",
    "plt.xlabel('Epoch')\n",
    "plt.ylabel('Loss')\n",
    "# plt.ylim([0,2])\n",
    "plt.legend();"
   ]
  },
  {
   "cell_type": "markdown",
   "id": "5a0b807b-c23f-4a57-a832-4609235f2ec6",
   "metadata": {},
   "source": [
    "## Loading in best model"
   ]
  },
  {
   "cell_type": "code",
   "execution_count": 23,
   "id": "42d2b66f-9299-46d8-8f9c-d17a5a9e12eb",
   "metadata": {},
   "outputs": [
    {
     "data": {
      "text/plain": [
       "<tensorflow.python.checkpoint.checkpoint.CheckpointLoadStatus at 0x7fd355011c70>"
      ]
     },
     "execution_count": 23,
     "metadata": {},
     "output_type": "execute_result"
    }
   ],
   "source": [
    "model.load_weights('data/new_model')"
   ]
  },
  {
   "cell_type": "code",
   "execution_count": 32,
   "id": "c2851110-2c3b-4af5-9dd7-7d1352a675e3",
   "metadata": {},
   "outputs": [
    {
     "data": {
      "text/plain": [
       "<tensorflow.python.checkpoint.checkpoint.CheckpointLoadStatus at 0x7fd35792ef70>"
      ]
     },
     "execution_count": 32,
     "metadata": {},
     "output_type": "execute_result"
    }
   ],
   "source": [
    "model.load_weights('data/models/aqs_model_7537')"
   ]
  },
  {
   "cell_type": "markdown",
   "id": "d51cfe40-5059-41b0-8d65-ed9019b90c41",
   "metadata": {},
   "source": [
    "#### Generate predictions for performance analysis"
   ]
  },
  {
   "cell_type": "code",
   "execution_count": 33,
   "id": "259795ed-4467-437d-8637-20da161b4343",
   "metadata": {
    "tags": []
   },
   "outputs": [
    {
     "name": "stdout",
     "output_type": "stream",
     "text": [
      "7/7 [==============================] - 0s 5ms/step\n"
     ]
    }
   ],
   "source": [
    "y_pred = model.predict(X_test_ss)\n",
    "y_pred = pd.Series(y_pred.reshape(-1))\n",
    "y_pred = y_pred.map(lambda x: 1 if x>.5 else 0)"
   ]
  },
  {
   "cell_type": "code",
   "execution_count": 34,
   "id": "da7c9170-17ec-411d-8f63-f5a8a4e839aa",
   "metadata": {},
   "outputs": [
    {
     "data": {
      "text/html": [
       "<div>\n",
       "<style scoped>\n",
       "    .dataframe tbody tr th:only-of-type {\n",
       "        vertical-align: middle;\n",
       "    }\n",
       "\n",
       "    .dataframe tbody tr th {\n",
       "        vertical-align: top;\n",
       "    }\n",
       "\n",
       "    .dataframe thead th {\n",
       "        text-align: right;\n",
       "    }\n",
       "</style>\n",
       "<table border=\"1\" class=\"dataframe\">\n",
       "  <thead>\n",
       "    <tr style=\"text-align: right;\">\n",
       "      <th></th>\n",
       "      <th>0</th>\n",
       "      <th>1</th>\n",
       "      <th>accuracy</th>\n",
       "      <th>macro avg</th>\n",
       "      <th>weighted avg</th>\n",
       "    </tr>\n",
       "  </thead>\n",
       "  <tbody>\n",
       "    <tr>\n",
       "      <th>precision</th>\n",
       "      <td>0.789916</td>\n",
       "      <td>0.702381</td>\n",
       "      <td>0.753695</td>\n",
       "      <td>0.746148</td>\n",
       "      <td>0.753695</td>\n",
       "    </tr>\n",
       "    <tr>\n",
       "      <th>recall</th>\n",
       "      <td>0.789916</td>\n",
       "      <td>0.702381</td>\n",
       "      <td>0.753695</td>\n",
       "      <td>0.746148</td>\n",
       "      <td>0.753695</td>\n",
       "    </tr>\n",
       "    <tr>\n",
       "      <th>f1-score</th>\n",
       "      <td>0.789916</td>\n",
       "      <td>0.702381</td>\n",
       "      <td>0.753695</td>\n",
       "      <td>0.746148</td>\n",
       "      <td>0.753695</td>\n",
       "    </tr>\n",
       "    <tr>\n",
       "      <th>support</th>\n",
       "      <td>119.000000</td>\n",
       "      <td>84.000000</td>\n",
       "      <td>0.753695</td>\n",
       "      <td>203.000000</td>\n",
       "      <td>203.000000</td>\n",
       "    </tr>\n",
       "  </tbody>\n",
       "</table>\n",
       "</div>"
      ],
      "text/plain": [
       "                    0          1  accuracy   macro avg  weighted avg\n",
       "precision    0.789916   0.702381  0.753695    0.746148      0.753695\n",
       "recall       0.789916   0.702381  0.753695    0.746148      0.753695\n",
       "f1-score     0.789916   0.702381  0.753695    0.746148      0.753695\n",
       "support    119.000000  84.000000  0.753695  203.000000    203.000000"
      ]
     },
     "execution_count": 34,
     "metadata": {},
     "output_type": "execute_result"
    }
   ],
   "source": [
    "pd.DataFrame(classification_report(y_test_aqs, y_pred, output_dict=True))"
   ]
  },
  {
   "cell_type": "code",
   "execution_count": 35,
   "id": "1807a8f7-5758-4f63-986f-b63e011ba0fb",
   "metadata": {},
   "outputs": [
    {
     "data": {
      "image/png": "[encoded data removed]",
      "text/plain": [
       "<Figure size 720x720 with 2 Axes>"
      ]
     },
     "metadata": {
      "needs_background": "light"
     },
     "output_type": "display_data"
    }
   ],
   "source": [
    "fig, ax = plt.subplots(figsize=(10,10))\n",
    "ConfusionMatrixDisplay.from_predictions(y_test_aqs, y_pred, ax=ax);"
   ]
  },
  {
   "cell_type": "code",
   "execution_count": 36,
   "id": "90717797-a25d-48fd-9f4c-ecd49c4c2e9d",
   "metadata": {},
   "outputs": [
    {
     "data": {
      "image/png": "[encoded data removed]",
      "text/plain": [
       "<Figure size 720x720 with 1 Axes>"
      ]
     },
     "metadata": {
      "needs_background": "light"
     },
     "output_type": "display_data"
    }
   ],
   "source": [
    "fig, ax = plt.subplots(figsize=(10,10))\n",
    "RocCurveDisplay.from_predictions(y_test_aqs, y_pred, ax=ax);"
   ]
  }
 ],
 "metadata": {
  "kernelspec": {
   "display_name": "Python 3 (ipykernel)",
   "language": "python",
   "name": "python3"
  },
  "language_info": {
   "codemirror_mode": {
    "name": "ipython",
    "version": 3
   },
   "file_extension": ".py",
   "mimetype": "text/x-python",
   "name": "python",
   "nbconvert_exporter": "python",
   "pygments_lexer": "ipython3",
   "version": "3.8.8"
  }
 },
 "nbformat": 4,
 "nbformat_minor": 5
}
