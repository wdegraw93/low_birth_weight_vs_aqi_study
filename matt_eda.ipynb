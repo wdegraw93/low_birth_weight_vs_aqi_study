{
 "cells": [
  {
   "cell_type": "code",
   "execution_count": null,
   "id": "6ff9416d-c0bb-43a5-9125-7add02b3301a",
   "metadata": {},
   "outputs": [],
   "source": []
  },
  {
   "cell_type": "markdown",
   "id": "6e2236f5-2486-4ab7-9621-07f56ec267c0",
   "metadata": {},
   "source": [
    "## Imports"
   ]
  },
  {
   "cell_type": "code",
   "execution_count": 1,
   "id": "0d8764a4-17e0-445b-8745-0bf3b54c1b7b",
   "metadata": {
    "execution": {
     "iopub.execute_input": "2023-01-19T02:39:39.465807Z",
     "iopub.status.busy": "2023-01-19T02:39:39.465493Z",
     "iopub.status.idle": "2023-01-19T02:39:40.336343Z",
     "shell.execute_reply": "2023-01-19T02:39:40.336055Z",
     "shell.execute_reply.started": "2023-01-19T02:39:39.465778Z"
    },
    "tags": []
   },
   "outputs": [],
   "source": [
    "import pandas as pd\n",
    "import numpy as np\n",
    "import matplotlib.pyplot as plt\n",
    "import seaborn as sns\n",
    "\n",
    "from pathlib import Pathc"
   ]
  },
  {
   "cell_type": "markdown",
   "id": "11caf38f-22ca-4b3d-be5e-81caeb4c18f8",
   "metadata": {},
   "source": [
    "# EDA"
   ]
  },
  {
   "cell_type": "markdown",
   "id": "4c9a3dbc-9888-4e5d-98ff-68d4f4adb076",
   "metadata": {
    "tags": []
   },
   "source": [
    "## Read Cleaned Data"
   ]
  },
  {
   "cell_type": "code",
   "execution_count": null,
   "id": "379fab6a-2541-4953-b2df-390fea839d63",
   "metadata": {
    "execution": {
     "iopub.status.busy": "2023-01-19T02:40:24.230519Z",
     "iopub.status.idle": "2023-01-19T02:40:24.230651Z",
     "shell.execute_reply": "2023-01-19T02:40:24.230589Z",
     "shell.execute_reply.started": "2023-01-19T02:40:24.230582Z"
    },
    "tags": []
   },
   "outputs": [],
   "source": [
    "df = pd.read_csv('data/combined_clean.csv')"
   ]
  },
  {
   "cell_type": "code",
   "execution_count": null,
   "id": "ce256294-ed0d-4a52-8c43-38fcf44afcd3",
   "metadata": {
    "execution": {
     "iopub.status.busy": "2023-01-19T02:40:24.231312Z",
     "iopub.status.idle": "2023-01-19T02:40:24.231450Z",
     "shell.execute_reply": "2023-01-19T02:40:24.231390Z",
     "shell.execute_reply.started": "2023-01-19T02:40:24.231384Z"
    },
    "tags": []
   },
   "outputs": [],
   "source": [
    "df.head()"
   ]
  },
  {
   "cell_type": "code",
   "execution_count": null,
   "id": "a3d2d06e-6f65-4803-ae6e-de30a937fc78",
   "metadata": {
    "execution": {
     "iopub.status.busy": "2023-01-19T02:40:24.232019Z",
     "iopub.status.idle": "2023-01-19T02:40:24.232306Z",
     "shell.execute_reply": "2023-01-19T02:40:24.232232Z",
     "shell.execute_reply.started": "2023-01-19T02:40:24.232225Z"
    }
   },
   "outputs": [],
   "source": [
    "df.describe()"
   ]
  },
  {
   "cell_type": "code",
   "execution_count": null,
   "id": "8c1d0a64-13b1-4920-bb97-d3f0e210f1fb",
   "metadata": {
    "execution": {
     "iopub.status.busy": "2023-01-19T02:40:24.232877Z",
     "iopub.status.idle": "2023-01-19T02:40:24.233079Z",
     "shell.execute_reply": "2023-01-19T02:40:24.232996Z",
     "shell.execute_reply.started": "2023-01-19T02:40:24.232988Z"
    },
    "tags": []
   },
   "outputs": [],
   "source": [
    "sns.displot(df['pct_low']);"
   ]
  },
  {
   "cell_type": "code",
   "execution_count": null,
   "id": "29198bcd-594a-469e-8165-63167e53c3a3",
   "metadata": {
    "execution": {
     "iopub.status.busy": "2023-01-19T02:40:24.233625Z",
     "iopub.status.idle": "2023-01-19T02:40:24.233858Z",
     "shell.execute_reply": "2023-01-19T02:40:24.233725Z",
     "shell.execute_reply.started": "2023-01-19T02:40:24.233719Z"
    },
    "tags": []
   },
   "outputs": [],
   "source": [
    "sns.displot(df['90_per_aqi'],\n",
    "            bins=30)"
   ]
  },
  {
   "cell_type": "code",
   "execution_count": null,
   "id": "2a0d4d88-7753-4458-bb14-0bcd2cffbc3a",
   "metadata": {
    "execution": {
     "iopub.status.busy": "2023-01-19T02:40:24.234368Z",
     "iopub.status.idle": "2023-01-19T02:40:24.234676Z",
     "shell.execute_reply": "2023-01-19T02:40:24.234569Z",
     "shell.execute_reply.started": "2023-01-19T02:40:24.234558Z"
    },
    "tags": []
   },
   "outputs": [],
   "source": [
    "sns.displot(df['days_ozone'])"
   ]
  },
  {
   "cell_type": "code",
   "execution_count": null,
   "id": "be626a2c-dfd7-4bea-b457-b731ca0ee6e3",
   "metadata": {
    "execution": {
     "iopub.status.busy": "2023-01-19T02:40:24.235296Z",
     "iopub.status.idle": "2023-01-19T02:40:24.235450Z",
     "shell.execute_reply": "2023-01-19T02:40:24.235362Z",
     "shell.execute_reply.started": "2023-01-19T02:40:24.235355Z"
    }
   },
   "outputs": [],
   "source": [
    "sns.displot(df['days_pm2.5'])"
   ]
  },
  {
   "cell_type": "code",
   "execution_count": null,
   "id": "97460814-2a22-4a11-8f22-6503ccdae9db",
   "metadata": {
    "execution": {
     "iopub.status.busy": "2023-01-19T02:40:24.236006Z",
     "iopub.status.idle": "2023-01-19T02:40:24.236141Z",
     "shell.execute_reply": "2023-01-19T02:40:24.236065Z",
     "shell.execute_reply.started": "2023-01-19T02:40:24.236060Z"
    }
   },
   "outputs": [],
   "source": [
    "sns.displot(df['days_pm10'])"
   ]
  },
  {
   "cell_type": "code",
   "execution_count": null,
   "id": "e8bd8f40-829b-4013-a009-e5e4128091ea",
   "metadata": {
    "execution": {
     "iopub.status.busy": "2023-01-19T02:40:24.237067Z",
     "iopub.status.idle": "2023-01-19T02:40:24.237298Z",
     "shell.execute_reply": "2023-01-19T02:40:24.237198Z",
     "shell.execute_reply.started": "2023-01-19T02:40:24.237185Z"
    }
   },
   "outputs": [],
   "source": [
    "sns.displot(df['good_days'])"
   ]
  },
  {
   "cell_type": "markdown",
   "id": "41b17357-9f6a-41f0-bc62-ca65bf23371b",
   "metadata": {},
   "source": [
    "What are the state/county combos with the highest percentage of low birthweight?"
   ]
  },
  {
   "cell_type": "code",
   "execution_count": null,
   "id": "b2cdc10b-94a4-41ec-a2ec-5477cfc5d8a9",
   "metadata": {
    "execution": {
     "iopub.status.busy": "2023-01-19T02:40:24.238132Z",
     "iopub.status.idle": "2023-01-19T02:40:24.238505Z",
     "shell.execute_reply": "2023-01-19T02:40:24.238416Z",
     "shell.execute_reply.started": "2023-01-19T02:40:24.238407Z"
    },
    "tags": []
   },
   "outputs": [],
   "source": [
    "df.sort_values(by='pct_low', ascending=False).head(10)"
   ]
  },
  {
   "cell_type": "markdown",
   "id": "445c6fa1-d253-43ea-822a-c9bee618a92a",
   "metadata": {},
   "source": [
    "I see there are some entries here that look to have only 120 days or so of recording data (looking at the days_with_aqi).  Let's filter ones that have at least 300 so we're getting at least 10 months of data."
   ]
  },
  {
   "cell_type": "code",
   "execution_count": null,
   "id": "7c095c16-6be8-4fcb-ae0b-1e83766e2e93",
   "metadata": {
    "execution": {
     "iopub.status.busy": "2023-01-19T02:40:24.238988Z",
     "iopub.status.idle": "2023-01-19T02:40:24.239112Z",
     "shell.execute_reply": "2023-01-19T02:40:24.239047Z",
     "shell.execute_reply.started": "2023-01-19T02:40:24.239041Z"
    }
   },
   "outputs": [],
   "source": [
    "df_300 = df[df['days_with_aqi'] > 300]"
   ]
  },
  {
   "cell_type": "code",
   "execution_count": null,
   "id": "994a67f5-a640-4d34-97eb-845cecfbfc06",
   "metadata": {
    "execution": {
     "iopub.status.busy": "2023-01-19T02:40:24.239521Z",
     "iopub.status.idle": "2023-01-19T02:40:24.239689Z",
     "shell.execute_reply": "2023-01-19T02:40:24.239587Z",
     "shell.execute_reply.started": "2023-01-19T02:40:24.239581Z"
    }
   },
   "outputs": [],
   "source": [
    "df_300.sort_values(by='pct_low', ascending=False).head(10)"
   ]
  },
  {
   "cell_type": "markdown",
   "id": "7d6fa7e2-11f9-4dba-96f6-dbae45ff65fc",
   "metadata": {},
   "source": [
    "What are the year/county combinations that have the smallest percentage?"
   ]
  },
  {
   "cell_type": "code",
   "execution_count": null,
   "id": "32765a3f-9ec7-4f71-8f6e-a538035250b1",
   "metadata": {
    "execution": {
     "iopub.status.busy": "2023-01-19T02:40:24.240595Z",
     "iopub.status.idle": "2023-01-19T02:40:24.240754Z",
     "shell.execute_reply": "2023-01-19T02:40:24.240664Z",
     "shell.execute_reply.started": "2023-01-19T02:40:24.240658Z"
    }
   },
   "outputs": [],
   "source": [
    "df_300.sort_values(by='pct_low', ascending=True).head(10)"
   ]
  },
  {
   "cell_type": "code",
   "execution_count": null,
   "id": "f0cd6942-4e97-4c8a-9e5a-e051ffb710fa",
   "metadata": {},
   "outputs": [],
   "source": []
  }
 ],
 "metadata": {
  "kernelspec": {
   "display_name": "Python 3 (ipykernel)",
   "language": "python",
   "name": "python3"
  },
  "language_info": {
   "codemirror_mode": {
    "name": "ipython",
    "version": 3
   },
   "file_extension": ".py",
   "mimetype": "text/x-python",
   "name": "python",
   "nbconvert_exporter": "python",
   "pygments_lexer": "ipython3",
   "version": "3.9.15"
  }
 },
 "nbformat": 4,
 "nbformat_minor": 5
}
