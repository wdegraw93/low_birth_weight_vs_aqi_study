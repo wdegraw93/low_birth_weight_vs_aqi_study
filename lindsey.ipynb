{
 "cells": [
  {
   "cell_type": "markdown",
   "id": "3da4556f",
   "metadata": {},
   "source": [
    "# EDA - AQS Data"
   ]
  },
  {
   "cell_type": "markdown",
   "id": "272d63bd",
   "metadata": {},
   "source": [
    "## Imports"
   ]
  },
  {
   "cell_type": "code",
   "execution_count": 1,
   "id": "00f42b73",
   "metadata": {},
   "outputs": [],
   "source": [
    "import pandas as pd\n",
    "import numpy as np\n",
    "import matplotlib.pyplot as plt\n",
    "import seaborn as sns"
   ]
  },
  {
   "cell_type": "markdown",
   "id": "0e11ff34",
   "metadata": {},
   "source": [
    "## Read Cleaned Data"
   ]
  },
  {
   "cell_type": "markdown",
   "id": "0c075002",
   "metadata": {},
   "source": [
    "As described earlier, the ASQ data contains annual summary data based of measured pollutants. CDC information regarding birth weight is also included, and relationships will be examined below."
   ]
  },
  {
   "cell_type": "code",
   "execution_count": 2,
   "id": "725238ac",
   "metadata": {},
   "outputs": [],
   "source": [
    "# AQS sensor data collected via API\n",
    "\n",
    "file_path = 'data/aqs_by_county_clean.csv'\n",
    "aqs = pd.read_csv(file_path)"
   ]
  },
  {
   "cell_type": "markdown",
   "id": "ec9db27e",
   "metadata": {},
   "source": [
    "## Preliminary EDA - General"
   ]
  },
  {
   "cell_type": "code",
   "execution_count": 3,
   "id": "addb0c72",
   "metadata": {},
   "outputs": [
    {
     "data": {
      "text/html": [
       "<div>\n",
       "<style scoped>\n",
       "    .dataframe tbody tr th:only-of-type {\n",
       "        vertical-align: middle;\n",
       "    }\n",
       "\n",
       "    .dataframe tbody tr th {\n",
       "        vertical-align: top;\n",
       "    }\n",
       "\n",
       "    .dataframe thead th {\n",
       "        text-align: right;\n",
       "    }\n",
       "</style>\n",
       "<table border=\"1\" class=\"dataframe\">\n",
       "  <thead>\n",
       "    <tr style=\"text-align: right;\">\n",
       "      <th></th>\n",
       "      <th>state</th>\n",
       "      <th>county</th>\n",
       "      <th>year</th>\n",
       "      <th>Carbon monoxide</th>\n",
       "      <th>Nitrogen dioxide (NO2)</th>\n",
       "      <th>Ozone</th>\n",
       "      <th>PM10 Total 0-10um STP</th>\n",
       "      <th>PM2.5 - Local Conditions</th>\n",
       "      <th>births_low</th>\n",
       "      <th>avg_weight_low</th>\n",
       "      <th>avg_ges_age_low</th>\n",
       "      <th>births_all</th>\n",
       "      <th>avg_weight_all</th>\n",
       "      <th>avg_ges_age_all</th>\n",
       "      <th>pct_low</th>\n",
       "      <th>high_rate</th>\n",
       "    </tr>\n",
       "  </thead>\n",
       "  <tbody>\n",
       "    <tr>\n",
       "      <th>0</th>\n",
       "      <td>alabama</td>\n",
       "      <td>jefferson</td>\n",
       "      <td>2014</td>\n",
       "      <td>0.578752</td>\n",
       "      <td>28.600838</td>\n",
       "      <td>0.048302</td>\n",
       "      <td>24.918033</td>\n",
       "      <td>11.698347</td>\n",
       "      <td>687.0</td>\n",
       "      <td>1940.866</td>\n",
       "      <td>34.068</td>\n",
       "      <td>7376.0</td>\n",
       "      <td>3216.859</td>\n",
       "      <td>38.508</td>\n",
       "      <td>0.093</td>\n",
       "      <td>1</td>\n",
       "    </tr>\n",
       "    <tr>\n",
       "      <th>1</th>\n",
       "      <td>alabama</td>\n",
       "      <td>jefferson</td>\n",
       "      <td>2015</td>\n",
       "      <td>0.526681</td>\n",
       "      <td>22.163818</td>\n",
       "      <td>0.047164</td>\n",
       "      <td>23.883333</td>\n",
       "      <td>11.772881</td>\n",
       "      <td>681.0</td>\n",
       "      <td>1903.761</td>\n",
       "      <td>33.633</td>\n",
       "      <td>7032.0</td>\n",
       "      <td>3210.182</td>\n",
       "      <td>38.434</td>\n",
       "      <td>0.097</td>\n",
       "      <td>1</td>\n",
       "    </tr>\n",
       "    <tr>\n",
       "      <th>2</th>\n",
       "      <td>alabama</td>\n",
       "      <td>jefferson</td>\n",
       "      <td>2016</td>\n",
       "      <td>0.444555</td>\n",
       "      <td>28.544643</td>\n",
       "      <td>0.051325</td>\n",
       "      <td>24.256809</td>\n",
       "      <td>10.781667</td>\n",
       "      <td>709.0</td>\n",
       "      <td>1947.176</td>\n",
       "      <td>34.059</td>\n",
       "      <td>7061.0</td>\n",
       "      <td>3188.066</td>\n",
       "      <td>38.456</td>\n",
       "      <td>0.100</td>\n",
       "      <td>1</td>\n",
       "    </tr>\n",
       "    <tr>\n",
       "      <th>3</th>\n",
       "      <td>alabama</td>\n",
       "      <td>jefferson</td>\n",
       "      <td>2017</td>\n",
       "      <td>0.367024</td>\n",
       "      <td>20.712610</td>\n",
       "      <td>0.045971</td>\n",
       "      <td>22.300057</td>\n",
       "      <td>10.325455</td>\n",
       "      <td>662.0</td>\n",
       "      <td>1929.279</td>\n",
       "      <td>34.045</td>\n",
       "      <td>6767.0</td>\n",
       "      <td>3202.834</td>\n",
       "      <td>38.456</td>\n",
       "      <td>0.098</td>\n",
       "      <td>1</td>\n",
       "    </tr>\n",
       "    <tr>\n",
       "      <th>4</th>\n",
       "      <td>alabama</td>\n",
       "      <td>jefferson</td>\n",
       "      <td>2018</td>\n",
       "      <td>0.344179</td>\n",
       "      <td>23.718644</td>\n",
       "      <td>0.049131</td>\n",
       "      <td>22.985533</td>\n",
       "      <td>10.329508</td>\n",
       "      <td>570.0</td>\n",
       "      <td>1959.763</td>\n",
       "      <td>34.040</td>\n",
       "      <td>6560.0</td>\n",
       "      <td>3222.885</td>\n",
       "      <td>38.468</td>\n",
       "      <td>0.087</td>\n",
       "      <td>1</td>\n",
       "    </tr>\n",
       "  </tbody>\n",
       "</table>\n",
       "</div>"
      ],
      "text/plain": [
       "     state     county  year  Carbon monoxide  Nitrogen dioxide (NO2)  \\\n",
       "0  alabama  jefferson  2014         0.578752               28.600838   \n",
       "1  alabama  jefferson  2015         0.526681               22.163818   \n",
       "2  alabama  jefferson  2016         0.444555               28.544643   \n",
       "3  alabama  jefferson  2017         0.367024               20.712610   \n",
       "4  alabama  jefferson  2018         0.344179               23.718644   \n",
       "\n",
       "      Ozone  PM10 Total 0-10um STP  PM2.5 - Local Conditions  births_low  \\\n",
       "0  0.048302              24.918033                 11.698347       687.0   \n",
       "1  0.047164              23.883333                 11.772881       681.0   \n",
       "2  0.051325              24.256809                 10.781667       709.0   \n",
       "3  0.045971              22.300057                 10.325455       662.0   \n",
       "4  0.049131              22.985533                 10.329508       570.0   \n",
       "\n",
       "   avg_weight_low  avg_ges_age_low  births_all  avg_weight_all  \\\n",
       "0        1940.866           34.068      7376.0        3216.859   \n",
       "1        1903.761           33.633      7032.0        3210.182   \n",
       "2        1947.176           34.059      7061.0        3188.066   \n",
       "3        1929.279           34.045      6767.0        3202.834   \n",
       "4        1959.763           34.040      6560.0        3222.885   \n",
       "\n",
       "   avg_ges_age_all  pct_low  high_rate  \n",
       "0           38.508    0.093          1  \n",
       "1           38.434    0.097          1  \n",
       "2           38.456    0.100          1  \n",
       "3           38.456    0.098          1  \n",
       "4           38.468    0.087          1  "
      ]
     },
     "execution_count": 3,
     "metadata": {},
     "output_type": "execute_result"
    }
   ],
   "source": [
    "aqs.head() "
   ]
  },
  {
   "cell_type": "code",
   "execution_count": 4,
   "id": "cbab76a3",
   "metadata": {},
   "outputs": [
    {
     "data": {
      "text/plain": [
       "(1012, 16)"
      ]
     },
     "execution_count": 4,
     "metadata": {},
     "output_type": "execute_result"
    }
   ],
   "source": [
    "aqs.shape "
   ]
  },
  {
   "cell_type": "code",
   "execution_count": 5,
   "id": "6ad31cd6",
   "metadata": {},
   "outputs": [
    {
     "data": {
      "text/plain": [
       "Index(['state', 'county', 'year', 'Carbon monoxide', 'Nitrogen dioxide (NO2)',\n",
       "       'Ozone', 'PM10 Total 0-10um STP', 'PM2.5 - Local Conditions',\n",
       "       'births_low', 'avg_weight_low', 'avg_ges_age_low', 'births_all',\n",
       "       'avg_weight_all', 'avg_ges_age_all', 'pct_low', 'high_rate'],\n",
       "      dtype='object')"
      ]
     },
     "execution_count": 5,
     "metadata": {},
     "output_type": "execute_result"
    }
   ],
   "source": [
    "aqs.columns"
   ]
  },
  {
   "cell_type": "code",
   "execution_count": 7,
   "id": "0671e88b",
   "metadata": {},
   "outputs": [
    {
     "data": {
      "text/plain": [
       "state                        object\n",
       "county                       object\n",
       "year                          int64\n",
       "Carbon monoxide             float64\n",
       "Nitrogen dioxide (NO2)      float64\n",
       "Ozone                       float64\n",
       "PM10 Total 0-10um STP       float64\n",
       "PM2.5 - Local Conditions    float64\n",
       "births_low                  float64\n",
       "avg_weight_low              float64\n",
       "avg_ges_age_low             float64\n",
       "births_all                  float64\n",
       "avg_weight_all              float64\n",
       "avg_ges_age_all             float64\n",
       "pct_low                     float64\n",
       "high_rate                     int64\n",
       "dtype: object"
      ]
     },
     "execution_count": 7,
     "metadata": {},
     "output_type": "execute_result"
    }
   ],
   "source": [
    "aqs.dtypes"
   ]
  },
  {
   "cell_type": "code",
   "execution_count": 8,
   "id": "ab7a5d79",
   "metadata": {},
   "outputs": [
    {
     "data": {
      "text/plain": [
       "array([2006, 2007, 2008, 2009, 2010, 2011, 2012, 2013, 2014, 2015, 2016,\n",
       "       2017, 2018, 2019, 2020])"
      ]
     },
     "execution_count": 8,
     "metadata": {},
     "output_type": "execute_result"
    }
   ],
   "source": [
    "aqs['year'].sort_values().unique()"
   ]
  },
  {
   "cell_type": "code",
   "execution_count": 84,
   "id": "29fdcdac",
   "metadata": {},
   "outputs": [
    {
     "data": {
      "image/png": "[encoded data removed]",
      "text/plain": [
       "<Figure size 640x480 with 2 Axes>"
      ]
     },
     "metadata": {},
     "output_type": "display_data"
    }
   ],
   "source": [
    "sns.heatmap(data=aqs.corr());"
   ]
  },
  {
   "cell_type": "code",
   "execution_count": 85,
   "id": "21a24517",
   "metadata": {},
   "outputs": [
    {
     "data": {
      "text/html": [
       "<div>\n",
       "<style scoped>\n",
       "    .dataframe tbody tr th:only-of-type {\n",
       "        vertical-align: middle;\n",
       "    }\n",
       "\n",
       "    .dataframe tbody tr th {\n",
       "        vertical-align: top;\n",
       "    }\n",
       "\n",
       "    .dataframe thead th {\n",
       "        text-align: right;\n",
       "    }\n",
       "</style>\n",
       "<table border=\"1\" class=\"dataframe\">\n",
       "  <thead>\n",
       "    <tr style=\"text-align: right;\">\n",
       "      <th></th>\n",
       "      <th>year</th>\n",
       "      <th>Carbon monoxide</th>\n",
       "      <th>Nitrogen dioxide (NO2)</th>\n",
       "      <th>Ozone</th>\n",
       "      <th>PM10 Total 0-10um STP</th>\n",
       "      <th>PM2.5 - Local Conditions</th>\n",
       "      <th>births_low</th>\n",
       "      <th>avg_weight_low</th>\n",
       "      <th>avg_ges_age_low</th>\n",
       "      <th>births_all</th>\n",
       "      <th>avg_weight_all</th>\n",
       "      <th>avg_ges_age_all</th>\n",
       "      <th>pct_low</th>\n",
       "      <th>high_rate</th>\n",
       "    </tr>\n",
       "  </thead>\n",
       "  <tbody>\n",
       "    <tr>\n",
       "      <th>year</th>\n",
       "      <td>1.000000</td>\n",
       "      <td>-0.284783</td>\n",
       "      <td>-0.205441</td>\n",
       "      <td>-0.235268</td>\n",
       "      <td>-0.190889</td>\n",
       "      <td>-0.271658</td>\n",
       "      <td>-0.079514</td>\n",
       "      <td>0.123315</td>\n",
       "      <td>0.116481</td>\n",
       "      <td>-0.088985</td>\n",
       "      <td>-0.181950</td>\n",
       "      <td>-0.097625</td>\n",
       "      <td>0.109230</td>\n",
       "      <td>0.067711</td>\n",
       "    </tr>\n",
       "    <tr>\n",
       "      <th>Carbon monoxide</th>\n",
       "      <td>-0.284783</td>\n",
       "      <td>1.000000</td>\n",
       "      <td>0.481558</td>\n",
       "      <td>0.335530</td>\n",
       "      <td>0.299211</td>\n",
       "      <td>0.302716</td>\n",
       "      <td>0.338543</td>\n",
       "      <td>0.041591</td>\n",
       "      <td>0.092333</td>\n",
       "      <td>0.355429</td>\n",
       "      <td>-0.131400</td>\n",
       "      <td>-0.065774</td>\n",
       "      <td>0.060382</td>\n",
       "      <td>0.019335</td>\n",
       "    </tr>\n",
       "    <tr>\n",
       "      <th>Nitrogen dioxide (NO2)</th>\n",
       "      <td>-0.205441</td>\n",
       "      <td>0.481558</td>\n",
       "      <td>1.000000</td>\n",
       "      <td>0.532001</td>\n",
       "      <td>0.474691</td>\n",
       "      <td>0.459212</td>\n",
       "      <td>0.454067</td>\n",
       "      <td>0.122450</td>\n",
       "      <td>0.181509</td>\n",
       "      <td>0.457457</td>\n",
       "      <td>-0.348011</td>\n",
       "      <td>-0.190047</td>\n",
       "      <td>0.197803</td>\n",
       "      <td>0.033822</td>\n",
       "    </tr>\n",
       "    <tr>\n",
       "      <th>Ozone</th>\n",
       "      <td>-0.235268</td>\n",
       "      <td>0.335530</td>\n",
       "      <td>0.532001</td>\n",
       "      <td>1.000000</td>\n",
       "      <td>0.544358</td>\n",
       "      <td>0.552741</td>\n",
       "      <td>0.331060</td>\n",
       "      <td>-0.026980</td>\n",
       "      <td>-0.023345</td>\n",
       "      <td>0.352714</td>\n",
       "      <td>-0.206653</td>\n",
       "      <td>-0.276291</td>\n",
       "      <td>0.095332</td>\n",
       "      <td>-0.046305</td>\n",
       "    </tr>\n",
       "    <tr>\n",
       "      <th>PM10 Total 0-10um STP</th>\n",
       "      <td>-0.190889</td>\n",
       "      <td>0.299211</td>\n",
       "      <td>0.474691</td>\n",
       "      <td>0.544358</td>\n",
       "      <td>1.000000</td>\n",
       "      <td>0.578793</td>\n",
       "      <td>0.294027</td>\n",
       "      <td>0.091527</td>\n",
       "      <td>0.077573</td>\n",
       "      <td>0.308981</td>\n",
       "      <td>-0.127996</td>\n",
       "      <td>-0.178670</td>\n",
       "      <td>-0.007476</td>\n",
       "      <td>-0.047248</td>\n",
       "    </tr>\n",
       "    <tr>\n",
       "      <th>PM2.5 - Local Conditions</th>\n",
       "      <td>-0.271658</td>\n",
       "      <td>0.302716</td>\n",
       "      <td>0.459212</td>\n",
       "      <td>0.552741</td>\n",
       "      <td>0.578793</td>\n",
       "      <td>1.000000</td>\n",
       "      <td>0.311393</td>\n",
       "      <td>-0.133663</td>\n",
       "      <td>-0.111606</td>\n",
       "      <td>0.311609</td>\n",
       "      <td>-0.144439</td>\n",
       "      <td>-0.251139</td>\n",
       "      <td>0.122329</td>\n",
       "      <td>0.041465</td>\n",
       "    </tr>\n",
       "    <tr>\n",
       "      <th>births_low</th>\n",
       "      <td>-0.079514</td>\n",
       "      <td>0.338543</td>\n",
       "      <td>0.454067</td>\n",
       "      <td>0.331060</td>\n",
       "      <td>0.294027</td>\n",
       "      <td>0.311393</td>\n",
       "      <td>1.000000</td>\n",
       "      <td>0.016767</td>\n",
       "      <td>0.048745</td>\n",
       "      <td>0.989104</td>\n",
       "      <td>-0.254790</td>\n",
       "      <td>-0.256522</td>\n",
       "      <td>0.153893</td>\n",
       "      <td>-0.026109</td>\n",
       "    </tr>\n",
       "    <tr>\n",
       "      <th>avg_weight_low</th>\n",
       "      <td>0.123315</td>\n",
       "      <td>0.041591</td>\n",
       "      <td>0.122450</td>\n",
       "      <td>-0.026980</td>\n",
       "      <td>0.091527</td>\n",
       "      <td>-0.133663</td>\n",
       "      <td>0.016767</td>\n",
       "      <td>1.000000</td>\n",
       "      <td>0.895485</td>\n",
       "      <td>0.048606</td>\n",
       "      <td>0.125803</td>\n",
       "      <td>0.272415</td>\n",
       "      <td>-0.296743</td>\n",
       "      <td>-0.222018</td>\n",
       "    </tr>\n",
       "    <tr>\n",
       "      <th>avg_ges_age_low</th>\n",
       "      <td>0.116481</td>\n",
       "      <td>0.092333</td>\n",
       "      <td>0.181509</td>\n",
       "      <td>-0.023345</td>\n",
       "      <td>0.077573</td>\n",
       "      <td>-0.111606</td>\n",
       "      <td>0.048745</td>\n",
       "      <td>0.895485</td>\n",
       "      <td>1.000000</td>\n",
       "      <td>0.063157</td>\n",
       "      <td>-0.032544</td>\n",
       "      <td>0.249129</td>\n",
       "      <td>-0.117991</td>\n",
       "      <td>-0.101451</td>\n",
       "    </tr>\n",
       "    <tr>\n",
       "      <th>births_all</th>\n",
       "      <td>-0.088985</td>\n",
       "      <td>0.355429</td>\n",
       "      <td>0.457457</td>\n",
       "      <td>0.352714</td>\n",
       "      <td>0.308981</td>\n",
       "      <td>0.311609</td>\n",
       "      <td>0.989104</td>\n",
       "      <td>0.048606</td>\n",
       "      <td>0.063157</td>\n",
       "      <td>1.000000</td>\n",
       "      <td>-0.173957</td>\n",
       "      <td>-0.186392</td>\n",
       "      <td>0.057048</td>\n",
       "      <td>-0.089851</td>\n",
       "    </tr>\n",
       "    <tr>\n",
       "      <th>avg_weight_all</th>\n",
       "      <td>-0.181950</td>\n",
       "      <td>-0.131400</td>\n",
       "      <td>-0.348011</td>\n",
       "      <td>-0.206653</td>\n",
       "      <td>-0.127996</td>\n",
       "      <td>-0.144439</td>\n",
       "      <td>-0.254790</td>\n",
       "      <td>0.125803</td>\n",
       "      <td>-0.032544</td>\n",
       "      <td>-0.173957</td>\n",
       "      <td>1.000000</td>\n",
       "      <td>0.780428</td>\n",
       "      <td>-0.884441</td>\n",
       "      <td>-0.532169</td>\n",
       "    </tr>\n",
       "    <tr>\n",
       "      <th>avg_ges_age_all</th>\n",
       "      <td>-0.097625</td>\n",
       "      <td>-0.065774</td>\n",
       "      <td>-0.190047</td>\n",
       "      <td>-0.276291</td>\n",
       "      <td>-0.178670</td>\n",
       "      <td>-0.251139</td>\n",
       "      <td>-0.256522</td>\n",
       "      <td>0.272415</td>\n",
       "      <td>0.249129</td>\n",
       "      <td>-0.186392</td>\n",
       "      <td>0.780428</td>\n",
       "      <td>1.000000</td>\n",
       "      <td>-0.732745</td>\n",
       "      <td>-0.400417</td>\n",
       "    </tr>\n",
       "    <tr>\n",
       "      <th>pct_low</th>\n",
       "      <td>0.109230</td>\n",
       "      <td>0.060382</td>\n",
       "      <td>0.197803</td>\n",
       "      <td>0.095332</td>\n",
       "      <td>-0.007476</td>\n",
       "      <td>0.122329</td>\n",
       "      <td>0.153893</td>\n",
       "      <td>-0.296743</td>\n",
       "      <td>-0.117991</td>\n",
       "      <td>0.057048</td>\n",
       "      <td>-0.884441</td>\n",
       "      <td>-0.732745</td>\n",
       "      <td>1.000000</td>\n",
       "      <td>0.673264</td>\n",
       "    </tr>\n",
       "    <tr>\n",
       "      <th>high_rate</th>\n",
       "      <td>0.067711</td>\n",
       "      <td>0.019335</td>\n",
       "      <td>0.033822</td>\n",
       "      <td>-0.046305</td>\n",
       "      <td>-0.047248</td>\n",
       "      <td>0.041465</td>\n",
       "      <td>-0.026109</td>\n",
       "      <td>-0.222018</td>\n",
       "      <td>-0.101451</td>\n",
       "      <td>-0.089851</td>\n",
       "      <td>-0.532169</td>\n",
       "      <td>-0.400417</td>\n",
       "      <td>0.673264</td>\n",
       "      <td>1.000000</td>\n",
       "    </tr>\n",
       "  </tbody>\n",
       "</table>\n",
       "</div>"
      ],
      "text/plain": [
       "                              year  Carbon monoxide  Nitrogen dioxide (NO2)  \\\n",
       "year                      1.000000        -0.284783               -0.205441   \n",
       "Carbon monoxide          -0.284783         1.000000                0.481558   \n",
       "Nitrogen dioxide (NO2)   -0.205441         0.481558                1.000000   \n",
       "Ozone                    -0.235268         0.335530                0.532001   \n",
       "PM10 Total 0-10um STP    -0.190889         0.299211                0.474691   \n",
       "PM2.5 - Local Conditions -0.271658         0.302716                0.459212   \n",
       "births_low               -0.079514         0.338543                0.454067   \n",
       "avg_weight_low            0.123315         0.041591                0.122450   \n",
       "avg_ges_age_low           0.116481         0.092333                0.181509   \n",
       "births_all               -0.088985         0.355429                0.457457   \n",
       "avg_weight_all           -0.181950        -0.131400               -0.348011   \n",
       "avg_ges_age_all          -0.097625        -0.065774               -0.190047   \n",
       "pct_low                   0.109230         0.060382                0.197803   \n",
       "high_rate                 0.067711         0.019335                0.033822   \n",
       "\n",
       "                             Ozone  PM10 Total 0-10um STP  \\\n",
       "year                     -0.235268              -0.190889   \n",
       "Carbon monoxide           0.335530               0.299211   \n",
       "Nitrogen dioxide (NO2)    0.532001               0.474691   \n",
       "Ozone                     1.000000               0.544358   \n",
       "PM10 Total 0-10um STP     0.544358               1.000000   \n",
       "PM2.5 - Local Conditions  0.552741               0.578793   \n",
       "births_low                0.331060               0.294027   \n",
       "avg_weight_low           -0.026980               0.091527   \n",
       "avg_ges_age_low          -0.023345               0.077573   \n",
       "births_all                0.352714               0.308981   \n",
       "avg_weight_all           -0.206653              -0.127996   \n",
       "avg_ges_age_all          -0.276291              -0.178670   \n",
       "pct_low                   0.095332              -0.007476   \n",
       "high_rate                -0.046305              -0.047248   \n",
       "\n",
       "                          PM2.5 - Local Conditions  births_low  \\\n",
       "year                                     -0.271658   -0.079514   \n",
       "Carbon monoxide                           0.302716    0.338543   \n",
       "Nitrogen dioxide (NO2)                    0.459212    0.454067   \n",
       "Ozone                                     0.552741    0.331060   \n",
       "PM10 Total 0-10um STP                     0.578793    0.294027   \n",
       "PM2.5 - Local Conditions                  1.000000    0.311393   \n",
       "births_low                                0.311393    1.000000   \n",
       "avg_weight_low                           -0.133663    0.016767   \n",
       "avg_ges_age_low                          -0.111606    0.048745   \n",
       "births_all                                0.311609    0.989104   \n",
       "avg_weight_all                           -0.144439   -0.254790   \n",
       "avg_ges_age_all                          -0.251139   -0.256522   \n",
       "pct_low                                   0.122329    0.153893   \n",
       "high_rate                                 0.041465   -0.026109   \n",
       "\n",
       "                          avg_weight_low  avg_ges_age_low  births_all  \\\n",
       "year                            0.123315         0.116481   -0.088985   \n",
       "Carbon monoxide                 0.041591         0.092333    0.355429   \n",
       "Nitrogen dioxide (NO2)          0.122450         0.181509    0.457457   \n",
       "Ozone                          -0.026980        -0.023345    0.352714   \n",
       "PM10 Total 0-10um STP           0.091527         0.077573    0.308981   \n",
       "PM2.5 - Local Conditions       -0.133663        -0.111606    0.311609   \n",
       "births_low                      0.016767         0.048745    0.989104   \n",
       "avg_weight_low                  1.000000         0.895485    0.048606   \n",
       "avg_ges_age_low                 0.895485         1.000000    0.063157   \n",
       "births_all                      0.048606         0.063157    1.000000   \n",
       "avg_weight_all                  0.125803        -0.032544   -0.173957   \n",
       "avg_ges_age_all                 0.272415         0.249129   -0.186392   \n",
       "pct_low                        -0.296743        -0.117991    0.057048   \n",
       "high_rate                      -0.222018        -0.101451   -0.089851   \n",
       "\n",
       "                          avg_weight_all  avg_ges_age_all   pct_low  high_rate  \n",
       "year                           -0.181950        -0.097625  0.109230   0.067711  \n",
       "Carbon monoxide                -0.131400        -0.065774  0.060382   0.019335  \n",
       "Nitrogen dioxide (NO2)         -0.348011        -0.190047  0.197803   0.033822  \n",
       "Ozone                          -0.206653        -0.276291  0.095332  -0.046305  \n",
       "PM10 Total 0-10um STP          -0.127996        -0.178670 -0.007476  -0.047248  \n",
       "PM2.5 - Local Conditions       -0.144439        -0.251139  0.122329   0.041465  \n",
       "births_low                     -0.254790        -0.256522  0.153893  -0.026109  \n",
       "avg_weight_low                  0.125803         0.272415 -0.296743  -0.222018  \n",
       "avg_ges_age_low                -0.032544         0.249129 -0.117991  -0.101451  \n",
       "births_all                     -0.173957        -0.186392  0.057048  -0.089851  \n",
       "avg_weight_all                  1.000000         0.780428 -0.884441  -0.532169  \n",
       "avg_ges_age_all                 0.780428         1.000000 -0.732745  -0.400417  \n",
       "pct_low                        -0.884441        -0.732745  1.000000   0.673264  \n",
       "high_rate                      -0.532169        -0.400417  0.673264   1.000000  "
      ]
     },
     "execution_count": 85,
     "metadata": {},
     "output_type": "execute_result"
    }
   ],
   "source": [
    "aqs.corr()"
   ]
  },
  {
   "cell_type": "code",
   "execution_count": 95,
   "id": "716179e9",
   "metadata": {},
   "outputs": [
    {
     "data": {
      "text/plain": [
       "0.06677667984189732"
      ]
     },
     "execution_count": 95,
     "metadata": {},
     "output_type": "execute_result"
    }
   ],
   "source": [
    "aqs.pct_low.mean() #calculates mean percentage of total births that are low birth weight for this dataset"
   ]
  },
  {
   "cell_type": "code",
   "execution_count": 96,
   "id": "d5b0347f",
   "metadata": {},
   "outputs": [
    {
     "data": {
      "text/plain": [
       "0.066"
      ]
     },
     "execution_count": 96,
     "metadata": {},
     "output_type": "execute_result"
    }
   ],
   "source": [
    "aqs.pct_low.median() #calculates median percentage of total births that are low birth weight for this dataset"
   ]
  },
  {
   "cell_type": "markdown",
   "id": "5002c99e",
   "metadata": {},
   "source": [
    "### Discussion"
   ]
  },
  {
   "cell_type": "markdown",
   "id": "b85e3a14",
   "metadata": {},
   "source": [
    "The correlation between the individual pollutants and the high rate of low birth rate ranges from -0.0472 and 0.0677, which is not suggestive of strong correlation. However, in combination, there may be a stronger correlation. This will be examined through EDA in this section.\n",
    "\n",
    "*Additionally, it may be important to note that this dataset, which excludes babies born to mothers with known risk factors such as smoking, has a lower mean percentage of low birth weights (6.7%) than the national average of 8.7%.*"
   ]
  },
  {
   "cell_type": "markdown",
   "id": "5c925373",
   "metadata": {},
   "source": [
    "## EDA By Column - Pollutants"
   ]
  },
  {
   "cell_type": "markdown",
   "id": "ddc33540",
   "metadata": {},
   "source": [
    "It may be of use to observe minimums, maximums, means, and other statistical information for each of the pollutants. These will be examined below."
   ]
  },
  {
   "cell_type": "markdown",
   "id": "3df47996",
   "metadata": {},
   "source": [
    "##### 1. Carbon monoxide"
   ]
  },
  {
   "cell_type": "code",
   "execution_count": 18,
   "id": "29a6383e",
   "metadata": {},
   "outputs": [
    {
     "data": {
      "text/plain": [
       "count    1012.000000\n",
       "mean        0.381562\n",
       "std         0.163689\n",
       "min         0.043569\n",
       "25%         0.267306\n",
       "50%         0.352070\n",
       "75%         0.468691\n",
       "max         1.176400\n",
       "Name: Carbon monoxide, dtype: float64"
      ]
     },
     "execution_count": 18,
     "metadata": {},
     "output_type": "execute_result"
    }
   ],
   "source": [
    "aqs['Carbon monoxide'].describe() #shows a statistical summary of the CO column"
   ]
  },
  {
   "cell_type": "markdown",
   "id": "18d16fc9",
   "metadata": {},
   "source": [
    "#### Cases with lowest CO values"
   ]
  },
  {
   "cell_type": "code",
   "execution_count": 20,
   "id": "45a16657",
   "metadata": {},
   "outputs": [
    {
     "data": {
      "text/plain": [
       "840    0.043569\n",
       "928    0.050720\n",
       "927    0.052440\n",
       "839    0.053953\n",
       "833    0.067373\n",
       "Name: Carbon monoxide, dtype: float64"
      ]
     },
     "execution_count": 20,
     "metadata": {},
     "output_type": "execute_result"
    }
   ],
   "source": [
    "aqs['Carbon monoxide'].nsmallest() #shows the smallest CO values & their respective row numbers"
   ]
  },
  {
   "cell_type": "code",
   "execution_count": 21,
   "id": "59d58c68",
   "metadata": {},
   "outputs": [
    {
     "data": {
      "text/html": [
       "<div>\n",
       "<style scoped>\n",
       "    .dataframe tbody tr th:only-of-type {\n",
       "        vertical-align: middle;\n",
       "    }\n",
       "\n",
       "    .dataframe tbody tr th {\n",
       "        vertical-align: top;\n",
       "    }\n",
       "\n",
       "    .dataframe thead th {\n",
       "        text-align: right;\n",
       "    }\n",
       "</style>\n",
       "<table border=\"1\" class=\"dataframe\">\n",
       "  <thead>\n",
       "    <tr style=\"text-align: right;\">\n",
       "      <th></th>\n",
       "      <th>state</th>\n",
       "      <th>county</th>\n",
       "      <th>year</th>\n",
       "      <th>Carbon monoxide</th>\n",
       "      <th>Nitrogen dioxide (NO2)</th>\n",
       "      <th>Ozone</th>\n",
       "      <th>PM10 Total 0-10um STP</th>\n",
       "      <th>PM2.5 - Local Conditions</th>\n",
       "      <th>births_low</th>\n",
       "      <th>avg_weight_low</th>\n",
       "      <th>avg_ges_age_low</th>\n",
       "      <th>births_all</th>\n",
       "      <th>avg_weight_all</th>\n",
       "      <th>avg_ges_age_all</th>\n",
       "      <th>pct_low</th>\n",
       "      <th>high_rate</th>\n",
       "    </tr>\n",
       "  </thead>\n",
       "  <tbody>\n",
       "    <tr>\n",
       "      <th>840</th>\n",
       "      <td>pennsylvania</td>\n",
       "      <td>erie</td>\n",
       "      <td>2020</td>\n",
       "      <td>0.043569</td>\n",
       "      <td>12.209169</td>\n",
       "      <td>0.041915</td>\n",
       "      <td>12.514794</td>\n",
       "      <td>6.522519</td>\n",
       "      <td>154.0</td>\n",
       "      <td>2040.617</td>\n",
       "      <td>34.383</td>\n",
       "      <td>1984.0</td>\n",
       "      <td>3267.116</td>\n",
       "      <td>38.383</td>\n",
       "      <td>0.078</td>\n",
       "      <td>0</td>\n",
       "    </tr>\n",
       "    <tr>\n",
       "      <th>928</th>\n",
       "      <td>texas</td>\n",
       "      <td>travis</td>\n",
       "      <td>2010</td>\n",
       "      <td>0.050720</td>\n",
       "      <td>6.810979</td>\n",
       "      <td>0.047627</td>\n",
       "      <td>16.949153</td>\n",
       "      <td>10.019298</td>\n",
       "      <td>852.0</td>\n",
       "      <td>2003.412</td>\n",
       "      <td>34.038</td>\n",
       "      <td>13281.0</td>\n",
       "      <td>3312.613</td>\n",
       "      <td>38.687</td>\n",
       "      <td>0.064</td>\n",
       "      <td>0</td>\n",
       "    </tr>\n",
       "    <tr>\n",
       "      <th>927</th>\n",
       "      <td>texas</td>\n",
       "      <td>travis</td>\n",
       "      <td>2009</td>\n",
       "      <td>0.052440</td>\n",
       "      <td>6.310294</td>\n",
       "      <td>0.048778</td>\n",
       "      <td>17.711864</td>\n",
       "      <td>10.072881</td>\n",
       "      <td>854.0</td>\n",
       "      <td>1946.509</td>\n",
       "      <td>33.830</td>\n",
       "      <td>13552.0</td>\n",
       "      <td>3313.626</td>\n",
       "      <td>38.654</td>\n",
       "      <td>0.063</td>\n",
       "      <td>0</td>\n",
       "    </tr>\n",
       "    <tr>\n",
       "      <th>839</th>\n",
       "      <td>pennsylvania</td>\n",
       "      <td>erie</td>\n",
       "      <td>2019</td>\n",
       "      <td>0.053953</td>\n",
       "      <td>3.955683</td>\n",
       "      <td>0.043456</td>\n",
       "      <td>12.366591</td>\n",
       "      <td>7.538290</td>\n",
       "      <td>133.0</td>\n",
       "      <td>1929.459</td>\n",
       "      <td>33.910</td>\n",
       "      <td>1885.0</td>\n",
       "      <td>3270.604</td>\n",
       "      <td>38.427</td>\n",
       "      <td>0.071</td>\n",
       "      <td>0</td>\n",
       "    </tr>\n",
       "    <tr>\n",
       "      <th>833</th>\n",
       "      <td>pennsylvania</td>\n",
       "      <td>cambria</td>\n",
       "      <td>2016</td>\n",
       "      <td>0.067373</td>\n",
       "      <td>15.233429</td>\n",
       "      <td>0.048015</td>\n",
       "      <td>14.779106</td>\n",
       "      <td>8.940451</td>\n",
       "      <td>50.0</td>\n",
       "      <td>1834.540</td>\n",
       "      <td>33.160</td>\n",
       "      <td>848.0</td>\n",
       "      <td>3296.351</td>\n",
       "      <td>38.529</td>\n",
       "      <td>0.059</td>\n",
       "      <td>0</td>\n",
       "    </tr>\n",
       "  </tbody>\n",
       "</table>\n",
       "</div>"
      ],
      "text/plain": [
       "            state   county  year  Carbon monoxide  Nitrogen dioxide (NO2)  \\\n",
       "840  pennsylvania     erie  2020         0.043569               12.209169   \n",
       "928         texas   travis  2010         0.050720                6.810979   \n",
       "927         texas   travis  2009         0.052440                6.310294   \n",
       "839  pennsylvania     erie  2019         0.053953                3.955683   \n",
       "833  pennsylvania  cambria  2016         0.067373               15.233429   \n",
       "\n",
       "        Ozone  PM10 Total 0-10um STP  PM2.5 - Local Conditions  births_low  \\\n",
       "840  0.041915              12.514794                  6.522519       154.0   \n",
       "928  0.047627              16.949153                 10.019298       852.0   \n",
       "927  0.048778              17.711864                 10.072881       854.0   \n",
       "839  0.043456              12.366591                  7.538290       133.0   \n",
       "833  0.048015              14.779106                  8.940451        50.0   \n",
       "\n",
       "     avg_weight_low  avg_ges_age_low  births_all  avg_weight_all  \\\n",
       "840        2040.617           34.383      1984.0        3267.116   \n",
       "928        2003.412           34.038     13281.0        3312.613   \n",
       "927        1946.509           33.830     13552.0        3313.626   \n",
       "839        1929.459           33.910      1885.0        3270.604   \n",
       "833        1834.540           33.160       848.0        3296.351   \n",
       "\n",
       "     avg_ges_age_all  pct_low  high_rate  \n",
       "840           38.383    0.078          0  \n",
       "928           38.687    0.064          0  \n",
       "927           38.654    0.063          0  \n",
       "839           38.427    0.071          0  \n",
       "833           38.529    0.059          0  "
      ]
     },
     "execution_count": 21,
     "metadata": {},
     "output_type": "execute_result"
    }
   ],
   "source": [
    "low_co = aqs.iloc[[840, 928, 927, 839, 833]] #creates a dataframe containing rows with the 5 lowest CO values\n",
    "\n",
    "low_co"
   ]
  },
  {
   "cell_type": "markdown",
   "id": "45e7efc5",
   "metadata": {},
   "source": [
    "The lowest CO values in the dataset occur in Travis County, TX, Eerie County, PA, and Cambria County PA. \n",
    "\n",
    "None of them are in the high rate low birth weight class."
   ]
  },
  {
   "cell_type": "markdown",
   "id": "a9dd050b",
   "metadata": {},
   "source": [
    "#### Cases with highest CO values"
   ]
  },
  {
   "cell_type": "code",
   "execution_count": 23,
   "id": "a494eee4",
   "metadata": {},
   "outputs": [
    {
     "data": {
      "text/plain": [
       "502    1.176400\n",
       "119    1.126575\n",
       "91     1.051252\n",
       "117    1.014378\n",
       "764    0.945322\n",
       "Name: Carbon monoxide, dtype: float64"
      ]
     },
     "execution_count": 23,
     "metadata": {},
     "output_type": "execute_result"
    }
   ],
   "source": [
    "aqs['Carbon monoxide'].nlargest() #shows the largest CO values & their respective row numbers"
   ]
  },
  {
   "cell_type": "code",
   "execution_count": 24,
   "id": "3254dbd1",
   "metadata": {},
   "outputs": [
    {
     "data": {
      "text/html": [
       "<div>\n",
       "<style scoped>\n",
       "    .dataframe tbody tr th:only-of-type {\n",
       "        vertical-align: middle;\n",
       "    }\n",
       "\n",
       "    .dataframe tbody tr th {\n",
       "        vertical-align: top;\n",
       "    }\n",
       "\n",
       "    .dataframe thead th {\n",
       "        text-align: right;\n",
       "    }\n",
       "</style>\n",
       "<table border=\"1\" class=\"dataframe\">\n",
       "  <thead>\n",
       "    <tr style=\"text-align: right;\">\n",
       "      <th></th>\n",
       "      <th>state</th>\n",
       "      <th>county</th>\n",
       "      <th>year</th>\n",
       "      <th>Carbon monoxide</th>\n",
       "      <th>Nitrogen dioxide (NO2)</th>\n",
       "      <th>Ozone</th>\n",
       "      <th>PM10 Total 0-10um STP</th>\n",
       "      <th>PM2.5 - Local Conditions</th>\n",
       "      <th>births_low</th>\n",
       "      <th>avg_weight_low</th>\n",
       "      <th>avg_ges_age_low</th>\n",
       "      <th>births_all</th>\n",
       "      <th>avg_weight_all</th>\n",
       "      <th>avg_ges_age_all</th>\n",
       "      <th>pct_low</th>\n",
       "      <th>high_rate</th>\n",
       "    </tr>\n",
       "  </thead>\n",
       "  <tbody>\n",
       "    <tr>\n",
       "      <th>502</th>\n",
       "      <td>indiana</td>\n",
       "      <td>vanderburgh</td>\n",
       "      <td>2011</td>\n",
       "      <td>1.176400</td>\n",
       "      <td>16.639881</td>\n",
       "      <td>0.053841</td>\n",
       "      <td>18.362069</td>\n",
       "      <td>12.264407</td>\n",
       "      <td>104.0</td>\n",
       "      <td>1941.587</td>\n",
       "      <td>33.673</td>\n",
       "      <td>1572.0</td>\n",
       "      <td>3275.976</td>\n",
       "      <td>38.250</td>\n",
       "      <td>0.066</td>\n",
       "      <td>0</td>\n",
       "    </tr>\n",
       "    <tr>\n",
       "      <th>119</th>\n",
       "      <td>california</td>\n",
       "      <td>los angeles</td>\n",
       "      <td>2008</td>\n",
       "      <td>1.126575</td>\n",
       "      <td>48.338843</td>\n",
       "      <td>0.063647</td>\n",
       "      <td>44.863337</td>\n",
       "      <td>16.089474</td>\n",
       "      <td>8537.0</td>\n",
       "      <td>1989.017</td>\n",
       "      <td>34.364</td>\n",
       "      <td>127739.0</td>\n",
       "      <td>3272.638</td>\n",
       "      <td>38.557</td>\n",
       "      <td>0.067</td>\n",
       "      <td>0</td>\n",
       "    </tr>\n",
       "    <tr>\n",
       "      <th>91</th>\n",
       "      <td>california</td>\n",
       "      <td>imperial</td>\n",
       "      <td>2009</td>\n",
       "      <td>1.051252</td>\n",
       "      <td>33.571031</td>\n",
       "      <td>0.058378</td>\n",
       "      <td>65.316667</td>\n",
       "      <td>7.974380</td>\n",
       "      <td>160.0</td>\n",
       "      <td>2028.075</td>\n",
       "      <td>34.525</td>\n",
       "      <td>2967.0</td>\n",
       "      <td>3352.014</td>\n",
       "      <td>38.712</td>\n",
       "      <td>0.054</td>\n",
       "      <td>0</td>\n",
       "    </tr>\n",
       "    <tr>\n",
       "      <th>117</th>\n",
       "      <td>california</td>\n",
       "      <td>los angeles</td>\n",
       "      <td>2006</td>\n",
       "      <td>1.014378</td>\n",
       "      <td>48.065753</td>\n",
       "      <td>0.065111</td>\n",
       "      <td>44.982759</td>\n",
       "      <td>16.642241</td>\n",
       "      <td>9406.0</td>\n",
       "      <td>1984.732</td>\n",
       "      <td>34.295</td>\n",
       "      <td>137740.0</td>\n",
       "      <td>3276.627</td>\n",
       "      <td>38.523</td>\n",
       "      <td>0.068</td>\n",
       "      <td>0</td>\n",
       "    </tr>\n",
       "    <tr>\n",
       "      <th>764</th>\n",
       "      <td>ohio</td>\n",
       "      <td>cuyahoga</td>\n",
       "      <td>2013</td>\n",
       "      <td>0.945322</td>\n",
       "      <td>24.580110</td>\n",
       "      <td>0.047341</td>\n",
       "      <td>41.066667</td>\n",
       "      <td>12.162810</td>\n",
       "      <td>941.0</td>\n",
       "      <td>1939.843</td>\n",
       "      <td>33.770</td>\n",
       "      <td>11382.0</td>\n",
       "      <td>3233.432</td>\n",
       "      <td>38.563</td>\n",
       "      <td>0.083</td>\n",
       "      <td>1</td>\n",
       "    </tr>\n",
       "  </tbody>\n",
       "</table>\n",
       "</div>"
      ],
      "text/plain": [
       "          state       county  year  Carbon monoxide  Nitrogen dioxide (NO2)  \\\n",
       "502     indiana  vanderburgh  2011         1.176400               16.639881   \n",
       "119  california  los angeles  2008         1.126575               48.338843   \n",
       "91   california     imperial  2009         1.051252               33.571031   \n",
       "117  california  los angeles  2006         1.014378               48.065753   \n",
       "764        ohio     cuyahoga  2013         0.945322               24.580110   \n",
       "\n",
       "        Ozone  PM10 Total 0-10um STP  PM2.5 - Local Conditions  births_low  \\\n",
       "502  0.053841              18.362069                 12.264407       104.0   \n",
       "119  0.063647              44.863337                 16.089474      8537.0   \n",
       "91   0.058378              65.316667                  7.974380       160.0   \n",
       "117  0.065111              44.982759                 16.642241      9406.0   \n",
       "764  0.047341              41.066667                 12.162810       941.0   \n",
       "\n",
       "     avg_weight_low  avg_ges_age_low  births_all  avg_weight_all  \\\n",
       "502        1941.587           33.673      1572.0        3275.976   \n",
       "119        1989.017           34.364    127739.0        3272.638   \n",
       "91         2028.075           34.525      2967.0        3352.014   \n",
       "117        1984.732           34.295    137740.0        3276.627   \n",
       "764        1939.843           33.770     11382.0        3233.432   \n",
       "\n",
       "     avg_ges_age_all  pct_low  high_rate  \n",
       "502           38.250    0.066          0  \n",
       "119           38.557    0.067          0  \n",
       "91            38.712    0.054          0  \n",
       "117           38.523    0.068          0  \n",
       "764           38.563    0.083          1  "
      ]
     },
     "execution_count": 24,
     "metadata": {},
     "output_type": "execute_result"
    }
   ],
   "source": [
    "high_co = aqs.iloc[[502, 119, 91, 117, 764]] #creates a dataframe containing rows with the 5 highest CO values\n",
    "\n",
    "high_co"
   ]
  },
  {
   "cell_type": "markdown",
   "id": "17dc36ea",
   "metadata": {},
   "source": [
    "Three of the highest CO values in the dataset occur in California, two of these in Los Angeles County. One of the highest values occurs in Vanderburgh, IN, and the other in Cuyahoga County, OH. \n",
    "\n",
    "The data show that Cuyahoga County did have a high rate of low birth weight in 2013."
   ]
  },
  {
   "cell_type": "markdown",
   "id": "65deba5c",
   "metadata": {},
   "source": [
    "##### 2. Nitrogen dioxide"
   ]
  },
  {
   "cell_type": "code",
   "execution_count": 25,
   "id": "af1afdb5",
   "metadata": {},
   "outputs": [
    {
     "data": {
      "text/plain": [
       "count    1012.000000\n",
       "mean       22.804918\n",
       "std         9.029822\n",
       "min         1.802920\n",
       "25%        16.796648\n",
       "50%        22.794647\n",
       "75%        28.642434\n",
       "max        50.014118\n",
       "Name: Nitrogen dioxide (NO2), dtype: float64"
      ]
     },
     "execution_count": 25,
     "metadata": {},
     "output_type": "execute_result"
    }
   ],
   "source": [
    "aqs['Nitrogen dioxide (NO2)'].describe() #shows a statistical summary for this column"
   ]
  },
  {
   "cell_type": "markdown",
   "id": "e7cc17fb",
   "metadata": {},
   "source": [
    "#### Cases with lowest NO2 values"
   ]
  },
  {
   "cell_type": "code",
   "execution_count": 26,
   "id": "1cd76e6d",
   "metadata": {},
   "outputs": [
    {
     "data": {
      "text/plain": [
       "301    1.802920\n",
       "84     3.198081\n",
       "427    3.378037\n",
       "650    3.453292\n",
       "452    3.478848\n",
       "Name: Nitrogen dioxide (NO2), dtype: float64"
      ]
     },
     "execution_count": 26,
     "metadata": {},
     "output_type": "execute_result"
    }
   ],
   "source": [
    "aqs['Nitrogen dioxide (NO2)'].nsmallest()"
   ]
  },
  {
   "cell_type": "code",
   "execution_count": 27,
   "id": "6ace3494",
   "metadata": {},
   "outputs": [
    {
     "data": {
      "text/html": [
       "<div>\n",
       "<style scoped>\n",
       "    .dataframe tbody tr th:only-of-type {\n",
       "        vertical-align: middle;\n",
       "    }\n",
       "\n",
       "    .dataframe tbody tr th {\n",
       "        vertical-align: top;\n",
       "    }\n",
       "\n",
       "    .dataframe thead th {\n",
       "        text-align: right;\n",
       "    }\n",
       "</style>\n",
       "<table border=\"1\" class=\"dataframe\">\n",
       "  <thead>\n",
       "    <tr style=\"text-align: right;\">\n",
       "      <th></th>\n",
       "      <th>state</th>\n",
       "      <th>county</th>\n",
       "      <th>year</th>\n",
       "      <th>Carbon monoxide</th>\n",
       "      <th>Nitrogen dioxide (NO2)</th>\n",
       "      <th>Ozone</th>\n",
       "      <th>PM10 Total 0-10um STP</th>\n",
       "      <th>PM2.5 - Local Conditions</th>\n",
       "      <th>births_low</th>\n",
       "      <th>avg_weight_low</th>\n",
       "      <th>avg_ges_age_low</th>\n",
       "      <th>births_all</th>\n",
       "      <th>avg_weight_all</th>\n",
       "      <th>avg_ges_age_all</th>\n",
       "      <th>pct_low</th>\n",
       "      <th>high_rate</th>\n",
       "    </tr>\n",
       "  </thead>\n",
       "  <tbody>\n",
       "    <tr>\n",
       "      <th>301</th>\n",
       "      <td>california</td>\n",
       "      <td>santa cruz</td>\n",
       "      <td>2010</td>\n",
       "      <td>0.293742</td>\n",
       "      <td>1.802920</td>\n",
       "      <td>0.038155</td>\n",
       "      <td>14.163934</td>\n",
       "      <td>6.534828</td>\n",
       "      <td>151.0</td>\n",
       "      <td>1967.596</td>\n",
       "      <td>34.172</td>\n",
       "      <td>3013.0</td>\n",
       "      <td>3365.034</td>\n",
       "      <td>38.978</td>\n",
       "      <td>0.050</td>\n",
       "      <td>0</td>\n",
       "    </tr>\n",
       "    <tr>\n",
       "      <th>84</th>\n",
       "      <td>california</td>\n",
       "      <td>humboldt</td>\n",
       "      <td>2015</td>\n",
       "      <td>0.343309</td>\n",
       "      <td>3.198081</td>\n",
       "      <td>0.033180</td>\n",
       "      <td>18.162731</td>\n",
       "      <td>5.883898</td>\n",
       "      <td>60.0</td>\n",
       "      <td>1948.517</td>\n",
       "      <td>33.933</td>\n",
       "      <td>1157.0</td>\n",
       "      <td>3422.579</td>\n",
       "      <td>39.067</td>\n",
       "      <td>0.052</td>\n",
       "      <td>0</td>\n",
       "    </tr>\n",
       "    <tr>\n",
       "      <th>427</th>\n",
       "      <td>florida</td>\n",
       "      <td>orange</td>\n",
       "      <td>2020</td>\n",
       "      <td>0.477596</td>\n",
       "      <td>3.378037</td>\n",
       "      <td>0.040575</td>\n",
       "      <td>14.121097</td>\n",
       "      <td>6.880044</td>\n",
       "      <td>944.0</td>\n",
       "      <td>1981.965</td>\n",
       "      <td>34.052</td>\n",
       "      <td>12415.0</td>\n",
       "      <td>3239.759</td>\n",
       "      <td>38.439</td>\n",
       "      <td>0.076</td>\n",
       "      <td>0</td>\n",
       "    </tr>\n",
       "    <tr>\n",
       "      <th>650</th>\n",
       "      <td>montana</td>\n",
       "      <td>yellowstone</td>\n",
       "      <td>2007</td>\n",
       "      <td>0.364222</td>\n",
       "      <td>3.453292</td>\n",
       "      <td>0.047983</td>\n",
       "      <td>23.932203</td>\n",
       "      <td>7.961345</td>\n",
       "      <td>108.0</td>\n",
       "      <td>2091.269</td>\n",
       "      <td>34.833</td>\n",
       "      <td>1570.0</td>\n",
       "      <td>3302.662</td>\n",
       "      <td>38.527</td>\n",
       "      <td>0.069</td>\n",
       "      <td>0</td>\n",
       "    </tr>\n",
       "    <tr>\n",
       "      <th>452</th>\n",
       "      <td>hawaii</td>\n",
       "      <td>honolulu</td>\n",
       "      <td>2014</td>\n",
       "      <td>0.542413</td>\n",
       "      <td>3.478848</td>\n",
       "      <td>0.030855</td>\n",
       "      <td>19.963298</td>\n",
       "      <td>4.584700</td>\n",
       "      <td>498.0</td>\n",
       "      <td>2010.610</td>\n",
       "      <td>34.213</td>\n",
       "      <td>7523.0</td>\n",
       "      <td>3249.392</td>\n",
       "      <td>38.603</td>\n",
       "      <td>0.066</td>\n",
       "      <td>0</td>\n",
       "    </tr>\n",
       "  </tbody>\n",
       "</table>\n",
       "</div>"
      ],
      "text/plain": [
       "          state       county  year  Carbon monoxide  Nitrogen dioxide (NO2)  \\\n",
       "301  california   santa cruz  2010         0.293742                1.802920   \n",
       "84   california     humboldt  2015         0.343309                3.198081   \n",
       "427     florida       orange  2020         0.477596                3.378037   \n",
       "650     montana  yellowstone  2007         0.364222                3.453292   \n",
       "452      hawaii     honolulu  2014         0.542413                3.478848   \n",
       "\n",
       "        Ozone  PM10 Total 0-10um STP  PM2.5 - Local Conditions  births_low  \\\n",
       "301  0.038155              14.163934                  6.534828       151.0   \n",
       "84   0.033180              18.162731                  5.883898        60.0   \n",
       "427  0.040575              14.121097                  6.880044       944.0   \n",
       "650  0.047983              23.932203                  7.961345       108.0   \n",
       "452  0.030855              19.963298                  4.584700       498.0   \n",
       "\n",
       "     avg_weight_low  avg_ges_age_low  births_all  avg_weight_all  \\\n",
       "301        1967.596           34.172      3013.0        3365.034   \n",
       "84         1948.517           33.933      1157.0        3422.579   \n",
       "427        1981.965           34.052     12415.0        3239.759   \n",
       "650        2091.269           34.833      1570.0        3302.662   \n",
       "452        2010.610           34.213      7523.0        3249.392   \n",
       "\n",
       "     avg_ges_age_all  pct_low  high_rate  \n",
       "301           38.978    0.050          0  \n",
       "84            39.067    0.052          0  \n",
       "427           38.439    0.076          0  \n",
       "650           38.527    0.069          0  \n",
       "452           38.603    0.066          0  "
      ]
     },
     "execution_count": 27,
     "metadata": {},
     "output_type": "execute_result"
    }
   ],
   "source": [
    "low_no2 = aqs.iloc[[301, 84, 427, 650, 452]] #creates a dataframe containing rows with the 5 lowest NO2 values\n",
    "\n",
    "low_no2"
   ]
  },
  {
   "cell_type": "markdown",
   "id": "fd61628a",
   "metadata": {},
   "source": [
    "Two of the lowest NO2 values occur in Santa Cruz and Humbold Counties, CA. One ocurs in Orange, FL, one in Yellowstone, MT, and one in Honolulu, HI. \n",
    "\n",
    "None of these coincide with a high rate of low weight birth. "
   ]
  },
  {
   "cell_type": "markdown",
   "id": "19bcd4fa",
   "metadata": {},
   "source": [
    "#### Cases with highest NO2 values"
   ]
  },
  {
   "cell_type": "code",
   "execution_count": 28,
   "id": "1b581395",
   "metadata": {},
   "outputs": [
    {
     "data": {
      "text/plain": [
       "360    50.014118\n",
       "119    48.338843\n",
       "117    48.065753\n",
       "209    48.023810\n",
       "118    47.964187\n",
       "Name: Nitrogen dioxide (NO2), dtype: float64"
      ]
     },
     "execution_count": 28,
     "metadata": {},
     "output_type": "execute_result"
    }
   ],
   "source": [
    "aqs['Nitrogen dioxide (NO2)'].nlargest() #creates a dataframe containing rows with the 5 highest NO2 values"
   ]
  },
  {
   "cell_type": "code",
   "execution_count": 30,
   "id": "de25bef6",
   "metadata": {},
   "outputs": [
    {
     "data": {
      "text/html": [
       "<div>\n",
       "<style scoped>\n",
       "    .dataframe tbody tr th:only-of-type {\n",
       "        vertical-align: middle;\n",
       "    }\n",
       "\n",
       "    .dataframe tbody tr th {\n",
       "        vertical-align: top;\n",
       "    }\n",
       "\n",
       "    .dataframe thead th {\n",
       "        text-align: right;\n",
       "    }\n",
       "</style>\n",
       "<table border=\"1\" class=\"dataframe\">\n",
       "  <thead>\n",
       "    <tr style=\"text-align: right;\">\n",
       "      <th></th>\n",
       "      <th>state</th>\n",
       "      <th>county</th>\n",
       "      <th>year</th>\n",
       "      <th>Carbon monoxide</th>\n",
       "      <th>Nitrogen dioxide (NO2)</th>\n",
       "      <th>Ozone</th>\n",
       "      <th>PM10 Total 0-10um STP</th>\n",
       "      <th>PM2.5 - Local Conditions</th>\n",
       "      <th>births_low</th>\n",
       "      <th>avg_weight_low</th>\n",
       "      <th>avg_ges_age_low</th>\n",
       "      <th>births_all</th>\n",
       "      <th>avg_weight_all</th>\n",
       "      <th>avg_ges_age_all</th>\n",
       "      <th>pct_low</th>\n",
       "      <th>high_rate</th>\n",
       "    </tr>\n",
       "  </thead>\n",
       "  <tbody>\n",
       "    <tr>\n",
       "      <th>360</th>\n",
       "      <td>colorado</td>\n",
       "      <td>denver</td>\n",
       "      <td>2016</td>\n",
       "      <td>0.534266</td>\n",
       "      <td>50.014118</td>\n",
       "      <td>0.055500</td>\n",
       "      <td>29.196721</td>\n",
       "      <td>9.563535</td>\n",
       "      <td>569.0</td>\n",
       "      <td>2089.334</td>\n",
       "      <td>35.234</td>\n",
       "      <td>7762.0</td>\n",
       "      <td>3224.336</td>\n",
       "      <td>38.925</td>\n",
       "      <td>0.073</td>\n",
       "      <td>0</td>\n",
       "    </tr>\n",
       "    <tr>\n",
       "      <th>119</th>\n",
       "      <td>california</td>\n",
       "      <td>los angeles</td>\n",
       "      <td>2008</td>\n",
       "      <td>1.126575</td>\n",
       "      <td>48.338843</td>\n",
       "      <td>0.063647</td>\n",
       "      <td>44.863337</td>\n",
       "      <td>16.089474</td>\n",
       "      <td>8537.0</td>\n",
       "      <td>1989.017</td>\n",
       "      <td>34.364</td>\n",
       "      <td>127739.0</td>\n",
       "      <td>3272.638</td>\n",
       "      <td>38.557</td>\n",
       "      <td>0.067</td>\n",
       "      <td>0</td>\n",
       "    </tr>\n",
       "    <tr>\n",
       "      <th>117</th>\n",
       "      <td>california</td>\n",
       "      <td>los angeles</td>\n",
       "      <td>2006</td>\n",
       "      <td>1.014378</td>\n",
       "      <td>48.065753</td>\n",
       "      <td>0.065111</td>\n",
       "      <td>44.982759</td>\n",
       "      <td>16.642241</td>\n",
       "      <td>9406.0</td>\n",
       "      <td>1984.732</td>\n",
       "      <td>34.295</td>\n",
       "      <td>137740.0</td>\n",
       "      <td>3276.627</td>\n",
       "      <td>38.523</td>\n",
       "      <td>0.068</td>\n",
       "      <td>0</td>\n",
       "    </tr>\n",
       "    <tr>\n",
       "      <th>209</th>\n",
       "      <td>california</td>\n",
       "      <td>san bernardino</td>\n",
       "      <td>2006</td>\n",
       "      <td>0.605216</td>\n",
       "      <td>48.023810</td>\n",
       "      <td>0.066963</td>\n",
       "      <td>53.450000</td>\n",
       "      <td>17.538614</td>\n",
       "      <td>1978.0</td>\n",
       "      <td>1987.348</td>\n",
       "      <td>34.094</td>\n",
       "      <td>31377.0</td>\n",
       "      <td>3294.273</td>\n",
       "      <td>38.566</td>\n",
       "      <td>0.063</td>\n",
       "      <td>0</td>\n",
       "    </tr>\n",
       "    <tr>\n",
       "      <th>118</th>\n",
       "      <td>california</td>\n",
       "      <td>los angeles</td>\n",
       "      <td>2007</td>\n",
       "      <td>0.886850</td>\n",
       "      <td>47.964187</td>\n",
       "      <td>0.059475</td>\n",
       "      <td>38.446429</td>\n",
       "      <td>15.854717</td>\n",
       "      <td>9189.0</td>\n",
       "      <td>2002.742</td>\n",
       "      <td>34.323</td>\n",
       "      <td>134693.0</td>\n",
       "      <td>3276.185</td>\n",
       "      <td>38.508</td>\n",
       "      <td>0.068</td>\n",
       "      <td>0</td>\n",
       "    </tr>\n",
       "  </tbody>\n",
       "</table>\n",
       "</div>"
      ],
      "text/plain": [
       "          state          county  year  Carbon monoxide  \\\n",
       "360    colorado          denver  2016         0.534266   \n",
       "119  california     los angeles  2008         1.126575   \n",
       "117  california     los angeles  2006         1.014378   \n",
       "209  california  san bernardino  2006         0.605216   \n",
       "118  california     los angeles  2007         0.886850   \n",
       "\n",
       "     Nitrogen dioxide (NO2)     Ozone  PM10 Total 0-10um STP  \\\n",
       "360               50.014118  0.055500              29.196721   \n",
       "119               48.338843  0.063647              44.863337   \n",
       "117               48.065753  0.065111              44.982759   \n",
       "209               48.023810  0.066963              53.450000   \n",
       "118               47.964187  0.059475              38.446429   \n",
       "\n",
       "     PM2.5 - Local Conditions  births_low  avg_weight_low  avg_ges_age_low  \\\n",
       "360                  9.563535       569.0        2089.334           35.234   \n",
       "119                 16.089474      8537.0        1989.017           34.364   \n",
       "117                 16.642241      9406.0        1984.732           34.295   \n",
       "209                 17.538614      1978.0        1987.348           34.094   \n",
       "118                 15.854717      9189.0        2002.742           34.323   \n",
       "\n",
       "     births_all  avg_weight_all  avg_ges_age_all  pct_low  high_rate  \n",
       "360      7762.0        3224.336           38.925    0.073          0  \n",
       "119    127739.0        3272.638           38.557    0.067          0  \n",
       "117    137740.0        3276.627           38.523    0.068          0  \n",
       "209     31377.0        3294.273           38.566    0.063          0  \n",
       "118    134693.0        3276.185           38.508    0.068          0  "
      ]
     },
     "execution_count": 30,
     "metadata": {},
     "output_type": "execute_result"
    }
   ],
   "source": [
    "high_no2 = aqs.iloc[[360, 119, 117, 209, 118]] #creates a dataframe containing rows with the 5 highest NO2 values\n",
    "\n",
    "high_no2"
   ]
  },
  {
   "cell_type": "markdown",
   "id": "a9c56210",
   "metadata": {},
   "source": [
    "Of the 5 largest NO2 values, three of these occur in Los Angeles County, CA. One is in San Bernardino, CA, and one is in Denver, CO. \n",
    "\n",
    "None of these values coincide with a high rate of low birth rate."
   ]
  },
  {
   "cell_type": "markdown",
   "id": "4e8e84fa",
   "metadata": {},
   "source": [
    "##### 3. Ozone"
   ]
  },
  {
   "cell_type": "code",
   "execution_count": 11,
   "id": "19db14ad",
   "metadata": {},
   "outputs": [
    {
     "data": {
      "text/plain": [
       "count    1012.000000\n",
       "mean        0.049607\n",
       "std         0.007804\n",
       "min         0.029180\n",
       "25%         0.044536\n",
       "50%         0.049313\n",
       "75%         0.053946\n",
       "max         0.074551\n",
       "Name: Ozone, dtype: float64"
      ]
     },
     "execution_count": 11,
     "metadata": {},
     "output_type": "execute_result"
    }
   ],
   "source": [
    "aqs['Ozone'].describe()"
   ]
  },
  {
   "cell_type": "markdown",
   "id": "a7dd159d",
   "metadata": {},
   "source": [
    "#### Cases with lowest O3 values"
   ]
  },
  {
   "cell_type": "code",
   "execution_count": 31,
   "id": "1dfab804",
   "metadata": {},
   "outputs": [
    {
     "data": {
      "text/plain": [
       "458    0.029180\n",
       "635    0.030483\n",
       "243    0.030726\n",
       "452    0.030855\n",
       "83     0.030893\n",
       "Name: Ozone, dtype: float64"
      ]
     },
     "execution_count": 31,
     "metadata": {},
     "output_type": "execute_result"
    }
   ],
   "source": [
    "aqs['Ozone'].nsmallest()"
   ]
  },
  {
   "cell_type": "code",
   "execution_count": 32,
   "id": "97c44eff",
   "metadata": {},
   "outputs": [
    {
     "data": {
      "text/html": [
       "<div>\n",
       "<style scoped>\n",
       "    .dataframe tbody tr th:only-of-type {\n",
       "        vertical-align: middle;\n",
       "    }\n",
       "\n",
       "    .dataframe tbody tr th {\n",
       "        vertical-align: top;\n",
       "    }\n",
       "\n",
       "    .dataframe thead th {\n",
       "        text-align: right;\n",
       "    }\n",
       "</style>\n",
       "<table border=\"1\" class=\"dataframe\">\n",
       "  <thead>\n",
       "    <tr style=\"text-align: right;\">\n",
       "      <th></th>\n",
       "      <th>state</th>\n",
       "      <th>county</th>\n",
       "      <th>year</th>\n",
       "      <th>Carbon monoxide</th>\n",
       "      <th>Nitrogen dioxide (NO2)</th>\n",
       "      <th>Ozone</th>\n",
       "      <th>PM10 Total 0-10um STP</th>\n",
       "      <th>PM2.5 - Local Conditions</th>\n",
       "      <th>births_low</th>\n",
       "      <th>avg_weight_low</th>\n",
       "      <th>avg_ges_age_low</th>\n",
       "      <th>births_all</th>\n",
       "      <th>avg_weight_all</th>\n",
       "      <th>avg_ges_age_all</th>\n",
       "      <th>pct_low</th>\n",
       "      <th>high_rate</th>\n",
       "    </tr>\n",
       "  </thead>\n",
       "  <tbody>\n",
       "    <tr>\n",
       "      <th>458</th>\n",
       "      <td>hawaii</td>\n",
       "      <td>honolulu</td>\n",
       "      <td>2020</td>\n",
       "      <td>0.294769</td>\n",
       "      <td>9.008033</td>\n",
       "      <td>0.029180</td>\n",
       "      <td>12.764980</td>\n",
       "      <td>3.925611</td>\n",
       "      <td>585.0</td>\n",
       "      <td>2042.154</td>\n",
       "      <td>34.391</td>\n",
       "      <td>8492.0</td>\n",
       "      <td>3267.433</td>\n",
       "      <td>38.578</td>\n",
       "      <td>0.069</td>\n",
       "      <td>0</td>\n",
       "    </tr>\n",
       "    <tr>\n",
       "      <th>635</th>\n",
       "      <td>minnesota</td>\n",
       "      <td>hennepin</td>\n",
       "      <td>2020</td>\n",
       "      <td>0.445808</td>\n",
       "      <td>11.386310</td>\n",
       "      <td>0.030483</td>\n",
       "      <td>30.933650</td>\n",
       "      <td>8.740955</td>\n",
       "      <td>709.0</td>\n",
       "      <td>2013.220</td>\n",
       "      <td>34.396</td>\n",
       "      <td>11334.0</td>\n",
       "      <td>3342.649</td>\n",
       "      <td>38.773</td>\n",
       "      <td>0.063</td>\n",
       "      <td>0</td>\n",
       "    </tr>\n",
       "    <tr>\n",
       "      <th>243</th>\n",
       "      <td>california</td>\n",
       "      <td>san francisco</td>\n",
       "      <td>2013</td>\n",
       "      <td>0.400116</td>\n",
       "      <td>26.805587</td>\n",
       "      <td>0.030726</td>\n",
       "      <td>17.218750</td>\n",
       "      <td>10.173668</td>\n",
       "      <td>433.0</td>\n",
       "      <td>2069.596</td>\n",
       "      <td>34.850</td>\n",
       "      <td>7753.0</td>\n",
       "      <td>3298.645</td>\n",
       "      <td>38.930</td>\n",
       "      <td>0.056</td>\n",
       "      <td>0</td>\n",
       "    </tr>\n",
       "    <tr>\n",
       "      <th>452</th>\n",
       "      <td>hawaii</td>\n",
       "      <td>honolulu</td>\n",
       "      <td>2014</td>\n",
       "      <td>0.542413</td>\n",
       "      <td>3.478848</td>\n",
       "      <td>0.030855</td>\n",
       "      <td>19.963298</td>\n",
       "      <td>4.584700</td>\n",
       "      <td>498.0</td>\n",
       "      <td>2010.610</td>\n",
       "      <td>34.213</td>\n",
       "      <td>7523.0</td>\n",
       "      <td>3249.392</td>\n",
       "      <td>38.603</td>\n",
       "      <td>0.066</td>\n",
       "      <td>0</td>\n",
       "    </tr>\n",
       "    <tr>\n",
       "      <th>83</th>\n",
       "      <td>california</td>\n",
       "      <td>humboldt</td>\n",
       "      <td>2014</td>\n",
       "      <td>0.313675</td>\n",
       "      <td>7.060933</td>\n",
       "      <td>0.030893</td>\n",
       "      <td>17.841023</td>\n",
       "      <td>10.776247</td>\n",
       "      <td>48.0</td>\n",
       "      <td>1821.479</td>\n",
       "      <td>33.021</td>\n",
       "      <td>1069.0</td>\n",
       "      <td>3446.512</td>\n",
       "      <td>39.102</td>\n",
       "      <td>0.045</td>\n",
       "      <td>0</td>\n",
       "    </tr>\n",
       "  </tbody>\n",
       "</table>\n",
       "</div>"
      ],
      "text/plain": [
       "          state         county  year  Carbon monoxide  Nitrogen dioxide (NO2)  \\\n",
       "458      hawaii       honolulu  2020         0.294769                9.008033   \n",
       "635   minnesota       hennepin  2020         0.445808               11.386310   \n",
       "243  california  san francisco  2013         0.400116               26.805587   \n",
       "452      hawaii       honolulu  2014         0.542413                3.478848   \n",
       "83   california       humboldt  2014         0.313675                7.060933   \n",
       "\n",
       "        Ozone  PM10 Total 0-10um STP  PM2.5 - Local Conditions  births_low  \\\n",
       "458  0.029180              12.764980                  3.925611       585.0   \n",
       "635  0.030483              30.933650                  8.740955       709.0   \n",
       "243  0.030726              17.218750                 10.173668       433.0   \n",
       "452  0.030855              19.963298                  4.584700       498.0   \n",
       "83   0.030893              17.841023                 10.776247        48.0   \n",
       "\n",
       "     avg_weight_low  avg_ges_age_low  births_all  avg_weight_all  \\\n",
       "458        2042.154           34.391      8492.0        3267.433   \n",
       "635        2013.220           34.396     11334.0        3342.649   \n",
       "243        2069.596           34.850      7753.0        3298.645   \n",
       "452        2010.610           34.213      7523.0        3249.392   \n",
       "83         1821.479           33.021      1069.0        3446.512   \n",
       "\n",
       "     avg_ges_age_all  pct_low  high_rate  \n",
       "458           38.578    0.069          0  \n",
       "635           38.773    0.063          0  \n",
       "243           38.930    0.056          0  \n",
       "452           38.603    0.066          0  \n",
       "83            39.102    0.045          0  "
      ]
     },
     "execution_count": 32,
     "metadata": {},
     "output_type": "execute_result"
    }
   ],
   "source": [
    "low_ozone = aqs.iloc[[458, 635, 243, 452, 83]]\n",
    "\n",
    "low_ozone"
   ]
  },
  {
   "cell_type": "markdown",
   "id": "b7c96baf",
   "metadata": {},
   "source": [
    "Two of the lowest ozone values occur in Honolulu, HI, one in Humboldt, CA, one in San Francisco, CA, and one in Hennepin, MN. \n",
    "\n",
    "None of the values coincide with a high rate of low birth weight."
   ]
  },
  {
   "cell_type": "markdown",
   "id": "26ce3d37",
   "metadata": {},
   "source": [
    "#### Cases with highest O3 values"
   ]
  },
  {
   "cell_type": "code",
   "execution_count": 33,
   "id": "c759f1e6",
   "metadata": {},
   "outputs": [
    {
     "data": {
      "text/plain": [
       "221    0.074551\n",
       "182    0.071982\n",
       "130    0.070233\n",
       "218    0.070156\n",
       "210    0.069740\n",
       "Name: Ozone, dtype: float64"
      ]
     },
     "execution_count": 33,
     "metadata": {},
     "output_type": "execute_result"
    }
   ],
   "source": [
    "aqs['Ozone'].nlargest()"
   ]
  },
  {
   "cell_type": "code",
   "execution_count": 34,
   "id": "67707dff",
   "metadata": {},
   "outputs": [
    {
     "data": {
      "text/html": [
       "<div>\n",
       "<style scoped>\n",
       "    .dataframe tbody tr th:only-of-type {\n",
       "        vertical-align: middle;\n",
       "    }\n",
       "\n",
       "    .dataframe tbody tr th {\n",
       "        vertical-align: top;\n",
       "    }\n",
       "\n",
       "    .dataframe thead th {\n",
       "        text-align: right;\n",
       "    }\n",
       "</style>\n",
       "<table border=\"1\" class=\"dataframe\">\n",
       "  <thead>\n",
       "    <tr style=\"text-align: right;\">\n",
       "      <th></th>\n",
       "      <th>state</th>\n",
       "      <th>county</th>\n",
       "      <th>year</th>\n",
       "      <th>Carbon monoxide</th>\n",
       "      <th>Nitrogen dioxide (NO2)</th>\n",
       "      <th>Ozone</th>\n",
       "      <th>PM10 Total 0-10um STP</th>\n",
       "      <th>PM2.5 - Local Conditions</th>\n",
       "      <th>births_low</th>\n",
       "      <th>avg_weight_low</th>\n",
       "      <th>avg_ges_age_low</th>\n",
       "      <th>births_all</th>\n",
       "      <th>avg_weight_all</th>\n",
       "      <th>avg_ges_age_all</th>\n",
       "      <th>pct_low</th>\n",
       "      <th>high_rate</th>\n",
       "    </tr>\n",
       "  </thead>\n",
       "  <tbody>\n",
       "    <tr>\n",
       "      <th>221</th>\n",
       "      <td>california</td>\n",
       "      <td>san bernardino</td>\n",
       "      <td>2020</td>\n",
       "      <td>0.428172</td>\n",
       "      <td>43.779130</td>\n",
       "      <td>0.074551</td>\n",
       "      <td>40.977656</td>\n",
       "      <td>17.742911</td>\n",
       "      <td>1653.0</td>\n",
       "      <td>1984.623</td>\n",
       "      <td>33.970</td>\n",
       "      <td>22729.0</td>\n",
       "      <td>3257.038</td>\n",
       "      <td>38.487</td>\n",
       "      <td>0.073</td>\n",
       "      <td>0</td>\n",
       "    </tr>\n",
       "    <tr>\n",
       "      <th>182</th>\n",
       "      <td>california</td>\n",
       "      <td>riverside</td>\n",
       "      <td>2009</td>\n",
       "      <td>0.470886</td>\n",
       "      <td>32.905028</td>\n",
       "      <td>0.071982</td>\n",
       "      <td>65.173058</td>\n",
       "      <td>20.458778</td>\n",
       "      <td>1648.0</td>\n",
       "      <td>2002.341</td>\n",
       "      <td>34.229</td>\n",
       "      <td>27876.0</td>\n",
       "      <td>3320.870</td>\n",
       "      <td>38.619</td>\n",
       "      <td>0.059</td>\n",
       "      <td>0</td>\n",
       "    </tr>\n",
       "    <tr>\n",
       "      <th>130</th>\n",
       "      <td>california</td>\n",
       "      <td>los angeles</td>\n",
       "      <td>2020</td>\n",
       "      <td>0.464577</td>\n",
       "      <td>39.995690</td>\n",
       "      <td>0.070233</td>\n",
       "      <td>30.013895</td>\n",
       "      <td>16.128814</td>\n",
       "      <td>5244.0</td>\n",
       "      <td>2027.595</td>\n",
       "      <td>34.333</td>\n",
       "      <td>81812.0</td>\n",
       "      <td>3274.995</td>\n",
       "      <td>38.609</td>\n",
       "      <td>0.064</td>\n",
       "      <td>0</td>\n",
       "    </tr>\n",
       "    <tr>\n",
       "      <th>218</th>\n",
       "      <td>california</td>\n",
       "      <td>san bernardino</td>\n",
       "      <td>2017</td>\n",
       "      <td>0.500490</td>\n",
       "      <td>45.651289</td>\n",
       "      <td>0.070156</td>\n",
       "      <td>37.833333</td>\n",
       "      <td>16.988306</td>\n",
       "      <td>1676.0</td>\n",
       "      <td>1977.635</td>\n",
       "      <td>33.980</td>\n",
       "      <td>24938.0</td>\n",
       "      <td>3268.242</td>\n",
       "      <td>38.550</td>\n",
       "      <td>0.067</td>\n",
       "      <td>0</td>\n",
       "    </tr>\n",
       "    <tr>\n",
       "      <th>210</th>\n",
       "      <td>california</td>\n",
       "      <td>san bernardino</td>\n",
       "      <td>2008</td>\n",
       "      <td>0.486041</td>\n",
       "      <td>41.848901</td>\n",
       "      <td>0.069740</td>\n",
       "      <td>42.733333</td>\n",
       "      <td>15.815044</td>\n",
       "      <td>1849.0</td>\n",
       "      <td>1944.891</td>\n",
       "      <td>33.836</td>\n",
       "      <td>28769.0</td>\n",
       "      <td>3282.504</td>\n",
       "      <td>38.523</td>\n",
       "      <td>0.064</td>\n",
       "      <td>0</td>\n",
       "    </tr>\n",
       "  </tbody>\n",
       "</table>\n",
       "</div>"
      ],
      "text/plain": [
       "          state          county  year  Carbon monoxide  \\\n",
       "221  california  san bernardino  2020         0.428172   \n",
       "182  california       riverside  2009         0.470886   \n",
       "130  california     los angeles  2020         0.464577   \n",
       "218  california  san bernardino  2017         0.500490   \n",
       "210  california  san bernardino  2008         0.486041   \n",
       "\n",
       "     Nitrogen dioxide (NO2)     Ozone  PM10 Total 0-10um STP  \\\n",
       "221               43.779130  0.074551              40.977656   \n",
       "182               32.905028  0.071982              65.173058   \n",
       "130               39.995690  0.070233              30.013895   \n",
       "218               45.651289  0.070156              37.833333   \n",
       "210               41.848901  0.069740              42.733333   \n",
       "\n",
       "     PM2.5 - Local Conditions  births_low  avg_weight_low  avg_ges_age_low  \\\n",
       "221                 17.742911      1653.0        1984.623           33.970   \n",
       "182                 20.458778      1648.0        2002.341           34.229   \n",
       "130                 16.128814      5244.0        2027.595           34.333   \n",
       "218                 16.988306      1676.0        1977.635           33.980   \n",
       "210                 15.815044      1849.0        1944.891           33.836   \n",
       "\n",
       "     births_all  avg_weight_all  avg_ges_age_all  pct_low  high_rate  \n",
       "221     22729.0        3257.038           38.487    0.073          0  \n",
       "182     27876.0        3320.870           38.619    0.059          0  \n",
       "130     81812.0        3274.995           38.609    0.064          0  \n",
       "218     24938.0        3268.242           38.550    0.067          0  \n",
       "210     28769.0        3282.504           38.523    0.064          0  "
      ]
     },
     "execution_count": 34,
     "metadata": {},
     "output_type": "execute_result"
    }
   ],
   "source": [
    "high_ozone = aqs.iloc[[221, 182, 130, 218, 210]]\n",
    "\n",
    "high_ozone"
   ]
  },
  {
   "cell_type": "markdown",
   "id": "d55fe7c0",
   "metadata": {},
   "source": [
    "The 5 highest Ozone values in the dataset occur in California: three in San Bernardino, one in Riverside, and one in Los Angeles.\n",
    "\n",
    "None of these values coincide with a high rate of low weight birth."
   ]
  },
  {
   "cell_type": "markdown",
   "id": "23fe2b12",
   "metadata": {},
   "source": [
    "##### 4. PM10"
   ]
  },
  {
   "cell_type": "code",
   "execution_count": 13,
   "id": "bdfe9892",
   "metadata": {},
   "outputs": [
    {
     "data": {
      "text/plain": [
       "count    1012.000000\n",
       "mean       24.706734\n",
       "std        11.726393\n",
       "min         4.941176\n",
       "25%        16.723075\n",
       "50%        21.807638\n",
       "75%        29.731275\n",
       "max        79.639344\n",
       "Name: PM10 Total 0-10um STP, dtype: float64"
      ]
     },
     "execution_count": 13,
     "metadata": {},
     "output_type": "execute_result"
    }
   ],
   "source": [
    "aqs['PM10 Total 0-10um STP'].describe()"
   ]
  },
  {
   "cell_type": "markdown",
   "id": "c188a7aa",
   "metadata": {},
   "source": [
    "#### Cases with lowest PM10 values"
   ]
  },
  {
   "cell_type": "code",
   "execution_count": 37,
   "id": "cd2d85e8",
   "metadata": {},
   "outputs": [
    {
     "data": {
      "text/plain": [
       "981    4.941176\n",
       "982    5.663717\n",
       "979    5.916667\n",
       "980    5.983333\n",
       "977    6.638655\n",
       "Name: PM10 Total 0-10um STP, dtype: float64"
      ]
     },
     "execution_count": 37,
     "metadata": {},
     "output_type": "execute_result"
    }
   ],
   "source": [
    "aqs['PM10 Total 0-10um STP'].nsmallest()"
   ]
  },
  {
   "cell_type": "code",
   "execution_count": 39,
   "id": "a327f88d",
   "metadata": {},
   "outputs": [
    {
     "data": {
      "text/html": [
       "<div>\n",
       "<style scoped>\n",
       "    .dataframe tbody tr th:only-of-type {\n",
       "        vertical-align: middle;\n",
       "    }\n",
       "\n",
       "    .dataframe tbody tr th {\n",
       "        vertical-align: top;\n",
       "    }\n",
       "\n",
       "    .dataframe thead th {\n",
       "        text-align: right;\n",
       "    }\n",
       "</style>\n",
       "<table border=\"1\" class=\"dataframe\">\n",
       "  <thead>\n",
       "    <tr style=\"text-align: right;\">\n",
       "      <th></th>\n",
       "      <th>state</th>\n",
       "      <th>county</th>\n",
       "      <th>year</th>\n",
       "      <th>Carbon monoxide</th>\n",
       "      <th>Nitrogen dioxide (NO2)</th>\n",
       "      <th>Ozone</th>\n",
       "      <th>PM10 Total 0-10um STP</th>\n",
       "      <th>PM2.5 - Local Conditions</th>\n",
       "      <th>births_low</th>\n",
       "      <th>avg_weight_low</th>\n",
       "      <th>avg_ges_age_low</th>\n",
       "      <th>births_all</th>\n",
       "      <th>avg_weight_all</th>\n",
       "      <th>avg_ges_age_all</th>\n",
       "      <th>pct_low</th>\n",
       "      <th>high_rate</th>\n",
       "    </tr>\n",
       "  </thead>\n",
       "  <tbody>\n",
       "    <tr>\n",
       "      <th>981</th>\n",
       "      <td>vermont</td>\n",
       "      <td>chittenden</td>\n",
       "      <td>2019</td>\n",
       "      <td>0.338344</td>\n",
       "      <td>12.193889</td>\n",
       "      <td>0.040739</td>\n",
       "      <td>4.941176</td>\n",
       "      <td>6.684913</td>\n",
       "      <td>37.0</td>\n",
       "      <td>2262.730</td>\n",
       "      <td>36.378</td>\n",
       "      <td>985.0</td>\n",
       "      <td>3414.624</td>\n",
       "      <td>39.138</td>\n",
       "      <td>0.038</td>\n",
       "      <td>0</td>\n",
       "    </tr>\n",
       "    <tr>\n",
       "      <th>982</th>\n",
       "      <td>vermont</td>\n",
       "      <td>chittenden</td>\n",
       "      <td>2020</td>\n",
       "      <td>0.314784</td>\n",
       "      <td>10.269972</td>\n",
       "      <td>0.041003</td>\n",
       "      <td>5.663717</td>\n",
       "      <td>6.807023</td>\n",
       "      <td>62.0</td>\n",
       "      <td>1959.823</td>\n",
       "      <td>34.081</td>\n",
       "      <td>1098.0</td>\n",
       "      <td>3405.949</td>\n",
       "      <td>38.920</td>\n",
       "      <td>0.056</td>\n",
       "      <td>0</td>\n",
       "    </tr>\n",
       "    <tr>\n",
       "      <th>979</th>\n",
       "      <td>vermont</td>\n",
       "      <td>chittenden</td>\n",
       "      <td>2017</td>\n",
       "      <td>0.324265</td>\n",
       "      <td>12.377348</td>\n",
       "      <td>0.040792</td>\n",
       "      <td>5.916667</td>\n",
       "      <td>5.255436</td>\n",
       "      <td>41.0</td>\n",
       "      <td>2007.049</td>\n",
       "      <td>33.902</td>\n",
       "      <td>1039.0</td>\n",
       "      <td>3429.241</td>\n",
       "      <td>39.117</td>\n",
       "      <td>0.039</td>\n",
       "      <td>0</td>\n",
       "    </tr>\n",
       "    <tr>\n",
       "      <th>980</th>\n",
       "      <td>vermont</td>\n",
       "      <td>chittenden</td>\n",
       "      <td>2018</td>\n",
       "      <td>0.311444</td>\n",
       "      <td>11.812000</td>\n",
       "      <td>0.041447</td>\n",
       "      <td>5.983333</td>\n",
       "      <td>6.579436</td>\n",
       "      <td>39.0</td>\n",
       "      <td>2090.051</td>\n",
       "      <td>34.897</td>\n",
       "      <td>1048.0</td>\n",
       "      <td>3428.575</td>\n",
       "      <td>39.096</td>\n",
       "      <td>0.037</td>\n",
       "      <td>0</td>\n",
       "    </tr>\n",
       "    <tr>\n",
       "      <th>977</th>\n",
       "      <td>vermont</td>\n",
       "      <td>chittenden</td>\n",
       "      <td>2013</td>\n",
       "      <td>0.406614</td>\n",
       "      <td>14.001377</td>\n",
       "      <td>0.043269</td>\n",
       "      <td>6.638655</td>\n",
       "      <td>6.125439</td>\n",
       "      <td>76.0</td>\n",
       "      <td>1988.868</td>\n",
       "      <td>33.961</td>\n",
       "      <td>1279.0</td>\n",
       "      <td>3416.342</td>\n",
       "      <td>39.032</td>\n",
       "      <td>0.059</td>\n",
       "      <td>0</td>\n",
       "    </tr>\n",
       "  </tbody>\n",
       "</table>\n",
       "</div>"
      ],
      "text/plain": [
       "       state      county  year  Carbon monoxide  Nitrogen dioxide (NO2)  \\\n",
       "981  vermont  chittenden  2019         0.338344               12.193889   \n",
       "982  vermont  chittenden  2020         0.314784               10.269972   \n",
       "979  vermont  chittenden  2017         0.324265               12.377348   \n",
       "980  vermont  chittenden  2018         0.311444               11.812000   \n",
       "977  vermont  chittenden  2013         0.406614               14.001377   \n",
       "\n",
       "        Ozone  PM10 Total 0-10um STP  PM2.5 - Local Conditions  births_low  \\\n",
       "981  0.040739               4.941176                  6.684913        37.0   \n",
       "982  0.041003               5.663717                  6.807023        62.0   \n",
       "979  0.040792               5.916667                  5.255436        41.0   \n",
       "980  0.041447               5.983333                  6.579436        39.0   \n",
       "977  0.043269               6.638655                  6.125439        76.0   \n",
       "\n",
       "     avg_weight_low  avg_ges_age_low  births_all  avg_weight_all  \\\n",
       "981        2262.730           36.378       985.0        3414.624   \n",
       "982        1959.823           34.081      1098.0        3405.949   \n",
       "979        2007.049           33.902      1039.0        3429.241   \n",
       "980        2090.051           34.897      1048.0        3428.575   \n",
       "977        1988.868           33.961      1279.0        3416.342   \n",
       "\n",
       "     avg_ges_age_all  pct_low  high_rate  \n",
       "981           39.138    0.038          0  \n",
       "982           38.920    0.056          0  \n",
       "979           39.117    0.039          0  \n",
       "980           39.096    0.037          0  \n",
       "977           39.032    0.059          0  "
      ]
     },
     "execution_count": 39,
     "metadata": {},
     "output_type": "execute_result"
    }
   ],
   "source": [
    "low_pm10 = aqs.iloc[[981, 982, 979, 980, 977]]\n",
    "\n",
    "low_pm10"
   ]
  },
  {
   "cell_type": "markdown",
   "id": "d134cb4b",
   "metadata": {},
   "source": [
    "It appears that all of the lowest pm10 values occur in Chettenden County, VT.\n",
    "\n",
    "None of these values occur with a high rate of low birth weight...in fact, the range of 3.8 % to 5.6% low birth weight (pct_low) values appears to be the lowest range observed during this section of EDA.\n",
    "\n",
    "*Additionally, the low pm10 group is the only one thus far where the average gestational age for all births (avg_ges_age_all) is 39 months in the 4/5 cases - in all other high/low groups, average gestational age is 38 months in 4/5 or 5/5 cases.*"
   ]
  },
  {
   "cell_type": "markdown",
   "id": "3c894385",
   "metadata": {},
   "source": [
    "#### Cases with highest PM10 values"
   ]
  },
  {
   "cell_type": "code",
   "execution_count": 40,
   "id": "76b7ce2f",
   "metadata": {},
   "outputs": [
    {
     "data": {
      "text/plain": [
       "896    79.639344\n",
       "187    79.363073\n",
       "88     74.632653\n",
       "180    68.436364\n",
       "181    65.775452\n",
       "Name: PM10 Total 0-10um STP, dtype: float64"
      ]
     },
     "execution_count": 40,
     "metadata": {},
     "output_type": "execute_result"
    }
   ],
   "source": [
    "aqs['PM10 Total 0-10um STP'].nlargest()"
   ]
  },
  {
   "cell_type": "code",
   "execution_count": 42,
   "id": "65b25530",
   "metadata": {},
   "outputs": [
    {
     "data": {
      "text/html": [
       "<div>\n",
       "<style scoped>\n",
       "    .dataframe tbody tr th:only-of-type {\n",
       "        vertical-align: middle;\n",
       "    }\n",
       "\n",
       "    .dataframe tbody tr th {\n",
       "        vertical-align: top;\n",
       "    }\n",
       "\n",
       "    .dataframe thead th {\n",
       "        text-align: right;\n",
       "    }\n",
       "</style>\n",
       "<table border=\"1\" class=\"dataframe\">\n",
       "  <thead>\n",
       "    <tr style=\"text-align: right;\">\n",
       "      <th></th>\n",
       "      <th>state</th>\n",
       "      <th>county</th>\n",
       "      <th>year</th>\n",
       "      <th>Carbon monoxide</th>\n",
       "      <th>Nitrogen dioxide (NO2)</th>\n",
       "      <th>Ozone</th>\n",
       "      <th>PM10 Total 0-10um STP</th>\n",
       "      <th>PM2.5 - Local Conditions</th>\n",
       "      <th>births_low</th>\n",
       "      <th>avg_weight_low</th>\n",
       "      <th>avg_ges_age_low</th>\n",
       "      <th>births_all</th>\n",
       "      <th>avg_weight_all</th>\n",
       "      <th>avg_ges_age_all</th>\n",
       "      <th>pct_low</th>\n",
       "      <th>high_rate</th>\n",
       "    </tr>\n",
       "  </thead>\n",
       "  <tbody>\n",
       "    <tr>\n",
       "      <th>896</th>\n",
       "      <td>texas</td>\n",
       "      <td>el paso</td>\n",
       "      <td>2020</td>\n",
       "      <td>0.261486</td>\n",
       "      <td>31.397500</td>\n",
       "      <td>0.052081</td>\n",
       "      <td>79.639344</td>\n",
       "      <td>9.183343</td>\n",
       "      <td>741.0</td>\n",
       "      <td>2008.279</td>\n",
       "      <td>34.363</td>\n",
       "      <td>9279.0</td>\n",
       "      <td>3181.520</td>\n",
       "      <td>38.239</td>\n",
       "      <td>0.080</td>\n",
       "      <td>0</td>\n",
       "    </tr>\n",
       "    <tr>\n",
       "      <th>187</th>\n",
       "      <td>california</td>\n",
       "      <td>riverside</td>\n",
       "      <td>2014</td>\n",
       "      <td>0.471056</td>\n",
       "      <td>28.697353</td>\n",
       "      <td>0.065258</td>\n",
       "      <td>79.363073</td>\n",
       "      <td>10.792003</td>\n",
       "      <td>1548.0</td>\n",
       "      <td>2023.039</td>\n",
       "      <td>34.348</td>\n",
       "      <td>27480.0</td>\n",
       "      <td>3315.650</td>\n",
       "      <td>38.695</td>\n",
       "      <td>0.056</td>\n",
       "      <td>0</td>\n",
       "    </tr>\n",
       "    <tr>\n",
       "      <th>88</th>\n",
       "      <td>california</td>\n",
       "      <td>imperial</td>\n",
       "      <td>2006</td>\n",
       "      <td>0.695384</td>\n",
       "      <td>34.462396</td>\n",
       "      <td>0.061233</td>\n",
       "      <td>74.632653</td>\n",
       "      <td>12.381818</td>\n",
       "      <td>165.0</td>\n",
       "      <td>1994.261</td>\n",
       "      <td>34.176</td>\n",
       "      <td>2956.0</td>\n",
       "      <td>3343.053</td>\n",
       "      <td>38.580</td>\n",
       "      <td>0.056</td>\n",
       "      <td>0</td>\n",
       "    </tr>\n",
       "    <tr>\n",
       "      <th>180</th>\n",
       "      <td>california</td>\n",
       "      <td>riverside</td>\n",
       "      <td>2007</td>\n",
       "      <td>0.691629</td>\n",
       "      <td>36.763085</td>\n",
       "      <td>0.065225</td>\n",
       "      <td>68.436364</td>\n",
       "      <td>20.892727</td>\n",
       "      <td>1792.0</td>\n",
       "      <td>1991.933</td>\n",
       "      <td>34.171</td>\n",
       "      <td>29939.0</td>\n",
       "      <td>3312.755</td>\n",
       "      <td>38.528</td>\n",
       "      <td>0.060</td>\n",
       "      <td>0</td>\n",
       "    </tr>\n",
       "    <tr>\n",
       "      <th>181</th>\n",
       "      <td>california</td>\n",
       "      <td>riverside</td>\n",
       "      <td>2008</td>\n",
       "      <td>0.561022</td>\n",
       "      <td>34.923077</td>\n",
       "      <td>0.068620</td>\n",
       "      <td>65.775452</td>\n",
       "      <td>17.047619</td>\n",
       "      <td>1742.0</td>\n",
       "      <td>1981.302</td>\n",
       "      <td>33.994</td>\n",
       "      <td>28778.0</td>\n",
       "      <td>3317.897</td>\n",
       "      <td>38.536</td>\n",
       "      <td>0.061</td>\n",
       "      <td>0</td>\n",
       "    </tr>\n",
       "  </tbody>\n",
       "</table>\n",
       "</div>"
      ],
      "text/plain": [
       "          state     county  year  Carbon monoxide  Nitrogen dioxide (NO2)  \\\n",
       "896       texas    el paso  2020         0.261486               31.397500   \n",
       "187  california  riverside  2014         0.471056               28.697353   \n",
       "88   california   imperial  2006         0.695384               34.462396   \n",
       "180  california  riverside  2007         0.691629               36.763085   \n",
       "181  california  riverside  2008         0.561022               34.923077   \n",
       "\n",
       "        Ozone  PM10 Total 0-10um STP  PM2.5 - Local Conditions  births_low  \\\n",
       "896  0.052081              79.639344                  9.183343       741.0   \n",
       "187  0.065258              79.363073                 10.792003      1548.0   \n",
       "88   0.061233              74.632653                 12.381818       165.0   \n",
       "180  0.065225              68.436364                 20.892727      1792.0   \n",
       "181  0.068620              65.775452                 17.047619      1742.0   \n",
       "\n",
       "     avg_weight_low  avg_ges_age_low  births_all  avg_weight_all  \\\n",
       "896        2008.279           34.363      9279.0        3181.520   \n",
       "187        2023.039           34.348     27480.0        3315.650   \n",
       "88         1994.261           34.176      2956.0        3343.053   \n",
       "180        1991.933           34.171     29939.0        3312.755   \n",
       "181        1981.302           33.994     28778.0        3317.897   \n",
       "\n",
       "     avg_ges_age_all  pct_low  high_rate  \n",
       "896           38.239    0.080          0  \n",
       "187           38.695    0.056          0  \n",
       "88            38.580    0.056          0  \n",
       "180           38.528    0.060          0  \n",
       "181           38.536    0.061          0  "
      ]
     },
     "execution_count": 42,
     "metadata": {},
     "output_type": "execute_result"
    }
   ],
   "source": [
    "high_pm10 = aqs.iloc[[896, 187, 88, 180, 181]]\n",
    "\n",
    "high_pm10"
   ]
  },
  {
   "cell_type": "markdown",
   "id": "60c32e12",
   "metadata": {},
   "source": [
    "Three of the highest pm10 values occur in Riverside, CA, while one occurs in Imperial, CA, and one in El Paso, TX. \n",
    "\n",
    "None of these coincide with a high rate of low weight birth...however, the range of 6.0% to 8.0% percent low birth weight appears to be the highest range (pct_low) seen during this section of EDA."
   ]
  },
  {
   "cell_type": "markdown",
   "id": "a7b87827",
   "metadata": {},
   "source": [
    "##### 5. PM 2.5"
   ]
  },
  {
   "cell_type": "code",
   "execution_count": 14,
   "id": "b8e32319",
   "metadata": {},
   "outputs": [
    {
     "data": {
      "text/plain": [
       "count    1012.000000\n",
       "mean       10.225568\n",
       "std         3.000579\n",
       "min         3.902133\n",
       "25%         8.242385\n",
       "50%         9.669004\n",
       "75%        11.700189\n",
       "max        23.466667\n",
       "Name: PM2.5 - Local Conditions, dtype: float64"
      ]
     },
     "execution_count": 14,
     "metadata": {},
     "output_type": "execute_result"
    }
   ],
   "source": [
    "aqs['PM2.5 - Local Conditions'].describe()"
   ]
  },
  {
   "cell_type": "markdown",
   "id": "4b6510f4",
   "metadata": {},
   "source": [
    "#### Cases with lowest PM2.5 values"
   ]
  },
  {
   "cell_type": "code",
   "execution_count": 43,
   "id": "6e7862e4",
   "metadata": {},
   "outputs": [
    {
     "data": {
      "text/plain": [
       "457    3.902133\n",
       "458    3.925611\n",
       "454    4.225003\n",
       "456    4.337143\n",
       "455    4.407101\n",
       "Name: PM2.5 - Local Conditions, dtype: float64"
      ]
     },
     "execution_count": 43,
     "metadata": {},
     "output_type": "execute_result"
    }
   ],
   "source": [
    "aqs['PM2.5 - Local Conditions'].nsmallest()"
   ]
  },
  {
   "cell_type": "code",
   "execution_count": 50,
   "id": "2c44c134",
   "metadata": {},
   "outputs": [
    {
     "data": {
      "text/html": [
       "<div>\n",
       "<style scoped>\n",
       "    .dataframe tbody tr th:only-of-type {\n",
       "        vertical-align: middle;\n",
       "    }\n",
       "\n",
       "    .dataframe tbody tr th {\n",
       "        vertical-align: top;\n",
       "    }\n",
       "\n",
       "    .dataframe thead th {\n",
       "        text-align: right;\n",
       "    }\n",
       "</style>\n",
       "<table border=\"1\" class=\"dataframe\">\n",
       "  <thead>\n",
       "    <tr style=\"text-align: right;\">\n",
       "      <th></th>\n",
       "      <th>state</th>\n",
       "      <th>county</th>\n",
       "      <th>year</th>\n",
       "      <th>Carbon monoxide</th>\n",
       "      <th>Nitrogen dioxide (NO2)</th>\n",
       "      <th>Ozone</th>\n",
       "      <th>PM10 Total 0-10um STP</th>\n",
       "      <th>PM2.5 - Local Conditions</th>\n",
       "      <th>births_low</th>\n",
       "      <th>avg_weight_low</th>\n",
       "      <th>avg_ges_age_low</th>\n",
       "      <th>births_all</th>\n",
       "      <th>avg_weight_all</th>\n",
       "      <th>avg_ges_age_all</th>\n",
       "      <th>pct_low</th>\n",
       "      <th>high_rate</th>\n",
       "    </tr>\n",
       "  </thead>\n",
       "  <tbody>\n",
       "    <tr>\n",
       "      <th>457</th>\n",
       "      <td>hawaii</td>\n",
       "      <td>honolulu</td>\n",
       "      <td>2019</td>\n",
       "      <td>0.361191</td>\n",
       "      <td>11.032386</td>\n",
       "      <td>0.032122</td>\n",
       "      <td>13.670302</td>\n",
       "      <td>3.902133</td>\n",
       "      <td>562.0</td>\n",
       "      <td>2014.290</td>\n",
       "      <td>34.148</td>\n",
       "      <td>8774.0</td>\n",
       "      <td>3270.090</td>\n",
       "      <td>38.629</td>\n",
       "      <td>0.064</td>\n",
       "      <td>0</td>\n",
       "    </tr>\n",
       "    <tr>\n",
       "      <th>458</th>\n",
       "      <td>hawaii</td>\n",
       "      <td>honolulu</td>\n",
       "      <td>2020</td>\n",
       "      <td>0.294769</td>\n",
       "      <td>9.008033</td>\n",
       "      <td>0.029180</td>\n",
       "      <td>12.764980</td>\n",
       "      <td>3.925611</td>\n",
       "      <td>585.0</td>\n",
       "      <td>2042.154</td>\n",
       "      <td>34.391</td>\n",
       "      <td>8492.0</td>\n",
       "      <td>3267.433</td>\n",
       "      <td>38.578</td>\n",
       "      <td>0.069</td>\n",
       "      <td>0</td>\n",
       "    </tr>\n",
       "    <tr>\n",
       "      <th>454</th>\n",
       "      <td>hawaii</td>\n",
       "      <td>honolulu</td>\n",
       "      <td>2016</td>\n",
       "      <td>0.603464</td>\n",
       "      <td>3.960622</td>\n",
       "      <td>0.032486</td>\n",
       "      <td>20.335525</td>\n",
       "      <td>4.225003</td>\n",
       "      <td>709.0</td>\n",
       "      <td>1991.109</td>\n",
       "      <td>34.161</td>\n",
       "      <td>10013.0</td>\n",
       "      <td>3257.510</td>\n",
       "      <td>38.549</td>\n",
       "      <td>0.071</td>\n",
       "      <td>0</td>\n",
       "    </tr>\n",
       "    <tr>\n",
       "      <th>456</th>\n",
       "      <td>hawaii</td>\n",
       "      <td>honolulu</td>\n",
       "      <td>2018</td>\n",
       "      <td>0.453069</td>\n",
       "      <td>10.406052</td>\n",
       "      <td>0.034515</td>\n",
       "      <td>14.947888</td>\n",
       "      <td>4.337143</td>\n",
       "      <td>660.0</td>\n",
       "      <td>1978.467</td>\n",
       "      <td>33.924</td>\n",
       "      <td>9520.0</td>\n",
       "      <td>3253.912</td>\n",
       "      <td>38.511</td>\n",
       "      <td>0.069</td>\n",
       "      <td>0</td>\n",
       "    </tr>\n",
       "    <tr>\n",
       "      <th>455</th>\n",
       "      <td>hawaii</td>\n",
       "      <td>honolulu</td>\n",
       "      <td>2017</td>\n",
       "      <td>0.498002</td>\n",
       "      <td>12.213483</td>\n",
       "      <td>0.033042</td>\n",
       "      <td>15.551392</td>\n",
       "      <td>4.407101</td>\n",
       "      <td>621.0</td>\n",
       "      <td>1967.789</td>\n",
       "      <td>33.897</td>\n",
       "      <td>9594.0</td>\n",
       "      <td>3261.668</td>\n",
       "      <td>38.577</td>\n",
       "      <td>0.065</td>\n",
       "      <td>0</td>\n",
       "    </tr>\n",
       "  </tbody>\n",
       "</table>\n",
       "</div>"
      ],
      "text/plain": [
       "      state    county  year  Carbon monoxide  Nitrogen dioxide (NO2)  \\\n",
       "457  hawaii  honolulu  2019         0.361191               11.032386   \n",
       "458  hawaii  honolulu  2020         0.294769                9.008033   \n",
       "454  hawaii  honolulu  2016         0.603464                3.960622   \n",
       "456  hawaii  honolulu  2018         0.453069               10.406052   \n",
       "455  hawaii  honolulu  2017         0.498002               12.213483   \n",
       "\n",
       "        Ozone  PM10 Total 0-10um STP  PM2.5 - Local Conditions  births_low  \\\n",
       "457  0.032122              13.670302                  3.902133       562.0   \n",
       "458  0.029180              12.764980                  3.925611       585.0   \n",
       "454  0.032486              20.335525                  4.225003       709.0   \n",
       "456  0.034515              14.947888                  4.337143       660.0   \n",
       "455  0.033042              15.551392                  4.407101       621.0   \n",
       "\n",
       "     avg_weight_low  avg_ges_age_low  births_all  avg_weight_all  \\\n",
       "457        2014.290           34.148      8774.0        3270.090   \n",
       "458        2042.154           34.391      8492.0        3267.433   \n",
       "454        1991.109           34.161     10013.0        3257.510   \n",
       "456        1978.467           33.924      9520.0        3253.912   \n",
       "455        1967.789           33.897      9594.0        3261.668   \n",
       "\n",
       "     avg_ges_age_all  pct_low  high_rate  \n",
       "457           38.629    0.064          0  \n",
       "458           38.578    0.069          0  \n",
       "454           38.549    0.071          0  \n",
       "456           38.511    0.069          0  \n",
       "455           38.577    0.065          0  "
      ]
     },
     "execution_count": 50,
     "metadata": {},
     "output_type": "execute_result"
    }
   ],
   "source": [
    "low_pm2_5 = aqs.iloc[[457, 458, 454, 456, 455]]\n",
    "\n",
    "low_pm2_5"
   ]
  },
  {
   "cell_type": "markdown",
   "id": "e7b3a8c2",
   "metadata": {},
   "source": [
    "All of the lowest PM2.5 values occur in Honolulu, HI. \n",
    "\n",
    "None of these coincide with a high rate of low birth weight."
   ]
  },
  {
   "cell_type": "markdown",
   "id": "4634cdc0",
   "metadata": {},
   "source": [
    "#### Cases with highest PM2.5 values"
   ]
  },
  {
   "cell_type": "code",
   "execution_count": 45,
   "id": "c2ad851f",
   "metadata": {},
   "outputs": [
    {
     "data": {
      "text/plain": [
       "116    23.466667\n",
       "106    22.338655\n",
       "109    22.301695\n",
       "103    22.141379\n",
       "105    21.905172\n",
       "Name: PM2.5 - Local Conditions, dtype: float64"
      ]
     },
     "execution_count": 45,
     "metadata": {},
     "output_type": "execute_result"
    }
   ],
   "source": [
    "aqs['PM2.5 - Local Conditions'].nlargest()"
   ]
  },
  {
   "cell_type": "code",
   "execution_count": 51,
   "id": "afe904d0",
   "metadata": {},
   "outputs": [
    {
     "data": {
      "text/html": [
       "<div>\n",
       "<style scoped>\n",
       "    .dataframe tbody tr th:only-of-type {\n",
       "        vertical-align: middle;\n",
       "    }\n",
       "\n",
       "    .dataframe tbody tr th {\n",
       "        vertical-align: top;\n",
       "    }\n",
       "\n",
       "    .dataframe thead th {\n",
       "        text-align: right;\n",
       "    }\n",
       "</style>\n",
       "<table border=\"1\" class=\"dataframe\">\n",
       "  <thead>\n",
       "    <tr style=\"text-align: right;\">\n",
       "      <th></th>\n",
       "      <th>state</th>\n",
       "      <th>county</th>\n",
       "      <th>year</th>\n",
       "      <th>Carbon monoxide</th>\n",
       "      <th>Nitrogen dioxide (NO2)</th>\n",
       "      <th>Ozone</th>\n",
       "      <th>PM10 Total 0-10um STP</th>\n",
       "      <th>PM2.5 - Local Conditions</th>\n",
       "      <th>births_low</th>\n",
       "      <th>avg_weight_low</th>\n",
       "      <th>avg_ges_age_low</th>\n",
       "      <th>births_all</th>\n",
       "      <th>avg_weight_all</th>\n",
       "      <th>avg_ges_age_all</th>\n",
       "      <th>pct_low</th>\n",
       "      <th>high_rate</th>\n",
       "    </tr>\n",
       "  </thead>\n",
       "  <tbody>\n",
       "    <tr>\n",
       "      <th>116</th>\n",
       "      <td>california</td>\n",
       "      <td>kern</td>\n",
       "      <td>2020</td>\n",
       "      <td>0.307559</td>\n",
       "      <td>28.599169</td>\n",
       "      <td>0.061036</td>\n",
       "      <td>58.877193</td>\n",
       "      <td>23.466667</td>\n",
       "      <td>766.0</td>\n",
       "      <td>1977.843</td>\n",
       "      <td>34.182</td>\n",
       "      <td>10969.0</td>\n",
       "      <td>3294.804</td>\n",
       "      <td>38.630</td>\n",
       "      <td>0.070</td>\n",
       "      <td>0</td>\n",
       "    </tr>\n",
       "    <tr>\n",
       "      <th>106</th>\n",
       "      <td>california</td>\n",
       "      <td>kern</td>\n",
       "      <td>2009</td>\n",
       "      <td>0.372180</td>\n",
       "      <td>35.312865</td>\n",
       "      <td>0.064236</td>\n",
       "      <td>56.333333</td>\n",
       "      <td>22.338655</td>\n",
       "      <td>824.0</td>\n",
       "      <td>2015.006</td>\n",
       "      <td>34.556</td>\n",
       "      <td>12752.0</td>\n",
       "      <td>3292.794</td>\n",
       "      <td>38.735</td>\n",
       "      <td>0.065</td>\n",
       "      <td>0</td>\n",
       "    </tr>\n",
       "    <tr>\n",
       "      <th>109</th>\n",
       "      <td>california</td>\n",
       "      <td>kern</td>\n",
       "      <td>2013</td>\n",
       "      <td>0.303266</td>\n",
       "      <td>31.179191</td>\n",
       "      <td>0.061058</td>\n",
       "      <td>51.377049</td>\n",
       "      <td>22.301695</td>\n",
       "      <td>814.0</td>\n",
       "      <td>1980.361</td>\n",
       "      <td>34.169</td>\n",
       "      <td>13004.0</td>\n",
       "      <td>3311.717</td>\n",
       "      <td>38.679</td>\n",
       "      <td>0.063</td>\n",
       "      <td>0</td>\n",
       "    </tr>\n",
       "    <tr>\n",
       "      <th>103</th>\n",
       "      <td>california</td>\n",
       "      <td>kern</td>\n",
       "      <td>2006</td>\n",
       "      <td>0.561203</td>\n",
       "      <td>39.955923</td>\n",
       "      <td>0.067856</td>\n",
       "      <td>56.338983</td>\n",
       "      <td>22.141379</td>\n",
       "      <td>783.0</td>\n",
       "      <td>1965.909</td>\n",
       "      <td>34.128</td>\n",
       "      <td>11225.0</td>\n",
       "      <td>3309.881</td>\n",
       "      <td>38.564</td>\n",
       "      <td>0.070</td>\n",
       "      <td>0</td>\n",
       "    </tr>\n",
       "    <tr>\n",
       "      <th>105</th>\n",
       "      <td>california</td>\n",
       "      <td>kern</td>\n",
       "      <td>2008</td>\n",
       "      <td>0.493117</td>\n",
       "      <td>37.112994</td>\n",
       "      <td>0.069000</td>\n",
       "      <td>54.191176</td>\n",
       "      <td>21.905172</td>\n",
       "      <td>782.0</td>\n",
       "      <td>1993.632</td>\n",
       "      <td>34.429</td>\n",
       "      <td>11173.0</td>\n",
       "      <td>3281.471</td>\n",
       "      <td>38.645</td>\n",
       "      <td>0.070</td>\n",
       "      <td>0</td>\n",
       "    </tr>\n",
       "  </tbody>\n",
       "</table>\n",
       "</div>"
      ],
      "text/plain": [
       "          state county  year  Carbon monoxide  Nitrogen dioxide (NO2)  \\\n",
       "116  california   kern  2020         0.307559               28.599169   \n",
       "106  california   kern  2009         0.372180               35.312865   \n",
       "109  california   kern  2013         0.303266               31.179191   \n",
       "103  california   kern  2006         0.561203               39.955923   \n",
       "105  california   kern  2008         0.493117               37.112994   \n",
       "\n",
       "        Ozone  PM10 Total 0-10um STP  PM2.5 - Local Conditions  births_low  \\\n",
       "116  0.061036              58.877193                 23.466667       766.0   \n",
       "106  0.064236              56.333333                 22.338655       824.0   \n",
       "109  0.061058              51.377049                 22.301695       814.0   \n",
       "103  0.067856              56.338983                 22.141379       783.0   \n",
       "105  0.069000              54.191176                 21.905172       782.0   \n",
       "\n",
       "     avg_weight_low  avg_ges_age_low  births_all  avg_weight_all  \\\n",
       "116        1977.843           34.182     10969.0        3294.804   \n",
       "106        2015.006           34.556     12752.0        3292.794   \n",
       "109        1980.361           34.169     13004.0        3311.717   \n",
       "103        1965.909           34.128     11225.0        3309.881   \n",
       "105        1993.632           34.429     11173.0        3281.471   \n",
       "\n",
       "     avg_ges_age_all  pct_low  high_rate  \n",
       "116           38.630    0.070          0  \n",
       "106           38.735    0.065          0  \n",
       "109           38.679    0.063          0  \n",
       "103           38.564    0.070          0  \n",
       "105           38.645    0.070          0  "
      ]
     },
     "execution_count": 51,
     "metadata": {},
     "output_type": "execute_result"
    }
   ],
   "source": [
    "high_pm2_5 = aqs.iloc[[116, 106, 109, 103, 105]]\n",
    "\n",
    "high_pm2_5"
   ]
  },
  {
   "cell_type": "markdown",
   "id": "ec473397",
   "metadata": {},
   "source": [
    "The highest pm 2.5 values all occur in Kern, CA. \n",
    "\n",
    "None of these values coincide with a high rate of low birth weight."
   ]
  },
  {
   "cell_type": "markdown",
   "id": "65cdf240",
   "metadata": {},
   "source": [
    "### Discussion"
   ]
  },
  {
   "cell_type": "markdown",
   "id": "f9aa8554",
   "metadata": {},
   "source": [
    "In this section, the cases with highest and lowest values of each of the pollutants were observed.\n",
    "\n",
    "When comparing the groups with high versus low values of each pollutant, the most distinct appeared to be those involving pm10 concentration.\n",
    "\n",
    "As all of the 5 lowest pm10 values occurred in Chittenden County, VT, and 3/5 of the highest pm10 values occured in Riverside, CA, further comparisons between the two counties are warrented."
   ]
  },
  {
   "cell_type": "markdown",
   "id": "449da0d2",
   "metadata": {},
   "source": [
    "## Visualizations - Chittenden, VT and Riverside, CA"
   ]
  },
  {
   "cell_type": "markdown",
   "id": "56994a5f",
   "metadata": {},
   "source": [
    "#### Creating a dataframe with the two counties of interest"
   ]
  },
  {
   "cell_type": "markdown",
   "id": "103777d6",
   "metadata": {},
   "source": [
    "##### Chittenden"
   ]
  },
  {
   "cell_type": "code",
   "execution_count": 53,
   "id": "05e16b54",
   "metadata": {},
   "outputs": [
    {
     "data": {
      "text/html": [
       "<div>\n",
       "<style scoped>\n",
       "    .dataframe tbody tr th:only-of-type {\n",
       "        vertical-align: middle;\n",
       "    }\n",
       "\n",
       "    .dataframe tbody tr th {\n",
       "        vertical-align: top;\n",
       "    }\n",
       "\n",
       "    .dataframe thead th {\n",
       "        text-align: right;\n",
       "    }\n",
       "</style>\n",
       "<table border=\"1\" class=\"dataframe\">\n",
       "  <thead>\n",
       "    <tr style=\"text-align: right;\">\n",
       "      <th></th>\n",
       "      <th>state</th>\n",
       "      <th>county</th>\n",
       "      <th>year</th>\n",
       "      <th>Carbon monoxide</th>\n",
       "      <th>Nitrogen dioxide (NO2)</th>\n",
       "      <th>Ozone</th>\n",
       "      <th>PM10 Total 0-10um STP</th>\n",
       "      <th>PM2.5 - Local Conditions</th>\n",
       "      <th>births_low</th>\n",
       "      <th>avg_weight_low</th>\n",
       "      <th>avg_ges_age_low</th>\n",
       "      <th>births_all</th>\n",
       "      <th>avg_weight_all</th>\n",
       "      <th>avg_ges_age_all</th>\n",
       "      <th>pct_low</th>\n",
       "      <th>high_rate</th>\n",
       "    </tr>\n",
       "  </thead>\n",
       "  <tbody>\n",
       "    <tr>\n",
       "      <th>971</th>\n",
       "      <td>vermont</td>\n",
       "      <td>chittenden</td>\n",
       "      <td>2006</td>\n",
       "      <td>0.345426</td>\n",
       "      <td>21.178814</td>\n",
       "      <td>0.043077</td>\n",
       "      <td>14.180328</td>\n",
       "      <td>8.354167</td>\n",
       "      <td>65.0</td>\n",
       "      <td>1940.292</td>\n",
       "      <td>33.631</td>\n",
       "      <td>1236.0</td>\n",
       "      <td>3432.320</td>\n",
       "      <td>38.947</td>\n",
       "      <td>0.053</td>\n",
       "      <td>0</td>\n",
       "    </tr>\n",
       "    <tr>\n",
       "      <th>972</th>\n",
       "      <td>vermont</td>\n",
       "      <td>chittenden</td>\n",
       "      <td>2007</td>\n",
       "      <td>0.431138</td>\n",
       "      <td>21.134957</td>\n",
       "      <td>0.045161</td>\n",
       "      <td>13.087719</td>\n",
       "      <td>8.950000</td>\n",
       "      <td>73.0</td>\n",
       "      <td>1977.260</td>\n",
       "      <td>34.384</td>\n",
       "      <td>1226.0</td>\n",
       "      <td>3438.842</td>\n",
       "      <td>38.953</td>\n",
       "      <td>0.060</td>\n",
       "      <td>0</td>\n",
       "    </tr>\n",
       "    <tr>\n",
       "      <th>973</th>\n",
       "      <td>vermont</td>\n",
       "      <td>chittenden</td>\n",
       "      <td>2008</td>\n",
       "      <td>0.391463</td>\n",
       "      <td>10.254124</td>\n",
       "      <td>0.044428</td>\n",
       "      <td>12.983607</td>\n",
       "      <td>7.807759</td>\n",
       "      <td>46.0</td>\n",
       "      <td>1957.935</td>\n",
       "      <td>33.652</td>\n",
       "      <td>1148.0</td>\n",
       "      <td>3472.898</td>\n",
       "      <td>39.038</td>\n",
       "      <td>0.040</td>\n",
       "      <td>0</td>\n",
       "    </tr>\n",
       "    <tr>\n",
       "      <th>974</th>\n",
       "      <td>vermont</td>\n",
       "      <td>chittenden</td>\n",
       "      <td>2009</td>\n",
       "      <td>0.375785</td>\n",
       "      <td>9.047352</td>\n",
       "      <td>0.041483</td>\n",
       "      <td>12.620690</td>\n",
       "      <td>7.039167</td>\n",
       "      <td>54.0</td>\n",
       "      <td>1947.759</td>\n",
       "      <td>33.759</td>\n",
       "      <td>1220.0</td>\n",
       "      <td>3442.759</td>\n",
       "      <td>39.092</td>\n",
       "      <td>0.044</td>\n",
       "      <td>0</td>\n",
       "    </tr>\n",
       "    <tr>\n",
       "      <th>975</th>\n",
       "      <td>vermont</td>\n",
       "      <td>chittenden</td>\n",
       "      <td>2010</td>\n",
       "      <td>0.388297</td>\n",
       "      <td>16.741195</td>\n",
       "      <td>0.044278</td>\n",
       "      <td>13.189655</td>\n",
       "      <td>7.169748</td>\n",
       "      <td>73.0</td>\n",
       "      <td>1898.685</td>\n",
       "      <td>33.370</td>\n",
       "      <td>1183.0</td>\n",
       "      <td>3412.081</td>\n",
       "      <td>38.915</td>\n",
       "      <td>0.062</td>\n",
       "      <td>0</td>\n",
       "    </tr>\n",
       "  </tbody>\n",
       "</table>\n",
       "</div>"
      ],
      "text/plain": [
       "       state      county  year  Carbon monoxide  Nitrogen dioxide (NO2)  \\\n",
       "971  vermont  chittenden  2006         0.345426               21.178814   \n",
       "972  vermont  chittenden  2007         0.431138               21.134957   \n",
       "973  vermont  chittenden  2008         0.391463               10.254124   \n",
       "974  vermont  chittenden  2009         0.375785                9.047352   \n",
       "975  vermont  chittenden  2010         0.388297               16.741195   \n",
       "\n",
       "        Ozone  PM10 Total 0-10um STP  PM2.5 - Local Conditions  births_low  \\\n",
       "971  0.043077              14.180328                  8.354167        65.0   \n",
       "972  0.045161              13.087719                  8.950000        73.0   \n",
       "973  0.044428              12.983607                  7.807759        46.0   \n",
       "974  0.041483              12.620690                  7.039167        54.0   \n",
       "975  0.044278              13.189655                  7.169748        73.0   \n",
       "\n",
       "     avg_weight_low  avg_ges_age_low  births_all  avg_weight_all  \\\n",
       "971        1940.292           33.631      1236.0        3432.320   \n",
       "972        1977.260           34.384      1226.0        3438.842   \n",
       "973        1957.935           33.652      1148.0        3472.898   \n",
       "974        1947.759           33.759      1220.0        3442.759   \n",
       "975        1898.685           33.370      1183.0        3412.081   \n",
       "\n",
       "     avg_ges_age_all  pct_low  high_rate  \n",
       "971           38.947    0.053          0  \n",
       "972           38.953    0.060          0  \n",
       "973           39.038    0.040          0  \n",
       "974           39.092    0.044          0  \n",
       "975           38.915    0.062          0  "
      ]
     },
     "execution_count": 53,
     "metadata": {},
     "output_type": "execute_result"
    }
   ],
   "source": [
    "chittenden = aqs.loc[(aqs['county'] == 'chittenden') & (aqs['state'] == 'vermont' )]#creates dataframe with only rows for chittenden county\n",
    "\n",
    "chittenden.head() #displays top 5 rows of dataframe"
   ]
  },
  {
   "cell_type": "code",
   "execution_count": 56,
   "id": "8e7e46fd",
   "metadata": {},
   "outputs": [
    {
     "data": {
      "text/plain": [
       "(12, 16)"
      ]
     },
     "execution_count": 56,
     "metadata": {},
     "output_type": "execute_result"
    }
   ],
   "source": [
    "chittenden.shape"
   ]
  },
  {
   "cell_type": "code",
   "execution_count": 75,
   "id": "c3dc8a30",
   "metadata": {},
   "outputs": [
    {
     "data": {
      "text/plain": [
       "0    12\n",
       "Name: high_rate, dtype: int64"
      ]
     },
     "execution_count": 75,
     "metadata": {},
     "output_type": "execute_result"
    }
   ],
   "source": [
    "chittenden.high_rate.value_counts()"
   ]
  },
  {
   "cell_type": "markdown",
   "id": "28219a58",
   "metadata": {},
   "source": [
    "There are no high rate low birth weight years in Chittenden County."
   ]
  },
  {
   "cell_type": "markdown",
   "id": "bf7b4b65",
   "metadata": {},
   "source": [
    "##### Riverside"
   ]
  },
  {
   "cell_type": "code",
   "execution_count": 54,
   "id": "6933c309",
   "metadata": {},
   "outputs": [
    {
     "data": {
      "text/html": [
       "<div>\n",
       "<style scoped>\n",
       "    .dataframe tbody tr th:only-of-type {\n",
       "        vertical-align: middle;\n",
       "    }\n",
       "\n",
       "    .dataframe tbody tr th {\n",
       "        vertical-align: top;\n",
       "    }\n",
       "\n",
       "    .dataframe thead th {\n",
       "        text-align: right;\n",
       "    }\n",
       "</style>\n",
       "<table border=\"1\" class=\"dataframe\">\n",
       "  <thead>\n",
       "    <tr style=\"text-align: right;\">\n",
       "      <th></th>\n",
       "      <th>state</th>\n",
       "      <th>county</th>\n",
       "      <th>year</th>\n",
       "      <th>Carbon monoxide</th>\n",
       "      <th>Nitrogen dioxide (NO2)</th>\n",
       "      <th>Ozone</th>\n",
       "      <th>PM10 Total 0-10um STP</th>\n",
       "      <th>PM2.5 - Local Conditions</th>\n",
       "      <th>births_low</th>\n",
       "      <th>avg_weight_low</th>\n",
       "      <th>avg_ges_age_low</th>\n",
       "      <th>births_all</th>\n",
       "      <th>avg_weight_all</th>\n",
       "      <th>avg_ges_age_all</th>\n",
       "      <th>pct_low</th>\n",
       "      <th>high_rate</th>\n",
       "    </tr>\n",
       "  </thead>\n",
       "  <tbody>\n",
       "    <tr>\n",
       "      <th>179</th>\n",
       "      <td>california</td>\n",
       "      <td>riverside</td>\n",
       "      <td>2006</td>\n",
       "      <td>0.677182</td>\n",
       "      <td>36.495775</td>\n",
       "      <td>0.066793</td>\n",
       "      <td>64.084746</td>\n",
       "      <td>20.781416</td>\n",
       "      <td>1906.0</td>\n",
       "      <td>1980.997</td>\n",
       "      <td>34.116</td>\n",
       "      <td>30990.0</td>\n",
       "      <td>3317.505</td>\n",
       "      <td>38.520</td>\n",
       "      <td>0.062</td>\n",
       "      <td>0</td>\n",
       "    </tr>\n",
       "    <tr>\n",
       "      <th>180</th>\n",
       "      <td>california</td>\n",
       "      <td>riverside</td>\n",
       "      <td>2007</td>\n",
       "      <td>0.691629</td>\n",
       "      <td>36.763085</td>\n",
       "      <td>0.065225</td>\n",
       "      <td>68.436364</td>\n",
       "      <td>20.892727</td>\n",
       "      <td>1792.0</td>\n",
       "      <td>1991.933</td>\n",
       "      <td>34.171</td>\n",
       "      <td>29939.0</td>\n",
       "      <td>3312.755</td>\n",
       "      <td>38.528</td>\n",
       "      <td>0.060</td>\n",
       "      <td>0</td>\n",
       "    </tr>\n",
       "    <tr>\n",
       "      <th>181</th>\n",
       "      <td>california</td>\n",
       "      <td>riverside</td>\n",
       "      <td>2008</td>\n",
       "      <td>0.561022</td>\n",
       "      <td>34.923077</td>\n",
       "      <td>0.068620</td>\n",
       "      <td>65.775452</td>\n",
       "      <td>17.047619</td>\n",
       "      <td>1742.0</td>\n",
       "      <td>1981.302</td>\n",
       "      <td>33.994</td>\n",
       "      <td>28778.0</td>\n",
       "      <td>3317.897</td>\n",
       "      <td>38.536</td>\n",
       "      <td>0.061</td>\n",
       "      <td>0</td>\n",
       "    </tr>\n",
       "    <tr>\n",
       "      <th>182</th>\n",
       "      <td>california</td>\n",
       "      <td>riverside</td>\n",
       "      <td>2009</td>\n",
       "      <td>0.470886</td>\n",
       "      <td>32.905028</td>\n",
       "      <td>0.071982</td>\n",
       "      <td>65.173058</td>\n",
       "      <td>20.458778</td>\n",
       "      <td>1648.0</td>\n",
       "      <td>2002.341</td>\n",
       "      <td>34.229</td>\n",
       "      <td>27876.0</td>\n",
       "      <td>3320.870</td>\n",
       "      <td>38.619</td>\n",
       "      <td>0.059</td>\n",
       "      <td>0</td>\n",
       "    </tr>\n",
       "    <tr>\n",
       "      <th>183</th>\n",
       "      <td>california</td>\n",
       "      <td>riverside</td>\n",
       "      <td>2010</td>\n",
       "      <td>0.476600</td>\n",
       "      <td>30.339650</td>\n",
       "      <td>0.064808</td>\n",
       "      <td>42.700000</td>\n",
       "      <td>15.199118</td>\n",
       "      <td>1587.0</td>\n",
       "      <td>2014.537</td>\n",
       "      <td>34.202</td>\n",
       "      <td>27996.0</td>\n",
       "      <td>3328.355</td>\n",
       "      <td>38.649</td>\n",
       "      <td>0.057</td>\n",
       "      <td>0</td>\n",
       "    </tr>\n",
       "  </tbody>\n",
       "</table>\n",
       "</div>"
      ],
      "text/plain": [
       "          state     county  year  Carbon monoxide  Nitrogen dioxide (NO2)  \\\n",
       "179  california  riverside  2006         0.677182               36.495775   \n",
       "180  california  riverside  2007         0.691629               36.763085   \n",
       "181  california  riverside  2008         0.561022               34.923077   \n",
       "182  california  riverside  2009         0.470886               32.905028   \n",
       "183  california  riverside  2010         0.476600               30.339650   \n",
       "\n",
       "        Ozone  PM10 Total 0-10um STP  PM2.5 - Local Conditions  births_low  \\\n",
       "179  0.066793              64.084746                 20.781416      1906.0   \n",
       "180  0.065225              68.436364                 20.892727      1792.0   \n",
       "181  0.068620              65.775452                 17.047619      1742.0   \n",
       "182  0.071982              65.173058                 20.458778      1648.0   \n",
       "183  0.064808              42.700000                 15.199118      1587.0   \n",
       "\n",
       "     avg_weight_low  avg_ges_age_low  births_all  avg_weight_all  \\\n",
       "179        1980.997           34.116     30990.0        3317.505   \n",
       "180        1991.933           34.171     29939.0        3312.755   \n",
       "181        1981.302           33.994     28778.0        3317.897   \n",
       "182        2002.341           34.229     27876.0        3320.870   \n",
       "183        2014.537           34.202     27996.0        3328.355   \n",
       "\n",
       "     avg_ges_age_all  pct_low  high_rate  \n",
       "179           38.520    0.062          0  \n",
       "180           38.528    0.060          0  \n",
       "181           38.536    0.061          0  \n",
       "182           38.619    0.059          0  \n",
       "183           38.649    0.057          0  "
      ]
     },
     "execution_count": 54,
     "metadata": {},
     "output_type": "execute_result"
    }
   ],
   "source": [
    "riverside = aqs.loc[(aqs['county'] == 'riverside') & (aqs['state'] == 'california' )]#creates dataframe with only rows for chittenden county\n",
    "\n",
    "riverside.head() #displays top 5 rows of dataframe"
   ]
  },
  {
   "cell_type": "code",
   "execution_count": 57,
   "id": "7fcf016e",
   "metadata": {},
   "outputs": [
    {
     "data": {
      "text/plain": [
       "(15, 16)"
      ]
     },
     "execution_count": 57,
     "metadata": {},
     "output_type": "execute_result"
    }
   ],
   "source": [
    "riverside.shape"
   ]
  },
  {
   "cell_type": "code",
   "execution_count": 77,
   "id": "932ff70f",
   "metadata": {},
   "outputs": [
    {
     "data": {
      "text/plain": [
       "0    15\n",
       "Name: high_rate, dtype: int64"
      ]
     },
     "execution_count": 77,
     "metadata": {},
     "output_type": "execute_result"
    }
   ],
   "source": [
    "riverside.high_rate.value_counts()"
   ]
  },
  {
   "cell_type": "markdown",
   "id": "b0b68bcd",
   "metadata": {},
   "source": [
    "There are no high rate years in Riverside either."
   ]
  },
  {
   "cell_type": "markdown",
   "id": "677e7bc7",
   "metadata": {},
   "source": [
    "##### Concatenation"
   ]
  },
  {
   "cell_type": "code",
   "execution_count": 58,
   "id": "ab708abb",
   "metadata": {},
   "outputs": [
    {
     "data": {
      "text/plain": [
       "array(['chittenden', 'riverside'], dtype=object)"
      ]
     },
     "execution_count": 58,
     "metadata": {},
     "output_type": "execute_result"
    }
   ],
   "source": [
    "chit_river = pd.concat([chittenden, riverside], ignore_index = True, axis = 0) #combines the two datasets into one\n",
    "\n",
    "chit_river.county.unique() "
   ]
  },
  {
   "cell_type": "markdown",
   "id": "6cbd6aa4",
   "metadata": {},
   "source": [
    "The dataset has been created. Now, visualizations will be prepared."
   ]
  },
  {
   "cell_type": "markdown",
   "id": "10f67b7c",
   "metadata": {},
   "source": [
    "#### 1. Carbon monoxide"
   ]
  },
  {
   "cell_type": "code",
   "execution_count": 76,
   "id": "a7cbe3c0",
   "metadata": {},
   "outputs": [
    {
     "data": {
      "image/png": "[encoded data removed]",
      "text/plain": [
       "<Figure size 640x480 with 1 Axes>"
      ]
     },
     "metadata": {},
     "output_type": "display_data"
    }
   ],
   "source": [
    "sns.barplot(data= chit_river, x='county', y=chit_river['Carbon monoxide']);"
   ]
  },
  {
   "cell_type": "markdown",
   "id": "e54c41f5",
   "metadata": {},
   "source": [
    "#### 2. Nitrogen Dioxide"
   ]
  },
  {
   "cell_type": "code",
   "execution_count": 78,
   "id": "6ec40347",
   "metadata": {},
   "outputs": [
    {
     "data": {
      "image/png": "[encoded data removed]",
      "text/plain": [
       "<Figure size 640x480 with 1 Axes>"
      ]
     },
     "metadata": {},
     "output_type": "display_data"
    }
   ],
   "source": [
    "sns.barplot(data= chit_river, x='county', y=chit_river['Nitrogen dioxide (NO2)']);"
   ]
  },
  {
   "cell_type": "markdown",
   "id": "0ae44e36",
   "metadata": {},
   "source": [
    "#### 3. Ozone"
   ]
  },
  {
   "cell_type": "code",
   "execution_count": 79,
   "id": "1d5d9ff0",
   "metadata": {},
   "outputs": [
    {
     "data": {
      "image/png": "[encoded data removed]",
      "text/plain": [
       "<Figure size 640x480 with 1 Axes>"
      ]
     },
     "metadata": {},
     "output_type": "display_data"
    }
   ],
   "source": [
    "sns.barplot(data= chit_river, x='county', y=chit_river['Ozone']);"
   ]
  },
  {
   "cell_type": "markdown",
   "id": "65fe7cab",
   "metadata": {},
   "source": [
    "#### 4. PM 10 Concentrations"
   ]
  },
  {
   "cell_type": "code",
   "execution_count": 73,
   "id": "5a0d88ee",
   "metadata": {},
   "outputs": [
    {
     "data": {
      "image/png": "[encoded data removed]",
      "text/plain": [
       "<Figure size 640x480 with 1 Axes>"
      ]
     },
     "metadata": {},
     "output_type": "display_data"
    }
   ],
   "source": [
    "sns.barplot(data= chit_river, x='county', y=chit_river['PM10 Total 0-10um STP']);"
   ]
  },
  {
   "cell_type": "markdown",
   "id": "9cf8394f",
   "metadata": {},
   "source": [
    "#### 5. PM2.5 Concentrations"
   ]
  },
  {
   "cell_type": "code",
   "execution_count": 80,
   "id": "a26fcd69",
   "metadata": {},
   "outputs": [
    {
     "data": {
      "image/png": "[encoded data removed]",
      "text/plain": [
       "<Figure size 640x480 with 1 Axes>"
      ]
     },
     "metadata": {},
     "output_type": "display_data"
    }
   ],
   "source": [
    "sns.barplot(data= chit_river, x='county', y=chit_river['PM2.5 - Local Conditions']);"
   ]
  },
  {
   "cell_type": "markdown",
   "id": "390d8e83",
   "metadata": {},
   "source": [
    "#### 6. Pct Low Births"
   ]
  },
  {
   "cell_type": "code",
   "execution_count": 72,
   "id": "9440faee",
   "metadata": {},
   "outputs": [
    {
     "data": {
      "image/png": "[encoded data removed]",
      "text/plain": [
       "<Figure size 640x480 with 1 Axes>"
      ]
     },
     "metadata": {},
     "output_type": "display_data"
    }
   ],
   "source": [
    "sns.barplot(data = chit_river, x = 'county', y='pct_low');"
   ]
  },
  {
   "cell_type": "code",
   "execution_count": 81,
   "id": "eaad1320",
   "metadata": {},
   "outputs": [
    {
     "data": {
      "text/plain": [
       "0.049416666666666664"
      ]
     },
     "execution_count": 81,
     "metadata": {},
     "output_type": "execute_result"
    }
   ],
   "source": [
    "chittenden.pct_low.mean()"
   ]
  },
  {
   "cell_type": "code",
   "execution_count": 82,
   "id": "65f8aff3",
   "metadata": {},
   "outputs": [
    {
     "data": {
      "text/plain": [
       "0.059666666666666666"
      ]
     },
     "execution_count": 82,
     "metadata": {},
     "output_type": "execute_result"
    }
   ],
   "source": [
    "riverside.pct_low.mean()"
   ]
  },
  {
   "cell_type": "markdown",
   "id": "8a8778f8",
   "metadata": {},
   "source": [
    "### Discussion"
   ]
  },
  {
   "cell_type": "markdown",
   "id": "e53a8a01",
   "metadata": {},
   "source": [
    "From the visualiations, it becomes clear that the average concentrations of all of the pollutants assessed between years 2006 - 2020 is higher in Riverside than in Chittenden. \n",
    "\n",
    "Additionally, we can see that the mean percent of low birth weights is higher in Riverside than in Chittenden- a difference of more than 1%.\n",
    "\n",
    "This could suggest that prenatal exposure to air pollutants does contribute to low birth weight - although both counties have an average percentage of low birth weights that is lower than the national average of 8.7%, and the current dataset average of 6.7%."
   ]
  },
  {
   "cell_type": "markdown",
   "id": "6d3cea3b",
   "metadata": {},
   "source": [
    "As this is informative, similar comparison visualizations of the high rate of low birth weight cases (1) and not high rate of low birth rate cases (0) will be prepared below."
   ]
  },
  {
   "cell_type": "markdown",
   "id": "3eb28ad8",
   "metadata": {},
   "source": [
    "## Visualizations - High Rate versus non-High Rate of Low Birth Weight "
   ]
  },
  {
   "cell_type": "markdown",
   "id": "9fbcf01c",
   "metadata": {},
   "source": [
    "#### 1. Carbon Monoxide"
   ]
  },
  {
   "cell_type": "code",
   "execution_count": 88,
   "id": "2d6b52f3",
   "metadata": {},
   "outputs": [
    {
     "data": {
      "image/png": "[encoded data removed]",
      "text/plain": [
       "<Figure size 640x480 with 1 Axes>"
      ]
     },
     "metadata": {},
     "output_type": "display_data"
    }
   ],
   "source": [
    "sns.barplot(data= aqs, x='high_rate', y=aqs['Carbon monoxide']);"
   ]
  },
  {
   "cell_type": "markdown",
   "id": "31b064ad",
   "metadata": {},
   "source": [
    "#### 2. Nitrogen Dioxide"
   ]
  },
  {
   "cell_type": "code",
   "execution_count": 89,
   "id": "702641cc",
   "metadata": {},
   "outputs": [
    {
     "data": {
      "image/png": "[encoded data removed]",
      "text/plain": [
       "<Figure size 640x480 with 1 Axes>"
      ]
     },
     "metadata": {},
     "output_type": "display_data"
    }
   ],
   "source": [
    "sns.barplot(data= aqs, x='high_rate', y=chit_river['Nitrogen dioxide (NO2)']);"
   ]
  },
  {
   "cell_type": "markdown",
   "id": "6f5cc052",
   "metadata": {},
   "source": [
    "#### 3. Ozone"
   ]
  },
  {
   "cell_type": "code",
   "execution_count": 90,
   "id": "01ffd727",
   "metadata": {},
   "outputs": [
    {
     "data": {
      "image/png": "[encoded data removed]",
      "text/plain": [
       "<Figure size 640x480 with 1 Axes>"
      ]
     },
     "metadata": {},
     "output_type": "display_data"
    }
   ],
   "source": [
    "sns.barplot(data= aqs, x='high_rate', y=aqs['Ozone']);"
   ]
  },
  {
   "cell_type": "markdown",
   "id": "3f45c1f5",
   "metadata": {},
   "source": [
    "#### 4. PM10 Concentrations"
   ]
  },
  {
   "cell_type": "code",
   "execution_count": 91,
   "id": "d31cecee",
   "metadata": {},
   "outputs": [
    {
     "data": {
      "image/png": "[encoded data removed]",
      "text/plain": [
       "<Figure size 640x480 with 1 Axes>"
      ]
     },
     "metadata": {},
     "output_type": "display_data"
    }
   ],
   "source": [
    "sns.barplot(data= aqs, x='high_rate', y=chit_river['PM10 Total 0-10um STP']);"
   ]
  },
  {
   "cell_type": "markdown",
   "id": "9f9dbf9c",
   "metadata": {},
   "source": [
    "#### 5. PM 2.5 Concentrations"
   ]
  },
  {
   "cell_type": "code",
   "execution_count": 92,
   "id": "7b59bad6",
   "metadata": {},
   "outputs": [
    {
     "data": {
      "image/png": "[encoded data removed]",
      "text/plain": [
       "<Figure size 640x480 with 1 Axes>"
      ]
     },
     "metadata": {},
     "output_type": "display_data"
    }
   ],
   "source": [
    "sns.barplot(data= aqs, x='high_rate', y=aqs['PM2.5 - Local Conditions']);"
   ]
  },
  {
   "cell_type": "markdown",
   "id": "6bedb20d",
   "metadata": {},
   "source": [
    "#### 6. Pct Low Birth Weight"
   ]
  },
  {
   "cell_type": "code",
   "execution_count": 93,
   "id": "13438111",
   "metadata": {},
   "outputs": [
    {
     "data": {
      "image/png": "[encoded data removed]",
      "text/plain": [
       "<Figure size 640x480 with 1 Axes>"
      ]
     },
     "metadata": {},
     "output_type": "display_data"
    }
   ],
   "source": [
    "sns.barplot(data = aqs, x = 'high_rate', y='pct_low');"
   ]
  },
  {
   "cell_type": "code",
   "execution_count": 94,
   "id": "b52c3cf1",
   "metadata": {},
   "outputs": [
    {
     "data": {
      "text/plain": [
       "high_rate\n",
       "0    0.063405\n",
       "1    0.091146\n",
       "Name: pct_low, dtype: float64"
      ]
     },
     "execution_count": 94,
     "metadata": {},
     "output_type": "execute_result"
    }
   ],
   "source": [
    "aqs.groupby('high_rate')['pct_low'].mean()"
   ]
  },
  {
   "cell_type": "code",
   "execution_count": 97,
   "id": "de5fa86d",
   "metadata": {},
   "outputs": [
    {
     "data": {
      "text/plain": [
       "high_rate\n",
       "0    0.063\n",
       "1    0.090\n",
       "Name: pct_low, dtype: float64"
      ]
     },
     "execution_count": 97,
     "metadata": {},
     "output_type": "execute_result"
    }
   ],
   "source": [
    "aqs.groupby('high_rate')['pct_low'].median()"
   ]
  },
  {
   "cell_type": "code",
   "execution_count": 101,
   "id": "eadf61a2",
   "metadata": {},
   "outputs": [
    {
     "data": {
      "text/plain": [
       "0    0.878458\n",
       "1    0.121542\n",
       "Name: high_rate, dtype: float64"
      ]
     },
     "execution_count": 101,
     "metadata": {},
     "output_type": "execute_result"
    }
   ],
   "source": [
    "aqs.high_rate.value_counts(normalize = True)"
   ]
  },
  {
   "cell_type": "markdown",
   "id": "45d415c7",
   "metadata": {},
   "source": [
    "### Discussion"
   ]
  },
  {
   "cell_type": "markdown",
   "id": "7ed96df2",
   "metadata": {},
   "source": [
    "When comparing the high rate versus not high rate low birth weight groups, it appears that those with high rate (defined as > 8.7%) typically had lower or similar pollutant values than the not high rate group, which is not the anticipated finding.\n",
    "\n",
    "This may be due to the relatively wide variety of counties, years, and exposure levels that are within the not high rate group, as it comprises 87.8% of the dataset.\n",
    "\n",
    "Still, we may be able to create a model that effectively distinguishes between the two groups. This will occur in the next notebook."
   ]
  }
 ],
 "metadata": {
  "kernelspec": {
   "display_name": "Python 3 (ipykernel)",
   "language": "python",
   "name": "python3"
  },
  "language_info": {
   "codemirror_mode": {
    "name": "ipython",
    "version": 3
   },
   "file_extension": ".py",
   "mimetype": "text/x-python",
   "name": "python",
   "nbconvert_exporter": "python",
   "pygments_lexer": "ipython3",
   "version": "3.9.13"
  }
 },
 "nbformat": 4,
 "nbformat_minor": 5
}
